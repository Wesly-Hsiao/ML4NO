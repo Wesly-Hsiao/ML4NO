{
 "cells": [
  {
   "cell_type": "code",
   "execution_count": 1,
   "id": "a627fc59-e50a-4241-835e-3730691d87df",
   "metadata": {},
   "outputs": [
    {
     "name": "stdout",
     "output_type": "stream",
     "text": [
      "2 Physical GPUs, 1 Logical GPU\n"
     ]
    }
   ],
   "source": [
    "import tensorflow as tf\n",
    "import tensorflow_probability as tfp\n",
    "import numpy as np\n",
    "import matplotlib.pyplot as plt\n",
    "import corner\n",
    "import importlib\n",
    "import logging\n",
    "import os\n",
    "import keras.backend as K\n",
    "from functions import load_train_data, load_test_data\n",
    "\n",
    "os.environ['TF_CPP_MIN_LOG_LEVEL'] = '2'\n",
    "importlib.reload(logging)\n",
    "gpus = tf.config.experimental.list_physical_devices('GPU')\n",
    "try:\n",
    "    tf.config.experimental.set_visible_devices(gpus[1], 'GPU')\n",
    "    tf.config.experimental.set_virtual_device_configuration(gpus[1],\n",
    "    [tf.config.experimental.VirtualDeviceConfiguration(memory_limit=20000)])\n",
    "    logical_gpus = tf.config.experimental.list_logical_devices('GPU')\n",
    "    print(len(gpus), \"Physical GPUs,\", len(logical_gpus), \"Logical GPU\")\n",
    "except RuntimeError as e:\n",
    "    print(e)"
   ]
  },
  {
   "cell_type": "code",
   "execution_count": 2,
   "id": "00c501cd",
   "metadata": {},
   "outputs": [],
   "source": [
    "#3flavor_poisson, nsi_poisson\n",
    "learn_target = 'nsi_poisson'\n",
    "\n",
    "x_train, y_train, x_val, y_val = load_train_data(learn_target)"
   ]
  },
  {
   "cell_type": "code",
   "execution_count": 3,
   "id": "0e963d2b",
   "metadata": {},
   "outputs": [],
   "source": [
    "def prior(kernel_size, bias_size, dtype=None):\n",
    "    n = kernel_size + bias_size\n",
    "    prior_model = tf.keras.Sequential([\n",
    "            tfp.layers.DistributionLambda(\n",
    "                lambda t: tfp.distributions.MultivariateNormalDiag(\n",
    "                    loc=tf.zeros(n), scale_diag=tf.ones(n)))])\n",
    "    return prior_model\n",
    "\n",
    "def posterior(kernel_size, bias_size, dtype=None):\n",
    "    n = kernel_size + bias_size\n",
    "    posterior_model = tf.keras.Sequential([\n",
    "            tfp.layers.VariableLayer(\n",
    "                tfp.layers.MultivariateNormalTriL.params_size(n), dtype=dtype\n",
    "            ), tfp.layers.MultivariateNormalTriL(n),])\n",
    "    return posterior_model"
   ]
  },
  {
   "cell_type": "code",
   "execution_count": 4,
   "id": "c7604c51",
   "metadata": {},
   "outputs": [],
   "source": [
    "def create_bnn_model(train_size):\n",
    "    inputs = tf.keras.Input(shape=(len(x_train[0]),), name = 'input')\n",
    "    features = tf.keras.layers.BatchNormalization()(inputs)\n",
    "    features = tf.keras.layers.Dense(256, activation='relu')(features)\n",
    "    features = tf.keras.layers.Dense(128, activation='relu')(features)\n",
    "\n",
    "    for units in [32]:\n",
    "        features = tfp.layers.DenseVariational(\n",
    "            units=units,\n",
    "            make_prior_fn=prior,\n",
    "            make_posterior_fn=posterior,\n",
    "            kl_weight=1 / train_size,\n",
    "            activation=\"sigmoid\",\n",
    "        )(features)\n",
    "    features = tf.keras.layers.Dense(16, activation='relu')(features)\n",
    "    features = tf.keras.layers.Dense(len(y_train[0]), activation='linear')(features)\n",
    "    outputs = features\n",
    "    model = tf.keras.Model(inputs=inputs, outputs=outputs)\n",
    "    return model\n",
    "\n",
    "alpha = np.array([1, 20, 1, 1]) if '3flavor' in learn_target else np.array([1, 20, 1, 1, 1, 1, 1])\n",
    "alpha = alpha/sum(alpha)\n",
    "\n",
    "def custom_mse(y_true, y_pred):\n",
    "    loss = K.square(y_pred - y_true)  \n",
    "    loss = loss * alpha      \n",
    "    loss = K.sum(loss, axis=1)        \n",
    "    return loss"
   ]
  },
  {
   "cell_type": "code",
   "execution_count": 5,
   "id": "677c786e",
   "metadata": {},
   "outputs": [
    {
     "name": "stdout",
     "output_type": "stream",
     "text": [
      "WARNING:tensorflow:From /usr/local/lib/python3.8/dist-packages/tensorflow_probability/python/distributions/distribution.py:342: calling MultivariateNormalDiag.__init__ (from tensorflow_probability.python.distributions.mvn_diag) with scale_identity_multiplier is deprecated and will be removed after 2020-01-01.\n",
      "Instructions for updating:\n",
      "`scale_identity_multiplier` is deprecated; please combine it into `scale_diag` directly instead.\n"
     ]
    }
   ],
   "source": [
    "bnn = create_bnn_model(len(x_train))\n",
    "bnn.compile(\n",
    "    optimizer=tf.keras.optimizers.Adam(),\n",
    "    loss=tf.keras.losses.MeanSquaredError(),\n",
    "    metrics=[tf.keras.metrics.MeanSquaredError()],\n",
    ")\n",
    "\n",
    "if learn_target == '3flavor_poisson': bnn.load_weights('./bnn/' + learn_target + '/weight_1.h5')\n",
    "else: bnn.load_weights('./bnn/' + learn_target + '/weight_1.h5')"
   ]
  },
  {
   "cell_type": "code",
   "execution_count": 6,
   "id": "c1f0756c",
   "metadata": {},
   "outputs": [],
   "source": [
    "data_index = 1\n",
    "data_all = load_test_data(learn_target, data_index)"
   ]
  },
  {
   "cell_type": "code",
   "execution_count": 7,
   "id": "769ebccc",
   "metadata": {},
   "outputs": [],
   "source": [
    "sample_amount = 100000\n",
    "\n",
    "if '3flavor' in learn_target:\n",
    "    prediction_NO = np.array([bnn.predict(data_all[:1, :])[0] for _ in range(sample_amount)])\n",
    "    prediction_IO = np.array([bnn.predict(data_all[1:2, :])[0] for _ in range(sample_amount)])\n",
    "    np.savez('contour/' + learn_target + '_NO/bnn.npz', prediction_NO)\n",
    "    np.savez('contour/' + learn_target + '_IO/bnn.npz', prediction_IO)\n",
    "else:\n",
    "    prediction = np.array([bnn.predict(data_all[:1, :])[0] for _ in range(sample_amount)])\n",
    "    np.savez('contour/' + learn_target +  '_{}/bnn.npz'.format(data_index), prediction)"
   ]
  },
  {
   "cell_type": "code",
   "execution_count": null,
   "id": "da6278f4",
   "metadata": {},
   "outputs": [],
   "source": []
  }
 ],
 "metadata": {
  "kernelspec": {
   "display_name": "Python 3.8.10 64-bit",
   "language": "python",
   "name": "python3"
  },
  "language_info": {
   "codemirror_mode": {
    "name": "ipython",
    "version": 3
   },
   "file_extension": ".py",
   "mimetype": "text/x-python",
   "name": "python",
   "nbconvert_exporter": "python",
   "pygments_lexer": "ipython3",
   "version": "3.8.10"
  },
  "vscode": {
   "interpreter": {
    "hash": "916dbcbb3f70747c44a77c7bcd40155683ae19c65e1c03b4aa3499c5328201f1"
   }
  }
 },
 "nbformat": 4,
 "nbformat_minor": 5
}
