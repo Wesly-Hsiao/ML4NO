{
 "cells": [
  {
   "cell_type": "code",
   "execution_count": 3,
   "id": "a627fc59-e50a-4241-835e-3730691d87df",
   "metadata": {},
   "outputs": [
    {
     "name": "stdout",
     "output_type": "stream",
     "text": [
      "2 Physical GPUs, 1 Logical GPU\n"
     ]
    }
   ],
   "source": [
    "import tensorflow as tf\n",
    "import tensorflow_probability as tfp\n",
    "import numpy as np\n",
    "import matplotlib.pyplot as plt\n",
    "import corner\n",
    "import importlib\n",
    "import logging\n",
    "import os\n",
    "from tqdm import tqdm\n",
    "import keras.backend as K\n",
    "from functions import load_data, chi2_graph\n",
    "\n",
    "os.environ['TF_CPP_MIN_LOG_LEVEL'] = '2'\n",
    "importlib.reload(logging)\n",
    "gpus = tf.config.experimental.list_physical_devices('GPU')\n",
    "try:\n",
    "    tf.config.experimental.set_visible_devices(gpus[1], 'GPU')\n",
    "    tf.config.experimental.set_virtual_device_configuration(gpus[1],\n",
    "    [tf.config.experimental.VirtualDeviceConfiguration(memory_limit=2000)])\n",
    "    logical_gpus = tf.config.experimental.list_logical_devices('GPU')\n",
    "    print(len(gpus), \"Physical GPUs,\", len(logical_gpus), \"Logical GPU\")\n",
    "except RuntimeError as e:\n",
    "    print(e)"
   ]
  },
  {
   "cell_type": "code",
   "execution_count": 4,
   "id": "6457310d",
   "metadata": {},
   "outputs": [],
   "source": [
    "split = 900000\n",
    "x_train, y_train, x_val, y_val = load_data()"
   ]
  },
  {
   "cell_type": "code",
   "execution_count": 5,
   "id": "0e963d2b",
   "metadata": {},
   "outputs": [],
   "source": [
    "def prior(kernel_size, bias_size, dtype=None):\n",
    "    n = kernel_size + bias_size\n",
    "    prior_model = tf.keras.Sequential([\n",
    "            tfp.layers.DistributionLambda(\n",
    "                lambda t: tfp.distributions.MultivariateNormalDiag(\n",
    "                    loc=tf.zeros(n), scale_diag=tf.ones(n)))])\n",
    "    return prior_model\n",
    "\n",
    "def posterior(kernel_size, bias_size, dtype=None):\n",
    "    n = kernel_size + bias_size\n",
    "    posterior_model = tf.keras.Sequential([\n",
    "            tfp.layers.VariableLayer(\n",
    "                tfp.layers.MultivariateNormalTriL.params_size(n), dtype=dtype\n",
    "            ), tfp.layers.MultivariateNormalTriL(n),])\n",
    "    return posterior_model"
   ]
  },
  {
   "cell_type": "code",
   "execution_count": 6,
   "id": "c7604c51",
   "metadata": {},
   "outputs": [],
   "source": [
    "def create_bnn_model(train_size):\n",
    "    inputs = tf.keras.Input(shape=(len(x_train[0]),), name = 'input')\n",
    "    features = tf.keras.layers.BatchNormalization()(inputs)\n",
    "    features = tf.keras.layers.Dense(256, activation='relu')(features)\n",
    "    features = tf.keras.layers.Dense(128, activation='relu')(features)\n",
    "\n",
    "    for units in [32]:\n",
    "        features = tfp.layers.DenseVariational(\n",
    "            units=units,\n",
    "            make_prior_fn=prior,\n",
    "            make_posterior_fn=posterior,\n",
    "            kl_weight=1 / train_size,\n",
    "            activation=\"sigmoid\",\n",
    "        )(features)\n",
    "    features = tf.keras.layers.Dense(16, activation='relu')(features)\n",
    "    features = tf.keras.layers.Dense(4, activation='linear')(features)\n",
    "    outputs = features\n",
    "    model = tf.keras.Model(inputs=inputs, outputs=outputs)\n",
    "    return model\n",
    "\n",
    "alpha = np.array([1, 20, 1, 1])\n",
    "alpha = alpha/sum(alpha)\n",
    "\n",
    "def custom_mse(y_true, y_pred):\n",
    "    loss = K.square(y_pred - y_true)  \n",
    "    loss = loss * alpha      \n",
    "    loss = K.sum(loss, axis=1)        \n",
    "    return loss"
   ]
  },
  {
   "cell_type": "code",
   "execution_count": 8,
   "id": "677c786e",
   "metadata": {},
   "outputs": [
    {
     "name": "stdout",
     "output_type": "stream",
     "text": [
      "WARNING:tensorflow:From /usr/local/lib/python3.8/dist-packages/tensorflow_probability/python/distributions/distribution.py:342: calling MultivariateNormalDiag.__init__ (from tensorflow_probability.python.distributions.mvn_diag) with scale_identity_multiplier is deprecated and will be removed after 2020-01-01.\n",
      "Instructions for updating:\n",
      "`scale_identity_multiplier` is deprecated; please combine it into `scale_diag` directly instead.\n"
     ]
    }
   ],
   "source": [
    "bnn = create_bnn_model(len(x_train))\n",
    "bnn.compile(\n",
    "    optimizer=tf.keras.optimizers.Adam(),\n",
    "    loss=tf.keras.losses.MeanSquaredError(),\n",
    "    metrics=[tf.keras.metrics.MeanSquaredError()],\n",
    ")\n",
    "bnn.load_weights('./bnn/weight_3.h5')"
   ]
  },
  {
   "cell_type": "code",
   "execution_count": 9,
   "id": "c1f0756c",
   "metadata": {},
   "outputs": [],
   "source": [
    "data = np.load('../../Data/sample_NuFit0911.npz')\n",
    "data_all = np.column_stack([data['ve_dune'][:,:36], data['vu_dune'][:,:36], data['vebar_dune'][:,:36], data['vubar_dune'][:,:36]])"
   ]
  },
  {
   "cell_type": "code",
   "execution_count": 20,
   "id": "769ebccc",
   "metadata": {},
   "outputs": [],
   "source": [
    "sample_amount = 100000\n",
    "prediction_IO = np.array([bnn.predict(data_all[:1, :])[0] for _ in range(sample_amount)])\n",
    "prediction_NO = np.array([bnn.predict(data_all[1:2, :])[0] for _ in range(sample_amount)])"
   ]
  },
  {
   "cell_type": "code",
   "execution_count": null,
   "id": "b0139b36",
   "metadata": {},
   "outputs": [],
   "source": [
    "# np.savez('./contour_IO/bnn.npz', prediction_IO)\n",
    "# np.savez('./contour_NO/bnn.npz', prediction_NO)"
   ]
  },
  {
   "cell_type": "code",
   "execution_count": null,
   "id": "4cf9f379",
   "metadata": {},
   "outputs": [],
   "source": [
    "x, y, X, Y, Z = chi2_graph()"
   ]
  },
  {
   "cell_type": "code",
   "execution_count": null,
   "id": "30481e17",
   "metadata": {},
   "outputs": [],
   "source": [
    "range = [[46,52], [175, 225]]\n",
    "angle = np.angle(prediction_IO[:, 2] + 1j*prediction_IO[:, 3], deg=True)\n",
    "angle = np.where(angle > 0 , angle, angle+360)\n",
    "\n",
    "fig, ax = plt.subplots(1,1, figsize=(15,15))\n",
    "plot_axis = plt.subplot(2,2,1)\n",
    "plot_axis.hist(prediction_IO[:, 1]*180/np.pi,density=1,bins=x)\n",
    "\n",
    "plot_axis = plt.subplot(2,2,4)\n",
    "\n",
    "plot_axis.hist(angle,orientation=\"horizontal\",density=1, bins=y)\n",
    "\n",
    "plot_axis = plt.subplot(2,2,3)\n",
    "plot_axis.set_title('One sigma contour')\n",
    "DUT2 = plot_axis.contour(X, Y, Z, 0, colors='blue', linestyles=\"-\", linewidths=1)\n",
    "corner.hist2d(prediction_IO[:, 1]*180/np.pi, angle,\n",
    "                    levels=(0.68,),\n",
    "                    scale_hist=True,\n",
    "                    plot_datapoints=False,\n",
    "                    color='green',\n",
    "                    labels= [\"$\\\\theta_{23} $($^\\circ$)\", \"$\\delta_{cp} $($^\\circ$)\"],\n",
    "                    range=range,\n",
    "                    plot_contours = True,\n",
    "                    plot_density = False,\n",
    "                    fontsize=30,\n",
    "                    bins = [200, 200],\n",
    "                    label_kwargs={\"fontsize\": 30},\n",
    "                    smooth=True\n",
    "                   )\n",
    "plt.scatter(data['theta23'][0], data['delta'][0])\n",
    "plot_axis.set_xlabel(r'$\\theta_{23} $', fontsize=20)\n",
    "plot_axis.set_ylabel(r'$\\delta_{cp} $', fontsize=20)\n",
    "proxy = [plt.Rectangle((2, 2), 0.0, 3, 90, fc=c) for c in ['blue', 'green']]\n",
    "plt.legend(proxy, [\"chi square\", \"ML\"])\n",
    "plt.show()"
   ]
  },
  {
   "cell_type": "code",
   "execution_count": null,
   "id": "226e1b37",
   "metadata": {},
   "outputs": [],
   "source": []
  }
 ],
 "metadata": {
  "kernelspec": {
   "display_name": "Python 3.8.10 64-bit",
   "language": "python",
   "name": "python3"
  },
  "language_info": {
   "codemirror_mode": {
    "name": "ipython",
    "version": 3
   },
   "file_extension": ".py",
   "mimetype": "text/x-python",
   "name": "python",
   "nbconvert_exporter": "python",
   "pygments_lexer": "ipython3",
   "version": "3.8.10"
  },
  "vscode": {
   "interpreter": {
    "hash": "916dbcbb3f70747c44a77c7bcd40155683ae19c65e1c03b4aa3499c5328201f1"
   }
  }
 },
 "nbformat": 4,
 "nbformat_minor": 5
}
