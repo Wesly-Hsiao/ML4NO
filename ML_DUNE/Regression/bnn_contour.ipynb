{
 "cells": [
  {
   "cell_type": "code",
   "execution_count": 1,
   "id": "a627fc59-e50a-4241-835e-3730691d87df",
   "metadata": {},
   "outputs": [
    {
     "name": "stdout",
     "output_type": "stream",
     "text": [
      "2 Physical GPUs, 1 Logical GPU\n"
     ]
    }
   ],
   "source": [
    "import tensorflow as tf\n",
    "import tensorflow_probability as tfp\n",
    "import numpy as np\n",
    "import matplotlib.pyplot as plt\n",
    "import corner\n",
    "import importlib\n",
    "import logging\n",
    "import os\n",
    "from tqdm import tqdm\n",
    "\n",
    "os.environ['TF_CPP_MIN_LOG_LEVEL'] = '2'\n",
    "\n",
    "importlib.reload(logging)\n",
    "\n",
    "# limit GPU memory\n",
    "gpus = tf.config.experimental.list_physical_devices('GPU')\n",
    "try:\n",
    "    tf.config.experimental.set_visible_devices(gpus[1], 'GPU')\n",
    "    tf.config.experimental.set_virtual_device_configuration(gpus[1],\n",
    "    [tf.config.experimental.VirtualDeviceConfiguration(memory_limit=2000)])\n",
    "    logical_gpus = tf.config.experimental.list_logical_devices('GPU')\n",
    "    print(len(gpus), \"Physical GPUs,\", len(logical_gpus), \"Logical GPU\")\n",
    "except RuntimeError as e:\n",
    "# Visible devices must be set before GPUs have been initialized\n",
    "    print(e)"
   ]
  },
  {
   "cell_type": "code",
   "execution_count": 2,
   "id": "fc76d2d8",
   "metadata": {},
   "outputs": [],
   "source": [
    "data = np.load('../../Data/sample_NuFit0911.npz')\n",
    "data_all = np.column_stack([data['ve_dune'][:,:36], data['vu_dune'][:,:36], data['vebar_dune'][:,:36], data['vubar_dune'][:,:36]])"
   ]
  },
  {
   "cell_type": "code",
   "execution_count": 3,
   "id": "af31ae6a",
   "metadata": {},
   "outputs": [],
   "source": [
    "training_data = np.load(\"../../Data/n1000000_0910_all_flat.npz\")\n",
    "data_all = np.column_stack([training_data['ve_dune'][:,:36], training_data['vu_dune'][:,:36], training_data['vebar_dune'][:,:36], training_data['vubar_dune'][:,:36]])\n",
    "\n",
    "# theta13, theta23, delta\n",
    "target = np.column_stack([training_data[\"theta13\"]/180*np.pi, training_data[\"theta23\"]/180*np.pi,\n",
    "                         training_data[\"delta\"]/180*np.pi])\n",
    "\n",
    "split = 900000\n",
    "x_train = data_all[:split]\n",
    "y_train = target[:split]\n",
    "x_train_poisson = np.random.poisson(x_train)/1000\n",
    "\n",
    "x_val = data_all[split:]\n",
    "y_val = target[split:]\n",
    "x_val_poisson = np.random.poisson(x_val)/1000"
   ]
  },
  {
   "cell_type": "code",
   "execution_count": 4,
   "id": "0e963d2b",
   "metadata": {},
   "outputs": [],
   "source": [
    "def prior(kernel_size, bias_size, dtype=None):\n",
    "    n = kernel_size + bias_size\n",
    "    prior_model = tf.keras.Sequential([\n",
    "            tfp.layers.DistributionLambda(\n",
    "                lambda t: tfp.distributions.MultivariateNormalDiag(\n",
    "                    loc=tf.zeros(n), scale_diag=tf.ones(n)))])\n",
    "    return prior_model\n",
    "\n",
    "def posterior(kernel_size, bias_size, dtype=None):\n",
    "    n = kernel_size + bias_size\n",
    "    posterior_model = tf.keras.Sequential([\n",
    "            tfp.layers.VariableLayer(\n",
    "                tfp.layers.MultivariateNormalTriL.params_size(n), dtype=dtype\n",
    "            ), tfp.layers.MultivariateNormalTriL(n),])\n",
    "    return posterior_model"
   ]
  },
  {
   "cell_type": "code",
   "execution_count": 5,
   "id": "2cc7b379",
   "metadata": {},
   "outputs": [],
   "source": [
    "hidden_units = [32, 16]\n",
    "learning_rate = 0.001"
   ]
  },
  {
   "cell_type": "code",
   "execution_count": 54,
   "id": "c7604c51",
   "metadata": {},
   "outputs": [],
   "source": [
    "def create_bnn_model(train_size):\n",
    "    inputs = tf.keras.Input(shape=(len(x_train[0]),), name = 'input')\n",
    "    features = tf.keras.layers.BatchNormalization()(inputs)\n",
    "    features = tf.keras.layers.Dense(128, activation='relu')(features)\n",
    "    features = tf.keras.layers.Dense(64, activation='relu')(features)\n",
    "    for units in hidden_units:\n",
    "        features = tfp.layers.DenseVariational(\n",
    "            units=units,\n",
    "            make_prior_fn=prior,\n",
    "            make_posterior_fn=posterior,\n",
    "            kl_weight=1 / train_size,\n",
    "            activation=\"relu\",\n",
    "        )(features)\n",
    "    features = tf.keras.layers.Dense(8, activation='relu')(features)\n",
    "    outputs = tf.keras.layers.Dense(2)(features)\n",
    "    model = tf.keras.Model(inputs=inputs, outputs=outputs)\n",
    "    return model"
   ]
  },
  {
   "cell_type": "code",
   "execution_count": 61,
   "id": "677c786e",
   "metadata": {},
   "outputs": [],
   "source": [
    "bnn = create_bnn_model(split)\n",
    "bnn.compile(\n",
    "    optimizer=tf.keras.optimizers.Adam(),\n",
    "    loss=tf.keras.losses.MeanSquaredError(),\n",
    "    metrics=[tf.keras.metrics.MeanSquaredError()],\n",
    ")\n",
    "bnn.load_weights('./bnn/weight_10.h5')"
   ]
  },
  {
   "cell_type": "code",
   "execution_count": 62,
   "id": "c1f0756c",
   "metadata": {},
   "outputs": [
    {
     "name": "stderr",
     "output_type": "stream",
     "text": [
      "100%|██████████| 100/100 [00:05<00:00, 16.99it/s]\n"
     ]
    }
   ],
   "source": [
    "result = []\n",
    "for _ in tqdm(np.arange(100)):\n",
    "    result.append(bnn.predict(data_all[:1, :])[0])\n",
    "result = np.array(result)"
   ]
  },
  {
   "cell_type": "code",
   "execution_count": 63,
   "id": "2f3f5447",
   "metadata": {},
   "outputs": [
    {
     "data": {
      "text/plain": [
       "<matplotlib.collections.PathCollection at 0x7f94f8679a60>"
      ]
     },
     "execution_count": 63,
     "metadata": {},
     "output_type": "execute_result"
    },
    {
     "data": {
      "image/png": "[encoded data removed]",
      "text/plain": [
       "<Figure size 432x288 with 1 Axes>"
      ]
     },
     "metadata": {
      "needs_background": "light"
     },
     "output_type": "display_data"
    }
   ],
   "source": [
    "plt.scatter(result[:, 0]*180/np.pi, result[:, 1]*180/np.pi)"
   ]
  },
  {
   "cell_type": "code",
   "execution_count": 14,
   "id": "21099862",
   "metadata": {},
   "outputs": [],
   "source": [
    "N_DUNE, N_T2HK, N_DUT2 = 92, 36, 96\n",
    "theta23_DUNE, delta_cp_DUNE, chi_DUNE = [], [], []\n",
    "theta23_T2HK, delta_cp_T2HK, chi_T2HK = [], [], []\n",
    "theta23_DUT2, delta_cp_DUT2, chi_DUT2 = [], [], []"
   ]
  },
  {
   "cell_type": "code",
   "execution_count": 15,
   "id": "4cf9f379",
   "metadata": {},
   "outputs": [],
   "source": [
    "f_DUNE = open(\"../../Data/chi_square-4-2_figB_DUNE.txt\")\n",
    "for i in range(N_DUNE):\n",
    "    s = f_DUNE.readline().split()\n",
    "    array = []\n",
    "    for j in range(len(s)) :\n",
    "        array.append(float(s[j])) \n",
    "    theta23_DUNE.append(array[0])\n",
    "    delta_cp_DUNE.append(array[1]) \n",
    "    chi_DUNE.append(array[2])\n",
    "f_DUNE.close()"
   ]
  },
  {
   "cell_type": "code",
   "execution_count": 16,
   "id": "24fa37c5",
   "metadata": {},
   "outputs": [],
   "source": [
    "theta23_DUNE = np.array(theta23_DUNE)\n",
    "delta_cp_DUNE = np.array(delta_cp_DUNE)\n",
    "chi_DUNE = np.array(chi_DUNE)"
   ]
  },
  {
   "cell_type": "code",
   "execution_count": 17,
   "id": "65be27b2",
   "metadata": {},
   "outputs": [],
   "source": [
    "x0 = np.linspace(min(theta23_DUNE)-3, max(theta23_DUNE)+3, 68)\n",
    "y0 = np.linspace(min(delta_cp_DUNE)-6, max(delta_cp_DUNE)+6, 20)\n",
    "X0, Y0 = np.meshgrid(x0, y0)\n",
    "Z0 = np.zeros((len(X0),len(X0[0])))\n",
    "\n",
    "for i in range(len(theta23_DUNE)):\n",
    "    a = np.where(X0 == theta23_DUNE[i])[1][0]\n",
    "    b = np.where(Y0 == delta_cp_DUNE[i])[0][0]\n",
    "    Z0[b][a] = 1"
   ]
  },
  {
   "cell_type": "code",
   "execution_count": 18,
   "id": "30481e17",
   "metadata": {},
   "outputs": [
    {
     "name": "stderr",
     "output_type": "stream",
     "text": [
      "/usr/local/lib/python3.8/dist-packages/numpy/lib/histograms.py:906: RuntimeWarning: invalid value encountered in true_divide\n",
      "  return n/db/n.sum(), bin_edges\n",
      "/tmp/ipykernel_3766767/1776730117.py:12: UserWarning: No contour levels were found within the data range.\n",
      "  DUT2 = plot_axis.contour(X0, Y0, Z0, 0, colors='blue', linestyles=\"-\", linewidths=1)\n"
     ]
    },
    {
     "data": {
      "image/png": "[encoded data removed]",
      "text/plain": [
       "<Figure size 1080x1080 with 3 Axes>"
      ]
     },
     "metadata": {
      "needs_background": "light"
     },
     "output_type": "display_data"
    }
   ],
   "source": [
    "range = [[40,54], [50, 240]]\n",
    "fig, ax = plt.subplots(1,1, figsize=(15,15))\n",
    "plot_axis = plt.subplot(2,2,1)\n",
    "plot_axis.hist(result[:, 1]*180/np.pi,density=1,bins=x0)\n",
    "\n",
    "plot_axis = plt.subplot(2,2,4)\n",
    "\n",
    "plot_axis.hist(result[:, 2]*180/np.pi,orientation=\"horizontal\",density=1, bins=y0)\n",
    "\n",
    "plot_axis = plt.subplot(2,2,3)\n",
    "plot_axis.set_title('One sigma contour')\n",
    "DUT2 = plot_axis.contour(X0, Y0, Z0, 0, colors='blue', linestyles=\"-\", linewidths=1)\n",
    "corner.hist2d(result[:, 1]*180/np.pi, result[:, 2]*180/np.pi,\n",
    "                    levels=(0.68,),\n",
    "                    scale_hist=True,\n",
    "                    plot_datapoints=False,\n",
    "                    color='green',\n",
    "                    labels= [\"$\\\\theta_{23} $($^\\circ$)\", \"$\\delta_{cp} $($^\\circ$)\"],\n",
    "                    range=range,\n",
    "                    plot_contours = True,\n",
    "                    plot_density = False,\n",
    "                    fontsize=30,\n",
    "                    bins = [200, 200],\n",
    "                    label_kwargs={\"fontsize\": 30},\n",
    "                    smooth=True\n",
    "                   )\n",
    "plt.scatter(data['theta23'][0], data['delta'][0])\n",
    "plot_axis.set_xlabel(r'$\\theta_{23} $', fontsize=20)\n",
    "plot_axis.set_ylabel(r'$\\delta_{cp} $', fontsize=20)\n",
    "proxy = [plt.Rectangle((2, 2), 0.0, 3, 90, fc=c) for c in ['blue', 'green']]\n",
    "plt.legend(proxy, [\"chi square\", \"ML\"])\n",
    "plt.show()"
   ]
  },
  {
   "cell_type": "code",
   "execution_count": null,
   "id": "226e1b37",
   "metadata": {},
   "outputs": [],
   "source": []
  }
 ],
 "metadata": {
  "interpreter": {
   "hash": "916dbcbb3f70747c44a77c7bcd40155683ae19c65e1c03b4aa3499c5328201f1"
  },
  "kernelspec": {
   "display_name": "Python 3.8.10 64-bit",
   "language": "python",
   "name": "python3"
  },
  "language_info": {
   "codemirror_mode": {
    "name": "ipython",
    "version": 3
   },
   "file_extension": ".py",
   "mimetype": "text/x-python",
   "name": "python",
   "nbconvert_exporter": "python",
   "pygments_lexer": "ipython3",
   "version": "3.8.10"
  },
  "vscode": {
   "interpreter": {
    "hash": "916dbcbb3f70747c44a77c7bcd40155683ae19c65e1c03b4aa3499c5328201f1"
   }
  }
 },
 "nbformat": 4,
 "nbformat_minor": 5
}
