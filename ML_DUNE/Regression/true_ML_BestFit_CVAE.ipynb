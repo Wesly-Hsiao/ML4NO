{
 "cells": [
  {
   "cell_type": "code",
   "execution_count": 230,
   "id": "81db2075-3926-491a-9c7c-6e4594fc083c",
   "metadata": {},
   "outputs": [
    {
     "name": "stdout",
     "output_type": "stream",
     "text": [
      "2 Physical GPUs, 1 Logical GPU\n"
     ]
    }
   ],
   "source": [
    "import tensorflow as tf\n",
    "from tensorflow.keras.models import load_model\n",
    "import tensorflow_probability as tfp\n",
    "from scipy.interpolate import RectBivariateSpline\n",
    "import numpy as np\n",
    "import matplotlib.pyplot as plt\n",
    "import corner\n",
    "import importlib\n",
    "import logging\n",
    "from tensorflow import keras\n",
    "import os\n",
    "from bisect import bisect\n",
    "\n",
    "os.environ['TF_CPP_MIN_LOG_LEVEL'] = '2'\n",
    "\n",
    "importlib.reload(logging)\n",
    "\n",
    "# limit GPU memory\n",
    "gpus = tf.config.experimental.list_physical_devices('GPU')\n",
    "try:\n",
    "    tf.config.experimental.set_visible_devices(gpus[1], 'GPU')\n",
    "    tf.config.experimental.set_virtual_device_configuration(gpus[1],\n",
    "    [tf.config.experimental.VirtualDeviceConfiguration(memory_limit=2000)])\n",
    "    logical_gpus = tf.config.experimental.list_logical_devices('GPU')\n",
    "    print(len(gpus), \"Physical GPUs,\", len(logical_gpus), \"Logical GPU\")\n",
    "except RuntimeError as e:\n",
    "# Visible devices must be set before GPUs have been initialized\n",
    "    print(e)"
   ]
  },
  {
   "cell_type": "code",
   "execution_count": 231,
   "id": "58ed5344-2e8f-4e2c-b1fa-23ab57a76614",
   "metadata": {},
   "outputs": [],
   "source": [
    "gaussian_number = 10\n",
    "latent_dim = 10"
   ]
  },
  {
   "cell_type": "code",
   "execution_count": 232,
   "id": "a30577eb",
   "metadata": {},
   "outputs": [],
   "source": [
    "model_name = 'test/5'\n",
    "path = './CVAE/{}/'.format(model_name)\n",
    "encoder1 = load_model(path + \"encoder_1.h5\", compile=False)\n",
    "encoder2 = load_model(path + \"encoder_2.h5\", compile=False)\n",
    "decoder = load_model(path + \"decoder.h5\", compile=False)"
   ]
  },
  {
   "cell_type": "code",
   "execution_count": 233,
   "id": "b014d62e-9b37-4cc3-85bd-73b0c1611362",
   "metadata": {},
   "outputs": [],
   "source": [
    "data = np.load('../../Data/best_fit_spectrum_DUNE.npz')\n",
    "data_all = np.column_stack([data['ve_dune_poisson'][:,:36], data['vu_dune_poisson'][:,:36],\n",
    "                            data['vebar_dune_poisson'][:,:36], data['vubar_dune_poisson'][:,:36]])\n",
    "true_theta23 = data['theta23_true']\n",
    "true_delta = data['delta_true']\n",
    "fit_theta23 = data['theta23_fit']\n",
    "fit_delta = data['delta_fit']"
   ]
  },
  {
   "cell_type": "code",
   "execution_count": 234,
   "id": "4e8baff1",
   "metadata": {},
   "outputs": [],
   "source": [
    "n = 5\n",
    "data_poisson_array = data_all[n:n+1]/1000\n",
    "\n",
    "mean, log_var, weight = encoder2.predict(data_poisson_array)\n",
    "\n",
    "mean = tf.reshape(mean, (-1, gaussian_number, latent_dim))\n",
    "log_var = tf.reshape(log_var, (-1, gaussian_number, latent_dim))\n",
    "weight = tf.reshape(weight, (-1, gaussian_number))\n",
    "\n",
    "SMALL_CONSTANT = 1e-12\n",
    "temp_var = SMALL_CONSTANT + tf.exp(log_var)\n",
    "test_sampling = tfp.distributions.MixtureSameFamily(\n",
    "              mixture_distribution=tfp.distributions.Categorical(logits=weight),\n",
    "              components_distribution=tfp.distributions.MultivariateNormalDiag(\n",
    "              loc=mean,\n",
    "              scale_diag=tf.sqrt(temp_var)))\n",
    "\n",
    "sample_amount= 10000\n",
    "sample_times = 10\n",
    "mean = []\n",
    "prediction = []\n",
    "for i in range(sample_times):\n",
    "    Z3 = np.reshape(test_sampling.sample(sample_shape=(sample_amount)), (sample_amount, latent_dim))\n",
    "    reconstruction_mean, reconstruction_var = decoder.predict([Z3, np.array(([data_poisson_array[0]]*sample_amount))])\n",
    "    mean.extend(reconstruction_mean)\n",
    "    temp_var = SMALL_CONSTANT + tf.exp(reconstruction_var)\n",
    "    reconstruction_parameter = tfp.distributions.MultivariateNormalDiag(\n",
    "                            loc=reconstruction_mean,\n",
    "                            scale_diag=temp_var)\n",
    "    prediction.extend(reconstruction_parameter.sample().numpy())\n",
    "\n",
    "mean = np.array(mean)*180/np.pi\n",
    "prediction = np.array(prediction)*180/np.pi\n"
   ]
  },
  {
   "cell_type": "markdown",
   "id": "2c97b1e6",
   "metadata": {},
   "source": [
    "Mean"
   ]
  },
  {
   "cell_type": "code",
   "execution_count": 235,
   "id": "93b6a2cf",
   "metadata": {},
   "outputs": [
    {
     "data": {
      "image/png": "[encoded data removed]",
      "text/plain": [
       "<Figure size 576x576 with 1 Axes>"
      ]
     },
     "metadata": {
      "needs_background": "light"
     },
     "output_type": "display_data"
    }
   ],
   "source": [
    "fig = plt.figure(figsize=(8,8))\n",
    "corner.hist2d(mean[:, 1], mean[:, 2],\n",
    "            levels=([0.68, 0.95]),\n",
    "            scale_hist=True,\n",
    "            plot_datapoints=False,\n",
    "            color='green',\n",
    "            labels= [\"$\\\\theta_{23} $($^\\circ$)\", \"$\\delta_{cp} $($^\\circ$)\"],\n",
    "            range=[[0,90], [0, 360]],\n",
    "            plot_contours = True,\n",
    "            plot_density = False,\n",
    "            fontsize=30,\n",
    "            bins = [100, 100],\n",
    "            label_kwargs={\"fontsize\": 30},\n",
    "            smooth=True\n",
    "            )\n",
    "plt.scatter(true_theta23[n]*180/np.pi, true_delta[n], label='true')\n",
    "plt.scatter(fit_theta23[n]*180/np.pi, fit_delta[n], label='best fit')\n",
    "plt.legend()\n",
    "plt.show()"
   ]
  },
  {
   "cell_type": "code",
   "execution_count": 236,
   "id": "fd48c13e",
   "metadata": {},
   "outputs": [
    {
     "name": "stdout",
     "output_type": "stream",
     "text": [
      "Maximum: theta23 [24.78366453], delta [17.41729243] \n"
     ]
    }
   ],
   "source": [
    "bins_theta23 = np.linspace(min(mean[:, 1]), max(mean[:, 1]), 100)\n",
    "bins_delta = np.linspace(min(mean[:, 2]), max(mean[:, 2]), 100)\n",
    "\n",
    "likeliregion, xedges, yedges = np.histogram2d(mean[:,1], mean[:,2], bins = [bins_theta23,bins_delta])\n",
    "likeliregion = likeliregion.T\n",
    "\n",
    "max_poi = np.where(likeliregion == likeliregion.max())\n",
    "print(\"Maximum: theta23 {}, delta {} \".format(xedges[max_poi[1]],yedges[max_poi[0]]))\n",
    "sorted_list = np.sort(likeliregion.reshape((len(xedges)-1)*(len(yedges)-1)))[::-1]\n",
    "tot_event_num = sorted_list.sum()\n",
    "\n",
    "count = 0\n",
    "one_sigma_num, two_sigma_num = 0, 0\n",
    "for i in range(len(sorted_list)):\n",
    "    count += sorted_list[i]/tot_event_num\n",
    "    if count >= 0.68 and one_sigma_num == 0:\n",
    "        one_sigma_num = sorted_list[i]\n",
    "    if count >= 0.95:\n",
    "        two_sigma_num = sorted_list[i]\n",
    "        break\n",
    "\n",
    "one_sigma_region = np.where(likeliregion < one_sigma_num, 0, likeliregion)\n",
    "one_sigma_region_boundary = np.where(one_sigma_region > 0, 1, one_sigma_region)\n",
    "one_sigma_allowed_region = np.where(one_sigma_region_boundary != 0)\n",
    "\n",
    "two_sigma_region = np.where(likeliregion < two_sigma_num, 0, likeliregion)\n",
    "two_sigma_region_boundary = np.where(two_sigma_region > 0, 1, two_sigma_region)\n",
    "two_sigma_allowed_region = np.where(two_sigma_region_boundary != 0)\n",
    "\n",
    "xaxis, yaxis = (xedges[:-1] + xedges[1:])/2, (yedges[:-1] + yedges[1:])/2"
   ]
  },
  {
   "cell_type": "code",
   "execution_count": 237,
   "id": "addda3cd",
   "metadata": {},
   "outputs": [
    {
     "name": "stderr",
     "output_type": "stream",
     "text": [
      "/tmp/ipykernel_2366210/2242083583.py:2: UserWarning: No contour levels were found within the data range.\n",
      "  CS_1_sigma = plt.contour(xaxis, yaxis, one_sigma_region_boundary, 0, colors='green', linestyles=\"-\", linewidths=1)\n",
      "/tmp/ipykernel_2366210/2242083583.py:3: UserWarning: No contour levels were found within the data range.\n",
      "  CS_2_sigma = plt.contour(xaxis, yaxis, two_sigma_region_boundary, 0, colors='red', linestyles=\"-\", linewidths=1)\n"
     ]
    },
    {
     "data": {
      "image/png": "[encoded data removed]",
      "text/plain": [
       "<Figure size 576x576 with 1 Axes>"
      ]
     },
     "metadata": {
      "needs_background": "light"
     },
     "output_type": "display_data"
    },
    {
     "ename": "IndexError",
     "evalue": "index 99 is out of bounds for axis 0 with size 99",
     "output_type": "error",
     "traceback": [
      "\u001b[0;31m---------------------------------------------------------------------------\u001b[0m",
      "\u001b[0;31mIndexError\u001b[0m                                Traceback (most recent call last)",
      "\u001b[1;32m/home/ML4NO/ML4NO/ML_DUNE/Regression/true_ML_BestFit_CVAE.ipynb Cell 9'\u001b[0m in \u001b[0;36m<cell line: 11>\u001b[0;34m()\u001b[0m\n\u001b[1;32m      <a href='vscode-notebook-cell://attached-container%2B7b22636f6e7461696e65724e616d65223a222f6b6f5f6e65757472696e6f222c2273657474696e6773223a7b22686f7374223a227373683a2f2f3134302e3131342e38302e3935227d7d/home/ML4NO/ML4NO/ML_DUNE/Regression/true_ML_BestFit_CVAE.ipynb#ch0000041vscode-remote?line=7'>8</a>\u001b[0m plt\u001b[39m.\u001b[39mylim(\u001b[39m0\u001b[39m, \u001b[39m360\u001b[39m)\n\u001b[1;32m      <a href='vscode-notebook-cell://attached-container%2B7b22636f6e7461696e65724e616d65223a222f6b6f5f6e65757472696e6f222c2273657474696e6773223a7b22686f7374223a227373683a2f2f3134302e3131342e38302e3935227d7d/home/ML4NO/ML4NO/ML_DUNE/Regression/true_ML_BestFit_CVAE.ipynb#ch0000041vscode-remote?line=8'>9</a>\u001b[0m plt\u001b[39m.\u001b[39mshow()\n\u001b[0;32m---> <a href='vscode-notebook-cell://attached-container%2B7b22636f6e7461696e65724e616d65223a222f6b6f5f6e65757472696e6f222c2273657474696e6773223a7b22686f7374223a227373683a2f2f3134302e3131342e38302e3935227d7d/home/ML4NO/ML4NO/ML_DUNE/Regression/true_ML_BestFit_CVAE.ipynb#ch0000041vscode-remote?line=10'>11</a>\u001b[0m a \u001b[39m=\u001b[39m one_sigma_region[bisect(bins_theta23, true_theta23[n]\u001b[39m*\u001b[39;49m\u001b[39m180\u001b[39;49m\u001b[39m/\u001b[39;49mnp\u001b[39m.\u001b[39;49mpi)\u001b[39m-\u001b[39;49m\u001b[39m1\u001b[39;49m][bisect(bins_delta, true_delta[n])\u001b[39m-\u001b[39m\u001b[39m1\u001b[39m] \u001b[39m!=\u001b[39m \u001b[39m0.0\u001b[39m\n\u001b[1;32m     <a href='vscode-notebook-cell://attached-container%2B7b22636f6e7461696e65724e616d65223a222f6b6f5f6e65757472696e6f222c2273657474696e6773223a7b22686f7374223a227373683a2f2f3134302e3131342e38302e3935227d7d/home/ML4NO/ML4NO/ML_DUNE/Regression/true_ML_BestFit_CVAE.ipynb#ch0000041vscode-remote?line=11'>12</a>\u001b[0m b \u001b[39m=\u001b[39m two_sigma_region[bisect(bins_theta23, true_theta23[n]\u001b[39m*\u001b[39m\u001b[39m180\u001b[39m\u001b[39m/\u001b[39mnp\u001b[39m.\u001b[39mpi)\u001b[39m-\u001b[39m\u001b[39m1\u001b[39m][bisect(bins_delta, true_delta[n])\u001b[39m-\u001b[39m\u001b[39m1\u001b[39m] \u001b[39m!=\u001b[39m \u001b[39m0.0\u001b[39m\n\u001b[1;32m     <a href='vscode-notebook-cell://attached-container%2B7b22636f6e7461696e65724e616d65223a222f6b6f5f6e65757472696e6f222c2273657474696e6773223a7b22686f7374223a227373683a2f2f3134302e3131342e38302e3935227d7d/home/ML4NO/ML4NO/ML_DUNE/Regression/true_ML_BestFit_CVAE.ipynb#ch0000041vscode-remote?line=12'>13</a>\u001b[0m c \u001b[39m=\u001b[39m one_sigma_region[bisect(bins_theta23, fit_theta23[n]\u001b[39m*\u001b[39m\u001b[39m180\u001b[39m\u001b[39m/\u001b[39mnp\u001b[39m.\u001b[39mpi)\u001b[39m-\u001b[39m\u001b[39m1\u001b[39m][bisect(bins_delta, fit_delta[n])\u001b[39m-\u001b[39m\u001b[39m1\u001b[39m] \u001b[39m!=\u001b[39m \u001b[39m0.0\u001b[39m\n",
      "\u001b[0;31mIndexError\u001b[0m: index 99 is out of bounds for axis 0 with size 99"
     ]
    }
   ],
   "source": [
    "fig = plt.figure(figsize=(8,8))\n",
    "CS_1_sigma = plt.contour(xaxis, yaxis, one_sigma_region_boundary, 0, colors='green', linestyles=\"-\", linewidths=1)\n",
    "CS_2_sigma = plt.contour(xaxis, yaxis, two_sigma_region_boundary, 0, colors='red', linestyles=\"-\", linewidths=1)\n",
    "plt.scatter(true_theta23[n]*180/np.pi, true_delta[n], label='true')\n",
    "plt.scatter(fit_theta23[n]*180/np.pi, fit_delta[n], label='best fit')\n",
    "plt.legend()\n",
    "plt.xlim(0, 90)\n",
    "plt.ylim(0, 360)\n",
    "plt.show()\n",
    "\n",
    "a = one_sigma_region[bisect(bins_theta23, true_theta23[n]*180/np.pi)-1][bisect(bins_delta, true_delta[n])-1] != 0.0\n",
    "b = two_sigma_region[bisect(bins_theta23, true_theta23[n]*180/np.pi)-1][bisect(bins_delta, true_delta[n])-1] != 0.0\n",
    "c = one_sigma_region[bisect(bins_theta23, fit_theta23[n]*180/np.pi)-1][bisect(bins_delta, fit_delta[n])-1] != 0.0\n",
    "d = two_sigma_region[bisect(bins_theta23, fit_theta23[n]*180/np.pi)-1][bisect(bins_delta, fit_delta[n])-1] != 0.0\n",
    "print(a, b, c, d)\n"
   ]
  },
  {
   "cell_type": "markdown",
   "id": "dd549a32",
   "metadata": {},
   "source": [
    "**Prediction**"
   ]
  },
  {
   "cell_type": "code",
   "execution_count": null,
   "id": "2aa37784",
   "metadata": {},
   "outputs": [
    {
     "data": {
      "image/png": "[encoded data removed]",
      "text/plain": [
       "<Figure size 576x576 with 1 Axes>"
      ]
     },
     "metadata": {
      "needs_background": "light"
     },
     "output_type": "display_data"
    }
   ],
   "source": [
    "fig = plt.figure(figsize=(8,8))\n",
    "corner.hist2d(prediction[:, 1], prediction[:, 2],\n",
    "            levels=([0.68, 0.95]),\n",
    "            scale_hist=True,\n",
    "            plot_datapoints=False,\n",
    "            color='green',\n",
    "            labels= [\"$\\\\theta_{23} $($^\\circ$)\", \"$\\delta_{cp} $($^\\circ$)\"],\n",
    "            range=[[0,90], [0, 360]],\n",
    "            plot_contours = True,\n",
    "            plot_density = False,\n",
    "            fontsize=30,\n",
    "            bins = [100, 100],\n",
    "            label_kwargs={\"fontsize\": 30},\n",
    "            smooth=True\n",
    "            )\n",
    "plt.scatter(true_theta23[n]*180/np.pi, true_delta[n], label='true')\n",
    "plt.scatter(fit_theta23[n]*180/np.pi, fit_delta[n], label='best fit')\n",
    "plt.legend()\n",
    "plt.show()"
   ]
  },
  {
   "cell_type": "code",
   "execution_count": null,
   "id": "6e60eb7d",
   "metadata": {},
   "outputs": [
    {
     "name": "stdout",
     "output_type": "stream",
     "text": [
      "Maximum: theta23 [46.95110575], delta [169.07507047] \n"
     ]
    }
   ],
   "source": [
    "bins_theta23 = np.linspace(min(prediction[:, 1]), max(prediction[:, 1]), 100)\n",
    "bins_delta = np.linspace(min(prediction[:, 2]), max(prediction[:, 2]), 100)\n",
    "\n",
    "likeliregion, xedges, yedges = np.histogram2d(prediction[:,1], prediction[:,2], bins = [bins_theta23,bins_delta])\n",
    "likeliregion = likeliregion.T\n",
    "\n",
    "max_poi = np.where(likeliregion == likeliregion.max())\n",
    "print(\"Maximum: theta23 {}, delta {} \".format(xedges[max_poi[1]],yedges[max_poi[0]]))\n",
    "sorted_list = np.sort(likeliregion.reshape((len(xedges)-1)*(len(yedges)-1)))[::-1]\n",
    "tot_event_num = sorted_list.sum()\n",
    "\n",
    "count = 0\n",
    "one_sigma_num, two_sigma_num = 0, 0\n",
    "for i in range(len(sorted_list)):\n",
    "    count += sorted_list[i]/tot_event_num\n",
    "    if count >= 0.68 and one_sigma_num == 0:\n",
    "        one_sigma_num = sorted_list[i]\n",
    "    if count >= 0.95:\n",
    "        two_sigma_num = sorted_list[i]\n",
    "        break\n",
    "\n",
    "one_sigma_region = np.where(likeliregion < one_sigma_num, 0, likeliregion)\n",
    "one_sigma_region_boundary = np.where(one_sigma_region > 0, 1, one_sigma_region)\n",
    "\n",
    "two_sigma_region = np.where(likeliregion < two_sigma_num, 0, likeliregion)\n",
    "two_sigma_region_boundary = np.where(two_sigma_region > 0, 1, two_sigma_region)\n",
    "\n",
    "xaxis, yaxis = (xedges[:-1] + xedges[1:])/2, (yedges[:-1] + yedges[1:])/2"
   ]
  },
  {
   "cell_type": "code",
   "execution_count": null,
   "id": "7b15de43",
   "metadata": {},
   "outputs": [
    {
     "name": "stderr",
     "output_type": "stream",
     "text": [
      "/tmp/ipykernel_2366210/2242083583.py:2: UserWarning: No contour levels were found within the data range.\n",
      "  CS_1_sigma = plt.contour(xaxis, yaxis, one_sigma_region_boundary, 0, colors='green', linestyles=\"-\", linewidths=1)\n",
      "/tmp/ipykernel_2366210/2242083583.py:3: UserWarning: No contour levels were found within the data range.\n",
      "  CS_2_sigma = plt.contour(xaxis, yaxis, two_sigma_region_boundary, 0, colors='red', linestyles=\"-\", linewidths=1)\n"
     ]
    },
    {
     "data": {
      "image/png": "[encoded data removed]",
      "text/plain": [
       "<Figure size 576x576 with 1 Axes>"
      ]
     },
     "metadata": {
      "needs_background": "light"
     },
     "output_type": "display_data"
    },
    {
     "name": "stdout",
     "output_type": "stream",
     "text": [
      "False False False False\n"
     ]
    }
   ],
   "source": [
    "fig = plt.figure(figsize=(8,8))\n",
    "CS_1_sigma = plt.contour(xaxis, yaxis, one_sigma_region_boundary, 0, colors='green', linestyles=\"-\", linewidths=1)\n",
    "CS_2_sigma = plt.contour(xaxis, yaxis, two_sigma_region_boundary, 0, colors='red', linestyles=\"-\", linewidths=1)\n",
    "plt.scatter(true_theta23[n]*180/np.pi, true_delta[n], label='true')\n",
    "plt.scatter(fit_theta23[n]*180/np.pi, fit_delta[n], label='best fit')\n",
    "plt.legend()\n",
    "plt.xlim(0, 90)\n",
    "plt.ylim(0, 360)\n",
    "plt.show()\n",
    "\n",
    "a = one_sigma_region[bisect(bins_theta23, true_theta23[n]*180/np.pi)-1][bisect(bins_delta, true_delta[n])-1] != 0.0\n",
    "b = two_sigma_region[bisect(bins_theta23, true_theta23[n]*180/np.pi)-1][bisect(bins_delta, true_delta[n])-1] != 0.0\n",
    "c = one_sigma_region[bisect(bins_theta23, fit_theta23[n]*180/np.pi)-1][bisect(bins_delta, fit_delta[n])-1] != 0.0\n",
    "d = two_sigma_region[bisect(bins_theta23, fit_theta23[n]*180/np.pi)-1][bisect(bins_delta, fit_delta[n])-1] != 0.0\n",
    "print(a, b, c, d)\n"
   ]
  },
  {
   "cell_type": "code",
   "execution_count": null,
   "id": "d7e259cb",
   "metadata": {},
   "outputs": [],
   "source": []
  }
 ],
 "metadata": {
  "interpreter": {
   "hash": "31f2aee4e71d21fbe5cf8b01ff0e069b9275f58929596ceb00d14d90e3e16cd6"
  },
  "kernelspec": {
   "display_name": "Python 3.8.10 64-bit",
   "language": "python",
   "name": "python3"
  },
  "language_info": {
   "codemirror_mode": {
    "name": "ipython",
    "version": 3
   },
   "file_extension": ".py",
   "mimetype": "text/x-python",
   "name": "python",
   "nbconvert_exporter": "python",
   "pygments_lexer": "ipython3",
   "version": "3.8.10"
  }
 },
 "nbformat": 4,
 "nbformat_minor": 5
}
