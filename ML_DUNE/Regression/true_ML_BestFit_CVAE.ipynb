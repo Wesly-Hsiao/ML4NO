{
 "cells": [
  {
   "cell_type": "code",
   "execution_count": 2,
   "id": "81db2075-3926-491a-9c7c-6e4594fc083c",
   "metadata": {},
   "outputs": [
    {
     "name": "stdout",
     "output_type": "stream",
     "text": [
      "2 Physical GPUs, 1 Logical GPU\n"
     ]
    }
   ],
   "source": [
    "import tensorflow as tf\n",
    "from tensorflow.keras.models import load_model\n",
    "import tensorflow_probability as tfp\n",
    "from scipy.interpolate import RectBivariateSpline\n",
    "import numpy as np\n",
    "import matplotlib.pyplot as plt\n",
    "import corner\n",
    "import importlib\n",
    "import logging\n",
    "from tensorflow import keras\n",
    "import os\n",
    "\n",
    "os.environ['TF_CPP_MIN_LOG_LEVEL'] = '2'\n",
    "\n",
    "importlib.reload(logging)\n",
    "\n",
    "# limit GPU memory\n",
    "gpus = tf.config.experimental.list_physical_devices('GPU')\n",
    "try:\n",
    "    tf.config.experimental.set_visible_devices(gpus[1], 'GPU')\n",
    "    tf.config.experimental.set_virtual_device_configuration(gpus[1],\n",
    "    [tf.config.experimental.VirtualDeviceConfiguration(memory_limit=2000)])\n",
    "    logical_gpus = tf.config.experimental.list_logical_devices('GPU')\n",
    "    print(len(gpus), \"Physical GPUs,\", len(logical_gpus), \"Logical GPU\")\n",
    "except RuntimeError as e:\n",
    "# Visible devices must be set before GPUs have been initialized\n",
    "    print(e)"
   ]
  },
  {
   "cell_type": "code",
   "execution_count": 3,
   "id": "58ed5344-2e8f-4e2c-b1fa-23ab57a76614",
   "metadata": {},
   "outputs": [],
   "source": [
    "gaussian_number = 10\n",
    "latent_dim = 10"
   ]
  },
  {
   "cell_type": "code",
   "execution_count": 57,
   "id": "a30577eb",
   "metadata": {},
   "outputs": [],
   "source": [
    "model_name = 'test/5'\n",
    "path = './CVAE/{}/'.format(model_name)\n",
    "encoder1 = load_model(path + \"encoder_1.h5\", compile=False)\n",
    "encoder2 = load_model(path + \"encoder_2.h5\", compile=False)\n",
    "decoder = load_model(path + \"decoder.h5\", compile=False)"
   ]
  },
  {
   "cell_type": "code",
   "execution_count": 58,
   "id": "b014d62e-9b37-4cc3-85bd-73b0c1611362",
   "metadata": {},
   "outputs": [],
   "source": [
    "data = np.load('../../Data/best_fit_spectrum_DUNE.npz')\n",
    "data_all = np.column_stack([data['ve_dune_poisson'][:,:36], data['vu_dune_poisson'][:,:36],\n",
    "                            data['vebar_dune_poisson'][:,:36], data['vubar_dune_poisson'][:,:36]])\n",
    "true_theta23 = data['theta23_true']\n",
    "true_delta = data['delta_true']\n",
    "fit_theta23 = data['theta23_fit']\n",
    "fit_delta = data['delta_fit']"
   ]
  },
  {
   "cell_type": "code",
   "execution_count": 67,
   "id": "0923588e-d463-4134-8e07-3a19a8f652a3",
   "metadata": {},
   "outputs": [],
   "source": [
    "n = 6\n",
    "data_poisson_array = data_all[n:n+1]/1000\n",
    "\n",
    "mean, log_var, weight = encoder2.predict(data_poisson_array)\n",
    "\n",
    "mean = tf.reshape(mean, (-1, gaussian_number, latent_dim))\n",
    "log_var = tf.reshape(log_var, (-1, gaussian_number, latent_dim))\n",
    "weight = tf.reshape(weight, (-1, gaussian_number))\n",
    "\n",
    "SMALL_CONSTANT = 1e-12\n",
    "temp_var = SMALL_CONSTANT + tf.exp(log_var)\n",
    "test_sampling = tfp.distributions.MixtureSameFamily(\n",
    "              mixture_distribution=tfp.distributions.Categorical(logits=weight),\n",
    "              components_distribution=tfp.distributions.MultivariateNormalDiag(\n",
    "              loc=mean,\n",
    "              scale_diag=tf.sqrt(temp_var)))\n",
    "\n",
    "sample_amount= 10000\n",
    "sample_times = 10\n",
    "prediction = []\n",
    "for i in range(sample_times):\n",
    "    Z3 = np.reshape(test_sampling.sample(sample_shape=(sample_amount)), (sample_amount, latent_dim))\n",
    "    reconstruction_mean, reconstruction_var = decoder.predict([Z3, np.array(([data_poisson_array[0]]*sample_amount))])\n",
    "    temp_var = SMALL_CONSTANT + tf.exp(reconstruction_var)\n",
    "    reconstruction_parameter = tfp.distributions.MultivariateNormalDiag(\n",
    "                            loc=reconstruction_mean,\n",
    "                            scale_diag=temp_var)\n",
    "    prediction.extend(reconstruction_parameter.sample().numpy())\n",
    "\n",
    "prediction = np.array(prediction)"
   ]
  },
  {
   "cell_type": "code",
   "execution_count": 70,
   "id": "4e8baff1",
   "metadata": {},
   "outputs": [
    {
     "data": {
      "image/png": "[encoded data removed]",
      "text/plain": [
       "<Figure size 576x576 with 1 Axes>"
      ]
     },
     "metadata": {
      "needs_background": "light"
     },
     "output_type": "display_data"
    }
   ],
   "source": [
    "fig = plt.figure(figsize=(8,8))\n",
    "r1 = corner.hist2d(reconstruction_mean[:, 1]*180/np.pi, reconstruction_mean[:, 2]*180/np.pi,\n",
    "                    levels=(0.68,),\n",
    "                    scale_hist=True,\n",
    "                    plot_datapoints=False,\n",
    "                    color='green',\n",
    "                    labels= [\"$\\\\theta_{23} $($^\\circ$)\", \"$\\delta_{cp} $($^\\circ$)\"],\n",
    "                    range=[[0,90], [0, 360]],\n",
    "                    plot_contours = True,\n",
    "                    plot_density = False,\n",
    "                    fontsize=30,\n",
    "                    bins = [100, 100],\n",
    "                    label_kwargs={\"fontsize\": 30},\n",
    "                    smooth=True\n",
    "                   )\n",
    "plt.scatter(true_theta23[n]*180/np.pi, true_delta[n], label='true')\n",
    "plt.scatter(fit_theta23[n]*180/np.pi, fit_delta[n], label='best fit')\n",
    "plt.legend()\n",
    "plt.show()"
   ]
  },
  {
   "cell_type": "code",
   "execution_count": null,
   "id": "64f27440",
   "metadata": {},
   "outputs": [],
   "source": []
  }
 ],
 "metadata": {
  "interpreter": {
   "hash": "31f2aee4e71d21fbe5cf8b01ff0e069b9275f58929596ceb00d14d90e3e16cd6"
  },
  "kernelspec": {
   "display_name": "Python 3.8.10 64-bit",
   "language": "python",
   "name": "python3"
  },
  "language_info": {
   "codemirror_mode": {
    "name": "ipython",
    "version": 3
   },
   "file_extension": ".py",
   "mimetype": "text/x-python",
   "name": "python",
   "nbconvert_exporter": "python",
   "pygments_lexer": "ipython3",
   "version": "3.8.10"
  }
 },
 "nbformat": 4,
 "nbformat_minor": 5
}
