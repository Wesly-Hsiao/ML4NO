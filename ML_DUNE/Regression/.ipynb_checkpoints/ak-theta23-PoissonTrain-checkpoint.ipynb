{
 "cells": [
  {
   "cell_type": "code",
   "execution_count": 1,
   "metadata": {
    "tags": []
   },
   "outputs": [],
   "source": [
    "import numpy as np\n",
    "import matplotlib.pyplot as plt\n",
    "import autokeras as ak\n",
    "import tensorflow as tf\n",
    "import os"
   ]
  },
  {
   "cell_type": "code",
   "execution_count": 2,
   "metadata": {
    "tags": []
   },
   "outputs": [
    {
     "name": "stdout",
     "output_type": "stream",
     "text": [
      "Model: \"model\"\n",
      "_________________________________________________________________\n",
      "Layer (type)                 Output Shape              Param #   \n",
      "=================================================================\n",
      "input_1 (InputLayer)         [(None, 264)]             0         \n",
      "_________________________________________________________________\n",
      "multi_category_encoding (Mul (None, 264)               0         \n",
      "_________________________________________________________________\n",
      "normalization (Normalization (None, 264)               529       \n",
      "_________________________________________________________________\n",
      "dense (Dense)                (None, 512)               135680    \n",
      "_________________________________________________________________\n",
      "re_lu (ReLU)                 (None, 512)               0         \n",
      "_________________________________________________________________\n",
      "dense_1 (Dense)              (None, 512)               262656    \n",
      "_________________________________________________________________\n",
      "re_lu_1 (ReLU)               (None, 512)               0         \n",
      "_________________________________________________________________\n",
      "dense_2 (Dense)              (None, 1024)              525312    \n",
      "_________________________________________________________________\n",
      "re_lu_2 (ReLU)               (None, 1024)              0         \n",
      "_________________________________________________________________\n",
      "regression_head_1 (Dense)    (None, 1)                 1025      \n",
      "=================================================================\n",
      "Total params: 925,202\n",
      "Trainable params: 924,673\n",
      "Non-trainable params: 529\n",
      "_________________________________________________________________\n"
     ]
    }
   ],
   "source": [
    "data = np.load('/home/ML4NO/Data/n1000000_0910_all_flat.npz')\n",
    "model_index = 1\n",
    "furthur_index = 1\n",
    "model = tf.keras.models.load_model('/home/ML4NO/ML_DUNE/Regression/models_furthurTrain/0910_theta23_{}_{}.h5'.format(model_index, furthur_index))\n",
    "model.summary()"
   ]
  },
  {
   "cell_type": "code",
   "execution_count": 3,
   "metadata": {
    "tags": []
   },
   "outputs": [],
   "source": [
    "data_all = np.column_stack([data['ve_dune'], data['vu_dune'], data['vebar_dune'], data['vubar_dune']])\n",
    "target = data['theta23']\n",
    "\n",
    "x_train = data_all[:10000]\n",
    "y_train = target[:10000]\n",
    "x_train2 = data_all[10000:900000]\n",
    "y_train2 = target[10000:900000]\n",
    "x_test = data_all[900000:]\n",
    "y_test = target[900000:]"
   ]
  },
  {
   "cell_type": "code",
   "execution_count": null,
   "metadata": {},
   "outputs": [],
   "source": [
    "x_test_gen = np.random.poisson(x_test)\n",
    "\n",
    "for i in range(5):\n",
    "    x_train2_gen = np.random.poisson(x_train2)\n",
    "    \n",
    "    model.fit(x_train2_gen, y_train2,\n",
    "              validation_split=0.1,\n",
    "               batch_size=64,\n",
    "               epochs=1,\n",
    "               verbose=1,\n",
    "               shuffle = True\n",
    "             )\n",
    "model.evaluate(x_test_gen, y_test)"
   ]
  },
  {
   "cell_type": "code",
   "execution_count": 5,
   "metadata": {},
   "outputs": [],
   "source": [
    "index = 1\n",
    "path = '/home/ML4NO/ML_DUNE/Regression/models_PoissonTrain/0910_theta23_{}_{}_{}.h5'\n",
    "while os.path.isfile(path.format(model_index, furthur_index, index)):\n",
    "    index += 1\n",
    "model.save(path.format(model_index, furthur_index, index))"
   ]
  },
  {
   "cell_type": "code",
   "execution_count": null,
   "metadata": {},
   "outputs": [],
   "source": []
  }
 ],
 "metadata": {
  "kernelspec": {
   "display_name": "Python 3",
   "language": "python",
   "name": "python3"
  },
  "language_info": {
   "codemirror_mode": {
    "name": "ipython",
    "version": 3
   },
   "file_extension": ".py",
   "mimetype": "text/x-python",
   "name": "python",
   "nbconvert_exporter": "python",
   "pygments_lexer": "ipython3",
   "version": "3.6.9"
  }
 },
 "nbformat": 4,
 "nbformat_minor": 4
}
