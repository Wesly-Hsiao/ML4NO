{
 "cells": [
  {
   "cell_type": "code",
   "execution_count": 1,
   "metadata": {
    "tags": []
   },
   "outputs": [],
   "source": [
    "import numpy as np\n",
    "import matplotlib.pyplot as plt\n",
    "import autokeras as ak\n",
    "import tensorflow as tf\n",
    "import os "
   ]
  },
  {
   "cell_type": "code",
   "execution_count": 2,
   "metadata": {
    "tags": []
   },
   "outputs": [],
   "source": [
    "data = np.load('/home/ML4NO/Data/n1000000_0910_all_flat.npz')"
   ]
  },
  {
   "cell_type": "code",
   "execution_count": 3,
   "metadata": {
    "tags": []
   },
   "outputs": [],
   "source": [
    "data_all = np.column_stack([data['ve_dune'], data['vu_dune'], data['vebar_dune'], data['vubar_dune']])\n",
    "target = data['delta']\n",
    "\n",
    "x_train = data_all[:10000]\n",
    "y_train = target[:10000]\n",
    "\n",
    "x_train2 = data_all[10000:900000]\n",
    "y_train2 = target[10000:900000]\n",
    "\n",
    "x_test = data_all[900000:]\n",
    "y_test = target[900000:]"
   ]
  },
  {
   "cell_type": "code",
   "execution_count": 4,
   "metadata": {
    "tags": []
   },
   "outputs": [
    {
     "name": "stdout",
     "output_type": "stream",
     "text": [
      "Trial 1 Complete [00h 00m 11s]\n",
      "val_loss: 7183.1357421875\n",
      "\n",
      "Best val_loss So Far: 7183.1357421875\n",
      "Total elapsed time: 00h 00m 11s\n",
      "INFO:tensorflow:Oracle triggered exit\n",
      "Epoch 1/2\n",
      "157/157 [==============================] - 4s 13ms/step - loss: 33989.9275 - mean_squared_error: 33989.9275\n",
      "Epoch 2/2\n",
      "157/157 [==============================] - 2s 14ms/step - loss: 10285.5765 - mean_squared_error: 10285.5765\n",
      "WARNING:tensorflow:FOR KERAS USERS: The object that you are saving contains one or more Keras models or layers. If you are loading the SavedModel with `tf.keras.models.load_model`, continue reading (otherwise, you may ignore the following instructions). Please change your code to save with `tf.keras.models.save_model` or `model.save`, and confirm that the file \"keras.metadata\" exists in the export directory. In the future, Keras will only load the SavedModels that have this file. In other words, `tf.saved_model.save` will no longer write SavedModels that can be recovered as Keras models (this will apply in TF 2.5).\n",
      "\n",
      "FOR DEVS: If you are overwriting _tracking_metadata in your class, this property has been used to save metadata in the SavedModel. The metadta field will be deprecated soon, so please move the metadata to a different file.\n",
      "INFO:tensorflow:Assets written to: ./structured_data_regressor/best_model/assets\n"
     ]
    },
    {
     "data": {
      "text/plain": [
       "<tensorflow.python.keras.callbacks.History at 0x7fde1c1f5ac8>"
      ]
     },
     "execution_count": 4,
     "metadata": {},
     "output_type": "execute_result"
    }
   ],
   "source": [
    "clf = ak.StructuredDataRegressor(overwrite=True, max_trials=50)\n",
    "clf.fit(x_train, y_train,\n",
    "           validation_split = 0.1,\n",
    "           batch_size=64,\n",
    "           epochs=20,\n",
    "           verbose=1,\n",
    "           shuffle = True\n",
    "       )"
   ]
  },
  {
   "cell_type": "code",
   "execution_count": 5,
   "metadata": {
    "tags": []
   },
   "outputs": [
    {
     "name": "stdout",
     "output_type": "stream",
     "text": [
      "Model: \"model\"\n",
      "_________________________________________________________________\n",
      "Layer (type)                 Output Shape              Param #   \n",
      "=================================================================\n",
      "input_1 (InputLayer)         [(None, 264)]             0         \n",
      "_________________________________________________________________\n",
      "multi_category_encoding (Mul (None, 264)               0         \n",
      "_________________________________________________________________\n",
      "normalization (Normalization (None, 264)               529       \n",
      "_________________________________________________________________\n",
      "dense (Dense)                (None, 32)                8480      \n",
      "_________________________________________________________________\n",
      "re_lu (ReLU)                 (None, 32)                0         \n",
      "_________________________________________________________________\n",
      "dense_1 (Dense)              (None, 32)                1056      \n",
      "_________________________________________________________________\n",
      "re_lu_1 (ReLU)               (None, 32)                0         \n",
      "_________________________________________________________________\n",
      "regression_head_1 (Dense)    (None, 1)                 33        \n",
      "=================================================================\n",
      "Total params: 10,098\n",
      "Trainable params: 9,569\n",
      "Non-trainable params: 529\n",
      "_________________________________________________________________\n"
     ]
    }
   ],
   "source": [
    "model = clf.export_model()\n",
    "model.summary()"
   ]
  },
  {
   "cell_type": "code",
   "execution_count": null,
   "metadata": {
    "tags": []
   },
   "outputs": [
    {
     "name": "stdout",
     "output_type": "stream",
     "text": [
      "Epoch 1/20\n",
      "12516/12516 [==============================] - 240s 19ms/step - loss: 295.1862 - mean_squared_error: 295.1862 - val_loss: 163.3819 - val_mean_squared_error: 163.3819\n",
      "Epoch 2/20\n",
      "12516/12516 [==============================] - 236s 19ms/step - loss: 170.7604 - mean_squared_error: 170.7604 - val_loss: 163.3819 - val_mean_squared_error: 163.3819\n",
      "Epoch 3/20\n",
      "12516/12516 [==============================] - 237s 19ms/step - loss: 170.7604 - mean_squared_error: 170.7604 - val_loss: 163.3819 - val_mean_squared_error: 163.3819\n",
      "Epoch 4/20\n",
      "12516/12516 [==============================] - 238s 19ms/step - loss: 170.7601 - mean_squared_error: 170.7601 - val_loss: 163.3819 - val_mean_squared_error: 163.3819\n",
      "Epoch 5/20\n",
      "12516/12516 [==============================] - 232s 19ms/step - loss: 170.7602 - mean_squared_error: 170.7602 - val_loss: 163.3819 - val_mean_squared_error: 163.3819\n",
      "Epoch 6/20\n",
      "12516/12516 [==============================] - 231s 18ms/step - loss: 170.7604 - mean_squared_error: 170.7604 - val_loss: 163.3819 - val_mean_squared_error: 163.3819\n",
      "Epoch 7/20\n",
      "12516/12516 [==============================] - 235s 19ms/step - loss: 170.7600 - mean_squared_error: 170.7600 - val_loss: 163.3819 - val_mean_squared_error: 163.3819\n",
      "Epoch 8/20\n",
      " 4243/12516 [=========>....................] - ETA: 2:19 - loss: 164.9508 - mean_squared_error: 164.9508"
     ]
    }
   ],
   "source": [
    "model.fit(x_train2, y_train2,\n",
    "           validation_split = 0.1,\n",
    "           batch_size=64,\n",
    "           epochs=20,\n",
    "           verbose=1,\n",
    "           shuffle = True\n",
    "         )"
   ]
  },
  {
   "cell_type": "code",
   "execution_count": 10,
   "metadata": {},
   "outputs": [
    {
     "name": "stdout",
     "output_type": "stream",
     "text": [
      "Model: \"model\"\n",
      "_________________________________________________________________\n",
      "Layer (type)                 Output Shape              Param #   \n",
      "=================================================================\n",
      "input_1 (InputLayer)         [(None, 264)]             0         \n",
      "_________________________________________________________________\n",
      "multi_category_encoding (Mul (None, 264)               0         \n",
      "_________________________________________________________________\n",
      "normalization (Normalization (None, 264)               529       \n",
      "_________________________________________________________________\n",
      "dense (Dense)                (None, 1024)              271360    \n",
      "_________________________________________________________________\n",
      "re_lu (ReLU)                 (None, 1024)              0         \n",
      "_________________________________________________________________\n",
      "dense_1 (Dense)              (None, 1024)              1049600   \n",
      "_________________________________________________________________\n",
      "re_lu_1 (ReLU)               (None, 1024)              0         \n",
      "_________________________________________________________________\n",
      "dense_2 (Dense)              (None, 1024)              1049600   \n",
      "_________________________________________________________________\n",
      "re_lu_2 (ReLU)               (None, 1024)              0         \n",
      "_________________________________________________________________\n",
      "regression_head_1 (Dense)    (None, 1)                 1025      \n",
      "=================================================================\n",
      "Total params: 2,372,114\n",
      "Trainable params: 2,371,585\n",
      "Non-trainable params: 529\n",
      "_________________________________________________________________\n"
     ]
    }
   ],
   "source": [
    "data = np.load('/home/ML4NO/Data/n1000000_0910_all_flat.npz')\n",
    "model_index = 2\n",
    "model = tf.keras.models.load_model('/home/ML4NO/ML_DUNE/Regression/models/0910_delta_{}.h5'.format(model_index))\n",
    "model.summary()"
   ]
  },
  {
   "cell_type": "code",
   "execution_count": 6,
   "metadata": {},
   "outputs": [
    {
     "name": "stdout",
     "output_type": "stream",
     "text": [
      "3125/3125 [==============================] - 30s 9ms/step - loss: 7512.2163 - mean_squared_error: 7512.2163\n"
     ]
    },
    {
     "data": {
      "text/plain": [
       "[7512.21630859375, 7512.21630859375]"
      ]
     },
     "execution_count": 6,
     "metadata": {},
     "output_type": "execute_result"
    }
   ],
   "source": [
    "model.evaluate(x_test, y_test)"
   ]
  },
  {
   "cell_type": "code",
   "execution_count": 7,
   "metadata": {},
   "outputs": [
    {
     "name": "stdout",
     "output_type": "stream",
     "text": [
      "12516/12516 [==============================] - 179s 14ms/step - loss: 1097.4493 - mean_squared_error: 1097.4493 - val_loss: 291.9627 - val_mean_squared_error: 291.9627\n"
     ]
    },
    {
     "data": {
      "text/plain": [
       "<tensorflow.python.keras.callbacks.History at 0x7fddfc57b208>"
      ]
     },
     "execution_count": 7,
     "metadata": {},
     "output_type": "execute_result"
    }
   ],
   "source": [
    "model.fit(x_train2, y_train2,\n",
    "           validation_split = 0.1,\n",
    "           batch_size=64,\n",
    "           epochs=1,\n",
    "           verbose=1,\n",
    "           shuffle = True\n",
    "         )"
   ]
  },
  {
   "cell_type": "code",
   "execution_count": 8,
   "metadata": {
    "tags": []
   },
   "outputs": [
    {
     "name": "stdout",
     "output_type": "stream",
     "text": [
      "3125/3125 [==============================] - 28s 9ms/step - loss: 297.4380 - mean_squared_error: 297.4380\n"
     ]
    }
   ],
   "source": [
    "model.evaluate(x_test, y_test)\n",
    "pre_test = model.predict(x_test)"
   ]
  },
  {
   "cell_type": "code",
   "execution_count": 9,
   "metadata": {},
   "outputs": [
    {
     "data": {
      "image/png": "[encoded data removed]",
      "text/plain": [
       "<Figure size 432x288 with 1 Axes>"
      ]
     },
     "metadata": {
      "needs_background": "light"
     },
     "output_type": "display_data"
    }
   ],
   "source": [
    "plt.hist(pre_test, histtype = 'step', bins = 100, label = 'prediction')\n",
    "plt.hist(y_test, histtype = 'step', bins = 100, label = 'target')\n",
    "plt.xlabel('delta')\n",
    "plt.ylabel('number')\n",
    "plt.legend()\n",
    "plt.show()"
   ]
  },
  {
   "cell_type": "code",
   "execution_count": 12,
   "metadata": {},
   "outputs": [
    {
     "data": {
      "text/plain": [
       "Text(0.5, 1.0, 'delta')"
      ]
     },
     "execution_count": 12,
     "metadata": {},
     "output_type": "execute_result"
    },
    {
     "data": {
      "image/png": "[encoded data removed]",
      "text/plain": [
       "<Figure size 504x504 with 1 Axes>"
      ]
     },
     "metadata": {
      "needs_background": "light"
     },
     "output_type": "display_data"
    }
   ],
   "source": [
    "plt.figure(figsize=(7,7))\n",
    "plt.plot(pre_test, y_test, '.', alpha = 0.05)\n",
    "plt.xlabel('prediction')\n",
    "plt.ylabel('target')\n",
    "plt.title('delta')"
   ]
  },
  {
   "cell_type": "code",
   "execution_count": null,
   "metadata": {
    "tags": []
   },
   "outputs": [],
   "source": [
    "index = 1\n",
    "while os.path.isfile('/home/ML4NO/ML_DUNE/Regression/models/0910_delta_{}.h5'.format(index)):\n",
    "    index += 1\n",
    "model.save('/home/ML4NO/ML_DUNE/Regression/models/0910_delta_{}.h5'.format(index))"
   ]
  },
  {
   "cell_type": "code",
   "execution_count": null,
   "metadata": {},
   "outputs": [],
   "source": []
  }
 ],
 "metadata": {
  "kernelspec": {
   "display_name": "Python 3",
   "language": "python",
   "name": "python3"
  },
  "language_info": {
   "codemirror_mode": {
    "name": "ipython",
    "version": 3
   },
   "file_extension": ".py",
   "mimetype": "text/x-python",
   "name": "python",
   "nbconvert_exporter": "python",
   "pygments_lexer": "ipython3",
   "version": "3.6.9"
  }
 },
 "nbformat": 4,
 "nbformat_minor": 4
}
