{
 "cells": [
  {
   "cell_type": "code",
   "execution_count": 55,
   "metadata": {},
   "outputs": [
    {
     "name": "stdout",
     "output_type": "stream",
     "text": [
      "2 Physical GPUs, 1 Logical GPU\n"
     ]
    }
   ],
   "source": [
    "import numpy as np\n",
    "import tensorflow as tf\n",
    "import tensorflow_probability as tfp\n",
    "\n",
    "import os\n",
    "import importlib\n",
    "import logging\n",
    "from tqdm import tqdm\n",
    "\n",
    "os.environ['TF_CPP_MIN_LOG_LEVEL'] = '2'\n",
    "importlib.reload(logging)\n",
    "logging.basicConfig(level = logging.INFO)\n",
    "\n",
    "# limit GPU memory\n",
    "gpus = tf.config.experimental.list_physical_devices('GPU')\n",
    "try:\n",
    "    tf.config.experimental.set_visible_devices(gpus[0], 'GPU')\n",
    "    tf.config.experimental.set_virtual_device_configuration(gpus[0],\n",
    "    [tf.config.experimental.VirtualDeviceConfiguration(memory_limit=40000)])\n",
    "    logical_gpus = tf.config.experimental.list_logical_devices('GPU')\n",
    "    print(len(gpus), \"Physical GPUs,\", len(logical_gpus), \"Logical GPU\")\n",
    "except RuntimeError as e:\n",
    "# Visible devices must be set before GPUs have been initialized\n",
    "    print(e)"
   ]
  },
  {
   "cell_type": "code",
   "execution_count": 56,
   "metadata": {},
   "outputs": [],
   "source": [
    "training_data = np.load(\"../../Data/n1000000_0910_all_flat.npz\")\n",
    "data_all = np.column_stack([training_data['ve_dune'][:,:36], training_data['vu_dune'][:,:36], training_data['vebar_dune'][:,:36], training_data['vubar_dune'][:,:36]])\n",
    "\n",
    "# theta13, theta23, delta\n",
    "target = np.column_stack([training_data[\"theta13\"]/180*np.pi, training_data[\"theta23\"]/180*np.pi,\n",
    "                         training_data[\"delta\"]/180*np.pi])\n",
    "\n",
    "split = 900000\n",
    "x_train = data_all[:split]\n",
    "y_train = target[:split]\n",
    "x_train_poisson = np.random.poisson(x_train)/1000\n",
    "\n",
    "x_val = data_all[split:]\n",
    "y_val = target[split:]\n",
    "x_val_poisson = np.random.poisson(x_val)/1000"
   ]
  },
  {
   "cell_type": "code",
   "execution_count": 57,
   "metadata": {},
   "outputs": [],
   "source": [
    "def prior(kernel_size, bias_size, dtype=None):\n",
    "    n = kernel_size + bias_size\n",
    "    prior_model = tf.keras.Sequential(\n",
    "        [\n",
    "            tfp.layers.DistributionLambda(\n",
    "                lambda t: tfp.distributions.MultivariateNormalDiag(\n",
    "                    loc=tf.zeros(n), scale_diag=tf.ones(n)\n",
    "                )\n",
    "            )\n",
    "        ]\n",
    "    )\n",
    "    return prior_model\n",
    "\n",
    "def posterior(kernel_size, bias_size, dtype=None):\n",
    "    n = kernel_size + bias_size\n",
    "    posterior_model = tf.keras.Sequential(\n",
    "        [\n",
    "            tfp.layers.VariableLayer(\n",
    "                tfp.layers.MultivariateNormalTriL.params_size(n), dtype=dtype\n",
    "            ),\n",
    "            tfp.layers.MultivariateNormalTriL(n),\n",
    "        ]\n",
    "    )\n",
    "    return posterior_model"
   ]
  },
  {
   "cell_type": "code",
   "execution_count": 58,
   "metadata": {},
   "outputs": [],
   "source": [
    "hidden_units = [16, 16]\n",
    "learning_rate = 0.001"
   ]
  },
  {
   "cell_type": "code",
   "execution_count": 59,
   "metadata": {},
   "outputs": [],
   "source": [
    "def create_bnn_model(train_size):\n",
    "    inputs = tf.keras.Input(shape=(len(x_train[0]),), name = 'input')\n",
    "    features = tf.keras.layers.Dense(64, activation='relu')(inputs)\n",
    "    features = tf.keras.layers.Dense(16, activation='relu')(features)\n",
    "    # Create hidden layers with weight uncertainty using the DenseVariational layer.\n",
    "    for units in hidden_units:\n",
    "        features = tfp.layers.DenseVariational(\n",
    "            units=units,\n",
    "            make_prior_fn=prior,\n",
    "            make_posterior_fn=posterior,\n",
    "            kl_weight=1 / train_size,\n",
    "            activation=\"sigmoid\",\n",
    "        )(features)\n",
    "\n",
    "    # The output is deterministic: a single point estimate.\n",
    "    outputs = tf.keras.layers.Dense(units=3)(features)\n",
    "    model = tf.keras.Model(inputs=inputs, outputs=outputs)\n",
    "    return model"
   ]
  },
  {
   "cell_type": "code",
   "execution_count": 60,
   "metadata": {},
   "outputs": [
    {
     "name": "stdout",
     "output_type": "stream",
     "text": [
      "Model: \"model_5\"\n",
      "_________________________________________________________________\n",
      " Layer (type)                Output Shape              Param #   \n",
      "=================================================================\n",
      " input (InputLayer)          [(None, 144)]             0         \n",
      "                                                                 \n",
      " dense_15 (Dense)            (None, 32)                4640      \n",
      "                                                                 \n",
      " dense_16 (Dense)            (None, 8)                 264       \n",
      "                                                                 \n",
      " dense_variational_10 (Dense  (None, 8)                2700      \n",
      " Variational)                                                    \n",
      "                                                                 \n",
      " dense_variational_11 (Dense  (None, 8)                2700      \n",
      " Variational)                                                    \n",
      "                                                                 \n",
      " dense_17 (Dense)            (None, 3)                 27        \n",
      "                                                                 \n",
      "=================================================================\n",
      "Total params: 10,331\n",
      "Trainable params: 10,331\n",
      "Non-trainable params: 0\n",
      "_________________________________________________________________\n"
     ]
    }
   ],
   "source": [
    "bnn = create_bnn_model(split)\n",
    "bnn.compile(\n",
    "    optimizer=tf.keras.optimizers.RMSprop(learning_rate=learning_rate),\n",
    "    loss=tf.keras.losses.MeanSquaredError(),\n",
    "    metrics=[tf.keras.metrics.RootMeanSquaredError()],\n",
    ")\n",
    "bnn.summary()"
   ]
  },
  {
   "cell_type": "code",
   "execution_count": 70,
   "metadata": {},
   "outputs": [
    {
     "name": "stdout",
     "output_type": "stream",
     "text": [
      "Epoch 1/10\n",
      "14063/14063 [==============================] - 79s 6ms/step - loss: 0.1150 - root_mean_squared_error: 0.3376 - val_loss: 0.1938 - val_root_mean_squared_error: 0.4390\n",
      "Epoch 2/10\n",
      "14063/14063 [==============================] - 79s 6ms/step - loss: 0.1119 - root_mean_squared_error: 0.3329 - val_loss: 0.0793 - val_root_mean_squared_error: 0.2796\n",
      "Epoch 3/10\n",
      "14063/14063 [==============================] - 78s 6ms/step - loss: 0.1090 - root_mean_squared_error: 0.3284 - val_loss: 0.0963 - val_root_mean_squared_error: 0.3085\n",
      "Epoch 4/10\n",
      "14063/14063 [==============================] - 78s 6ms/step - loss: 0.1083 - root_mean_squared_error: 0.3275 - val_loss: 0.0613 - val_root_mean_squared_error: 0.2454\n",
      "Epoch 5/10\n",
      "14063/14063 [==============================] - 79s 6ms/step - loss: 0.1076 - root_mean_squared_error: 0.3264 - val_loss: 0.1281 - val_root_mean_squared_error: 0.3564\n",
      "Epoch 6/10\n",
      "14063/14063 [==============================] - 79s 6ms/step - loss: 0.1041 - root_mean_squared_error: 0.3209 - val_loss: 0.1094 - val_root_mean_squared_error: 0.3290\n",
      "Epoch 7/10\n",
      "14063/14063 [==============================] - 78s 6ms/step - loss: 0.1022 - root_mean_squared_error: 0.3180 - val_loss: 0.1276 - val_root_mean_squared_error: 0.3557\n",
      "Epoch 8/10\n",
      "14063/14063 [==============================] - 78s 6ms/step - loss: 0.1006 - root_mean_squared_error: 0.3155 - val_loss: 0.0525 - val_root_mean_squared_error: 0.2268\n",
      "Epoch 9/10\n",
      "14063/14063 [==============================] - 78s 6ms/step - loss: 0.0964 - root_mean_squared_error: 0.3088 - val_loss: 0.1493 - val_root_mean_squared_error: 0.3850\n",
      "Epoch 10/10\n",
      "14063/14063 [==============================] - 78s 6ms/step - loss: 0.0931 - root_mean_squared_error: 0.3033 - val_loss: 0.0954 - val_root_mean_squared_error: 0.3072\n"
     ]
    },
    {
     "data": {
      "text/plain": [
       "<keras.callbacks.History at 0x7f1f9c350280>"
      ]
     },
     "execution_count": 70,
     "metadata": {},
     "output_type": "execute_result"
    }
   ],
   "source": [
    "bnn.fit(x_train/1000, y_train,\n",
    "            validation_data=(x_val/1000, y_val),\n",
    "            batch_size=64,\n",
    "            epochs=20,\n",
    "            verbose=1,\n",
    "            shuffle = True\n",
    "            )"
   ]
  },
  {
   "cell_type": "code",
   "execution_count": 71,
   "metadata": {},
   "outputs": [
    {
     "name": "stderr",
     "output_type": "stream",
     "text": [
      "100%|██████████| 10000/10000 [09:43<00:00, 17.13it/s]\n"
     ]
    }
   ],
   "source": [
    "data = np.load('../../Data/sample_NuFit0911.npz')\n",
    "data_all = np.column_stack([data['ve_dune'][:,:36], data['vu_dune'][:,:36], data['vebar_dune'][:,:36], data['vubar_dune'][:,:36]])\n",
    "result = []\n",
    "for _ in tqdm(range(10000)):\n",
    "    result.append(bnn.predict(np.array([data_all[0]]))[0])\n",
    "result = np.array(result)"
   ]
  },
  {
   "cell_type": "code",
   "execution_count": 72,
   "metadata": {},
   "outputs": [
    {
     "data": {
      "text/plain": [
       "<matplotlib.collections.PathCollection at 0x7f1f745ec820>"
      ]
     },
     "execution_count": 72,
     "metadata": {},
     "output_type": "execute_result"
    },
    {
     "data": {
      "image/png": "[encoded data removed]",
      "text/plain": [
       "<Figure size 432x288 with 1 Axes>"
      ]
     },
     "metadata": {
      "needs_background": "light"
     },
     "output_type": "display_data"
    }
   ],
   "source": [
    "import matplotlib.pyplot as plt\n",
    "plt.scatter(result[:, 1]*180/np.pi, result[:, 2]*180/np.pi)"
   ]
  },
  {
   "cell_type": "code",
   "execution_count": 73,
   "metadata": {},
   "outputs": [],
   "source": [
    "np.savez('./contours/bnn.npz', result)"
   ]
  },
  {
   "cell_type": "code",
   "execution_count": 75,
   "metadata": {},
   "outputs": [
    {
     "data": {
      "image/png": "[encoded data removed]",
      "text/plain": [
       "<Figure size 432x288 with 1 Axes>"
      ]
     },
     "metadata": {
      "needs_background": "light"
     },
     "output_type": "display_data"
    }
   ],
   "source": [
    "import corner\n",
    "corner.hist2d(result[:, 1]*180/np.pi, result[:, 2]*180/np.pi,\n",
    "                    levels=(0.68,),\n",
    "                    scale_hist=True,\n",
    "                    plot_datapoints=False,\n",
    "                    color='orange',\n",
    "                    labels= [\"$\\\\theta_{23} $($^\\circ$)\", \"$\\delta_{cp} $($^\\circ$)\"],\n",
    "                    plot_contours = True,\n",
    "                    plot_density = False,\n",
    "                    fontsize=30,\n",
    "                    bins = [200, 200],\n",
    "                    label_kwargs={\"fontsize\": 30},\n",
    "                    smooth=True\n",
    "                   )\n"
   ]
  },
  {
   "cell_type": "code",
   "execution_count": null,
   "metadata": {},
   "outputs": [],
   "source": []
  }
 ],
 "metadata": {
  "kernelspec": {
   "display_name": "Python 3.8.10 64-bit",
   "language": "python",
   "name": "python3"
  },
  "language_info": {
   "codemirror_mode": {
    "name": "ipython",
    "version": 3
   },
   "file_extension": ".py",
   "mimetype": "text/x-python",
   "name": "python",
   "nbconvert_exporter": "python",
   "pygments_lexer": "ipython3",
   "version": "3.8.10"
  },
  "orig_nbformat": 4,
  "vscode": {
   "interpreter": {
    "hash": "916dbcbb3f70747c44a77c7bcd40155683ae19c65e1c03b4aa3499c5328201f1"
   }
  }
 },
 "nbformat": 4,
 "nbformat_minor": 2
}
