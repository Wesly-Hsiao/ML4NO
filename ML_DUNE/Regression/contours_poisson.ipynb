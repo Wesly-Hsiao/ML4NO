{
 "cells": [
  {
   "cell_type": "code",
   "execution_count": 1,
   "metadata": {},
   "outputs": [],
   "source": [
    "import numpy as np\n",
    "import corner\n",
    "import matplotlib.pyplot as plt"
   ]
  },
  {
   "cell_type": "code",
   "execution_count": 2,
   "metadata": {},
   "outputs": [],
   "source": [
    "dnn = np.load('./contours/dnn.npz')\n",
    "nf = np.load('./contours/nf.npz')\n",
    "cvae = np.load('./contours/cvae.npz')\n",
    "bnn = np.load('./contours/bnn.npz')"
   ]
  },
  {
   "cell_type": "code",
   "execution_count": 3,
   "metadata": {},
   "outputs": [],
   "source": [
    "dnn_arr = dnn['arr_0']\n",
    "nf_arr = nf['arr_0']\n",
    "cvae_arr = cvae['arr_0']\n",
    "bnn_arr = bnn['arr_0']"
   ]
  },
  {
   "cell_type": "code",
   "execution_count": 4,
   "metadata": {},
   "outputs": [],
   "source": [
    "N_DUNE, N_T2HK, N_DUT2 = 92, 36, 96\n",
    "theta23_DUNE, delta_cp_DUNE, chi_DUNE = [], [], []\n",
    "theta23_T2HK, delta_cp_T2HK, chi_T2HK = [], [], []\n",
    "theta23_DUT2, delta_cp_DUT2, chi_DUT2 = [], [], []"
   ]
  },
  {
   "cell_type": "code",
   "execution_count": 5,
   "metadata": {},
   "outputs": [],
   "source": [
    "f_DUNE = open(\"../../Data/chi_square-4-2_figB_DUNE.txt\")\n",
    "for i in range(N_DUNE):\n",
    "    s = f_DUNE.readline().split()\n",
    "    array = []\n",
    "    for j in range(len(s)) :\n",
    "        array.append(float(s[j])) \n",
    "    theta23_DUNE.append(array[0])\n",
    "    delta_cp_DUNE.append(array[1]) \n",
    "    chi_DUNE.append(array[2])\n",
    "f_DUNE.close()"
   ]
  },
  {
   "cell_type": "code",
   "execution_count": 6,
   "metadata": {},
   "outputs": [],
   "source": [
    "theta23_DUNE = np.array(theta23_DUNE)\n",
    "delta_cp_DUNE = np.array(delta_cp_DUNE)\n",
    "chi_DUNE = np.array(chi_DUNE)"
   ]
  },
  {
   "cell_type": "code",
   "execution_count": 7,
   "metadata": {},
   "outputs": [],
   "source": [
    "x0 = np.linspace(min(theta23_DUNE)-3, max(theta23_DUNE)+3, 68)\n",
    "y0 = np.linspace(min(delta_cp_DUNE)-6, max(delta_cp_DUNE)+6, 20)\n",
    "X0, Y0 = np.meshgrid(x0, y0)\n",
    "Z0 = np.zeros((len(X0),len(X0[0])))\n",
    "\n",
    "for i in range(len(theta23_DUNE)):\n",
    "    a = np.where(X0 == theta23_DUNE[i])[1][0]\n",
    "    b = np.where(Y0 == delta_cp_DUNE[i])[0][0]\n",
    "    Z0[b][a] = 1"
   ]
  },
  {
   "cell_type": "code",
   "execution_count": 8,
   "metadata": {},
   "outputs": [
    {
     "data": {
      "text/plain": [
       "array([[0.14992793, 0.85546046, 3.41607   ],\n",
       "       [0.15037318, 0.85179895, 3.386899  ],\n",
       "       [0.14914294, 0.8565984 , 3.4784446 ],\n",
       "       ...,\n",
       "       [0.14783512, 0.8745299 , 3.3489106 ],\n",
       "       [0.14902693, 0.8600912 , 3.5268044 ],\n",
       "       [0.14896959, 0.859309  , 3.4549608 ]], dtype=float32)"
      ]
     },
     "execution_count": 8,
     "metadata": {},
     "output_type": "execute_result"
    }
   ],
   "source": [
    "cvae_arr"
   ]
  },
  {
   "cell_type": "code",
   "execution_count": 9,
   "metadata": {},
   "outputs": [
    {
     "name": "stderr",
     "output_type": "stream",
     "text": [
      "/usr/local/lib/python3.8/dist-packages/corner/core.py:583: RuntimeWarning: invalid value encountered in true_divide\n",
      "  sm /= sm[-1]\n"
     ]
    },
    {
     "ename": "ValueError",
     "evalue": "Contour levels must be increasing",
     "output_type": "error",
     "traceback": [
      "\u001b[0;31m---------------------------------------------------------------------------\u001b[0m",
      "\u001b[0;31mValueError\u001b[0m                                Traceback (most recent call last)",
      "\u001b[1;32m/home/ML4NO/ML4NO/ML_DUNE/Regression/contours_combine.ipynb Cell 9'\u001b[0m in \u001b[0;36m<cell line: 44>\u001b[0;34m()\u001b[0m\n\u001b[1;32m     <a href='vscode-notebook-cell://attached-container%2B7b22636f6e7461696e65724e616d65223a222f6b6f5f7466222c2273657474696e6773223a7b22686f7374223a227373683a2f2f3134302e3131342e38302e3935227d7d/home/ML4NO/ML4NO/ML_DUNE/Regression/contours_combine.ipynb#ch0000008vscode-remote?line=15'>16</a>\u001b[0m corner\u001b[39m.\u001b[39mhist2d(cvae_arr[:, \u001b[39m1\u001b[39m]\u001b[39m*\u001b[39m\u001b[39m180\u001b[39m\u001b[39m/\u001b[39mnp\u001b[39m.\u001b[39mpi, cvae_arr[:, \u001b[39m2\u001b[39m]\u001b[39m*\u001b[39m\u001b[39m180\u001b[39m\u001b[39m/\u001b[39mnp\u001b[39m.\u001b[39mpi,\n\u001b[1;32m     <a href='vscode-notebook-cell://attached-container%2B7b22636f6e7461696e65724e616d65223a222f6b6f5f7466222c2273657474696e6773223a7b22686f7374223a227373683a2f2f3134302e3131342e38302e3935227d7d/home/ML4NO/ML4NO/ML_DUNE/Regression/contours_combine.ipynb#ch0000008vscode-remote?line=16'>17</a>\u001b[0m                     levels\u001b[39m=\u001b[39m(\u001b[39m0.68\u001b[39m,),\n\u001b[1;32m     <a href='vscode-notebook-cell://attached-container%2B7b22636f6e7461696e65724e616d65223a222f6b6f5f7466222c2273657474696e6773223a7b22686f7374223a227373683a2f2f3134302e3131342e38302e3935227d7d/home/ML4NO/ML4NO/ML_DUNE/Regression/contours_combine.ipynb#ch0000008vscode-remote?line=17'>18</a>\u001b[0m                     scale_hist\u001b[39m=\u001b[39m\u001b[39mTrue\u001b[39;00m,\n\u001b[0;32m   (...)\u001b[0m\n\u001b[1;32m     <a href='vscode-notebook-cell://attached-container%2B7b22636f6e7461696e65724e616d65223a222f6b6f5f7466222c2273657474696e6773223a7b22686f7374223a227373683a2f2f3134302e3131342e38302e3935227d7d/home/ML4NO/ML4NO/ML_DUNE/Regression/contours_combine.ipynb#ch0000008vscode-remote?line=27'>28</a>\u001b[0m                     smooth\u001b[39m=\u001b[39m\u001b[39mTrue\u001b[39;00m\n\u001b[1;32m     <a href='vscode-notebook-cell://attached-container%2B7b22636f6e7461696e65724e616d65223a222f6b6f5f7466222c2273657474696e6773223a7b22686f7374223a227373683a2f2f3134302e3131342e38302e3935227d7d/home/ML4NO/ML4NO/ML_DUNE/Regression/contours_combine.ipynb#ch0000008vscode-remote?line=28'>29</a>\u001b[0m                    )\n\u001b[1;32m     <a href='vscode-notebook-cell://attached-container%2B7b22636f6e7461696e65724e616d65223a222f6b6f5f7466222c2273657474696e6773223a7b22686f7374223a227373683a2f2f3134302e3131342e38302e3935227d7d/home/ML4NO/ML4NO/ML_DUNE/Regression/contours_combine.ipynb#ch0000008vscode-remote?line=29'>30</a>\u001b[0m corner\u001b[39m.\u001b[39mhist2d(nf_arr[:, \u001b[39m1\u001b[39m], nf_arr[:, \u001b[39m2\u001b[39m],\n\u001b[1;32m     <a href='vscode-notebook-cell://attached-container%2B7b22636f6e7461696e65724e616d65223a222f6b6f5f7466222c2273657474696e6773223a7b22686f7374223a227373683a2f2f3134302e3131342e38302e3935227d7d/home/ML4NO/ML4NO/ML_DUNE/Regression/contours_combine.ipynb#ch0000008vscode-remote?line=30'>31</a>\u001b[0m                     levels\u001b[39m=\u001b[39m(\u001b[39m0.68\u001b[39m,),\n\u001b[1;32m     <a href='vscode-notebook-cell://attached-container%2B7b22636f6e7461696e65724e616d65223a222f6b6f5f7466222c2273657474696e6773223a7b22686f7374223a227373683a2f2f3134302e3131342e38302e3935227d7d/home/ML4NO/ML4NO/ML_DUNE/Regression/contours_combine.ipynb#ch0000008vscode-remote?line=31'>32</a>\u001b[0m                     scale_hist\u001b[39m=\u001b[39m\u001b[39mTrue\u001b[39;00m,\n\u001b[0;32m   (...)\u001b[0m\n\u001b[1;32m     <a href='vscode-notebook-cell://attached-container%2B7b22636f6e7461696e65724e616d65223a222f6b6f5f7466222c2273657474696e6773223a7b22686f7374223a227373683a2f2f3134302e3131342e38302e3935227d7d/home/ML4NO/ML4NO/ML_DUNE/Regression/contours_combine.ipynb#ch0000008vscode-remote?line=41'>42</a>\u001b[0m                     smooth\u001b[39m=\u001b[39m\u001b[39mTrue\u001b[39;00m\n\u001b[1;32m     <a href='vscode-notebook-cell://attached-container%2B7b22636f6e7461696e65724e616d65223a222f6b6f5f7466222c2273657474696e6773223a7b22686f7374223a227373683a2f2f3134302e3131342e38302e3935227d7d/home/ML4NO/ML4NO/ML_DUNE/Regression/contours_combine.ipynb#ch0000008vscode-remote?line=42'>43</a>\u001b[0m                    )\n\u001b[0;32m---> <a href='vscode-notebook-cell://attached-container%2B7b22636f6e7461696e65724e616d65223a222f6b6f5f7466222c2273657474696e6773223a7b22686f7374223a227373683a2f2f3134302e3131342e38302e3935227d7d/home/ML4NO/ML4NO/ML_DUNE/Regression/contours_combine.ipynb#ch0000008vscode-remote?line=43'>44</a>\u001b[0m corner\u001b[39m.\u001b[39;49mhist2d(bnn_arr[:, \u001b[39m1\u001b[39;49m], bnn_arr[:, \u001b[39m2\u001b[39;49m],\n\u001b[1;32m     <a href='vscode-notebook-cell://attached-container%2B7b22636f6e7461696e65724e616d65223a222f6b6f5f7466222c2273657474696e6773223a7b22686f7374223a227373683a2f2f3134302e3131342e38302e3935227d7d/home/ML4NO/ML4NO/ML_DUNE/Regression/contours_combine.ipynb#ch0000008vscode-remote?line=44'>45</a>\u001b[0m                     levels\u001b[39m=\u001b[39;49m(\u001b[39m0.68\u001b[39;49m,),\n\u001b[1;32m     <a href='vscode-notebook-cell://attached-container%2B7b22636f6e7461696e65724e616d65223a222f6b6f5f7466222c2273657474696e6773223a7b22686f7374223a227373683a2f2f3134302e3131342e38302e3935227d7d/home/ML4NO/ML4NO/ML_DUNE/Regression/contours_combine.ipynb#ch0000008vscode-remote?line=45'>46</a>\u001b[0m                     scale_hist\u001b[39m=\u001b[39;49m\u001b[39mTrue\u001b[39;49;00m,\n\u001b[1;32m     <a href='vscode-notebook-cell://attached-container%2B7b22636f6e7461696e65724e616d65223a222f6b6f5f7466222c2273657474696e6773223a7b22686f7374223a227373683a2f2f3134302e3131342e38302e3935227d7d/home/ML4NO/ML4NO/ML_DUNE/Regression/contours_combine.ipynb#ch0000008vscode-remote?line=46'>47</a>\u001b[0m                     plot_datapoints\u001b[39m=\u001b[39;49m\u001b[39mFalse\u001b[39;49;00m,\n\u001b[1;32m     <a href='vscode-notebook-cell://attached-container%2B7b22636f6e7461696e65724e616d65223a222f6b6f5f7466222c2273657474696e6773223a7b22686f7374223a227373683a2f2f3134302e3131342e38302e3935227d7d/home/ML4NO/ML4NO/ML_DUNE/Regression/contours_combine.ipynb#ch0000008vscode-remote?line=47'>48</a>\u001b[0m                     color\u001b[39m=\u001b[39;49m\u001b[39m'\u001b[39;49m\u001b[39mred\u001b[39;49m\u001b[39m'\u001b[39;49m,\n\u001b[1;32m     <a href='vscode-notebook-cell://attached-container%2B7b22636f6e7461696e65724e616d65223a222f6b6f5f7466222c2273657474696e6773223a7b22686f7374223a227373683a2f2f3134302e3131342e38302e3935227d7d/home/ML4NO/ML4NO/ML_DUNE/Regression/contours_combine.ipynb#ch0000008vscode-remote?line=48'>49</a>\u001b[0m                     labels\u001b[39m=\u001b[39;49m [\u001b[39m\"\u001b[39;49m\u001b[39m$\u001b[39;49m\u001b[39m\\\\\u001b[39;49;00m\u001b[39mtheta_\u001b[39;49m\u001b[39m{23}\u001b[39;49;00m\u001b[39m $($^\u001b[39;49m\u001b[39m\\\u001b[39;49m\u001b[39mcirc$)\u001b[39;49m\u001b[39m\"\u001b[39;49m, \u001b[39m\"\u001b[39;49m\u001b[39m$\u001b[39;49m\u001b[39m\\\u001b[39;49m\u001b[39mdelta_\u001b[39;49m\u001b[39m{cp}\u001b[39;49;00m\u001b[39m $($^\u001b[39;49m\u001b[39m\\\u001b[39;49m\u001b[39mcirc$)\u001b[39;49m\u001b[39m\"\u001b[39;49m],\n\u001b[1;32m     <a href='vscode-notebook-cell://attached-container%2B7b22636f6e7461696e65724e616d65223a222f6b6f5f7466222c2273657474696e6773223a7b22686f7374223a227373683a2f2f3134302e3131342e38302e3935227d7d/home/ML4NO/ML4NO/ML_DUNE/Regression/contours_combine.ipynb#ch0000008vscode-remote?line=49'>50</a>\u001b[0m                     \u001b[39mrange\u001b[39;49m\u001b[39m=\u001b[39;49m\u001b[39mrange\u001b[39;49m,\n\u001b[1;32m     <a href='vscode-notebook-cell://attached-container%2B7b22636f6e7461696e65724e616d65223a222f6b6f5f7466222c2273657474696e6773223a7b22686f7374223a227373683a2f2f3134302e3131342e38302e3935227d7d/home/ML4NO/ML4NO/ML_DUNE/Regression/contours_combine.ipynb#ch0000008vscode-remote?line=50'>51</a>\u001b[0m                     plot_contours \u001b[39m=\u001b[39;49m \u001b[39mTrue\u001b[39;49;00m,\n\u001b[1;32m     <a href='vscode-notebook-cell://attached-container%2B7b22636f6e7461696e65724e616d65223a222f6b6f5f7466222c2273657474696e6773223a7b22686f7374223a227373683a2f2f3134302e3131342e38302e3935227d7d/home/ML4NO/ML4NO/ML_DUNE/Regression/contours_combine.ipynb#ch0000008vscode-remote?line=51'>52</a>\u001b[0m                     plot_density \u001b[39m=\u001b[39;49m \u001b[39mFalse\u001b[39;49;00m,\n\u001b[1;32m     <a href='vscode-notebook-cell://attached-container%2B7b22636f6e7461696e65724e616d65223a222f6b6f5f7466222c2273657474696e6773223a7b22686f7374223a227373683a2f2f3134302e3131342e38302e3935227d7d/home/ML4NO/ML4NO/ML_DUNE/Regression/contours_combine.ipynb#ch0000008vscode-remote?line=52'>53</a>\u001b[0m                     fontsize\u001b[39m=\u001b[39;49m\u001b[39m30\u001b[39;49m,\n\u001b[1;32m     <a href='vscode-notebook-cell://attached-container%2B7b22636f6e7461696e65724e616d65223a222f6b6f5f7466222c2273657474696e6773223a7b22686f7374223a227373683a2f2f3134302e3131342e38302e3935227d7d/home/ML4NO/ML4NO/ML_DUNE/Regression/contours_combine.ipynb#ch0000008vscode-remote?line=53'>54</a>\u001b[0m                     bins \u001b[39m=\u001b[39;49m [\u001b[39m200\u001b[39;49m, \u001b[39m200\u001b[39;49m],\n\u001b[1;32m     <a href='vscode-notebook-cell://attached-container%2B7b22636f6e7461696e65724e616d65223a222f6b6f5f7466222c2273657474696e6773223a7b22686f7374223a227373683a2f2f3134302e3131342e38302e3935227d7d/home/ML4NO/ML4NO/ML_DUNE/Regression/contours_combine.ipynb#ch0000008vscode-remote?line=54'>55</a>\u001b[0m                     label_kwargs\u001b[39m=\u001b[39;49m{\u001b[39m\"\u001b[39;49m\u001b[39mfontsize\u001b[39;49m\u001b[39m\"\u001b[39;49m: \u001b[39m30\u001b[39;49m},\n\u001b[1;32m     <a href='vscode-notebook-cell://attached-container%2B7b22636f6e7461696e65724e616d65223a222f6b6f5f7466222c2273657474696e6773223a7b22686f7374223a227373683a2f2f3134302e3131342e38302e3935227d7d/home/ML4NO/ML4NO/ML_DUNE/Regression/contours_combine.ipynb#ch0000008vscode-remote?line=55'>56</a>\u001b[0m                     smooth\u001b[39m=\u001b[39;49m\u001b[39mTrue\u001b[39;49;00m\n\u001b[1;32m     <a href='vscode-notebook-cell://attached-container%2B7b22636f6e7461696e65724e616d65223a222f6b6f5f7466222c2273657474696e6773223a7b22686f7374223a227373683a2f2f3134302e3131342e38302e3935227d7d/home/ML4NO/ML4NO/ML_DUNE/Regression/contours_combine.ipynb#ch0000008vscode-remote?line=56'>57</a>\u001b[0m                    )\n\u001b[1;32m     <a href='vscode-notebook-cell://attached-container%2B7b22636f6e7461696e65724e616d65223a222f6b6f5f7466222c2273657474696e6773223a7b22686f7374223a227373683a2f2f3134302e3131342e38302e3935227d7d/home/ML4NO/ML4NO/ML_DUNE/Regression/contours_combine.ipynb#ch0000008vscode-remote?line=58'>59</a>\u001b[0m dot \u001b[39m=\u001b[39m plt\u001b[39m.\u001b[39mscatter(\u001b[39m49\u001b[39m, \u001b[39m195\u001b[39m, label \u001b[39m=\u001b[39m \u001b[39m\"\u001b[39m\u001b[39mtrue point\u001b[39m\u001b[39m\"\u001b[39m)\n\u001b[1;32m     <a href='vscode-notebook-cell://attached-container%2B7b22636f6e7461696e65724e616d65223a222f6b6f5f7466222c2273657474696e6773223a7b22686f7374223a227373683a2f2f3134302e3131342e38302e3935227d7d/home/ML4NO/ML4NO/ML_DUNE/Regression/contours_combine.ipynb#ch0000008vscode-remote?line=59'>60</a>\u001b[0m proxy \u001b[39m=\u001b[39m [plt\u001b[39m.\u001b[39mRectangle((\u001b[39m2\u001b[39m, \u001b[39m2\u001b[39m), \u001b[39m0.0\u001b[39m, \u001b[39m3\u001b[39m, \u001b[39m90\u001b[39m, fc\u001b[39m=\u001b[39mc) \u001b[39mfor\u001b[39;00m c \u001b[39min\u001b[39;00m [\u001b[39m'\u001b[39m\u001b[39mgreen\u001b[39m\u001b[39m'\u001b[39m, \u001b[39m'\u001b[39m\u001b[39mblue\u001b[39m\u001b[39m'\u001b[39m, \u001b[39m'\u001b[39m\u001b[39mred\u001b[39m\u001b[39m'\u001b[39m, \u001b[39m'\u001b[39m\u001b[39mblack\u001b[39m\u001b[39m'\u001b[39m]]\n",
      "File \u001b[0;32m/usr/local/lib/python3.8/dist-packages/corner/core.py:639\u001b[0m, in \u001b[0;36mhist2d\u001b[0;34m(x, y, bins, range, weights, levels, smooth, ax, color, quiet, plot_datapoints, plot_density, plot_contours, no_fill_contours, fill_contours, contour_kwargs, contourf_kwargs, data_kwargs, pcolor_kwargs, new_fig, **kwargs)\u001b[0m\n\u001b[1;32m    637\u001b[0m \u001b[39m# Plot the base fill to hide the densest data points.\u001b[39;00m\n\u001b[1;32m    638\u001b[0m \u001b[39mif\u001b[39;00m (plot_contours \u001b[39mor\u001b[39;00m plot_density) \u001b[39mand\u001b[39;00m \u001b[39mnot\u001b[39;00m no_fill_contours:\n\u001b[0;32m--> 639\u001b[0m     ax\u001b[39m.\u001b[39;49mcontourf(\n\u001b[1;32m    640\u001b[0m         X2,\n\u001b[1;32m    641\u001b[0m         Y2,\n\u001b[1;32m    642\u001b[0m         H2\u001b[39m.\u001b[39;49mT,\n\u001b[1;32m    643\u001b[0m         [V\u001b[39m.\u001b[39;49mmin(), H\u001b[39m.\u001b[39;49mmax()],\n\u001b[1;32m    644\u001b[0m         cmap\u001b[39m=\u001b[39;49mwhite_cmap,\n\u001b[1;32m    645\u001b[0m         antialiased\u001b[39m=\u001b[39;49m\u001b[39mFalse\u001b[39;49;00m,\n\u001b[1;32m    646\u001b[0m     )\n\u001b[1;32m    648\u001b[0m \u001b[39mif\u001b[39;00m plot_contours \u001b[39mand\u001b[39;00m fill_contours:\n\u001b[1;32m    649\u001b[0m     \u001b[39mif\u001b[39;00m contourf_kwargs \u001b[39mis\u001b[39;00m \u001b[39mNone\u001b[39;00m:\n",
      "File \u001b[0;32m/usr/local/lib/python3.8/dist-packages/matplotlib/__init__.py:1412\u001b[0m, in \u001b[0;36m_preprocess_data.<locals>.inner\u001b[0;34m(ax, data, *args, **kwargs)\u001b[0m\n\u001b[1;32m   1409\u001b[0m \u001b[39m@functools\u001b[39m\u001b[39m.\u001b[39mwraps(func)\n\u001b[1;32m   1410\u001b[0m \u001b[39mdef\u001b[39;00m \u001b[39minner\u001b[39m(ax, \u001b[39m*\u001b[39margs, data\u001b[39m=\u001b[39m\u001b[39mNone\u001b[39;00m, \u001b[39m*\u001b[39m\u001b[39m*\u001b[39mkwargs):\n\u001b[1;32m   1411\u001b[0m     \u001b[39mif\u001b[39;00m data \u001b[39mis\u001b[39;00m \u001b[39mNone\u001b[39;00m:\n\u001b[0;32m-> 1412\u001b[0m         \u001b[39mreturn\u001b[39;00m func(ax, \u001b[39m*\u001b[39;49m\u001b[39mmap\u001b[39;49m(sanitize_sequence, args), \u001b[39m*\u001b[39;49m\u001b[39m*\u001b[39;49mkwargs)\n\u001b[1;32m   1414\u001b[0m     bound \u001b[39m=\u001b[39m new_sig\u001b[39m.\u001b[39mbind(ax, \u001b[39m*\u001b[39margs, \u001b[39m*\u001b[39m\u001b[39m*\u001b[39mkwargs)\n\u001b[1;32m   1415\u001b[0m     auto_label \u001b[39m=\u001b[39m (bound\u001b[39m.\u001b[39marguments\u001b[39m.\u001b[39mget(label_namer)\n\u001b[1;32m   1416\u001b[0m                   \u001b[39mor\u001b[39;00m bound\u001b[39m.\u001b[39mkwargs\u001b[39m.\u001b[39mget(label_namer))\n",
      "File \u001b[0;32m/usr/local/lib/python3.8/dist-packages/matplotlib/axes/_axes.py:6313\u001b[0m, in \u001b[0;36mAxes.contourf\u001b[0;34m(self, *args, **kwargs)\u001b[0m\n\u001b[1;32m   6304\u001b[0m \u001b[39m\"\"\"\u001b[39;00m\n\u001b[1;32m   6305\u001b[0m \u001b[39mPlot filled contours.\u001b[39;00m\n\u001b[1;32m   6306\u001b[0m \n\u001b[0;32m   (...)\u001b[0m\n\u001b[1;32m   6310\u001b[0m \u001b[39m%(contour_doc)s\u001b[39;00m\n\u001b[1;32m   6311\u001b[0m \u001b[39m\"\"\"\u001b[39;00m\n\u001b[1;32m   6312\u001b[0m kwargs[\u001b[39m'\u001b[39m\u001b[39mfilled\u001b[39m\u001b[39m'\u001b[39m] \u001b[39m=\u001b[39m \u001b[39mTrue\u001b[39;00m\n\u001b[0;32m-> 6313\u001b[0m contours \u001b[39m=\u001b[39m mcontour\u001b[39m.\u001b[39;49mQuadContourSet(\u001b[39mself\u001b[39;49m, \u001b[39m*\u001b[39;49margs, \u001b[39m*\u001b[39;49m\u001b[39m*\u001b[39;49mkwargs)\n\u001b[1;32m   6314\u001b[0m \u001b[39mself\u001b[39m\u001b[39m.\u001b[39m_request_autoscale_view()\n\u001b[1;32m   6315\u001b[0m \u001b[39mreturn\u001b[39;00m contours\n",
      "File \u001b[0;32m/usr/local/lib/python3.8/dist-packages/matplotlib/contour.py:812\u001b[0m, in \u001b[0;36mContourSet.__init__\u001b[0;34m(self, ax, levels, filled, linewidths, linestyles, hatches, alpha, origin, extent, cmap, colors, norm, vmin, vmax, extend, antialiased, nchunk, locator, transform, *args, **kwargs)\u001b[0m\n\u001b[1;32m    808\u001b[0m     \u001b[39mself\u001b[39m\u001b[39m.\u001b[39morigin \u001b[39m=\u001b[39m mpl\u001b[39m.\u001b[39mrcParams[\u001b[39m'\u001b[39m\u001b[39mimage.origin\u001b[39m\u001b[39m'\u001b[39m]\n\u001b[1;32m    810\u001b[0m \u001b[39mself\u001b[39m\u001b[39m.\u001b[39m_transform \u001b[39m=\u001b[39m transform\n\u001b[0;32m--> 812\u001b[0m kwargs \u001b[39m=\u001b[39m \u001b[39mself\u001b[39;49m\u001b[39m.\u001b[39;49m_process_args(\u001b[39m*\u001b[39;49margs, \u001b[39m*\u001b[39;49m\u001b[39m*\u001b[39;49mkwargs)\n\u001b[1;32m    813\u001b[0m \u001b[39mself\u001b[39m\u001b[39m.\u001b[39m_process_levels()\n\u001b[1;32m    815\u001b[0m \u001b[39mself\u001b[39m\u001b[39m.\u001b[39m_extend_min \u001b[39m=\u001b[39m \u001b[39mself\u001b[39m\u001b[39m.\u001b[39mextend \u001b[39min\u001b[39;00m [\u001b[39m'\u001b[39m\u001b[39mmin\u001b[39m\u001b[39m'\u001b[39m, \u001b[39m'\u001b[39m\u001b[39mboth\u001b[39m\u001b[39m'\u001b[39m]\n",
      "File \u001b[0;32m/usr/local/lib/python3.8/dist-packages/matplotlib/contour.py:1446\u001b[0m, in \u001b[0;36mQuadContourSet._process_args\u001b[0;34m(self, corner_mask, *args, **kwargs)\u001b[0m\n\u001b[1;32m   1443\u001b[0m     corner_mask \u001b[39m=\u001b[39m mpl\u001b[39m.\u001b[39mrcParams[\u001b[39m'\u001b[39m\u001b[39mcontour.corner_mask\u001b[39m\u001b[39m'\u001b[39m]\n\u001b[1;32m   1444\u001b[0m \u001b[39mself\u001b[39m\u001b[39m.\u001b[39m_corner_mask \u001b[39m=\u001b[39m corner_mask\n\u001b[0;32m-> 1446\u001b[0m x, y, z \u001b[39m=\u001b[39m \u001b[39mself\u001b[39;49m\u001b[39m.\u001b[39;49m_contour_args(args, kwargs)\n\u001b[1;32m   1448\u001b[0m _mask \u001b[39m=\u001b[39m ma\u001b[39m.\u001b[39mgetmask(z)\n\u001b[1;32m   1449\u001b[0m \u001b[39mif\u001b[39;00m _mask \u001b[39mis\u001b[39;00m ma\u001b[39m.\u001b[39mnomask \u001b[39mor\u001b[39;00m \u001b[39mnot\u001b[39;00m _mask\u001b[39m.\u001b[39many():\n",
      "File \u001b[0;32m/usr/local/lib/python3.8/dist-packages/matplotlib/contour.py:1497\u001b[0m, in \u001b[0;36mQuadContourSet._contour_args\u001b[0;34m(self, args, kwargs)\u001b[0m\n\u001b[1;32m   1495\u001b[0m     _api\u001b[39m.\u001b[39mwarn_external(\u001b[39m'\u001b[39m\u001b[39mLog scale: values of z <= 0 have been masked\u001b[39m\u001b[39m'\u001b[39m)\n\u001b[1;32m   1496\u001b[0m     \u001b[39mself\u001b[39m\u001b[39m.\u001b[39mzmin \u001b[39m=\u001b[39m \u001b[39mfloat\u001b[39m(z\u001b[39m.\u001b[39mmin())\n\u001b[0;32m-> 1497\u001b[0m \u001b[39mself\u001b[39;49m\u001b[39m.\u001b[39;49m_process_contour_level_args(args)\n\u001b[1;32m   1498\u001b[0m \u001b[39mreturn\u001b[39;00m (x, y, z)\n",
      "File \u001b[0;32m/usr/local/lib/python3.8/dist-packages/matplotlib/contour.py:1194\u001b[0m, in \u001b[0;36mContourSet._process_contour_level_args\u001b[0;34m(self, args)\u001b[0m\n\u001b[1;32m   1191\u001b[0m     \u001b[39mraise\u001b[39;00m \u001b[39mValueError\u001b[39;00m(\u001b[39m\"\u001b[39m\u001b[39mFilled contours require at least 2 levels.\u001b[39m\u001b[39m\"\u001b[39m)\n\u001b[1;32m   1193\u001b[0m \u001b[39mif\u001b[39;00m \u001b[39mlen\u001b[39m(\u001b[39mself\u001b[39m\u001b[39m.\u001b[39mlevels) \u001b[39m>\u001b[39m \u001b[39m1\u001b[39m \u001b[39mand\u001b[39;00m np\u001b[39m.\u001b[39mmin(np\u001b[39m.\u001b[39mdiff(\u001b[39mself\u001b[39m\u001b[39m.\u001b[39mlevels)) \u001b[39m<\u001b[39m\u001b[39m=\u001b[39m \u001b[39m0.0\u001b[39m:\n\u001b[0;32m-> 1194\u001b[0m     \u001b[39mraise\u001b[39;00m \u001b[39mValueError\u001b[39;00m(\u001b[39m\"\u001b[39m\u001b[39mContour levels must be increasing\u001b[39m\u001b[39m\"\u001b[39m)\n",
      "\u001b[0;31mValueError\u001b[0m: Contour levels must be increasing"
     ]
    },
    {
     "data": {
      "image/png": "[encoded data removed]",
      "text/plain": [
       "<Figure size 432x288 with 1 Axes>"
      ]
     },
     "metadata": {
      "needs_background": "light"
     },
     "output_type": "display_data"
    }
   ],
   "source": [
    "range = [[45,51], [80, 310]]\n",
    "corner.hist2d(dnn_arr[:, 0], dnn_arr[:, 1],\n",
    "                    levels=(0.68,),\n",
    "                    scale_hist=True,\n",
    "                    plot_datapoints=False,\n",
    "                    color='green',\n",
    "                    labels= [\"$\\\\theta_{23} $($^\\circ$)\", \"$\\delta_{cp} $($^\\circ$)\"],\n",
    "                    range=range,\n",
    "                    plot_contours = True,\n",
    "                    plot_density = False,\n",
    "                    fontsize=30,\n",
    "                    bins = [200, 200],\n",
    "                    label_kwargs={\"fontsize\": 30},\n",
    "                    smooth=True\n",
    "                   )\n",
    "corner.hist2d(cvae_arr[:, 1]*180/np.pi, cvae_arr[:, 2]*180/np.pi,\n",
    "                    levels=(0.68,),\n",
    "                    scale_hist=True,\n",
    "                    plot_datapoints=False,\n",
    "                    color='blue',\n",
    "                    labels= [\"$\\\\theta_{23} $($^\\circ$)\", \"$\\delta_{cp} $($^\\circ$)\"],\n",
    "                    range=range,\n",
    "                    plot_contours = True,\n",
    "                    plot_density = False,\n",
    "                    fontsize=30,\n",
    "                    bins = [200, 200],\n",
    "                    label_kwargs={\"fontsize\": 30},\n",
    "                    smooth=True\n",
    "                   )\n",
    "corner.hist2d(nf_arr[:, 1], nf_arr[:, 2],\n",
    "                    levels=(0.68,),\n",
    "                    scale_hist=True,\n",
    "                    plot_datapoints=False,\n",
    "                    color='red',\n",
    "                    labels= [\"$\\\\theta_{23} $($^\\circ$)\", \"$\\delta_{cp} $($^\\circ$)\"],\n",
    "                    range=range,\n",
    "                    plot_contours = True,\n",
    "                    plot_density = False,\n",
    "                    fontsize=30,\n",
    "                    bins = [200, 200],\n",
    "                    label_kwargs={\"fontsize\": 30},\n",
    "                    smooth=True\n",
    "                   )\n",
    "corner.hist2d(bnn_arr[:, 1], bnn_arr[:, 2],\n",
    "                    levels=(0.68,),\n",
    "                    scale_hist=True,\n",
    "                    plot_datapoints=False,\n",
    "                    color='red',\n",
    "                    labels= [\"$\\\\theta_{23} $($^\\circ$)\", \"$\\delta_{cp} $($^\\circ$)\"],\n",
    "                    range=range,\n",
    "                    plot_contours = True,\n",
    "                    plot_density = False,\n",
    "                    fontsize=30,\n",
    "                    bins = [200, 200],\n",
    "                    label_kwargs={\"fontsize\": 30},\n",
    "                    smooth=True\n",
    "                   )\n",
    "\n",
    "dot = plt.scatter(49, 195, label = \"true point\")\n",
    "proxy = [plt.Rectangle((2, 2), 0.0, 3, 90, fc=c) for c in ['green', 'blue', 'red', 'black']]\n",
    "plt.legend(proxy + [dot], [\"dnn\", \"cvae\", \"nf\", \"chi2\", \"true point\"])\n",
    "plt.contour(X0, Y0, Z0, 0, colors='black', linestyles=\"-\", linewidths=1)\n",
    "plt.title(\"IO spectrum PE\")\n",
    "plt.show()"
   ]
  },
  {
   "cell_type": "code",
   "execution_count": null,
   "metadata": {},
   "outputs": [],
   "source": []
  }
 ],
 "metadata": {
  "kernelspec": {
   "display_name": "Python 3.8.10 64-bit",
   "language": "python",
   "name": "python3"
  },
  "language_info": {
   "codemirror_mode": {
    "name": "ipython",
    "version": 3
   },
   "file_extension": ".py",
   "mimetype": "text/x-python",
   "name": "python",
   "nbconvert_exporter": "python",
   "pygments_lexer": "ipython3",
   "version": "3.8.10"
  },
  "orig_nbformat": 4,
  "vscode": {
   "interpreter": {
    "hash": "916dbcbb3f70747c44a77c7bcd40155683ae19c65e1c03b4aa3499c5328201f1"
   }
  }
 },
 "nbformat": 4,
 "nbformat_minor": 2
}
