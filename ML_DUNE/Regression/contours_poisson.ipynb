{
 "cells": [
  {
   "cell_type": "code",
   "execution_count": 1,
   "metadata": {},
   "outputs": [],
   "source": [
    "import numpy as np\n",
    "import corner\n",
    "import matplotlib.pyplot as plt"
   ]
  },
  {
   "cell_type": "code",
   "execution_count": 2,
   "metadata": {},
   "outputs": [],
   "source": [
    "dnn = np.load('./contours/dnn.npz')\n",
    "nf = np.load('./contours/nf.npz')\n",
    "cvae = np.load('./contours/cvae.npz')\n",
    "bnn = np.load('./contours/bnn.npz')"
   ]
  },
  {
   "cell_type": "code",
   "execution_count": 3,
   "metadata": {},
   "outputs": [],
   "source": [
    "dnn_arr = dnn['arr_0']\n",
    "nf_arr = nf['arr_0']\n",
    "cvae_arr = cvae['arr_0']\n",
    "bnn_arr = bnn['arr_0']"
   ]
  },
  {
   "cell_type": "code",
   "execution_count": 4,
   "metadata": {},
   "outputs": [],
   "source": [
    "N_DUNE, N_T2HK, N_DUT2 = 92, 36, 96\n",
    "theta23_DUNE, delta_cp_DUNE, chi_DUNE = [], [], []\n",
    "theta23_T2HK, delta_cp_T2HK, chi_T2HK = [], [], []\n",
    "theta23_DUT2, delta_cp_DUT2, chi_DUT2 = [], [], []"
   ]
  },
  {
   "cell_type": "code",
   "execution_count": 5,
   "metadata": {},
   "outputs": [],
   "source": [
    "f_DUNE = open(\"../../Data/chi_square-4-2_figB_DUNE.txt\")\n",
    "for i in range(N_DUNE):\n",
    "    s = f_DUNE.readline().split()\n",
    "    array = []\n",
    "    for j in range(len(s)) :\n",
    "        array.append(float(s[j])) \n",
    "    theta23_DUNE.append(array[0])\n",
    "    delta_cp_DUNE.append(array[1]) \n",
    "    chi_DUNE.append(array[2])\n",
    "f_DUNE.close()"
   ]
  },
  {
   "cell_type": "code",
   "execution_count": 6,
   "metadata": {},
   "outputs": [],
   "source": [
    "theta23_DUNE = np.array(theta23_DUNE)\n",
    "delta_cp_DUNE = np.array(delta_cp_DUNE)\n",
    "chi_DUNE = np.array(chi_DUNE)"
   ]
  },
  {
   "cell_type": "code",
   "execution_count": 7,
   "metadata": {},
   "outputs": [],
   "source": [
    "x0 = np.linspace(min(theta23_DUNE)-3, max(theta23_DUNE)+3, 68)\n",
    "y0 = np.linspace(min(delta_cp_DUNE)-6, max(delta_cp_DUNE)+6, 20)\n",
    "X0, Y0 = np.meshgrid(x0, y0)\n",
    "Z0 = np.zeros((len(X0),len(X0[0])))\n",
    "\n",
    "for i in range(len(theta23_DUNE)):\n",
    "    a = np.where(X0 == theta23_DUNE[i])[1][0]\n",
    "    b = np.where(Y0 == delta_cp_DUNE[i])[0][0]\n",
    "    Z0[b][a] = 1"
   ]
  },
  {
   "cell_type": "code",
   "execution_count": 12,
   "metadata": {},
   "outputs": [
    {
     "name": "stderr",
     "output_type": "stream",
     "text": [
      "/tmp/ipykernel_1580688/2117142447.py:64: UserWarning: No contour levels were found within the data range.\n",
      "  plt.contour(X0, Y0, Z0, 0, colors='black', linestyles=\"-\", linewidths=1)\n"
     ]
    },
    {
     "data": {
      "image/png": "[encoded data removed]",
      "text/plain": [
       "<Figure size 432x288 with 1 Axes>"
      ]
     },
     "metadata": {
      "needs_background": "light"
     },
     "output_type": "display_data"
    }
   ],
   "source": [
    "range = [[40,51], [0, 310]]\n",
    "corner.hist2d(dnn_arr[:, 0], dnn_arr[:, 1],\n",
    "                    levels=(0.68,),\n",
    "                    scale_hist=True,\n",
    "                    plot_datapoints=False,\n",
    "                    color='green',\n",
    "                    labels= [\"$\\\\theta_{23} $($^\\circ$)\", \"$\\delta_{cp} $($^\\circ$)\"],\n",
    "                    range=range,\n",
    "                    plot_contours = True,\n",
    "                    plot_density = False,\n",
    "                    fontsize=30,\n",
    "                    bins = [200, 200],\n",
    "                    label_kwargs={\"fontsize\": 30},\n",
    "                    smooth=True\n",
    "                   )\n",
    "corner.hist2d(cvae_arr[:, 1]*180/np.pi, cvae_arr[:, 2]*180/np.pi,\n",
    "                    levels=(0.68,),\n",
    "                    scale_hist=True,\n",
    "                    plot_datapoints=False,\n",
    "                    color='blue',\n",
    "                    labels= [\"$\\\\theta_{23} $($^\\circ$)\", \"$\\delta_{cp} $($^\\circ$)\"],\n",
    "                    range=range,\n",
    "                    plot_contours = True,\n",
    "                    plot_density = False,\n",
    "                    fontsize=30,\n",
    "                    bins = [200, 200],\n",
    "                    label_kwargs={\"fontsize\": 30},\n",
    "                    smooth=True\n",
    "                   )\n",
    "corner.hist2d(nf_arr[:, 1], nf_arr[:, 2],\n",
    "                    levels=(0.68,),\n",
    "                    scale_hist=True,\n",
    "                    plot_datapoints=False,\n",
    "                    color='red',\n",
    "                    labels= [\"$\\\\theta_{23} $($^\\circ$)\", \"$\\delta_{cp} $($^\\circ$)\"],\n",
    "                    range=range,\n",
    "                    plot_contours = True,\n",
    "                    plot_density = False,\n",
    "                    fontsize=30,\n",
    "                    bins = [200, 200],\n",
    "                    label_kwargs={\"fontsize\": 30},\n",
    "                    smooth=True\n",
    "                   )\n",
    "angle = np.angle(bnn_arr[:, 2] + 1j*bnn_arr[:, 3], deg=True)\n",
    "angle = np.where(angle > 0 , angle, angle+360)\n",
    "corner.hist2d(bnn_arr[:, 1]*180/np.pi, angle,\n",
    "                    levels=(0.68,),\n",
    "                    scale_hist=True,\n",
    "                    plot_datapoints=False,\n",
    "                    color='orange',\n",
    "                    labels= [\"$\\\\theta_{23} $($^\\circ$)\", \"$\\delta_{cp} $($^\\circ$)\"],\n",
    "                    range=range,\n",
    "                    plot_contours = True,\n",
    "                    plot_density = False,\n",
    "                    fontsize=30,\n",
    "                    bins = [200, 200],\n",
    "                    label_kwargs={\"fontsize\": 30},\n",
    "                    smooth=True\n",
    "                   )\n",
    "\n",
    "dot = plt.scatter(49, 195, label = \"true point\")\n",
    "proxy = [plt.Rectangle((2, 2), 0.0, 3, 90, fc=c) for c in ['green', 'blue', 'red', 'black', 'orange']]\n",
    "plt.legend(proxy + [dot], [\"dnn\", \"cvae\", \"nf\", \"chi2\", \"bnn\", \"true point\"])\n",
    "plt.contour(X0, Y0, Z0, 0, colors='black', linestyles=\"-\", linewidths=1)\n",
    "plt.title(\"IO spectrum PE\")\n",
    "plt.show()"
   ]
  },
  {
   "cell_type": "code",
   "execution_count": null,
   "metadata": {},
   "outputs": [],
   "source": []
  }
 ],
 "metadata": {
  "kernelspec": {
   "display_name": "Python 3.8.10 64-bit",
   "language": "python",
   "name": "python3"
  },
  "language_info": {
   "codemirror_mode": {
    "name": "ipython",
    "version": 3
   },
   "file_extension": ".py",
   "mimetype": "text/x-python",
   "name": "python",
   "nbconvert_exporter": "python",
   "pygments_lexer": "ipython3",
   "version": "3.8.10"
  },
  "orig_nbformat": 4,
  "vscode": {
   "interpreter": {
    "hash": "916dbcbb3f70747c44a77c7bcd40155683ae19c65e1c03b4aa3499c5328201f1"
   }
  }
 },
 "nbformat": 4,
 "nbformat_minor": 2
}
