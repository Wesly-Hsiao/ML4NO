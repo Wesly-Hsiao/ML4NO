{
 "cells": [
  {
   "cell_type": "code",
   "execution_count": 15,
   "id": "a627fc59-e50a-4241-835e-3730691d87df",
   "metadata": {},
   "outputs": [
    {
     "name": "stdout",
     "output_type": "stream",
     "text": [
      "2 Physical GPUs, 1 Logical GPU\n"
     ]
    }
   ],
   "source": [
    "import tensorflow as tf\n",
    "from tensorflow.keras.models import load_model\n",
    "import tensorflow_probability as tfp\n",
    "import numpy as np\n",
    "import matplotlib.pyplot as plt\n",
    "import corner\n",
    "import importlib\n",
    "import logging\n",
    "import os\n",
    "from functions import load_test_data, chi2_graph\n",
    "\n",
    "os.environ['TF_CPP_MIN_LOG_LEVEL'] = '2'\n",
    "importlib.reload(logging)\n",
    "gpus = tf.config.experimental.list_physical_devices('GPU')\n",
    "try:\n",
    "    tf.config.experimental.set_visible_devices(gpus[1], 'GPU')\n",
    "    tf.config.experimental.set_virtual_device_configuration(gpus[1],\n",
    "    [tf.config.experimental.VirtualDeviceConfiguration(memory_limit=20000)])\n",
    "    logical_gpus = tf.config.experimental.list_logical_devices('GPU')\n",
    "    print(len(gpus), \"Physical GPUs,\", len(logical_gpus), \"Logical GPU\")\n",
    "except RuntimeError as e:\n",
    "    print(e)"
   ]
  },
  {
   "cell_type": "code",
   "execution_count": 16,
   "id": "fc76d2d8",
   "metadata": {},
   "outputs": [],
   "source": [
    "#3flavor_clean, 3flavor_poisson, nsi_clean, nsi_poisson\n",
    "learn_target = '3flavor_clean'\n",
    "\n",
    "dnn = tf.keras.models.load_model('./dnn/' + learn_target + '/1.h5')\n",
    "data_all = load_test_data(learn_target)"
   ]
  },
  {
   "cell_type": "code",
   "execution_count": 17,
   "id": "5de93372",
   "metadata": {},
   "outputs": [],
   "source": [
    "gaussian_number = 10\n",
    "latent_dim = 10"
   ]
  },
  {
   "cell_type": "code",
   "execution_count": 18,
   "id": "3227fe3e-de14-442a-be80-3b187d22a9fc",
   "metadata": {},
   "outputs": [],
   "source": [
    "model_name = '/gaussian_number/10/'\n",
    "path = './cvae/' + learn_target +  model_name\n",
    "encoder1 = load_model(path + \"encoder_1.h5\", compile=False)\n",
    "encoder2 = load_model(path + \"encoder_2.h5\", compile=False)\n",
    "decoder = load_model(path + \"decoder.h5\", compile=False)"
   ]
  },
  {
   "cell_type": "code",
   "execution_count": 19,
   "id": "e5d8c9e4-b35f-482a-9b6e-a3d8d3f7b5cf",
   "metadata": {},
   "outputs": [],
   "source": [
    "n = 0\n",
    "data_poisson_array = data_all[n:n+1]/1000\n",
    "\n",
    "mean, log_var, weight = encoder2.predict(data_poisson_array)\n",
    "\n",
    "mean = tf.reshape(mean, (-1, gaussian_number, latent_dim))\n",
    "log_var = tf.reshape(log_var, (-1, gaussian_number, latent_dim))\n",
    "weight = tf.reshape(weight, (-1, gaussian_number))\n",
    "\n",
    "SMALL_CONSTANT = 1e-12\n",
    "temp_var = SMALL_CONSTANT + tf.exp(log_var)\n",
    "test_sampling = tfp.distributions.MixtureSameFamily(\n",
    "              mixture_distribution=tfp.distributions.Categorical(logits=weight),\n",
    "              components_distribution=tfp.distributions.MultivariateNormalDiag(\n",
    "              loc=mean,\n",
    "              scale_diag=tf.sqrt(temp_var)))\n",
    "\n",
    "sample_amount= 100000\n",
    "sample_times = 10\n",
    "prediction = []\n",
    "for i in range(sample_times):\n",
    "    Z3 = np.reshape(test_sampling.sample(sample_shape=(sample_amount)), (sample_amount, latent_dim))\n",
    "    reconstruction_mean, reconstruction_var = decoder.predict([Z3, np.array(([data_poisson_array[0]]*sample_amount))])\n",
    "    temp_var = SMALL_CONSTANT + tf.exp(reconstruction_var)\n",
    "    reconstruction_parameter = tfp.distributions.MultivariateNormalDiag(\n",
    "                            loc=reconstruction_mean,\n",
    "                            scale_diag=temp_var)\n",
    "    prediction.extend(reconstruction_parameter.sample().numpy())\n",
    "\n",
    "prediction_NO = np.array(prediction)"
   ]
  },
  {
   "cell_type": "code",
   "execution_count": 20,
   "id": "9815b180",
   "metadata": {},
   "outputs": [],
   "source": [
    "n = 0\n",
    "data_poisson_array = data_all[1:2]/1000\n",
    "\n",
    "mean, log_var, weight = encoder2.predict(data_poisson_array)\n",
    "\n",
    "mean = tf.reshape(mean, (-1, gaussian_number, latent_dim))\n",
    "log_var = tf.reshape(log_var, (-1, gaussian_number, latent_dim))\n",
    "weight = tf.reshape(weight, (-1, gaussian_number))\n",
    "\n",
    "SMALL_CONSTANT = 1e-12\n",
    "temp_var = SMALL_CONSTANT + tf.exp(log_var)\n",
    "test_sampling = tfp.distributions.MixtureSameFamily(\n",
    "              mixture_distribution=tfp.distributions.Categorical(logits=weight),\n",
    "              components_distribution=tfp.distributions.MultivariateNormalDiag(\n",
    "              loc=mean,\n",
    "              scale_diag=tf.sqrt(temp_var)))\n",
    "\n",
    "sample_amount= 100000\n",
    "sample_times = 10\n",
    "prediction = []\n",
    "for i in range(sample_times):\n",
    "    Z3 = np.reshape(test_sampling.sample(sample_shape=(sample_amount)), (sample_amount, latent_dim))\n",
    "    reconstruction_mean, reconstruction_var = decoder.predict([Z3, np.array(([data_poisson_array[0]]*sample_amount))])\n",
    "    temp_var = SMALL_CONSTANT + tf.exp(reconstruction_var)\n",
    "    reconstruction_parameter = tfp.distributions.MultivariateNormalDiag(\n",
    "                            loc=reconstruction_mean,\n",
    "                            scale_diag=temp_var)\n",
    "    prediction.extend(reconstruction_parameter.sample().numpy())\n",
    "\n",
    "prediction_IO = np.array(prediction)"
   ]
  },
  {
   "cell_type": "code",
   "execution_count": 21,
   "id": "b3223c01",
   "metadata": {},
   "outputs": [],
   "source": [
    "np.savez('./IO_contour/' + learn_target + '/cvae.npz', prediction_IO)\n",
    "np.savez('./NO_contour/' + learn_target + '/cvae.npz', prediction_NO)"
   ]
  }
 ],
 "metadata": {
  "kernelspec": {
   "display_name": "Python 3.8.10 64-bit",
   "language": "python",
   "name": "python3"
  },
  "language_info": {
   "codemirror_mode": {
    "name": "ipython",
    "version": 3
   },
   "file_extension": ".py",
   "mimetype": "text/x-python",
   "name": "python",
   "nbconvert_exporter": "python",
   "pygments_lexer": "ipython3",
   "version": "3.8.10"
  },
  "vscode": {
   "interpreter": {
    "hash": "31f2aee4e71d21fbe5cf8b01ff0e069b9275f58929596ceb00d14d90e3e16cd6"
   }
  }
 },
 "nbformat": 4,
 "nbformat_minor": 5
}
