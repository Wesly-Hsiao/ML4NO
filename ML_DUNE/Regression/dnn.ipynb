{
 "cells": [
  {
   "cell_type": "code",
   "execution_count": 1,
   "metadata": {},
   "outputs": [],
   "source": [
    "import numpy as np\n",
    "import tensorflow as tf\n",
    "import os \n",
    "import logging\n",
    "from functions import load_data\n",
    "\n",
    "os.environ['TF_CPP_MIN_LOG_LEVEL'] = '2'\n",
    "logging.basicConfig(level = logging.INFO)\n",
    "gpus = tf.config.experimental.list_physical_devices('GPU')\n",
    "try:\n",
    "    tf.config.experimental.set_visible_devices(gpus[0], 'GPU')\n",
    "    tf.config.experimental.set_virtual_device_configuration(\n",
    "    gpus[0],\n",
    "    [tf.config.experimental.VirtualDeviceConfiguration(memory_limit=2000)])\n",
    "    logical_gpus = tf.config.experimental.list_logical_devices('GPU')\n",
    "except RuntimeError as e:\n",
    "    logging.info(e)"
   ]
  },
  {
   "cell_type": "code",
   "execution_count": 2,
   "metadata": {
    "tags": []
   },
   "outputs": [],
   "source": [
    "x_train, y_train, x_val, y_val = load_data()"
   ]
  },
  {
   "cell_type": "code",
   "execution_count": 3,
   "metadata": {},
   "outputs": [],
   "source": [
    "def create_dnn_model():\n",
    "    inputs = tf.keras.Input(shape=(len(x_train[0]),), name = 'input')\n",
    "    features = tf.keras.layers.BatchNormalization()(inputs)\n",
    "    features = tf.keras.layers.Dense(256, activation='relu')(features)\n",
    "    features = tf.keras.layers.Dense(256, activation='relu')(features)\n",
    "    features = tf.keras.layers.Dense(64, activation='relu')(features)\n",
    "    features = tf.keras.layers.Dense(4, activation='linear')(features)\n",
    "    outputs = features\n",
    "    model = tf.keras.Model(inputs=inputs, outputs=outputs)\n",
    "    return model"
   ]
  },
  {
   "cell_type": "code",
   "execution_count": 4,
   "metadata": {},
   "outputs": [],
   "source": [
    "dnn = create_dnn_model()\n",
    "dnn.compile(\n",
    "    optimizer=tf.keras.optimizers.Adam(),\n",
    "    loss=tf.keras.losses.MeanSquaredError(),\n",
    "    metrics=[tf.keras.metrics.MeanSquaredError()],\n",
    ")"
   ]
  },
  {
   "cell_type": "code",
   "execution_count": 5,
   "metadata": {},
   "outputs": [
    {
     "name": "stdout",
     "output_type": "stream",
     "text": [
      "Epoch 1/20\n",
      "879/879 [==============================] - 8s 7ms/step - loss: 0.0043 - mean_squared_error: 0.0043 - val_loss: 9.0441e-04 - val_mean_squared_error: 9.0441e-04\n",
      "Epoch 2/20\n",
      "879/879 [==============================] - 6s 7ms/step - loss: 0.0010 - mean_squared_error: 0.0010 - val_loss: 4.2435e-04 - val_mean_squared_error: 4.2435e-04\n",
      "Epoch 3/20\n",
      "879/879 [==============================] - 6s 7ms/step - loss: 8.3540e-04 - mean_squared_error: 8.3540e-04 - val_loss: 8.9046e-04 - val_mean_squared_error: 8.9046e-04\n",
      "Epoch 4/20\n",
      "879/879 [==============================] - 6s 7ms/step - loss: 7.9135e-04 - mean_squared_error: 7.9135e-04 - val_loss: 4.9359e-04 - val_mean_squared_error: 4.9359e-04\n",
      "Epoch 5/20\n",
      "879/879 [==============================] - 6s 7ms/step - loss: 7.0456e-04 - mean_squared_error: 7.0456e-04 - val_loss: 2.3205e-04 - val_mean_squared_error: 2.3205e-04\n",
      "Epoch 6/20\n",
      "879/879 [==============================] - 6s 7ms/step - loss: 6.8623e-04 - mean_squared_error: 6.8623e-04 - val_loss: 4.5815e-04 - val_mean_squared_error: 4.5815e-04\n",
      "Epoch 7/20\n",
      "879/879 [==============================] - 6s 7ms/step - loss: 6.0892e-04 - mean_squared_error: 6.0892e-04 - val_loss: 7.0843e-04 - val_mean_squared_error: 7.0843e-04\n",
      "Epoch 8/20\n",
      "879/879 [==============================] - 6s 7ms/step - loss: 5.6649e-04 - mean_squared_error: 5.6649e-04 - val_loss: 2.5522e-04 - val_mean_squared_error: 2.5522e-04\n",
      "Epoch 9/20\n",
      "879/879 [==============================] - 6s 7ms/step - loss: 5.1244e-04 - mean_squared_error: 5.1244e-04 - val_loss: 1.4922e-04 - val_mean_squared_error: 1.4922e-04\n",
      "Epoch 10/20\n",
      "879/879 [==============================] - 6s 7ms/step - loss: 4.6509e-04 - mean_squared_error: 4.6509e-04 - val_loss: 8.9220e-04 - val_mean_squared_error: 8.9220e-04\n",
      "Epoch 11/20\n",
      "879/879 [==============================] - 6s 7ms/step - loss: 4.6716e-04 - mean_squared_error: 4.6716e-04 - val_loss: 1.7425e-04 - val_mean_squared_error: 1.7425e-04\n",
      "Epoch 12/20\n",
      "879/879 [==============================] - 6s 7ms/step - loss: 4.3674e-04 - mean_squared_error: 4.3674e-04 - val_loss: 1.1184e-04 - val_mean_squared_error: 1.1184e-04\n",
      "Epoch 13/20\n",
      "879/879 [==============================] - 6s 7ms/step - loss: 4.2024e-04 - mean_squared_error: 4.2024e-04 - val_loss: 1.3036e-04 - val_mean_squared_error: 1.3036e-04\n",
      "Epoch 14/20\n",
      "879/879 [==============================] - 6s 7ms/step - loss: 4.0946e-04 - mean_squared_error: 4.0946e-04 - val_loss: 7.7834e-05 - val_mean_squared_error: 7.7834e-05\n",
      "Epoch 15/20\n",
      "879/879 [==============================] - 6s 7ms/step - loss: 3.7030e-04 - mean_squared_error: 3.7030e-04 - val_loss: 1.6995e-04 - val_mean_squared_error: 1.6995e-04\n",
      "Epoch 16/20\n",
      "879/879 [==============================] - 6s 7ms/step - loss: 3.7594e-04 - mean_squared_error: 3.7594e-04 - val_loss: 4.1895e-04 - val_mean_squared_error: 4.1895e-04\n",
      "Epoch 17/20\n",
      "879/879 [==============================] - 6s 7ms/step - loss: 3.7546e-04 - mean_squared_error: 3.7546e-04 - val_loss: 2.2436e-04 - val_mean_squared_error: 2.2436e-04\n",
      "Epoch 18/20\n",
      "879/879 [==============================] - 6s 7ms/step - loss: 3.6524e-04 - mean_squared_error: 3.6524e-04 - val_loss: 2.4589e-04 - val_mean_squared_error: 2.4589e-04\n",
      "Epoch 19/20\n",
      "879/879 [==============================] - 6s 7ms/step - loss: 3.3160e-04 - mean_squared_error: 3.3160e-04 - val_loss: 1.4905e-04 - val_mean_squared_error: 1.4905e-04\n",
      "Epoch 20/20\n",
      "879/879 [==============================] - 6s 7ms/step - loss: 3.2314e-04 - mean_squared_error: 3.2314e-04 - val_loss: 1.5550e-04 - val_mean_squared_error: 1.5550e-04\n"
     ]
    },
    {
     "data": {
      "text/plain": [
       "<keras.callbacks.History at 0x7f92dc056640>"
      ]
     },
     "execution_count": 5,
     "metadata": {},
     "output_type": "execute_result"
    }
   ],
   "source": [
    "dnn.fit(x_train, y_train,\n",
    "           validation_data = (x_val, y_val),\n",
    "           batch_size=1024,\n",
    "           epochs=20,\n",
    "           verbose=1,\n",
    "           shuffle = True\n",
    "         )"
   ]
  },
  {
   "cell_type": "code",
   "execution_count": 6,
   "metadata": {
    "tags": []
   },
   "outputs": [],
   "source": [
    "index = 1\n",
    "while os.path.isfile('./dnn/{}.h5'.format(index)):\n",
    "    index += 1\n",
    "dnn.save('./dnn/{}.h5'.format(index))"
   ]
  },
  {
   "cell_type": "code",
   "execution_count": null,
   "metadata": {},
   "outputs": [],
   "source": []
  }
 ],
 "metadata": {
  "kernelspec": {
   "display_name": "Python 3.8.10 64-bit",
   "language": "python",
   "name": "python3"
  },
  "language_info": {
   "codemirror_mode": {
    "name": "ipython",
    "version": 3
   },
   "file_extension": ".py",
   "mimetype": "text/x-python",
   "name": "python",
   "nbconvert_exporter": "python",
   "pygments_lexer": "ipython3",
   "version": "3.8.10"
  },
  "vscode": {
   "interpreter": {
    "hash": "916dbcbb3f70747c44a77c7bcd40155683ae19c65e1c03b4aa3499c5328201f1"
   }
  }
 },
 "nbformat": 4,
 "nbformat_minor": 4
}
