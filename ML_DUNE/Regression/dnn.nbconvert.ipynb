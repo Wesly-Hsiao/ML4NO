{
 "cells": [
  {
   "cell_type": "code",
   "execution_count": 1,
   "metadata": {
    "execution": {
     "iopub.execute_input": "2022-07-24T13:27:10.178570Z",
     "iopub.status.busy": "2022-07-24T13:27:10.178095Z",
     "iopub.status.idle": "2022-07-24T13:27:12.107007Z",
     "shell.execute_reply": "2022-07-24T13:27:12.105722Z"
    }
   },
   "outputs": [],
   "source": [
    "import tensorflow as tf\n",
    "import os \n",
    "import logging\n",
    "from functions import load_train_data\n",
    "\n",
    "os.environ['TF_CPP_MIN_LOG_LEVEL'] = '2'\n",
    "logging.basicConfig(level = logging.INFO)\n",
    "gpus = tf.config.experimental.list_physical_devices('GPU')\n",
    "try:\n",
    "    tf.config.experimental.set_visible_devices(gpus[0], 'GPU')\n",
    "    tf.config.experimental.set_virtual_device_configuration(\n",
    "    gpus[0],\n",
    "    [tf.config.experimental.VirtualDeviceConfiguration(memory_limit=10000)])\n",
    "    logical_gpus = tf.config.experimental.list_logical_devices('GPU')\n",
    "except RuntimeError as e:\n",
    "    logging.info(e)"
   ]
  },
  {
   "cell_type": "code",
   "execution_count": 2,
   "metadata": {
    "execution": {
     "iopub.execute_input": "2022-07-24T13:27:12.112525Z",
     "iopub.status.busy": "2022-07-24T13:27:12.112000Z",
     "iopub.status.idle": "2022-07-24T13:28:00.420480Z",
     "shell.execute_reply": "2022-07-24T13:28:00.419297Z"
    },
    "tags": []
   },
   "outputs": [],
   "source": [
    "#3flavor_clean, 3flavor_poisson, nsi_clean, nsi_poisson\n",
    "learn_target = 'nsi_clean'\n",
    "\n",
    "x_train, y_train, x_val, y_val = load_train_data(learn_target)"
   ]
  },
  {
   "cell_type": "code",
   "execution_count": 3,
   "metadata": {
    "execution": {
     "iopub.execute_input": "2022-07-24T13:28:00.426189Z",
     "iopub.status.busy": "2022-07-24T13:28:00.425807Z",
     "iopub.status.idle": "2022-07-24T13:28:00.433504Z",
     "shell.execute_reply": "2022-07-24T13:28:00.432738Z"
    }
   },
   "outputs": [],
   "source": [
    "def create_dnn_model():\n",
    "    inputs = tf.keras.Input(shape=(len(x_train[0]),), name = 'input')\n",
    "    features = tf.keras.layers.BatchNormalization()(inputs)\n",
    "    features = tf.keras.layers.Dense(256, activation='relu')(features)\n",
    "    features = tf.keras.layers.Dense(256, activation='relu')(features)\n",
    "    features = tf.keras.layers.Dense(64, activation='relu')(features)\n",
    "    features = tf.keras.layers.Dense(len(y_train[0]), activation='linear')(features)\n",
    "    outputs = features\n",
    "    model = tf.keras.Model(inputs=inputs, outputs=outputs)\n",
    "    return model"
   ]
  },
  {
   "cell_type": "code",
   "execution_count": 4,
   "metadata": {
    "execution": {
     "iopub.execute_input": "2022-07-24T13:28:00.437986Z",
     "iopub.status.busy": "2022-07-24T13:28:00.437747Z",
     "iopub.status.idle": "2022-07-24T13:28:00.598126Z",
     "shell.execute_reply": "2022-07-24T13:28:00.597566Z"
    }
   },
   "outputs": [],
   "source": [
    "dnn = create_dnn_model()\n",
    "dnn.compile(\n",
    "    optimizer=tf.keras.optimizers.Adam(),\n",
    "    loss=tf.keras.losses.MeanSquaredError(),\n",
    "    metrics=[tf.keras.metrics.MeanSquaredError()],\n",
    ")"
   ]
  },
  {
   "cell_type": "code",
   "execution_count": 5,
   "metadata": {
    "execution": {
     "iopub.execute_input": "2022-07-24T13:28:00.601464Z",
     "iopub.status.busy": "2022-07-24T13:28:00.601211Z",
     "iopub.status.idle": "2022-07-24T14:18:59.666195Z",
     "shell.execute_reply": "2022-07-24T14:18:59.665063Z"
    }
   },
   "outputs": [
    {
     "name": "stdout",
     "output_type": "stream",
     "text": [
      "Epoch 1/100\n",
      "8790/8790 [==============================] - 34s 4ms/step - loss: 0.0155 - mean_squared_error: 0.0155 - val_loss: 0.0072 - val_mean_squared_error: 0.0072\n",
      "Epoch 2/100\n",
      "8790/8790 [==============================] - 31s 4ms/step - loss: 0.0041 - mean_squared_error: 0.0041 - val_loss: 0.0031 - val_mean_squared_error: 0.0031\n",
      "Epoch 3/100\n",
      "8790/8790 [==============================] - 31s 4ms/step - loss: 0.0026 - mean_squared_error: 0.0026 - val_loss: 0.0046 - val_mean_squared_error: 0.0046\n",
      "Epoch 4/100\n",
      "8790/8790 [==============================] - 31s 4ms/step - loss: 0.0020 - mean_squared_error: 0.0020 - val_loss: 0.0029 - val_mean_squared_error: 0.0029\n",
      "Epoch 5/100\n",
      "8790/8790 [==============================] - 31s 4ms/step - loss: 0.0017 - mean_squared_error: 0.0017 - val_loss: 0.0020 - val_mean_squared_error: 0.0020\n",
      "Epoch 6/100\n",
      "8790/8790 [==============================] - 31s 4ms/step - loss: 0.0015 - mean_squared_error: 0.0015 - val_loss: 0.0015 - val_mean_squared_error: 0.0015\n",
      "Epoch 7/100\n",
      "8790/8790 [==============================] - 31s 3ms/step - loss: 0.0014 - mean_squared_error: 0.0014 - val_loss: 0.0021 - val_mean_squared_error: 0.0021\n",
      "Epoch 8/100\n",
      "8790/8790 [==============================] - 31s 3ms/step - loss: 0.0013 - mean_squared_error: 0.0013 - val_loss: 0.0011 - val_mean_squared_error: 0.0011\n",
      "Epoch 9/100\n",
      "8790/8790 [==============================] - 31s 3ms/step - loss: 0.0012 - mean_squared_error: 0.0012 - val_loss: 0.0027 - val_mean_squared_error: 0.0027\n",
      "Epoch 10/100\n",
      "8790/8790 [==============================] - 30s 3ms/step - loss: 0.0011 - mean_squared_error: 0.0011 - val_loss: 0.0016 - val_mean_squared_error: 0.0016\n",
      "Epoch 11/100\n",
      "8790/8790 [==============================] - 31s 3ms/step - loss: 0.0011 - mean_squared_error: 0.0011 - val_loss: 0.0017 - val_mean_squared_error: 0.0017\n",
      "Epoch 12/100\n",
      "8790/8790 [==============================] - 30s 3ms/step - loss: 0.0010 - mean_squared_error: 0.0010 - val_loss: 6.6794e-04 - val_mean_squared_error: 6.6794e-04\n",
      "Epoch 13/100\n",
      "8790/8790 [==============================] - 30s 3ms/step - loss: 0.0010 - mean_squared_error: 0.0010 - val_loss: 0.0013 - val_mean_squared_error: 0.0013\n",
      "Epoch 14/100\n",
      "8790/8790 [==============================] - 30s 3ms/step - loss: 9.7642e-04 - mean_squared_error: 9.7642e-04 - val_loss: 8.1877e-04 - val_mean_squared_error: 8.1877e-04\n",
      "Epoch 15/100\n",
      "8790/8790 [==============================] - 31s 3ms/step - loss: 9.4481e-04 - mean_squared_error: 9.4481e-04 - val_loss: 0.0011 - val_mean_squared_error: 0.0011\n",
      "Epoch 16/100\n",
      "8790/8790 [==============================] - 30s 3ms/step - loss: 9.2093e-04 - mean_squared_error: 9.2093e-04 - val_loss: 8.0358e-04 - val_mean_squared_error: 8.0358e-04\n",
      "Epoch 17/100\n",
      "8790/8790 [==============================] - 31s 3ms/step - loss: 8.9305e-04 - mean_squared_error: 8.9305e-04 - val_loss: 8.4715e-04 - val_mean_squared_error: 8.4715e-04\n",
      "Epoch 18/100\n",
      "8790/8790 [==============================] - 30s 3ms/step - loss: 8.7654e-04 - mean_squared_error: 8.7654e-04 - val_loss: 0.0016 - val_mean_squared_error: 0.0016\n",
      "Epoch 19/100\n",
      "8790/8790 [==============================] - 30s 3ms/step - loss: 8.6878e-04 - mean_squared_error: 8.6878e-04 - val_loss: 0.0012 - val_mean_squared_error: 0.0012\n",
      "Epoch 20/100\n",
      "8790/8790 [==============================] - 30s 3ms/step - loss: 8.4743e-04 - mean_squared_error: 8.4743e-04 - val_loss: 0.0010 - val_mean_squared_error: 0.0010\n",
      "Epoch 21/100\n",
      "8790/8790 [==============================] - 30s 3ms/step - loss: 8.2944e-04 - mean_squared_error: 8.2944e-04 - val_loss: 0.0012 - val_mean_squared_error: 0.0012\n",
      "Epoch 22/100\n",
      "8790/8790 [==============================] - 30s 3ms/step - loss: 8.1680e-04 - mean_squared_error: 8.1680e-04 - val_loss: 6.8194e-04 - val_mean_squared_error: 6.8194e-04\n",
      "Epoch 23/100\n",
      "8790/8790 [==============================] - 31s 3ms/step - loss: 8.0806e-04 - mean_squared_error: 8.0806e-04 - val_loss: 6.6356e-04 - val_mean_squared_error: 6.6356e-04\n",
      "Epoch 24/100\n",
      "8790/8790 [==============================] - 31s 4ms/step - loss: 7.9397e-04 - mean_squared_error: 7.9397e-04 - val_loss: 5.1629e-04 - val_mean_squared_error: 5.1629e-04\n",
      "Epoch 25/100\n",
      "8790/8790 [==============================] - 31s 3ms/step - loss: 7.8669e-04 - mean_squared_error: 7.8669e-04 - val_loss: 0.0012 - val_mean_squared_error: 0.0012\n",
      "Epoch 26/100\n",
      "8790/8790 [==============================] - 30s 3ms/step - loss: 7.8078e-04 - mean_squared_error: 7.8078e-04 - val_loss: 4.2369e-04 - val_mean_squared_error: 4.2369e-04\n",
      "Epoch 27/100\n",
      "8790/8790 [==============================] - 30s 3ms/step - loss: 7.6829e-04 - mean_squared_error: 7.6829e-04 - val_loss: 8.1570e-04 - val_mean_squared_error: 8.1570e-04\n",
      "Epoch 28/100\n",
      "8790/8790 [==============================] - 30s 3ms/step - loss: 7.5020e-04 - mean_squared_error: 7.5020e-04 - val_loss: 5.4634e-04 - val_mean_squared_error: 5.4634e-04\n",
      "Epoch 29/100\n",
      "8790/8790 [==============================] - 30s 3ms/step - loss: 7.4873e-04 - mean_squared_error: 7.4873e-04 - val_loss: 0.0011 - val_mean_squared_error: 0.0011\n",
      "Epoch 30/100\n",
      "8790/8790 [==============================] - 31s 3ms/step - loss: 7.4611e-04 - mean_squared_error: 7.4611e-04 - val_loss: 8.2116e-04 - val_mean_squared_error: 8.2116e-04\n",
      "Epoch 31/100\n",
      "8790/8790 [==============================] - 30s 3ms/step - loss: 7.3223e-04 - mean_squared_error: 7.3223e-04 - val_loss: 5.1004e-04 - val_mean_squared_error: 5.1004e-04\n",
      "Epoch 32/100\n",
      "8790/8790 [==============================] - 30s 3ms/step - loss: 7.2934e-04 - mean_squared_error: 7.2934e-04 - val_loss: 9.1319e-04 - val_mean_squared_error: 9.1319e-04\n",
      "Epoch 33/100\n",
      "8790/8790 [==============================] - 30s 3ms/step - loss: 7.2356e-04 - mean_squared_error: 7.2356e-04 - val_loss: 6.6094e-04 - val_mean_squared_error: 6.6094e-04\n",
      "Epoch 34/100\n",
      "8790/8790 [==============================] - 30s 3ms/step - loss: 7.1856e-04 - mean_squared_error: 7.1856e-04 - val_loss: 8.3598e-04 - val_mean_squared_error: 8.3598e-04\n",
      "Epoch 35/100\n",
      "8790/8790 [==============================] - 30s 3ms/step - loss: 7.1137e-04 - mean_squared_error: 7.1137e-04 - val_loss: 5.8295e-04 - val_mean_squared_error: 5.8295e-04\n",
      "Epoch 36/100\n",
      "8790/8790 [==============================] - 30s 3ms/step - loss: 7.0463e-04 - mean_squared_error: 7.0463e-04 - val_loss: 6.2192e-04 - val_mean_squared_error: 6.2192e-04\n",
      "Epoch 37/100\n",
      "8790/8790 [==============================] - 31s 3ms/step - loss: 7.0090e-04 - mean_squared_error: 7.0090e-04 - val_loss: 0.0012 - val_mean_squared_error: 0.0012\n",
      "Epoch 38/100\n",
      "8790/8790 [==============================] - 31s 4ms/step - loss: 6.9811e-04 - mean_squared_error: 6.9811e-04 - val_loss: 5.0204e-04 - val_mean_squared_error: 5.0204e-04\n",
      "Epoch 39/100\n",
      "8790/8790 [==============================] - 30s 3ms/step - loss: 6.8978e-04 - mean_squared_error: 6.8978e-04 - val_loss: 6.8548e-04 - val_mean_squared_error: 6.8548e-04\n",
      "Epoch 40/100\n",
      "8790/8790 [==============================] - 30s 3ms/step - loss: 6.8774e-04 - mean_squared_error: 6.8774e-04 - val_loss: 5.3063e-04 - val_mean_squared_error: 5.3063e-04\n",
      "Epoch 41/100\n",
      "8790/8790 [==============================] - 30s 3ms/step - loss: 6.7550e-04 - mean_squared_error: 6.7550e-04 - val_loss: 5.8212e-04 - val_mean_squared_error: 5.8212e-04\n",
      "Epoch 42/100\n",
      "8790/8790 [==============================] - 31s 4ms/step - loss: 6.7699e-04 - mean_squared_error: 6.7699e-04 - val_loss: 6.5489e-04 - val_mean_squared_error: 6.5489e-04\n",
      "Epoch 43/100\n",
      "8790/8790 [==============================] - 30s 3ms/step - loss: 6.7395e-04 - mean_squared_error: 6.7395e-04 - val_loss: 4.9810e-04 - val_mean_squared_error: 4.9810e-04\n",
      "Epoch 44/100\n",
      "8790/8790 [==============================] - 30s 3ms/step - loss: 6.6970e-04 - mean_squared_error: 6.6970e-04 - val_loss: 5.5588e-04 - val_mean_squared_error: 5.5588e-04\n",
      "Epoch 45/100\n",
      "8790/8790 [==============================] - 31s 3ms/step - loss: 6.6253e-04 - mean_squared_error: 6.6253e-04 - val_loss: 5.4433e-04 - val_mean_squared_error: 5.4433e-04\n",
      "Epoch 46/100\n",
      "8790/8790 [==============================] - 30s 3ms/step - loss: 6.6236e-04 - mean_squared_error: 6.6236e-04 - val_loss: 5.3304e-04 - val_mean_squared_error: 5.3304e-04\n",
      "Epoch 47/100\n",
      "8790/8790 [==============================] - 31s 3ms/step - loss: 6.6241e-04 - mean_squared_error: 6.6241e-04 - val_loss: 4.3566e-04 - val_mean_squared_error: 4.3566e-04\n",
      "Epoch 48/100\n",
      "8790/8790 [==============================] - 30s 3ms/step - loss: 6.5988e-04 - mean_squared_error: 6.5988e-04 - val_loss: 5.0551e-04 - val_mean_squared_error: 5.0551e-04\n",
      "Epoch 49/100\n",
      "8790/8790 [==============================] - 31s 3ms/step - loss: 6.5075e-04 - mean_squared_error: 6.5075e-04 - val_loss: 7.7706e-04 - val_mean_squared_error: 7.7706e-04\n",
      "Epoch 50/100\n",
      "8790/8790 [==============================] - 30s 3ms/step - loss: 6.5233e-04 - mean_squared_error: 6.5233e-04 - val_loss: 0.0011 - val_mean_squared_error: 0.0011\n",
      "Epoch 51/100\n",
      "8790/8790 [==============================] - 30s 3ms/step - loss: 6.4970e-04 - mean_squared_error: 6.4970e-04 - val_loss: 6.6687e-04 - val_mean_squared_error: 6.6687e-04\n",
      "Epoch 52/100\n",
      "8790/8790 [==============================] - 30s 3ms/step - loss: 6.4718e-04 - mean_squared_error: 6.4718e-04 - val_loss: 6.8535e-04 - val_mean_squared_error: 6.8535e-04\n",
      "Epoch 53/100\n",
      "8790/8790 [==============================] - 30s 3ms/step - loss: 6.4998e-04 - mean_squared_error: 6.4998e-04 - val_loss: 6.8067e-04 - val_mean_squared_error: 6.8067e-04\n",
      "Epoch 54/100\n",
      "8790/8790 [==============================] - 30s 3ms/step - loss: 6.4472e-04 - mean_squared_error: 6.4472e-04 - val_loss: 4.2997e-04 - val_mean_squared_error: 4.2997e-04\n",
      "Epoch 55/100\n",
      "8790/8790 [==============================] - 30s 3ms/step - loss: 6.3587e-04 - mean_squared_error: 6.3587e-04 - val_loss: 4.3807e-04 - val_mean_squared_error: 4.3807e-04\n",
      "Epoch 56/100\n",
      "8790/8790 [==============================] - 30s 3ms/step - loss: 6.3534e-04 - mean_squared_error: 6.3534e-04 - val_loss: 4.0297e-04 - val_mean_squared_error: 4.0297e-04\n",
      "Epoch 57/100\n",
      "8790/8790 [==============================] - 30s 3ms/step - loss: 6.3503e-04 - mean_squared_error: 6.3503e-04 - val_loss: 5.4851e-04 - val_mean_squared_error: 5.4851e-04\n",
      "Epoch 58/100\n",
      "8790/8790 [==============================] - 31s 3ms/step - loss: 6.2917e-04 - mean_squared_error: 6.2917e-04 - val_loss: 4.6206e-04 - val_mean_squared_error: 4.6206e-04\n",
      "Epoch 59/100\n",
      "8790/8790 [==============================] - 30s 3ms/step - loss: 6.2608e-04 - mean_squared_error: 6.2608e-04 - val_loss: 4.8715e-04 - val_mean_squared_error: 4.8715e-04\n",
      "Epoch 60/100\n",
      "8790/8790 [==============================] - 30s 3ms/step - loss: 6.2008e-04 - mean_squared_error: 6.2008e-04 - val_loss: 8.4621e-04 - val_mean_squared_error: 8.4621e-04\n",
      "Epoch 61/100\n",
      "8790/8790 [==============================] - 30s 3ms/step - loss: 6.2670e-04 - mean_squared_error: 6.2670e-04 - val_loss: 4.7724e-04 - val_mean_squared_error: 4.7724e-04\n",
      "Epoch 62/100\n",
      "8790/8790 [==============================] - 31s 4ms/step - loss: 6.1913e-04 - mean_squared_error: 6.1913e-04 - val_loss: 7.5510e-04 - val_mean_squared_error: 7.5510e-04\n",
      "Epoch 63/100\n",
      "8790/8790 [==============================] - 30s 3ms/step - loss: 6.2026e-04 - mean_squared_error: 6.2026e-04 - val_loss: 4.9181e-04 - val_mean_squared_error: 4.9181e-04\n",
      "Epoch 64/100\n",
      "8790/8790 [==============================] - 30s 3ms/step - loss: 6.2032e-04 - mean_squared_error: 6.2032e-04 - val_loss: 4.3474e-04 - val_mean_squared_error: 4.3474e-04\n",
      "Epoch 65/100\n",
      "8790/8790 [==============================] - 31s 3ms/step - loss: 6.2153e-04 - mean_squared_error: 6.2153e-04 - val_loss: 6.9988e-04 - val_mean_squared_error: 6.9988e-04\n",
      "Epoch 66/100\n",
      "8790/8790 [==============================] - 30s 3ms/step - loss: 6.1940e-04 - mean_squared_error: 6.1940e-04 - val_loss: 9.9607e-04 - val_mean_squared_error: 9.9607e-04\n",
      "Epoch 67/100\n",
      "8790/8790 [==============================] - 30s 3ms/step - loss: 6.1410e-04 - mean_squared_error: 6.1410e-04 - val_loss: 5.6359e-04 - val_mean_squared_error: 5.6359e-04\n",
      "Epoch 68/100\n",
      "8790/8790 [==============================] - 31s 4ms/step - loss: 6.1274e-04 - mean_squared_error: 6.1274e-04 - val_loss: 8.8819e-04 - val_mean_squared_error: 8.8819e-04\n",
      "Epoch 69/100\n",
      "8790/8790 [==============================] - 31s 4ms/step - loss: 6.1285e-04 - mean_squared_error: 6.1285e-04 - val_loss: 6.3361e-04 - val_mean_squared_error: 6.3361e-04\n",
      "Epoch 70/100\n",
      "8790/8790 [==============================] - 31s 3ms/step - loss: 6.1077e-04 - mean_squared_error: 6.1077e-04 - val_loss: 0.0013 - val_mean_squared_error: 0.0013\n",
      "Epoch 71/100\n",
      "8790/8790 [==============================] - 31s 3ms/step - loss: 6.0851e-04 - mean_squared_error: 6.0851e-04 - val_loss: 6.2927e-04 - val_mean_squared_error: 6.2927e-04\n",
      "Epoch 72/100\n",
      "8790/8790 [==============================] - 30s 3ms/step - loss: 6.0404e-04 - mean_squared_error: 6.0404e-04 - val_loss: 0.0011 - val_mean_squared_error: 0.0011\n",
      "Epoch 73/100\n",
      "8790/8790 [==============================] - 31s 3ms/step - loss: 6.0764e-04 - mean_squared_error: 6.0764e-04 - val_loss: 7.1936e-04 - val_mean_squared_error: 7.1936e-04\n",
      "Epoch 74/100\n",
      "8790/8790 [==============================] - 30s 3ms/step - loss: 6.0882e-04 - mean_squared_error: 6.0882e-04 - val_loss: 4.5001e-04 - val_mean_squared_error: 4.5001e-04\n",
      "Epoch 75/100\n",
      "8790/8790 [==============================] - 30s 3ms/step - loss: 5.9683e-04 - mean_squared_error: 5.9683e-04 - val_loss: 4.8174e-04 - val_mean_squared_error: 4.8174e-04\n",
      "Epoch 76/100\n",
      "8790/8790 [==============================] - 30s 3ms/step - loss: 6.0065e-04 - mean_squared_error: 6.0065e-04 - val_loss: 5.6103e-04 - val_mean_squared_error: 5.6103e-04\n",
      "Epoch 77/100\n",
      "8790/8790 [==============================] - 30s 3ms/step - loss: 6.0379e-04 - mean_squared_error: 6.0379e-04 - val_loss: 8.3323e-04 - val_mean_squared_error: 8.3323e-04\n",
      "Epoch 78/100\n",
      "8790/8790 [==============================] - 30s 3ms/step - loss: 5.9773e-04 - mean_squared_error: 5.9773e-04 - val_loss: 7.3611e-04 - val_mean_squared_error: 7.3611e-04\n",
      "Epoch 79/100\n",
      "8790/8790 [==============================] - 31s 4ms/step - loss: 6.0060e-04 - mean_squared_error: 6.0060e-04 - val_loss: 5.5037e-04 - val_mean_squared_error: 5.5037e-04\n",
      "Epoch 80/100\n",
      "8790/8790 [==============================] - 31s 4ms/step - loss: 5.9443e-04 - mean_squared_error: 5.9443e-04 - val_loss: 6.4518e-04 - val_mean_squared_error: 6.4518e-04\n",
      "Epoch 81/100\n",
      "8790/8790 [==============================] - 30s 3ms/step - loss: 5.9512e-04 - mean_squared_error: 5.9512e-04 - val_loss: 7.2472e-04 - val_mean_squared_error: 7.2472e-04\n",
      "Epoch 82/100\n",
      "8790/8790 [==============================] - 31s 4ms/step - loss: 5.9418e-04 - mean_squared_error: 5.9418e-04 - val_loss: 3.3794e-04 - val_mean_squared_error: 3.3794e-04\n",
      "Epoch 83/100\n",
      "8790/8790 [==============================] - 31s 3ms/step - loss: 5.9290e-04 - mean_squared_error: 5.9290e-04 - val_loss: 6.6547e-04 - val_mean_squared_error: 6.6547e-04\n",
      "Epoch 84/100\n",
      "8790/8790 [==============================] - 31s 3ms/step - loss: 5.9228e-04 - mean_squared_error: 5.9228e-04 - val_loss: 9.2235e-04 - val_mean_squared_error: 9.2235e-04\n",
      "Epoch 85/100\n",
      "8790/8790 [==============================] - 31s 3ms/step - loss: 5.9429e-04 - mean_squared_error: 5.9429e-04 - val_loss: 5.7694e-04 - val_mean_squared_error: 5.7694e-04\n",
      "Epoch 86/100\n",
      "8790/8790 [==============================] - 31s 3ms/step - loss: 5.9034e-04 - mean_squared_error: 5.9034e-04 - val_loss: 7.2857e-04 - val_mean_squared_error: 7.2857e-04\n",
      "Epoch 87/100\n",
      "8790/8790 [==============================] - 30s 3ms/step - loss: 5.9148e-04 - mean_squared_error: 5.9148e-04 - val_loss: 3.8149e-04 - val_mean_squared_error: 3.8149e-04\n",
      "Epoch 88/100\n",
      "8790/8790 [==============================] - 30s 3ms/step - loss: 5.8659e-04 - mean_squared_error: 5.8659e-04 - val_loss: 6.4457e-04 - val_mean_squared_error: 6.4457e-04\n",
      "Epoch 89/100\n",
      "8790/8790 [==============================] - 30s 3ms/step - loss: 5.8757e-04 - mean_squared_error: 5.8757e-04 - val_loss: 5.0779e-04 - val_mean_squared_error: 5.0779e-04\n",
      "Epoch 90/100\n",
      "8790/8790 [==============================] - 31s 3ms/step - loss: 5.8585e-04 - mean_squared_error: 5.8585e-04 - val_loss: 5.5819e-04 - val_mean_squared_error: 5.5819e-04\n",
      "Epoch 91/100\n",
      "8790/8790 [==============================] - 31s 4ms/step - loss: 5.8597e-04 - mean_squared_error: 5.8597e-04 - val_loss: 4.5173e-04 - val_mean_squared_error: 4.5173e-04\n",
      "Epoch 92/100\n",
      "8790/8790 [==============================] - 31s 3ms/step - loss: 5.7236e-04 - mean_squared_error: 5.7236e-04 - val_loss: 4.9969e-04 - val_mean_squared_error: 4.9969e-04\n",
      "Epoch 93/100\n",
      "8790/8790 [==============================] - 30s 3ms/step - loss: 5.8429e-04 - mean_squared_error: 5.8429e-04 - val_loss: 4.4787e-04 - val_mean_squared_error: 4.4787e-04\n",
      "Epoch 94/100\n",
      "8790/8790 [==============================] - 30s 3ms/step - loss: 5.7818e-04 - mean_squared_error: 5.7818e-04 - val_loss: 0.0010 - val_mean_squared_error: 0.0010\n",
      "Epoch 95/100\n",
      "8790/8790 [==============================] - 30s 3ms/step - loss: 5.8453e-04 - mean_squared_error: 5.8453e-04 - val_loss: 5.2947e-04 - val_mean_squared_error: 5.2947e-04\n",
      "Epoch 96/100\n",
      "8790/8790 [==============================] - 30s 3ms/step - loss: 5.8142e-04 - mean_squared_error: 5.8142e-04 - val_loss: 7.3535e-04 - val_mean_squared_error: 7.3535e-04\n",
      "Epoch 97/100\n",
      "8790/8790 [==============================] - 30s 3ms/step - loss: 5.8439e-04 - mean_squared_error: 5.8439e-04 - val_loss: 3.7258e-04 - val_mean_squared_error: 3.7258e-04\n",
      "Epoch 98/100\n",
      "8790/8790 [==============================] - 30s 3ms/step - loss: 5.7702e-04 - mean_squared_error: 5.7702e-04 - val_loss: 5.2802e-04 - val_mean_squared_error: 5.2802e-04\n",
      "Epoch 99/100\n",
      "8790/8790 [==============================] - 30s 3ms/step - loss: 5.7846e-04 - mean_squared_error: 5.7846e-04 - val_loss: 5.9267e-04 - val_mean_squared_error: 5.9267e-04\n",
      "Epoch 100/100\n",
      "8790/8790 [==============================] - 31s 3ms/step - loss: 5.7726e-04 - mean_squared_error: 5.7726e-04 - val_loss: 4.2230e-04 - val_mean_squared_error: 4.2230e-04\n"
     ]
    },
    {
     "data": {
      "text/plain": [
       "<keras.callbacks.History at 0x7f2073c082b0>"
      ]
     },
     "execution_count": 5,
     "metadata": {},
     "output_type": "execute_result"
    }
   ],
   "source": [
    "dnn.fit(x_train, y_train,\n",
    "           validation_data = (x_val, y_val),\n",
    "           batch_size=1024,\n",
    "           epochs=100,\n",
    "           verbose=1,\n",
    "           shuffle = True\n",
    "         )"
   ]
  },
  {
   "cell_type": "code",
   "execution_count": 6,
   "metadata": {
    "execution": {
     "iopub.execute_input": "2022-07-24T14:18:59.671017Z",
     "iopub.status.busy": "2022-07-24T14:18:59.670620Z",
     "iopub.status.idle": "2022-07-24T14:18:59.702418Z",
     "shell.execute_reply": "2022-07-24T14:18:59.701492Z"
    },
    "tags": []
   },
   "outputs": [],
   "source": [
    "index = 1\n",
    "while os.path.isfile('./dnn/' + learn_target + '/{}.h5'.format(index)):\n",
    "    index += 1\n",
    "dnn.save('./dnn/' + learn_target + '/{}.h5'.format(index))"
   ]
  },
  {
   "cell_type": "code",
   "execution_count": null,
   "metadata": {},
   "outputs": [],
   "source": []
  }
 ],
 "metadata": {
  "kernelspec": {
   "display_name": "Python 3.8.10 64-bit",
   "language": "python",
   "name": "python3"
  },
  "language_info": {
   "codemirror_mode": {
    "name": "ipython",
    "version": 3
   },
   "file_extension": ".py",
   "mimetype": "text/x-python",
   "name": "python",
   "nbconvert_exporter": "python",
   "pygments_lexer": "ipython3",
   "version": "3.8.10"
  },
  "vscode": {
   "interpreter": {
    "hash": "916dbcbb3f70747c44a77c7bcd40155683ae19c65e1c03b4aa3499c5328201f1"
   }
  }
 },
 "nbformat": 4,
 "nbformat_minor": 4
}
