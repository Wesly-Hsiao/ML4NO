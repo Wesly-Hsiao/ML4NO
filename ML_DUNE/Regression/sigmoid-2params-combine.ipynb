{
 "cells": [
  {
   "cell_type": "code",
   "execution_count": 1,
   "metadata": {
    "tags": []
   },
   "outputs": [],
   "source": [
    "import numpy as np\n",
    "import matplotlib.pyplot as plt\n",
    "import autokeras as ak\n",
    "import tensorflow as tf\n",
    "import os "
   ]
  },
  {
   "cell_type": "code",
   "execution_count": 2,
   "metadata": {},
   "outputs": [],
   "source": [
    "import tensorflow.keras as keras\n",
    "from tensorflow.keras.models import Sequential, load_model\n",
    "from tensorflow.keras.layers import Dense, Dropout, Flatten, Convolution2D, MaxPooling2D , Lambda, Conv2D, Activation,Concatenate\n",
    "from tensorflow.keras.layers import ActivityRegularization, BatchNormalization\n",
    "from tensorflow.keras.optimizers import Adam , SGD , Adagrad\n",
    "from tensorflow.keras.callbacks import ModelCheckpoint, LearningRateScheduler, EarlyStopping, CSVLogger, ReduceLROnPlateau\n",
    "from tensorflow.keras.utils import to_categorical\n",
    "from tensorflow.keras import regularizers , initializers\n",
    "from tensorflow.keras.models import Model\n",
    "from tensorflow.keras.preprocessing.image import ImageDataGenerator\n",
    "from tensorflow.keras.preprocessing.image import NumpyArrayIterator\n",
    "\n",
    "\n",
    "from sklearn.preprocessing import StandardScaler\n",
    "\n",
    "import logging\n",
    "\n",
    "logging.basicConfig(level = logging.INFO)\n",
    "gpus = tf.config.experimental.list_physical_devices('GPU')\n",
    "# if gpus:\n",
    "#   # Restrict TensorFlow to only use the first GPU\n",
    "try:\n",
    "    tf.config.experimental.set_visible_devices(gpus[0], 'GPU')\n",
    "    tf.config.experimental.set_virtual_device_configuration(\n",
    "    gpus[0],\n",
    "    [tf.config.experimental.VirtualDeviceConfiguration(memory_limit=2000)])\n",
    "    logical_gpus = tf.config.experimental.list_logical_devices('GPU')\n",
    "#     logging.info(len(gpus), \"Physical GPUs,\", len(logical_gpus), \"Logical GPU\")\n",
    "except RuntimeError as e:\n",
    "# Visible devices must be set before GPUs have been initialized\n",
    "    logging.info(e)"
   ]
  },
  {
   "cell_type": "code",
   "execution_count": 3,
   "metadata": {
    "tags": []
   },
   "outputs": [],
   "source": [
    "data = np.load('/home/ML4NO/Data/n1000000_0910_all_flat.npz')"
   ]
  },
  {
   "cell_type": "code",
   "execution_count": 4,
   "metadata": {
    "tags": []
   },
   "outputs": [],
   "source": [
    "data_selection = 1 # 0 for all, 1 for lowE(<5GeV), 2 for high(>5GeV)\n",
    "\n",
    "if data_selection == 0:\n",
    "    data_all = np.column_stack([data['ve_dune'], data['vu_dune'], data['vebar_dune'], data['vubar_dune']])\n",
    "elif data_selection == 1:\n",
    "    data_all = np.column_stack([data['ve_dune'][:,:36], data['vu_dune'][:,:36], data['vebar_dune'][:,:36], data['vubar_dune'][:,:36]])\n",
    "elif data_selection == 2:\n",
    "    data_all = np.column_stack([data['ve_dune'][:,36:], data['vu_dune'][:,36:], data['vebar_dune'][:,36:], data['vubar_dune'][:,36:]])\n",
    "\n",
    "target = np.column_stack([data['theta23'], data['delta']])\n",
    "\n",
    "x_train = data_all[:10000]\n",
    "y_train = target[:10000]\n",
    "x_train2 = data_all[10000:900000]\n",
    "y_train2 = target[10000:900000]\n",
    "x_test = data_all[900000:]\n",
    "y_test = target[900000:]"
   ]
  },
  {
   "cell_type": "code",
   "execution_count": 5,
   "metadata": {},
   "outputs": [],
   "source": [
    "def DNN_Model(name):\n",
    "    model_DNN = Sequential(name = \"Model_DNN_\"+str(name))\n",
    "\n",
    "    model_DNN.add(keras.Input(shape=(len(x_train[0]),), name = 'input'))\n",
    "    model_DNN.add(BatchNormalization(name = 'BatchNormalization'))\n",
    "    model_DNN.add(Dense(1024, activation='relu', name = 'dense_1'))\n",
    "    model_DNN.add(Dense(1024, activation='relu', name = 'dense_2'))\n",
    "    model_DNN.add(Dense(1024, activation='relu', name = 'dense_3'))\n",
    "    model_DNN.add(Dense(1024, activation='relu', name = 'dense_4'))\n",
    "    model_DNN.add(Dense(1024, activation='relu', name = 'dense_5'))\n",
    "    model_DNN.add(Dense(1024, activation='relu', name = 'dense_6'))\n",
    "\n",
    "#     model_DNN_1.add(Dense(32, activation='relu', name = 'dense_4'))\n",
    "    model_DNN.add(Dense(2, activation='relu', name = 'output'))\n",
    "#     model_DNN_1.add(ActivityRegularization(l2=0.1, name = 'Regularization'))\n",
    "#     model_DNN.add(Dropout(0.00001))\n",
    "    \n",
    "    # model_opt = keras.optimizers.Adadelta()\n",
    "    model_opt = keras.optimizers.Adam()\n",
    "    model_DNN.compile(loss=\"mean_squared_error\",#keras.losses.binary_crossentropy\n",
    "                              optimizer=model_opt,\n",
    "                              metrics=['mse'])\n",
    "\n",
    "    model_DNN.summary()\n",
    "    return model_DNN"
   ]
  },
  {
   "cell_type": "code",
   "execution_count": 6,
   "metadata": {},
   "outputs": [
    {
     "name": "stdout",
     "output_type": "stream",
     "text": [
      "Model: \"Model_DNN_regression\"\n",
      "_________________________________________________________________\n",
      "Layer (type)                 Output Shape              Param #   \n",
      "=================================================================\n",
      "BatchNormalization (BatchNor (None, 144)               576       \n",
      "_________________________________________________________________\n",
      "dense_1 (Dense)              (None, 1024)              148480    \n",
      "_________________________________________________________________\n",
      "dense_2 (Dense)              (None, 1024)              1049600   \n",
      "_________________________________________________________________\n",
      "dense_3 (Dense)              (None, 1024)              1049600   \n",
      "_________________________________________________________________\n",
      "dense_4 (Dense)              (None, 1024)              1049600   \n",
      "_________________________________________________________________\n",
      "dense_5 (Dense)              (None, 1024)              1049600   \n",
      "_________________________________________________________________\n",
      "dense_6 (Dense)              (None, 1024)              1049600   \n",
      "_________________________________________________________________\n",
      "output (Dense)               (None, 2)                 2050      \n",
      "=================================================================\n",
      "Total params: 5,399,106\n",
      "Trainable params: 5,398,818\n",
      "Non-trainable params: 288\n",
      "_________________________________________________________________\n"
     ]
    }
   ],
   "source": [
    "model = DNN_Model(\"regression\")\n",
    "check_list=[]\n",
    "csv_logger = CSVLogger(\"./DNN_training_log.csv\")\n",
    "# checkpoint = ModelCheckpoint(\n",
    "#                     filepath= \"./\"+str(model)+\"_KFold/DNN_\"+str(model)+\"_Models_\"+str(int(pt_min))+str(int(pt_max))+\"/\" + str(model) + \"_DNN_checkmodel_\"+str(model_index)+\".h5\",\n",
    "#                     save_best_only=True,\n",
    "#                     verbose=0)\n",
    "# earlystopping = EarlyStopping(\n",
    "#                     monitor=\"val_loss\",\n",
    "#                     min_delta=0,\n",
    "#                     patience=20,\n",
    "#                     verbose=0,\n",
    "#                     mode=\"auto\",\n",
    "#                     baseline=None,\n",
    "#                     restore_best_weights=False,\n",
    "#                 )\n",
    "\n",
    "# check_list.append(checkpoint)\n",
    "check_list.append(csv_logger)\n",
    "# check_list.append(earlystopping)"
   ]
  },
  {
   "cell_type": "code",
   "execution_count": 7,
   "metadata": {},
   "outputs": [
    {
     "name": "stdout",
     "output_type": "stream",
     "text": [
      "Epoch 1/20\n",
      "12516/12516 [==============================] - 74s 6ms/step - loss: 1125.8205 - mse: 1125.8205 - val_loss: 322.6804 - val_mse: 322.6804\n",
      "Epoch 2/20\n",
      "12516/12516 [==============================] - 72s 6ms/step - loss: 602.1207 - mse: 602.1207 - val_loss: 319.5447 - val_mse: 319.5447\n",
      "Epoch 3/20\n",
      "12516/12516 [==============================] - 72s 6ms/step - loss: 563.2264 - mse: 563.2264 - val_loss: 261.9347 - val_mse: 261.9347\n",
      "Epoch 4/20\n",
      "12516/12516 [==============================] - 71s 6ms/step - loss: 553.6387 - mse: 553.6387 - val_loss: 315.6119 - val_mse: 315.6119\n",
      "Epoch 5/20\n",
      "12516/12516 [==============================] - 72s 6ms/step - loss: 523.4462 - mse: 523.4462 - val_loss: 271.3745 - val_mse: 271.3745\n",
      "Epoch 6/20\n",
      "12516/12516 [==============================] - 72s 6ms/step - loss: 511.4111 - mse: 511.4111 - val_loss: 270.4550 - val_mse: 270.4550\n",
      "Epoch 7/20\n",
      "12516/12516 [==============================] - 72s 6ms/step - loss: 500.0612 - mse: 500.0612 - val_loss: 214.3922 - val_mse: 214.3922\n",
      "Epoch 8/20\n",
      "12516/12516 [==============================] - 73s 6ms/step - loss: 487.3068 - mse: 487.3068 - val_loss: 185.2955 - val_mse: 185.2955\n",
      "Epoch 9/20\n",
      "12516/12516 [==============================] - 71s 6ms/step - loss: 478.6999 - mse: 478.6999 - val_loss: 215.3869 - val_mse: 215.3869\n",
      "Epoch 10/20\n",
      "12516/12516 [==============================] - 72s 6ms/step - loss: 469.5017 - mse: 469.5017 - val_loss: 217.2160 - val_mse: 217.2160\n",
      "Epoch 11/20\n",
      "12516/12516 [==============================] - 71s 6ms/step - loss: 464.1647 - mse: 464.1647 - val_loss: 216.5007 - val_mse: 216.5007\n",
      "Epoch 12/20\n",
      "12516/12516 [==============================] - 72s 6ms/step - loss: 462.8217 - mse: 462.8217 - val_loss: 216.2054 - val_mse: 216.2054\n",
      "Epoch 13/20\n",
      "12516/12516 [==============================] - 71s 6ms/step - loss: 457.0224 - mse: 457.0224 - val_loss: 227.5266 - val_mse: 227.5266\n",
      "Epoch 14/20\n",
      "12516/12516 [==============================] - 72s 6ms/step - loss: 459.0666 - mse: 459.0666 - val_loss: 255.1975 - val_mse: 255.1975\n",
      "Epoch 15/20\n",
      "12516/12516 [==============================] - 72s 6ms/step - loss: 450.7097 - mse: 450.7097 - val_loss: 252.8629 - val_mse: 252.8629\n",
      "Epoch 16/20\n",
      "12516/12516 [==============================] - 72s 6ms/step - loss: 453.6832 - mse: 453.6832 - val_loss: 201.1392 - val_mse: 201.1392\n",
      "Epoch 17/20\n",
      "12516/12516 [==============================] - 71s 6ms/step - loss: 457.0226 - mse: 457.0226 - val_loss: 263.1250 - val_mse: 263.1250\n",
      "Epoch 18/20\n",
      "12516/12516 [==============================] - 71s 6ms/step - loss: 453.9721 - mse: 453.9721 - val_loss: 238.8286 - val_mse: 238.8286\n",
      "Epoch 19/20\n",
      "12516/12516 [==============================] - 71s 6ms/step - loss: 450.1612 - mse: 450.1612 - val_loss: 202.5615 - val_mse: 202.5615\n",
      "Epoch 20/20\n",
      "12516/12516 [==============================] - 72s 6ms/step - loss: 451.8561 - mse: 451.8561 - val_loss: 266.6946 - val_mse: 266.6946\n"
     ]
    },
    {
     "data": {
      "text/plain": [
       "<tensorflow.python.keras.callbacks.History at 0x7fcc8c49d780>"
      ]
     },
     "execution_count": 7,
     "metadata": {},
     "output_type": "execute_result"
    }
   ],
   "source": [
    "model.fit(x_train2, y_train2,\n",
    "           validation_split = 0.1,\n",
    "           batch_size=64,\n",
    "           epochs=20,\n",
    "           verbose=1,\n",
    "           shuffle = True\n",
    "         )"
   ]
  },
  {
   "cell_type": "code",
   "execution_count": 8,
   "metadata": {
    "tags": []
   },
   "outputs": [],
   "source": [
    "index = 1\n",
    "while os.path.isfile('/home/ML4NO/ML_DUNE/Regression/models/0910_2params_{}.h5'.format(index)):\n",
    "    index += 1\n",
    "model.save('/home/ML4NO/ML_DUNE/Regression/models/0910_2params_{}.h5'.format(index))"
   ]
  },
  {
   "cell_type": "code",
   "execution_count": null,
   "metadata": {},
   "outputs": [
    {
     "name": "stdout",
     "output_type": "stream",
     "text": [
      "3125/3125 [==============================] - 9s 3ms/step - loss: 263.8452 - mse: 263.8452\n",
      "Epoch 1/5\n",
      "12516/12516 [==============================] - 72s 6ms/step - loss: 443.4307 - mse: 443.4307 - val_loss: 222.6053 - val_mse: 222.6053\n",
      "Epoch 2/5\n",
      "12516/12516 [==============================] - 73s 6ms/step - loss: 435.7136 - mse: 435.7136 - val_loss: 187.6060 - val_mse: 187.6060\n",
      "Epoch 3/5\n",
      " 3626/12516 [=======>......................] - ETA: 49s - loss: 450.0087 - mse: 450.0087"
     ]
    }
   ],
   "source": [
    "scale_steps = np.logspace(-3, 0, 100)\n",
    "before_train_loss = []\n",
    "after_train_loss = []\n",
    "\n",
    "for scale in scale_steps:\n",
    "    x_train2_gen = np.random.normal(x_train2, np.sqrt(x_train2)*scale)\n",
    "    x_test_gen = np.random.normal(x_test, np.sqrt(x_test)*scale)\n",
    "\n",
    "    before_train_loss.append(model.evaluate(x_test_gen, y_test)[0])\n",
    "\n",
    "    model.fit(x_train2_gen, y_train2,\n",
    "               validation_split = 0.1,\n",
    "               batch_size=64,\n",
    "               epochs=5,\n",
    "               verbose=1,\n",
    "               shuffle = True\n",
    "             )\n",
    "\n",
    "    after_train_loss.append(model.evaluate(x_test_gen, y_test)[0])"
   ]
  },
  {
   "cell_type": "code",
   "execution_count": null,
   "metadata": {},
   "outputs": [],
   "source": [
    "model_index = index\n",
    "index = 1\n",
    "path = '/home/ML4NO/ML_DUNE/Regression/models_furthurTrain/0910_2params_{}_{}.h5'\n",
    "while os.path.isfile(path.format(model_index, index)):\n",
    "    index += 1\n",
    "model.save(path.format(model_index, index))\n",
    "outfile = {'scale_steps': scale_steps,\n",
    "           'before_train_loss': before_train_loss,\n",
    "           'after_train_loss' :after_train_loss}\n",
    "np.save(file = '/home/ML4NO/ML_DUNE/Regression/models_furthurTrain/0910_2params_{}_{}_result.npy'.format(model_index, index),\n",
    "        arr = outfile)"
   ]
  },
  {
   "cell_type": "code",
   "execution_count": null,
   "metadata": {},
   "outputs": [],
   "source": [
    "x_test2_gen = np.random.poisson(x_test)\n",
    "\n",
    "for i in range(20):\n",
    "    x_train2_gen = np.random.poisson(x_train2)\n",
    "    \n",
    "    model.fit(x_train2_gen, y_train2,\n",
    "              validation_split=0.1,\n",
    "               batch_size=64,\n",
    "               epochs=1,\n",
    "               verbose=1,\n",
    "               shuffle = True\n",
    "             )\n",
    "model.evaluate(x_test2_gen, y_test)"
   ]
  },
  {
   "cell_type": "code",
   "execution_count": null,
   "metadata": {},
   "outputs": [],
   "source": [
    "furthur_index = index\n",
    "index = 1\n",
    "path = '/home/ML4NO/ML_DUNE/Regression/models_PoissonTrain/0910_2params_{}_{}_{}.h5'\n",
    "while os.path.isfile(path.format(model_index, furthur_index, index)):\n",
    "    index += 1\n",
    "model.save(path.format(model_index, furthur_index, index))"
   ]
  },
  {
   "cell_type": "code",
   "execution_count": null,
   "metadata": {},
   "outputs": [],
   "source": []
  }
 ],
 "metadata": {
  "kernelspec": {
   "display_name": "Python 3",
   "language": "python",
   "name": "python3"
  },
  "language_info": {
   "codemirror_mode": {
    "name": "ipython",
    "version": 3
   },
   "file_extension": ".py",
   "mimetype": "text/x-python",
   "name": "python",
   "nbconvert_exporter": "python",
   "pygments_lexer": "ipython3",
   "version": "3.6.9"
  }
 },
 "nbformat": 4,
 "nbformat_minor": 4
}
