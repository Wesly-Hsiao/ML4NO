{
 "cells": [
  {
   "cell_type": "code",
   "execution_count": 1,
   "metadata": {},
   "outputs": [
    {
     "name": "stdout",
     "output_type": "stream",
     "text": [
      "cuda:0\n"
     ]
    }
   ],
   "source": [
    "import numpy as np\n",
    "import torch\n",
    "from functions import load_test_data\n",
    "from pickle import load\n",
    "\n",
    "device = torch.device(\"cuda:0\" if torch.cuda.is_available() else \"cpu\")\n",
    "print(device)"
   ]
  },
  {
   "cell_type": "code",
   "execution_count": 2,
   "metadata": {},
   "outputs": [],
   "source": [
    "#3flavor_poisson, nsi_poisson\n",
    "learn_target = 'nsi_poisson'\n",
    "data_index = 1\n",
    "\n",
    "data_all = load_test_data(learn_target, data_index)\n",
    "\n",
    "scaler = load(open('nf/' + learn_target + '/scaler.pkl', 'rb'))\n",
    "data_all = scaler.transform(data_all)"
   ]
  },
  {
   "cell_type": "code",
   "execution_count": 3,
   "metadata": {},
   "outputs": [],
   "source": [
    "index = 32\n",
    "flow = torch.load('nf/' + learn_target + '/{}.pt'.format(index))"
   ]
  },
  {
   "cell_type": "code",
   "execution_count": 4,
   "metadata": {},
   "outputs": [],
   "source": [
    "if learn_target == '3flavor_poisson':\n",
    "    n_sample = 1000000\n",
    "    IO_samples = flow.sample(num_samples=n_sample,\n",
    "                context=torch.tensor(np.array([data_all[1]]), dtype=torch.float32).to(device)).cpu().detach().numpy().reshape(-1, 4)\n",
    "    NO_samples = flow.sample(num_samples=n_sample,\n",
    "                context=torch.tensor(np.array([data_all[0]]), dtype=torch.float32).to(device)).cpu().detach().numpy().reshape(-1, 4)\n",
    "    np.savez('./IO_contour/' + learn_target + '/nf.npz', IO_samples)\n",
    "    np.savez('./NO_contour/' + learn_target + '/nf.npz', NO_samples)\n",
    "else:\n",
    "    n_sample = 100000\n",
    "    prediction = flow.sample(num_samples=n_sample,\n",
    "                context=torch.tensor(np.array(data_all), dtype=torch.float32).to(device)).cpu().detach().numpy().reshape(-1, 7)\n",
    "    np.savez('contour/' + learn_target +  '_{}/nf.npz'.format(data_index), prediction)"
   ]
  },
  {
   "cell_type": "code",
   "execution_count": null,
   "metadata": {},
   "outputs": [],
   "source": []
  }
 ],
 "metadata": {
  "kernelspec": {
   "display_name": "Python 3.8.12 ('base')",
   "language": "python",
   "name": "python3"
  },
  "language_info": {
   "codemirror_mode": {
    "name": "ipython",
    "version": 3
   },
   "file_extension": ".py",
   "mimetype": "text/x-python",
   "name": "python",
   "nbconvert_exporter": "python",
   "pygments_lexer": "ipython3",
   "version": "3.8.12"
  },
  "orig_nbformat": 4,
  "vscode": {
   "interpreter": {
    "hash": "d4d1e4263499bec80672ea0156c357c1ee493ec2b1c70f0acce89fc37c4a6abe"
   }
  }
 },
 "nbformat": 4,
 "nbformat_minor": 2
}
