{
 "cells": [
  {
   "cell_type": "code",
   "execution_count": 2,
   "id": "81db2075-3926-491a-9c7c-6e4594fc083c",
   "metadata": {},
   "outputs": [],
   "source": [
    "import numpy as np\n",
    "import matplotlib.pyplot as plt\n",
    "import tensorflow as tf\n",
    "from numpy import random\n",
    "import logging\n",
    "\n",
    "logging.basicConfig(level = logging.INFO)\n",
    "gpus = tf.config.experimental.list_physical_devices('GPU')\n",
    "try:\n",
    "    tf.config.experimental.set_visible_devices(gpus[0], 'GPU')\n",
    "    tf.config.experimental.set_virtual_device_configuration(\n",
    "    gpus[0],\n",
    "    [tf.config.experimental.VirtualDeviceConfiguration(memory_limit=2000)])\n",
    "    logical_gpus = tf.config.experimental.list_logical_devices('GPU')\n",
    "except RuntimeError as e:\n",
    "    logging.info(e)"
   ]
  },
  {
   "cell_type": "code",
   "execution_count": 4,
   "id": "58ed5344-2e8f-4e2c-b1fa-23ab57a76614",
   "metadata": {},
   "outputs": [],
   "source": [
    "dnn = tf.keras.models.load_model('./dnn/1.h5')"
   ]
  },
  {
   "cell_type": "code",
   "execution_count": 5,
   "id": "b014d62e-9b37-4cc3-85bd-73b0c1611362",
   "metadata": {},
   "outputs": [],
   "source": [
    "data = np.load('../../Data/sample_NuFit0911.npz')\n",
    "data_all = np.column_stack([data['ve_dune'][:,:36], data['vu_dune'][:,:36], data['vebar_dune'][:,:36], data['vubar_dune'][:,:36]])"
   ]
  },
  {
   "cell_type": "code",
   "execution_count": 18,
   "id": "4847ec23",
   "metadata": {},
   "outputs": [
    {
     "name": "stdout",
     "output_type": "stream",
     "text": [
      "IO prediction =  [  8.54249796  49.07385051 193.47603755]\n",
      "NO prediction =  [  8.44700423  48.81821702 286.99574113]\n"
     ]
    }
   ],
   "source": [
    "#No poisson prediction\n",
    "IO_prediction = dnn.predict(np.array([data_all[0]]))[0]\n",
    "NO_prediction = dnn.predict(np.array([data_all[1]]))[0]\n",
    "\n",
    "IO_delta = np.angle(IO_prediction[2] +1j*IO_prediction[3])\n",
    "NO_delta = np.angle(NO_prediction[2] +1j*NO_prediction[3])\n",
    "if IO_delta < 0: IO_delta += 2*np.pi\n",
    "if NO_delta < 0: NO_delta += 2*np.pi\n",
    "IO_prediction = np.array([IO_prediction[0], IO_prediction[1], IO_delta])*180/np.pi\n",
    "NO_prediction = np.array([NO_prediction[0], NO_prediction[1], NO_delta])*180/np.pi\n",
    "\n",
    "print('IO prediction = ', IO_prediction)\n",
    "print('NO prediction = ', NO_prediction)"
   ]
  }
 ],
 "metadata": {
  "interpreter": {
   "hash": "31f2aee4e71d21fbe5cf8b01ff0e069b9275f58929596ceb00d14d90e3e16cd6"
  },
  "kernelspec": {
   "display_name": "Python 3",
   "language": "python",
   "name": "python3"
  },
  "language_info": {
   "codemirror_mode": {
    "name": "ipython",
    "version": 3
   },
   "file_extension": ".py",
   "mimetype": "text/x-python",
   "name": "python",
   "nbconvert_exporter": "python",
   "pygments_lexer": "ipython3",
   "version": "3.8.10"
  }
 },
 "nbformat": 4,
 "nbformat_minor": 5
}
