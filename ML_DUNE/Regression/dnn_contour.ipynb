{
 "cells": [
  {
   "cell_type": "code",
   "execution_count": 1,
   "id": "81db2075-3926-491a-9c7c-6e4594fc083c",
   "metadata": {},
   "outputs": [],
   "source": [
    "import numpy as np\n",
    "import matplotlib.pyplot as plt\n",
    "import tensorflow as tf\n",
    "import logging\n",
    "from scipy.interpolate import RectBivariateSpline\n",
    "from functions import load_test_data\n",
    "import os\n",
    "\n",
    "os.environ['TF_CPP_MIN_LOG_LEVEL'] = '2'\n",
    "logging.basicConfig(level = logging.INFO)\n",
    "gpus = tf.config.experimental.list_physical_devices('GPU')\n",
    "try:\n",
    "    tf.config.experimental.set_visible_devices(gpus[0], 'GPU')\n",
    "    tf.config.experimental.set_virtual_device_configuration(\n",
    "    gpus[0],\n",
    "    [tf.config.experimental.VirtualDeviceConfiguration(memory_limit=2000)])\n",
    "    logical_gpus = tf.config.experimental.list_logical_devices('GPU')\n",
    "except RuntimeError as e:\n",
    "    logging.info(e)"
   ]
  },
  {
   "cell_type": "code",
   "execution_count": 2,
   "id": "58ed5344-2e8f-4e2c-b1fa-23ab57a76614",
   "metadata": {},
   "outputs": [],
   "source": [
    "#3flavor_poisson, nsi_poisson\n",
    "learn_target = 'nsi_poisson'\n",
    "data_index = 1\n",
    "\n",
    "dnn = tf.keras.models.load_model('./dnn/' + learn_target + '/1.h5')\n",
    "data_all = load_test_data(learn_target, data_index)"
   ]
  },
  {
   "cell_type": "code",
   "execution_count": 3,
   "id": "30cb5db6",
   "metadata": {},
   "outputs": [],
   "source": [
    "sample_amount = 100000\n",
    "\n",
    "if learn_target == '3flavor_poisson':\n",
    "    data_IO = np.random.poisson(data_all[1], (sample_amount, 144))\n",
    "    data_NO = np.random.poisson(data_all[0], (sample_amount, 144))\n",
    "\n",
    "    prediction_IO = dnn.predict(data_IO)\n",
    "    prediction_NO = dnn.predict(data_NO)\n",
    "\n",
    "    np.savez('./IO_contour/' + learn_target + '/dnn.npz', prediction_IO)\n",
    "    np.savez('./NO_contour/' + learn_target + '/dnn.npz', prediction_NO)\n",
    "else:\n",
    "    data_nsi =np.random.poisson(data_all[:1, :], (sample_amount, 144))\n",
    "    prediction =  dnn.predict(data_nsi)\n",
    "    np.savez('contour/' + learn_target +  '_{}/dnn.npz'.format(data_index), prediction)"
   ]
  },
  {
   "cell_type": "code",
   "execution_count": null,
   "id": "6937cae6",
   "metadata": {},
   "outputs": [],
   "source": []
  }
 ],
 "metadata": {
  "interpreter": {
   "hash": "31f2aee4e71d21fbe5cf8b01ff0e069b9275f58929596ceb00d14d90e3e16cd6"
  },
  "kernelspec": {
   "display_name": "Python 3",
   "language": "python",
   "name": "python3"
  },
  "language_info": {
   "codemirror_mode": {
    "name": "ipython",
    "version": 3
   },
   "file_extension": ".py",
   "mimetype": "text/x-python",
   "name": "python",
   "nbconvert_exporter": "python",
   "pygments_lexer": "ipython3",
   "version": "3.8.10"
  }
 },
 "nbformat": 4,
 "nbformat_minor": 5
}
