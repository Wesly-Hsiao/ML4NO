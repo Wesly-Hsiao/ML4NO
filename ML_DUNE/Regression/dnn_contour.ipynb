{
 "cells": [
  {
   "cell_type": "code",
   "execution_count": 1,
   "id": "81db2075-3926-491a-9c7c-6e4594fc083c",
   "metadata": {},
   "outputs": [],
   "source": [
    "import numpy as np\n",
    "import matplotlib.pyplot as plt\n",
    "import tensorflow as tf\n",
    "import autokeras as ak\n",
    "from numpy import random\n",
    "import logging\n",
    "\n",
    "logging.basicConfig(level = logging.INFO)\n",
    "gpus = tf.config.experimental.list_physical_devices('GPU')\n",
    "# if gpus:\n",
    "#   # Restrict TensorFlow to only use the first GPU\n",
    "try:\n",
    "    tf.config.experimental.set_visible_devices(gpus[0], 'GPU')\n",
    "    tf.config.experimental.set_virtual_device_configuration(\n",
    "    gpus[0],\n",
    "    [tf.config.experimental.VirtualDeviceConfiguration(memory_limit=2000)])\n",
    "    logical_gpus = tf.config.experimental.list_logical_devices('GPU')\n",
    "#     logging.info(len(gpus), \"Physical GPUs,\", len(logical_gpus), \"Logical GPU\")\n",
    "except RuntimeError as e:\n",
    "# Visible devices must be set before GPUs have been initialized\n",
    "    logging.info(e)"
   ]
  },
  {
   "cell_type": "code",
   "execution_count": 2,
   "id": "58ed5344-2e8f-4e2c-b1fa-23ab57a76614",
   "metadata": {},
   "outputs": [
    {
     "name": "stdout",
     "output_type": "stream",
     "text": [
      "Model: \"model\"\n",
      "_________________________________________________________________\n",
      "Layer (type)                 Output Shape              Param #   \n",
      "=================================================================\n",
      "input_1 (InputLayer)         [(None, 144)]             0         \n",
      "_________________________________________________________________\n",
      "multi_category_encoding (Mul (None, 144)               0         \n",
      "_________________________________________________________________\n",
      "normalization (Normalization (None, 144)               289       \n",
      "_________________________________________________________________\n",
      "dense (Dense)                (None, 32)                4640      \n",
      "_________________________________________________________________\n",
      "re_lu (ReLU)                 (None, 32)                0         \n",
      "_________________________________________________________________\n",
      "dense_1 (Dense)              (None, 512)               16896     \n",
      "_________________________________________________________________\n",
      "re_lu_1 (ReLU)               (None, 512)               0         \n",
      "_________________________________________________________________\n",
      "regression_head_1 (Dense)    (None, 2)                 1026      \n",
      "=================================================================\n",
      "Total params: 22,851\n",
      "Trainable params: 22,562\n",
      "Non-trainable params: 289\n",
      "_________________________________________________________________\n"
     ]
    }
   ],
   "source": [
    "model_combine = 1\n",
    "\n",
    "if model_combine == 0:\n",
    "    model_theta23 = tf.keras.models.load_model('../ML_DUNE/Regression/models_PoissonTrain/0910_theta23_3_1_1.h5')\n",
    "    model_theta23.summary()\n",
    "    model_delta = tf.keras.models.load_model('/home/ML4NO/ML_DUNE/Regression/models_PoissonTrain/0910_delta_6_1_1.h5')\n",
    "    model_delta.summary()\n",
    "else:\n",
    "    model_2params = tf.keras.models.load_model('./models_PoissonTrain/0910_2params_2_1_1.h5')\n",
    "    model_2params.summary()"
   ]
  },
  {
   "cell_type": "code",
   "execution_count": 3,
   "id": "b014d62e-9b37-4cc3-85bd-73b0c1611362",
   "metadata": {},
   "outputs": [],
   "source": [
    "data = np.load('../../Data/sample_NuFit0911.npz')\n",
    "\n",
    "data_selection = 1 # 0 for all, 1 for lowE(<5GeV), 2 for high(>5GeV)\n",
    "\n",
    "if data_selection == 0:\n",
    "    data_mid = np.column_stack([data['ve_dune'], data['vu_dune'], data['vebar_dune'], data['vubar_dune']])\n",
    "elif data_selection == 1:\n",
    "    data_mid = np.column_stack([data['ve_dune'][:,:36], data['vu_dune'][:,:36], data['vebar_dune'][:,:36], data['vubar_dune'][:,:36]])\n",
    "elif data_selection == 2:\n",
    "    data_mid = np.column_stack([data['ve_dune'][:,36:], data['vu_dune'][:,36:], data['vebar_dune'][:,36:], data['vubar_dune'][:,36:]])\n",
    "\n",
    "data_IO_mid = data_mid[0]\n",
    "data_NO_mid = data_mid[1]"
   ]
  },
  {
   "cell_type": "code",
   "execution_count": 9,
   "id": "4847ec23",
   "metadata": {},
   "outputs": [
    {
     "data": {
      "text/plain": [
       "array([[ 49.188957, 196.26898 ]], dtype=float32)"
      ]
     },
     "execution_count": 9,
     "metadata": {},
     "output_type": "execute_result"
    }
   ],
   "source": [
    "#No poisson prediction\n",
    "model_2params.predict(np.array([data_IO_mid]))"
   ]
  },
  {
   "cell_type": "code",
   "execution_count": 36,
   "id": "0923588e-d463-4134-8e07-3a19a8f652a3",
   "metadata": {},
   "outputs": [],
   "source": [
    "N = 10000000\n",
    "data_create_IO = random.poisson(data_IO_mid, size = (N, len(data_IO_mid)))\n",
    "data_create_NO = random.poisson(data_NO_mid, size = (N, len(data_NO_mid)))"
   ]
  },
  {
   "cell_type": "code",
   "execution_count": 37,
   "id": "e74617bb-60c6-4794-9a45-089ea93e5639",
   "metadata": {},
   "outputs": [],
   "source": [
    "if model_combine == 0:\n",
    "    pre_create_IO_theta23 = model_theta23.predict(data_create_IO)\n",
    "    pre_create_NO_theta23 = model_theta23.predict(data_create_NO)\n",
    "    pre_create_IO_delta = model_delta.predict(data_create_IO)\n",
    "    pre_create_NO_delta = model_delta.predict(data_create_NO)\n",
    "else:\n",
    "    pre_create_IO = model_2params.predict(data_create_IO)\n",
    "    pre_create_NO = model_2params.predict(data_create_NO)\n",
    "    pre_create_IO_theta23 = pre_create_IO[:,0][:,np.newaxis]\n",
    "    pre_create_NO_theta23 = pre_create_NO[:,0][:,np.newaxis]\n",
    "    pre_create_IO_delta = pre_create_IO[:,1][:,np.newaxis]\n",
    "    pre_create_NO_delta = pre_create_NO[:,1][:,np.newaxis]"
   ]
  },
  {
   "cell_type": "code",
   "execution_count": 6,
   "id": "5f7a17c7",
   "metadata": {},
   "outputs": [],
   "source": [
    "np.savez(\"./contours/dnn.npz\", pre_create_IO)"
   ]
  },
  {
   "cell_type": "code",
   "execution_count": 38,
   "id": "616817b1",
   "metadata": {},
   "outputs": [
    {
     "data": {
      "image/png": "[encoded data removed]",
      "text/plain": [
       "<Figure size 432x288 with 1 Axes>"
      ]
     },
     "metadata": {
      "needs_background": "light"
     },
     "output_type": "display_data"
    }
   ],
   "source": [
    "plt.hist2d(pre_create_IO[:, 0], pre_create_IO[:, 1], bins = 100)\n",
    "plt.show()"
   ]
  },
  {
   "cell_type": "code",
   "execution_count": 11,
   "id": "3ad6f962-3430-4000-8b6d-9dcd1ccb4559",
   "metadata": {},
   "outputs": [],
   "source": [
    "N_DUNE, N_T2HK, N_DUT2 = 92, 36, 96\n",
    "theta23_DUNE, delta_cp_DUNE, chi_DUNE = [], [], []\n",
    "theta23_T2HK, delta_cp_T2HK, chi_T2HK = [], [], []\n",
    "theta23_DUT2, delta_cp_DUT2, chi_DUT2 = [], [], []"
   ]
  },
  {
   "cell_type": "code",
   "execution_count": 12,
   "id": "27cf5ed3-fefc-47d1-a091-fd94028e88aa",
   "metadata": {},
   "outputs": [],
   "source": [
    "f_DUNE = open(\"../../Data/chi_square-4-2_figB_DUNE.txt\")\n",
    "for i in range(N_DUNE):\n",
    "    s = f_DUNE.readline().split()\n",
    "    array = []\n",
    "    for j in range(len(s)) :\n",
    "        array.append(float(s[j])) \n",
    "    theta23_DUNE.append(array[0])\n",
    "    delta_cp_DUNE.append(array[1]) \n",
    "    chi_DUNE.append(array[2])\n",
    "f_DUNE.close()\n",
    "f_T2HK = open(\"../../Data/chi_square-4-2_figB_T2HK.txt\")\n",
    "for i in range(N_T2HK):\n",
    "    s = f_T2HK.readline().split()\n",
    "    array = []\n",
    "    for j in range(len(s)) :\n",
    "        array.append(float(s[j])) \n",
    "    theta23_T2HK.append(array[0])\n",
    "    delta_cp_T2HK.append(array[1]) \n",
    "    chi_T2HK.append(array[2])\n",
    "f_T2HK.close()\n",
    "f_DUT2 = open(\"../../Data/chi_square-4-2_figB_DUT2.txt\")\n",
    "for i in range(N_DUT2):\n",
    "    s = f_DUT2.readline().split()\n",
    "    array = []\n",
    "    for j in range(len(s)) :\n",
    "        array.append(float(s[j])) \n",
    "    theta23_DUT2.append(array[0])\n",
    "    delta_cp_DUT2.append(array[1]) \n",
    "    chi_DUT2.append(array[2])\n",
    "f_DUT2.close()"
   ]
  },
  {
   "cell_type": "code",
   "execution_count": 13,
   "id": "b32b4f1c-faa1-4798-ab26-f0dafa015ab1",
   "metadata": {},
   "outputs": [],
   "source": [
    "theta23_DUNE = np.array(theta23_DUNE)\n",
    "delta_cp_DUNE = np.array(delta_cp_DUNE)\n",
    "chi_DUNE = np.array(chi_DUNE)\n",
    "theta23_T2HK = np.array(theta23_T2HK)\n",
    "delta_cp_T2HK = np.array(delta_cp_T2HK)\n",
    "chi_T2HK = np.array(chi_T2HK)\n",
    "theta23_DUT2 = np.array(theta23_DUT2)\n",
    "delta_cp_DUT2 = np.array(delta_cp_DUT2)\n",
    "chi_DUT2 = np.array(chi_DUT2)"
   ]
  },
  {
   "cell_type": "code",
   "execution_count": 14,
   "id": "e969732e-c865-4ec0-b8e6-d7ce90a698e5",
   "metadata": {},
   "outputs": [],
   "source": [
    "x0 = np.linspace(min(theta23_DUNE)-3, max(theta23_DUNE)+3, 68)\n",
    "y0 = np.linspace(min(delta_cp_DUNE)-6, max(delta_cp_DUNE)+6, 20)\n",
    "X0, Y0 = np.meshgrid(x0, y0)\n",
    "Z0 = np.zeros((len(X0),len(X0[0])))\n",
    "\n",
    "for i in range(len(theta23_DUNE)):\n",
    "    a = np.where(X0 == theta23_DUNE[i])[1][0]\n",
    "    b = np.where(Y0 == delta_cp_DUNE[i])[0][0]\n",
    "    Z0[b][a] = 1\n",
    "\n",
    "x1 = np.linspace(min(theta23_T2HK)-3, max(theta23_T2HK)+3, 65)\n",
    "y1 = np.linspace(min(delta_cp_T2HK)-6, max(delta_cp_T2HK)+6, 14)\n",
    "X1, Y1 = np.meshgrid(x1, y1)\n",
    "Z1 = np.zeros((len(X1),len(X1[0])))\n",
    "\n",
    "for i in range(len(theta23_T2HK)):\n",
    "    a = np.where(X1 == theta23_T2HK[i])[1][0]\n",
    "    b = np.where(Y1 == delta_cp_T2HK[i])[0][0]\n",
    "    Z1[b][a] = 1\n",
    "\n",
    "x2 = np.linspace(min(theta23_DUT2)-3, max(theta23_DUT2)+3, 129)\n",
    "y2 = np.linspace(min(delta_cp_DUT2)-6, max(delta_cp_DUT2)+6, 25)\n",
    "X2, Y2 = np.meshgrid(x2, y2)\n",
    "Z2 = np.zeros((len(X2),len(X2[0])))\n",
    "\n",
    "for i in range(len(theta23_DUT2)):\n",
    "    a = np.where(X2 == theta23_DUT2[i])[1][0]\n",
    "    b = np.where(Y2 == delta_cp_DUT2[i])[0][0]\n",
    "    Z2[b][a] = 1"
   ]
  },
  {
   "cell_type": "code",
   "execution_count": 26,
   "id": "b2e3f299-f411-4c25-9cb7-0c6cbfd8d8ea",
   "metadata": {},
   "outputs": [
    {
     "name": "stdout",
     "output_type": "stream",
     "text": [
      "Maximum: theta23 [48.2], delta [204.] \n"
     ]
    }
   ],
   "source": [
    "IO_or_NO = 0 # 0 for IO and 1 for NO\n",
    "\n",
    "if IO_or_NO == 0:\n",
    "    input_theta23 = pre_create_IO_theta23\n",
    "    input_delta = pre_create_IO_delta\n",
    "else:\n",
    "    input_theta23 = pre_create_NO_theta23\n",
    "    input_delta = pre_create_NO_delta\n",
    "\n",
    "bins_theta23 = x0\n",
    "bins_delta = y0\n",
    "likeliregion, xedges, yedges = np.histogram2d(input_theta23[:, 0], input_delta[:, 0], bins = [bins_theta23,bins_delta])\n",
    "likeliregion = likeliregion.T\n",
    "\n",
    "max_poi = np.where(likeliregion == likeliregion.max())\n",
    "print(\"Maximum: theta23 {}, delta {} \".format(xedges[max_poi[1]],yedges[max_poi[0]]))\n",
    "sorted_list = np.sort(likeliregion.reshape((len(xedges)-1)*(len(yedges)-1)))[::-1]\n",
    "\n",
    "tot_event_num = sorted_list.sum()\n",
    "\n",
    "onesigma = 0\n",
    "for i in range(len(sorted_list)):\n",
    "    onesigma += sorted_list[i]\n",
    "    if onesigma/tot_event_num >= 0.68:\n",
    "        one_sigma_num = sorted_list[i]\n",
    "        break\n",
    "        \n",
    "twosigma = 0\n",
    "for i in range(len(sorted_list)):\n",
    "    twosigma += sorted_list[i]        \n",
    "    if twosigma/tot_event_num >= 0.95:\n",
    "        two_sigma_num = sorted_list[i]\n",
    "        break\n",
    "\n",
    "one_sigma_region = np.where(likeliregion < one_sigma_num, 0, likeliregion )\n",
    "one_sigma_region_boundary = np.where(one_sigma_region > 0, 1, one_sigma_region )\n",
    "one_sigma_allowed_region = np.where(one_sigma_region_boundary != 0)\n",
    "\n",
    "two_sigma_region = np.where(likeliregion < two_sigma_num, 0, likeliregion )\n",
    "two_sigma_region_boundary = np.where(two_sigma_region > 0, 1, two_sigma_region )\n",
    "two_sigma_allowed_region = np.where(two_sigma_region_boundary != 0)\n",
    "\n",
    "xaxis, yaxis = (xedges[:-1] + xedges[1:])/2, (yedges[:-1] + yedges[1:])/2"
   ]
  },
  {
   "cell_type": "code",
   "execution_count": 27,
   "id": "fe6179d1-41b5-4b47-8801-e5d15067619e",
   "metadata": {},
   "outputs": [
    {
     "name": "stderr",
     "output_type": "stream",
     "text": [
      "/usr/local/lib/python3.6/dist-packages/ipykernel_launcher.py:10: UserWarning: No contour levels were found within the data range.\n",
      "  # Remove the CWD from sys.path while we load stuff.\n",
      "/usr/local/lib/python3.6/dist-packages/ipykernel_launcher.py:11: UserWarning: No contour levels were found within the data range.\n",
      "  # This is added back by InteractiveShellApp.init_path()\n",
      "/usr/local/lib/python3.6/dist-packages/ipykernel_launcher.py:18: UserWarning: No contour levels were found within the data range.\n"
     ]
    },
    {
     "data": {
      "image/png": "[encoded data removed]",
      "text/plain": [
       "<Figure size 1080x1080 with 3 Axes>"
      ]
     },
     "metadata": {
      "needs_background": "light"
     },
     "output_type": "display_data"
    }
   ],
   "source": [
    "fig, ax = plt.subplots(1,1, figsize=(15,15))\n",
    "plot_axis = plt.subplot(2,2,1)\n",
    "plot_axis.hist(pre_create_IO_theta23,density=1,bins=x0)\n",
    "\n",
    "plot_axis = plt.subplot(2,2,4)\n",
    "\n",
    "plot_axis.hist(pre_create_IO_delta,orientation=\"horizontal\",density=1, bins=y0)\n",
    "\n",
    "plot_axis = plt.subplot(2,2,3)\n",
    "CS_1_sigma = plt.contour(xaxis, yaxis, one_sigma_region_boundary, 0, colors='green', linestyles=\"-\", linewidths=1)\n",
    "CS_2_sigma = plt.contour(xaxis, yaxis, two_sigma_region_boundary, 0, colors='red', linestyles=\"-\", linewidths=1)\n",
    "CS_1_sigma.collections[0].set_label(\"1$\\sigma$\")\n",
    "CS_2_sigma.collections[0].set_label(\"2$\\sigma$\")\n",
    "plot_axis.scatter(xedges[max_poi[1]],yedges[max_poi[0]], c=\"r\", s=5, label = \"maximum point: $\\\\theta_{23}$=%.2f $\\delta_{cp}$=%.2f\" %(xedges[max_poi[1]][0], yedges[max_poi[0]][0]))\n",
    "if IO_or_NO == 0:plot_axis.scatter(data['theta23'][0], data['delta'][0], c=\"k\", s=5, label = \"true point: $\\\\theta_{23}$=%.2f $\\delta_{cp}$=%.2f\" %(data['theta23'][0], data['delta'][0]))\n",
    "else:plot_axis.scatter(data['theta23'][1], data['delta'][1], c=\"k\", s=5, label = \"true point: $\\\\theta_{23}$=%.2f $\\delta_{cp}$=%.2f\" %(data['theta23'][1], data['delta'][1]))\n",
    "\n",
    "DUT2 = plot_axis.contour(X0, Y0, Z0, 0, colors='blue', linestyles=\"-\", linewidths=1)\n",
    "DUT2.collections[0].set_label(\"DUNE\")\n",
    "plot_axis.set_xlabel(r'$\\theta_{23} $', fontsize=20)\n",
    "plot_axis.set_ylabel(r'$\\delta_{cp} $', fontsize=20)\n",
    "# plt.subplots_adjust(wspace=0.15, hspace=0.01)\n",
    "plt.legend(bbox_to_anchor=(2.3, 1.7), ncol=1,fontsize=20, markerscale=4, edgecolor = \"w\",fancybox=False, framealpha=0)\n",
    "plt.show()"
   ]
  },
  {
   "cell_type": "code",
   "execution_count": null,
   "id": "f083190c-32d0-4494-b5ed-e62f5e2dda1b",
   "metadata": {},
   "outputs": [],
   "source": []
  }
 ],
 "metadata": {
  "interpreter": {
   "hash": "31f2aee4e71d21fbe5cf8b01ff0e069b9275f58929596ceb00d14d90e3e16cd6"
  },
  "kernelspec": {
   "display_name": "Python 3",
   "language": "python",
   "name": "python3"
  },
  "language_info": {
   "codemirror_mode": {
    "name": "ipython",
    "version": 3
   },
   "file_extension": ".py",
   "mimetype": "text/x-python",
   "name": "python",
   "nbconvert_exporter": "python",
   "pygments_lexer": "ipython3",
   "version": "3.6.9"
  }
 },
 "nbformat": 4,
 "nbformat_minor": 5
}
