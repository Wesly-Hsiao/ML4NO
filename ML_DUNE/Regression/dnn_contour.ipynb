{
 "cells": [
  {
   "cell_type": "code",
   "execution_count": 1,
   "id": "81db2075-3926-491a-9c7c-6e4594fc083c",
   "metadata": {},
   "outputs": [],
   "source": [
    "import numpy as np\n",
    "import matplotlib.pyplot as plt\n",
    "import tensorflow as tf\n",
    "import logging\n",
    "from scipy.interpolate import RectBivariateSpline\n",
    "from functions import load_test_data\n",
    "import os\n",
    "\n",
    "os.environ['TF_CPP_MIN_LOG_LEVEL'] = '2'\n",
    "logging.basicConfig(level = logging.INFO)\n",
    "gpus = tf.config.experimental.list_physical_devices('GPU')\n",
    "try:\n",
    "    tf.config.experimental.set_visible_devices(gpus[0], 'GPU')\n",
    "    tf.config.experimental.set_virtual_device_configuration(\n",
    "    gpus[0],\n",
    "    [tf.config.experimental.VirtualDeviceConfiguration(memory_limit=2000)])\n",
    "    logical_gpus = tf.config.experimental.list_logical_devices('GPU')\n",
    "except RuntimeError as e:\n",
    "    logging.info(e)"
   ]
  },
  {
   "cell_type": "code",
   "execution_count": 2,
   "id": "58ed5344-2e8f-4e2c-b1fa-23ab57a76614",
   "metadata": {},
   "outputs": [],
   "source": [
    "#3flavor_clean, 3flavor_poisson, nsi_clean, nsi_poisson\n",
    "learn_target = '3flavor_poisson'\n",
    "\n",
    "dnn = tf.keras.models.load_model('./dnn/' + learn_target + '/1.h5')\n",
    "data_all = load_test_data(learn_target)"
   ]
  },
  {
   "cell_type": "code",
   "execution_count": 3,
   "id": "4847ec23",
   "metadata": {},
   "outputs": [],
   "source": [
    "if learn_target == '3flavor_clean':\n",
    "    IO_prediction = dnn.predict(np.array([data_all[0]]))[0]\n",
    "    NO_prediction = dnn.predict(np.array([data_all[1]]))[0]\n",
    "\n",
    "    IO_delta = np.angle(IO_prediction[2] +1j*IO_prediction[3])\n",
    "    NO_delta = np.angle(NO_prediction[2] +1j*NO_prediction[3])\n",
    "    if IO_delta < 0: IO_delta += 2*np.pi\n",
    "    if NO_delta < 0: NO_delta += 2*np.pi\n",
    "    IO_prediction = np.array([IO_prediction[0], IO_prediction[1], IO_delta])*180/np.pi\n",
    "    NO_prediction = np.array([NO_prediction[0], NO_prediction[1], NO_delta])*180/np.pi\n",
    "\n",
    "    print('IO prediction = ', IO_prediction)\n",
    "    print('NO prediction = ', NO_prediction)"
   ]
  },
  {
   "cell_type": "code",
   "execution_count": 7,
   "id": "30cb5db6",
   "metadata": {},
   "outputs": [],
   "source": [
    "if learn_target == '3flavor_poisson':\n",
    "    sample_amount = 100000\n",
    "    data_IO = np.random.poisson(data_all[1], (sample_amount, 144))\n",
    "    data_NO = np.random.poisson(data_all[0], (sample_amount, 144))\n",
    "\n",
    "    prediction_IO = dnn.predict(data_IO)\n",
    "    prediction_NO = dnn.predict(data_NO)\n",
    "\n",
    "    np.savez('./IO_contour/' + learn_target + '/dnn.npz', prediction_IO)\n",
    "    np.savez('./NO_contour/' + learn_target + '/dnn.npz', prediction_NO)"
   ]
  },
  {
   "cell_type": "code",
   "execution_count": null,
   "id": "2e2825ed",
   "metadata": {},
   "outputs": [],
   "source": []
  }
 ],
 "metadata": {
  "interpreter": {
   "hash": "31f2aee4e71d21fbe5cf8b01ff0e069b9275f58929596ceb00d14d90e3e16cd6"
  },
  "kernelspec": {
   "display_name": "Python 3",
   "language": "python",
   "name": "python3"
  },
  "language_info": {
   "codemirror_mode": {
    "name": "ipython",
    "version": 3
   },
   "file_extension": ".py",
   "mimetype": "text/x-python",
   "name": "python",
   "nbconvert_exporter": "python",
   "pygments_lexer": "ipython3",
   "version": "3.8.10"
  }
 },
 "nbformat": 4,
 "nbformat_minor": 5
}
