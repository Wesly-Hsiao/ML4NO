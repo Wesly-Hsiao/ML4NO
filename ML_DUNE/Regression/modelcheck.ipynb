{
 "cells": [
  {
   "cell_type": "code",
   "execution_count": 2,
   "id": "37244b46-ecbd-445f-aa19-f5136400d2b3",
   "metadata": {},
   "outputs": [],
   "source": [
    "import numpy as np\n",
    "import tensorflow as tf"
   ]
  },
  {
   "cell_type": "code",
   "execution_count": 6,
   "id": "9b1815c8-e24e-44f7-b8a3-531e0027b4c6",
   "metadata": {},
   "outputs": [],
   "source": [
    "model = tf.keras.models.load_model('./models/0910_theta23_3.h5')"
   ]
  },
  {
   "cell_type": "code",
   "execution_count": 3,
   "id": "7b6ea1e3-8ed6-488a-86bf-c4dcf7ee863f",
   "metadata": {},
   "outputs": [],
   "source": [
    "data = np.load('/home/ML4NO/Data/n1000000_0910_classification.npz')"
   ]
  },
  {
   "cell_type": "code",
   "execution_count": 9,
   "id": "8e73517a-f2d7-4913-9587-b95d57ccb66b",
   "metadata": {},
   "outputs": [
    {
     "data": {
      "text/plain": [
       "array([46.8054, 47.2402, 38.9666, 44.8816, 47.2665, 39.6776, 47.991 ,\n",
       "       39.6825, 38.9983, 39.5889])"
      ]
     },
     "execution_count": 9,
     "metadata": {},
     "output_type": "execute_result"
    }
   ],
   "source": [
    "data['theta23'][:10]"
   ]
  },
  {
   "cell_type": "code",
   "execution_count": null,
   "id": "f1a619e1-e76b-40fb-b384-c35861b5ed8b",
   "metadata": {},
   "outputs": [],
   "source": []
  },
  {
   "cell_type": "code",
   "execution_count": null,
   "id": "c7bcafc2-76ed-4b68-a589-186bdd1b971a",
   "metadata": {},
   "outputs": [],
   "source": []
  }
 ],
 "metadata": {
  "kernelspec": {
   "display_name": "Python 3",
   "language": "python",
   "name": "python3"
  },
  "language_info": {
   "codemirror_mode": {
    "name": "ipython",
    "version": 3
   },
   "file_extension": ".py",
   "mimetype": "text/x-python",
   "name": "python",
   "nbconvert_exporter": "python",
   "pygments_lexer": "ipython3",
   "version": "3.6.9"
  }
 },
 "nbformat": 4,
 "nbformat_minor": 5
}
