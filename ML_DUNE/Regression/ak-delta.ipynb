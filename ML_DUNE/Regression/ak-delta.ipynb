{
 "cells": [
  {
   "cell_type": "code",
   "execution_count": 1,
   "metadata": {
    "tags": []
   },
   "outputs": [],
   "source": [
    "import numpy as np\n",
    "import matplotlib.pyplot as plt\n",
    "import autokeras as ak\n",
    "import tensorflow as tf\n",
    "import os"
   ]
  },
  {
   "cell_type": "code",
   "execution_count": 2,
   "metadata": {
    "tags": []
   },
   "outputs": [],
   "source": [
    "data = np.load('/home/ML4NO/Data/n1000000_0910_all_flat.npz')"
   ]
  },
  {
   "cell_type": "code",
   "execution_count": 3,
   "metadata": {
    "tags": []
   },
   "outputs": [],
   "source": [
    "data_all = np.column_stack([data['ve_dune'], data['vu_dune'], data['vebar_dune'], data['vubar_dune']])\n",
    "target = data['delta']\n",
    "\n",
    "x_train = data_all[:10000]\n",
    "y_train = target[:10000]\n",
    "\n",
    "x_train2 = data_all[10000:900000]\n",
    "y_train2 = target[10000:900000]\n",
    "\n",
    "x_test = data_all[900000:]\n",
    "y_test = target[900000:]"
   ]
  },
  {
   "cell_type": "code",
   "execution_count": null,
   "metadata": {
    "tags": []
   },
   "outputs": [
    {
     "name": "stdout",
     "output_type": "stream",
     "text": [
      "Trial 16 Complete [00h 00m 54s]\n",
      "val_loss: 1654.4722900390625\n",
      "\n",
      "Best val_loss So Far: 711.20361328125\n",
      "Total elapsed time: 00h 14m 17s\n",
      "\n",
      "Search: Running Trial #17\n",
      "\n",
      "Hyperparameter    |Value             |Best Value So Far \n",
      "structured_data...|True              |True              \n",
      "structured_data...|False             |False             \n",
      "structured_data...|2                 |2                 \n",
      "structured_data...|32                |32                \n",
      "structured_data...|0                 |0                 \n",
      "structured_data...|256               |256               \n",
      "regression_head...|0                 |0                 \n",
      "optimizer         |sgd               |adam              \n",
      "learning_rate     |0.001             |0.001             \n",
      "structured_data...|64                |64                \n",
      "\n"
     ]
    }
   ],
   "source": [
    "clf = ak.StructuredDataRegressor(overwrite=True, max_trials=50)\n",
    "clf.fit(x_train, y_train,\n",
    "           validation_split = 0.1,\n",
    "           batch_size=64,\n",
    "           epochs=20,\n",
    "           verbose=1,\n",
    "           shuffle = True\n",
    "       )"
   ]
  },
  {
   "cell_type": "code",
   "execution_count": 15,
   "metadata": {
    "tags": []
   },
   "outputs": [
    {
     "name": "stdout",
     "output_type": "stream",
     "text": [
      "Model: \"model\"\n",
      "_________________________________________________________________\n",
      "Layer (type)                 Output Shape              Param #   \n",
      "=================================================================\n",
      "input_1 (InputLayer)         [(None, 264)]             0         \n",
      "_________________________________________________________________\n",
      "multi_category_encoding (Mul (None, 264)               0         \n",
      "_________________________________________________________________\n",
      "normalization (Normalization (None, 264)               529       \n",
      "_________________________________________________________________\n",
      "dense (Dense)                (None, 256)               67840     \n",
      "_________________________________________________________________\n",
      "re_lu (ReLU)                 (None, 256)               0         \n",
      "_________________________________________________________________\n",
      "dense_1 (Dense)              (None, 128)               32896     \n",
      "_________________________________________________________________\n",
      "re_lu_1 (ReLU)               (None, 128)               0         \n",
      "_________________________________________________________________\n",
      "dense_2 (Dense)              (None, 128)               16512     \n",
      "_________________________________________________________________\n",
      "re_lu_2 (ReLU)               (None, 128)               0         \n",
      "_________________________________________________________________\n",
      "regression_head_1 (Dense)    (None, 1)                 129       \n",
      "=================================================================\n",
      "Total params: 117,906\n",
      "Trainable params: 117,377\n",
      "Non-trainable params: 529\n",
      "_________________________________________________________________\n"
     ]
    }
   ],
   "source": [
    "model = clf.export_model()\n",
    "model.summary()"
   ]
  },
  {
   "cell_type": "code",
   "execution_count": 16,
   "metadata": {},
   "outputs": [
    {
     "name": "stdout",
     "output_type": "stream",
     "text": [
      "3125/3125 [==============================] - 30s 9ms/step - loss: 225.3581 - mean_squared_error: 225.3581\n"
     ]
    },
    {
     "data": {
      "text/plain": [
       "[225.35812377929688, 225.35812377929688]"
      ]
     },
     "execution_count": 16,
     "metadata": {},
     "output_type": "execute_result"
    }
   ],
   "source": [
    "model.evaluate(x_test, y_test)"
   ]
  },
  {
   "cell_type": "code",
   "execution_count": 17,
   "metadata": {
    "tags": []
   },
   "outputs": [
    {
     "name": "stdout",
     "output_type": "stream",
     "text": [
      "Epoch 1/20\n",
      "12516/12516 [==============================] - 199s 16ms/step - loss: 234.3995 - mean_squared_error: 234.3995 - val_loss: 145.6397 - val_mean_squared_error: 145.6397\n",
      "Epoch 2/20\n",
      "12516/12516 [==============================] - 197s 16ms/step - loss: 141.7181 - mean_squared_error: 141.7181 - val_loss: 145.6397 - val_mean_squared_error: 145.6397\n",
      "Epoch 3/20\n",
      "12516/12516 [==============================] - 200s 16ms/step - loss: 141.7175 - mean_squared_error: 141.7175 - val_loss: 145.6397 - val_mean_squared_error: 145.6397\n",
      "Epoch 4/20\n",
      "12516/12516 [==============================] - 200s 16ms/step - loss: 141.7177 - mean_squared_error: 141.7177 - val_loss: 145.6397 - val_mean_squared_error: 145.6397\n",
      "Epoch 5/20\n",
      "12516/12516 [==============================] - 197s 16ms/step - loss: 141.7173 - mean_squared_error: 141.7173 - val_loss: 145.6397 - val_mean_squared_error: 145.6397\n",
      "Epoch 6/20\n",
      "12516/12516 [==============================] - 200s 16ms/step - loss: 141.7180 - mean_squared_error: 141.7180 - val_loss: 145.6397 - val_mean_squared_error: 145.6397\n",
      "Epoch 7/20\n",
      "12516/12516 [==============================] - 200s 16ms/step - loss: 141.7178 - mean_squared_error: 141.7178 - val_loss: 145.6397 - val_mean_squared_error: 145.6397\n",
      "Epoch 8/20\n",
      "12516/12516 [==============================] - 199s 16ms/step - loss: 141.7177 - mean_squared_error: 141.7177 - val_loss: 145.6397 - val_mean_squared_error: 145.6397\n",
      "Epoch 9/20\n",
      "12516/12516 [==============================] - 198s 16ms/step - loss: 141.7178 - mean_squared_error: 141.7178 - val_loss: 145.6397 - val_mean_squared_error: 145.6397\n",
      "Epoch 10/20\n",
      "12516/12516 [==============================] - 197s 16ms/step - loss: 141.7178 - mean_squared_error: 141.7178 - val_loss: 145.6397 - val_mean_squared_error: 145.6397\n",
      "Epoch 11/20\n",
      "12516/12516 [==============================] - 200s 16ms/step - loss: 141.7172 - mean_squared_error: 141.7172 - val_loss: 145.6397 - val_mean_squared_error: 145.6397\n",
      "Epoch 12/20\n",
      "12516/12516 [==============================] - 198s 16ms/step - loss: 141.7176 - mean_squared_error: 141.7176 - val_loss: 145.6397 - val_mean_squared_error: 145.6397\n",
      "Epoch 13/20\n",
      "12516/12516 [==============================] - 198s 16ms/step - loss: 141.7177 - mean_squared_error: 141.7177 - val_loss: 145.6397 - val_mean_squared_error: 145.6397\n",
      "Epoch 14/20\n",
      "12516/12516 [==============================] - 196s 16ms/step - loss: 141.7175 - mean_squared_error: 141.7175 - val_loss: 145.6397 - val_mean_squared_error: 145.6397\n",
      "Epoch 15/20\n",
      "12516/12516 [==============================] - 200s 16ms/step - loss: 141.7182 - mean_squared_error: 141.7182 - val_loss: 145.6397 - val_mean_squared_error: 145.6397\n",
      "Epoch 16/20\n",
      "12516/12516 [==============================] - 204s 16ms/step - loss: 141.7180 - mean_squared_error: 141.7180 - val_loss: 145.6397 - val_mean_squared_error: 145.6397\n",
      "Epoch 17/20\n",
      "12516/12516 [==============================] - 203s 16ms/step - loss: 141.7176 - mean_squared_error: 141.7176 - val_loss: 145.6397 - val_mean_squared_error: 145.6397\n",
      "Epoch 18/20\n",
      "12516/12516 [==============================] - 200s 16ms/step - loss: 141.7178 - mean_squared_error: 141.7178 - val_loss: 145.6397 - val_mean_squared_error: 145.6397\n",
      "Epoch 19/20\n",
      "12516/12516 [==============================] - 201s 16ms/step - loss: 141.7175 - mean_squared_error: 141.7175 - val_loss: 145.6397 - val_mean_squared_error: 145.6397\n",
      "Epoch 20/20\n",
      "12516/12516 [==============================] - 199s 16ms/step - loss: 141.7181 - mean_squared_error: 141.7181 - val_loss: 145.6397 - val_mean_squared_error: 145.6397\n"
     ]
    },
    {
     "data": {
      "text/plain": [
       "<tensorflow.python.keras.callbacks.History at 0x7fdd9fe37630>"
      ]
     },
     "execution_count": 17,
     "metadata": {},
     "output_type": "execute_result"
    }
   ],
   "source": [
    "model.fit(x_train2, y_train2,\n",
    "           validation_split = 0.1,\n",
    "           batch_size=64,\n",
    "           epochs=20,\n",
    "           verbose=1,\n",
    "           shuffle = True\n",
    "         )"
   ]
  },
  {
   "cell_type": "code",
   "execution_count": 19,
   "metadata": {
    "tags": []
   },
   "outputs": [
    {
     "name": "stdout",
     "output_type": "stream",
     "text": [
      "3125/3125 [==============================] - 30s 10ms/step - loss: 160.3534 - mean_squared_error: 160.3534\n"
     ]
    }
   ],
   "source": [
    "model.evaluate(x_test, y_test)\n",
    "pre_test = model.predict(x_test)"
   ]
  },
  {
   "cell_type": "code",
   "execution_count": 20,
   "metadata": {},
   "outputs": [
    {
     "data": {
      "image/png": "[encoded data removed]",
      "text/plain": [
       "<Figure size 432x288 with 1 Axes>"
      ]
     },
     "metadata": {
      "needs_background": "light"
     },
     "output_type": "display_data"
    }
   ],
   "source": [
    "plt.hist(pre_test, histtype = 'step', bins = 100, label = 'prediction')\n",
    "plt.hist(y_test, histtype = 'step', bins = 100, label = 'target')\n",
    "plt.xlabel('delta')\n",
    "plt.ylabel('number')\n",
    "plt.legend()\n",
    "plt.show()"
   ]
  },
  {
   "cell_type": "code",
   "execution_count": 21,
   "metadata": {},
   "outputs": [
    {
     "data": {
      "text/plain": [
       "Text(0.5, 1.0, 'delta')"
      ]
     },
     "execution_count": 21,
     "metadata": {},
     "output_type": "execute_result"
    },
    {
     "data": {
      "image/png": "[encoded data removed]",
      "text/plain": [
       "<Figure size 504x504 with 1 Axes>"
      ]
     },
     "metadata": {
      "needs_background": "light"
     },
     "output_type": "display_data"
    }
   ],
   "source": [
    "plt.figure(figsize=(7,7))\n",
    "plt.plot(pre_test, y_test, '.', alpha = 0.05)\n",
    "plt.xlabel('prediction')\n",
    "plt.ylabel('target')\n",
    "plt.title('delta')"
   ]
  },
  {
   "cell_type": "code",
   "execution_count": 22,
   "metadata": {
    "tags": []
   },
   "outputs": [],
   "source": [
    "index = 1\n",
    "while os.path.isfile('/home/ML4NO/ML_DUNE/Regression/models/0910_delta_{}.h5'.format(index)):\n",
    "    index += 1\n",
    "model.save('/home/ML4NO/ML_DUNE/Regression/models/0910_delta_{}.h5'.format(index))"
   ]
  },
  {
   "cell_type": "code",
   "execution_count": null,
   "metadata": {},
   "outputs": [],
   "source": []
  }
 ],
 "metadata": {
  "kernelspec": {
   "display_name": "Python 3",
   "language": "python",
   "name": "python3"
  },
  "language_info": {
   "codemirror_mode": {
    "name": "ipython",
    "version": 3
   },
   "file_extension": ".py",
   "mimetype": "text/x-python",
   "name": "python",
   "nbconvert_exporter": "python",
   "pygments_lexer": "ipython3",
   "version": "3.6.9"
  }
 },
 "nbformat": 4,
 "nbformat_minor": 4
}
