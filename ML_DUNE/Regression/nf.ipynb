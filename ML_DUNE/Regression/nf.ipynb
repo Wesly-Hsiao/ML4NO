{
 "cells": [
  {
   "cell_type": "code",
   "execution_count": null,
   "metadata": {},
   "outputs": [],
   "source": [
    "import torch\n",
    "from torch import nn\n",
    "from torch import optim\n",
    "import numpy as np\n",
    "from tqdm import tqdm\n",
    "import os\n",
    "from torch.utils.tensorboard import SummaryWriter\n",
    "writer_path = \"./tb_log/nf/\"\n",
    "\n",
    "from nflows.flows.base import Flow\n",
    "from nflows.transforms.base import CompositeTransform\n",
    "from nflows.transforms.autoregressive import MaskedAffineAutoregressiveTransform\n",
    "from nflows.flows.autoregressive import MaskedAutoregressiveFlow\n",
    "from nflows.transforms.permutations import ReversePermutation\n",
    "from nflows.distributions.normal import ConditionalDiagonalNormal\n",
    "\n",
    "device = torch.device(\"cuda:0\" if torch.cuda.is_available() else \"cpu\")\n",
    "print(device)"
   ]
  },
  {
   "cell_type": "code",
   "execution_count": null,
   "metadata": {},
   "outputs": [],
   "source": [
    "training_data = np.load(\"../../Data/n1000000_0910_all_flat.npz\")\n",
    "data_all = np.column_stack([training_data['ve_dune'][:,:36], training_data['vu_dune'][:,:36], training_data['vebar_dune'][:,:36], training_data['vubar_dune'][:,:36]])\n",
    "\n",
    "# theta13, theta23, delta\n",
    "target = np.column_stack([training_data[\"theta13\"]/180*np.pi, training_data[\"theta23\"]/180*np.pi,\n",
    "                         training_data[\"delta\"]/180*np.pi])\n",
    "\n",
    "split = 900000\n",
    "x_train = data_all[:split]\n",
    "y_train = target[:split]\n",
    "x_train_poisson = np.random.poisson(x_train)/1000\n",
    "\n",
    "x_val = data_all[split:]\n",
    "y_val = target[split:]\n",
    "x_val_poisson = np.random.poisson(x_val)/1000"
   ]
  },
  {
   "cell_type": "code",
   "execution_count": null,
   "metadata": {},
   "outputs": [],
   "source": [
    "def flow_generator(num_layers=4, hidden_features=8, num_blocks=10):\n",
    "    base_dist = ConditionalDiagonalNormal(shape=[3],\n",
    "                                        context_encoder=nn.Linear(144, 6))\n",
    "\n",
    "    transforms = []\n",
    "    for _ in range(num_layers):\n",
    "        transforms.append(ReversePermutation(features=3))\n",
    "        transforms.append(MaskedAffineAutoregressiveTransform(features=3,\n",
    "                                                            hidden_features=hidden_features,\n",
    "                                                            context_features=144,\n",
    "                                                            num_blocks=num_blocks))\n",
    "    transform = CompositeTransform(transforms)\n",
    "\n",
    "    flow = Flow(transform, base_dist)\n",
    "    optimizer = optim.Adam(flow.parameters())\n",
    "    return flow, optimizer"
   ]
  },
  {
   "cell_type": "code",
   "execution_count": null,
   "metadata": {},
   "outputs": [],
   "source": [
    "num_iter = 1000\n",
    "hparam_writer = SummaryWriter(\"tb_log/nf/hparam\")\n",
    "for num_layers in [2, 3, 4, 5]:\n",
    "    for hidden_features in [8, 16, 32, 64]:\n",
    "        for num_blocks in [2, 4, 6, 8]:\n",
    "            index = 1\n",
    "            while os.path.isfile(\"nf/model_info_{}.txt\".format(index)): index += 1\n",
    "            flow, optimizer = flow_generator(num_layers, hidden_features, num_blocks)\n",
    "            flow = flow.to(device)\n",
    "            writer = SummaryWriter(writer_path + str(index))\n",
    "            with open(\"nf/model_info_{}.txt\".format(index), 'w') as f:\n",
    "                f.writelines('num_layers = {}\\n'.format(num_layers))\n",
    "                f.writelines('hidden_features = {}\\n'.format(hidden_features))\n",
    "                f.writelines('num_blocks = {}\\n'.format(num_blocks))\n",
    "\n",
    "            for i in tqdm(range(num_iter)):\n",
    "                x = torch.tensor(y_train, dtype=torch.float32).to(device)\n",
    "                y = torch.tensor(x_train/1000, dtype=torch.float32).to(device)\n",
    "                optimizer.zero_grad()\n",
    "                loss = -flow.log_prob(inputs=x, context=y).mean()\n",
    "                loss.backward()\n",
    "                optimizer.step()\n",
    "                writer.add_scalar(\"training_loss\", loss, i)\n",
    "            torch.save(flow, \"./nf/test_{}.pt\".format(index))\n",
    "            hparam_writer.add_hparams({\n",
    "                'num_layers': num_layers,\n",
    "                'hidden_features': hidden_features,\n",
    "                'num_blocks': num_blocks},\n",
    "                {'hparam/loss': loss})"
   ]
  },
  {
   "cell_type": "markdown",
   "metadata": {},
   "source": [
    "if plot_graph and i%30 == 0:\n",
    "    colors =['green', 'blue', 'red', 'black', 'yellow']\n",
    "    n_sample = 1000000\n",
    "    samples = flow.sample(num_samples=n_sample,\n",
    "                context=torch.tensor(np.array([data_all[0]/1000]), dtype=torch.float32).to(device)\n",
    "                ).cpu().detach().numpy().reshape(-1, 3)\n",
    "    samples = samples*180/np.pi\n",
    "    figure = corner.hist2d(samples[:, 1], samples[:, 2],\n",
    "                        levels=(0.68,),\n",
    "                        scale_hist=True,\n",
    "                        plot_datapoints=False,\n",
    "                        color = colors[j],\n",
    "                        labels= [\"$\\\\theta_{23} $($^\\circ$)\", \"$\\delta_{cp} $($^\\circ$)\"],\n",
    "                        # range=[[48,50], [170, 220]],\n",
    "                        plot_contours = True,\n",
    "                        plot_density = False,\n",
    "                        fontsize=30,\n",
    "                        bins = [200, 200],\n",
    "                        label_kwargs={\"fontsize\": 30},\n",
    "                        smooth=True\n",
    "                    )\n",
    "    j += 1\n"
   ]
  },
  {
   "cell_type": "markdown",
   "metadata": {},
   "source": []
  }
 ],
 "metadata": {
  "interpreter": {
   "hash": "d4d1e4263499bec80672ea0156c357c1ee493ec2b1c70f0acce89fc37c4a6abe"
  },
  "kernelspec": {
   "display_name": "Python 3.8.12 ('base')",
   "language": "python",
   "name": "python3"
  },
  "language_info": {
   "codemirror_mode": {
    "name": "ipython",
    "version": 3
   },
   "file_extension": ".py",
   "mimetype": "text/x-python",
   "name": "python",
   "nbconvert_exporter": "python",
   "pygments_lexer": "ipython3",
   "version": "3.8.12"
  }
 },
 "nbformat": 4,
 "nbformat_minor": 4
}
