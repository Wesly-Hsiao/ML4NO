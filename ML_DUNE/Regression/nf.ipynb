{
 "cells": [
  {
   "cell_type": "code",
   "execution_count": null,
   "metadata": {},
   "outputs": [],
   "source": [
    "import torch\n",
    "from torch import nn\n",
    "from torch import optim\n",
    "import numpy as np\n",
    "from tqdm import tqdm\n",
    "import os\n",
    "from torch.utils.tensorboard import SummaryWriter\n",
    "writer_path = \"./tb_log/nf/\"\n",
    "\n",
    "from nflows.flows.base import Flow\n",
    "from nflows.transforms.base import CompositeTransform\n",
    "from nflows.transforms.autoregressive import MaskedAffineAutoregressiveTransform\n",
    "from nflows.transforms.permutations import ReversePermutation\n",
    "from nflows.distributions.normal import ConditionalDiagonalNormal\n",
    "from functions import load_data\n",
    "\n",
    "device = torch.device(\"cuda:0\" if torch.cuda.is_available() else \"cpu\")\n",
    "print(device)"
   ]
  },
  {
   "cell_type": "code",
   "execution_count": null,
   "metadata": {},
   "outputs": [],
   "source": [
    "x_train, y_train, x_val, y_val = load_data()"
   ]
  },
  {
   "cell_type": "code",
   "execution_count": null,
   "metadata": {},
   "outputs": [],
   "source": [
    "def flow_generator(num_layers=4, hidden_features=8, num_blocks=10):\n",
    "    base_dist = ConditionalDiagonalNormal(shape=[4],\n",
    "                                        context_encoder=nn.Linear(144, 8))\n",
    "\n",
    "    transforms = []\n",
    "    for _ in range(num_layers):\n",
    "        transforms.append(ReversePermutation(features=4))\n",
    "        transforms.append(MaskedAffineAutoregressiveTransform(features=4,\n",
    "                                                            hidden_features=hidden_features,\n",
    "                                                            context_features=144,\n",
    "                                                            num_blocks=num_blocks))\n",
    "    transform = CompositeTransform(transforms)\n",
    "\n",
    "    flow = Flow(transform, base_dist)\n",
    "    optimizer = optim.Adam(flow.parameters())\n",
    "    return flow, optimizer"
   ]
  },
  {
   "cell_type": "code",
   "execution_count": null,
   "metadata": {},
   "outputs": [],
   "source": [
    "num_iter = 1000\n",
    "hparam_writer = SummaryWriter(\"tb_log/nf/hparam\")\n",
    "for num_layers in [5, 6]:\n",
    "    for hidden_features in [32, 64]:\n",
    "        for num_blocks in [2, 4, 6, 8]:\n",
    "            index = 1\n",
    "            while os.path.isfile(\"nf/modelInfo_{}.txt\".format(index)): index += 1\n",
    "            flow, optimizer = flow_generator(num_layers, hidden_features, num_blocks)\n",
    "            flow = flow.to(device)\n",
    "            writer = SummaryWriter(writer_path + str(index))\n",
    "            with open(\"nf/modelInfo_{}.txt\".format(index), 'w') as f:\n",
    "                f.writelines('num_layers = {}\\n'.format(num_layers))\n",
    "                f.writelines('hidden_features = {}\\n'.format(hidden_features))\n",
    "                f.writelines('num_blocks = {}\\n'.format(num_blocks))\n",
    "\n",
    "            for i in tqdm(range(num_iter)):\n",
    "                x = torch.tensor(y_train, dtype=torch.float32).to(device)\n",
    "                y = torch.tensor(x_train/1000, dtype=torch.float32).to(device)\n",
    "                optimizer.zero_grad()\n",
    "                loss = -flow.log_prob(inputs=x, context=y).mean()\n",
    "                loss.backward()\n",
    "                optimizer.step()\n",
    "                writer.add_scalar(\"training_loss\", loss, i)\n",
    "            torch.save(flow, \"./nf/{}.pt\".format(index))\n",
    "            hparam_writer.add_hparams({\n",
    "                'num_layers': num_layers,\n",
    "                'hidden_features': hidden_features,\n",
    "                'num_blocks': num_blocks},\n",
    "                {'hparam/loss': loss})"
   ]
  }
 ],
 "metadata": {
  "kernelspec": {
   "display_name": "Python 3.8.10 64-bit",
   "language": "python",
   "name": "python3"
  },
  "language_info": {
   "codemirror_mode": {
    "name": "ipython",
    "version": 3
   },
   "file_extension": ".py",
   "mimetype": "text/x-python",
   "name": "python",
   "nbconvert_exporter": "python",
   "pygments_lexer": "ipython3",
   "version": "3.8.10"
  },
  "vscode": {
   "interpreter": {
    "hash": "916dbcbb3f70747c44a77c7bcd40155683ae19c65e1c03b4aa3499c5328201f1"
   }
  }
 },
 "nbformat": 4,
 "nbformat_minor": 4
}
