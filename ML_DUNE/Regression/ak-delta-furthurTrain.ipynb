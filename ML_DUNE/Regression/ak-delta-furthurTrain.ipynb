{
 "cells": [
  {
   "cell_type": "code",
   "execution_count": 1,
   "metadata": {
    "tags": []
   },
   "outputs": [],
   "source": [
    "import numpy as np\n",
    "import matplotlib.pyplot as plt\n",
    "import autokeras as ak\n",
    "import tensorflow as tf\n",
    "import os"
   ]
  },
  {
   "cell_type": "code",
   "execution_count": 2,
   "metadata": {
    "tags": []
   },
   "outputs": [
    {
     "name": "stdout",
     "output_type": "stream",
     "text": [
      "Model: \"model\"\n",
      "_________________________________________________________________\n",
      "Layer (type)                 Output Shape              Param #   \n",
      "=================================================================\n",
      "input_1 (InputLayer)         [(None, 264)]             0         \n",
      "_________________________________________________________________\n",
      "multi_category_encoding (Mul (None, 264)               0         \n",
      "_________________________________________________________________\n",
      "normalization (Normalization (None, 264)               529       \n",
      "_________________________________________________________________\n",
      "dense (Dense)                (None, 256)               67840     \n",
      "_________________________________________________________________\n",
      "re_lu (ReLU)                 (None, 256)               0         \n",
      "_________________________________________________________________\n",
      "dense_1 (Dense)              (None, 128)               32896     \n",
      "_________________________________________________________________\n",
      "re_lu_1 (ReLU)               (None, 128)               0         \n",
      "_________________________________________________________________\n",
      "dense_2 (Dense)              (None, 128)               16512     \n",
      "_________________________________________________________________\n",
      "re_lu_2 (ReLU)               (None, 128)               0         \n",
      "_________________________________________________________________\n",
      "regression_head_1 (Dense)    (None, 1)                 129       \n",
      "=================================================================\n",
      "Total params: 117,906\n",
      "Trainable params: 117,377\n",
      "Non-trainable params: 529\n",
      "_________________________________________________________________\n"
     ]
    }
   ],
   "source": [
    "data = np.load('/home/ML4NO/Data/n1000000_0910_all_flat.npz')\n",
    "model_index = 3\n",
    "model = tf.keras.models.load_model('/home/ML4NO/ML_DUNE/Regression/models/0910_delta_{}.h5'.format(model_index))\n",
    "model.summary()"
   ]
  },
  {
   "cell_type": "code",
   "execution_count": 3,
   "metadata": {
    "tags": []
   },
   "outputs": [],
   "source": [
    "data_all = np.column_stack([data['ve_dune'], data['vu_dune'], data['vebar_dune'], data['vubar_dune']])\n",
    "target = data['delta']\n",
    "\n",
    "x_train = data_all[:10000]\n",
    "y_train = target[:10000]\n",
    "x_train2 = data_all[10000:900000]\n",
    "y_train2 = target[10000:900000]\n",
    "x_test = data_all[900000:]\n",
    "y_test = target[900000:]"
   ]
  },
  {
   "cell_type": "code",
   "execution_count": null,
   "metadata": {},
   "outputs": [
    {
     "name": "stdout",
     "output_type": "stream",
     "text": [
      "3125/3125 [==============================] - 32s 10ms/step - loss: 1142.8477 - mean_squared_error: 1142.8477\n",
      "Epoch 1/5\n",
      "12516/12516 [==============================] - 214s 17ms/step - loss: 1073.3838 - mean_squared_error: 1073.3838 - val_loss: 1137.3953 - val_mean_squared_error: 1137.3953\n",
      "Epoch 2/5\n",
      "12516/12516 [==============================] - 207s 17ms/step - loss: 1073.3815 - mean_squared_error: 1073.3815 - val_loss: 1137.3953 - val_mean_squared_error: 1137.3953\n",
      "Epoch 3/5\n",
      "12516/12516 [==============================] - 209s 17ms/step - loss: 1073.3848 - mean_squared_error: 1073.3848 - val_loss: 1137.3953 - val_mean_squared_error: 1137.3953\n",
      "Epoch 4/5\n",
      "12516/12516 [==============================] - 213s 17ms/step - loss: 1073.3842 - mean_squared_error: 1073.3842 - val_loss: 1137.3953 - val_mean_squared_error: 1137.3953\n",
      "Epoch 5/5\n",
      "12516/12516 [==============================] - 211s 17ms/step - loss: 1073.3849 - mean_squared_error: 1073.3849 - val_loss: 1137.3953 - val_mean_squared_error: 1137.3953\n",
      "3125/3125 [==============================] - 31s 10ms/step - loss: 1142.8477 - mean_squared_error: 1142.8477\n",
      "3125/3125 [==============================] - 31s 10ms/step - loss: 1173.8174 - mean_squared_error: 1173.8174\n",
      "Epoch 1/5\n",
      "12516/12516 [==============================] - 213s 17ms/step - loss: 1182.3936 - mean_squared_error: 1182.3936 - val_loss: 1281.0881 - val_mean_squared_error: 1281.0881\n",
      "Epoch 2/5\n",
      "12516/12516 [==============================] - 209s 17ms/step - loss: 1182.3988 - mean_squared_error: 1182.3988 - val_loss: 1281.0881 - val_mean_squared_error: 1281.0881\n",
      "Epoch 3/5\n",
      " 9171/12516 [====================>.........] - ETA: 52s - loss: 1183.6193 - mean_squared_error: 1183.6193"
     ]
    },
    {
     "name": "stderr",
     "output_type": "stream",
     "text": [
      "IOPub message rate exceeded.\n",
      "The Jupyter server will temporarily stop sending output\n",
      "to the client in order to avoid crashing it.\n",
      "To change this limit, set the config variable\n",
      "`--ServerApp.iopub_msg_rate_limit`.\n",
      "\n",
      "Current values:\n",
      "ServerApp.iopub_msg_rate_limit=1000.0 (msgs/sec)\n",
      "ServerApp.rate_limit_window=3.0 (secs)\n",
      "\n"
     ]
    },
    {
     "name": "stdout",
     "output_type": "stream",
     "text": [
      "12516/12516 [==============================] - 213s 17ms/step - loss: 1182.3943 - mean_squared_error: 1182.3943 - val_loss: 1281.0881 - val_mean_squared_error: 1281.0881\n",
      "Epoch 5/5\n",
      " 8032/12516 [==================>...........] - ETA: 1:09 - loss: 1171.9960 - mean_squared_error: 1171.9960"
     ]
    },
    {
     "name": "stderr",
     "output_type": "stream",
     "text": [
      "IOPub message rate exceeded.\n",
      "The Jupyter server will temporarily stop sending output\n",
      "to the client in order to avoid crashing it.\n",
      "To change this limit, set the config variable\n",
      "`--ServerApp.iopub_msg_rate_limit`.\n",
      "\n",
      "Current values:\n",
      "ServerApp.iopub_msg_rate_limit=1000.0 (msgs/sec)\n",
      "ServerApp.rate_limit_window=3.0 (secs)\n",
      "\n"
     ]
    },
    {
     "name": "stdout",
     "output_type": "stream",
     "text": [
      "12516/12516 [==============================] - 214s 17ms/step - loss: 1314.5525 - mean_squared_error: 1314.5525 - val_loss: 1277.6790 - val_mean_squared_error: 1277.6790\n",
      "Epoch 2/5\n",
      " 2462/12516 [====>.........................] - ETA: 2:31 - loss: 1314.6566 - mean_squared_error: 1314.6566"
     ]
    },
    {
     "name": "stderr",
     "output_type": "stream",
     "text": [
      "IOPub message rate exceeded.\n",
      "The Jupyter server will temporarily stop sending output\n",
      "to the client in order to avoid crashing it.\n",
      "To change this limit, set the config variable\n",
      "`--ServerApp.iopub_msg_rate_limit`.\n",
      "\n",
      "Current values:\n",
      "ServerApp.iopub_msg_rate_limit=1000.0 (msgs/sec)\n",
      "ServerApp.rate_limit_window=3.0 (secs)\n",
      "\n"
     ]
    },
    {
     "name": "stdout",
     "output_type": "stream",
     "text": [
      "12516/12516 [==============================] - 209s 17ms/step - loss: 1314.5490 - mean_squared_error: 1314.5490 - val_loss: 1277.6790 - val_mean_squared_error: 1277.6790\n",
      "Epoch 4/5\n",
      " 2111/12516 [====>.........................] - ETA: 2:33 - loss: 1291.3369 - mean_squared_error: 1291.3369"
     ]
    },
    {
     "name": "stderr",
     "output_type": "stream",
     "text": [
      "IOPub message rate exceeded.\n",
      "The Jupyter server will temporarily stop sending output\n",
      "to the client in order to avoid crashing it.\n",
      "To change this limit, set the config variable\n",
      "`--ServerApp.iopub_msg_rate_limit`.\n",
      "\n",
      "Current values:\n",
      "ServerApp.iopub_msg_rate_limit=1000.0 (msgs/sec)\n",
      "ServerApp.rate_limit_window=3.0 (secs)\n",
      "\n"
     ]
    },
    {
     "name": "stdout",
     "output_type": "stream",
     "text": [
      "12516/12516 [==============================] - 206s 16ms/step - loss: 1314.5532 - mean_squared_error: 1314.5532 - val_loss: 1277.6790 - val_mean_squared_error: 1277.6790\n",
      "Epoch 5/5\n",
      " 1371/12516 [==>...........................] - ETA: 2:47 - loss: 1293.7676 - mean_squared_error: 1293.7676"
     ]
    }
   ],
   "source": [
    "scale_steps = np.logspace(-3, 0, 30)\n",
    "before_train_loss = []\n",
    "after_train_loss = []\n",
    "\n",
    "for scale in scale_steps:\n",
    "    x_train2_gen = np.random.normal(x_train2, np.sqrt(x_train2)*scale)\n",
    "    x_test_gen = np.random.normal(x_test, np.sqrt(x_test)*scale)\n",
    "\n",
    "    before_train_loss.append(model.evaluate(x_test_gen, y_test)[0])\n",
    "\n",
    "    model.fit(x_train2_gen, y_train2,\n",
    "               validation_split = 0.1,\n",
    "               batch_size=64,\n",
    "               epochs=5,\n",
    "               verbose=1,\n",
    "               shuffle = True\n",
    "             )\n",
    "\n",
    "    after_train_loss.append(model.evaluate(x_test_gen, y_test)[0])"
   ]
  },
  {
   "cell_type": "code",
   "execution_count": null,
   "metadata": {},
   "outputs": [],
   "source": [
    "index = 1\n",
    "path = '/home/ML4NO/ML_DUNE/Regression/models_furthurTrain/0910_delta_{}_{}.h5'\n",
    "while os.path.isfile(path.format(model_index, index)):\n",
    "    index += 1\n",
    "model.save(path.format(model_index, index))\n",
    "outfile = {'scale_steps': scale_steps,\n",
    "           'before_train_loss': before_train_loss,\n",
    "           'after_train_loss' :after_train_loss}\n",
    "np.save(file = '/home/ML4NO/ML_DUNE/Regression/models_furthurTrain/0910_delta_{}_{}_result.npy'.format(model_index, index),\n",
    "        arr = outfile)"
   ]
  },
  {
   "cell_type": "code",
   "execution_count": null,
   "metadata": {},
   "outputs": [],
   "source": []
  }
 ],
 "metadata": {
  "kernelspec": {
   "display_name": "Python 3",
   "language": "python",
   "name": "python3"
  },
  "language_info": {
   "codemirror_mode": {
    "name": "ipython",
    "version": 3
   },
   "file_extension": ".py",
   "mimetype": "text/x-python",
   "name": "python",
   "nbconvert_exporter": "python",
   "pygments_lexer": "ipython3",
   "version": "3.6.9"
  }
 },
 "nbformat": 4,
 "nbformat_minor": 4
}
