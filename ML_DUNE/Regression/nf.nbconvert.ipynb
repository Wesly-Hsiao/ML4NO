{
 "cells": [
  {
   "cell_type": "code",
   "execution_count": 1,
   "metadata": {
    "execution": {
     "iopub.execute_input": "2022-08-16T09:22:02.411538Z",
     "iopub.status.busy": "2022-08-16T09:22:02.411139Z",
     "iopub.status.idle": "2022-08-16T09:22:04.053701Z",
     "shell.execute_reply": "2022-08-16T09:22:04.052421Z"
    }
   },
   "outputs": [
    {
     "name": "stdout",
     "output_type": "stream",
     "text": [
      "cuda:0\n"
     ]
    }
   ],
   "source": [
    "import torch\n",
    "from torch import nn\n",
    "from torch import optim\n",
    "import numpy as np\n",
    "from tqdm import tqdm\n",
    "import os\n",
    "from torch.utils.tensorboard import SummaryWriter\n",
    "from nflows.flows.base import Flow\n",
    "from nflows.transforms.base import CompositeTransform\n",
    "from nflows.transforms.autoregressive import MaskedAffineAutoregressiveTransform\n",
    "from nflows.transforms.permutations import ReversePermutation\n",
    "from nflows.distributions.normal import ConditionalDiagonalNormal\n",
    "from functions import load_train_data\n",
    "from sklearn.preprocessing import StandardScaler\n",
    "from pickle import dump\n",
    "\n",
    "device = torch.device(\"cuda:0\" if torch.cuda.is_available() else \"cpu\")\n",
    "print(device)"
   ]
  },
  {
   "cell_type": "code",
   "execution_count": 2,
   "metadata": {
    "execution": {
     "iopub.execute_input": "2022-08-16T09:22:04.101502Z",
     "iopub.status.busy": "2022-08-16T09:22:04.100905Z",
     "iopub.status.idle": "2022-08-16T09:22:23.016093Z",
     "shell.execute_reply": "2022-08-16T09:22:23.015067Z"
    }
   },
   "outputs": [],
   "source": [
    "#3flavor_poisson, nsi_poisson\n",
    "learn_target = '3flavor_poisson'\n",
    "\n",
    "x_train, y_train, x_val, y_val = load_train_data(learn_target)\n",
    "select = 10\n",
    "x_train = x_train[:len(x_train)//select]\n",
    "y_train = y_train[:len(y_train)//select]\n",
    "x_val = x_val[:len(x_val)//select]\n",
    "y_val = y_val[:len(y_val)//select]\n",
    "\n",
    "#Standardization\n",
    "scaler = StandardScaler()\n",
    "scaler.fit(x_train)\n",
    "x_train = scaler.transform(x_train)\n",
    "x_val = scaler.transform(x_val)\n",
    "dump(scaler, open('nf/' + learn_target + '/scaler.pkl', 'wb'))"
   ]
  },
  {
   "cell_type": "code",
   "execution_count": 3,
   "metadata": {
    "execution": {
     "iopub.execute_input": "2022-08-16T09:22:23.021418Z",
     "iopub.status.busy": "2022-08-16T09:22:23.021148Z",
     "iopub.status.idle": "2022-08-16T09:22:23.029789Z",
     "shell.execute_reply": "2022-08-16T09:22:23.029042Z"
    }
   },
   "outputs": [],
   "source": [
    "len_x = len(x_train[0])\n",
    "len_y =len(y_train[0])\n",
    "\n",
    "def flow_generator(num_layers=4, hidden_features=8, num_blocks=10):\n",
    "    base_dist = ConditionalDiagonalNormal(shape=[len_y],\n",
    "                                        context_encoder=nn.Linear(len_x, len_y*2))\n",
    "\n",
    "    transforms = []\n",
    "    for _ in range(num_layers):\n",
    "        transforms.append(ReversePermutation(features=len_y))\n",
    "        transforms.append(MaskedAffineAutoregressiveTransform(features=len_y,\n",
    "                                                            hidden_features=hidden_features,\n",
    "                                                            context_features=len_x,\n",
    "                                                            num_blocks=num_blocks))\n",
    "    transform = CompositeTransform(transforms)\n",
    "\n",
    "    flow = Flow(transform, base_dist)\n",
    "    optimizer = optim.Adam(flow.parameters())\n",
    "    return flow, optimizer"
   ]
  },
  {
   "cell_type": "code",
   "execution_count": 4,
   "metadata": {
    "execution": {
     "iopub.execute_input": "2022-08-16T09:22:23.032952Z",
     "iopub.status.busy": "2022-08-16T09:22:23.032699Z",
     "iopub.status.idle": "2022-08-16T09:31:15.366778Z",
     "shell.execute_reply": "2022-08-16T09:31:15.365593Z"
    }
   },
   "outputs": [
    {
     "name": "stderr",
     "output_type": "stream",
     "text": [
      "100%|█████████████████████████████████████████████████████████████████████████| 1000/1000 [00:37<00:00, 26.57it/s]\n",
      "100%|█████████████████████████████████████████████████████████████████████████| 1000/1000 [00:38<00:00, 25.89it/s]\n",
      "100%|█████████████████████████████████████████████████████████████████████████| 1000/1000 [00:38<00:00, 25.75it/s]\n",
      "100%|█████████████████████████████████████████████████████████████████████████| 1000/1000 [00:43<00:00, 23.19it/s]\n",
      "100%|█████████████████████████████████████████████████████████████████████████| 1000/1000 [00:42<00:00, 23.43it/s]\n",
      "100%|█████████████████████████████████████████████████████████████████████████| 1000/1000 [00:41<00:00, 24.04it/s]\n",
      "100%|█████████████████████████████████████████████████████████████████████████| 1000/1000 [00:46<00:00, 21.65it/s]\n",
      "100%|█████████████████████████████████████████████████████████████████████████| 1000/1000 [00:45<00:00, 21.87it/s]\n",
      "100%|█████████████████████████████████████████████████████████████████████████| 1000/1000 [00:44<00:00, 22.27it/s]\n",
      "100%|█████████████████████████████████████████████████████████████████████████| 1000/1000 [00:50<00:00, 19.77it/s]\n",
      "100%|█████████████████████████████████████████████████████████████████████████| 1000/1000 [00:49<00:00, 20.24it/s]\n",
      "100%|█████████████████████████████████████████████████████████████████████████| 1000/1000 [00:49<00:00, 20.05it/s]\n"
     ]
    }
   ],
   "source": [
    "num_iter = 1000\n",
    "hparam_writer = SummaryWriter('tb_log/nf/' + learn_target + '/hparam')\n",
    "for num_layers in [5, 6, 7, 8]:\n",
    "    for hidden_features in [8, 16, 32]:\n",
    "        for num_blocks in [2]:\n",
    "            index = 1\n",
    "            while os.path.isfile('nf/' + learn_target + '/modelInfo_{}.txt'.format(index)): index += 1\n",
    "            flow, optimizer = flow_generator(num_layers, hidden_features, num_blocks)\n",
    "            flow = flow.to(device)\n",
    "            writer = SummaryWriter( './tb_log/nf/' + learn_target + '/' + str(index))\n",
    "            with open('nf/' + learn_target + '/modelInfo_{}.txt'.format(index), 'w') as f:\n",
    "                f.writelines('num_layers = {}\\n'.format(num_layers))\n",
    "                f.writelines('hidden_features = {}\\n'.format(hidden_features))\n",
    "                f.writelines('num_blocks = {}\\n'.format(num_blocks))\n",
    "\n",
    "            for i in tqdm(range(num_iter)):\n",
    "                x = torch.tensor(y_train, dtype=torch.float32).to(device)\n",
    "                y = torch.tensor(x_train, dtype=torch.float32).to(device)\n",
    "                optimizer.zero_grad()\n",
    "                loss = -flow.log_prob(inputs=x, context=y).mean()\n",
    "                loss.backward()\n",
    "                optimizer.step()\n",
    "                writer.add_scalar('training_loss', loss, i)\n",
    "            torch.save(flow, './nf/' + learn_target + '/{}.pt'.format(index))\n",
    "            hparam_writer.add_hparams({\n",
    "                'num_layers': num_layers,\n",
    "                'hidden_features': hidden_features,\n",
    "                'num_blocks': num_blocks},\n",
    "                {'hparam/loss': loss})"
   ]
  },
  {
   "cell_type": "code",
   "execution_count": null,
   "metadata": {},
   "outputs": [],
   "source": []
  }
 ],
 "metadata": {
  "kernelspec": {
   "display_name": "Python 3.8.12 ('base')",
   "language": "python",
   "name": "python3"
  },
  "language_info": {
   "codemirror_mode": {
    "name": "ipython",
    "version": 3
   },
   "file_extension": ".py",
   "mimetype": "text/x-python",
   "name": "python",
   "nbconvert_exporter": "python",
   "pygments_lexer": "ipython3",
   "version": "3.8.12"
  },
  "vscode": {
   "interpreter": {
    "hash": "d4d1e4263499bec80672ea0156c357c1ee493ec2b1c70f0acce89fc37c4a6abe"
   }
  }
 },
 "nbformat": 4,
 "nbformat_minor": 4
}
