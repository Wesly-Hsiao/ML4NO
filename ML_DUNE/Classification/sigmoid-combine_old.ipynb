{
 "cells": [
  {
   "cell_type": "code",
   "execution_count": 1,
   "metadata": {
    "tags": []
   },
   "outputs": [],
   "source": [
    "import numpy as np\n",
    "import pandas as pd\n",
    "import matplotlib.pyplot as plt\n",
    "import autokeras as ak\n",
    "import tensorflow as tf\n",
    "import os\n",
    "from tensorboard.plugins.hparams import api as hp\n",
    "%load_ext tensorboard"
   ]
  },
  {
   "cell_type": "code",
   "execution_count": 2,
   "metadata": {},
   "outputs": [],
   "source": [
    "import tensorflow.keras as keras\n",
    "from tensorflow.keras.models import Sequential, load_model\n",
    "from tensorflow.keras.layers import Dense, Dropout, Flatten, Convolution2D, MaxPooling2D , Lambda, Conv2D, Activation,Concatenate\n",
    "from tensorflow.keras.layers import ActivityRegularization, BatchNormalization\n",
    "from tensorflow.keras.optimizers import Adam , SGD , Adagrad\n",
    "from tensorflow.keras.callbacks import ModelCheckpoint, LearningRateScheduler, EarlyStopping, CSVLogger, ReduceLROnPlateau\n",
    "from tensorflow.keras.utils import to_categorical\n",
    "from tensorflow.keras import regularizers , initializers\n",
    "from tensorflow.keras.models import Model\n",
    "from tensorflow.keras.preprocessing.image import ImageDataGenerator\n",
    "from tensorflow.keras.preprocessing.image import NumpyArrayIterator\n",
    "from sklearn.preprocessing import StandardScaler\n",
    "from tensorflow.keras import backend as K"
   ]
  },
  {
   "cell_type": "code",
   "execution_count": 3,
   "metadata": {},
   "outputs": [],
   "source": [
    "import logging\n",
    "\n",
    "logging.basicConfig(level = logging.INFO)\n",
    "gpus = tf.config.experimental.list_physical_devices('GPU')\n",
    "# if gpus:\n",
    "#   # Restrict TensorFlow to only use the first GPU\n",
    "try:\n",
    "    tf.config.experimental.set_visible_devices(gpus[0], 'GPU')\n",
    "    tf.config.experimental.set_virtual_device_configuration(\n",
    "    gpus[0],\n",
    "    [tf.config.experimental.VirtualDeviceConfiguration(memory_limit=5000)])\n",
    "    logical_gpus = tf.config.experimental.list_logical_devices('GPU')\n",
    "#     logging.info(len(gpus), \"Physical GPUs,\", len(logical_gpus), \"Logical GPU\")\n",
    "except RuntimeError as e:\n",
    "# Visible devices must be set before GPUs have been initialized\n",
    "    logging.info(e)"
   ]
  },
  {
   "cell_type": "code",
   "execution_count": 4,
   "metadata": {
    "tags": []
   },
   "outputs": [],
   "source": [
    "data = np.load('/home/ML4NO/Data/n1000000_0910_classification.npz')"
   ]
  },
  {
   "cell_type": "code",
   "execution_count": 5,
   "metadata": {
    "tags": []
   },
   "outputs": [],
   "source": [
    "data_all = np.column_stack([data['ve_dune'], data['vu_dune'], data['vebar_dune'], data['vubar_dune']])\n",
    "target = data['cpv']\n",
    "\n",
    "x_train = data_all[:10000]\n",
    "y_train = target[:10000]\n",
    "\n",
    "x_train2 = data_all[10000:900000]\n",
    "y_train2 = target[10000:900000]\n",
    "\n",
    "x_test = data_all[900000:]\n",
    "y_test = target[900000:]"
   ]
  },
  {
   "cell_type": "code",
   "execution_count": 6,
   "metadata": {},
   "outputs": [],
   "source": [
    "def DNN_Model(name):\n",
    "    model_DNN = Sequential(name = \"Model_DNN_\"+str(name))  \n",
    "    model_DNN.add(keras.Input(shape=(len(x_train[0]),), name = 'input'))\n",
    "    model_DNN.add(BatchNormalization(name = 'BatchNormalization'))\n",
    "    model_DNN.add(Dense(512, activation='relu', name = 'dense_1'))\n",
    "    model_DNN.add(Dense(512, activation='relu', name = 'dense_2'))\n",
    "    model_DNN.add(Dense(512, activation='relu', name = 'dense_3'))\n",
    "    model_DNN.add(Dense(1, activation='sigmoid', name = 'output'))\n",
    "    model_opt = keras.optimizers.Adam()\n",
    "    model_DNN.compile(loss=\"binary_crossentropy\",\n",
    "                              optimizer=model_opt,\n",
    "                              metrics=['accuracy'])\n",
    "    model_DNN.summary()\n",
    "    return model_DNN"
   ]
  },
  {
   "cell_type": "code",
   "execution_count": 7,
   "metadata": {},
   "outputs": [
    {
     "name": "stdout",
     "output_type": "stream",
     "text": [
      "Model: \"Model_DNN_classification\"\n",
      "_________________________________________________________________\n",
      "Layer (type)                 Output Shape              Param #   \n",
      "=================================================================\n",
      "BatchNormalization (BatchNor (None, 264)               1056      \n",
      "_________________________________________________________________\n",
      "dense_1 (Dense)              (None, 512)               135680    \n",
      "_________________________________________________________________\n",
      "dense_2 (Dense)              (None, 512)               262656    \n",
      "_________________________________________________________________\n",
      "dense_3 (Dense)              (None, 512)               262656    \n",
      "_________________________________________________________________\n",
      "output (Dense)               (None, 1)                 513       \n",
      "=================================================================\n",
      "Total params: 662,561\n",
      "Trainable params: 662,033\n",
      "Non-trainable params: 528\n",
      "_________________________________________________________________\n"
     ]
    }
   ],
   "source": [
    "model = DNN_Model(\"classification\")"
   ]
  },
  {
   "cell_type": "code",
   "execution_count": 9,
   "metadata": {},
   "outputs": [
    {
     "ename": "ImportError",
     "evalue": "cannot import name 'get_config'",
     "output_type": "error",
     "traceback": [
      "\u001b[0;31m---------------------------------------------------------------------------\u001b[0m",
      "\u001b[0;31mImportError\u001b[0m                               Traceback (most recent call last)",
      "\u001b[0;32m<ipython-input-9-01f0f13ee7ab>\u001b[0m in \u001b[0;36m<module>\u001b[0;34m\u001b[0m\n\u001b[1;32m      1\u001b[0m \u001b[0;32mfrom\u001b[0m \u001b[0mtensorflow\u001b[0m \u001b[0;32mimport\u001b[0m \u001b[0mkeras\u001b[0m\u001b[0;34m\u001b[0m\u001b[0;34m\u001b[0m\u001b[0m\n\u001b[1;32m      2\u001b[0m \u001b[0;32mfrom\u001b[0m \u001b[0mtensorflow\u001b[0m\u001b[0;34m.\u001b[0m\u001b[0mkeras\u001b[0m\u001b[0;34m.\u001b[0m\u001b[0mpreprocessing\u001b[0m \u001b[0;32mimport\u001b[0m \u001b[0mimage\u001b[0m\u001b[0;34m\u001b[0m\u001b[0;34m\u001b[0m\u001b[0m\n\u001b[0;32m----> 3\u001b[0;31m \u001b[0;32mfrom\u001b[0m \u001b[0mkeras\u001b[0m\u001b[0;34m.\u001b[0m\u001b[0mutils\u001b[0m\u001b[0;34m.\u001b[0m\u001b[0mvis_utils\u001b[0m \u001b[0;32mimport\u001b[0m \u001b[0mplot_model\u001b[0m\u001b[0;34m\u001b[0m\u001b[0;34m\u001b[0m\u001b[0m\n\u001b[0m\u001b[1;32m      4\u001b[0m \u001b[0mplot_model\u001b[0m\u001b[0;34m(\u001b[0m\u001b[0mmodel\u001b[0m\u001b[0;34m)\u001b[0m\u001b[0;34m\u001b[0m\u001b[0;34m\u001b[0m\u001b[0m\n",
      "\u001b[0;32m/usr/local/lib/python3.6/dist-packages/keras/__init__.py\u001b[0m in \u001b[0;36m<module>\u001b[0;34m\u001b[0m\n\u001b[1;32m     23\u001b[0m \u001b[0;34m\u001b[0m\u001b[0m\n\u001b[1;32m     24\u001b[0m \u001b[0;31m# See b/110718070#comment18 for more details about this import.\u001b[0m\u001b[0;34m\u001b[0m\u001b[0;34m\u001b[0m\u001b[0;34m\u001b[0m\u001b[0m\n\u001b[0;32m---> 25\u001b[0;31m \u001b[0;32mfrom\u001b[0m \u001b[0mkeras\u001b[0m \u001b[0;32mimport\u001b[0m \u001b[0mmodels\u001b[0m\u001b[0;34m\u001b[0m\u001b[0;34m\u001b[0m\u001b[0m\n\u001b[0m\u001b[1;32m     26\u001b[0m \u001b[0;34m\u001b[0m\u001b[0m\n\u001b[1;32m     27\u001b[0m \u001b[0;32mfrom\u001b[0m \u001b[0mkeras\u001b[0m\u001b[0;34m.\u001b[0m\u001b[0mengine\u001b[0m\u001b[0;34m.\u001b[0m\u001b[0minput_layer\u001b[0m \u001b[0;32mimport\u001b[0m \u001b[0mInput\u001b[0m\u001b[0;34m\u001b[0m\u001b[0;34m\u001b[0m\u001b[0m\n",
      "\u001b[0;32m/usr/local/lib/python3.6/dist-packages/keras/models.py\u001b[0m in \u001b[0;36m<module>\u001b[0;34m\u001b[0m\n\u001b[1;32m     17\u001b[0m \u001b[0;34m\u001b[0m\u001b[0m\n\u001b[1;32m     18\u001b[0m \u001b[0;32mimport\u001b[0m \u001b[0mtensorflow\u001b[0m\u001b[0;34m.\u001b[0m\u001b[0mcompat\u001b[0m\u001b[0;34m.\u001b[0m\u001b[0mv2\u001b[0m \u001b[0;32mas\u001b[0m \u001b[0mtf\u001b[0m\u001b[0;34m\u001b[0m\u001b[0;34m\u001b[0m\u001b[0m\n\u001b[0;32m---> 19\u001b[0;31m \u001b[0;32mfrom\u001b[0m \u001b[0mkeras\u001b[0m \u001b[0;32mimport\u001b[0m \u001b[0mbackend\u001b[0m\u001b[0;34m\u001b[0m\u001b[0;34m\u001b[0m\u001b[0m\n\u001b[0m\u001b[1;32m     20\u001b[0m \u001b[0;32mfrom\u001b[0m \u001b[0mkeras\u001b[0m \u001b[0;32mimport\u001b[0m \u001b[0mmetrics\u001b[0m \u001b[0;32mas\u001b[0m \u001b[0mmetrics_module\u001b[0m\u001b[0;34m\u001b[0m\u001b[0;34m\u001b[0m\u001b[0m\n\u001b[1;32m     21\u001b[0m \u001b[0;32mfrom\u001b[0m \u001b[0mkeras\u001b[0m \u001b[0;32mimport\u001b[0m \u001b[0moptimizer_v1\u001b[0m\u001b[0;34m\u001b[0m\u001b[0;34m\u001b[0m\u001b[0m\n",
      "\u001b[0;32m/usr/local/lib/python3.6/dist-packages/keras/backend.py\u001b[0m in \u001b[0;36m<module>\u001b[0;34m\u001b[0m\n\u001b[1;32m     34\u001b[0m \u001b[0;32mfrom\u001b[0m \u001b[0mtensorflow\u001b[0m\u001b[0;34m.\u001b[0m\u001b[0mcore\u001b[0m\u001b[0;34m.\u001b[0m\u001b[0mprotobuf\u001b[0m \u001b[0;32mimport\u001b[0m \u001b[0mconfig_pb2\u001b[0m\u001b[0;34m\u001b[0m\u001b[0;34m\u001b[0m\u001b[0m\n\u001b[1;32m     35\u001b[0m \u001b[0;32mfrom\u001b[0m \u001b[0mtensorflow\u001b[0m\u001b[0;34m.\u001b[0m\u001b[0mpython\u001b[0m\u001b[0;34m.\u001b[0m\u001b[0meager\u001b[0m \u001b[0;32mimport\u001b[0m \u001b[0mcontext\u001b[0m\u001b[0;34m\u001b[0m\u001b[0;34m\u001b[0m\u001b[0m\n\u001b[0;32m---> 36\u001b[0;31m \u001b[0;32mfrom\u001b[0m \u001b[0mtensorflow\u001b[0m\u001b[0;34m.\u001b[0m\u001b[0mpython\u001b[0m\u001b[0;34m.\u001b[0m\u001b[0meager\u001b[0m\u001b[0;34m.\u001b[0m\u001b[0mcontext\u001b[0m \u001b[0;32mimport\u001b[0m \u001b[0mget_config\u001b[0m\u001b[0;34m\u001b[0m\u001b[0;34m\u001b[0m\u001b[0m\n\u001b[0m\u001b[1;32m     37\u001b[0m \u001b[0;32mfrom\u001b[0m \u001b[0mtensorflow\u001b[0m\u001b[0;34m.\u001b[0m\u001b[0mpython\u001b[0m\u001b[0;34m.\u001b[0m\u001b[0mframework\u001b[0m \u001b[0;32mimport\u001b[0m \u001b[0mconfig\u001b[0m\u001b[0;34m\u001b[0m\u001b[0;34m\u001b[0m\u001b[0m\n\u001b[1;32m     38\u001b[0m \u001b[0;32mfrom\u001b[0m \u001b[0mkeras\u001b[0m \u001b[0;32mimport\u001b[0m \u001b[0mbackend_config\u001b[0m\u001b[0;34m\u001b[0m\u001b[0;34m\u001b[0m\u001b[0m\n",
      "\u001b[0;31mImportError\u001b[0m: cannot import name 'get_config'"
     ]
    }
   ],
   "source": [
    "from tensorflow import keras \n",
    "from tensorflow.keras.preprocessing import image\n",
    "from keras.utils.vis_utils import plot_model\n",
    "plot_model(model)"
   ]
  },
  {
   "cell_type": "code",
   "execution_count": 18,
   "metadata": {},
   "outputs": [],
   "source": [
    "model_index = 1\n",
    "while os.path.isfile('/home/ML4NO/ML_DUNE/Classification/models_all/models/0910_{}.h5'.format(model_index)):\n",
    "    model_index += 1"
   ]
  },
  {
   "cell_type": "code",
   "execution_count": 16,
   "metadata": {},
   "outputs": [
    {
     "name": "stdout",
     "output_type": "stream",
     "text": [
      "Epoch 1/20\n",
      "12516/12516 [==============================] - 71s 6ms/step - loss: 0.2350 - accuracy: 0.9136 - val_loss: 0.1616 - val_accuracy: 0.9430\n",
      "Epoch 2/20\n",
      "12516/12516 [==============================] - 70s 6ms/step - loss: 0.1911 - accuracy: 0.9335 - val_loss: 0.1639 - val_accuracy: 0.9442\n",
      "Epoch 3/20\n",
      "12516/12516 [==============================] - 71s 6ms/step - loss: 0.1863 - accuracy: 0.9356 - val_loss: 0.1552 - val_accuracy: 0.9475\n",
      "Epoch 4/20\n",
      "12516/12516 [==============================] - 71s 6ms/step - loss: 0.1833 - accuracy: 0.9368 - val_loss: 0.1535 - val_accuracy: 0.9472\n",
      "Epoch 5/20\n",
      "12516/12516 [==============================] - 70s 6ms/step - loss: 0.1834 - accuracy: 0.9371 - val_loss: 0.1488 - val_accuracy: 0.9492\n",
      "Epoch 6/20\n",
      "12516/12516 [==============================] - 70s 6ms/step - loss: 0.1824 - accuracy: 0.9374 - val_loss: 0.1467 - val_accuracy: 0.9499\n",
      "Epoch 7/20\n",
      "12516/12516 [==============================] - 70s 6ms/step - loss: 0.1807 - accuracy: 0.9379 - val_loss: 0.1653 - val_accuracy: 0.9412\n",
      "Epoch 8/20\n",
      "12516/12516 [==============================] - 70s 6ms/step - loss: 0.1818 - accuracy: 0.9371 - val_loss: 0.1574 - val_accuracy: 0.9451\n",
      "Epoch 9/20\n",
      "12516/12516 [==============================] - 69s 6ms/step - loss: 0.1812 - accuracy: 0.9382 - val_loss: 0.1441 - val_accuracy: 0.9511\n",
      "Epoch 10/20\n",
      "12516/12516 [==============================] - 71s 6ms/step - loss: 0.1799 - accuracy: 0.9376 - val_loss: 0.1573 - val_accuracy: 0.9461\n",
      "Epoch 11/20\n",
      "12516/12516 [==============================] - 71s 6ms/step - loss: 0.1787 - accuracy: 0.9384 - val_loss: 0.1381 - val_accuracy: 0.9535\n",
      "Epoch 12/20\n",
      "12516/12516 [==============================] - 70s 6ms/step - loss: 0.1774 - accuracy: 0.9399 - val_loss: 0.1470 - val_accuracy: 0.9503\n",
      "Epoch 13/20\n",
      "12516/12516 [==============================] - 71s 6ms/step - loss: 0.1806 - accuracy: 0.9381 - val_loss: 0.1479 - val_accuracy: 0.9489\n",
      "Epoch 14/20\n",
      "12516/12516 [==============================] - 71s 6ms/step - loss: 0.1797 - accuracy: 0.9378 - val_loss: 0.1518 - val_accuracy: 0.9470\n",
      "Epoch 15/20\n",
      "12516/12516 [==============================] - 71s 6ms/step - loss: 0.1782 - accuracy: 0.9390 - val_loss: 0.1487 - val_accuracy: 0.9482\n",
      "Epoch 16/20\n",
      "12516/12516 [==============================] - 71s 6ms/step - loss: 0.1790 - accuracy: 0.9386 - val_loss: 0.1511 - val_accuracy: 0.9475\n",
      "Epoch 17/20\n",
      "12516/12516 [==============================] - 71s 6ms/step - loss: 0.1779 - accuracy: 0.9392 - val_loss: 0.1487 - val_accuracy: 0.9486\n",
      "Epoch 18/20\n",
      "12516/12516 [==============================] - 71s 6ms/step - loss: 0.1760 - accuracy: 0.9398 - val_loss: 0.1489 - val_accuracy: 0.9491\n",
      "Epoch 19/20\n",
      "12516/12516 [==============================] - 71s 6ms/step - loss: 0.1790 - accuracy: 0.9391 - val_loss: 0.1573 - val_accuracy: 0.9463\n",
      "Epoch 20/20\n",
      "12516/12516 [==============================] - 71s 6ms/step - loss: 0.1778 - accuracy: 0.9396 - val_loss: 0.1527 - val_accuracy: 0.9474\n"
     ]
    },
    {
     "data": {
      "text/plain": [
       "<tensorflow.python.keras.callbacks.History at 0x7fe288709550>"
      ]
     },
     "execution_count": 16,
     "metadata": {},
     "output_type": "execute_result"
    }
   ],
   "source": [
    "log_dir = \"logs/all/{}\".format(model_index)\n",
    "tensorboard_callback = tf.keras.callbacks.TensorBoard(log_dir=log_dir, histogram_freq=1)\n",
    "\n",
    "model.fit(x_train2, y_train2,\n",
    "           validation_split = 0.1,\n",
    "           callbacks=[tensorboard_callback],\n",
    "           batch_size=64,\n",
    "           epochs=20,\n",
    "           verbose=1,\n",
    "           shuffle = True\n",
    "         )"
   ]
  },
  {
   "cell_type": "code",
   "execution_count": 19,
   "metadata": {
    "tags": []
   },
   "outputs": [],
   "source": [
    "model.save('/home/ML4NO/ML_DUNE/Classification/models_all/models/0910_{}.h5'.format(model_index))"
   ]
  },
  {
   "cell_type": "code",
   "execution_count": 20,
   "metadata": {},
   "outputs": [],
   "source": [
    "furthur_index = 1\n",
    "path = '/home/ML4NO/ML_DUNE/Classification/models_all/models_furthurTrain/0910_{}_{}'\n",
    "while os.path.isdir(path.format(model_index, furthur_index)):\n",
    "    furthur_index += 1"
   ]
  },
  {
   "cell_type": "code",
   "execution_count": 21,
   "metadata": {},
   "outputs": [
    {
     "name": "stdout",
     "output_type": "stream",
     "text": [
      "3125/3125 [==============================] - 9s 3ms/step - loss: 0.1496 - accuracy: 0.9485\n",
      "Epoch 1/5\n",
      "12516/12516 [==============================] - 71s 6ms/step - loss: 0.1778 - accuracy: 0.9388 - val_loss: 0.1389 - val_accuracy: 0.9527\n",
      "Epoch 2/5\n",
      "12516/12516 [==============================] - 70s 6ms/step - loss: 0.1767 - accuracy: 0.9396 - val_loss: 0.1418 - val_accuracy: 0.9529\n",
      "Epoch 3/5\n",
      "12516/12516 [==============================] - 71s 6ms/step - loss: 0.1770 - accuracy: 0.9399 - val_loss: 0.1470 - val_accuracy: 0.9504\n",
      "Epoch 4/5\n",
      "12516/12516 [==============================] - 70s 6ms/step - loss: 0.1766 - accuracy: 0.9400 - val_loss: 0.1543 - val_accuracy: 0.9469\n",
      "Epoch 5/5\n",
      "12516/12516 [==============================] - 69s 6ms/step - loss: 0.1757 - accuracy: 0.9402 - val_loss: 0.1423 - val_accuracy: 0.9506\n",
      "3125/3125 [==============================] - 9s 3ms/step - loss: 0.1398 - accuracy: 0.9519\n",
      "WARNING:tensorflow:FOR KERAS USERS: The object that you are saving contains one or more Keras models or layers. If you are loading the SavedModel with `tf.keras.models.load_model`, continue reading (otherwise, you may ignore the following instructions). Please change your code to save with `tf.keras.models.save_model` or `model.save`, and confirm that the file \"keras.metadata\" exists in the export directory. In the future, Keras will only load the SavedModels that have this file. In other words, `tf.saved_model.save` will no longer write SavedModels that can be recovered as Keras models (this will apply in TF 2.5).\n",
      "\n",
      "FOR DEVS: If you are overwriting _tracking_metadata in your class, this property has been used to save metadata in the SavedModel. The metadta field will be deprecated soon, so please move the metadata to a different file.\n"
     ]
    },
    {
     "name": "stderr",
     "output_type": "stream",
     "text": [
      "WARNING:tensorflow:FOR KERAS USERS: The object that you are saving contains one or more Keras models or layers. If you are loading the SavedModel with `tf.keras.models.load_model`, continue reading (otherwise, you may ignore the following instructions). Please change your code to save with `tf.keras.models.save_model` or `model.save`, and confirm that the file \"keras.metadata\" exists in the export directory. In the future, Keras will only load the SavedModels that have this file. In other words, `tf.saved_model.save` will no longer write SavedModels that can be recovered as Keras models (this will apply in TF 2.5).\n",
      "\n",
      "FOR DEVS: If you are overwriting _tracking_metadata in your class, this property has been used to save metadata in the SavedModel. The metadta field will be deprecated soon, so please move the metadata to a different file.\n"
     ]
    },
    {
     "name": "stdout",
     "output_type": "stream",
     "text": [
      "INFO:tensorflow:Assets written to: /home/ML4NO/ML_DUNE/Classification/models_all/models_furthurTrain/0910_1_1/std=0.001/assets\n"
     ]
    },
    {
     "name": "stderr",
     "output_type": "stream",
     "text": [
      "INFO:tensorflow:Assets written to: /home/ML4NO/ML_DUNE/Classification/models_all/models_furthurTrain/0910_1_1/std=0.001/assets\n"
     ]
    },
    {
     "name": "stdout",
     "output_type": "stream",
     "text": [
      "3125/3125 [==============================] - 9s 3ms/step - loss: 0.1398 - accuracy: 0.9519\n",
      "Epoch 1/5\n",
      "12516/12516 [==============================] - 71s 6ms/step - loss: 0.1755 - accuracy: 0.9401 - val_loss: 0.1415 - val_accuracy: 0.9522\n",
      "Epoch 2/5\n",
      "12516/12516 [==============================] - 69s 6ms/step - loss: 0.1767 - accuracy: 0.9400 - val_loss: 0.1469 - val_accuracy: 0.9500\n",
      "Epoch 3/5\n",
      "12516/12516 [==============================] - 70s 6ms/step - loss: 0.1749 - accuracy: 0.9406 - val_loss: 0.1517 - val_accuracy: 0.9488\n",
      "Epoch 4/5\n",
      "12516/12516 [==============================] - 71s 6ms/step - loss: 0.1749 - accuracy: 0.9407 - val_loss: 0.1527 - val_accuracy: 0.9472\n",
      "Epoch 5/5\n",
      "12516/12516 [==============================] - 69s 6ms/step - loss: 0.1745 - accuracy: 0.9405 - val_loss: 0.1438 - val_accuracy: 0.9510\n",
      "3125/3125 [==============================] - 10s 3ms/step - loss: 0.1412 - accuracy: 0.9517\n",
      "WARNING:tensorflow:FOR KERAS USERS: The object that you are saving contains one or more Keras models or layers. If you are loading the SavedModel with `tf.keras.models.load_model`, continue reading (otherwise, you may ignore the following instructions). Please change your code to save with `tf.keras.models.save_model` or `model.save`, and confirm that the file \"keras.metadata\" exists in the export directory. In the future, Keras will only load the SavedModels that have this file. In other words, `tf.saved_model.save` will no longer write SavedModels that can be recovered as Keras models (this will apply in TF 2.5).\n",
      "\n",
      "FOR DEVS: If you are overwriting _tracking_metadata in your class, this property has been used to save metadata in the SavedModel. The metadta field will be deprecated soon, so please move the metadata to a different file.\n"
     ]
    },
    {
     "name": "stderr",
     "output_type": "stream",
     "text": [
      "WARNING:tensorflow:FOR KERAS USERS: The object that you are saving contains one or more Keras models or layers. If you are loading the SavedModel with `tf.keras.models.load_model`, continue reading (otherwise, you may ignore the following instructions). Please change your code to save with `tf.keras.models.save_model` or `model.save`, and confirm that the file \"keras.metadata\" exists in the export directory. In the future, Keras will only load the SavedModels that have this file. In other words, `tf.saved_model.save` will no longer write SavedModels that can be recovered as Keras models (this will apply in TF 2.5).\n",
      "\n",
      "FOR DEVS: If you are overwriting _tracking_metadata in your class, this property has been used to save metadata in the SavedModel. The metadta field will be deprecated soon, so please move the metadata to a different file.\n"
     ]
    },
    {
     "name": "stdout",
     "output_type": "stream",
     "text": [
      "INFO:tensorflow:Assets written to: /home/ML4NO/ML_DUNE/Classification/models_all/models_furthurTrain/0910_1_1/std=0.0012689610031679222/assets\n"
     ]
    },
    {
     "name": "stderr",
     "output_type": "stream",
     "text": [
      "INFO:tensorflow:Assets written to: /home/ML4NO/ML_DUNE/Classification/models_all/models_furthurTrain/0910_1_1/std=0.0012689610031679222/assets\n"
     ]
    },
    {
     "name": "stdout",
     "output_type": "stream",
     "text": [
      "3125/3125 [==============================] - 9s 3ms/step - loss: 0.1411 - accuracy: 0.9517\n",
      "Epoch 1/5\n",
      "12516/12516 [==============================] - 71s 6ms/step - loss: 0.1765 - accuracy: 0.9396 - val_loss: 0.1489 - val_accuracy: 0.9487\n",
      "Epoch 2/5\n",
      "12516/12516 [==============================] - 70s 6ms/step - loss: 0.1735 - accuracy: 0.9413 - val_loss: 0.1547 - val_accuracy: 0.9472\n",
      "Epoch 3/5\n",
      "12516/12516 [==============================] - 70s 6ms/step - loss: 0.1740 - accuracy: 0.9406 - val_loss: 0.1440 - val_accuracy: 0.9521\n",
      "Epoch 4/5\n",
      "12516/12516 [==============================] - 70s 6ms/step - loss: 0.1749 - accuracy: 0.9401 - val_loss: 0.1443 - val_accuracy: 0.9516\n",
      "Epoch 5/5\n",
      "12516/12516 [==============================] - 70s 6ms/step - loss: 0.1738 - accuracy: 0.9411 - val_loss: 0.1496 - val_accuracy: 0.9493\n",
      "3125/3125 [==============================] - 9s 3ms/step - loss: 0.1461 - accuracy: 0.9503\n",
      "WARNING:tensorflow:FOR KERAS USERS: The object that you are saving contains one or more Keras models or layers. If you are loading the SavedModel with `tf.keras.models.load_model`, continue reading (otherwise, you may ignore the following instructions). Please change your code to save with `tf.keras.models.save_model` or `model.save`, and confirm that the file \"keras.metadata\" exists in the export directory. In the future, Keras will only load the SavedModels that have this file. In other words, `tf.saved_model.save` will no longer write SavedModels that can be recovered as Keras models (this will apply in TF 2.5).\n",
      "\n",
      "FOR DEVS: If you are overwriting _tracking_metadata in your class, this property has been used to save metadata in the SavedModel. The metadta field will be deprecated soon, so please move the metadata to a different file.\n"
     ]
    },
    {
     "name": "stderr",
     "output_type": "stream",
     "text": [
      "WARNING:tensorflow:FOR KERAS USERS: The object that you are saving contains one or more Keras models or layers. If you are loading the SavedModel with `tf.keras.models.load_model`, continue reading (otherwise, you may ignore the following instructions). Please change your code to save with `tf.keras.models.save_model` or `model.save`, and confirm that the file \"keras.metadata\" exists in the export directory. In the future, Keras will only load the SavedModels that have this file. In other words, `tf.saved_model.save` will no longer write SavedModels that can be recovered as Keras models (this will apply in TF 2.5).\n",
      "\n",
      "FOR DEVS: If you are overwriting _tracking_metadata in your class, this property has been used to save metadata in the SavedModel. The metadta field will be deprecated soon, so please move the metadata to a different file.\n"
     ]
    },
    {
     "name": "stdout",
     "output_type": "stream",
     "text": [
      "INFO:tensorflow:Assets written to: /home/ML4NO/ML_DUNE/Classification/models_all/models_furthurTrain/0910_1_1/std=0.0016102620275609393/assets\n"
     ]
    },
    {
     "name": "stderr",
     "output_type": "stream",
     "text": [
      "INFO:tensorflow:Assets written to: /home/ML4NO/ML_DUNE/Classification/models_all/models_furthurTrain/0910_1_1/std=0.0016102620275609393/assets\n"
     ]
    },
    {
     "name": "stdout",
     "output_type": "stream",
     "text": [
      "3125/3125 [==============================] - 10s 3ms/step - loss: 0.1462 - accuracy: 0.9502\n",
      "Epoch 1/5\n",
      "12516/12516 [==============================] - 70s 6ms/step - loss: 0.1737 - accuracy: 0.9407 - val_loss: 0.1534 - val_accuracy: 0.9468\n",
      "Epoch 2/5\n",
      "12516/12516 [==============================] - 70s 6ms/step - loss: 0.1748 - accuracy: 0.9401 - val_loss: 0.1514 - val_accuracy: 0.9477\n",
      "Epoch 3/5\n",
      "12516/12516 [==============================] - 70s 6ms/step - loss: 0.1725 - accuracy: 0.9416 - val_loss: 0.1487 - val_accuracy: 0.9493\n",
      "Epoch 4/5\n",
      "12516/12516 [==============================] - 70s 6ms/step - loss: 0.1718 - accuracy: 0.9416 - val_loss: 0.1386 - val_accuracy: 0.9538\n",
      "Epoch 5/5\n",
      "12516/12516 [==============================] - 70s 6ms/step - loss: 0.1726 - accuracy: 0.9415 - val_loss: 0.1471 - val_accuracy: 0.9491\n",
      "3125/3125 [==============================] - 9s 3ms/step - loss: 0.1442 - accuracy: 0.9503\n",
      "WARNING:tensorflow:FOR KERAS USERS: The object that you are saving contains one or more Keras models or layers. If you are loading the SavedModel with `tf.keras.models.load_model`, continue reading (otherwise, you may ignore the following instructions). Please change your code to save with `tf.keras.models.save_model` or `model.save`, and confirm that the file \"keras.metadata\" exists in the export directory. In the future, Keras will only load the SavedModels that have this file. In other words, `tf.saved_model.save` will no longer write SavedModels that can be recovered as Keras models (this will apply in TF 2.5).\n",
      "\n",
      "FOR DEVS: If you are overwriting _tracking_metadata in your class, this property has been used to save metadata in the SavedModel. The metadta field will be deprecated soon, so please move the metadata to a different file.\n"
     ]
    },
    {
     "name": "stderr",
     "output_type": "stream",
     "text": [
      "WARNING:tensorflow:FOR KERAS USERS: The object that you are saving contains one or more Keras models or layers. If you are loading the SavedModel with `tf.keras.models.load_model`, continue reading (otherwise, you may ignore the following instructions). Please change your code to save with `tf.keras.models.save_model` or `model.save`, and confirm that the file \"keras.metadata\" exists in the export directory. In the future, Keras will only load the SavedModels that have this file. In other words, `tf.saved_model.save` will no longer write SavedModels that can be recovered as Keras models (this will apply in TF 2.5).\n",
      "\n",
      "FOR DEVS: If you are overwriting _tracking_metadata in your class, this property has been used to save metadata in the SavedModel. The metadta field will be deprecated soon, so please move the metadata to a different file.\n"
     ]
    },
    {
     "name": "stdout",
     "output_type": "stream",
     "text": [
      "INFO:tensorflow:Assets written to: /home/ML4NO/ML_DUNE/Classification/models_all/models_furthurTrain/0910_1_1/std=0.0020433597178569417/assets\n"
     ]
    },
    {
     "name": "stderr",
     "output_type": "stream",
     "text": [
      "INFO:tensorflow:Assets written to: /home/ML4NO/ML_DUNE/Classification/models_all/models_furthurTrain/0910_1_1/std=0.0020433597178569417/assets\n"
     ]
    },
    {
     "name": "stdout",
     "output_type": "stream",
     "text": [
      "3125/3125 [==============================] - 9s 3ms/step - loss: 0.1442 - accuracy: 0.9505\n",
      "Epoch 1/5\n",
      "12516/12516 [==============================] - 71s 6ms/step - loss: 0.1729 - accuracy: 0.9411 - val_loss: 0.1404 - val_accuracy: 0.9533\n",
      "Epoch 2/5\n",
      "12516/12516 [==============================] - 70s 6ms/step - loss: 0.1732 - accuracy: 0.9412 - val_loss: 0.1548 - val_accuracy: 0.9473\n",
      "Epoch 3/5\n",
      "12516/12516 [==============================] - 69s 6ms/step - loss: 0.1725 - accuracy: 0.9412 - val_loss: 0.1365 - val_accuracy: 0.9530\n",
      "Epoch 4/5\n",
      "12516/12516 [==============================] - 71s 6ms/step - loss: 0.1714 - accuracy: 0.9418 - val_loss: 0.1414 - val_accuracy: 0.9517\n",
      "Epoch 5/5\n",
      "12516/12516 [==============================] - 70s 6ms/step - loss: 0.1714 - accuracy: 0.9418 - val_loss: 0.1414 - val_accuracy: 0.9518\n",
      "3125/3125 [==============================] - 10s 3ms/step - loss: 0.1382 - accuracy: 0.9528\n",
      "WARNING:tensorflow:FOR KERAS USERS: The object that you are saving contains one or more Keras models or layers. If you are loading the SavedModel with `tf.keras.models.load_model`, continue reading (otherwise, you may ignore the following instructions). Please change your code to save with `tf.keras.models.save_model` or `model.save`, and confirm that the file \"keras.metadata\" exists in the export directory. In the future, Keras will only load the SavedModels that have this file. In other words, `tf.saved_model.save` will no longer write SavedModels that can be recovered as Keras models (this will apply in TF 2.5).\n",
      "\n",
      "FOR DEVS: If you are overwriting _tracking_metadata in your class, this property has been used to save metadata in the SavedModel. The metadta field will be deprecated soon, so please move the metadata to a different file.\n"
     ]
    },
    {
     "name": "stderr",
     "output_type": "stream",
     "text": [
      "WARNING:tensorflow:FOR KERAS USERS: The object that you are saving contains one or more Keras models or layers. If you are loading the SavedModel with `tf.keras.models.load_model`, continue reading (otherwise, you may ignore the following instructions). Please change your code to save with `tf.keras.models.save_model` or `model.save`, and confirm that the file \"keras.metadata\" exists in the export directory. In the future, Keras will only load the SavedModels that have this file. In other words, `tf.saved_model.save` will no longer write SavedModels that can be recovered as Keras models (this will apply in TF 2.5).\n",
      "\n",
      "FOR DEVS: If you are overwriting _tracking_metadata in your class, this property has been used to save metadata in the SavedModel. The metadta field will be deprecated soon, so please move the metadata to a different file.\n"
     ]
    },
    {
     "name": "stdout",
     "output_type": "stream",
     "text": [
      "INFO:tensorflow:Assets written to: /home/ML4NO/ML_DUNE/Classification/models_all/models_furthurTrain/0910_1_1/std=0.002592943797404667/assets\n"
     ]
    },
    {
     "name": "stderr",
     "output_type": "stream",
     "text": [
      "INFO:tensorflow:Assets written to: /home/ML4NO/ML_DUNE/Classification/models_all/models_furthurTrain/0910_1_1/std=0.002592943797404667/assets\n"
     ]
    },
    {
     "name": "stdout",
     "output_type": "stream",
     "text": [
      "3125/3125 [==============================] - 10s 3ms/step - loss: 0.1383 - accuracy: 0.9530\n",
      "Epoch 1/5\n",
      "12516/12516 [==============================] - 70s 6ms/step - loss: 0.1717 - accuracy: 0.9420 - val_loss: 0.1391 - val_accuracy: 0.9522\n",
      "Epoch 2/5\n",
      "12516/12516 [==============================] - 70s 6ms/step - loss: 0.1710 - accuracy: 0.9424 - val_loss: 0.1596 - val_accuracy: 0.9456\n",
      "Epoch 3/5\n",
      "12516/12516 [==============================] - 71s 6ms/step - loss: 0.1701 - accuracy: 0.9422 - val_loss: 0.1431 - val_accuracy: 0.9518\n",
      "Epoch 4/5\n",
      "12516/12516 [==============================] - 70s 6ms/step - loss: 0.1709 - accuracy: 0.9423 - val_loss: 0.1610 - val_accuracy: 0.9436\n",
      "Epoch 5/5\n",
      "12516/12516 [==============================] - 70s 6ms/step - loss: 0.1714 - accuracy: 0.9419 - val_loss: 0.1476 - val_accuracy: 0.9504\n",
      "3125/3125 [==============================] - 9s 3ms/step - loss: 0.1452 - accuracy: 0.9512\n",
      "WARNING:tensorflow:FOR KERAS USERS: The object that you are saving contains one or more Keras models or layers. If you are loading the SavedModel with `tf.keras.models.load_model`, continue reading (otherwise, you may ignore the following instructions). Please change your code to save with `tf.keras.models.save_model` or `model.save`, and confirm that the file \"keras.metadata\" exists in the export directory. In the future, Keras will only load the SavedModels that have this file. In other words, `tf.saved_model.save` will no longer write SavedModels that can be recovered as Keras models (this will apply in TF 2.5).\n",
      "\n",
      "FOR DEVS: If you are overwriting _tracking_metadata in your class, this property has been used to save metadata in the SavedModel. The metadta field will be deprecated soon, so please move the metadata to a different file.\n"
     ]
    },
    {
     "name": "stderr",
     "output_type": "stream",
     "text": [
      "WARNING:tensorflow:FOR KERAS USERS: The object that you are saving contains one or more Keras models or layers. If you are loading the SavedModel with `tf.keras.models.load_model`, continue reading (otherwise, you may ignore the following instructions). Please change your code to save with `tf.keras.models.save_model` or `model.save`, and confirm that the file \"keras.metadata\" exists in the export directory. In the future, Keras will only load the SavedModels that have this file. In other words, `tf.saved_model.save` will no longer write SavedModels that can be recovered as Keras models (this will apply in TF 2.5).\n",
      "\n",
      "FOR DEVS: If you are overwriting _tracking_metadata in your class, this property has been used to save metadata in the SavedModel. The metadta field will be deprecated soon, so please move the metadata to a different file.\n"
     ]
    },
    {
     "name": "stdout",
     "output_type": "stream",
     "text": [
      "INFO:tensorflow:Assets written to: /home/ML4NO/ML_DUNE/Classification/models_all/models_furthurTrain/0910_1_1/std=0.0032903445623126675/assets\n"
     ]
    },
    {
     "name": "stderr",
     "output_type": "stream",
     "text": [
      "INFO:tensorflow:Assets written to: /home/ML4NO/ML_DUNE/Classification/models_all/models_furthurTrain/0910_1_1/std=0.0032903445623126675/assets\n"
     ]
    },
    {
     "name": "stdout",
     "output_type": "stream",
     "text": [
      "3125/3125 [==============================] - 10s 3ms/step - loss: 0.1453 - accuracy: 0.9512\n",
      "Epoch 1/5\n",
      "12516/12516 [==============================] - 70s 6ms/step - loss: 0.1737 - accuracy: 0.9407 - val_loss: 0.1417 - val_accuracy: 0.9517\n",
      "Epoch 2/5\n",
      "12516/12516 [==============================] - 72s 6ms/step - loss: 0.1715 - accuracy: 0.9419 - val_loss: 0.1448 - val_accuracy: 0.9499\n",
      "Epoch 3/5\n",
      "12516/12516 [==============================] - 71s 6ms/step - loss: 0.1725 - accuracy: 0.9412 - val_loss: 0.1452 - val_accuracy: 0.9499\n",
      "Epoch 4/5\n",
      "12516/12516 [==============================] - 71s 6ms/step - loss: 0.1699 - accuracy: 0.9427 - val_loss: 0.1419 - val_accuracy: 0.9512\n",
      "Epoch 5/5\n",
      "12516/12516 [==============================] - 70s 6ms/step - loss: 0.1703 - accuracy: 0.9422 - val_loss: 0.1386 - val_accuracy: 0.9530\n",
      "3125/3125 [==============================] - 9s 3ms/step - loss: 0.1360 - accuracy: 0.9543\n",
      "WARNING:tensorflow:FOR KERAS USERS: The object that you are saving contains one or more Keras models or layers. If you are loading the SavedModel with `tf.keras.models.load_model`, continue reading (otherwise, you may ignore the following instructions). Please change your code to save with `tf.keras.models.save_model` or `model.save`, and confirm that the file \"keras.metadata\" exists in the export directory. In the future, Keras will only load the SavedModels that have this file. In other words, `tf.saved_model.save` will no longer write SavedModels that can be recovered as Keras models (this will apply in TF 2.5).\n",
      "\n",
      "FOR DEVS: If you are overwriting _tracking_metadata in your class, this property has been used to save metadata in the SavedModel. The metadta field will be deprecated soon, so please move the metadata to a different file.\n"
     ]
    },
    {
     "name": "stderr",
     "output_type": "stream",
     "text": [
      "WARNING:tensorflow:FOR KERAS USERS: The object that you are saving contains one or more Keras models or layers. If you are loading the SavedModel with `tf.keras.models.load_model`, continue reading (otherwise, you may ignore the following instructions). Please change your code to save with `tf.keras.models.save_model` or `model.save`, and confirm that the file \"keras.metadata\" exists in the export directory. In the future, Keras will only load the SavedModels that have this file. In other words, `tf.saved_model.save` will no longer write SavedModels that can be recovered as Keras models (this will apply in TF 2.5).\n",
      "\n",
      "FOR DEVS: If you are overwriting _tracking_metadata in your class, this property has been used to save metadata in the SavedModel. The metadta field will be deprecated soon, so please move the metadata to a different file.\n"
     ]
    },
    {
     "name": "stdout",
     "output_type": "stream",
     "text": [
      "INFO:tensorflow:Assets written to: /home/ML4NO/ML_DUNE/Classification/models_all/models_furthurTrain/0910_1_1/std=0.0041753189365604/assets\n"
     ]
    },
    {
     "name": "stderr",
     "output_type": "stream",
     "text": [
      "INFO:tensorflow:Assets written to: /home/ML4NO/ML_DUNE/Classification/models_all/models_furthurTrain/0910_1_1/std=0.0041753189365604/assets\n"
     ]
    },
    {
     "name": "stdout",
     "output_type": "stream",
     "text": [
      "3125/3125 [==============================] - 9s 3ms/step - loss: 0.1358 - accuracy: 0.9542\n",
      "Epoch 1/5\n",
      "12516/12516 [==============================] - 71s 6ms/step - loss: 0.1707 - accuracy: 0.9423 - val_loss: 0.1391 - val_accuracy: 0.9527\n",
      "Epoch 2/5\n",
      "12516/12516 [==============================] - 72s 6ms/step - loss: 0.1705 - accuracy: 0.9422 - val_loss: 0.1432 - val_accuracy: 0.9516\n",
      "Epoch 3/5\n",
      "12516/12516 [==============================] - 71s 6ms/step - loss: 0.1720 - accuracy: 0.9415 - val_loss: 0.1532 - val_accuracy: 0.9460\n",
      "Epoch 4/5\n",
      "12516/12516 [==============================] - 69s 6ms/step - loss: 0.1693 - accuracy: 0.9428 - val_loss: 0.1438 - val_accuracy: 0.9504\n",
      "Epoch 5/5\n",
      "12516/12516 [==============================] - 70s 6ms/step - loss: 0.1712 - accuracy: 0.9420 - val_loss: 0.1523 - val_accuracy: 0.9475\n",
      "3125/3125 [==============================] - 9s 3ms/step - loss: 0.1493 - accuracy: 0.9485\n",
      "WARNING:tensorflow:FOR KERAS USERS: The object that you are saving contains one or more Keras models or layers. If you are loading the SavedModel with `tf.keras.models.load_model`, continue reading (otherwise, you may ignore the following instructions). Please change your code to save with `tf.keras.models.save_model` or `model.save`, and confirm that the file \"keras.metadata\" exists in the export directory. In the future, Keras will only load the SavedModels that have this file. In other words, `tf.saved_model.save` will no longer write SavedModels that can be recovered as Keras models (this will apply in TF 2.5).\n",
      "\n",
      "FOR DEVS: If you are overwriting _tracking_metadata in your class, this property has been used to save metadata in the SavedModel. The metadta field will be deprecated soon, so please move the metadata to a different file.\n"
     ]
    },
    {
     "name": "stderr",
     "output_type": "stream",
     "text": [
      "WARNING:tensorflow:FOR KERAS USERS: The object that you are saving contains one or more Keras models or layers. If you are loading the SavedModel with `tf.keras.models.load_model`, continue reading (otherwise, you may ignore the following instructions). Please change your code to save with `tf.keras.models.save_model` or `model.save`, and confirm that the file \"keras.metadata\" exists in the export directory. In the future, Keras will only load the SavedModels that have this file. In other words, `tf.saved_model.save` will no longer write SavedModels that can be recovered as Keras models (this will apply in TF 2.5).\n",
      "\n",
      "FOR DEVS: If you are overwriting _tracking_metadata in your class, this property has been used to save metadata in the SavedModel. The metadta field will be deprecated soon, so please move the metadata to a different file.\n"
     ]
    },
    {
     "name": "stdout",
     "output_type": "stream",
     "text": [
      "INFO:tensorflow:Assets written to: /home/ML4NO/ML_DUNE/Classification/models_all/models_furthurTrain/0910_1_1/std=0.005298316906283708/assets\n"
     ]
    },
    {
     "name": "stderr",
     "output_type": "stream",
     "text": [
      "INFO:tensorflow:Assets written to: /home/ML4NO/ML_DUNE/Classification/models_all/models_furthurTrain/0910_1_1/std=0.005298316906283708/assets\n"
     ]
    },
    {
     "name": "stdout",
     "output_type": "stream",
     "text": [
      "3125/3125 [==============================] - 9s 3ms/step - loss: 0.1494 - accuracy: 0.9484\n",
      "Epoch 1/5\n",
      "12516/12516 [==============================] - 70s 6ms/step - loss: 0.1704 - accuracy: 0.9425 - val_loss: 0.1435 - val_accuracy: 0.9507\n",
      "Epoch 2/5\n",
      "12516/12516 [==============================] - 69s 6ms/step - loss: 0.1708 - accuracy: 0.9416 - val_loss: 0.1513 - val_accuracy: 0.9478\n",
      "Epoch 3/5\n",
      "12516/12516 [==============================] - 71s 6ms/step - loss: 0.1716 - accuracy: 0.9418 - val_loss: 0.1417 - val_accuracy: 0.9509\n",
      "Epoch 4/5\n",
      "12516/12516 [==============================] - 70s 6ms/step - loss: 0.1710 - accuracy: 0.9420 - val_loss: 0.1593 - val_accuracy: 0.9443\n",
      "Epoch 5/5\n",
      "12516/12516 [==============================] - 70s 6ms/step - loss: 0.1694 - accuracy: 0.9432 - val_loss: 0.1512 - val_accuracy: 0.9474\n",
      "3125/3125 [==============================] - 9s 3ms/step - loss: 0.1475 - accuracy: 0.9488\n",
      "WARNING:tensorflow:FOR KERAS USERS: The object that you are saving contains one or more Keras models or layers. If you are loading the SavedModel with `tf.keras.models.load_model`, continue reading (otherwise, you may ignore the following instructions). Please change your code to save with `tf.keras.models.save_model` or `model.save`, and confirm that the file \"keras.metadata\" exists in the export directory. In the future, Keras will only load the SavedModels that have this file. In other words, `tf.saved_model.save` will no longer write SavedModels that can be recovered as Keras models (this will apply in TF 2.5).\n",
      "\n",
      "FOR DEVS: If you are overwriting _tracking_metadata in your class, this property has been used to save metadata in the SavedModel. The metadta field will be deprecated soon, so please move the metadata to a different file.\n"
     ]
    },
    {
     "name": "stderr",
     "output_type": "stream",
     "text": [
      "WARNING:tensorflow:FOR KERAS USERS: The object that you are saving contains one or more Keras models or layers. If you are loading the SavedModel with `tf.keras.models.load_model`, continue reading (otherwise, you may ignore the following instructions). Please change your code to save with `tf.keras.models.save_model` or `model.save`, and confirm that the file \"keras.metadata\" exists in the export directory. In the future, Keras will only load the SavedModels that have this file. In other words, `tf.saved_model.save` will no longer write SavedModels that can be recovered as Keras models (this will apply in TF 2.5).\n",
      "\n",
      "FOR DEVS: If you are overwriting _tracking_metadata in your class, this property has been used to save metadata in the SavedModel. The metadta field will be deprecated soon, so please move the metadata to a different file.\n"
     ]
    },
    {
     "name": "stdout",
     "output_type": "stream",
     "text": [
      "INFO:tensorflow:Assets written to: /home/ML4NO/ML_DUNE/Classification/models_all/models_furthurTrain/0910_1_1/std=0.006723357536499335/assets\n"
     ]
    },
    {
     "name": "stderr",
     "output_type": "stream",
     "text": [
      "INFO:tensorflow:Assets written to: /home/ML4NO/ML_DUNE/Classification/models_all/models_furthurTrain/0910_1_1/std=0.006723357536499335/assets\n"
     ]
    },
    {
     "name": "stdout",
     "output_type": "stream",
     "text": [
      "3125/3125 [==============================] - 9s 3ms/step - loss: 0.1476 - accuracy: 0.9489\n",
      "Epoch 1/5\n",
      "12516/12516 [==============================] - 72s 6ms/step - loss: 0.1706 - accuracy: 0.9422 - val_loss: 0.1481 - val_accuracy: 0.9491\n",
      "Epoch 2/5\n",
      "12516/12516 [==============================] - 71s 6ms/step - loss: 0.1687 - accuracy: 0.9430 - val_loss: 0.1353 - val_accuracy: 0.9543\n",
      "Epoch 3/5\n",
      "12516/12516 [==============================] - 71s 6ms/step - loss: 0.1701 - accuracy: 0.9425 - val_loss: 0.1566 - val_accuracy: 0.9465\n",
      "Epoch 4/5\n",
      "12516/12516 [==============================] - 70s 6ms/step - loss: 0.1695 - accuracy: 0.9425 - val_loss: 0.1481 - val_accuracy: 0.9488\n",
      "Epoch 5/5\n",
      "12516/12516 [==============================] - 70s 6ms/step - loss: 0.1707 - accuracy: 0.9424 - val_loss: 0.1553 - val_accuracy: 0.9461\n",
      "3125/3125 [==============================] - 10s 3ms/step - loss: 0.1532 - accuracy: 0.9468\n",
      "WARNING:tensorflow:FOR KERAS USERS: The object that you are saving contains one or more Keras models or layers. If you are loading the SavedModel with `tf.keras.models.load_model`, continue reading (otherwise, you may ignore the following instructions). Please change your code to save with `tf.keras.models.save_model` or `model.save`, and confirm that the file \"keras.metadata\" exists in the export directory. In the future, Keras will only load the SavedModels that have this file. In other words, `tf.saved_model.save` will no longer write SavedModels that can be recovered as Keras models (this will apply in TF 2.5).\n",
      "\n",
      "FOR DEVS: If you are overwriting _tracking_metadata in your class, this property has been used to save metadata in the SavedModel. The metadta field will be deprecated soon, so please move the metadata to a different file.\n"
     ]
    },
    {
     "name": "stderr",
     "output_type": "stream",
     "text": [
      "WARNING:tensorflow:FOR KERAS USERS: The object that you are saving contains one or more Keras models or layers. If you are loading the SavedModel with `tf.keras.models.load_model`, continue reading (otherwise, you may ignore the following instructions). Please change your code to save with `tf.keras.models.save_model` or `model.save`, and confirm that the file \"keras.metadata\" exists in the export directory. In the future, Keras will only load the SavedModels that have this file. In other words, `tf.saved_model.save` will no longer write SavedModels that can be recovered as Keras models (this will apply in TF 2.5).\n",
      "\n",
      "FOR DEVS: If you are overwriting _tracking_metadata in your class, this property has been used to save metadata in the SavedModel. The metadta field will be deprecated soon, so please move the metadata to a different file.\n"
     ]
    },
    {
     "name": "stdout",
     "output_type": "stream",
     "text": [
      "INFO:tensorflow:Assets written to: /home/ML4NO/ML_DUNE/Classification/models_all/models_furthurTrain/0910_1_1/std=0.008531678524172805/assets\n"
     ]
    },
    {
     "name": "stderr",
     "output_type": "stream",
     "text": [
      "INFO:tensorflow:Assets written to: /home/ML4NO/ML_DUNE/Classification/models_all/models_furthurTrain/0910_1_1/std=0.008531678524172805/assets\n"
     ]
    },
    {
     "name": "stdout",
     "output_type": "stream",
     "text": [
      "3125/3125 [==============================] - 10s 3ms/step - loss: 0.1533 - accuracy: 0.9468\n",
      "Epoch 1/5\n",
      "12516/12516 [==============================] - 71s 6ms/step - loss: 0.1693 - accuracy: 0.9431 - val_loss: 0.1325 - val_accuracy: 0.9557\n",
      "Epoch 2/5\n",
      "12516/12516 [==============================] - 70s 6ms/step - loss: 0.1709 - accuracy: 0.9421 - val_loss: 0.1504 - val_accuracy: 0.9485\n",
      "Epoch 3/5\n",
      "12516/12516 [==============================] - 70s 6ms/step - loss: 0.1710 - accuracy: 0.9421 - val_loss: 0.1450 - val_accuracy: 0.9511\n",
      "Epoch 4/5\n",
      "12516/12516 [==============================] - 72s 6ms/step - loss: 0.1699 - accuracy: 0.9424 - val_loss: 0.1517 - val_accuracy: 0.9484\n",
      "Epoch 5/5\n",
      "12516/12516 [==============================] - 71s 6ms/step - loss: 0.1705 - accuracy: 0.9426 - val_loss: 0.1498 - val_accuracy: 0.9492\n",
      "3125/3125 [==============================] - 10s 3ms/step - loss: 0.1473 - accuracy: 0.9499\n",
      "WARNING:tensorflow:FOR KERAS USERS: The object that you are saving contains one or more Keras models or layers. If you are loading the SavedModel with `tf.keras.models.load_model`, continue reading (otherwise, you may ignore the following instructions). Please change your code to save with `tf.keras.models.save_model` or `model.save`, and confirm that the file \"keras.metadata\" exists in the export directory. In the future, Keras will only load the SavedModels that have this file. In other words, `tf.saved_model.save` will no longer write SavedModels that can be recovered as Keras models (this will apply in TF 2.5).\n",
      "\n",
      "FOR DEVS: If you are overwriting _tracking_metadata in your class, this property has been used to save metadata in the SavedModel. The metadta field will be deprecated soon, so please move the metadata to a different file.\n"
     ]
    },
    {
     "name": "stderr",
     "output_type": "stream",
     "text": [
      "WARNING:tensorflow:FOR KERAS USERS: The object that you are saving contains one or more Keras models or layers. If you are loading the SavedModel with `tf.keras.models.load_model`, continue reading (otherwise, you may ignore the following instructions). Please change your code to save with `tf.keras.models.save_model` or `model.save`, and confirm that the file \"keras.metadata\" exists in the export directory. In the future, Keras will only load the SavedModels that have this file. In other words, `tf.saved_model.save` will no longer write SavedModels that can be recovered as Keras models (this will apply in TF 2.5).\n",
      "\n",
      "FOR DEVS: If you are overwriting _tracking_metadata in your class, this property has been used to save metadata in the SavedModel. The metadta field will be deprecated soon, so please move the metadata to a different file.\n"
     ]
    },
    {
     "name": "stdout",
     "output_type": "stream",
     "text": [
      "INFO:tensorflow:Assets written to: /home/ML4NO/ML_DUNE/Classification/models_all/models_furthurTrain/0910_1_1/std=0.010826367338740546/assets\n"
     ]
    },
    {
     "name": "stderr",
     "output_type": "stream",
     "text": [
      "INFO:tensorflow:Assets written to: /home/ML4NO/ML_DUNE/Classification/models_all/models_furthurTrain/0910_1_1/std=0.010826367338740546/assets\n"
     ]
    },
    {
     "name": "stdout",
     "output_type": "stream",
     "text": [
      "3125/3125 [==============================] - 10s 3ms/step - loss: 0.1474 - accuracy: 0.9500\n",
      "Epoch 1/5\n",
      "12516/12516 [==============================] - 72s 6ms/step - loss: 0.1722 - accuracy: 0.9418 - val_loss: 0.1445 - val_accuracy: 0.9501\n",
      "Epoch 2/5\n",
      "12516/12516 [==============================] - 71s 6ms/step - loss: 0.1716 - accuracy: 0.9417 - val_loss: 0.1455 - val_accuracy: 0.9496\n",
      "Epoch 3/5\n",
      "12516/12516 [==============================] - 70s 6ms/step - loss: 0.1718 - accuracy: 0.9419 - val_loss: 0.1481 - val_accuracy: 0.9488\n",
      "Epoch 4/5\n",
      "12516/12516 [==============================] - 71s 6ms/step - loss: 0.1714 - accuracy: 0.9419 - val_loss: 0.1440 - val_accuracy: 0.9504\n",
      "Epoch 5/5\n",
      "12516/12516 [==============================] - 71s 6ms/step - loss: 0.1719 - accuracy: 0.9417 - val_loss: 0.1452 - val_accuracy: 0.9499\n",
      "3125/3125 [==============================] - 10s 3ms/step - loss: 0.1422 - accuracy: 0.9509\n",
      "WARNING:tensorflow:FOR KERAS USERS: The object that you are saving contains one or more Keras models or layers. If you are loading the SavedModel with `tf.keras.models.load_model`, continue reading (otherwise, you may ignore the following instructions). Please change your code to save with `tf.keras.models.save_model` or `model.save`, and confirm that the file \"keras.metadata\" exists in the export directory. In the future, Keras will only load the SavedModels that have this file. In other words, `tf.saved_model.save` will no longer write SavedModels that can be recovered as Keras models (this will apply in TF 2.5).\n",
      "\n",
      "FOR DEVS: If you are overwriting _tracking_metadata in your class, this property has been used to save metadata in the SavedModel. The metadta field will be deprecated soon, so please move the metadata to a different file.\n"
     ]
    },
    {
     "name": "stderr",
     "output_type": "stream",
     "text": [
      "WARNING:tensorflow:FOR KERAS USERS: The object that you are saving contains one or more Keras models or layers. If you are loading the SavedModel with `tf.keras.models.load_model`, continue reading (otherwise, you may ignore the following instructions). Please change your code to save with `tf.keras.models.save_model` or `model.save`, and confirm that the file \"keras.metadata\" exists in the export directory. In the future, Keras will only load the SavedModels that have this file. In other words, `tf.saved_model.save` will no longer write SavedModels that can be recovered as Keras models (this will apply in TF 2.5).\n",
      "\n",
      "FOR DEVS: If you are overwriting _tracking_metadata in your class, this property has been used to save metadata in the SavedModel. The metadta field will be deprecated soon, so please move the metadata to a different file.\n"
     ]
    },
    {
     "name": "stdout",
     "output_type": "stream",
     "text": [
      "INFO:tensorflow:Assets written to: /home/ML4NO/ML_DUNE/Classification/models_all/models_furthurTrain/0910_1_1/std=0.01373823795883263/assets\n"
     ]
    },
    {
     "name": "stderr",
     "output_type": "stream",
     "text": [
      "INFO:tensorflow:Assets written to: /home/ML4NO/ML_DUNE/Classification/models_all/models_furthurTrain/0910_1_1/std=0.01373823795883263/assets\n"
     ]
    },
    {
     "name": "stdout",
     "output_type": "stream",
     "text": [
      "3125/3125 [==============================] - 10s 3ms/step - loss: 0.1425 - accuracy: 0.9509\n",
      "Epoch 1/5\n",
      "12516/12516 [==============================] - 70s 6ms/step - loss: 0.1731 - accuracy: 0.9414 - val_loss: 0.1592 - val_accuracy: 0.9440\n",
      "Epoch 2/5\n",
      "12516/12516 [==============================] - 71s 6ms/step - loss: 0.1727 - accuracy: 0.9413 - val_loss: 0.1403 - val_accuracy: 0.9523\n",
      "Epoch 3/5\n",
      "12516/12516 [==============================] - 71s 6ms/step - loss: 0.1725 - accuracy: 0.9416 - val_loss: 0.1451 - val_accuracy: 0.9500\n",
      "Epoch 4/5\n",
      "12516/12516 [==============================] - 71s 6ms/step - loss: 0.1729 - accuracy: 0.9411 - val_loss: 0.1559 - val_accuracy: 0.9449\n",
      "Epoch 5/5\n",
      "12516/12516 [==============================] - 71s 6ms/step - loss: 0.1733 - accuracy: 0.9409 - val_loss: 0.1488 - val_accuracy: 0.9493\n",
      "3125/3125 [==============================] - 10s 3ms/step - loss: 0.1468 - accuracy: 0.9499\n",
      "WARNING:tensorflow:FOR KERAS USERS: The object that you are saving contains one or more Keras models or layers. If you are loading the SavedModel with `tf.keras.models.load_model`, continue reading (otherwise, you may ignore the following instructions). Please change your code to save with `tf.keras.models.save_model` or `model.save`, and confirm that the file \"keras.metadata\" exists in the export directory. In the future, Keras will only load the SavedModels that have this file. In other words, `tf.saved_model.save` will no longer write SavedModels that can be recovered as Keras models (this will apply in TF 2.5).\n",
      "\n",
      "FOR DEVS: If you are overwriting _tracking_metadata in your class, this property has been used to save metadata in the SavedModel. The metadta field will be deprecated soon, so please move the metadata to a different file.\n"
     ]
    },
    {
     "name": "stderr",
     "output_type": "stream",
     "text": [
      "WARNING:tensorflow:FOR KERAS USERS: The object that you are saving contains one or more Keras models or layers. If you are loading the SavedModel with `tf.keras.models.load_model`, continue reading (otherwise, you may ignore the following instructions). Please change your code to save with `tf.keras.models.save_model` or `model.save`, and confirm that the file \"keras.metadata\" exists in the export directory. In the future, Keras will only load the SavedModels that have this file. In other words, `tf.saved_model.save` will no longer write SavedModels that can be recovered as Keras models (this will apply in TF 2.5).\n",
      "\n",
      "FOR DEVS: If you are overwriting _tracking_metadata in your class, this property has been used to save metadata in the SavedModel. The metadta field will be deprecated soon, so please move the metadata to a different file.\n"
     ]
    },
    {
     "name": "stdout",
     "output_type": "stream",
     "text": [
      "INFO:tensorflow:Assets written to: /home/ML4NO/ML_DUNE/Classification/models_all/models_furthurTrain/0910_1_1/std=0.017433288221999882/assets\n"
     ]
    },
    {
     "name": "stderr",
     "output_type": "stream",
     "text": [
      "INFO:tensorflow:Assets written to: /home/ML4NO/ML_DUNE/Classification/models_all/models_furthurTrain/0910_1_1/std=0.017433288221999882/assets\n"
     ]
    },
    {
     "name": "stdout",
     "output_type": "stream",
     "text": [
      "3125/3125 [==============================] - 9s 3ms/step - loss: 0.1473 - accuracy: 0.9496\n",
      "Epoch 1/5\n",
      "12516/12516 [==============================] - 71s 6ms/step - loss: 0.1748 - accuracy: 0.9404 - val_loss: 0.1555 - val_accuracy: 0.9467\n",
      "Epoch 2/5\n",
      "12516/12516 [==============================] - 70s 6ms/step - loss: 0.1738 - accuracy: 0.9408 - val_loss: 0.1467 - val_accuracy: 0.9502\n",
      "Epoch 3/5\n",
      "12516/12516 [==============================] - 71s 6ms/step - loss: 0.1742 - accuracy: 0.9410 - val_loss: 0.1449 - val_accuracy: 0.9511\n",
      "Epoch 4/5\n",
      "12516/12516 [==============================] - 70s 6ms/step - loss: 0.1750 - accuracy: 0.9407 - val_loss: 0.1537 - val_accuracy: 0.9474\n",
      "Epoch 5/5\n",
      "12516/12516 [==============================] - 71s 6ms/step - loss: 0.1739 - accuracy: 0.9410 - val_loss: 0.1460 - val_accuracy: 0.9500\n",
      "3125/3125 [==============================] - 10s 3ms/step - loss: 0.1433 - accuracy: 0.9510\n",
      "WARNING:tensorflow:FOR KERAS USERS: The object that you are saving contains one or more Keras models or layers. If you are loading the SavedModel with `tf.keras.models.load_model`, continue reading (otherwise, you may ignore the following instructions). Please change your code to save with `tf.keras.models.save_model` or `model.save`, and confirm that the file \"keras.metadata\" exists in the export directory. In the future, Keras will only load the SavedModels that have this file. In other words, `tf.saved_model.save` will no longer write SavedModels that can be recovered as Keras models (this will apply in TF 2.5).\n",
      "\n",
      "FOR DEVS: If you are overwriting _tracking_metadata in your class, this property has been used to save metadata in the SavedModel. The metadta field will be deprecated soon, so please move the metadata to a different file.\n"
     ]
    },
    {
     "name": "stderr",
     "output_type": "stream",
     "text": [
      "WARNING:tensorflow:FOR KERAS USERS: The object that you are saving contains one or more Keras models or layers. If you are loading the SavedModel with `tf.keras.models.load_model`, continue reading (otherwise, you may ignore the following instructions). Please change your code to save with `tf.keras.models.save_model` or `model.save`, and confirm that the file \"keras.metadata\" exists in the export directory. In the future, Keras will only load the SavedModels that have this file. In other words, `tf.saved_model.save` will no longer write SavedModels that can be recovered as Keras models (this will apply in TF 2.5).\n",
      "\n",
      "FOR DEVS: If you are overwriting _tracking_metadata in your class, this property has been used to save metadata in the SavedModel. The metadta field will be deprecated soon, so please move the metadata to a different file.\n"
     ]
    },
    {
     "name": "stdout",
     "output_type": "stream",
     "text": [
      "INFO:tensorflow:Assets written to: /home/ML4NO/ML_DUNE/Classification/models_all/models_furthurTrain/0910_1_1/std=0.022122162910704492/assets\n"
     ]
    },
    {
     "name": "stderr",
     "output_type": "stream",
     "text": [
      "INFO:tensorflow:Assets written to: /home/ML4NO/ML_DUNE/Classification/models_all/models_furthurTrain/0910_1_1/std=0.022122162910704492/assets\n"
     ]
    },
    {
     "name": "stdout",
     "output_type": "stream",
     "text": [
      "3125/3125 [==============================] - 9s 3ms/step - loss: 0.1433 - accuracy: 0.9508\n",
      "Epoch 1/5\n",
      "12516/12516 [==============================] - 71s 6ms/step - loss: 0.1775 - accuracy: 0.9393 - val_loss: 0.1482 - val_accuracy: 0.9493\n",
      "Epoch 2/5\n",
      "12516/12516 [==============================] - 70s 6ms/step - loss: 0.1771 - accuracy: 0.9392 - val_loss: 0.1411 - val_accuracy: 0.9515\n",
      "Epoch 3/5\n",
      "12516/12516 [==============================] - 71s 6ms/step - loss: 0.1760 - accuracy: 0.9400 - val_loss: 0.1527 - val_accuracy: 0.9469\n",
      "Epoch 4/5\n",
      "12516/12516 [==============================] - 71s 6ms/step - loss: 0.1768 - accuracy: 0.9395 - val_loss: 0.1431 - val_accuracy: 0.9508\n",
      "Epoch 5/5\n",
      "12516/12516 [==============================] - 70s 6ms/step - loss: 0.1764 - accuracy: 0.9398 - val_loss: 0.1491 - val_accuracy: 0.9495\n",
      "3125/3125 [==============================] - 10s 3ms/step - loss: 0.1464 - accuracy: 0.9504\n",
      "WARNING:tensorflow:FOR KERAS USERS: The object that you are saving contains one or more Keras models or layers. If you are loading the SavedModel with `tf.keras.models.load_model`, continue reading (otherwise, you may ignore the following instructions). Please change your code to save with `tf.keras.models.save_model` or `model.save`, and confirm that the file \"keras.metadata\" exists in the export directory. In the future, Keras will only load the SavedModels that have this file. In other words, `tf.saved_model.save` will no longer write SavedModels that can be recovered as Keras models (this will apply in TF 2.5).\n",
      "\n",
      "FOR DEVS: If you are overwriting _tracking_metadata in your class, this property has been used to save metadata in the SavedModel. The metadta field will be deprecated soon, so please move the metadata to a different file.\n"
     ]
    },
    {
     "name": "stderr",
     "output_type": "stream",
     "text": [
      "WARNING:tensorflow:FOR KERAS USERS: The object that you are saving contains one or more Keras models or layers. If you are loading the SavedModel with `tf.keras.models.load_model`, continue reading (otherwise, you may ignore the following instructions). Please change your code to save with `tf.keras.models.save_model` or `model.save`, and confirm that the file \"keras.metadata\" exists in the export directory. In the future, Keras will only load the SavedModels that have this file. In other words, `tf.saved_model.save` will no longer write SavedModels that can be recovered as Keras models (this will apply in TF 2.5).\n",
      "\n",
      "FOR DEVS: If you are overwriting _tracking_metadata in your class, this property has been used to save metadata in the SavedModel. The metadta field will be deprecated soon, so please move the metadata to a different file.\n"
     ]
    },
    {
     "name": "stdout",
     "output_type": "stream",
     "text": [
      "INFO:tensorflow:Assets written to: /home/ML4NO/ML_DUNE/Classification/models_all/models_furthurTrain/0910_1_1/std=0.02807216203941177/assets\n"
     ]
    },
    {
     "name": "stderr",
     "output_type": "stream",
     "text": [
      "INFO:tensorflow:Assets written to: /home/ML4NO/ML_DUNE/Classification/models_all/models_furthurTrain/0910_1_1/std=0.02807216203941177/assets\n"
     ]
    },
    {
     "name": "stdout",
     "output_type": "stream",
     "text": [
      "3125/3125 [==============================] - 10s 3ms/step - loss: 0.1469 - accuracy: 0.9507\n",
      "Epoch 1/5\n",
      "12516/12516 [==============================] - 72s 6ms/step - loss: 0.1800 - accuracy: 0.9386 - val_loss: 0.1559 - val_accuracy: 0.9459\n",
      "Epoch 2/5\n",
      "12516/12516 [==============================] - 71s 6ms/step - loss: 0.1795 - accuracy: 0.9386 - val_loss: 0.1485 - val_accuracy: 0.9480\n",
      "Epoch 3/5\n",
      "12516/12516 [==============================] - 71s 6ms/step - loss: 0.1795 - accuracy: 0.9385 - val_loss: 0.1595 - val_accuracy: 0.9450\n",
      "Epoch 4/5\n",
      "12516/12516 [==============================] - 72s 6ms/step - loss: 0.1802 - accuracy: 0.9381 - val_loss: 0.1544 - val_accuracy: 0.9470\n",
      "Epoch 5/5\n",
      "12516/12516 [==============================] - 70s 6ms/step - loss: 0.1795 - accuracy: 0.9382 - val_loss: 0.1623 - val_accuracy: 0.9425\n",
      "3125/3125 [==============================] - 9s 3ms/step - loss: 0.1597 - accuracy: 0.9438\n",
      "WARNING:tensorflow:FOR KERAS USERS: The object that you are saving contains one or more Keras models or layers. If you are loading the SavedModel with `tf.keras.models.load_model`, continue reading (otherwise, you may ignore the following instructions). Please change your code to save with `tf.keras.models.save_model` or `model.save`, and confirm that the file \"keras.metadata\" exists in the export directory. In the future, Keras will only load the SavedModels that have this file. In other words, `tf.saved_model.save` will no longer write SavedModels that can be recovered as Keras models (this will apply in TF 2.5).\n",
      "\n",
      "FOR DEVS: If you are overwriting _tracking_metadata in your class, this property has been used to save metadata in the SavedModel. The metadta field will be deprecated soon, so please move the metadata to a different file.\n"
     ]
    },
    {
     "name": "stderr",
     "output_type": "stream",
     "text": [
      "WARNING:tensorflow:FOR KERAS USERS: The object that you are saving contains one or more Keras models or layers. If you are loading the SavedModel with `tf.keras.models.load_model`, continue reading (otherwise, you may ignore the following instructions). Please change your code to save with `tf.keras.models.save_model` or `model.save`, and confirm that the file \"keras.metadata\" exists in the export directory. In the future, Keras will only load the SavedModels that have this file. In other words, `tf.saved_model.save` will no longer write SavedModels that can be recovered as Keras models (this will apply in TF 2.5).\n",
      "\n",
      "FOR DEVS: If you are overwriting _tracking_metadata in your class, this property has been used to save metadata in the SavedModel. The metadta field will be deprecated soon, so please move the metadata to a different file.\n"
     ]
    },
    {
     "name": "stdout",
     "output_type": "stream",
     "text": [
      "INFO:tensorflow:Assets written to: /home/ML4NO/ML_DUNE/Classification/models_all/models_furthurTrain/0910_1_1/std=0.035622478902624426/assets\n"
     ]
    },
    {
     "name": "stderr",
     "output_type": "stream",
     "text": [
      "INFO:tensorflow:Assets written to: /home/ML4NO/ML_DUNE/Classification/models_all/models_furthurTrain/0910_1_1/std=0.035622478902624426/assets\n"
     ]
    },
    {
     "name": "stdout",
     "output_type": "stream",
     "text": [
      "3125/3125 [==============================] - 10s 3ms/step - loss: 0.1599 - accuracy: 0.9439\n",
      "Epoch 1/5\n",
      "12516/12516 [==============================] - 72s 6ms/step - loss: 0.1847 - accuracy: 0.9362 - val_loss: 0.1560 - val_accuracy: 0.9459\n",
      "Epoch 2/5\n",
      "12516/12516 [==============================] - 69s 6ms/step - loss: 0.1835 - accuracy: 0.9368 - val_loss: 0.1619 - val_accuracy: 0.9434\n",
      "Epoch 3/5\n",
      "12516/12516 [==============================] - 70s 6ms/step - loss: 0.1834 - accuracy: 0.9368 - val_loss: 0.1600 - val_accuracy: 0.9448\n",
      "Epoch 4/5\n",
      "12516/12516 [==============================] - 71s 6ms/step - loss: 0.1830 - accuracy: 0.9370 - val_loss: 0.1612 - val_accuracy: 0.9442\n",
      "Epoch 5/5\n",
      "12516/12516 [==============================] - 70s 6ms/step - loss: 0.1847 - accuracy: 0.9363 - val_loss: 0.1583 - val_accuracy: 0.9455\n",
      "3125/3125 [==============================] - 9s 3ms/step - loss: 0.1560 - accuracy: 0.9465\n",
      "WARNING:tensorflow:FOR KERAS USERS: The object that you are saving contains one or more Keras models or layers. If you are loading the SavedModel with `tf.keras.models.load_model`, continue reading (otherwise, you may ignore the following instructions). Please change your code to save with `tf.keras.models.save_model` or `model.save`, and confirm that the file \"keras.metadata\" exists in the export directory. In the future, Keras will only load the SavedModels that have this file. In other words, `tf.saved_model.save` will no longer write SavedModels that can be recovered as Keras models (this will apply in TF 2.5).\n",
      "\n",
      "FOR DEVS: If you are overwriting _tracking_metadata in your class, this property has been used to save metadata in the SavedModel. The metadta field will be deprecated soon, so please move the metadata to a different file.\n"
     ]
    },
    {
     "name": "stderr",
     "output_type": "stream",
     "text": [
      "WARNING:tensorflow:FOR KERAS USERS: The object that you are saving contains one or more Keras models or layers. If you are loading the SavedModel with `tf.keras.models.load_model`, continue reading (otherwise, you may ignore the following instructions). Please change your code to save with `tf.keras.models.save_model` or `model.save`, and confirm that the file \"keras.metadata\" exists in the export directory. In the future, Keras will only load the SavedModels that have this file. In other words, `tf.saved_model.save` will no longer write SavedModels that can be recovered as Keras models (this will apply in TF 2.5).\n",
      "\n",
      "FOR DEVS: If you are overwriting _tracking_metadata in your class, this property has been used to save metadata in the SavedModel. The metadta field will be deprecated soon, so please move the metadata to a different file.\n"
     ]
    },
    {
     "name": "stdout",
     "output_type": "stream",
     "text": [
      "INFO:tensorflow:Assets written to: /home/ML4NO/ML_DUNE/Classification/models_all/models_furthurTrain/0910_1_1/std=0.04520353656360243/assets\n"
     ]
    },
    {
     "name": "stderr",
     "output_type": "stream",
     "text": [
      "INFO:tensorflow:Assets written to: /home/ML4NO/ML_DUNE/Classification/models_all/models_furthurTrain/0910_1_1/std=0.04520353656360243/assets\n"
     ]
    },
    {
     "name": "stdout",
     "output_type": "stream",
     "text": [
      "3125/3125 [==============================] - 10s 3ms/step - loss: 0.1565 - accuracy: 0.9468\n",
      "Epoch 1/5\n",
      "12516/12516 [==============================] - 71s 6ms/step - loss: 0.1878 - accuracy: 0.9349 - val_loss: 0.1582 - val_accuracy: 0.9449\n",
      "Epoch 2/5\n",
      "12516/12516 [==============================] - 71s 6ms/step - loss: 0.1869 - accuracy: 0.9352 - val_loss: 0.1696 - val_accuracy: 0.9405\n",
      "Epoch 3/5\n",
      "12516/12516 [==============================] - 70s 6ms/step - loss: 0.1858 - accuracy: 0.9357 - val_loss: 0.1682 - val_accuracy: 0.9415\n",
      "Epoch 4/5\n",
      "12516/12516 [==============================] - 70s 6ms/step - loss: 0.1862 - accuracy: 0.9355 - val_loss: 0.1559 - val_accuracy: 0.9460\n",
      "Epoch 5/5\n",
      "12516/12516 [==============================] - 71s 6ms/step - loss: 0.1886 - accuracy: 0.9344 - val_loss: 0.1550 - val_accuracy: 0.9450\n",
      "3125/3125 [==============================] - 9s 3ms/step - loss: 0.1527 - accuracy: 0.9462\n",
      "WARNING:tensorflow:FOR KERAS USERS: The object that you are saving contains one or more Keras models or layers. If you are loading the SavedModel with `tf.keras.models.load_model`, continue reading (otherwise, you may ignore the following instructions). Please change your code to save with `tf.keras.models.save_model` or `model.save`, and confirm that the file \"keras.metadata\" exists in the export directory. In the future, Keras will only load the SavedModels that have this file. In other words, `tf.saved_model.save` will no longer write SavedModels that can be recovered as Keras models (this will apply in TF 2.5).\n",
      "\n",
      "FOR DEVS: If you are overwriting _tracking_metadata in your class, this property has been used to save metadata in the SavedModel. The metadta field will be deprecated soon, so please move the metadata to a different file.\n"
     ]
    },
    {
     "name": "stderr",
     "output_type": "stream",
     "text": [
      "WARNING:tensorflow:FOR KERAS USERS: The object that you are saving contains one or more Keras models or layers. If you are loading the SavedModel with `tf.keras.models.load_model`, continue reading (otherwise, you may ignore the following instructions). Please change your code to save with `tf.keras.models.save_model` or `model.save`, and confirm that the file \"keras.metadata\" exists in the export directory. In the future, Keras will only load the SavedModels that have this file. In other words, `tf.saved_model.save` will no longer write SavedModels that can be recovered as Keras models (this will apply in TF 2.5).\n",
      "\n",
      "FOR DEVS: If you are overwriting _tracking_metadata in your class, this property has been used to save metadata in the SavedModel. The metadta field will be deprecated soon, so please move the metadata to a different file.\n"
     ]
    },
    {
     "name": "stdout",
     "output_type": "stream",
     "text": [
      "INFO:tensorflow:Assets written to: /home/ML4NO/ML_DUNE/Classification/models_all/models_furthurTrain/0910_1_1/std=0.057361525104486784/assets\n"
     ]
    },
    {
     "name": "stderr",
     "output_type": "stream",
     "text": [
      "INFO:tensorflow:Assets written to: /home/ML4NO/ML_DUNE/Classification/models_all/models_furthurTrain/0910_1_1/std=0.057361525104486784/assets\n"
     ]
    },
    {
     "name": "stdout",
     "output_type": "stream",
     "text": [
      "3125/3125 [==============================] - 10s 3ms/step - loss: 0.1549 - accuracy: 0.9457\n",
      "Epoch 1/5\n",
      "12516/12516 [==============================] - 72s 6ms/step - loss: 0.1915 - accuracy: 0.9332 - val_loss: 0.1672 - val_accuracy: 0.9413\n",
      "Epoch 2/5\n",
      "12516/12516 [==============================] - 70s 6ms/step - loss: 0.1928 - accuracy: 0.9325 - val_loss: 0.1601 - val_accuracy: 0.9440\n",
      "Epoch 3/5\n",
      "12516/12516 [==============================] - 70s 6ms/step - loss: 0.1927 - accuracy: 0.9324 - val_loss: 0.1666 - val_accuracy: 0.9417\n",
      "Epoch 4/5\n",
      "12516/12516 [==============================] - 70s 6ms/step - loss: 0.1913 - accuracy: 0.9334 - val_loss: 0.1648 - val_accuracy: 0.9423\n",
      "Epoch 5/5\n",
      "12516/12516 [==============================] - 72s 6ms/step - loss: 0.1908 - accuracy: 0.9334 - val_loss: 0.1625 - val_accuracy: 0.9427\n",
      "3125/3125 [==============================] - 9s 3ms/step - loss: 0.1599 - accuracy: 0.9437\n",
      "WARNING:tensorflow:FOR KERAS USERS: The object that you are saving contains one or more Keras models or layers. If you are loading the SavedModel with `tf.keras.models.load_model`, continue reading (otherwise, you may ignore the following instructions). Please change your code to save with `tf.keras.models.save_model` or `model.save`, and confirm that the file \"keras.metadata\" exists in the export directory. In the future, Keras will only load the SavedModels that have this file. In other words, `tf.saved_model.save` will no longer write SavedModels that can be recovered as Keras models (this will apply in TF 2.5).\n",
      "\n",
      "FOR DEVS: If you are overwriting _tracking_metadata in your class, this property has been used to save metadata in the SavedModel. The metadta field will be deprecated soon, so please move the metadata to a different file.\n"
     ]
    },
    {
     "name": "stderr",
     "output_type": "stream",
     "text": [
      "WARNING:tensorflow:FOR KERAS USERS: The object that you are saving contains one or more Keras models or layers. If you are loading the SavedModel with `tf.keras.models.load_model`, continue reading (otherwise, you may ignore the following instructions). Please change your code to save with `tf.keras.models.save_model` or `model.save`, and confirm that the file \"keras.metadata\" exists in the export directory. In the future, Keras will only load the SavedModels that have this file. In other words, `tf.saved_model.save` will no longer write SavedModels that can be recovered as Keras models (this will apply in TF 2.5).\n",
      "\n",
      "FOR DEVS: If you are overwriting _tracking_metadata in your class, this property has been used to save metadata in the SavedModel. The metadta field will be deprecated soon, so please move the metadata to a different file.\n"
     ]
    },
    {
     "name": "stdout",
     "output_type": "stream",
     "text": [
      "INFO:tensorflow:Assets written to: /home/ML4NO/ML_DUNE/Classification/models_all/models_furthurTrain/0910_1_1/std=0.0727895384398315/assets\n"
     ]
    },
    {
     "name": "stderr",
     "output_type": "stream",
     "text": [
      "INFO:tensorflow:Assets written to: /home/ML4NO/ML_DUNE/Classification/models_all/models_furthurTrain/0910_1_1/std=0.0727895384398315/assets\n"
     ]
    },
    {
     "name": "stdout",
     "output_type": "stream",
     "text": [
      "3125/3125 [==============================] - 10s 3ms/step - loss: 0.1613 - accuracy: 0.9437\n",
      "Epoch 1/5\n",
      "12516/12516 [==============================] - 72s 6ms/step - loss: 0.1970 - accuracy: 0.9305 - val_loss: 0.1685 - val_accuracy: 0.9403\n",
      "Epoch 2/5\n",
      "12516/12516 [==============================] - 71s 6ms/step - loss: 0.1973 - accuracy: 0.9302 - val_loss: 0.1731 - val_accuracy: 0.9378\n",
      "Epoch 3/5\n",
      "12516/12516 [==============================] - 70s 6ms/step - loss: 0.1978 - accuracy: 0.9301 - val_loss: 0.1729 - val_accuracy: 0.9372\n",
      "Epoch 4/5\n",
      "12516/12516 [==============================] - 71s 6ms/step - loss: 0.1959 - accuracy: 0.9309 - val_loss: 0.1659 - val_accuracy: 0.9420\n",
      "Epoch 5/5\n",
      "12516/12516 [==============================] - 71s 6ms/step - loss: 0.1965 - accuracy: 0.9308 - val_loss: 0.1691 - val_accuracy: 0.9398\n",
      "3125/3125 [==============================] - 10s 3ms/step - loss: 0.1662 - accuracy: 0.9410\n",
      "WARNING:tensorflow:FOR KERAS USERS: The object that you are saving contains one or more Keras models or layers. If you are loading the SavedModel with `tf.keras.models.load_model`, continue reading (otherwise, you may ignore the following instructions). Please change your code to save with `tf.keras.models.save_model` or `model.save`, and confirm that the file \"keras.metadata\" exists in the export directory. In the future, Keras will only load the SavedModels that have this file. In other words, `tf.saved_model.save` will no longer write SavedModels that can be recovered as Keras models (this will apply in TF 2.5).\n",
      "\n",
      "FOR DEVS: If you are overwriting _tracking_metadata in your class, this property has been used to save metadata in the SavedModel. The metadta field will be deprecated soon, so please move the metadata to a different file.\n"
     ]
    },
    {
     "name": "stderr",
     "output_type": "stream",
     "text": [
      "WARNING:tensorflow:FOR KERAS USERS: The object that you are saving contains one or more Keras models or layers. If you are loading the SavedModel with `tf.keras.models.load_model`, continue reading (otherwise, you may ignore the following instructions). Please change your code to save with `tf.keras.models.save_model` or `model.save`, and confirm that the file \"keras.metadata\" exists in the export directory. In the future, Keras will only load the SavedModels that have this file. In other words, `tf.saved_model.save` will no longer write SavedModels that can be recovered as Keras models (this will apply in TF 2.5).\n",
      "\n",
      "FOR DEVS: If you are overwriting _tracking_metadata in your class, this property has been used to save metadata in the SavedModel. The metadta field will be deprecated soon, so please move the metadata to a different file.\n"
     ]
    },
    {
     "name": "stdout",
     "output_type": "stream",
     "text": [
      "INFO:tensorflow:Assets written to: /home/ML4NO/ML_DUNE/Classification/models_all/models_furthurTrain/0910_1_1/std=0.09236708571873861/assets\n"
     ]
    },
    {
     "name": "stderr",
     "output_type": "stream",
     "text": [
      "INFO:tensorflow:Assets written to: /home/ML4NO/ML_DUNE/Classification/models_all/models_furthurTrain/0910_1_1/std=0.09236708571873861/assets\n"
     ]
    },
    {
     "name": "stdout",
     "output_type": "stream",
     "text": [
      "3125/3125 [==============================] - 9s 3ms/step - loss: 0.1682 - accuracy: 0.9411\n",
      "Epoch 1/5\n",
      "12516/12516 [==============================] - 71s 6ms/step - loss: 0.2041 - accuracy: 0.9272 - val_loss: 0.1745 - val_accuracy: 0.9375\n",
      "Epoch 2/5\n",
      "12516/12516 [==============================] - 72s 6ms/step - loss: 0.2037 - accuracy: 0.9276 - val_loss: 0.1712 - val_accuracy: 0.9395\n",
      "Epoch 3/5\n",
      "12516/12516 [==============================] - 72s 6ms/step - loss: 0.2020 - accuracy: 0.9284 - val_loss: 0.1708 - val_accuracy: 0.9398\n",
      "Epoch 4/5\n",
      "12516/12516 [==============================] - 72s 6ms/step - loss: 0.2021 - accuracy: 0.9281 - val_loss: 0.1772 - val_accuracy: 0.9367\n",
      "Epoch 5/5\n",
      "12516/12516 [==============================] - 72s 6ms/step - loss: 0.2034 - accuracy: 0.9275 - val_loss: 0.1633 - val_accuracy: 0.9432\n",
      "3125/3125 [==============================] - 9s 3ms/step - loss: 0.1600 - accuracy: 0.9452\n",
      "WARNING:tensorflow:FOR KERAS USERS: The object that you are saving contains one or more Keras models or layers. If you are loading the SavedModel with `tf.keras.models.load_model`, continue reading (otherwise, you may ignore the following instructions). Please change your code to save with `tf.keras.models.save_model` or `model.save`, and confirm that the file \"keras.metadata\" exists in the export directory. In the future, Keras will only load the SavedModels that have this file. In other words, `tf.saved_model.save` will no longer write SavedModels that can be recovered as Keras models (this will apply in TF 2.5).\n",
      "\n",
      "FOR DEVS: If you are overwriting _tracking_metadata in your class, this property has been used to save metadata in the SavedModel. The metadta field will be deprecated soon, so please move the metadata to a different file.\n"
     ]
    },
    {
     "name": "stderr",
     "output_type": "stream",
     "text": [
      "WARNING:tensorflow:FOR KERAS USERS: The object that you are saving contains one or more Keras models or layers. If you are loading the SavedModel with `tf.keras.models.load_model`, continue reading (otherwise, you may ignore the following instructions). Please change your code to save with `tf.keras.models.save_model` or `model.save`, and confirm that the file \"keras.metadata\" exists in the export directory. In the future, Keras will only load the SavedModels that have this file. In other words, `tf.saved_model.save` will no longer write SavedModels that can be recovered as Keras models (this will apply in TF 2.5).\n",
      "\n",
      "FOR DEVS: If you are overwriting _tracking_metadata in your class, this property has been used to save metadata in the SavedModel. The metadta field will be deprecated soon, so please move the metadata to a different file.\n"
     ]
    },
    {
     "name": "stdout",
     "output_type": "stream",
     "text": [
      "INFO:tensorflow:Assets written to: /home/ML4NO/ML_DUNE/Classification/models_all/models_furthurTrain/0910_1_1/std=0.11721022975334805/assets\n"
     ]
    },
    {
     "name": "stderr",
     "output_type": "stream",
     "text": [
      "INFO:tensorflow:Assets written to: /home/ML4NO/ML_DUNE/Classification/models_all/models_furthurTrain/0910_1_1/std=0.11721022975334805/assets\n"
     ]
    },
    {
     "name": "stdout",
     "output_type": "stream",
     "text": [
      "3125/3125 [==============================] - 10s 3ms/step - loss: 0.1638 - accuracy: 0.9447\n",
      "Epoch 1/5\n",
      "12516/12516 [==============================] - 72s 6ms/step - loss: 0.2111 - accuracy: 0.9241 - val_loss: 0.1800 - val_accuracy: 0.9360\n",
      "Epoch 2/5\n",
      "12516/12516 [==============================] - 71s 6ms/step - loss: 0.2107 - accuracy: 0.9242 - val_loss: 0.1800 - val_accuracy: 0.9357\n",
      "Epoch 3/5\n",
      "12516/12516 [==============================] - 71s 6ms/step - loss: 0.2109 - accuracy: 0.9239 - val_loss: 0.1825 - val_accuracy: 0.9349\n",
      "Epoch 4/5\n",
      "12516/12516 [==============================] - 71s 6ms/step - loss: 0.2096 - accuracy: 0.9245 - val_loss: 0.1813 - val_accuracy: 0.9347\n",
      "Epoch 5/5\n",
      "12516/12516 [==============================] - 70s 6ms/step - loss: 0.2113 - accuracy: 0.9239 - val_loss: 0.1746 - val_accuracy: 0.9385\n",
      "3125/3125 [==============================] - 10s 3ms/step - loss: 0.1725 - accuracy: 0.9394\n",
      "WARNING:tensorflow:FOR KERAS USERS: The object that you are saving contains one or more Keras models or layers. If you are loading the SavedModel with `tf.keras.models.load_model`, continue reading (otherwise, you may ignore the following instructions). Please change your code to save with `tf.keras.models.save_model` or `model.save`, and confirm that the file \"keras.metadata\" exists in the export directory. In the future, Keras will only load the SavedModels that have this file. In other words, `tf.saved_model.save` will no longer write SavedModels that can be recovered as Keras models (this will apply in TF 2.5).\n",
      "\n",
      "FOR DEVS: If you are overwriting _tracking_metadata in your class, this property has been used to save metadata in the SavedModel. The metadta field will be deprecated soon, so please move the metadata to a different file.\n"
     ]
    },
    {
     "name": "stderr",
     "output_type": "stream",
     "text": [
      "WARNING:tensorflow:FOR KERAS USERS: The object that you are saving contains one or more Keras models or layers. If you are loading the SavedModel with `tf.keras.models.load_model`, continue reading (otherwise, you may ignore the following instructions). Please change your code to save with `tf.keras.models.save_model` or `model.save`, and confirm that the file \"keras.metadata\" exists in the export directory. In the future, Keras will only load the SavedModels that have this file. In other words, `tf.saved_model.save` will no longer write SavedModels that can be recovered as Keras models (this will apply in TF 2.5).\n",
      "\n",
      "FOR DEVS: If you are overwriting _tracking_metadata in your class, this property has been used to save metadata in the SavedModel. The metadta field will be deprecated soon, so please move the metadata to a different file.\n"
     ]
    },
    {
     "name": "stdout",
     "output_type": "stream",
     "text": [
      "INFO:tensorflow:Assets written to: /home/ML4NO/ML_DUNE/Classification/models_all/models_furthurTrain/0910_1_1/std=0.14873521072935117/assets\n"
     ]
    },
    {
     "name": "stderr",
     "output_type": "stream",
     "text": [
      "INFO:tensorflow:Assets written to: /home/ML4NO/ML_DUNE/Classification/models_all/models_furthurTrain/0910_1_1/std=0.14873521072935117/assets\n"
     ]
    },
    {
     "name": "stdout",
     "output_type": "stream",
     "text": [
      "3125/3125 [==============================] - 9s 3ms/step - loss: 0.1792 - accuracy: 0.9379\n",
      "Epoch 1/5\n",
      "12516/12516 [==============================] - 72s 6ms/step - loss: 0.2215 - accuracy: 0.9190 - val_loss: 0.1889 - val_accuracy: 0.9323\n",
      "Epoch 2/5\n",
      "12516/12516 [==============================] - 71s 6ms/step - loss: 0.2218 - accuracy: 0.9188 - val_loss: 0.1890 - val_accuracy: 0.9325\n",
      "Epoch 3/5\n",
      "12516/12516 [==============================] - 72s 6ms/step - loss: 0.2203 - accuracy: 0.9194 - val_loss: 0.1948 - val_accuracy: 0.9292\n",
      "Epoch 4/5\n",
      "12516/12516 [==============================] - 70s 6ms/step - loss: 0.2201 - accuracy: 0.9196 - val_loss: 0.1908 - val_accuracy: 0.9310\n",
      "Epoch 5/5\n",
      "12516/12516 [==============================] - 70s 6ms/step - loss: 0.2196 - accuracy: 0.9195 - val_loss: 0.1858 - val_accuracy: 0.9337\n",
      "3125/3125 [==============================] - 9s 3ms/step - loss: 0.1836 - accuracy: 0.9345\n",
      "WARNING:tensorflow:FOR KERAS USERS: The object that you are saving contains one or more Keras models or layers. If you are loading the SavedModel with `tf.keras.models.load_model`, continue reading (otherwise, you may ignore the following instructions). Please change your code to save with `tf.keras.models.save_model` or `model.save`, and confirm that the file \"keras.metadata\" exists in the export directory. In the future, Keras will only load the SavedModels that have this file. In other words, `tf.saved_model.save` will no longer write SavedModels that can be recovered as Keras models (this will apply in TF 2.5).\n",
      "\n",
      "FOR DEVS: If you are overwriting _tracking_metadata in your class, this property has been used to save metadata in the SavedModel. The metadta field will be deprecated soon, so please move the metadata to a different file.\n"
     ]
    },
    {
     "name": "stderr",
     "output_type": "stream",
     "text": [
      "WARNING:tensorflow:FOR KERAS USERS: The object that you are saving contains one or more Keras models or layers. If you are loading the SavedModel with `tf.keras.models.load_model`, continue reading (otherwise, you may ignore the following instructions). Please change your code to save with `tf.keras.models.save_model` or `model.save`, and confirm that the file \"keras.metadata\" exists in the export directory. In the future, Keras will only load the SavedModels that have this file. In other words, `tf.saved_model.save` will no longer write SavedModels that can be recovered as Keras models (this will apply in TF 2.5).\n",
      "\n",
      "FOR DEVS: If you are overwriting _tracking_metadata in your class, this property has been used to save metadata in the SavedModel. The metadta field will be deprecated soon, so please move the metadata to a different file.\n"
     ]
    },
    {
     "name": "stdout",
     "output_type": "stream",
     "text": [
      "INFO:tensorflow:Assets written to: /home/ML4NO/ML_DUNE/Classification/models_all/models_furthurTrain/0910_1_1/std=0.18873918221350977/assets\n"
     ]
    },
    {
     "name": "stderr",
     "output_type": "stream",
     "text": [
      "INFO:tensorflow:Assets written to: /home/ML4NO/ML_DUNE/Classification/models_all/models_furthurTrain/0910_1_1/std=0.18873918221350977/assets\n"
     ]
    },
    {
     "name": "stdout",
     "output_type": "stream",
     "text": [
      "3125/3125 [==============================] - 9s 3ms/step - loss: 0.1937 - accuracy: 0.9319\n",
      "Epoch 1/5\n",
      "12516/12516 [==============================] - 72s 6ms/step - loss: 0.2348 - accuracy: 0.9127 - val_loss: 0.2012 - val_accuracy: 0.9275\n",
      "Epoch 2/5\n",
      "12516/12516 [==============================] - 71s 6ms/step - loss: 0.2345 - accuracy: 0.9126 - val_loss: 0.1973 - val_accuracy: 0.9303\n",
      "Epoch 3/5\n",
      "12516/12516 [==============================] - 72s 6ms/step - loss: 0.2342 - accuracy: 0.9128 - val_loss: 0.2009 - val_accuracy: 0.9276\n",
      "Epoch 4/5\n",
      "12516/12516 [==============================] - 71s 6ms/step - loss: 0.2333 - accuracy: 0.9132 - val_loss: 0.1922 - val_accuracy: 0.9322\n",
      "Epoch 5/5\n",
      "12516/12516 [==============================] - 69s 6ms/step - loss: 0.2327 - accuracy: 0.9131 - val_loss: 0.2014 - val_accuracy: 0.9271\n",
      "3125/3125 [==============================] - 9s 3ms/step - loss: 0.2009 - accuracy: 0.9276\n",
      "WARNING:tensorflow:FOR KERAS USERS: The object that you are saving contains one or more Keras models or layers. If you are loading the SavedModel with `tf.keras.models.load_model`, continue reading (otherwise, you may ignore the following instructions). Please change your code to save with `tf.keras.models.save_model` or `model.save`, and confirm that the file \"keras.metadata\" exists in the export directory. In the future, Keras will only load the SavedModels that have this file. In other words, `tf.saved_model.save` will no longer write SavedModels that can be recovered as Keras models (this will apply in TF 2.5).\n",
      "\n",
      "FOR DEVS: If you are overwriting _tracking_metadata in your class, this property has been used to save metadata in the SavedModel. The metadta field will be deprecated soon, so please move the metadata to a different file.\n"
     ]
    },
    {
     "name": "stderr",
     "output_type": "stream",
     "text": [
      "WARNING:tensorflow:FOR KERAS USERS: The object that you are saving contains one or more Keras models or layers. If you are loading the SavedModel with `tf.keras.models.load_model`, continue reading (otherwise, you may ignore the following instructions). Please change your code to save with `tf.keras.models.save_model` or `model.save`, and confirm that the file \"keras.metadata\" exists in the export directory. In the future, Keras will only load the SavedModels that have this file. In other words, `tf.saved_model.save` will no longer write SavedModels that can be recovered as Keras models (this will apply in TF 2.5).\n",
      "\n",
      "FOR DEVS: If you are overwriting _tracking_metadata in your class, this property has been used to save metadata in the SavedModel. The metadta field will be deprecated soon, so please move the metadata to a different file.\n"
     ]
    },
    {
     "name": "stdout",
     "output_type": "stream",
     "text": [
      "INFO:tensorflow:Assets written to: /home/ML4NO/ML_DUNE/Classification/models_all/models_furthurTrain/0910_1_1/std=0.2395026619987486/assets\n"
     ]
    },
    {
     "name": "stderr",
     "output_type": "stream",
     "text": [
      "INFO:tensorflow:Assets written to: /home/ML4NO/ML_DUNE/Classification/models_all/models_furthurTrain/0910_1_1/std=0.2395026619987486/assets\n"
     ]
    },
    {
     "name": "stdout",
     "output_type": "stream",
     "text": [
      "3125/3125 [==============================] - 9s 3ms/step - loss: 0.2128 - accuracy: 0.9239\n",
      "Epoch 1/5\n",
      "12516/12516 [==============================] - 72s 6ms/step - loss: 0.2514 - accuracy: 0.9043 - val_loss: 0.2252 - val_accuracy: 0.9163\n",
      "Epoch 2/5\n",
      "12516/12516 [==============================] - 70s 6ms/step - loss: 0.2491 - accuracy: 0.9052 - val_loss: 0.2122 - val_accuracy: 0.9236\n",
      "Epoch 3/5\n",
      "12516/12516 [==============================] - 71s 6ms/step - loss: 0.2494 - accuracy: 0.9048 - val_loss: 0.2143 - val_accuracy: 0.9219\n",
      "Epoch 4/5\n",
      "12516/12516 [==============================] - 70s 6ms/step - loss: 0.2492 - accuracy: 0.9051 - val_loss: 0.2143 - val_accuracy: 0.9227\n",
      "Epoch 5/5\n",
      "12516/12516 [==============================] - 70s 6ms/step - loss: 0.2489 - accuracy: 0.9053 - val_loss: 0.2161 - val_accuracy: 0.9213\n",
      "3125/3125 [==============================] - 9s 3ms/step - loss: 0.2155 - accuracy: 0.9214\n",
      "WARNING:tensorflow:FOR KERAS USERS: The object that you are saving contains one or more Keras models or layers. If you are loading the SavedModel with `tf.keras.models.load_model`, continue reading (otherwise, you may ignore the following instructions). Please change your code to save with `tf.keras.models.save_model` or `model.save`, and confirm that the file \"keras.metadata\" exists in the export directory. In the future, Keras will only load the SavedModels that have this file. In other words, `tf.saved_model.save` will no longer write SavedModels that can be recovered as Keras models (this will apply in TF 2.5).\n",
      "\n",
      "FOR DEVS: If you are overwriting _tracking_metadata in your class, this property has been used to save metadata in the SavedModel. The metadta field will be deprecated soon, so please move the metadata to a different file.\n"
     ]
    },
    {
     "name": "stderr",
     "output_type": "stream",
     "text": [
      "WARNING:tensorflow:FOR KERAS USERS: The object that you are saving contains one or more Keras models or layers. If you are loading the SavedModel with `tf.keras.models.load_model`, continue reading (otherwise, you may ignore the following instructions). Please change your code to save with `tf.keras.models.save_model` or `model.save`, and confirm that the file \"keras.metadata\" exists in the export directory. In the future, Keras will only load the SavedModels that have this file. In other words, `tf.saved_model.save` will no longer write SavedModels that can be recovered as Keras models (this will apply in TF 2.5).\n",
      "\n",
      "FOR DEVS: If you are overwriting _tracking_metadata in your class, this property has been used to save metadata in the SavedModel. The metadta field will be deprecated soon, so please move the metadata to a different file.\n"
     ]
    },
    {
     "name": "stdout",
     "output_type": "stream",
     "text": [
      "INFO:tensorflow:Assets written to: /home/ML4NO/ML_DUNE/Classification/models_all/models_furthurTrain/0910_1_1/std=0.3039195382313198/assets\n"
     ]
    },
    {
     "name": "stderr",
     "output_type": "stream",
     "text": [
      "INFO:tensorflow:Assets written to: /home/ML4NO/ML_DUNE/Classification/models_all/models_furthurTrain/0910_1_1/std=0.3039195382313198/assets\n"
     ]
    },
    {
     "name": "stdout",
     "output_type": "stream",
     "text": [
      "3125/3125 [==============================] - 9s 3ms/step - loss: 0.2325 - accuracy: 0.9136\n",
      "Epoch 1/5\n",
      "12516/12516 [==============================] - 71s 6ms/step - loss: 0.2709 - accuracy: 0.8942 - val_loss: 0.2453 - val_accuracy: 0.9078\n",
      "Epoch 2/5\n",
      "12516/12516 [==============================] - 70s 6ms/step - loss: 0.2701 - accuracy: 0.8945 - val_loss: 0.2335 - val_accuracy: 0.9129\n",
      "Epoch 3/5\n",
      "12516/12516 [==============================] - 71s 6ms/step - loss: 0.2690 - accuracy: 0.8950 - val_loss: 0.2328 - val_accuracy: 0.9141\n",
      "Epoch 4/5\n",
      "12516/12516 [==============================] - 69s 6ms/step - loss: 0.2687 - accuracy: 0.8953 - val_loss: 0.2420 - val_accuracy: 0.9086\n",
      "Epoch 5/5\n",
      "12516/12516 [==============================] - 71s 6ms/step - loss: 0.2678 - accuracy: 0.8954 - val_loss: 0.2367 - val_accuracy: 0.9117\n",
      "3125/3125 [==============================] - 9s 3ms/step - loss: 0.2345 - accuracy: 0.9132\n",
      "WARNING:tensorflow:FOR KERAS USERS: The object that you are saving contains one or more Keras models or layers. If you are loading the SavedModel with `tf.keras.models.load_model`, continue reading (otherwise, you may ignore the following instructions). Please change your code to save with `tf.keras.models.save_model` or `model.save`, and confirm that the file \"keras.metadata\" exists in the export directory. In the future, Keras will only load the SavedModels that have this file. In other words, `tf.saved_model.save` will no longer write SavedModels that can be recovered as Keras models (this will apply in TF 2.5).\n",
      "\n",
      "FOR DEVS: If you are overwriting _tracking_metadata in your class, this property has been used to save metadata in the SavedModel. The metadta field will be deprecated soon, so please move the metadata to a different file.\n"
     ]
    },
    {
     "name": "stderr",
     "output_type": "stream",
     "text": [
      "WARNING:tensorflow:FOR KERAS USERS: The object that you are saving contains one or more Keras models or layers. If you are loading the SavedModel with `tf.keras.models.load_model`, continue reading (otherwise, you may ignore the following instructions). Please change your code to save with `tf.keras.models.save_model` or `model.save`, and confirm that the file \"keras.metadata\" exists in the export directory. In the future, Keras will only load the SavedModels that have this file. In other words, `tf.saved_model.save` will no longer write SavedModels that can be recovered as Keras models (this will apply in TF 2.5).\n",
      "\n",
      "FOR DEVS: If you are overwriting _tracking_metadata in your class, this property has been used to save metadata in the SavedModel. The metadta field will be deprecated soon, so please move the metadata to a different file.\n"
     ]
    },
    {
     "name": "stdout",
     "output_type": "stream",
     "text": [
      "INFO:tensorflow:Assets written to: /home/ML4NO/ML_DUNE/Classification/models_all/models_furthurTrain/0910_1_1/std=0.38566204211634725/assets\n"
     ]
    },
    {
     "name": "stderr",
     "output_type": "stream",
     "text": [
      "INFO:tensorflow:Assets written to: /home/ML4NO/ML_DUNE/Classification/models_all/models_furthurTrain/0910_1_1/std=0.38566204211634725/assets\n"
     ]
    },
    {
     "name": "stdout",
     "output_type": "stream",
     "text": [
      "3125/3125 [==============================] - 9s 3ms/step - loss: 0.2592 - accuracy: 0.8997\n",
      "Epoch 1/5\n",
      "12516/12516 [==============================] - 71s 6ms/step - loss: 0.2932 - accuracy: 0.8822 - val_loss: 0.2573 - val_accuracy: 0.9014\n",
      "Epoch 2/5\n",
      "12516/12516 [==============================] - 70s 6ms/step - loss: 0.2911 - accuracy: 0.8832 - val_loss: 0.2588 - val_accuracy: 0.9007\n",
      "Epoch 3/5\n",
      "12516/12516 [==============================] - 72s 6ms/step - loss: 0.2916 - accuracy: 0.8829 - val_loss: 0.2550 - val_accuracy: 0.9019\n",
      "Epoch 4/5\n",
      "12516/12516 [==============================] - 70s 6ms/step - loss: 0.2901 - accuracy: 0.8836 - val_loss: 0.2643 - val_accuracy: 0.8972\n",
      "Epoch 5/5\n",
      "12516/12516 [==============================] - 70s 6ms/step - loss: 0.2891 - accuracy: 0.8843 - val_loss: 0.2562 - val_accuracy: 0.9014\n",
      "3125/3125 [==============================] - 9s 3ms/step - loss: 0.2574 - accuracy: 0.9007\n",
      "WARNING:tensorflow:FOR KERAS USERS: The object that you are saving contains one or more Keras models or layers. If you are loading the SavedModel with `tf.keras.models.load_model`, continue reading (otherwise, you may ignore the following instructions). Please change your code to save with `tf.keras.models.save_model` or `model.save`, and confirm that the file \"keras.metadata\" exists in the export directory. In the future, Keras will only load the SavedModels that have this file. In other words, `tf.saved_model.save` will no longer write SavedModels that can be recovered as Keras models (this will apply in TF 2.5).\n",
      "\n",
      "FOR DEVS: If you are overwriting _tracking_metadata in your class, this property has been used to save metadata in the SavedModel. The metadta field will be deprecated soon, so please move the metadata to a different file.\n"
     ]
    },
    {
     "name": "stderr",
     "output_type": "stream",
     "text": [
      "WARNING:tensorflow:FOR KERAS USERS: The object that you are saving contains one or more Keras models or layers. If you are loading the SavedModel with `tf.keras.models.load_model`, continue reading (otherwise, you may ignore the following instructions). Please change your code to save with `tf.keras.models.save_model` or `model.save`, and confirm that the file \"keras.metadata\" exists in the export directory. In the future, Keras will only load the SavedModels that have this file. In other words, `tf.saved_model.save` will no longer write SavedModels that can be recovered as Keras models (this will apply in TF 2.5).\n",
      "\n",
      "FOR DEVS: If you are overwriting _tracking_metadata in your class, this property has been used to save metadata in the SavedModel. The metadta field will be deprecated soon, so please move the metadata to a different file.\n"
     ]
    },
    {
     "name": "stdout",
     "output_type": "stream",
     "text": [
      "INFO:tensorflow:Assets written to: /home/ML4NO/ML_DUNE/Classification/models_all/models_furthurTrain/0910_1_1/std=0.4893900918477494/assets\n"
     ]
    },
    {
     "name": "stderr",
     "output_type": "stream",
     "text": [
      "INFO:tensorflow:Assets written to: /home/ML4NO/ML_DUNE/Classification/models_all/models_furthurTrain/0910_1_1/std=0.4893900918477494/assets\n"
     ]
    },
    {
     "name": "stdout",
     "output_type": "stream",
     "text": [
      "3125/3125 [==============================] - 9s 3ms/step - loss: 0.2823 - accuracy: 0.8885\n",
      "Epoch 1/5\n",
      "12516/12516 [==============================] - 72s 6ms/step - loss: 0.3168 - accuracy: 0.8694 - val_loss: 0.2791 - val_accuracy: 0.8906\n",
      "Epoch 2/5\n",
      "12516/12516 [==============================] - 70s 6ms/step - loss: 0.3160 - accuracy: 0.8697 - val_loss: 0.2825 - val_accuracy: 0.8878\n",
      "Epoch 3/5\n",
      "12516/12516 [==============================] - 71s 6ms/step - loss: 0.3151 - accuracy: 0.8700 - val_loss: 0.2760 - val_accuracy: 0.8922\n",
      "Epoch 4/5\n",
      "12516/12516 [==============================] - 71s 6ms/step - loss: 0.3131 - accuracy: 0.8712 - val_loss: 0.2789 - val_accuracy: 0.8907\n",
      "Epoch 5/5\n",
      "12516/12516 [==============================] - 71s 6ms/step - loss: 0.3128 - accuracy: 0.8716 - val_loss: 0.2811 - val_accuracy: 0.8885\n",
      "3125/3125 [==============================] - 10s 3ms/step - loss: 0.2796 - accuracy: 0.8892\n",
      "WARNING:tensorflow:FOR KERAS USERS: The object that you are saving contains one or more Keras models or layers. If you are loading the SavedModel with `tf.keras.models.load_model`, continue reading (otherwise, you may ignore the following instructions). Please change your code to save with `tf.keras.models.save_model` or `model.save`, and confirm that the file \"keras.metadata\" exists in the export directory. In the future, Keras will only load the SavedModels that have this file. In other words, `tf.saved_model.save` will no longer write SavedModels that can be recovered as Keras models (this will apply in TF 2.5).\n",
      "\n",
      "FOR DEVS: If you are overwriting _tracking_metadata in your class, this property has been used to save metadata in the SavedModel. The metadta field will be deprecated soon, so please move the metadata to a different file.\n"
     ]
    },
    {
     "name": "stderr",
     "output_type": "stream",
     "text": [
      "WARNING:tensorflow:FOR KERAS USERS: The object that you are saving contains one or more Keras models or layers. If you are loading the SavedModel with `tf.keras.models.load_model`, continue reading (otherwise, you may ignore the following instructions). Please change your code to save with `tf.keras.models.save_model` or `model.save`, and confirm that the file \"keras.metadata\" exists in the export directory. In the future, Keras will only load the SavedModels that have this file. In other words, `tf.saved_model.save` will no longer write SavedModels that can be recovered as Keras models (this will apply in TF 2.5).\n",
      "\n",
      "FOR DEVS: If you are overwriting _tracking_metadata in your class, this property has been used to save metadata in the SavedModel. The metadta field will be deprecated soon, so please move the metadata to a different file.\n"
     ]
    },
    {
     "name": "stdout",
     "output_type": "stream",
     "text": [
      "INFO:tensorflow:Assets written to: /home/ML4NO/ML_DUNE/Classification/models_all/models_furthurTrain/0910_1_1/std=0.6210169418915616/assets\n"
     ]
    },
    {
     "name": "stderr",
     "output_type": "stream",
     "text": [
      "INFO:tensorflow:Assets written to: /home/ML4NO/ML_DUNE/Classification/models_all/models_furthurTrain/0910_1_1/std=0.6210169418915616/assets\n"
     ]
    },
    {
     "name": "stdout",
     "output_type": "stream",
     "text": [
      "3125/3125 [==============================] - 9s 3ms/step - loss: 0.3075 - accuracy: 0.8750\n",
      "Epoch 1/5\n",
      "12516/12516 [==============================] - 71s 6ms/step - loss: 0.3449 - accuracy: 0.8537 - val_loss: 0.3038 - val_accuracy: 0.8777\n",
      "Epoch 2/5\n",
      "12516/12516 [==============================] - 71s 6ms/step - loss: 0.3422 - accuracy: 0.8552 - val_loss: 0.3057 - val_accuracy: 0.8757\n",
      "Epoch 3/5\n",
      "12516/12516 [==============================] - 71s 6ms/step - loss: 0.3405 - accuracy: 0.8558 - val_loss: 0.3021 - val_accuracy: 0.8773\n",
      "Epoch 4/5\n",
      "12516/12516 [==============================] - 71s 6ms/step - loss: 0.3397 - accuracy: 0.8562 - val_loss: 0.2990 - val_accuracy: 0.8803\n",
      "Epoch 5/5\n",
      "12516/12516 [==============================] - 70s 6ms/step - loss: 0.3384 - accuracy: 0.8571 - val_loss: 0.2990 - val_accuracy: 0.8784\n",
      "3125/3125 [==============================] - 10s 3ms/step - loss: 0.3001 - accuracy: 0.8780\n",
      "WARNING:tensorflow:FOR KERAS USERS: The object that you are saving contains one or more Keras models or layers. If you are loading the SavedModel with `tf.keras.models.load_model`, continue reading (otherwise, you may ignore the following instructions). Please change your code to save with `tf.keras.models.save_model` or `model.save`, and confirm that the file \"keras.metadata\" exists in the export directory. In the future, Keras will only load the SavedModels that have this file. In other words, `tf.saved_model.save` will no longer write SavedModels that can be recovered as Keras models (this will apply in TF 2.5).\n",
      "\n",
      "FOR DEVS: If you are overwriting _tracking_metadata in your class, this property has been used to save metadata in the SavedModel. The metadta field will be deprecated soon, so please move the metadata to a different file.\n"
     ]
    },
    {
     "name": "stderr",
     "output_type": "stream",
     "text": [
      "WARNING:tensorflow:FOR KERAS USERS: The object that you are saving contains one or more Keras models or layers. If you are loading the SavedModel with `tf.keras.models.load_model`, continue reading (otherwise, you may ignore the following instructions). Please change your code to save with `tf.keras.models.save_model` or `model.save`, and confirm that the file \"keras.metadata\" exists in the export directory. In the future, Keras will only load the SavedModels that have this file. In other words, `tf.saved_model.save` will no longer write SavedModels that can be recovered as Keras models (this will apply in TF 2.5).\n",
      "\n",
      "FOR DEVS: If you are overwriting _tracking_metadata in your class, this property has been used to save metadata in the SavedModel. The metadta field will be deprecated soon, so please move the metadata to a different file.\n"
     ]
    },
    {
     "name": "stdout",
     "output_type": "stream",
     "text": [
      "INFO:tensorflow:Assets written to: /home/ML4NO/ML_DUNE/Classification/models_all/models_furthurTrain/0910_1_1/std=0.7880462815669912/assets\n"
     ]
    },
    {
     "name": "stderr",
     "output_type": "stream",
     "text": [
      "INFO:tensorflow:Assets written to: /home/ML4NO/ML_DUNE/Classification/models_all/models_furthurTrain/0910_1_1/std=0.7880462815669912/assets\n"
     ]
    },
    {
     "name": "stdout",
     "output_type": "stream",
     "text": [
      "3125/3125 [==============================] - 10s 3ms/step - loss: 0.3302 - accuracy: 0.8621\n",
      "Epoch 1/5\n",
      "12516/12516 [==============================] - 71s 6ms/step - loss: 0.3721 - accuracy: 0.8382 - val_loss: 0.3289 - val_accuracy: 0.8630\n",
      "Epoch 2/5\n",
      "12516/12516 [==============================] - 70s 6ms/step - loss: 0.3697 - accuracy: 0.8394 - val_loss: 0.3307 - val_accuracy: 0.8627\n",
      "Epoch 3/5\n",
      "12516/12516 [==============================] - 70s 6ms/step - loss: 0.3690 - accuracy: 0.8395 - val_loss: 0.3194 - val_accuracy: 0.8685\n",
      "Epoch 4/5\n",
      "12516/12516 [==============================] - 70s 6ms/step - loss: 0.3694 - accuracy: 0.8390 - val_loss: 0.3220 - val_accuracy: 0.8667\n",
      "Epoch 5/5\n",
      "12516/12516 [==============================] - 70s 6ms/step - loss: 0.3684 - accuracy: 0.8395 - val_loss: 0.3240 - val_accuracy: 0.8662\n",
      "3125/3125 [==============================] - 9s 3ms/step - loss: 0.3238 - accuracy: 0.8660\n",
      "WARNING:tensorflow:FOR KERAS USERS: The object that you are saving contains one or more Keras models or layers. If you are loading the SavedModel with `tf.keras.models.load_model`, continue reading (otherwise, you may ignore the following instructions). Please change your code to save with `tf.keras.models.save_model` or `model.save`, and confirm that the file \"keras.metadata\" exists in the export directory. In the future, Keras will only load the SavedModels that have this file. In other words, `tf.saved_model.save` will no longer write SavedModels that can be recovered as Keras models (this will apply in TF 2.5).\n",
      "\n",
      "FOR DEVS: If you are overwriting _tracking_metadata in your class, this property has been used to save metadata in the SavedModel. The metadta field will be deprecated soon, so please move the metadata to a different file.\n"
     ]
    },
    {
     "name": "stderr",
     "output_type": "stream",
     "text": [
      "WARNING:tensorflow:FOR KERAS USERS: The object that you are saving contains one or more Keras models or layers. If you are loading the SavedModel with `tf.keras.models.load_model`, continue reading (otherwise, you may ignore the following instructions). Please change your code to save with `tf.keras.models.save_model` or `model.save`, and confirm that the file \"keras.metadata\" exists in the export directory. In the future, Keras will only load the SavedModels that have this file. In other words, `tf.saved_model.save` will no longer write SavedModels that can be recovered as Keras models (this will apply in TF 2.5).\n",
      "\n",
      "FOR DEVS: If you are overwriting _tracking_metadata in your class, this property has been used to save metadata in the SavedModel. The metadta field will be deprecated soon, so please move the metadata to a different file.\n"
     ]
    },
    {
     "name": "stdout",
     "output_type": "stream",
     "text": [
      "INFO:tensorflow:Assets written to: /home/ML4NO/ML_DUNE/Classification/models_all/models_furthurTrain/0910_1_1/std=1.0/assets\n"
     ]
    },
    {
     "name": "stderr",
     "output_type": "stream",
     "text": [
      "INFO:tensorflow:Assets written to: /home/ML4NO/ML_DUNE/Classification/models_all/models_furthurTrain/0910_1_1/std=1.0/assets\n"
     ]
    }
   ],
   "source": [
    "scale_steps = np.logspace(-3, 0, 30)\n",
    "before_train_loss = []\n",
    "after_train_loss = []\n",
    "\n",
    "for scale in scale_steps:\n",
    "    log_dir = \"logs/all/{}_{}(std={})\".format(model_index, furthur_index, scale)\n",
    "    tensorboard_callback = tf.keras.callbacks.TensorBoard(log_dir=log_dir, histogram_freq=1)\n",
    "    x_train2_gen = np.random.normal(x_train2, np.sqrt(x_train2)*scale)\n",
    "    x_test_gen = np.random.normal(x_test, np.sqrt(x_test)*scale)\n",
    "\n",
    "    before_train_loss.append(model.evaluate(x_test_gen, y_test)[0])\n",
    "\n",
    "    model.fit(x_train2_gen, y_train2,\n",
    "               validation_split = 0.1,\n",
    "               callbacks=[tensorboard_callback],\n",
    "               batch_size=64,\n",
    "               epochs=5,\n",
    "               verbose=1,\n",
    "               shuffle = True\n",
    "             )\n",
    "\n",
    "    after_train_loss.append(model.evaluate(x_test_gen, y_test)[0])\n",
    "    model.save(path.format(model_index, furthur_index) + '/std={}'.format(scale))"
   ]
  },
  {
   "cell_type": "code",
   "execution_count": null,
   "metadata": {},
   "outputs": [],
   "source": [
    "path = '/home/ML4NO/ML_DUNE/Classification/models_all/models_furthurTrain/0910_{}_{}.h5'\n",
    "model.save(path.format(model_index, furthur_index))\n",
    "df = pd.DataFrame({'scale_steps': scale_steps,\n",
    "           'before_train_loss': before_train_loss,\n",
    "           'after_train_loss': after_train_loss})\n",
    "df.to_csv(file = '/home/ML4NO/ML_DUNE/Classification/models_all/models_furthurTrain/0910_{}_{}_result.npy'.format(model_index, index))"
   ]
  },
  {
   "cell_type": "code",
   "execution_count": null,
   "metadata": {},
   "outputs": [],
   "source": [
    "x_test2_gen = np.random.poisson(x_test)\n",
    "\n",
    "for i in range(20):\n",
    "    x_train2_gen = np.random.poisson(x_train2)\n",
    "    \n",
    "    model.fit(x_train2_gen, y_train2,\n",
    "              validation_split=0.1,\n",
    "               batch_size=64,\n",
    "               epochs=1,\n",
    "               verbose=1,\n",
    "               shuffle = True\n",
    "             )\n",
    "model.evaluate(x_test2_gen, y_test)"
   ]
  },
  {
   "cell_type": "code",
   "execution_count": null,
   "metadata": {},
   "outputs": [],
   "source": [
    "Poisson_index = 1\n",
    "path = '/home/ML4NO/ML_DUNE/Classification/models_all/models_PoissonTrain/0910_{}_{}_{}.h5'\n",
    "while os.path.isfile(path.format(model_index, furthur_index, Poisson_index)):\n",
    "    index += 1\n",
    "model.save(path.format(model_index, furthur_index, index))"
   ]
  }
 ],
 "metadata": {
  "kernelspec": {
   "display_name": "Python 3",
   "language": "python",
   "name": "python3"
  },
  "language_info": {
   "codemirror_mode": {
    "name": "ipython",
    "version": 3
   },
   "file_extension": ".py",
   "mimetype": "text/x-python",
   "name": "python",
   "nbconvert_exporter": "python",
   "pygments_lexer": "ipython3",
   "version": "3.6.9"
  }
 },
 "nbformat": 4,
 "nbformat_minor": 4
}
