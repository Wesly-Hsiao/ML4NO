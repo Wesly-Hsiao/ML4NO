{
 "cells": [
  {
   "cell_type": "code",
   "execution_count": 1,
   "metadata": {
    "tags": []
   },
   "outputs": [],
   "source": [
    "import numpy as np\n",
    "import matplotlib.pyplot as plt\n",
    "import autokeras as ak\n",
    "import tensorflow as tf\n",
    "import os"
   ]
  },
  {
   "cell_type": "code",
   "execution_count": 2,
   "metadata": {},
   "outputs": [],
   "source": [
    "import tensorflow.keras as keras\n",
    "from tensorflow.keras.models import Sequential, load_model\n",
    "from tensorflow.keras.layers import Dense, Dropout, Flatten, Convolution2D, MaxPooling2D , Lambda, Conv2D, Activation,Concatenate\n",
    "from tensorflow.keras.layers import ActivityRegularization, BatchNormalization\n",
    "from tensorflow.keras.optimizers import Adam , SGD , Adagrad\n",
    "from tensorflow.keras.callbacks import ModelCheckpoint, LearningRateScheduler, EarlyStopping, CSVLogger, ReduceLROnPlateau\n",
    "from tensorflow.keras.utils import to_categorical\n",
    "from tensorflow.keras import regularizers , initializers\n",
    "from tensorflow.keras.models import Model\n",
    "from tensorflow.keras.preprocessing.image import ImageDataGenerator\n",
    "from tensorflow.keras.preprocessing.image import NumpyArrayIterator\n",
    "from sklearn.preprocessing import StandardScaler\n",
    "from tensorflow.keras import backend as K"
   ]
  },
  {
   "cell_type": "code",
   "execution_count": 3,
   "metadata": {},
   "outputs": [],
   "source": [
    "import logging\n",
    "\n",
    "logging.basicConfig(level = logging.INFO)\n",
    "\n",
    "gpus = tf.config.experimental.list_physical_devices('GPU')\n",
    "# if gpus:\n",
    "#   # Restrict TensorFlow to only use the first GPU\n",
    "try:\n",
    "    tf.config.experimental.set_visible_devices(gpus[0], 'GPU')\n",
    "    tf.config.experimental.set_virtual_device_configuration(\n",
    "    gpus[0],\n",
    "    [tf.config.experimental.VirtualDeviceConfiguration(memory_limit=5000)])\n",
    "    logical_gpus = tf.config.experimental.list_logical_devices('GPU')\n",
    "#     logging.info(len(gpus), \"Physical GPUs,\", len(logical_gpus), \"Logical GPU\")\n",
    "except RuntimeError as e:\n",
    "# Visible devices must be set before GPUs have been initialized\n",
    "    logging.info(e)"
   ]
  },
  {
   "cell_type": "code",
   "execution_count": 6,
   "metadata": {
    "tags": []
   },
   "outputs": [],
   "source": [
    "exposure = ''\n",
    "data = np.load('/home/ML4NO/Data/n1000000{}_0910_classification.npz'.format(exposure))"
   ]
  },
  {
   "cell_type": "code",
   "execution_count": 7,
   "metadata": {},
   "outputs": [],
   "source": [
    "data_selection = 1 # 0 for all, 1 for lowE(<5GeV), 2 for high(>5GeV)\n",
    "\n",
    "if data_selection == 0:\n",
    "    data_all = np.column_stack([data['ve_dune'], data['vu_dune'], data['vebar_dune'], data['vubar_dune']])\n",
    "    directory = './models_all_sigmoid/'\n",
    "elif data_selection == 1:\n",
    "    data_all = np.column_stack([data['ve_dune'][:,:36], data['vu_dune'][:,:36], data['vebar_dune'][:,:36], data['vubar_dune'][:,:36]])\n",
    "    directory = './models_lowE_sigmoid/'\n",
    "elif data_selection == 2:\n",
    "    data_all = np.column_stack([data['ve_dune'][:,36:], data['vu_dune'][:,36:], data['vebar_dune'][:,36:], data['vubar_dune'][:,36:]])\n",
    "    directory = './models_highE_sigmoid/'\n",
    "target = data['cpv']\n",
    "\n",
    "x_train = data_all[:10000]\n",
    "y_train = target[:10000]\n",
    "x_train2 = data_all[10000:900000]\n",
    "y_train2 = target[10000:900000]\n",
    "x_test = data_all[900000:]\n",
    "y_test = target[900000:]"
   ]
  },
  {
   "cell_type": "code",
   "execution_count": 9,
   "metadata": {},
   "outputs": [],
   "source": [
    "def DNN_Model(name):\n",
    "    model_DNN = Sequential(name = \"Model_DNN_\"+str(name))  \n",
    "    model_DNN.add(keras.Input(shape=(len(x_train[0]),), name = 'input'))\n",
    "    model_DNN.add(BatchNormalization(name = 'BatchNormalization'))\n",
    "    model_DNN.add(Dense(1024, activation='relu', name = 'dense_1'))\n",
    "    model_DNN.add(Dense(1024, activation='relu', name = 'dense_2'))\n",
    "    model_DNN.add(Dense(1024, activation='relu', name = 'dense_3'))\n",
    "    model_DNN.add(Dense(1024, activation='relu', name = 'dense_4'))\n",
    "    model_DNN.add(Dense(1024, activation='relu', name = 'dense_5'))\n",
    "    model_DNN.add(Dense(1024, activation='relu', name = 'dense_6'))\n",
    "    model_DNN.add(Dense(1, activation='sigmoid', name = 'output'))\n",
    "    model_opt = keras.optimizers.Adam()\n",
    "    model_DNN.compile(loss=\"binary_crossentropy\",\n",
    "                              optimizer=model_opt,\n",
    "                              metrics=['accuracy'])\n",
    "    model_DNN.summary()\n",
    "    return model_DNN"
   ]
  },
  {
   "cell_type": "code",
   "execution_count": 10,
   "metadata": {},
   "outputs": [
    {
     "name": "stdout",
     "output_type": "stream",
     "text": [
      "Model: \"Model_DNN_classification\"\n",
      "_________________________________________________________________\n",
      "Layer (type)                 Output Shape              Param #   \n",
      "=================================================================\n",
      "BatchNormalization (BatchNor (None, 144)               576       \n",
      "_________________________________________________________________\n",
      "dense_1 (Dense)              (None, 1024)              148480    \n",
      "_________________________________________________________________\n",
      "dense_2 (Dense)              (None, 1024)              1049600   \n",
      "_________________________________________________________________\n",
      "dense_3 (Dense)              (None, 1024)              1049600   \n",
      "_________________________________________________________________\n",
      "dense_4 (Dense)              (None, 1024)              1049600   \n",
      "_________________________________________________________________\n",
      "dense_5 (Dense)              (None, 1024)              1049600   \n",
      "_________________________________________________________________\n",
      "dense_6 (Dense)              (None, 1024)              1049600   \n",
      "_________________________________________________________________\n",
      "output (Dense)               (None, 1)                 1025      \n",
      "=================================================================\n",
      "Total params: 5,398,081\n",
      "Trainable params: 5,397,793\n",
      "Non-trainable params: 288\n",
      "_________________________________________________________________\n"
     ]
    }
   ],
   "source": [
    "model = DNN_Model(\"classification\")"
   ]
  },
  {
   "cell_type": "code",
   "execution_count": 11,
   "metadata": {},
   "outputs": [
    {
     "name": "stdout",
     "output_type": "stream",
     "text": [
      "Epoch 1/5\n",
      "12516/12516 [==============================] - 80s 6ms/step - loss: 0.2786 - accuracy: 0.8961 - val_loss: 0.1687 - val_accuracy: 0.9393\n",
      "Epoch 2/5\n",
      "12516/12516 [==============================] - 80s 6ms/step - loss: 0.2023 - accuracy: 0.9302 - val_loss: 0.1449 - val_accuracy: 0.9519\n",
      "Epoch 3/5\n",
      "12516/12516 [==============================] - 79s 6ms/step - loss: 0.2116 - accuracy: 0.9285 - val_loss: 0.2415 - val_accuracy: 0.9110\n",
      "Epoch 4/5\n",
      "12516/12516 [==============================] - 79s 6ms/step - loss: 0.2034 - accuracy: 0.9302 - val_loss: 0.1785 - val_accuracy: 0.9366\n",
      "Epoch 5/5\n",
      "12516/12516 [==============================] - 79s 6ms/step - loss: 0.1956 - accuracy: 0.9330 - val_loss: 0.1579 - val_accuracy: 0.9444\n"
     ]
    },
    {
     "data": {
      "text/plain": [
       "<tensorflow.python.keras.callbacks.History at 0x7f94501aa978>"
      ]
     },
     "execution_count": 11,
     "metadata": {},
     "output_type": "execute_result"
    }
   ],
   "source": [
    "model.fit(x_train2, y_train2,\n",
    "           validation_split = 0.1,\n",
    "           batch_size=64,\n",
    "           epochs=5,\n",
    "           verbose=1,\n",
    "           shuffle = True\n",
    "         )"
   ]
  },
  {
   "cell_type": "code",
   "execution_count": 13,
   "metadata": {
    "tags": []
   },
   "outputs": [],
   "source": [
    "model_index = 1\n",
    "while os.path.isfile(directory + 'models/0910{}_{}.h5'.format(exposure, model_index)):\n",
    "    model_index += 1\n",
    "model.save(directory + 'models/0910{}_{}.h5'.format(exposure, model_index), overwrite=False)"
   ]
  },
  {
   "cell_type": "code",
   "execution_count": 14,
   "metadata": {},
   "outputs": [],
   "source": [
    "furthur_index = 1\n",
    "path = directory + 'models_furthurTrain/0910{}_{}_{}'\n",
    "while os.path.isdir(path.format(exposure, model_index, furthur_index)):\n",
    "    furthur_index += 1"
   ]
  },
  {
   "cell_type": "code",
   "execution_count": 15,
   "metadata": {},
   "outputs": [
    {
     "name": "stdout",
     "output_type": "stream",
     "text": [
      "3125/3125 [==============================] - 10s 3ms/step - loss: 0.1557 - accuracy: 0.9452\n",
      "Epoch 1/5\n",
      "12516/12516 [==============================] - 79s 6ms/step - loss: 0.1948 - accuracy: 0.9334 - val_loss: 0.1985 - val_accuracy: 0.9284\n",
      "Epoch 2/5\n",
      "12516/12516 [==============================] - 79s 6ms/step - loss: 0.1920 - accuracy: 0.9348 - val_loss: 0.1979 - val_accuracy: 0.9240\n",
      "Epoch 3/5\n",
      "12516/12516 [==============================] - 79s 6ms/step - loss: 0.1950 - accuracy: 0.9325 - val_loss: 0.1634 - val_accuracy: 0.9460\n",
      "Epoch 4/5\n",
      "12516/12516 [==============================] - 79s 6ms/step - loss: 0.1932 - accuracy: 0.9359 - val_loss: 0.1487 - val_accuracy: 0.9498\n",
      "Epoch 5/5\n",
      "12516/12516 [==============================] - 80s 6ms/step - loss: 0.1894 - accuracy: 0.9354 - val_loss: 0.1707 - val_accuracy: 0.9405\n",
      "3125/3125 [==============================] - 10s 3ms/step - loss: 0.1689 - accuracy: 0.9413\n",
      "3125/3125 [==============================] - 10s 3ms/step - loss: 0.1689 - accuracy: 0.9413\n",
      "Epoch 1/5\n",
      "12516/12516 [==============================] - 79s 6ms/step - loss: 0.2091 - accuracy: 0.9364 - val_loss: 0.1555 - val_accuracy: 0.9465\n",
      "Epoch 2/5\n",
      "12516/12516 [==============================] - 79s 6ms/step - loss: 0.1914 - accuracy: 0.9354 - val_loss: 0.1494 - val_accuracy: 0.9502\n",
      "Epoch 3/5\n",
      "12516/12516 [==============================] - 79s 6ms/step - loss: 0.1913 - accuracy: 0.9351 - val_loss: 0.2035 - val_accuracy: 0.9268\n",
      "Epoch 4/5\n",
      "12516/12516 [==============================] - 81s 6ms/step - loss: 0.2165 - accuracy: 0.9335 - val_loss: 0.1964 - val_accuracy: 0.9324\n",
      "Epoch 5/5\n",
      "12516/12516 [==============================] - 80s 6ms/step - loss: 0.2091 - accuracy: 0.9317 - val_loss: 0.1548 - val_accuracy: 0.9444\n",
      "3125/3125 [==============================] - 10s 3ms/step - loss: 0.1518 - accuracy: 0.9457\n",
      "3125/3125 [==============================] - 10s 3ms/step - loss: 0.1518 - accuracy: 0.9455\n",
      "Epoch 1/5\n",
      "12516/12516 [==============================] - 80s 6ms/step - loss: 0.2136 - accuracy: 0.9317 - val_loss: 0.1338 - val_accuracy: 0.9531\n",
      "Epoch 2/5\n",
      "12516/12516 [==============================] - 79s 6ms/step - loss: 0.1938 - accuracy: 0.9348 - val_loss: 0.2539 - val_accuracy: 0.9062\n",
      "Epoch 3/5\n",
      "12516/12516 [==============================] - 79s 6ms/step - loss: 0.1940 - accuracy: 0.9349 - val_loss: 0.1426 - val_accuracy: 0.9505\n",
      "Epoch 4/5\n",
      "12516/12516 [==============================] - 81s 6ms/step - loss: 0.2279 - accuracy: 0.9332 - val_loss: 0.1432 - val_accuracy: 0.9503\n",
      "Epoch 5/5\n",
      "12516/12516 [==============================] - 79s 6ms/step - loss: 0.1954 - accuracy: 0.9340 - val_loss: 0.1529 - val_accuracy: 0.9469\n",
      "3125/3125 [==============================] - 10s 3ms/step - loss: 0.1503 - accuracy: 0.9479\n",
      "3125/3125 [==============================] - 10s 3ms/step - loss: 0.1503 - accuracy: 0.9479\n",
      "Epoch 1/5\n",
      "12516/12516 [==============================] - 79s 6ms/step - loss: 0.2014 - accuracy: 0.9336 - val_loss: 0.1490 - val_accuracy: 0.9479\n",
      "Epoch 2/5\n",
      "12516/12516 [==============================] - 79s 6ms/step - loss: 0.2002 - accuracy: 0.9326 - val_loss: 0.1430 - val_accuracy: 0.9497\n",
      "Epoch 3/5\n",
      "12516/12516 [==============================] - 79s 6ms/step - loss: 0.3807 - accuracy: 0.8438 - val_loss: 0.3463 - val_accuracy: 0.8532\n",
      "Epoch 4/5\n",
      "12516/12516 [==============================] - 79s 6ms/step - loss: 0.4679 - accuracy: 0.8473 - val_loss: 0.3328 - val_accuracy: 0.8627\n",
      "Epoch 5/5\n",
      "12516/12516 [==============================] - 79s 6ms/step - loss: 0.4990 - accuracy: 0.7423 - val_loss: 0.5428 - val_accuracy: 0.6862\n",
      "3125/3125 [==============================] - 10s 3ms/step - loss: 0.5417 - accuracy: 0.6882\n",
      "3125/3125 [==============================] - 10s 3ms/step - loss: 0.5416 - accuracy: 0.6883\n",
      "Epoch 1/5\n",
      "12516/12516 [==============================] - 79s 6ms/step - loss: 0.5748 - accuracy: 0.6655 - val_loss: 0.5434 - val_accuracy: 0.6856\n",
      "Epoch 2/5\n",
      "12516/12516 [==============================] - 80s 6ms/step - loss: 0.5916 - accuracy: 0.6777 - val_loss: 0.5368 - val_accuracy: 0.6921\n",
      "Epoch 3/5\n",
      "12516/12516 [==============================] - 79s 6ms/step - loss: 0.5010 - accuracy: 0.7348 - val_loss: 0.5056 - val_accuracy: 0.7237\n",
      "Epoch 4/5\n",
      "12516/12516 [==============================] - 80s 6ms/step - loss: 0.4691 - accuracy: 0.7883 - val_loss: 0.3448 - val_accuracy: 0.8543\n",
      "Epoch 5/5\n",
      "12516/12516 [==============================] - 80s 6ms/step - loss: 0.3842 - accuracy: 0.8693 - val_loss: 0.3623 - val_accuracy: 0.8421\n",
      "3125/3125 [==============================] - 10s 3ms/step - loss: 0.3651 - accuracy: 0.8404\n",
      "3125/3125 [==============================] - 10s 3ms/step - loss: 0.3651 - accuracy: 0.8404\n",
      "Epoch 1/5\n",
      "12516/12516 [==============================] - 79s 6ms/step - loss: 0.3669 - accuracy: 0.8655 - val_loss: 0.4276 - val_accuracy: 0.7928\n",
      "Epoch 2/5\n",
      "12516/12516 [==============================] - 79s 6ms/step - loss: 0.4295 - accuracy: 0.8396 - val_loss: 0.3287 - val_accuracy: 0.8647\n",
      "Epoch 3/5\n",
      "12516/12516 [==============================] - 79s 6ms/step - loss: 0.5509 - accuracy: 0.8386 - val_loss: 0.2974 - val_accuracy: 0.8845\n",
      "Epoch 4/5\n",
      "12516/12516 [==============================] - 80s 6ms/step - loss: 0.3319 - accuracy: 0.8760 - val_loss: 0.3360 - val_accuracy: 0.8601\n",
      "Epoch 5/5\n",
      "12516/12516 [==============================] - 79s 6ms/step - loss: 0.3484 - accuracy: 0.8614 - val_loss: 0.2942 - val_accuracy: 0.8862\n",
      "3125/3125 [==============================] - 10s 3ms/step - loss: 0.2950 - accuracy: 0.8859\n",
      "3125/3125 [==============================] - 10s 3ms/step - loss: 0.2949 - accuracy: 0.8860\n",
      "Epoch 1/5\n",
      "12516/12516 [==============================] - 79s 6ms/step - loss: 0.4177 - accuracy: 0.8748 - val_loss: 0.2637 - val_accuracy: 0.9037\n",
      "Epoch 2/5\n",
      "12516/12516 [==============================] - 78s 6ms/step - loss: 0.3028 - accuracy: 0.8929 - val_loss: 0.2469 - val_accuracy: 0.9127\n",
      "Epoch 3/5\n",
      "12516/12516 [==============================] - 79s 6ms/step - loss: 0.2260 - accuracy: 0.9274 - val_loss: 0.2012 - val_accuracy: 0.9250\n",
      "Epoch 4/5\n",
      "12516/12516 [==============================] - 79s 6ms/step - loss: 0.2188 - accuracy: 0.9306 - val_loss: 0.2348 - val_accuracy: 0.9351\n",
      "Epoch 5/5\n",
      "12516/12516 [==============================] - 79s 6ms/step - loss: 0.2103 - accuracy: 0.9331 - val_loss: 0.1448 - val_accuracy: 0.9509\n",
      "3125/3125 [==============================] - 10s 3ms/step - loss: 0.1424 - accuracy: 0.9524\n",
      "3125/3125 [==============================] - 10s 3ms/step - loss: 0.1424 - accuracy: 0.9523\n",
      "Epoch 1/5\n",
      "12516/12516 [==============================] - 80s 6ms/step - loss: 0.1949 - accuracy: 0.9357 - val_loss: 0.1646 - val_accuracy: 0.9420\n",
      "Epoch 2/5\n",
      "12516/12516 [==============================] - 80s 6ms/step - loss: 0.1978 - accuracy: 0.9343 - val_loss: 0.1546 - val_accuracy: 0.9448\n",
      "Epoch 3/5\n",
      "12516/12516 [==============================] - 79s 6ms/step - loss: 0.1965 - accuracy: 0.9344 - val_loss: 0.1465 - val_accuracy: 0.9477\n",
      "Epoch 4/5\n",
      "12516/12516 [==============================] - 79s 6ms/step - loss: 0.1908 - accuracy: 0.9365 - val_loss: 0.1426 - val_accuracy: 0.9490\n",
      "Epoch 5/5\n",
      "12516/12516 [==============================] - 78s 6ms/step - loss: 0.1897 - accuracy: 0.9367 - val_loss: 0.1969 - val_accuracy: 0.9305\n",
      "3125/3125 [==============================] - 10s 3ms/step - loss: 0.1948 - accuracy: 0.9318\n",
      "3125/3125 [==============================] - 10s 3ms/step - loss: 0.1948 - accuracy: 0.9318\n",
      "Epoch 1/5\n",
      "12516/12516 [==============================] - 79s 6ms/step - loss: 0.1915 - accuracy: 0.9368 - val_loss: 0.1440 - val_accuracy: 0.9496\n",
      "Epoch 2/5\n",
      "12516/12516 [==============================] - 79s 6ms/step - loss: 0.2011 - accuracy: 0.9348 - val_loss: 0.2083 - val_accuracy: 0.9344\n",
      "Epoch 3/5\n",
      "12516/12516 [==============================] - 79s 6ms/step - loss: 0.1941 - accuracy: 0.9357 - val_loss: 0.1461 - val_accuracy: 0.9505\n",
      "Epoch 4/5\n",
      "12516/12516 [==============================] - 79s 6ms/step - loss: 0.2029 - accuracy: 0.9331 - val_loss: 0.1478 - val_accuracy: 0.9460\n",
      "Epoch 5/5\n",
      "12516/12516 [==============================] - 80s 6ms/step - loss: 0.2007 - accuracy: 0.9326 - val_loss: 0.2411 - val_accuracy: 0.9301\n",
      "3125/3125 [==============================] - 10s 3ms/step - loss: 0.2362 - accuracy: 0.9308\n",
      "3125/3125 [==============================] - 9s 3ms/step - loss: 0.2362 - accuracy: 0.9304\n",
      "Epoch 1/5\n",
      "12516/12516 [==============================] - 80s 6ms/step - loss: 0.2228 - accuracy: 0.9307 - val_loss: 0.1895 - val_accuracy: 0.9378\n",
      "Epoch 2/5\n",
      "12516/12516 [==============================] - 79s 6ms/step - loss: 0.2015 - accuracy: 0.9332 - val_loss: 0.1652 - val_accuracy: 0.9431\n",
      "Epoch 3/5\n",
      "12516/12516 [==============================] - 79s 6ms/step - loss: 0.2019 - accuracy: 0.9343 - val_loss: 0.1526 - val_accuracy: 0.9449\n",
      "Epoch 4/5\n",
      "12516/12516 [==============================] - 79s 6ms/step - loss: 0.1923 - accuracy: 0.9360 - val_loss: 0.1498 - val_accuracy: 0.9467\n",
      "Epoch 5/5\n",
      "12516/12516 [==============================] - 80s 6ms/step - loss: 0.2016 - accuracy: 0.9346 - val_loss: 0.1673 - val_accuracy: 0.9388\n",
      "3125/3125 [==============================] - 10s 3ms/step - loss: 0.1650 - accuracy: 0.9393\n",
      "3125/3125 [==============================] - 10s 3ms/step - loss: 0.1651 - accuracy: 0.9394\n",
      "Epoch 1/5\n",
      "12516/12516 [==============================] - 79s 6ms/step - loss: 0.1965 - accuracy: 0.9350 - val_loss: 0.1407 - val_accuracy: 0.9518\n",
      "Epoch 2/5\n",
      "12516/12516 [==============================] - 80s 6ms/step - loss: 0.2068 - accuracy: 0.9345 - val_loss: 0.1607 - val_accuracy: 0.9459\n",
      "Epoch 3/5\n",
      "12516/12516 [==============================] - 79s 6ms/step - loss: 0.2085 - accuracy: 0.9334 - val_loss: 0.1565 - val_accuracy: 0.9449\n",
      "Epoch 4/5\n",
      "12516/12516 [==============================] - 80s 6ms/step - loss: 0.1932 - accuracy: 0.9352 - val_loss: 0.1431 - val_accuracy: 0.9492\n",
      "Epoch 5/5\n",
      "12516/12516 [==============================] - 81s 6ms/step - loss: 0.1890 - accuracy: 0.9365 - val_loss: 0.1498 - val_accuracy: 0.9461\n",
      "3125/3125 [==============================] - 10s 3ms/step - loss: 0.1467 - accuracy: 0.9469\n",
      "3125/3125 [==============================] - 10s 3ms/step - loss: 0.1469 - accuracy: 0.9467\n",
      "Epoch 1/5\n",
      "12516/12516 [==============================] - 79s 6ms/step - loss: 0.1935 - accuracy: 0.9354 - val_loss: 0.2006 - val_accuracy: 0.9291\n",
      "Epoch 2/5\n",
      "12516/12516 [==============================] - 79s 6ms/step - loss: 0.2085 - accuracy: 0.9359 - val_loss: 0.1883 - val_accuracy: 0.9333\n",
      "Epoch 3/5\n",
      "12516/12516 [==============================] - 79s 6ms/step - loss: 0.1884 - accuracy: 0.9361 - val_loss: 0.1473 - val_accuracy: 0.9473\n",
      "Epoch 4/5\n",
      "12516/12516 [==============================] - 82s 7ms/step - loss: 0.1859 - accuracy: 0.9374 - val_loss: 0.1560 - val_accuracy: 0.9447\n",
      "Epoch 5/5\n",
      "12516/12516 [==============================] - 81s 6ms/step - loss: 0.1860 - accuracy: 0.9372 - val_loss: 0.1454 - val_accuracy: 0.9488\n",
      "3125/3125 [==============================] - 10s 3ms/step - loss: 0.1427 - accuracy: 0.9496\n",
      "3125/3125 [==============================] - 10s 3ms/step - loss: 0.1426 - accuracy: 0.9497\n",
      "Epoch 1/5\n",
      "12516/12516 [==============================] - 80s 6ms/step - loss: 0.1874 - accuracy: 0.9369 - val_loss: 0.1749 - val_accuracy: 0.9366\n",
      "Epoch 2/5\n",
      "12516/12516 [==============================] - 79s 6ms/step - loss: 0.1981 - accuracy: 0.9363 - val_loss: 0.1455 - val_accuracy: 0.9485\n",
      "Epoch 3/5\n",
      "12516/12516 [==============================] - 79s 6ms/step - loss: 0.1956 - accuracy: 0.9359 - val_loss: 0.1667 - val_accuracy: 0.9429\n",
      "Epoch 4/5\n",
      "12516/12516 [==============================] - 81s 6ms/step - loss: 0.1844 - accuracy: 0.9377 - val_loss: 0.1466 - val_accuracy: 0.9478\n",
      "Epoch 5/5\n",
      "12516/12516 [==============================] - 79s 6ms/step - loss: 0.2013 - accuracy: 0.9368 - val_loss: 0.1497 - val_accuracy: 0.9473\n",
      "3125/3125 [==============================] - 10s 3ms/step - loss: 0.1464 - accuracy: 0.9482\n",
      "3125/3125 [==============================] - 10s 3ms/step - loss: 0.1467 - accuracy: 0.9481\n",
      "Epoch 1/5\n",
      "12516/12516 [==============================] - 79s 6ms/step - loss: 0.1946 - accuracy: 0.9353 - val_loss: 0.1687 - val_accuracy: 0.9422\n",
      "Epoch 2/5\n",
      "12516/12516 [==============================] - 79s 6ms/step - loss: 0.1979 - accuracy: 0.9363 - val_loss: 0.1529 - val_accuracy: 0.9454\n",
      "Epoch 3/5\n",
      "12516/12516 [==============================] - 79s 6ms/step - loss: 0.1872 - accuracy: 0.9367 - val_loss: 0.1543 - val_accuracy: 0.9442\n",
      "Epoch 4/5\n",
      "12516/12516 [==============================] - 81s 6ms/step - loss: 0.2628 - accuracy: 0.9363 - val_loss: 0.1551 - val_accuracy: 0.9448\n",
      "Epoch 5/5\n",
      "12516/12516 [==============================] - 79s 6ms/step - loss: 0.1862 - accuracy: 0.9369 - val_loss: 0.1564 - val_accuracy: 0.9435\n",
      "3125/3125 [==============================] - 10s 3ms/step - loss: 0.1535 - accuracy: 0.9445\n",
      "3125/3125 [==============================] - 10s 3ms/step - loss: 0.1539 - accuracy: 0.9445\n",
      "Epoch 1/5\n",
      "12516/12516 [==============================] - 80s 6ms/step - loss: 0.1971 - accuracy: 0.9367 - val_loss: 0.1601 - val_accuracy: 0.9403\n",
      "Epoch 2/5\n",
      "12516/12516 [==============================] - 80s 6ms/step - loss: 0.1919 - accuracy: 0.9355 - val_loss: 0.1796 - val_accuracy: 0.9335\n",
      "Epoch 3/5\n",
      "12516/12516 [==============================] - 78s 6ms/step - loss: 0.2847 - accuracy: 0.9342 - val_loss: 0.1683 - val_accuracy: 0.9420\n",
      "Epoch 4/5\n",
      "12516/12516 [==============================] - 79s 6ms/step - loss: 0.1885 - accuracy: 0.9366 - val_loss: 0.1466 - val_accuracy: 0.9478\n",
      "Epoch 5/5\n",
      "12516/12516 [==============================] - 80s 6ms/step - loss: 0.1897 - accuracy: 0.9368 - val_loss: 0.1380 - val_accuracy: 0.9517\n",
      "3125/3125 [==============================] - 10s 3ms/step - loss: 0.1354 - accuracy: 0.9526\n",
      "3125/3125 [==============================] - 10s 3ms/step - loss: 0.1355 - accuracy: 0.9530\n",
      "Epoch 1/5\n",
      "12516/12516 [==============================] - 79s 6ms/step - loss: 0.1968 - accuracy: 0.9349 - val_loss: 0.1488 - val_accuracy: 0.9472\n",
      "Epoch 2/5\n",
      "12516/12516 [==============================] - 79s 6ms/step - loss: 0.1906 - accuracy: 0.9358 - val_loss: 0.1604 - val_accuracy: 0.9436\n",
      "Epoch 3/5\n",
      "12516/12516 [==============================] - 79s 6ms/step - loss: 0.2689 - accuracy: 0.9350 - val_loss: 0.1543 - val_accuracy: 0.9449\n",
      "Epoch 4/5\n",
      "12516/12516 [==============================] - 80s 6ms/step - loss: 0.1876 - accuracy: 0.9362 - val_loss: 0.1528 - val_accuracy: 0.9455\n",
      "Epoch 5/5\n",
      "12516/12516 [==============================] - 79s 6ms/step - loss: 0.1891 - accuracy: 0.9362 - val_loss: 0.1834 - val_accuracy: 0.9392\n",
      "3125/3125 [==============================] - 10s 3ms/step - loss: 0.1788 - accuracy: 0.9397\n",
      "3125/3125 [==============================] - 10s 3ms/step - loss: 0.1796 - accuracy: 0.9402\n",
      "Epoch 1/5\n",
      "12516/12516 [==============================] - 80s 6ms/step - loss: 0.2307 - accuracy: 0.9330 - val_loss: 0.1705 - val_accuracy: 0.9408\n",
      "Epoch 2/5\n",
      "12516/12516 [==============================] - 79s 6ms/step - loss: 0.1883 - accuracy: 0.9357 - val_loss: 0.1408 - val_accuracy: 0.9508\n",
      "Epoch 3/5\n",
      "12516/12516 [==============================] - 80s 6ms/step - loss: 0.1915 - accuracy: 0.9353 - val_loss: 0.1439 - val_accuracy: 0.9533\n",
      "Epoch 4/5\n",
      "12516/12516 [==============================] - 81s 6ms/step - loss: 0.1938 - accuracy: 0.9353 - val_loss: 0.1443 - val_accuracy: 0.9497\n",
      "Epoch 5/5\n",
      "12516/12516 [==============================] - 79s 6ms/step - loss: 0.2010 - accuracy: 0.9351 - val_loss: 0.1500 - val_accuracy: 0.9479\n",
      "3125/3125 [==============================] - 10s 3ms/step - loss: 0.1474 - accuracy: 0.9493\n",
      "3125/3125 [==============================] - 10s 3ms/step - loss: 0.1494 - accuracy: 0.9492\n",
      "Epoch 1/5\n",
      "12516/12516 [==============================] - 79s 6ms/step - loss: 0.1974 - accuracy: 0.9334 - val_loss: 0.1742 - val_accuracy: 0.9401\n",
      "Epoch 2/5\n",
      "12516/12516 [==============================] - 79s 6ms/step - loss: 0.2152 - accuracy: 0.9321 - val_loss: 0.1468 - val_accuracy: 0.9488\n",
      "Epoch 3/5\n",
      "12516/12516 [==============================] - 79s 6ms/step - loss: 0.1987 - accuracy: 0.9340 - val_loss: 0.1715 - val_accuracy: 0.9407\n",
      "Epoch 4/5\n",
      "12516/12516 [==============================] - 80s 6ms/step - loss: 0.1911 - accuracy: 0.9344 - val_loss: 0.1795 - val_accuracy: 0.9382\n",
      "Epoch 5/5\n",
      "12516/12516 [==============================] - 79s 6ms/step - loss: 0.1992 - accuracy: 0.9333 - val_loss: 0.1586 - val_accuracy: 0.9439\n",
      "3125/3125 [==============================] - 10s 3ms/step - loss: 0.1563 - accuracy: 0.9449\n",
      "3125/3125 [==============================] - 10s 3ms/step - loss: 0.1576 - accuracy: 0.9448\n",
      "Epoch 1/5\n",
      "12516/12516 [==============================] - 79s 6ms/step - loss: 0.2038 - accuracy: 0.9321 - val_loss: 0.1522 - val_accuracy: 0.9500\n",
      "Epoch 2/5\n",
      "12516/12516 [==============================] - 79s 6ms/step - loss: 0.1978 - accuracy: 0.9316 - val_loss: 0.1583 - val_accuracy: 0.9433\n",
      "Epoch 3/5\n",
      "12516/12516 [==============================] - 79s 6ms/step - loss: 0.1961 - accuracy: 0.9328 - val_loss: 0.1809 - val_accuracy: 0.9367\n",
      "Epoch 4/5\n",
      "12516/12516 [==============================] - 79s 6ms/step - loss: 0.2009 - accuracy: 0.9319 - val_loss: 0.1582 - val_accuracy: 0.9438\n",
      "Epoch 5/5\n",
      "12516/12516 [==============================] - 80s 6ms/step - loss: 0.2015 - accuracy: 0.9322 - val_loss: 0.1581 - val_accuracy: 0.9443\n",
      "3125/3125 [==============================] - 10s 3ms/step - loss: 0.1553 - accuracy: 0.9456\n",
      "3125/3125 [==============================] - 10s 3ms/step - loss: 0.1570 - accuracy: 0.9459\n",
      "Epoch 1/5\n",
      "12516/12516 [==============================] - 79s 6ms/step - loss: 0.2363 - accuracy: 0.9293 - val_loss: 0.1684 - val_accuracy: 0.9393\n",
      "Epoch 2/5\n",
      "12516/12516 [==============================] - 79s 6ms/step - loss: 0.2001 - accuracy: 0.9303 - val_loss: 0.2000 - val_accuracy: 0.9260\n",
      "Epoch 3/5\n",
      "12516/12516 [==============================] - 80s 6ms/step - loss: 0.2044 - accuracy: 0.9300 - val_loss: 0.1633 - val_accuracy: 0.9434\n",
      "Epoch 4/5\n",
      "12516/12516 [==============================] - 79s 6ms/step - loss: 0.1995 - accuracy: 0.9304 - val_loss: 0.1608 - val_accuracy: 0.9429\n",
      "Epoch 5/5\n",
      "12516/12516 [==============================] - 79s 6ms/step - loss: 0.2056 - accuracy: 0.9294 - val_loss: 0.1648 - val_accuracy: 0.9428\n",
      "3125/3125 [==============================] - 10s 3ms/step - loss: 0.1618 - accuracy: 0.9438\n",
      "3125/3125 [==============================] - 10s 3ms/step - loss: 0.1654 - accuracy: 0.9433\n",
      "Epoch 1/5\n",
      "12516/12516 [==============================] - 79s 6ms/step - loss: 0.2079 - accuracy: 0.9273 - val_loss: 0.1684 - val_accuracy: 0.9403\n",
      "Epoch 2/5\n",
      "12516/12516 [==============================] - 79s 6ms/step - loss: 0.2096 - accuracy: 0.9278 - val_loss: 0.1774 - val_accuracy: 0.9360\n",
      "Epoch 3/5\n",
      "12516/12516 [==============================] - 80s 6ms/step - loss: 0.2112 - accuracy: 0.9274 - val_loss: 0.1645 - val_accuracy: 0.9437\n",
      "Epoch 4/5\n",
      "12516/12516 [==============================] - 78s 6ms/step - loss: 0.2076 - accuracy: 0.9276 - val_loss: 0.1865 - val_accuracy: 0.9354\n",
      "Epoch 5/5\n",
      "12516/12516 [==============================] - 78s 6ms/step - loss: 0.2111 - accuracy: 0.9274 - val_loss: 0.1737 - val_accuracy: 0.9377\n",
      "3125/3125 [==============================] - 10s 3ms/step - loss: 0.1719 - accuracy: 0.9387\n",
      "3125/3125 [==============================] - 10s 3ms/step - loss: 0.1751 - accuracy: 0.9391\n",
      "Epoch 1/5\n",
      "12516/12516 [==============================] - 79s 6ms/step - loss: 0.2142 - accuracy: 0.9237 - val_loss: 0.8788 - val_accuracy: 0.5009\n",
      "Epoch 2/5\n",
      "12516/12516 [==============================] - 82s 7ms/step - loss: 0.2161 - accuracy: 0.9232 - val_loss: 0.1774 - val_accuracy: 0.9363\n",
      "Epoch 3/5\n",
      "12516/12516 [==============================] - 79s 6ms/step - loss: 0.2191 - accuracy: 0.9238 - val_loss: 0.1769 - val_accuracy: 0.9354\n",
      "Epoch 4/5\n",
      "12516/12516 [==============================] - 79s 6ms/step - loss: 0.2127 - accuracy: 0.9246 - val_loss: 0.1727 - val_accuracy: 0.9394\n",
      "Epoch 5/5\n",
      "12516/12516 [==============================] - 78s 6ms/step - loss: 0.2182 - accuracy: 0.9234 - val_loss: 0.1715 - val_accuracy: 0.9387\n",
      "3125/3125 [==============================] - 10s 3ms/step - loss: 0.1694 - accuracy: 0.9397\n",
      "3125/3125 [==============================] - 10s 3ms/step - loss: 0.1756 - accuracy: 0.9389\n",
      "Epoch 1/5\n",
      "12516/12516 [==============================] - 78s 6ms/step - loss: 0.2392 - accuracy: 0.9176 - val_loss: 0.1961 - val_accuracy: 0.9286\n",
      "Epoch 2/5\n",
      "12516/12516 [==============================] - 79s 6ms/step - loss: 0.2247 - accuracy: 0.9188 - val_loss: 0.1868 - val_accuracy: 0.9329\n",
      "Epoch 3/5\n",
      "12516/12516 [==============================] - 79s 6ms/step - loss: 0.2241 - accuracy: 0.9188 - val_loss: 0.1934 - val_accuracy: 0.9305\n",
      "Epoch 4/5\n",
      "12516/12516 [==============================] - 80s 6ms/step - loss: 0.2253 - accuracy: 0.9187 - val_loss: 0.1920 - val_accuracy: 0.9315\n",
      "Epoch 5/5\n",
      "12516/12516 [==============================] - 79s 6ms/step - loss: 0.2279 - accuracy: 0.9194 - val_loss: 0.1901 - val_accuracy: 0.9306\n",
      "3125/3125 [==============================] - 10s 3ms/step - loss: 0.1875 - accuracy: 0.9315\n",
      "3125/3125 [==============================] - 10s 3ms/step - loss: 0.1956 - accuracy: 0.9301\n",
      "Epoch 1/5\n",
      "12516/12516 [==============================] - 81s 6ms/step - loss: 0.2425 - accuracy: 0.9120 - val_loss: 0.2085 - val_accuracy: 0.9247\n",
      "Epoch 2/5\n",
      "12516/12516 [==============================] - 81s 6ms/step - loss: 0.2365 - accuracy: 0.9125 - val_loss: 0.2255 - val_accuracy: 0.9146\n",
      "Epoch 3/5\n",
      "12516/12516 [==============================] - 79s 6ms/step - loss: 0.2396 - accuracy: 0.9116 - val_loss: 0.1974 - val_accuracy: 0.9303\n",
      "Epoch 4/5\n",
      "12516/12516 [==============================] - 79s 6ms/step - loss: 0.2359 - accuracy: 0.9127 - val_loss: 0.1943 - val_accuracy: 0.9310\n",
      "Epoch 5/5\n",
      "12516/12516 [==============================] - 80s 6ms/step - loss: 0.2384 - accuracy: 0.9122 - val_loss: 0.2027 - val_accuracy: 0.9264\n",
      "3125/3125 [==============================] - 10s 3ms/step - loss: 0.2000 - accuracy: 0.9277\n",
      "3125/3125 [==============================] - 10s 3ms/step - loss: 0.2133 - accuracy: 0.9240\n",
      "Epoch 1/5\n",
      "12516/12516 [==============================] - 80s 6ms/step - loss: 0.2548 - accuracy: 0.9037 - val_loss: 0.2174 - val_accuracy: 0.9217\n",
      "Epoch 2/5\n",
      "12516/12516 [==============================] - 79s 6ms/step - loss: 0.2526 - accuracy: 0.9048 - val_loss: 0.2235 - val_accuracy: 0.9181\n",
      "Epoch 3/5\n",
      "12516/12516 [==============================] - 79s 6ms/step - loss: 0.2554 - accuracy: 0.9040 - val_loss: 0.2306 - val_accuracy: 0.9135\n",
      "Epoch 4/5\n",
      "12516/12516 [==============================] - 79s 6ms/step - loss: 0.2523 - accuracy: 0.9047 - val_loss: 0.2214 - val_accuracy: 0.9194\n",
      "Epoch 5/5\n",
      "12516/12516 [==============================] - 79s 6ms/step - loss: 0.3368 - accuracy: 0.8758 - val_loss: 0.3528 - val_accuracy: 0.8639\n",
      "3125/3125 [==============================] - 10s 3ms/step - loss: 0.3537 - accuracy: 0.8635\n",
      "3125/3125 [==============================] - 10s 3ms/step - loss: 0.3576 - accuracy: 0.8631\n",
      "Epoch 1/5\n",
      "12516/12516 [==============================] - 80s 6ms/step - loss: 0.3831 - accuracy: 0.8615 - val_loss: 0.2843 - val_accuracy: 0.8963\n",
      "Epoch 2/5\n",
      "12516/12516 [==============================] - 80s 6ms/step - loss: 0.3153 - accuracy: 0.8738 - val_loss: 0.2462 - val_accuracy: 0.9076\n",
      "Epoch 3/5\n",
      "12516/12516 [==============================] - 80s 6ms/step - loss: 0.2813 - accuracy: 0.8905 - val_loss: 0.2694 - val_accuracy: 0.8958\n",
      "Epoch 4/5\n",
      "12516/12516 [==============================] - 80s 6ms/step - loss: 0.2751 - accuracy: 0.8921 - val_loss: 0.2276 - val_accuracy: 0.9166\n",
      "Epoch 5/5\n",
      "12516/12516 [==============================] - 79s 6ms/step - loss: 0.2740 - accuracy: 0.8930 - val_loss: 0.2291 - val_accuracy: 0.9168\n",
      "3125/3125 [==============================] - 10s 3ms/step - loss: 0.2281 - accuracy: 0.9172\n",
      "3125/3125 [==============================] - 10s 3ms/step - loss: 0.2598 - accuracy: 0.8985\n",
      "Epoch 1/5\n",
      "12516/12516 [==============================] - 80s 6ms/step - loss: 0.3005 - accuracy: 0.8789 - val_loss: 0.2596 - val_accuracy: 0.8992\n",
      "Epoch 2/5\n",
      "12516/12516 [==============================] - 79s 6ms/step - loss: 0.2976 - accuracy: 0.8802 - val_loss: 0.2698 - val_accuracy: 0.8933\n",
      "Epoch 3/5\n",
      "12516/12516 [==============================] - 79s 6ms/step - loss: 0.2936 - accuracy: 0.8820 - val_loss: 0.2581 - val_accuracy: 0.9002\n",
      "Epoch 4/5\n",
      "12516/12516 [==============================] - 81s 6ms/step - loss: 0.2934 - accuracy: 0.8819 - val_loss: 0.2511 - val_accuracy: 0.9046\n",
      "Epoch 5/5\n",
      "12516/12516 [==============================] - 79s 6ms/step - loss: 0.2915 - accuracy: 0.8831 - val_loss: 0.2596 - val_accuracy: 0.9027\n",
      "3125/3125 [==============================] - 10s 3ms/step - loss: 0.2592 - accuracy: 0.9033\n",
      "3125/3125 [==============================] - 10s 3ms/step - loss: 0.2857 - accuracy: 0.8893\n",
      "Epoch 1/5\n",
      "12516/12516 [==============================] - 79s 6ms/step - loss: 0.3285 - accuracy: 0.8641 - val_loss: 0.2986 - val_accuracy: 0.8783\n",
      "Epoch 2/5\n",
      "12516/12516 [==============================] - 79s 6ms/step - loss: 0.3280 - accuracy: 0.8648 - val_loss: 0.2816 - val_accuracy: 0.8874\n",
      "Epoch 3/5\n",
      "12516/12516 [==============================] - 79s 6ms/step - loss: 0.3355 - accuracy: 0.8618 - val_loss: 0.2943 - val_accuracy: 0.8871\n",
      "Epoch 4/5\n",
      "12516/12516 [==============================] - 79s 6ms/step - loss: 0.3280 - accuracy: 0.8647 - val_loss: 0.2948 - val_accuracy: 0.8805\n",
      "Epoch 5/5\n",
      "12516/12516 [==============================] - 79s 6ms/step - loss: 0.3242 - accuracy: 0.8664 - val_loss: 0.3209 - val_accuracy: 0.8696\n",
      "3125/3125 [==============================] - 10s 3ms/step - loss: 0.3205 - accuracy: 0.8698\n",
      "3125/3125 [==============================] - 10s 3ms/step - loss: 0.3505 - accuracy: 0.8516\n",
      "Epoch 1/5\n",
      "12516/12516 [==============================] - 78s 6ms/step - loss: 0.3547 - accuracy: 0.8497 - val_loss: 0.2947 - val_accuracy: 0.8811\n",
      "Epoch 2/5\n",
      "12516/12516 [==============================] - 78s 6ms/step - loss: 0.3497 - accuracy: 0.8529 - val_loss: 0.3308 - val_accuracy: 0.8670\n",
      "Epoch 3/5\n",
      "12516/12516 [==============================] - 78s 6ms/step - loss: 0.3453 - accuracy: 0.8538 - val_loss: 0.3006 - val_accuracy: 0.8768\n",
      "Epoch 4/5\n",
      "12516/12516 [==============================] - 78s 6ms/step - loss: 0.3422 - accuracy: 0.8547 - val_loss: 0.2954 - val_accuracy: 0.8812\n",
      "Epoch 5/5\n",
      "12516/12516 [==============================] - 80s 6ms/step - loss: 0.3428 - accuracy: 0.8545 - val_loss: 0.3018 - val_accuracy: 0.8769\n",
      "3125/3125 [==============================] - 10s 3ms/step - loss: 0.3027 - accuracy: 0.8761\n",
      "3125/3125 [==============================] - 10s 3ms/step - loss: 0.3295 - accuracy: 0.8612\n",
      "Epoch 1/5\n",
      "12516/12516 [==============================] - 79s 6ms/step - loss: 0.3718 - accuracy: 0.8380 - val_loss: 0.3237 - val_accuracy: 0.8647\n",
      "Epoch 2/5\n",
      "12516/12516 [==============================] - 81s 6ms/step - loss: 0.3719 - accuracy: 0.8378 - val_loss: 0.3228 - val_accuracy: 0.8664\n",
      "Epoch 3/5\n",
      "12516/12516 [==============================] - 80s 6ms/step - loss: 0.3795 - accuracy: 0.8350 - val_loss: 0.3269 - val_accuracy: 0.8654\n",
      "Epoch 4/5\n",
      "12516/12516 [==============================] - 78s 6ms/step - loss: 0.3755 - accuracy: 0.8365 - val_loss: 0.3246 - val_accuracy: 0.8668\n",
      "Epoch 5/5\n",
      "12516/12516 [==============================] - 80s 6ms/step - loss: 0.3742 - accuracy: 0.8372 - val_loss: 0.3232 - val_accuracy: 0.8680\n",
      "3125/3125 [==============================] - 10s 3ms/step - loss: 0.3234 - accuracy: 0.8689\n"
     ]
    }
   ],
   "source": [
    "scale_steps = np.logspace(-3, 0, 30)\n",
    "before_train_loss = []\n",
    "after_train_loss = []\n",
    "\n",
    "for scale in scale_steps:\n",
    "    x_train2_gen = np.random.normal(x_train2, np.sqrt(x_train2)*scale)\n",
    "    x_test_gen = np.random.normal(x_test, np.sqrt(x_test)*scale)\n",
    "\n",
    "    before_train_loss.append(model.evaluate(x_test_gen, y_test)[0])\n",
    "\n",
    "    model.fit(x_train2_gen, y_train2,\n",
    "               validation_split = 0.1,\n",
    "               batch_size=64,\n",
    "               epochs=5,\n",
    "               verbose=1,\n",
    "               shuffle = True\n",
    "             )\n",
    "\n",
    "    after_train_loss.append(model.evaluate(x_test_gen, y_test)[0])\n",
    "    model.save(path.format(exposure, model_index, furthur_index) + '/std={}.h5'.format(scale))\n",
    "model.save(path.format(exposure, model_index, furthur_index) + '.h5')"
   ]
  },
  {
   "cell_type": "code",
   "execution_count": 16,
   "metadata": {},
   "outputs": [],
   "source": [
    "Poisson_index = 1\n",
    "path = directory + 'models_PoissonTrain/0910{}_{}_{}_{}'\n",
    "while os.path.isdir(path.format(exposure, model_index, furthur_index, Poisson_index)):\n",
    "    Poisson_index += 1"
   ]
  },
  {
   "cell_type": "code",
   "execution_count": null,
   "metadata": {},
   "outputs": [
    {
     "name": "stdout",
     "output_type": "stream",
     "text": [
      "12516/12516 [==============================] - 91s 7ms/step - loss: 0.3711 - accuracy: 0.8383 - val_loss: 0.3212 - val_accuracy: 0.8666\n",
      "12516/12516 [==============================] - 89s 7ms/step - loss: 0.3696 - accuracy: 0.8392 - val_loss: 0.3139 - val_accuracy: 0.8721\n",
      "12516/12516 [==============================] - 90s 7ms/step - loss: 0.3693 - accuracy: 0.8398 - val_loss: 0.3200 - val_accuracy: 0.8688\n",
      "12516/12516 [==============================] - 89s 7ms/step - loss: 0.3683 - accuracy: 0.8394 - val_loss: 0.3187 - val_accuracy: 0.8701\n",
      "12510/12516 [============================>.] - ETA: 0s - loss: 0.3690 - accuracy: 0.8397"
     ]
    }
   ],
   "source": [
    "x_test_gen = np.random.poisson(x_test)\n",
    "\n",
    "for i in range(10):\n",
    "    x_train2_gen = np.random.poisson(x_train2)\n",
    "    \n",
    "    model.fit(x_train2_gen, y_train2,\n",
    "              validation_split=0.1,\n",
    "               batch_size=64,\n",
    "               epochs=1,\n",
    "               verbose=1,\n",
    "               shuffle = True\n",
    "             )\n",
    "    model.save(path.format(exposure, model_index, furthur_index, Poisson_index) + '/steps={}.h5'.format(i))\n",
    "model.save(path.format(exposure, model_index, furthur_index, Poisson_index) + '.h5')\n",
    "model.evaluate(x_test_gen, y_test)"
   ]
  },
  {
   "cell_type": "code",
   "execution_count": 10,
   "metadata": {},
   "outputs": [
    {
     "data": {
      "image/png": "[encoded data removed]",
      "text/plain": [
       "<Figure size 432x288 with 1 Axes>"
      ]
     },
     "metadata": {
      "needs_background": "light"
     },
     "output_type": "display_data"
    }
   ],
   "source": [
    "cpc = np.where(y_test == 0)\n",
    "cpv = np.where(y_test == 1)\n",
    "plt.hist(pred[cpc], bins =100)\n",
    "plt.hist(pred[cpv], bins = 100)\n",
    "plt.show()"
   ]
  },
  {
   "cell_type": "code",
   "execution_count": 4,
   "metadata": {},
   "outputs": [],
   "source": [
    "exposure = ''\n",
    "model = tf.keras.models.load_model('./models_lowE_sigmoid/models_PoissonTrain/0910{}_1_1_1.h5'.format(exposure))"
   ]
  },
  {
   "cell_type": "code",
   "execution_count": 8,
   "metadata": {},
   "outputs": [],
   "source": [
    "x_test_gen = np.random.poisson(x_test)\n",
    "pred = model.predict(x_test_gen)"
   ]
  },
  {
   "cell_type": "code",
   "execution_count": 12,
   "metadata": {},
   "outputs": [
    {
     "data": {
      "text/plain": [
       "array([0.12180763], dtype=float32)"
      ]
     },
     "execution_count": 12,
     "metadata": {},
     "output_type": "execute_result"
    }
   ],
   "source": [
    "min(pred)"
   ]
  },
  {
   "cell_type": "code",
   "execution_count": 15,
   "metadata": {},
   "outputs": [
    {
     "data": {
      "text/plain": [
       "array([1.], dtype=float32)"
      ]
     },
     "execution_count": 15,
     "metadata": {},
     "output_type": "execute_result"
    }
   ],
   "source": [
    "max(pred)"
   ]
  },
  {
   "cell_type": "code",
   "execution_count": 19,
   "metadata": {},
   "outputs": [
    {
     "data": {
      "text/plain": [
       "0.160059"
      ]
     },
     "execution_count": 19,
     "metadata": {},
     "output_type": "execute_result"
    }
   ],
   "source": [
    "np.median(pred[cpc])"
   ]
  },
  {
   "cell_type": "code",
   "execution_count": 21,
   "metadata": {},
   "outputs": [
    {
     "data": {
      "text/plain": [
       "[<matplotlib.lines.Line2D at 0x7f301c12d240>]"
      ]
     },
     "execution_count": 21,
     "metadata": {},
     "output_type": "execute_result"
    },
    {
     "data": {
      "image/png": "[encoded data removed]",
      "text/plain": [
       "<Figure size 432x288 with 1 Axes>"
      ]
     },
     "metadata": {
      "needs_background": "light"
     },
     "output_type": "display_data"
    }
   ],
   "source": [
    "plt.plot(x_test_gen[0])"
   ]
  },
  {
   "cell_type": "code",
   "execution_count": 23,
   "metadata": {},
   "outputs": [
    {
     "data": {
      "text/plain": [
       "[<matplotlib.lines.Line2D at 0x7f301c3f2630>]"
      ]
     },
     "execution_count": 23,
     "metadata": {},
     "output_type": "execute_result"
    },
    {
     "data": {
      "image/png": "[encoded data removed]",
      "text/plain": [
       "<Figure size 432x288 with 1 Axes>"
      ]
     },
     "metadata": {
      "needs_background": "light"
     },
     "output_type": "display_data"
    }
   ],
   "source": [
    "plt.plot(x_train[0])"
   ]
  }
 ],
 "metadata": {
  "kernelspec": {
   "display_name": "Python 3",
   "language": "python",
   "name": "python3"
  },
  "language_info": {
   "codemirror_mode": {
    "name": "ipython",
    "version": 3
   },
   "file_extension": ".py",
   "mimetype": "text/x-python",
   "name": "python",
   "nbconvert_exporter": "python",
   "pygments_lexer": "ipython3",
   "version": "3.6.9"
  }
 },
 "nbformat": 4,
 "nbformat_minor": 4
}
