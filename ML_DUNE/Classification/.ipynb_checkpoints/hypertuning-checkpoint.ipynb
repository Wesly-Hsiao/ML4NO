{
 "cells": [
  {
   "cell_type": "code",
   "execution_count": 1,
   "id": "87ab40fa-cafb-4d08-817d-8b74fef31006",
   "metadata": {},
   "outputs": [],
   "source": [
    "import numpy as np\n",
    "import pandas as pd\n",
    "import matplotlib.pyplot as plt\n",
    "import autokeras as ak\n",
    "import tensorflow as tf\n",
    "import os\n",
    "from tensorboard.plugins.hparams import api as hp\n",
    "%load_ext tensorboard"
   ]
  },
  {
   "cell_type": "code",
   "execution_count": 2,
   "id": "2b1e6b6b-fff4-4155-beca-c00922fd3a8f",
   "metadata": {},
   "outputs": [],
   "source": [
    "import tensorflow.keras as keras\n",
    "from tensorflow.keras.models import Sequential, load_model\n",
    "from tensorflow.keras.layers import Dense, Dropout, Flatten, Convolution2D, MaxPooling2D , Lambda, Conv2D, Activation,Concatenate\n",
    "from tensorflow.keras.layers import ActivityRegularization, BatchNormalization\n",
    "from tensorflow.keras.optimizers import Adam , SGD , Adagrad\n",
    "from tensorflow.keras.callbacks import ModelCheckpoint, LearningRateScheduler, EarlyStopping, CSVLogger, ReduceLROnPlateau\n",
    "from tensorflow.keras.utils import to_categorical\n",
    "from tensorflow.keras import regularizers , initializers\n",
    "from tensorflow.keras.models import Model\n",
    "from tensorflow.keras.preprocessing.image import ImageDataGenerator\n",
    "from tensorflow.keras.preprocessing.image import NumpyArrayIterator\n",
    "from sklearn.preprocessing import StandardScaler\n",
    "from tensorflow.keras import backend as K"
   ]
  },
  {
   "cell_type": "code",
   "execution_count": 3,
   "id": "4c00af6c-1e1b-442f-be06-788ea8ba6ca6",
   "metadata": {},
   "outputs": [
    {
     "name": "stderr",
     "output_type": "stream",
     "text": [
      "INFO:root:Tensorflow Version is 2.4.0-rc3\n",
      "INFO:root:Keras Version is 2.4.0\n",
      "INFO:root:[name: \"/device:CPU:0\"\n",
      "device_type: \"CPU\"\n",
      "memory_limit: 268435456\n",
      "locality {\n",
      "}\n",
      "incarnation: 766961089181843313\n",
      ", name: \"/device:GPU:0\"\n",
      "device_type: \"GPU\"\n",
      "memory_limit: 5242880000\n",
      "locality {\n",
      "  bus_id: 1\n",
      "  links {\n",
      "  }\n",
      "}\n",
      "incarnation: 10421066272446976768\n",
      "physical_device_desc: \"device: 0, name: TITAN RTX, pci bus id: 0000:03:00.0, compute capability: 7.5\"\n",
      "]\n"
     ]
    },
    {
     "data": {
      "text/plain": [
       "<tensorflow.python.eager.context._EagerDeviceContext at 0x7f09c2243e48>"
      ]
     },
     "execution_count": 3,
     "metadata": {},
     "output_type": "execute_result"
    }
   ],
   "source": [
    "import logging\n",
    "\n",
    "logging.basicConfig(level = logging.INFO)\n",
    "gpus = tf.config.experimental.list_physical_devices('GPU')\n",
    "# if gpus:\n",
    "#   # Restrict TensorFlow to only use the first GPU\n",
    "try:\n",
    "    tf.config.experimental.set_visible_devices(gpus[0], 'GPU')\n",
    "    tf.config.experimental.set_virtual_device_configuration(\n",
    "    gpus[0],\n",
    "    [tf.config.experimental.VirtualDeviceConfiguration(memory_limit=5000)])\n",
    "    logical_gpus = tf.config.experimental.list_logical_devices('GPU')\n",
    "#     logging.info(len(gpus), \"Physical GPUs,\", len(logical_gpus), \"Logical GPU\")\n",
    "except RuntimeError as e:\n",
    "# Visible devices must be set before GPUs have been initialized\n",
    "    logging.info(e)\n",
    "    \n",
    "    \n",
    "logging.info(\"Tensorflow Version is {}\".format(tf.__version__))\n",
    "logging.info(\"Keras Version is {}\".format(tf.keras.__version__))\n",
    "from tensorflow.python.client import device_lib\n",
    "logging.info(device_lib.list_local_devices())\n",
    "tf.device('/device:XLA_GPU:0')"
   ]
  },
  {
   "cell_type": "code",
   "execution_count": 4,
   "id": "fe02cd15-fe97-4576-982e-447d721a279f",
   "metadata": {},
   "outputs": [],
   "source": [
    "data = np.load('/home/ML4NO/Data/n1000000_0910_classification.npz')"
   ]
  },
  {
   "cell_type": "code",
   "execution_count": 5,
   "id": "9a4058d1-6ae2-4de5-8d21-420f97ca61d3",
   "metadata": {},
   "outputs": [],
   "source": [
    "data_all = np.column_stack([data['ve_dune'], data['vu_dune'], data['vebar_dune'], data['vubar_dune']])\n",
    "target = data['cpv']\n",
    "\n",
    "x_train = data_all[:10000]\n",
    "y_train = target[:10000]\n",
    "\n",
    "x_train2 = data_all[10000:900000]\n",
    "y_train2 = target[10000:900000]\n",
    "\n",
    "x_test = data_all[900000:]\n",
    "y_test = target[900000:]"
   ]
  },
  {
   "cell_type": "code",
   "execution_count": 6,
   "id": "23821a3f-c84e-433a-9027-c4f97d57f6e8",
   "metadata": {},
   "outputs": [],
   "source": [
    "HP_NUM_UNITS1 = hp.HParam('num_units1', hp.Discrete([16,32,64,128,256,512,1024]))\n",
    "HP_NUM_UNITS2 = hp.HParam('num_units2', hp.Discrete([16,32,64,128,256,512,1024]))\n",
    "HP_NUM_UNITS3 = hp.HParam('num_units3', hp.Discrete([16,32,64,128,256,512,1024]))\n",
    "\n",
    "METRIC_ACCURACY = 'accuracy'\n",
    "\n",
    "with tf.summary.create_file_writer('test/all/hparam_tuning').as_default():\n",
    "    hp.hparams_config(\n",
    "    hparams=[HP_NUM_UNITS1, HP_NUM_UNITS2, HP_NUM_UNITS3],\n",
    "    metrics=[hp.Metric(METRIC_ACCURACY, display_name='Accuracy')],\n",
    "  )"
   ]
  },
  {
   "cell_type": "code",
   "execution_count": 7,
   "id": "f0fc5aad-449f-4c09-a4aa-418c8015371a",
   "metadata": {},
   "outputs": [],
   "source": [
    "def train_test_model(hparams):\n",
    "    model_DNN = Sequential(name = \"Model_DNN\")  \n",
    "    model_DNN.add(keras.Input(shape=(len(x_train[0]),), name = 'input'))\n",
    "    model_DNN.add(BatchNormalization(name = 'BatchNormalization'))\n",
    "    model_DNN.add(Dense(hparams[HP_NUM_UNITS1], activation='relu', name = 'dense_1'))\n",
    "    model_DNN.add(Dense(hparams[HP_NUM_UNITS2], activation='relu', name = 'dense_2'))\n",
    "    model_DNN.add(Dense(hparams[HP_NUM_UNITS3], activation='relu', name = 'dense_3'))\n",
    "    model_DNN.add(Dense(1, activation='sigmoid', name = 'output'))\n",
    "    model_opt = keras.optimizers.Adam()\n",
    "    model_DNN.compile(loss=\"binary_crossentropy\",\n",
    "                              optimizer=model_opt,\n",
    "                              metrics=['accuracy'])\n",
    "    model_DNN.fit(x_train2, y_train2,\n",
    "           validation_split = 0.1,\n",
    "           batch_size=64,\n",
    "           epochs=5,\n",
    "           verbose=1,\n",
    "           shuffle = True\n",
    "         )\n",
    "    _, accuracy = model_DNN.evaluate(x_test, y_test)\n",
    "    return accuracy"
   ]
  },
  {
   "cell_type": "code",
   "execution_count": 8,
   "id": "f671d2bc-23cc-4f21-8c0e-6ac445a0ad3b",
   "metadata": {},
   "outputs": [],
   "source": [
    "def run(run_dir, hparams):\n",
    "    with tf.summary.create_file_writer(run_dir).as_default():\n",
    "        hp.hparams(hparams)  # record the values used in this trial\n",
    "        accuracy = train_test_model(hparams)\n",
    "        tf.summary.scalar(METRIC_ACCURACY, accuracy, step=1)"
   ]
  },
  {
   "cell_type": "code",
   "execution_count": 9,
   "id": "e8393f8f-5ec9-42c6-9d3a-109d01242fbc",
   "metadata": {},
   "outputs": [
    {
     "name": "stdout",
     "output_type": "stream",
     "text": [
      "--- Starting trial: run-0\n",
      "{'num_units1': 16, 'num_units2': 16, 'num_units3': 16}\n",
      "12516/12516 [==============================] - 71s 6ms/step - loss: 0.2443 - accuracy: 0.9028 - val_loss: 0.1540 - val_accuracy: 0.9459\n",
      "3125/3125 [==============================] - 9s 3ms/step - loss: 0.1519 - accuracy: 0.9466\n",
      "--- Starting trial: run-1\n",
      "{'num_units1': 16, 'num_units2': 16, 'num_units3': 256}\n",
      "12516/12516 [==============================] - 69s 6ms/step - loss: 0.2327 - accuracy: 0.9097 - val_loss: 0.1747 - val_accuracy: 0.9384\n",
      "3125/3125 [==============================] - 9s 3ms/step - loss: 0.1720 - accuracy: 0.9399\n",
      "--- Starting trial: run-2\n",
      "{'num_units1': 16, 'num_units2': 16, 'num_units3': 1024}\n",
      "12516/12516 [==============================] - 70s 6ms/step - loss: 0.2319 - accuracy: 0.9121 - val_loss: 0.1689 - val_accuracy: 0.9403\n",
      "3125/3125 [==============================] - 9s 3ms/step - loss: 0.1661 - accuracy: 0.9412\n",
      "--- Starting trial: run-3\n",
      "{'num_units1': 16, 'num_units2': 256, 'num_units3': 16}\n",
      "12516/12516 [==============================] - 70s 6ms/step - loss: 0.2343 - accuracy: 0.9099 - val_loss: 0.1676 - val_accuracy: 0.9398\n",
      "3125/3125 [==============================] - 10s 3ms/step - loss: 0.1640 - accuracy: 0.9407\n",
      "--- Starting trial: run-4\n",
      "{'num_units1': 16, 'num_units2': 256, 'num_units3': 256}\n",
      "12516/12516 [==============================] - 72s 6ms/step - loss: 0.2268 - accuracy: 0.9156 - val_loss: 0.1603 - val_accuracy: 0.9423\n",
      "3125/3125 [==============================] - 10s 3ms/step - loss: 0.1582 - accuracy: 0.9434\n",
      "--- Starting trial: run-5\n",
      "{'num_units1': 16, 'num_units2': 256, 'num_units3': 1024}\n",
      "12516/12516 [==============================] - 71s 6ms/step - loss: 0.2287 - accuracy: 0.9144 - val_loss: 0.1505 - val_accuracy: 0.9477\n",
      "3125/3125 [==============================] - 10s 3ms/step - loss: 0.1470 - accuracy: 0.9490\n",
      "--- Starting trial: run-6\n",
      "{'num_units1': 16, 'num_units2': 1024, 'num_units3': 16}\n",
      "12516/12516 [==============================] - 70s 6ms/step - loss: 0.2317 - accuracy: 0.9119 - val_loss: 0.1839 - val_accuracy: 0.9340\n",
      "3125/3125 [==============================] - 9s 3ms/step - loss: 0.1804 - accuracy: 0.9348\n",
      "--- Starting trial: run-7\n",
      "{'num_units1': 16, 'num_units2': 1024, 'num_units3': 256}\n",
      "12516/12516 [==============================] - 71s 6ms/step - loss: 0.2276 - accuracy: 0.9140 - val_loss: 0.1729 - val_accuracy: 0.9371\n",
      "3125/3125 [==============================] - 10s 3ms/step - loss: 0.1714 - accuracy: 0.9384\n",
      "--- Starting trial: run-8\n",
      "{'num_units1': 16, 'num_units2': 1024, 'num_units3': 1024}\n",
      "12516/12516 [==============================] - 73s 6ms/step - loss: 0.2300 - accuracy: 0.9142 - val_loss: 0.1472 - val_accuracy: 0.9488\n",
      "3125/3125 [==============================] - 10s 3ms/step - loss: 0.1437 - accuracy: 0.9505\n",
      "--- Starting trial: run-9\n",
      "{'num_units1': 256, 'num_units2': 16, 'num_units3': 16}\n",
      "12516/12516 [==============================] - 72s 6ms/step - loss: 0.2321 - accuracy: 0.9136 - val_loss: 0.1561 - val_accuracy: 0.9464\n",
      "3125/3125 [==============================] - 10s 3ms/step - loss: 0.1533 - accuracy: 0.9470\n",
      "--- Starting trial: run-10\n",
      "{'num_units1': 256, 'num_units2': 16, 'num_units3': 256}\n",
      "12516/12516 [==============================] - 71s 6ms/step - loss: 0.2306 - accuracy: 0.9129 - val_loss: 0.1749 - val_accuracy: 0.9395\n",
      "3125/3125 [==============================] - 9s 3ms/step - loss: 0.1729 - accuracy: 0.9403\n",
      "--- Starting trial: run-11\n",
      "{'num_units1': 256, 'num_units2': 16, 'num_units3': 1024}\n",
      "12516/12516 [==============================] - 72s 6ms/step - loss: 0.2317 - accuracy: 0.9121 - val_loss: 0.1647 - val_accuracy: 0.9438\n",
      "3125/3125 [==============================] - 9s 3ms/step - loss: 0.1622 - accuracy: 0.9450\n",
      "--- Starting trial: run-12\n",
      "{'num_units1': 256, 'num_units2': 256, 'num_units3': 16}\n",
      "12516/12516 [==============================] - 74s 6ms/step - loss: 0.2297 - accuracy: 0.9149 - val_loss: 0.1534 - val_accuracy: 0.9473\n",
      "3125/3125 [==============================] - 10s 3ms/step - loss: 0.1513 - accuracy: 0.9479\n",
      "--- Starting trial: run-13\n",
      "{'num_units1': 256, 'num_units2': 256, 'num_units3': 256}\n",
      "12516/12516 [==============================] - 74s 6ms/step - loss: 0.2301 - accuracy: 0.9151 - val_loss: 0.1658 - val_accuracy: 0.9407\n",
      "3125/3125 [==============================] - 10s 3ms/step - loss: 0.1627 - accuracy: 0.9416\n",
      "--- Starting trial: run-14\n",
      "{'num_units1': 256, 'num_units2': 256, 'num_units3': 1024}\n",
      "12516/12516 [==============================] - 74s 6ms/step - loss: 0.2299 - accuracy: 0.9138 - val_loss: 0.1637 - val_accuracy: 0.9434\n",
      "3125/3125 [==============================] - 10s 3ms/step - loss: 0.1598 - accuracy: 0.9445\n",
      "--- Starting trial: run-15\n",
      "{'num_units1': 256, 'num_units2': 1024, 'num_units3': 16}\n",
      "12516/12516 [==============================] - 73s 6ms/step - loss: 0.2333 - accuracy: 0.9137 - val_loss: 0.1679 - val_accuracy: 0.9397\n",
      "3125/3125 [==============================] - 10s 3ms/step - loss: 0.1646 - accuracy: 0.9408\n",
      "--- Starting trial: run-16\n",
      "{'num_units1': 256, 'num_units2': 1024, 'num_units3': 256}\n",
      "12516/12516 [==============================] - 74s 6ms/step - loss: 0.2327 - accuracy: 0.9138 - val_loss: 0.1495 - val_accuracy: 0.9486\n",
      "3125/3125 [==============================] - 10s 3ms/step - loss: 0.1467 - accuracy: 0.9499\n",
      "--- Starting trial: run-17\n",
      "{'num_units1': 256, 'num_units2': 1024, 'num_units3': 1024}\n",
      "12516/12516 [==============================] - 75s 6ms/step - loss: 0.2373 - accuracy: 0.9128 - val_loss: 0.1745 - val_accuracy: 0.9373\n",
      "3125/3125 [==============================] - 10s 3ms/step - loss: 0.1716 - accuracy: 0.9385\n",
      "--- Starting trial: run-18\n",
      "{'num_units1': 1024, 'num_units2': 16, 'num_units3': 16}\n",
      "12516/12516 [==============================] - 72s 6ms/step - loss: 0.2332 - accuracy: 0.9126 - val_loss: 0.1569 - val_accuracy: 0.9474\n",
      "3125/3125 [==============================] - 9s 3ms/step - loss: 0.1538 - accuracy: 0.9486\n",
      "--- Starting trial: run-19\n",
      "{'num_units1': 1024, 'num_units2': 16, 'num_units3': 256}\n",
      "12516/12516 [==============================] - 71s 6ms/step - loss: 0.2347 - accuracy: 0.9111 - val_loss: 0.1569 - val_accuracy: 0.9466\n",
      "3125/3125 [==============================] - 9s 3ms/step - loss: 0.1541 - accuracy: 0.9479\n",
      "--- Starting trial: run-20\n",
      "{'num_units1': 1024, 'num_units2': 16, 'num_units3': 1024}\n",
      "12516/12516 [==============================] - 72s 6ms/step - loss: 0.2340 - accuracy: 0.9108 - val_loss: 0.1554 - val_accuracy: 0.9489\n",
      "3125/3125 [==============================] - 9s 3ms/step - loss: 0.1530 - accuracy: 0.9494\n",
      "--- Starting trial: run-21\n",
      "{'num_units1': 1024, 'num_units2': 256, 'num_units3': 16}\n",
      "12516/12516 [==============================] - 73s 6ms/step - loss: 0.2335 - accuracy: 0.9137 - val_loss: 0.1462 - val_accuracy: 0.9509\n",
      "3125/3125 [==============================] - 10s 3ms/step - loss: 0.1433 - accuracy: 0.9520\n",
      "--- Starting trial: run-22\n",
      "{'num_units1': 1024, 'num_units2': 256, 'num_units3': 256}\n",
      "12516/12516 [==============================] - 75s 6ms/step - loss: 0.2347 - accuracy: 0.9128 - val_loss: 0.1552 - val_accuracy: 0.9496\n",
      "3125/3125 [==============================] - 10s 3ms/step - loss: 0.1534 - accuracy: 0.9500\n",
      "--- Starting trial: run-23\n",
      "{'num_units1': 1024, 'num_units2': 256, 'num_units3': 1024}\n",
      "12516/12516 [==============================] - 75s 6ms/step - loss: 0.2352 - accuracy: 0.9130 - val_loss: 0.1561 - val_accuracy: 0.9486\n",
      "3125/3125 [==============================] - 10s 3ms/step - loss: 0.1545 - accuracy: 0.9491\n",
      "--- Starting trial: run-24\n",
      "{'num_units1': 1024, 'num_units2': 1024, 'num_units3': 16}\n",
      "12516/12516 [==============================] - 73s 6ms/step - loss: 0.2923 - accuracy: 0.9016 - val_loss: 0.1603 - val_accuracy: 0.9473\n",
      "3125/3125 [==============================] - 10s 3ms/step - loss: 0.1580 - accuracy: 0.9486\n",
      "--- Starting trial: run-25\n",
      "{'num_units1': 1024, 'num_units2': 1024, 'num_units3': 256}\n",
      "12516/12516 [==============================] - 76s 6ms/step - loss: 0.2370 - accuracy: 0.9124 - val_loss: 0.1733 - val_accuracy: 0.9372\n",
      "3125/3125 [==============================] - 9s 3ms/step - loss: 0.1706 - accuracy: 0.9380\n",
      "--- Starting trial: run-26\n",
      "{'num_units1': 1024, 'num_units2': 1024, 'num_units3': 1024}\n",
      "12516/12516 [==============================] - 76s 6ms/step - loss: 0.2374 - accuracy: 0.9134 - val_loss: 0.1720 - val_accuracy: 0.9394\n",
      "3125/3125 [==============================] - 10s 3ms/step - loss: 0.1693 - accuracy: 0.9403\n"
     ]
    }
   ],
   "source": [
    "session_num = 0\n",
    "\n",
    "for num_units1 in HP_NUM_UNITS1.domain.values:\n",
    "    for num_units2 in HP_NUM_UNITS2.domain.values:\n",
    "        for num_units3 in HP_NUM_UNITS3.domain.values:\n",
    "            hparams = {\n",
    "            HP_NUM_UNITS1: num_units1,\n",
    "            HP_NUM_UNITS2: num_units2,\n",
    "            HP_NUM_UNITS3: num_units3,\n",
    "        }\n",
    "            run_name = \"run-%d\" % session_num\n",
    "            print('--- Starting trial: %s' % run_name)\n",
    "            print({h.name: hparams[h] for h in hparams})\n",
    "            run('test/all/hparam_tuning/' + run_name, hparams)\n",
    "            session_num += 1"
   ]
  },
  {
   "cell_type": "code",
   "execution_count": 10,
   "id": "244aec67-7962-480c-b6cf-d23e225f58cf",
   "metadata": {},
   "outputs": [
    {
     "data": {
      "text/html": [
       "\n",
       "      <iframe id=\"tensorboard-frame-9bfcd115deebecca\" width=\"100%\" height=\"800\" frameborder=\"0\">\n",
       "      </iframe>\n",
       "      <script>\n",
       "        (function() {\n",
       "          const frame = document.getElementById(\"tensorboard-frame-9bfcd115deebecca\");\n",
       "          const url = new URL(\"/\", window.location);\n",
       "          const port = 6006;\n",
       "          if (port) {\n",
       "            url.port = port;\n",
       "          }\n",
       "          frame.src = url;\n",
       "        })();\n",
       "      </script>\n",
       "    "
      ],
      "text/plain": [
       "<IPython.core.display.HTML object>"
      ]
     },
     "metadata": {},
     "output_type": "display_data"
    }
   ],
   "source": [
    "%tensorboard --logdir 'test/all' --bind_all"
   ]
  },
  {
   "cell_type": "code",
   "execution_count": null,
   "id": "b8fc5c7d-bafc-46f1-9342-bee67fe1e7a0",
   "metadata": {},
   "outputs": [],
   "source": []
  }
 ],
 "metadata": {
  "kernelspec": {
   "display_name": "Python 3",
   "language": "python",
   "name": "python3"
  },
  "language_info": {
   "codemirror_mode": {
    "name": "ipython",
    "version": 3
   },
   "file_extension": ".py",
   "mimetype": "text/x-python",
   "name": "python",
   "nbconvert_exporter": "python",
   "pygments_lexer": "ipython3",
   "version": "3.6.9"
  }
 },
 "nbformat": 4,
 "nbformat_minor": 5
}
