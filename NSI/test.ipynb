{
 "cells": [
  {
   "cell_type": "code",
   "execution_count": 27,
   "id": "parliamentary-triangle",
   "metadata": {},
   "outputs": [
    {
     "name": "stdout",
     "output_type": "stream",
     "text": [
      "2 Physical GPUs, 1 Logical GPU\n"
     ]
    }
   ],
   "source": [
    "import tensorflow as tf\n",
    "import tensorflow.keras as keras\n",
    "from tensorflow.keras import layers\n",
    "from tensorflow.keras.layers import Concatenate\n",
    "import tensorflow_probability as tfp\n",
    "import numpy as np\n",
    "import os\n",
    "import importlib\n",
    "import logging\n",
    "import matplotlib.pyplot as plt\n",
    "\n",
    "os.environ['TF_CPP_MIN_LOG_LEVEL'] = '2'\n",
    "importlib.reload(logging)\n",
    "logging.basicConfig(level = logging.INFO)\n",
    "\n",
    "# limit GPU memory\n",
    "gpus = tf.config.experimental.list_physical_devices('GPU')\n",
    "try:\n",
    "    tf.config.experimental.set_visible_devices(gpus[0], 'GPU')\n",
    "    tf.config.experimental.set_virtual_device_configuration(\n",
    "    gpus[0],\n",
    "    [tf.config.experimental.VirtualDeviceConfiguration(memory_limit=20000)])\n",
    "    logical_gpus = tf.config.experimental.list_logical_devices('GPU')\n",
    "    print(len(gpus), \"Physical GPUs,\", len(logical_gpus), \"Logical GPU\")\n",
    "except RuntimeError as e:\n",
    "# Visible devices must be set before GPUs have been initialized\n",
    "    print(e)"
   ]
  },
  {
   "cell_type": "code",
   "execution_count": 4,
   "id": "f5d453a0-049a-4ef7-a000-556737024b43",
   "metadata": {},
   "outputs": [],
   "source": [
    "training_data = np.load(\"./nsi_data/sample_nsi_regression_1e7_v2.npz\")\n",
    "data_all = np.column_stack([training_data['ve_dune'][:,:36], training_data['vu_dune'][:,:36], training_data['vebar_dune'][:,:36], training_data['vubar_dune'][:,:36]])\n",
    "\n",
    "# theta13, theta23, delta, mumu, emu, etau\n",
    "target = np.column_stack([training_data[\"theta13\"]/180*np.pi, training_data[\"theta23\"]/180*np.pi,\n",
    "                          np.sin(training_data[\"delta\"]/180*np.pi), np.cos(training_data[\"delta\"]/180*np.pi),\n",
    "                         training_data[\"mumu\"], training_data[\"emu\"],training_data[\"etau\"]])\n",
    "\n",
    "x_train = data_all\n",
    "y_train = target\n",
    "\n",
    "x_train_poisson = np.random.poisson(x_train)/1000"
   ]
  },
  {
   "cell_type": "code",
   "execution_count": 5,
   "id": "ad670bf9",
   "metadata": {},
   "outputs": [],
   "source": [
    "gaussian_number = 10\n",
    "latent_dim = 4\n",
    "latent_dim_2 = len(y_train[0])\n",
    "x_parameter_node = [256, 256, 256]\n",
    "x_spectrum_node = x_parameter_node\n",
    "x_latent_node = x_parameter_node\n",
    "kl_scaling = 1e+4\n",
    "lr = 0.00002"
   ]
  },
  {
   "cell_type": "code",
   "execution_count": 47,
   "id": "9bd1a0f6",
   "metadata": {},
   "outputs": [],
   "source": [
    "z2_weight = [0.1, 0.5]\n",
    "z2_mean = tf.constant([[0.1, 2.0], [0.1, -10.0]])\n",
    "temp_var_r1 = tf.constant([[0.1, 2.0], [0.1, 2.0]])"
   ]
  },
  {
   "cell_type": "code",
   "execution_count": 48,
   "id": "2ab47110",
   "metadata": {},
   "outputs": [],
   "source": [
    "bimix_gauss = tfp.distributions.MixtureSameFamily(\n",
    "                mixture_distribution=tfp.distributions.Categorical(logits=z2_weight),\n",
    "                components_distribution=tfp.distributions.MultivariateNormalDiag(\n",
    "                loc=z2_mean,\n",
    "                scale_diag=tf.sqrt(temp_var_r1)))"
   ]
  },
  {
   "cell_type": "code",
   "execution_count": 49,
   "id": "69a26344",
   "metadata": {},
   "outputs": [],
   "source": [
    "arr = bimix_gauss.sample(sample_shape=10000)"
   ]
  },
  {
   "cell_type": "code",
   "execution_count": 50,
   "id": "0e70d256",
   "metadata": {},
   "outputs": [
    {
     "data": {
      "image/png": "[encoded data removed]",
      "text/plain": [
       "<Figure size 432x288 with 1 Axes>"
      ]
     },
     "metadata": {
      "needs_background": "light"
     },
     "output_type": "display_data"
    }
   ],
   "source": [
    "plt.scatter(arr[:,0], arr[:, 1])\n",
    "plt.show()"
   ]
  },
  {
   "cell_type": "code",
   "execution_count": 30,
   "id": "f035c4ff",
   "metadata": {},
   "outputs": [],
   "source": [
    "s = mvn_q.sample(sample_shape=(1000))\n"
   ]
  },
  {
   "cell_type": "code",
   "execution_count": 35,
   "id": "e87d2ced",
   "metadata": {},
   "outputs": [
    {
     "data": {
      "text/plain": [
       "TensorShape([1000, 2])"
      ]
     },
     "execution_count": 35,
     "metadata": {},
     "output_type": "execute_result"
    }
   ],
   "source": [
    "s.shape"
   ]
  },
  {
   "cell_type": "code",
   "execution_count": 31,
   "id": "0e06aed9",
   "metadata": {},
   "outputs": [],
   "source": [
    "import matplotlib.pyplot as plt"
   ]
  },
  {
   "cell_type": "code",
   "execution_count": 33,
   "id": "d94c0687",
   "metadata": {},
   "outputs": [
    {
     "data": {
      "text/plain": [
       "(array([[0., 0., 0., ..., 0., 0., 0.],\n",
       "        [0., 0., 0., ..., 0., 0., 0.],\n",
       "        [0., 0., 0., ..., 0., 0., 0.],\n",
       "        ...,\n",
       "        [0., 0., 0., ..., 0., 0., 0.],\n",
       "        [0., 1., 0., ..., 0., 0., 0.],\n",
       "        [0., 0., 0., ..., 0., 0., 0.]]),\n",
       " array([-12.170112 ,  -9.4691515,  -6.768191 ,  -4.06723  ,  -1.3662698,\n",
       "          1.3346906,   4.035651 ,   6.7366114,   9.437572 ,  12.138533 ,\n",
       "         14.839493 ], dtype=float32),\n",
       " <a list of 1000 BarContainer objects>)"
      ]
     },
     "execution_count": 33,
     "metadata": {},
     "output_type": "execute_result"
    },
    {
     "data": {
      "image/png": "[encoded data removed]",
      "text/plain": [
       "<Figure size 432x288 with 1 Axes>"
      ]
     },
     "metadata": {
      "needs_background": "light"
     },
     "output_type": "display_data"
    }
   ],
   "source": [
    "plt.hist(s)\n",
    "plt.show()"
   ]
  },
  {
   "cell_type": "code",
   "execution_count": 20,
   "id": "295dffd9",
   "metadata": {},
   "outputs": [
    {
     "ename": "InvalidArgumentError",
     "evalue": "Value for attr 'T' of int32 is not in the list of allowed values: bfloat16, half, float, double, complex64, complex128\n\t; NodeDef: {{node Exp}}; Op<name=Exp; signature=x:T -> y:T; attr=T:type,allowed=[DT_BFLOAT16, DT_HALF, DT_FLOAT, DT_DOUBLE, DT_COMPLEX64, DT_COMPLEX128]> [Op:Exp]",
     "output_type": "error",
     "traceback": [
      "\u001b[0;31m---------------------------------------------------------------------------\u001b[0m",
      "\u001b[0;31mInvalidArgumentError\u001b[0m                      Traceback (most recent call last)",
      "\u001b[1;32m/home/ML4NO/ML4NO/NSI/test.ipynb Cell 6'\u001b[0m in \u001b[0;36m<cell line: 5>\u001b[0;34m()\u001b[0m\n\u001b[1;32m      <a href='vscode-notebook-cell://attached-container%2B7b22636f6e7461696e65724e616d65223a222f6b6f5f6e65757472696e6f222c2273657474696e6773223a7b22686f7374223a227373683a2f2f3134302e3131342e38302e3935227d7d/home/ML4NO/ML4NO/NSI/test.ipynb#ch0000015vscode-remote?line=0'>1</a>\u001b[0m SMALL_CONSTANT \u001b[39m=\u001b[39m \u001b[39m1e-12\u001b[39m\n\u001b[1;32m      <a href='vscode-notebook-cell://attached-container%2B7b22636f6e7461696e65724e616d65223a222f6b6f5f6e65757472696e6f222c2273657474696e6773223a7b22686f7374223a227373683a2f2f3134302e3131342e38302e3935227d7d/home/ML4NO/ML4NO/NSI/test.ipynb#ch0000015vscode-remote?line=2'>3</a>\u001b[0m z1_mean, z1_log_var \u001b[39m=\u001b[39m [\u001b[39m1\u001b[39m, \u001b[39m2\u001b[39m], [\u001b[39m3\u001b[39m, \u001b[39m4\u001b[39m]\n\u001b[0;32m----> <a href='vscode-notebook-cell://attached-container%2B7b22636f6e7461696e65724e616d65223a222f6b6f5f6e65757472696e6f222c2273657474696e6773223a7b22686f7374223a227373683a2f2f3134302e3131342e38302e3935227d7d/home/ML4NO/ML4NO/NSI/test.ipynb#ch0000015vscode-remote?line=4'>5</a>\u001b[0m temp_var_q \u001b[39m=\u001b[39m SMALL_CONSTANT \u001b[39m+\u001b[39m tf\u001b[39m.\u001b[39;49mexp(z1_log_var)\n\u001b[1;32m      <a href='vscode-notebook-cell://attached-container%2B7b22636f6e7461696e65724e616d65223a222f6b6f5f6e65757472696e6f222c2273657474696e6773223a7b22686f7374223a227373683a2f2f3134302e3131342e38302e3935227d7d/home/ML4NO/ML4NO/NSI/test.ipynb#ch0000015vscode-remote?line=5'>6</a>\u001b[0m mvn_q \u001b[39m=\u001b[39m tfp\u001b[39m.\u001b[39mdistributions\u001b[39m.\u001b[39mMultivariateNormalDiag(\n\u001b[1;32m      <a href='vscode-notebook-cell://attached-container%2B7b22636f6e7461696e65724e616d65223a222f6b6f5f6e65757472696e6f222c2273657474696e6773223a7b22686f7374223a227373683a2f2f3134302e3131342e38302e3935227d7d/home/ML4NO/ML4NO/NSI/test.ipynb#ch0000015vscode-remote?line=6'>7</a>\u001b[0m                 loc\u001b[39m=\u001b[39mz1_mean,\n\u001b[1;32m      <a href='vscode-notebook-cell://attached-container%2B7b22636f6e7461696e65724e616d65223a222f6b6f5f6e65757472696e6f222c2273657474696e6773223a7b22686f7374223a227373683a2f2f3134302e3131342e38302e3935227d7d/home/ML4NO/ML4NO/NSI/test.ipynb#ch0000015vscode-remote?line=7'>8</a>\u001b[0m                 scale_diag\u001b[39m=\u001b[39mtf\u001b[39m.\u001b[39msqrt(temp_var_q))\n\u001b[1;32m     <a href='vscode-notebook-cell://attached-container%2B7b22636f6e7461696e65724e616d65223a222f6b6f5f6e65757472696e6f222c2273657474696e6773223a7b22686f7374223a227373683a2f2f3134302e3131342e38302e3935227d7d/home/ML4NO/ML4NO/NSI/test.ipynb#ch0000015vscode-remote?line=9'>10</a>\u001b[0m z1 \u001b[39m=\u001b[39m mvn_q\u001b[39m.\u001b[39msample()\n",
      "File \u001b[0;32m/usr/local/lib/python3.8/dist-packages/tensorflow/python/util/traceback_utils.py:153\u001b[0m, in \u001b[0;36mfilter_traceback.<locals>.error_handler\u001b[0;34m(*args, **kwargs)\u001b[0m\n\u001b[1;32m    <a href='file:///usr/local/lib/python3.8/dist-packages/tensorflow/python/util/traceback_utils.py?line=150'>151</a>\u001b[0m \u001b[39mexcept\u001b[39;00m \u001b[39mException\u001b[39;00m \u001b[39mas\u001b[39;00m e:\n\u001b[1;32m    <a href='file:///usr/local/lib/python3.8/dist-packages/tensorflow/python/util/traceback_utils.py?line=151'>152</a>\u001b[0m   filtered_tb \u001b[39m=\u001b[39m _process_traceback_frames(e\u001b[39m.\u001b[39m__traceback__)\n\u001b[0;32m--> <a href='file:///usr/local/lib/python3.8/dist-packages/tensorflow/python/util/traceback_utils.py?line=152'>153</a>\u001b[0m   \u001b[39mraise\u001b[39;00m e\u001b[39m.\u001b[39mwith_traceback(filtered_tb) \u001b[39mfrom\u001b[39;00m \u001b[39mNone\u001b[39m\n\u001b[1;32m    <a href='file:///usr/local/lib/python3.8/dist-packages/tensorflow/python/util/traceback_utils.py?line=153'>154</a>\u001b[0m \u001b[39mfinally\u001b[39;00m:\n\u001b[1;32m    <a href='file:///usr/local/lib/python3.8/dist-packages/tensorflow/python/util/traceback_utils.py?line=154'>155</a>\u001b[0m   \u001b[39mdel\u001b[39;00m filtered_tb\n",
      "File \u001b[0;32m/usr/local/lib/python3.8/dist-packages/tensorflow/python/eager/execute.py:54\u001b[0m, in \u001b[0;36mquick_execute\u001b[0;34m(op_name, num_outputs, inputs, attrs, ctx, name)\u001b[0m\n\u001b[1;32m     <a href='file:///usr/local/lib/python3.8/dist-packages/tensorflow/python/eager/execute.py?line=51'>52</a>\u001b[0m \u001b[39mtry\u001b[39;00m:\n\u001b[1;32m     <a href='file:///usr/local/lib/python3.8/dist-packages/tensorflow/python/eager/execute.py?line=52'>53</a>\u001b[0m   ctx\u001b[39m.\u001b[39mensure_initialized()\n\u001b[0;32m---> <a href='file:///usr/local/lib/python3.8/dist-packages/tensorflow/python/eager/execute.py?line=53'>54</a>\u001b[0m   tensors \u001b[39m=\u001b[39m pywrap_tfe\u001b[39m.\u001b[39mTFE_Py_Execute(ctx\u001b[39m.\u001b[39m_handle, device_name, op_name,\n\u001b[1;32m     <a href='file:///usr/local/lib/python3.8/dist-packages/tensorflow/python/eager/execute.py?line=54'>55</a>\u001b[0m                                       inputs, attrs, num_outputs)\n\u001b[1;32m     <a href='file:///usr/local/lib/python3.8/dist-packages/tensorflow/python/eager/execute.py?line=55'>56</a>\u001b[0m \u001b[39mexcept\u001b[39;00m core\u001b[39m.\u001b[39m_NotOkStatusException \u001b[39mas\u001b[39;00m e:\n\u001b[1;32m     <a href='file:///usr/local/lib/python3.8/dist-packages/tensorflow/python/eager/execute.py?line=56'>57</a>\u001b[0m   \u001b[39mif\u001b[39;00m name \u001b[39mis\u001b[39;00m \u001b[39mnot\u001b[39;00m \u001b[39mNone\u001b[39;00m:\n",
      "\u001b[0;31mInvalidArgumentError\u001b[0m: Value for attr 'T' of int32 is not in the list of allowed values: bfloat16, half, float, double, complex64, complex128\n\t; NodeDef: {{node Exp}}; Op<name=Exp; signature=x:T -> y:T; attr=T:type,allowed=[DT_BFLOAT16, DT_HALF, DT_FLOAT, DT_DOUBLE, DT_COMPLEX64, DT_COMPLEX128]> [Op:Exp]"
     ]
    }
   ],
   "source": [
    "SMALL_CONSTANT = 1e-12\n",
    "\n",
    "z1_mean, z1_log_var = [1, 2], [3, 4]\n",
    "\n",
    "temp_var_q = SMALL_CONSTANT + tf.exp(z1_log_var)\n",
    "mvn_q = tfp.distributions.MultivariateNormalDiag(\n",
    "                loc=z1_mean,\n",
    "                scale_diag=tf.sqrt(temp_var_q))\n",
    "\n",
    "z1 = mvn_q.sample()\n",
    "\n",
    "z2_mean, z2_log_var, z2_weight = [1, 2], [3, 4], [5, 6]\n",
    "\n",
    "z2_mean = tf.reshape(z2_mean, (-1, gaussian_number, latent_dim))\n",
    "z2_log_var = tf.reshape(z2_log_var, (-1, gaussian_number, latent_dim))\n",
    "z2_weight = tf.reshape(z2_weight, (-1, gaussian_number))\n",
    "\n",
    "temp_var_r1 = SMALL_CONSTANT + tf.exp(z2_log_var)\n",
    "bimix_gauss = tfp.distributions.MixtureSameFamily(\n",
    "                mixture_distribution=tfp.distributions.Categorical(logits=z2_weight),\n",
    "                components_distribution=tfp.distributions.MultivariateNormalDiag(\n",
    "                loc=z2_mean,\n",
    "                scale_diag=tf.sqrt(temp_var_r1)))\n",
    "\n",
    "reconstruction_mean, reconstruction_var = self.decoder([z1, x[1]])     \n",
    "\n",
    "temp_var_r2 = SMALL_CONSTANT + tf.exp(reconstruction_var)\n",
    "reconstruction_parameter = tfp.distributions.MultivariateNormalDiag(\n",
    "                            loc=reconstruction_mean,\n",
    "                            scale_diag= tf.sqrt(temp_var_r2))\n",
    "\n",
    "kl_loss = tf.reduce_mean(mvn_q.log_prob(z1) - bimix_gauss.log_prob(z1))*kl_scaling\n",
    "reconstruction_loss = -1.0*tf.reduce_mean(reconstruction_parameter.log_prob(y))\n",
    "\n",
    "total_loss = reconstruction_loss + kl_loss"
   ]
  },
  {
   "cell_type": "markdown",
   "id": "cb5fa6e9",
   "metadata": {},
   "source": [
    "Encoder 1 (parameter + spectrum)"
   ]
  },
  {
   "cell_type": "code",
   "execution_count": 3,
   "id": "particular-freedom",
   "metadata": {},
   "outputs": [],
   "source": [
    "def encoder1(guassian_number, latent_dim, latent_dim_2, x_parameter_node, x_spectrum_node, x_latent_node):\n",
    "    encoder_parameter_inputs = layers.Input(shape=(len(y_train[0]),),name = 'encoder_parameter_inputs')\n",
    "    x_parameter = layers.Dense(x_parameter_node[0], activation=\"relu\", name = 'dense_parameter_1')(encoder_parameter_inputs)\n",
    "    x_parameter = layers.Dense(x_parameter_node[1], activation=\"relu\", name = 'dense_parameter_2')(x_parameter)\n",
    "    x_parameter = layers.Dense(x_parameter_node[2], activation=\"relu\", name = 'dense_parameter_3')(x_parameter)\n",
    "\n",
    "    encoder_spectrum_inputs = layers.Input(shape=(144),name = 'encoder_spectrum_inputs')\n",
    "    x_spectrum = layers.Dense(x_spectrum_node[0], activation=\"relu\", name = 'dense_spectrum_1')(encoder_spectrum_inputs)\n",
    "    x_spectrum = layers.Dense(x_spectrum_node[1], activation=\"relu\", name = 'dense_spectrum_2')(x_spectrum)\n",
    "    x_spectrum = layers.Dense(x_spectrum_node[2], activation=\"relu\", name = 'dense_spectrum_3')(x_spectrum)\n",
    "\n",
    "    mergedOut_Encoder_1 = Concatenate()([x_parameter,x_spectrum])\n",
    "\n",
    "    z_mean = layers.Dense(latent_dim, name=\"z_mean\")(mergedOut_Encoder_1)\n",
    "    z_log_var = layers.Dense(latent_dim, name=\"z_log_var\")(mergedOut_Encoder_1)\n",
    "\n",
    "    return keras.Model(inputs=[encoder_parameter_inputs, encoder_spectrum_inputs], outputs=[z_mean, z_log_var], name=\"encoder_1\")"
   ]
  },
  {
   "cell_type": "markdown",
   "id": "86632ca6",
   "metadata": {},
   "source": [
    "Encoder2 (spectrum)"
   ]
  },
  {
   "cell_type": "code",
   "execution_count": 4,
   "id": "controlled-photographer",
   "metadata": {},
   "outputs": [],
   "source": [
    "def encoder2(guassian_number, latent_dim, latent_dim_2, x_parameter_node, x_spectrum_node, x_latent_node):\n",
    "    encoder_spectrum_inputs = layers.Input(shape=(len(x_train[0]),),name = 'encoder_spectrum_inputs')\n",
    "    x_spectrum = layers.Dense(x_spectrum_node[0], activation=\"relu\", name = 'dense_spectrum_1')(encoder_spectrum_inputs)\n",
    "    x_spectrum = layers.Dense(x_spectrum_node[1], activation=\"relu\", name = 'dense_spectrum_2')(x_spectrum)\n",
    "    x_spectrum = layers.Dense(x_spectrum_node[2], activation=\"relu\", name = 'dense_spectrum_3')(x_spectrum)\n",
    "\n",
    "    z_mean = layers.Dense(guassian_number*latent_dim, name=\"z_mean\")(x_spectrum)\n",
    "    z_log_var = layers.Dense(guassian_number*latent_dim, name=\"z_log_var\")(x_spectrum)\n",
    "    z_weight = layers.Dense(guassian_number, name=\"z_weight\")(x_spectrum)\n",
    "\n",
    "    return keras.Model(inputs=encoder_spectrum_inputs, outputs=[z_mean, z_log_var, z_weight], name=\"encoder_2\")"
   ]
  },
  {
   "cell_type": "markdown",
   "id": "05ef690d",
   "metadata": {},
   "source": [
    "Decoder (latent + spectrum)"
   ]
  },
  {
   "cell_type": "code",
   "execution_count": 5,
   "id": "fantastic-terrorism",
   "metadata": {},
   "outputs": [],
   "source": [
    "def decoder(guassian_number, latent_dim, latent_dim_2, x_parameter_node, x_spectrum_node, x_latent_node):\n",
    "    decoder_latent_inputs = keras.Input(shape=(latent_dim,),name = 'decoder_latent_inputs')\n",
    "    x_latent = layers.Dense(x_latent_node[0], activation=\"relu\", name = 'dense_1')(decoder_latent_inputs)\n",
    "    x_latent = layers.Dense(x_latent_node[1], activation=\"relu\", name = 'dense_2')(x_latent)\n",
    "    x_latent = layers.Dense(x_latent_node[2], activation=\"relu\", name = 'dense_3')(x_latent)\n",
    "\n",
    "    decoder_spectrum_inputs = layers.Input(shape=(144,),name = 'decoder_spectrum_inputs')\n",
    "    x_spectrum = layers.Dense(x_spectrum_node[0], activation=\"relu\", name = 'dense_spectrum_1')(decoder_spectrum_inputs)\n",
    "    x_spectrum = layers.Dense(x_spectrum_node[1], activation=\"relu\", name = 'dense_spectrum_2')(x_spectrum)\n",
    "    x_spectrum = layers.Dense(x_spectrum_node[2], activation=\"relu\", name = 'dense_spectrum_3')(x_spectrum)\n",
    "\n",
    "    mergedOut_Decoder = Concatenate()([x_latent,x_spectrum])\n",
    "\n",
    "    z2_mean = layers.Dense(latent_dim_2, name=\"z_mean\")(mergedOut_Decoder)\n",
    "    z2_log_var = layers.Dense(latent_dim_2, name=\"z_log_var\")(mergedOut_Decoder)\n",
    "\n",
    "    return keras.Model(inputs=[decoder_latent_inputs, decoder_spectrum_inputs], outputs=[z2_mean, z2_log_var], name=\"decoder\")"
   ]
  },
  {
   "cell_type": "code",
   "execution_count": 6,
   "id": "specific-arbor",
   "metadata": {},
   "outputs": [],
   "source": [
    "class CVAE(keras.Model):\n",
    "    def __init__(self, guassian_number, latent_dim, latent_dim_2, x_parameter_node, x_spectrum_node, x_latent_node, kl_scaling, **kwargs):\n",
    "        super(CVAE, self).__init__(**kwargs)\n",
    "        self.encoder1 = encoder1(guassian_number, latent_dim, latent_dim_2, x_parameter_node, x_spectrum_node, x_latent_node)\n",
    "        self.encoder2 = encoder2(guassian_number, latent_dim, latent_dim_2, x_parameter_node, x_spectrum_node, x_latent_node)\n",
    "        self.decoder = decoder(guassian_number, latent_dim, latent_dim_2, x_parameter_node, x_spectrum_node, x_latent_node)\n",
    "        self.total_loss_tracker = keras.metrics.Mean(name=\"total_loss\")\n",
    "        self.reconstruction_loss_tracker = keras.metrics.Mean(name=\"reconstruction_loss\")\n",
    "        self.kl_loss_tracker = keras.metrics.Mean(name=\"kl_loss\")\n",
    "        self.val_total_loss_tracker = keras.metrics.Mean(name=\"total_loss\")\n",
    "        self.val_reconstruction_loss_tracker = keras.metrics.Mean(name=\"reconstruction_loss\")\n",
    "        self.val_kl_loss_tracker = keras.metrics.Mean(name=\"kl_loss\")\n",
    "\n",
    "    @property\n",
    "    def metrics(self):\n",
    "        return [\n",
    "            self.total_loss_tracker,\n",
    "            self.reconstruction_loss_tracker,\n",
    "            self.kl_loss_tracker,\n",
    "            self.val_total_loss_tracker,\n",
    "            self.val_reconstruction_loss_tracker,\n",
    "            self.val_kl_loss_tracker,\n",
    "\n",
    "                ]\n",
    "\n",
    "    def train_step(self, data):\n",
    "        x, y = data\n",
    "        with tf.GradientTape() as tape:\n",
    "            SMALL_CONSTANT = 1e-12\n",
    "            \n",
    "            z1_mean, z1_log_var = self.encoder1(x)\n",
    "            \n",
    "            temp_var_q = SMALL_CONSTANT + tf.exp(z1_log_var)\n",
    "            mvn_q = tfp.distributions.MultivariateNormalDiag(\n",
    "                          loc=z1_mean,\n",
    "                          scale_diag=tf.sqrt(temp_var_q))\n",
    "            \n",
    "            z1 = mvn_q.sample()\n",
    "            \n",
    "            z2_mean, z2_log_var, z2_weight = self.encoder2(x[1])\n",
    "\n",
    "            z2_mean = tf.reshape(z2_mean, (-1, gaussian_number, latent_dim))\n",
    "            z2_log_var = tf.reshape(z2_log_var, (-1, gaussian_number, latent_dim))\n",
    "            z2_weight = tf.reshape(z2_weight, (-1, gaussian_number))\n",
    "            \n",
    "            temp_var_r1 = SMALL_CONSTANT + tf.exp(z2_log_var)\n",
    "            bimix_gauss = tfp.distributions.MixtureSameFamily(\n",
    "                          mixture_distribution=tfp.distributions.Categorical(logits=z2_weight),\n",
    "                          components_distribution=tfp.distributions.MultivariateNormalDiag(\n",
    "                          loc=z2_mean,\n",
    "                          scale_diag=tf.sqrt(temp_var_r1)))\n",
    "            \n",
    "            reconstruction_mean, reconstruction_var = self.decoder([z1, x[1]])     \n",
    "            \n",
    "            temp_var_r2 = SMALL_CONSTANT + tf.exp(reconstruction_var)\n",
    "            reconstruction_parameter = tfp.distributions.MultivariateNormalDiag(\n",
    "                                     loc=reconstruction_mean,\n",
    "                                     scale_diag= tf.sqrt(temp_var_r2))\n",
    "\n",
    "            kl_loss = tf.reduce_mean(mvn_q.log_prob(z1) - bimix_gauss.log_prob(z1))*kl_scaling\n",
    "            reconstruction_loss = -1.0*tf.reduce_mean(reconstruction_parameter.log_prob(y))\n",
    "            \n",
    "            total_loss = reconstruction_loss + kl_loss\n",
    "            \n",
    "        grads = tape.gradient(total_loss, self.trainable_weights)\n",
    "        self.optimizer.apply_gradients(zip(grads, self.trainable_weights))\n",
    "        self.total_loss_tracker.update_state(total_loss)\n",
    "        self.reconstruction_loss_tracker.update_state(reconstruction_loss)\n",
    "        self.kl_loss_tracker.update_state(kl_loss)\n",
    "        \n",
    "        return {\n",
    "            \"loss\": self.total_loss_tracker.result(),\n",
    "            \"reconstruction_loss\": self.reconstruction_loss_tracker.result(),\n",
    "            \"kl_loss\": self.kl_loss_tracker.result(),\n",
    "        }\n",
    "\n",
    "    def evaluate(self,\n",
    "               x=None,\n",
    "               y=None,\n",
    "               batch_size=None,\n",
    "               verbose=1,\n",
    "               sample_weight=None,\n",
    "               steps=None,\n",
    "               callbacks=None,\n",
    "               max_queue_size=10,\n",
    "               workers=1,\n",
    "               use_multiprocessing=False,\n",
    "               return_dict=False,\n",
    "               **kwargs):\n",
    "        SMALL_CONSTANT = 1e-12\n",
    "        \n",
    "        z1_mean, z1_log_var = self.encoder1(x)\n",
    "        \n",
    "        temp_var_q = SMALL_CONSTANT + tf.exp(z1_log_var)\n",
    "        mvn_q = tfp.distributions.MultivariateNormalDiag(\n",
    "                        loc=z1_mean,\n",
    "                        scale_diag=tf.sqrt(temp_var_q))\n",
    "        \n",
    "        z1 = mvn_q.sample()\n",
    "        \n",
    "        z2_mean, z2_log_var, z2_weight = self.encoder2(x[1])\n",
    "\n",
    "        z2_mean = tf.reshape(z2_mean, (-1, gaussian_number, latent_dim))\n",
    "        z2_log_var = tf.reshape(z2_log_var, (-1, gaussian_number, latent_dim))\n",
    "        z2_weight = tf.reshape(z2_weight, (-1, gaussian_number))\n",
    "        \n",
    "        temp_var_r1 = SMALL_CONSTANT + tf.exp(z2_log_var)\n",
    "        bimix_gauss = tfp.distributions.MixtureSameFamily(\n",
    "                        mixture_distribution=tfp.distributions.Categorical(logits=z2_weight),\n",
    "                        components_distribution=tfp.distributions.MultivariateNormalDiag(\n",
    "                        loc=z2_mean,\n",
    "                        scale_diag=tf.sqrt(temp_var_r1)))\n",
    "        \n",
    "        reconstruction_mean, reconstruction_var = self.decoder([z1, x[1]])     \n",
    "        \n",
    "        temp_var_r2 = SMALL_CONSTANT + tf.exp(reconstruction_var)\n",
    "        reconstruction_parameter = tfp.distributions.MultivariateNormalDiag(\n",
    "                                    loc=reconstruction_mean,\n",
    "                                    scale_diag= tf.sqrt(temp_var_r2))\n",
    "\n",
    "        kl_loss = tf.reduce_mean(mvn_q.log_prob(z1) - bimix_gauss.log_prob(z1))*kl_scaling\n",
    "        reconstruction_loss = -1.0*tf.reduce_mean(reconstruction_parameter.log_prob(y))\n",
    "        \n",
    "        total_loss = reconstruction_loss + kl_loss\n",
    "        self.val_total_loss_tracker.update_state(total_loss)\n",
    "        self.val_reconstruction_loss_tracker.update_state(reconstruction_loss)\n",
    "        self.val_kl_loss_tracker.update_state(kl_loss)\n",
    "\n",
    "        return {\n",
    "            \"val_loss\": self.val_total_loss_tracker.result(),\n",
    "            \"val_reconstruction_loss\": self.val_reconstruction_loss_tracker.result(),\n",
    "            \"val_kl_loss\": self.val_kl_loss_tracker.result(),\n",
    "        }"
   ]
  },
  {
   "cell_type": "markdown",
   "id": "88f3b812",
   "metadata": {},
   "source": [
    "Model Building, Train, and Save"
   ]
  },
  {
   "cell_type": "code",
   "execution_count": 7,
   "id": "fc69e0c9",
   "metadata": {},
   "outputs": [],
   "source": [
    "gaussian_number = 10\n",
    "latent_dim = 4\n",
    "latent_dim_2 = len(y_train[0])\n",
    "x_parameter_node = [256, 256, 256]\n",
    "x_spectrum_node = x_parameter_node\n",
    "x_latent_node = x_parameter_node\n",
    "kl_scaling = 1e+4\n",
    "lr = 0.00002\n",
    "# x_spectrum_node = [256, 64, 16]\n",
    "# x_latent_node = [256, 64, 16]"
   ]
  },
  {
   "cell_type": "code",
   "execution_count": 8,
   "id": "subsequent-kelly",
   "metadata": {},
   "outputs": [
    {
     "name": "stdout",
     "output_type": "stream",
     "text": [
      "Epoch 1/100\n",
      "WARNING:tensorflow:From /usr/local/lib/python3.8/dist-packages/tensorflow_probability/python/distributions/distribution.py:342: calling MultivariateNormalDiag.__init__ (from tensorflow_probability.python.distributions.mvn_diag) with scale_identity_multiplier is deprecated and will be removed after 2020-01-01.\n",
      "Instructions for updating:\n",
      "`scale_identity_multiplier` is deprecated; please combine it into `scale_diag` directly instead.\n",
      "9000/9000 [==============================] - 77s 8ms/step - loss: 38.4365 - reconstruction_loss: 0.7353 - kl_loss: 14.5389 - val_val_loss: 4.2403 - val_val_reconstruction_loss: -0.3515 - val_val_kl_loss: 4.5918\n",
      "Epoch 2/100\n",
      "9000/9000 [==============================] - 70s 8ms/step - loss: 3.8596 - reconstruction_loss: -0.5872 - kl_loss: 3.7377 - val_val_loss: 2.5692 - val_val_reconstruction_loss: -0.7959 - val_val_kl_loss: 3.3651\n",
      "Epoch 3/100\n",
      "4868/9000 [===============>..............] - ETA: 30s - loss: 2.1094 - reconstruction_loss: -0.8856 - kl_loss: 2.7347"
     ]
    }
   ],
   "source": [
    "cvae_model_index = 100\n",
    "for num in [64]:\n",
    "    x_parameter_node = [num]*3\n",
    "    x_spectrum_node = x_parameter_node\n",
    "    x_latent_node = x_parameter_node\n",
    "\n",
    "    cvae = CVAE(gaussian_number, latent_dim, latent_dim_2, x_parameter_node, x_spectrum_node, x_latent_node, kl_scaling)\n",
    "    cvae.compile(optimizer=keras.optimizers.Adam(learning_rate=lr))\n",
    "    cvae_model_index += 1\n",
    "    while os.path.isdir(\"./tb_log/model_{}\".format(cvae_model_index)): cvae_model_index += 1\n",
    "    os.mkdir(\"./tb_log/model_{}\".format(cvae_model_index))\n",
    "    with open(\"./tb_log/model_{}/model_info.txt\".format(cvae_model_index), 'w') as f:\n",
    "        f.writelines('gaussian_number = {}\\n'.format(gaussian_number))\n",
    "        f.writelines('latent_dim = {}\\n'.format(latent_dim))\n",
    "        f.writelines('latent_dim_2 = {}\\n'.format(latent_dim_2))\n",
    "        f.writelines('x_parameter_node = {}\\n'.format(x_parameter_node))\n",
    "        f.writelines('x_spectrum_node = {}\\n'.format(x_spectrum_node))\n",
    "        f.writelines('x_latent_node = {}\\n'.format(x_latent_node))\n",
    "        f.writelines('kl_scaling = {}\\n'.format(kl_scaling))\n",
    "        f.writelines('lr = {}\\n'.format(lr))\n",
    "    tensorboard_callback = keras.callbacks.TensorBoard(\n",
    "        log_dir = \"./tb_log/model_{}\".format(cvae_model_index), histogram_freq = 1)\n",
    "    cvae.fit(x = [y_train[:], x_train_poisson[:]],\n",
    "                y = [y_train[:]],\n",
    "                batch_size=1000,\n",
    "                epochs=100,\n",
    "                validation_split=0.1,\n",
    "                verbose=1,\n",
    "                shuffle=True,\n",
    "                callbacks=[tensorboard_callback]\n",
    "    )\n",
    "\n",
    "    path = \"./CVAE/model_{}/\".format(cvae_model_index)\n",
    "    cvae.encoder1.save(path + \"encoder_1.h5\")\n",
    "    cvae.encoder2.save(path + \"encoder_2.h5\")\n",
    "    cvae.decoder.save(path + \"decoder.h5\")"
   ]
  },
  {
   "cell_type": "code",
   "execution_count": null,
   "id": "51b819b5",
   "metadata": {},
   "outputs": [],
   "source": []
  },
  {
   "cell_type": "markdown",
   "id": "2a352c8b",
   "metadata": {},
   "source": [
    "cvae.fit(x = [y_train, x_train/1000],\n",
    "            y = y_train,\n",
    "            batch_size=1000,\n",
    "            epochs=10,\n",
    "            verbose=1,\n",
    "            shuffle=True)\n",
    "        \n",
    "scale_steps = np.logspace(-3, 0, 30)\n",
    "\n",
    "for scale in scale_steps:\n",
    "    x_train_gen = np.random.normal(x_train, np.sqrt(x_train)*scale)/1000\n",
    "    cvae.fit(x = [y_train, x_train_gen],\n",
    "             y = y_train,\n",
    "             batch_size=1000,\n",
    "             epochs=10,\n",
    "             verbose=1,\n",
    "             shuffle=True)"
   ]
  },
  {
   "cell_type": "markdown",
   "id": "sound-throw",
   "metadata": {},
   "source": [
    "for i in tqdm(range(2, 11)):\n",
    "    training_data = np.load(\"./nsi_data/sample_nsi_regression_1e7_v{}.npz\".format(i))\n",
    "    data_all = np.column_stack([training_data['ve_dune'][:,:36], training_data['vu_dune'][:,:36], training_data['vebar_dune'][:,:36], training_data['vubar_dune'][:,:36]])\n",
    "\n",
    "    target = np.column_stack([training_data[\"theta13\"]/180*np.pi, training_data[\"theta23\"]/180*np.pi,\n",
    "                            np.sin(training_data[\"delta\"]/180*np.pi), np.cos(training_data[\"delta\"]/180*np.pi),\n",
    "                            training_data[\"mumu\"], training_data[\"emu\"],training_data[\"etau\"]])\n",
    "\n",
    "    x_train = data_all\n",
    "    y_train = target\n",
    "    x_train_poisson = np.random.poisson(x_train)/1000\n",
    "    cvae.fit(x = [y_train, x_train_poisson],\n",
    "             y = y_train,\n",
    "             batch_size=1000,\n",
    "             epochs=100,\n",
    "             verbose=1,\n",
    "             shuffle=True)"
   ]
  }
 ],
 "metadata": {
  "interpreter": {
   "hash": "31f2aee4e71d21fbe5cf8b01ff0e069b9275f58929596ceb00d14d90e3e16cd6"
  },
  "kernelspec": {
   "display_name": "Python 3.8.10 64-bit",
   "language": "python",
   "name": "python3"
  },
  "language_info": {
   "codemirror_mode": {
    "name": "ipython",
    "version": 3
   },
   "file_extension": ".py",
   "mimetype": "text/x-python",
   "name": "python",
   "nbconvert_exporter": "python",
   "pygments_lexer": "ipython3",
   "version": "3.8.10"
  }
 },
 "nbformat": 4,
 "nbformat_minor": 5
}
