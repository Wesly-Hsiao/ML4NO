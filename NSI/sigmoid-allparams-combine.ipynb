{
 "cells": [
  {
   "cell_type": "code",
   "execution_count": 1,
   "metadata": {
    "tags": []
   },
   "outputs": [],
   "source": [
    "import numpy as np\n",
    "import matplotlib.pyplot as plt\n",
    "import autokeras as ak\n",
    "import tensorflow as tf\n",
    "import os"
   ]
  },
  {
   "cell_type": "code",
   "execution_count": 2,
   "metadata": {},
   "outputs": [],
   "source": [
    "import tensorflow.keras as keras\n",
    "from tensorflow.keras.models import Sequential, load_model\n",
    "from tensorflow.keras.layers import Dense, Dropout, Flatten, Convolution2D, MaxPooling2D , Lambda, Conv2D, Activation,Concatenate\n",
    "from tensorflow.keras.layers import ActivityRegularization, BatchNormalization\n",
    "from tensorflow.keras.optimizers import Adam , SGD , Adagrad\n",
    "from tensorflow.keras.callbacks import ModelCheckpoint, LearningRateScheduler, EarlyStopping, CSVLogger, ReduceLROnPlateau\n",
    "from tensorflow.keras.utils import to_categorical\n",
    "from tensorflow.keras import regularizers , initializers\n",
    "from tensorflow.keras.models import Model\n",
    "from tensorflow.keras.preprocessing.image import ImageDataGenerator\n",
    "from tensorflow.keras.preprocessing.image import NumpyArrayIterator\n",
    "from sklearn.preprocessing import StandardScaler"
   ]
  },
  {
   "cell_type": "code",
   "execution_count": 3,
   "metadata": {},
   "outputs": [],
   "source": [
    "import logging\n",
    "\n",
    "logging.basicConfig(level = logging.INFO)\n",
    "gpus = tf.config.experimental.list_physical_devices('GPU')\n",
    "# if gpus:\n",
    "#   # Restrict TensorFlow to only use the first GPU\n",
    "try:\n",
    "    tf.config.experimental.set_visible_devices(gpus[0], 'GPU')\n",
    "    tf.config.experimental.set_virtual_device_configuration(\n",
    "    gpus[0],\n",
    "    [tf.config.experimental.VirtualDeviceConfiguration(memory_limit=2000)])\n",
    "    logical_gpus = tf.config.experimental.list_logical_devices('GPU')\n",
    "#     logging.info(len(gpus), \"Physical GPUs,\", len(logical_gpus), \"Logical GPU\")\n",
    "except RuntimeError as e:\n",
    "# Visible devices must be set before GPUs have been initialized\n",
    "    logging.info(e)"
   ]
  },
  {
   "cell_type": "code",
   "execution_count": 4,
   "metadata": {
    "tags": []
   },
   "outputs": [],
   "source": [
    "data = np.load(\"./nsi_data/sample_nsi_regression_1e7_v1.npz\")"
   ]
  },
  {
   "cell_type": "code",
   "execution_count": 5,
   "metadata": {},
   "outputs": [],
   "source": [
    "data_selection = 1 # 0 for all, 1 for lowE(<5GeV), 2 for high(>5GeV)\n",
    "\n",
    "if data_selection == 0:\n",
    "    data_all = np.column_stack([data['ve_dune'], data['vu_dune'], data['vebar_dune'], data['vubar_dune']])\n",
    "elif data_selection == 1:\n",
    "    data_all = np.column_stack([data['ve_dune'][:,:36], data['vu_dune'][:,:36], data['vebar_dune'][:,:36], data['vubar_dune'][:,:36]])\n",
    "elif data_selection == 2:\n",
    "    data_all = np.column_stack([data['ve_dune'][:,36:], data['vu_dune'][:,36:], data['vebar_dune'][:,36:], data['vubar_dune'][:,36:]])\n",
    "\n",
    "pre_target = np.column_stack([data['theta13'],data['theta23']/5,data['delta']/180+5,data['mumu']+5,data['emu']+5,data['etau']+5])\n",
    "target = np.column_stack([pre_target, pre_target])\n",
    "\n",
    "x_train = data_all[:10000]\n",
    "y_train = target[:10000]\n",
    "x_train2 = data_all[10000:900000]\n",
    "y_train2 = target[10000:900000]\n",
    "x_test = data_all[900000:1000000]\n",
    "y_test = target[900000:1000000]"
   ]
  },
  {
   "cell_type": "code",
   "execution_count": 6,
   "metadata": {},
   "outputs": [],
   "source": [
    "model_name = \"nsi_degen_allparams\""
   ]
  },
  {
   "cell_type": "code",
   "execution_count": 10,
   "metadata": {},
   "outputs": [],
   "source": [
    "from tensorflow.keras import backend as K\n",
    "\n",
    "def custom_mse(y_true, y_pred):\n",
    "    loss = K.square(y_pred - y_true)\n",
    "    loss1 = loss[0]+loss[1]+loss[2]+loss[3]+loss[4]+loss[5]\n",
    "    loss2 = loss[6]+loss[7]+loss[8]+loss[9]+loss[10]+loss[11]\n",
    "    return K.switch(loss1<loss2, loss1, loss2)\n",
    "\n",
    "\n",
    "def DNN_Model(name):\n",
    "    model_DNN = Sequential(name = \"Model_DNN_\"+str(name))\n",
    "\n",
    "    model_DNN.add(keras.Input(shape=(len(x_train[0]),), name = 'input'))\n",
    "    model_DNN.add(BatchNormalization(name = 'BatchNormalization'))\n",
    "    model_DNN.add(Dense(512, activation='relu', name = 'dense_1'))\n",
    "    model_DNN.add(Dense(512, activation='relu', name = 'dense_2'))\n",
    "\n",
    "    model_DNN.add(Dense(12, activation='relu', name = 'output'))\n",
    "    model_opt = keras.optimizers.Adam()\n",
    "    model_DNN.compile(loss=custom_mse,#keras.losses.binary_crossentropy\n",
    "                              optimizer=model_opt,\n",
    "                              metrics=['mse'])\n",
    "    model_DNN.summary()\n",
    "    return model_DNN"
   ]
  },
  {
   "cell_type": "code",
   "execution_count": 11,
   "metadata": {},
   "outputs": [
    {
     "name": "stdout",
     "output_type": "stream",
     "text": [
      "Model: \"Model_DNN_regression\"\n",
      "_________________________________________________________________\n",
      "Layer (type)                 Output Shape              Param #   \n",
      "=================================================================\n",
      "BatchNormalization (BatchNor (None, 144)               576       \n",
      "_________________________________________________________________\n",
      "dense_1 (Dense)              (None, 512)               74240     \n",
      "_________________________________________________________________\n",
      "dense_2 (Dense)              (None, 512)               262656    \n",
      "_________________________________________________________________\n",
      "output (Dense)               (None, 12)                6156      \n",
      "=================================================================\n",
      "Total params: 343,628\n",
      "Trainable params: 343,340\n",
      "Non-trainable params: 288\n",
      "_________________________________________________________________\n"
     ]
    }
   ],
   "source": [
    "model = DNN_Model(\"regression\")"
   ]
  },
  {
   "cell_type": "code",
   "execution_count": 12,
   "metadata": {},
   "outputs": [
    {
     "name": "stdout",
     "output_type": "stream",
     "text": [
      "Epoch 1/20\n",
      "12516/12516 [==============================] - 37s 3ms/step - loss: 3.3918 - mse: 0.7693 - val_loss: 0.5996 - val_mse: 0.1592\n",
      "Epoch 2/20\n",
      "12516/12516 [==============================] - 35s 3ms/step - loss: 0.5944 - mse: 0.1588 - val_loss: 0.3766 - val_mse: 0.1101\n",
      "Epoch 3/20\n",
      "12516/12516 [==============================] - 35s 3ms/step - loss: 0.4426 - mse: 0.1278 - val_loss: 0.3247 - val_mse: 0.1009\n",
      "Epoch 4/20\n",
      "12516/12516 [==============================] - 36s 3ms/step - loss: 0.3788 - mse: 0.1135 - val_loss: 0.2801 - val_mse: 0.0867\n",
      "Epoch 5/20\n",
      "12516/12516 [==============================] - 36s 3ms/step - loss: 0.3395 - mse: 0.1043 - val_loss: 0.2338 - val_mse: 0.0734\n",
      "Epoch 6/20\n",
      "12516/12516 [==============================] - 36s 3ms/step - loss: 0.3171 - mse: 0.0975 - val_loss: 0.2484 - val_mse: 0.0797\n",
      "Epoch 7/20\n",
      "12516/12516 [==============================] - 35s 3ms/step - loss: 0.2928 - mse: 0.0929 - val_loss: 0.2194 - val_mse: 0.0682\n",
      "Epoch 8/20\n",
      "12516/12516 [==============================] - 36s 3ms/step - loss: 0.2799 - mse: 0.0893 - val_loss: 0.2104 - val_mse: 0.0651\n",
      "Epoch 9/20\n",
      "12516/12516 [==============================] - 36s 3ms/step - loss: 0.2689 - mse: 0.0856 - val_loss: 0.2255 - val_mse: 0.0687\n",
      "Epoch 10/20\n",
      "12516/12516 [==============================] - 37s 3ms/step - loss: 0.2618 - mse: 0.0834 - val_loss: 0.2338 - val_mse: 0.0687\n",
      "Epoch 11/20\n",
      "12516/12516 [==============================] - 37s 3ms/step - loss: 0.2500 - mse: 0.0798 - val_loss: 0.1981 - val_mse: 0.0649\n",
      "Epoch 12/20\n",
      "12516/12516 [==============================] - 37s 3ms/step - loss: 0.2464 - mse: 0.0795 - val_loss: 0.1829 - val_mse: 0.0566\n",
      "Epoch 13/20\n",
      "12516/12516 [==============================] - 36s 3ms/step - loss: 0.2380 - mse: 0.0771 - val_loss: 0.1861 - val_mse: 0.0588\n",
      "Epoch 14/20\n",
      "12516/12516 [==============================] - 35s 3ms/step - loss: 0.2336 - mse: 0.0765 - val_loss: 0.1621 - val_mse: 0.0544\n",
      "Epoch 15/20\n",
      "12516/12516 [==============================] - 36s 3ms/step - loss: 0.2296 - mse: 0.0753 - val_loss: 0.1819 - val_mse: 0.0604\n",
      "Epoch 16/20\n",
      "12516/12516 [==============================] - 36s 3ms/step - loss: 0.2248 - mse: 0.0733 - val_loss: 0.1711 - val_mse: 0.0572\n",
      "Epoch 17/20\n",
      "12516/12516 [==============================] - 36s 3ms/step - loss: 0.2198 - mse: 0.0729 - val_loss: 0.1614 - val_mse: 0.0558\n",
      "Epoch 18/20\n",
      "12516/12516 [==============================] - 36s 3ms/step - loss: 0.2124 - mse: 0.0714 - val_loss: 0.1604 - val_mse: 0.0549\n",
      "Epoch 19/20\n",
      "12516/12516 [==============================] - 36s 3ms/step - loss: 0.2160 - mse: 0.0712 - val_loss: 0.1574 - val_mse: 0.0543\n",
      "Epoch 20/20\n",
      "12516/12516 [==============================] - 36s 3ms/step - loss: 0.2115 - mse: 0.0704 - val_loss: 0.1644 - val_mse: 0.0523\n"
     ]
    },
    {
     "data": {
      "text/plain": [
       "<tensorflow.python.keras.callbacks.History at 0x7f48200e21d0>"
      ]
     },
     "execution_count": 12,
     "metadata": {},
     "output_type": "execute_result"
    }
   ],
   "source": [
    "model.fit(x_train2, y_train2,\n",
    "           validation_split = 0.1,\n",
    "           batch_size=64,\n",
    "           epochs=20,\n",
    "           verbose=1,\n",
    "           shuffle = True\n",
    "         )"
   ]
  },
  {
   "cell_type": "code",
   "execution_count": 13,
   "metadata": {
    "tags": []
   },
   "outputs": [],
   "source": [
    "model_index = 1\n",
    "while os.path.isfile('./models/{}_{}.h5'.format(model_name, model_index)):\n",
    "    model_index += 1\n",
    "model.save('./models/{}_{}.h5'.format(model_name, model_index))"
   ]
  },
  {
   "cell_type": "code",
   "execution_count": null,
   "metadata": {},
   "outputs": [
    {
     "name": "stdout",
     "output_type": "stream",
     "text": [
      "3125/3125 [==============================] - 5s 2ms/step - loss: 0.1618 - mse: 0.0518\n",
      "Epoch 1/5\n",
      "12516/12516 [==============================] - 35s 3ms/step - loss: 0.2064 - mse: 0.0694 - val_loss: 0.1570 - val_mse: 0.0516\n",
      "Epoch 2/5\n",
      "12516/12516 [==============================] - 35s 3ms/step - loss: 0.2052 - mse: 0.0684 - val_loss: 0.1440 - val_mse: 0.0473\n",
      "Epoch 3/5\n",
      "12516/12516 [==============================] - 35s 3ms/step - loss: 0.2026 - mse: 0.0677 - val_loss: 0.1486 - val_mse: 0.0500\n",
      "Epoch 4/5\n",
      "12516/12516 [==============================] - 35s 3ms/step - loss: 0.2014 - mse: 0.0675 - val_loss: 0.1417 - val_mse: 0.0462\n",
      "Epoch 5/5\n",
      "12516/12516 [==============================] - 35s 3ms/step - loss: 0.2000 - mse: 0.0674 - val_loss: 0.1372 - val_mse: 0.0464\n",
      "3125/3125 [==============================] - 5s 2ms/step - loss: 0.1371 - mse: 0.0461\n",
      "3125/3125 [==============================] - 5s 2ms/step - loss: 0.1371 - mse: 0.0461\n",
      "Epoch 1/5\n",
      "12516/12516 [==============================] - 36s 3ms/step - loss: 0.1976 - mse: 0.0665 - val_loss: 0.1384 - val_mse: 0.0482\n",
      "Epoch 2/5\n",
      "12516/12516 [==============================] - 36s 3ms/step - loss: 0.1950 - mse: 0.0655 - val_loss: 0.1551 - val_mse: 0.0542\n",
      "Epoch 3/5\n",
      "12516/12516 [==============================] - 36s 3ms/step - loss: 0.1957 - mse: 0.0657 - val_loss: 0.1340 - val_mse: 0.0443\n",
      "Epoch 4/5\n",
      "12516/12516 [==============================] - 36s 3ms/step - loss: 0.1907 - mse: 0.0648 - val_loss: 0.1322 - val_mse: 0.0464\n",
      "Epoch 5/5\n",
      "12516/12516 [==============================] - 36s 3ms/step - loss: 0.1915 - mse: 0.0650 - val_loss: 0.1387 - val_mse: 0.0508\n",
      "3125/3125 [==============================] - 5s 2ms/step - loss: 0.1341 - mse: 0.0499\n",
      "3125/3125 [==============================] - 5s 2ms/step - loss: 0.1342 - mse: 0.0499\n",
      "Epoch 1/5\n",
      "12516/12516 [==============================] - 35s 3ms/step - loss: 0.1894 - mse: 0.0647 - val_loss: 0.1265 - val_mse: 0.0437\n",
      "Epoch 2/5\n",
      "12516/12516 [==============================] - 36s 3ms/step - loss: 0.1867 - mse: 0.0641 - val_loss: 0.1440 - val_mse: 0.0477\n",
      "Epoch 3/5\n",
      "12516/12516 [==============================] - 36s 3ms/step - loss: 0.1863 - mse: 0.0635 - val_loss: 0.1444 - val_mse: 0.0482\n",
      "Epoch 4/5\n",
      "12516/12516 [==============================] - 36s 3ms/step - loss: 0.1852 - mse: 0.0639 - val_loss: 0.1499 - val_mse: 0.0489\n",
      "Epoch 5/5\n",
      "12516/12516 [==============================] - 36s 3ms/step - loss: 0.1840 - mse: 0.0631 - val_loss: 0.1453 - val_mse: 0.0483\n",
      "3125/3125 [==============================] - 5s 2ms/step - loss: 0.1423 - mse: 0.0478\n",
      "3125/3125 [==============================] - 5s 2ms/step - loss: 0.1423 - mse: 0.0478\n",
      "Epoch 1/5\n",
      "12516/12516 [==============================] - 36s 3ms/step - loss: 0.1833 - mse: 0.0623 - val_loss: 0.1406 - val_mse: 0.0492\n",
      "Epoch 2/5\n",
      "12516/12516 [==============================] - 36s 3ms/step - loss: 0.1817 - mse: 0.0628 - val_loss: 0.1287 - val_mse: 0.0446\n",
      "Epoch 3/5\n",
      "12516/12516 [==============================] - 36s 3ms/step - loss: 0.1815 - mse: 0.0629 - val_loss: 0.1296 - val_mse: 0.0439\n",
      "Epoch 4/5\n",
      "12516/12516 [==============================] - 36s 3ms/step - loss: 0.1802 - mse: 0.0620 - val_loss: 0.1454 - val_mse: 0.0495\n",
      "Epoch 5/5\n",
      "12516/12516 [==============================] - 36s 3ms/step - loss: 0.1797 - mse: 0.0620 - val_loss: 0.1247 - val_mse: 0.0434\n",
      "3125/3125 [==============================] - 5s 2ms/step - loss: 0.1240 - mse: 0.0429\n",
      "3125/3125 [==============================] - 5s 2ms/step - loss: 0.1241 - mse: 0.0430\n",
      "Epoch 1/5\n",
      "12516/12516 [==============================] - 36s 3ms/step - loss: 0.1805 - mse: 0.0619 - val_loss: 0.1293 - val_mse: 0.0441\n",
      "Epoch 2/5\n",
      "12516/12516 [==============================] - 36s 3ms/step - loss: 0.1784 - mse: 0.0616 - val_loss: 0.1329 - val_mse: 0.0451\n",
      "Epoch 3/5\n",
      "12516/12516 [==============================] - 36s 3ms/step - loss: 0.1762 - mse: 0.0614 - val_loss: 0.1273 - val_mse: 0.0444\n",
      "Epoch 4/5\n",
      " 7135/12516 [================>.............] - ETA: 14s - loss: 0.1770 - mse: 0.0611"
     ]
    }
   ],
   "source": [
    "scale_steps = np.logspace(-3, 0, 30)\n",
    "before_train_loss = []\n",
    "after_train_loss = []\n",
    "\n",
    "for scale in scale_steps:\n",
    "    x_train2_gen = np.random.normal(x_train2, np.sqrt(x_train2)*scale)\n",
    "    x_test_gen = np.random.normal(x_test, np.sqrt(x_test)*scale)\n",
    "\n",
    "    before_train_loss.append(model.evaluate(x_test_gen, y_test)[0])\n",
    "\n",
    "    model.fit(x_train2_gen, y_train2,\n",
    "               validation_split = 0.1,\n",
    "               batch_size=64,\n",
    "               epochs=5,\n",
    "               verbose=1,\n",
    "               shuffle = True\n",
    "             )\n",
    "    \n",
    "    after_train_loss.append(model.evaluate(x_test_gen, y_test)[0])"
   ]
  },
  {
   "cell_type": "code",
   "execution_count": null,
   "metadata": {},
   "outputs": [],
   "source": [
    "furthur_index = 1\n",
    "path = './models_furthurTrain/{}_{}_{}.h5'\n",
    "while os.path.isfile(path.format(model_name, model_index, furthur_index)):\n",
    "    index += 1\n",
    "model.save(path.format(model_name, model_index, furthur_index))\n",
    "outfile = {'scale_steps': scale_steps,\n",
    "           'before_train_loss': before_train_loss,\n",
    "           'after_train_loss' :after_train_loss}\n",
    "np.save(file = './models_furthurTrain/{}_{}_{}_result.npy'.format(model_name, model_index, furthur_index),\n",
    "        arr = outfile)"
   ]
  },
  {
   "cell_type": "code",
   "execution_count": null,
   "metadata": {},
   "outputs": [],
   "source": [
    "x_test2_gen = np.random.poisson(x_test)\n",
    "\n",
    "for i in range(10):\n",
    "    x_train2_gen = np.random.poisson(x_train2)\n",
    "    \n",
    "    model.fit(x_train2_gen, y_train2,\n",
    "              validation_split=0.1,\n",
    "               batch_size=64,\n",
    "               epochs=1,\n",
    "               verbose=1,\n",
    "               shuffle = True\n",
    "             )\n",
    "model.evaluate(x_test2_gen, y_test)"
   ]
  },
  {
   "cell_type": "code",
   "execution_count": null,
   "metadata": {},
   "outputs": [],
   "source": [
    "index = 1\n",
    "path = './models_PoissonTrain/{}_{}_{}_{}.h5'\n",
    "while os.path.isfile(path.format(model_name, model_index, furthur_index, index)):\n",
    "    index += 1\n",
    "model.save(path.format(model_name, model_index, furthur_index, index))"
   ]
  },
  {
   "cell_type": "code",
   "execution_count": null,
   "metadata": {},
   "outputs": [],
   "source": []
  }
 ],
 "metadata": {
  "kernelspec": {
   "display_name": "Python 3",
   "language": "python",
   "name": "python3"
  },
  "language_info": {
   "codemirror_mode": {
    "name": "ipython",
    "version": 3
   },
   "file_extension": ".py",
   "mimetype": "text/x-python",
   "name": "python",
   "nbconvert_exporter": "python",
   "pygments_lexer": "ipython3",
   "version": "3.6.9"
  }
 },
 "nbformat": 4,
 "nbformat_minor": 4
}
