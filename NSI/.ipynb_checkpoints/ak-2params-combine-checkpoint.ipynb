{
 "cells": [
  {
   "cell_type": "code",
   "execution_count": 1,
   "metadata": {
    "tags": []
   },
   "outputs": [],
   "source": [
    "import numpy as np\n",
    "import matplotlib.pyplot as plt\n",
    "import autokeras as ak\n",
    "import tensorflow as tf\n",
    "import os"
   ]
  },
  {
   "cell_type": "code",
   "execution_count": 2,
   "metadata": {},
   "outputs": [],
   "source": [
    "import logging\n",
    "\n",
    "logging.basicConfig(level = logging.INFO)\n",
    "gpus = tf.config.experimental.list_physical_devices('GPU')\n",
    "# if gpus:\n",
    "#   # Restrict TensorFlow to only use the first GPU\n",
    "try:\n",
    "    tf.config.experimental.set_visible_devices(gpus[0], 'GPU')\n",
    "    tf.config.experimental.set_virtual_device_configuration(\n",
    "    gpus[0],\n",
    "    [tf.config.experimental.VirtualDeviceConfiguration(memory_limit=2000)])\n",
    "    logical_gpus = tf.config.experimental.list_logical_devices('GPU')\n",
    "#     logging.info(len(gpus), \"Physical GPUs,\", len(logical_gpus), \"Logical GPU\")\n",
    "except RuntimeError as e:\n",
    "# Visible devices must be set before GPUs have been initialized\n",
    "    logging.info(e)"
   ]
  },
  {
   "cell_type": "code",
   "execution_count": 3,
   "metadata": {
    "tags": []
   },
   "outputs": [],
   "source": [
    "data = np.load('/home/ML4NO/Data/n1000000_0910_all_flat.npz')"
   ]
  },
  {
   "cell_type": "code",
   "execution_count": 4,
   "metadata": {
    "tags": []
   },
   "outputs": [],
   "source": [
    "data_selection = 1 # 0 for all, 1 for lowE(<5GeV), 2 for high(>5GeV)\n",
    "\n",
    "if data_selection == 0:\n",
    "    data_all = np.column_stack([data['ve_dune'], data['vu_dune'], data['vebar_dune'], data['vubar_dune']])\n",
    "elif data_selection == 1:\n",
    "    data_all = np.column_stack([data['ve_dune'][:,:36], data['vu_dune'][:,:36], data['vebar_dune'][:,:36], data['vubar_dune'][:,:36]])\n",
    "elif data_selection == 2:\n",
    "    data_all = np.column_stack([data['ve_dune'][:,36:], data['vu_dune'][:,36:], data['vebar_dune'][:,36:], data['vubar_dune'][:,36:]])\n",
    "\n",
    "target = np.column_stack([data['theta23'], data['delta']/36])\n",
    "\n",
    "x_train = data_all[:10000]\n",
    "y_train = target[:10000]\n",
    "\n",
    "x_train2 = data_all[10000:900000]\n",
    "y_train2 = target[10000:900000]\n",
    "\n",
    "x_test = data_all[900000:]\n",
    "y_test = target[900000:]"
   ]
  },
  {
   "cell_type": "code",
   "execution_count": 5,
   "metadata": {
    "tags": []
   },
   "outputs": [
    {
     "name": "stdout",
     "output_type": "stream",
     "text": [
      "Trial 50 Complete [00h 00m 41s]\n",
      "val_loss: 0.9726459383964539\n",
      "\n",
      "Best val_loss So Far: 0.10816149413585663\n",
      "Total elapsed time: 00h 35m 55s\n",
      "INFO:tensorflow:Oracle triggered exit\n"
     ]
    },
    {
     "name": "stderr",
     "output_type": "stream",
     "text": [
      "INFO:tensorflow:Oracle triggered exit\n"
     ]
    },
    {
     "name": "stdout",
     "output_type": "stream",
     "text": [
      "Epoch 1/20\n",
      "157/157 [==============================] - 3s 11ms/step - loss: 710.8920 - mean_squared_error: 710.8920\n",
      "Epoch 2/20\n",
      "157/157 [==============================] - 2s 12ms/step - loss: 2.8754 - mean_squared_error: 2.8754\n",
      "Epoch 3/20\n",
      "157/157 [==============================] - 2s 12ms/step - loss: 1.2690 - mean_squared_error: 1.2690\n",
      "Epoch 4/20\n",
      "157/157 [==============================] - 2s 12ms/step - loss: 0.9161 - mean_squared_error: 0.9161\n",
      "Epoch 5/20\n",
      "157/157 [==============================] - 2s 12ms/step - loss: 0.6941 - mean_squared_error: 0.6941\n",
      "Epoch 6/20\n",
      "157/157 [==============================] - 2s 12ms/step - loss: 0.5209 - mean_squared_error: 0.5209\n",
      "Epoch 7/20\n",
      "157/157 [==============================] - 2s 12ms/step - loss: 0.4585 - mean_squared_error: 0.4585\n",
      "Epoch 8/20\n",
      "157/157 [==============================] - 2s 12ms/step - loss: 0.4164 - mean_squared_error: 0.4164\n",
      "Epoch 9/20\n",
      "157/157 [==============================] - 2s 12ms/step - loss: 0.3733 - mean_squared_error: 0.3733\n",
      "Epoch 10/20\n",
      "157/157 [==============================] - 2s 12ms/step - loss: 0.3368 - mean_squared_error: 0.3368\n",
      "Epoch 11/20\n",
      "157/157 [==============================] - 2s 12ms/step - loss: 0.2705 - mean_squared_error: 0.2705\n",
      "Epoch 12/20\n",
      "157/157 [==============================] - 2s 12ms/step - loss: 0.2497 - mean_squared_error: 0.2497\n",
      "Epoch 13/20\n",
      "157/157 [==============================] - 2s 12ms/step - loss: 0.2049 - mean_squared_error: 0.2049\n",
      "Epoch 14/20\n",
      "157/157 [==============================] - 2s 12ms/step - loss: 0.2032 - mean_squared_error: 0.2032\n",
      "Epoch 15/20\n",
      "157/157 [==============================] - 2s 12ms/step - loss: 0.1595 - mean_squared_error: 0.1595\n",
      "Epoch 16/20\n",
      "157/157 [==============================] - 2s 12ms/step - loss: 0.1351 - mean_squared_error: 0.1351\n",
      "Epoch 17/20\n",
      "157/157 [==============================] - 2s 12ms/step - loss: 0.1187 - mean_squared_error: 0.1187\n",
      "Epoch 18/20\n",
      "157/157 [==============================] - 2s 12ms/step - loss: 0.1028 - mean_squared_error: 0.1028\n",
      "Epoch 19/20\n",
      "157/157 [==============================] - 2s 13ms/step - loss: 0.0926 - mean_squared_error: 0.0926\n",
      "Epoch 20/20\n",
      "157/157 [==============================] - 2s 12ms/step - loss: 0.0836 - mean_squared_error: 0.0836\n",
      "WARNING:tensorflow:FOR KERAS USERS: The object that you are saving contains one or more Keras models or layers. If you are loading the SavedModel with `tf.keras.models.load_model`, continue reading (otherwise, you may ignore the following instructions). Please change your code to save with `tf.keras.models.save_model` or `model.save`, and confirm that the file \"keras.metadata\" exists in the export directory. In the future, Keras will only load the SavedModels that have this file. In other words, `tf.saved_model.save` will no longer write SavedModels that can be recovered as Keras models (this will apply in TF 2.5).\n",
      "\n",
      "FOR DEVS: If you are overwriting _tracking_metadata in your class, this property has been used to save metadata in the SavedModel. The metadta field will be deprecated soon, so please move the metadata to a different file.\n"
     ]
    },
    {
     "name": "stderr",
     "output_type": "stream",
     "text": [
      "WARNING:tensorflow:FOR KERAS USERS: The object that you are saving contains one or more Keras models or layers. If you are loading the SavedModel with `tf.keras.models.load_model`, continue reading (otherwise, you may ignore the following instructions). Please change your code to save with `tf.keras.models.save_model` or `model.save`, and confirm that the file \"keras.metadata\" exists in the export directory. In the future, Keras will only load the SavedModels that have this file. In other words, `tf.saved_model.save` will no longer write SavedModels that can be recovered as Keras models (this will apply in TF 2.5).\n",
      "\n",
      "FOR DEVS: If you are overwriting _tracking_metadata in your class, this property has been used to save metadata in the SavedModel. The metadta field will be deprecated soon, so please move the metadata to a different file.\n"
     ]
    },
    {
     "name": "stdout",
     "output_type": "stream",
     "text": [
      "INFO:tensorflow:Assets written to: ./structured_data_regressor/best_model/assets\n"
     ]
    },
    {
     "name": "stderr",
     "output_type": "stream",
     "text": [
      "INFO:tensorflow:Assets written to: ./structured_data_regressor/best_model/assets\n"
     ]
    },
    {
     "data": {
      "text/plain": [
       "<tensorflow.python.keras.callbacks.History at 0x7fd7a4168198>"
      ]
     },
     "execution_count": 5,
     "metadata": {},
     "output_type": "execute_result"
    }
   ],
   "source": [
    "clf = ak.StructuredDataRegressor(overwrite=True, max_trials=50)\n",
    "clf.fit(x_train, y_train,\n",
    "           validation_split = 0.1,\n",
    "           batch_size=64,\n",
    "           epochs=20,\n",
    "           verbose=1,\n",
    "           shuffle = True\n",
    "       )"
   ]
  },
  {
   "cell_type": "code",
   "execution_count": 6,
   "metadata": {},
   "outputs": [
    {
     "name": "stdout",
     "output_type": "stream",
     "text": [
      "Model: \"model\"\n",
      "_________________________________________________________________\n",
      "Layer (type)                 Output Shape              Param #   \n",
      "=================================================================\n",
      "input_1 (InputLayer)         [(None, 144)]             0         \n",
      "_________________________________________________________________\n",
      "multi_category_encoding (Mul (None, 144)               0         \n",
      "_________________________________________________________________\n",
      "normalization (Normalization (None, 144)               289       \n",
      "_________________________________________________________________\n",
      "dense (Dense)                (None, 64)                9280      \n",
      "_________________________________________________________________\n",
      "re_lu (ReLU)                 (None, 64)                0         \n",
      "_________________________________________________________________\n",
      "dense_1 (Dense)              (None, 512)               33280     \n",
      "_________________________________________________________________\n",
      "re_lu_1 (ReLU)               (None, 512)               0         \n",
      "_________________________________________________________________\n",
      "dense_2 (Dense)              (None, 1024)              525312    \n",
      "_________________________________________________________________\n",
      "re_lu_2 (ReLU)               (None, 1024)              0         \n",
      "_________________________________________________________________\n",
      "regression_head_1 (Dense)    (None, 2)                 2050      \n",
      "=================================================================\n",
      "Total params: 570,211\n",
      "Trainable params: 569,922\n",
      "Non-trainable params: 289\n",
      "_________________________________________________________________\n"
     ]
    }
   ],
   "source": [
    "model = clf.export_model()\n",
    "model.summary()"
   ]
  },
  {
   "cell_type": "code",
   "execution_count": 7,
   "metadata": {
    "tags": []
   },
   "outputs": [
    {
     "name": "stdout",
     "output_type": "stream",
     "text": [
      "Epoch 1/20\n",
      "12516/12516 [==============================] - 165s 13ms/step - loss: 0.0952 - mean_squared_error: 0.0952 - val_loss: 0.0533 - val_mean_squared_error: 0.0533\n",
      "Epoch 2/20\n",
      "12516/12516 [==============================] - 160s 13ms/step - loss: 0.0540 - mean_squared_error: 0.0540 - val_loss: 0.0533 - val_mean_squared_error: 0.0533\n",
      "Epoch 3/20\n",
      "12516/12516 [==============================] - 163s 13ms/step - loss: 0.0540 - mean_squared_error: 0.0540 - val_loss: 0.0533 - val_mean_squared_error: 0.0533\n",
      "Epoch 4/20\n",
      "12516/12516 [==============================] - 161s 13ms/step - loss: 0.0540 - mean_squared_error: 0.0540 - val_loss: 0.0533 - val_mean_squared_error: 0.0533\n",
      "Epoch 5/20\n",
      "12516/12516 [==============================] - 163s 13ms/step - loss: 0.0540 - mean_squared_error: 0.0540 - val_loss: 0.0533 - val_mean_squared_error: 0.0533\n",
      "Epoch 6/20\n",
      "12516/12516 [==============================] - 159s 13ms/step - loss: 0.0540 - mean_squared_error: 0.0540 - val_loss: 0.0533 - val_mean_squared_error: 0.0533\n",
      "Epoch 7/20\n",
      "12516/12516 [==============================] - 163s 13ms/step - loss: 0.0540 - mean_squared_error: 0.0540 - val_loss: 0.0533 - val_mean_squared_error: 0.0533\n",
      "Epoch 8/20\n",
      "12516/12516 [==============================] - 161s 13ms/step - loss: 0.0540 - mean_squared_error: 0.0540 - val_loss: 0.0533 - val_mean_squared_error: 0.0533\n",
      "Epoch 9/20\n",
      "12516/12516 [==============================] - 164s 13ms/step - loss: 0.0540 - mean_squared_error: 0.0540 - val_loss: 0.0533 - val_mean_squared_error: 0.0533\n",
      "Epoch 10/20\n",
      "12516/12516 [==============================] - 161s 13ms/step - loss: 0.0540 - mean_squared_error: 0.0540 - val_loss: 0.0533 - val_mean_squared_error: 0.0533\n",
      "Epoch 11/20\n",
      "12516/12516 [==============================] - 163s 13ms/step - loss: 0.0540 - mean_squared_error: 0.0540 - val_loss: 0.0533 - val_mean_squared_error: 0.0533\n",
      "Epoch 12/20\n",
      "12516/12516 [==============================] - 162s 13ms/step - loss: 0.0540 - mean_squared_error: 0.0540 - val_loss: 0.0533 - val_mean_squared_error: 0.0533\n",
      "Epoch 13/20\n",
      "12516/12516 [==============================] - 162s 13ms/step - loss: 0.0540 - mean_squared_error: 0.0540 - val_loss: 0.0533 - val_mean_squared_error: 0.0533\n",
      "Epoch 14/20\n",
      "12516/12516 [==============================] - 160s 13ms/step - loss: 0.0540 - mean_squared_error: 0.0540 - val_loss: 0.0533 - val_mean_squared_error: 0.0533\n",
      "Epoch 15/20\n",
      "12516/12516 [==============================] - 162s 13ms/step - loss: 0.0540 - mean_squared_error: 0.0540 - val_loss: 0.0533 - val_mean_squared_error: 0.0533\n",
      "Epoch 16/20\n",
      "12516/12516 [==============================] - 161s 13ms/step - loss: 0.0540 - mean_squared_error: 0.0540 - val_loss: 0.0533 - val_mean_squared_error: 0.0533\n",
      "Epoch 17/20\n",
      "12516/12516 [==============================] - 163s 13ms/step - loss: 0.0540 - mean_squared_error: 0.0540 - val_loss: 0.0533 - val_mean_squared_error: 0.0533\n",
      "Epoch 18/20\n",
      "12516/12516 [==============================] - 162s 13ms/step - loss: 0.0540 - mean_squared_error: 0.0540 - val_loss: 0.0533 - val_mean_squared_error: 0.0533\n",
      "Epoch 19/20\n",
      "12516/12516 [==============================] - 162s 13ms/step - loss: 0.0540 - mean_squared_error: 0.0540 - val_loss: 0.0533 - val_mean_squared_error: 0.0533\n",
      "Epoch 20/20\n",
      "12516/12516 [==============================] - 161s 13ms/step - loss: 0.0540 - mean_squared_error: 0.0540 - val_loss: 0.0533 - val_mean_squared_error: 0.0533\n"
     ]
    },
    {
     "data": {
      "text/plain": [
       "<tensorflow.python.keras.callbacks.History at 0x7fd75c2f12b0>"
      ]
     },
     "execution_count": 7,
     "metadata": {},
     "output_type": "execute_result"
    }
   ],
   "source": [
    "model.fit(x_train2, y_train2,\n",
    "           validation_split = 0.1,\n",
    "           batch_size=64,\n",
    "           epochs=20,\n",
    "           verbose=1,\n",
    "           shuffle = True\n",
    "         )"
   ]
  },
  {
   "cell_type": "code",
   "execution_count": 8,
   "metadata": {
    "tags": []
   },
   "outputs": [],
   "source": [
    "index = 1\n",
    "while os.path.isfile('/home/ML4NO/ML_DUNE/Regression/models/0910_2params_{}.h5'.format(index)):\n",
    "    index += 1\n",
    "model.save('/home/ML4NO/ML_DUNE/Regression/models/0910_2params_{}.h5'.format(index))"
   ]
  },
  {
   "cell_type": "code",
   "execution_count": null,
   "metadata": {},
   "outputs": [
    {
     "name": "stdout",
     "output_type": "stream",
     "text": [
      "3125/3125 [==============================] - 28s 9ms/step - loss: 0.0582 - mean_squared_error: 0.0582\n",
      "Epoch 1/5\n",
      "12516/12516 [==============================] - 162s 13ms/step - loss: 0.0544 - mean_squared_error: 0.0544 - val_loss: 0.0537 - val_mean_squared_error: 0.0537\n",
      "Epoch 2/5\n",
      "  751/12516 [>.............................] - ETA: 2:20 - loss: 0.0567 - mean_squared_error: 0.0567"
     ]
    }
   ],
   "source": [
    "scale_steps = np.logspace(-3, 0, 30)\n",
    "before_train_loss = []\n",
    "after_train_loss = []\n",
    "\n",
    "for scale in scale_steps:\n",
    "    x_train2_gen = np.random.normal(x_train2, np.sqrt(x_train2)*scale)\n",
    "    x_test_gen = np.random.normal(x_test, np.sqrt(x_test)*scale)\n",
    "\n",
    "    before_train_loss.append(model.evaluate(x_test_gen, y_test)[0])\n",
    "\n",
    "    model.fit(x_train2_gen, y_train2,\n",
    "               validation_split = 0.1,\n",
    "               batch_size=64,\n",
    "               epochs=5,\n",
    "               verbose=1,\n",
    "               shuffle = True\n",
    "             )\n",
    "\n",
    "    after_train_loss.append(model.evaluate(x_test_gen, y_test)[0])"
   ]
  },
  {
   "cell_type": "code",
   "execution_count": null,
   "metadata": {},
   "outputs": [],
   "source": [
    "model_index = index\n",
    "index = 1\n",
    "path = '/home/ML4NO/ML_DUNE/Regression/models_furthurTrain/0910_2params_{}_{}.h5'\n",
    "while os.path.isfile(path.format(model_index, index)):\n",
    "    index += 1\n",
    "model.save(path.format(model_index, index))\n",
    "outfile = {'scale_steps': scale_steps,\n",
    "           'before_train_loss': before_train_loss,\n",
    "           'after_train_loss' :after_train_loss}\n",
    "np.save(file = '/home/ML4NO/ML_DUNE/Regression/models_furthurTrain/0910_2params_{}_{}_result.npy'.format(model_index, index),\n",
    "        arr = outfile)"
   ]
  },
  {
   "cell_type": "code",
   "execution_count": null,
   "metadata": {},
   "outputs": [],
   "source": [
    "x_test2_gen = np.random.poisson(x_test)\n",
    "\n",
    "for i in range(10):\n",
    "    x_train2_gen = np.random.poisson(x_train2)\n",
    "    \n",
    "    model.fit(x_train2_gen, y_train2,\n",
    "              validation_split=0.1,\n",
    "               batch_size=64,\n",
    "               epochs=1,\n",
    "               verbose=1,\n",
    "               shuffle = True\n",
    "             )\n",
    "model.evaluate(x_test2_gen, y_test)"
   ]
  },
  {
   "cell_type": "code",
   "execution_count": null,
   "metadata": {},
   "outputs": [],
   "source": [
    "furthur_index = index\n",
    "index = 1\n",
    "path = '/home/ML4NO/ML_DUNE/Regression/models_PoissonTrain/0910_2params_{}_{}_{}.h5'\n",
    "while os.path.isfile(path.format(model_index, furthur_index, index)):\n",
    "    index += 1\n",
    "model.save(path.format(model_index, furthur_index, index))"
   ]
  }
 ],
 "metadata": {
  "kernelspec": {
   "display_name": "Python 3",
   "language": "python",
   "name": "python3"
  },
  "language_info": {
   "codemirror_mode": {
    "name": "ipython",
    "version": 3
   },
   "file_extension": ".py",
   "mimetype": "text/x-python",
   "name": "python",
   "nbconvert_exporter": "python",
   "pygments_lexer": "ipython3",
   "version": "3.6.9"
  }
 },
 "nbformat": 4,
 "nbformat_minor": 4
}
