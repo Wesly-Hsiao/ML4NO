{
 "cells": [
  {
   "cell_type": "code",
   "execution_count": 6,
   "metadata": {
    "tags": []
   },
   "outputs": [],
   "source": [
    "import numpy as np\n",
    "import matplotlib.pyplot as plt\n",
    "import autokeras as ak\n",
    "import tensorflow as tf\n",
    "import os"
   ]
  },
  {
   "cell_type": "code",
   "execution_count": 7,
   "metadata": {},
   "outputs": [],
   "source": [
    "import tensorflow.keras as keras\n",
    "from tensorflow.keras.models import Sequential, load_model\n",
    "from tensorflow.keras.layers import Dense, Dropout, Flatten, Convolution2D, MaxPooling2D , Lambda, Conv2D, Activation,Concatenate\n",
    "from tensorflow.keras.layers import ActivityRegularization, BatchNormalization\n",
    "from tensorflow.keras.optimizers import Adam , SGD , Adagrad\n",
    "from tensorflow.keras.callbacks import ModelCheckpoint, LearningRateScheduler, EarlyStopping, CSVLogger, ReduceLROnPlateau\n",
    "from tensorflow.keras.utils import to_categorical\n",
    "from tensorflow.keras import regularizers , initializers\n",
    "from tensorflow.keras.models import Model\n",
    "from tensorflow.keras.preprocessing.image import ImageDataGenerator\n",
    "from tensorflow.keras.preprocessing.image import NumpyArrayIterator\n",
    "from sklearn.preprocessing import StandardScaler"
   ]
  },
  {
   "cell_type": "code",
   "execution_count": 8,
   "metadata": {
    "tags": []
   },
   "outputs": [],
   "source": [
    "data = np.load(\"./nsi_data/sample_nsi_regression_1e7_v1.npz\")"
   ]
  },
  {
   "cell_type": "code",
   "execution_count": 10,
   "metadata": {
    "tags": []
   },
   "outputs": [],
   "source": [
    "data_selection = 1 # 0 for all, 1 for lowE(<5GeV), 2 for high(>5GeV)\n",
    "\n",
    "if data_selection == 0:\n",
    "    data_all = np.column_stack([data['ve_dune'], data['vu_dune'], data['vebar_dune'], data['vubar_dune']])\n",
    "elif data_selection == 1:\n",
    "    data_all = np.column_stack([data['ve_dune'][:,:36], data['vu_dune'][:,:36], data['vebar_dune'][:,:36], data['vubar_dune'][:,:36]])\n",
    "elif data_selection == 2:\n",
    "    data_all = np.column_stack([data['ve_dune'][:,36:], data['vu_dune'][:,36:], data['vebar_dune'][:,36:], data['vubar_dune'][:,36:]])\n",
    "\n",
    "target = np.column_stack([data['theta23'], data['delta']/36, data['theta23'], data['delta']/36])\n",
    "\n",
    "x_train = data_all[:10000]\n",
    "y_train = target[:10000]\n",
    "x_train2 = data_all[10000:900000]\n",
    "y_train2 = target[10000:900000]\n",
    "x_test = data_all[900000:]\n",
    "y_test = target[900000:]"
   ]
  },
  {
   "cell_type": "code",
   "execution_count": 16,
   "metadata": {},
   "outputs": [],
   "source": [
    "model_name = \"nsi_degen_2params\""
   ]
  },
  {
   "cell_type": "code",
   "execution_count": 12,
   "metadata": {},
   "outputs": [],
   "source": [
    "import keras.backend as K\n",
    "\n",
    "def custom_mse(y_true, y_pred):\n",
    "    loss = K.square(y_pred - y_true)\n",
    "    return (loss[0]+loss[1])*(loss[2]+loss[3])\n",
    "  \n",
    "def DNN_Model(name):\n",
    "    model_DNN = Sequential(name = \"Model_DNN_\"+str(name))\n",
    "\n",
    "    model_DNN.add(keras.Input(shape=(len(x_train[0]),), name = 'input'))\n",
    "    model_DNN.add(BatchNormalization(name = 'BatchNormalization'))\n",
    "    model_DNN.add(Dense(32, activation='relu', name = 'dense_1'))\n",
    "    model_DNN.add(Dense(512, activation='relu', name = 'dense_2'))\n",
    "\n",
    "    model_DNN.add(Dense(4, activation='relu', name = 'output'))\n",
    "    model_opt = keras.optimizers.Adam()\n",
    "    model_DNN.compile(loss=custom_mse,#keras.losses.binary_crossentropy\n",
    "                              optimizer=model_opt,\n",
    "                              metrics=['mse'])\n",
    "\n",
    "    model_DNN.summary()\n",
    "    return model_DNN"
   ]
  },
  {
   "cell_type": "code",
   "execution_count": 13,
   "metadata": {},
   "outputs": [
    {
     "name": "stdout",
     "output_type": "stream",
     "text": [
      "Model: \"Model_DNN_regression\"\n",
      "_________________________________________________________________\n",
      "Layer (type)                 Output Shape              Param #   \n",
      "=================================================================\n",
      "BatchNormalization (BatchNor (None, 144)               576       \n",
      "_________________________________________________________________\n",
      "dense_1 (Dense)              (None, 32)                4640      \n",
      "_________________________________________________________________\n",
      "dense_2 (Dense)              (None, 512)               16896     \n",
      "_________________________________________________________________\n",
      "output (Dense)               (None, 4)                 2052      \n",
      "=================================================================\n",
      "Total params: 24,164\n",
      "Trainable params: 23,876\n",
      "Non-trainable params: 288\n",
      "_________________________________________________________________\n"
     ]
    }
   ],
   "source": [
    "model = DNN_Model(\"regression\")"
   ]
  },
  {
   "cell_type": "code",
   "execution_count": 14,
   "metadata": {},
   "outputs": [
    {
     "name": "stdout",
     "output_type": "stream",
     "text": [
      "Epoch 1/20\n",
      "12516/12516 [==============================] - 29s 2ms/step - loss: 21727.4980 - mse: 19.2080 - val_loss: 276.5509 - val_mse: 7.9139\n",
      "Epoch 2/20\n",
      "12516/12516 [==============================] - 27s 2ms/step - loss: 356.1273 - mse: 8.4681 - val_loss: 282.3685 - val_mse: 8.0435\n",
      "Epoch 3/20\n",
      "12516/12516 [==============================] - 27s 2ms/step - loss: 263.8456 - mse: 7.4425 - val_loss: 208.0318 - val_mse: 6.5603\n",
      "Epoch 4/20\n",
      "12516/12516 [==============================] - 27s 2ms/step - loss: 196.7158 - mse: 6.4405 - val_loss: 125.3488 - val_mse: 5.1374\n",
      "Epoch 5/20\n",
      "12516/12516 [==============================] - 27s 2ms/step - loss: 166.5233 - mse: 5.9665 - val_loss: 143.5140 - val_mse: 5.4178\n",
      "Epoch 6/20\n",
      "12516/12516 [==============================] - 27s 2ms/step - loss: 136.7216 - mse: 5.5068 - val_loss: 87.3624 - val_mse: 4.3777\n",
      "Epoch 7/20\n",
      "12516/12516 [==============================] - 27s 2ms/step - loss: 125.4071 - mse: 5.2042 - val_loss: 80.6087 - val_mse: 4.2461\n",
      "Epoch 8/20\n",
      "12516/12516 [==============================] - 27s 2ms/step - loss: 114.8197 - mse: 5.0116 - val_loss: 104.2933 - val_mse: 4.7877\n",
      "Epoch 9/20\n",
      "12516/12516 [==============================] - 27s 2ms/step - loss: 104.0678 - mse: 4.7904 - val_loss: 62.2046 - val_mse: 3.7102\n",
      "Epoch 10/20\n",
      "12516/12516 [==============================] - 27s 2ms/step - loss: 99.9493 - mse: 4.7317 - val_loss: 67.1467 - val_mse: 3.9114\n",
      "Epoch 11/20\n",
      "12516/12516 [==============================] - 27s 2ms/step - loss: 91.2498 - mse: 4.5227 - val_loss: 90.1316 - val_mse: 4.6890\n",
      "Epoch 12/20\n",
      "12516/12516 [==============================] - 27s 2ms/step - loss: 88.8357 - mse: 4.4205 - val_loss: 52.0774 - val_mse: 3.4170\n",
      "Epoch 13/20\n",
      "12516/12516 [==============================] - 27s 2ms/step - loss: 84.9570 - mse: 4.3250 - val_loss: 69.8296 - val_mse: 3.8909\n",
      "Epoch 14/20\n",
      "12516/12516 [==============================] - 27s 2ms/step - loss: 80.2870 - mse: 4.2475 - val_loss: 42.3604 - val_mse: 3.1185\n",
      "Epoch 15/20\n",
      "12516/12516 [==============================] - 27s 2ms/step - loss: 76.9599 - mse: 4.1926 - val_loss: 43.5696 - val_mse: 3.2516\n",
      "Epoch 16/20\n",
      "12516/12516 [==============================] - 27s 2ms/step - loss: 73.4522 - mse: 4.1044 - val_loss: 54.9693 - val_mse: 3.5220\n",
      "Epoch 17/20\n",
      "12516/12516 [==============================] - 27s 2ms/step - loss: 72.7540 - mse: 4.0295 - val_loss: 40.3665 - val_mse: 3.1028\n",
      "Epoch 18/20\n",
      "12516/12516 [==============================] - 27s 2ms/step - loss: 70.1651 - mse: 3.9814 - val_loss: 86.5794 - val_mse: 4.2992\n",
      "Epoch 19/20\n",
      "12516/12516 [==============================] - 27s 2ms/step - loss: 65.7011 - mse: 3.9311 - val_loss: 34.9554 - val_mse: 2.8729\n",
      "Epoch 20/20\n",
      "12516/12516 [==============================] - 27s 2ms/step - loss: 66.1034 - mse: 3.8785 - val_loss: 50.1704 - val_mse: 3.3909\n"
     ]
    },
    {
     "data": {
      "text/plain": [
       "<keras.callbacks.History at 0x7f67fc584048>"
      ]
     },
     "execution_count": 14,
     "metadata": {},
     "output_type": "execute_result"
    }
   ],
   "source": [
    "model.fit(x_train2, y_train2,\n",
    "           validation_split = 0.1,\n",
    "           batch_size=64,\n",
    "           epochs=20,\n",
    "           verbose=1,\n",
    "           shuffle = True\n",
    "         )"
   ]
  },
  {
   "cell_type": "code",
   "execution_count": 17,
   "metadata": {
    "tags": []
   },
   "outputs": [],
   "source": [
    "model_index = 1\n",
    "while os.path.isfile('./models/{}_{}.h5'.format(model_name, model_index)):\n",
    "    model_index += 1\n",
    "model.save('./models/{}_{}.h5'.format(model_name, model_index))"
   ]
  },
  {
   "cell_type": "code",
   "execution_count": null,
   "metadata": {},
   "outputs": [
    {
     "name": "stdout",
     "output_type": "stream",
     "text": [
      "284375/284375 [==============================] - 329s 1ms/step - loss: 47.2914 - mse: 3.3309\n",
      "Epoch 1/5\n",
      "12516/12516 [==============================] - 27s 2ms/step - loss: 65.1451 - mse: 3.8563 - val_loss: 60.4990 - val_mse: 3.6487\n",
      "Epoch 2/5\n",
      "12516/12516 [==============================] - 27s 2ms/step - loss: 62.7175 - mse: 3.7974 - val_loss: 65.5412 - val_mse: 3.6914\n",
      "Epoch 3/5\n",
      "12516/12516 [==============================] - 27s 2ms/step - loss: 62.5804 - mse: 3.7584 - val_loss: 31.8428 - val_mse: 2.8277\n",
      "Epoch 4/5\n",
      "12516/12516 [==============================] - 27s 2ms/step - loss: 59.6954 - mse: 3.7050 - val_loss: 64.4446 - val_mse: 3.8222\n",
      "Epoch 5/5\n",
      "12516/12516 [==============================] - 27s 2ms/step - loss: 57.7802 - mse: 3.6495 - val_loss: 28.4146 - val_mse: 2.7144\n",
      "284375/284375 [==============================] - 335s 1ms/step - loss: 29.2803 - mse: 2.6956\n",
      "284375/284375 [==============================] - 325s 1ms/step - loss: 29.2851 - mse: 2.6956\n",
      "Epoch 1/5\n",
      "12516/12516 [==============================] - 27s 2ms/step - loss: 58.3724 - mse: 3.6208 - val_loss: 37.9272 - val_mse: 3.0579\n",
      "Epoch 2/5\n",
      "12516/12516 [==============================] - 27s 2ms/step - loss: 58.2831 - mse: 3.6164 - val_loss: 44.9868 - val_mse: 3.1836\n",
      "Epoch 3/5\n",
      "12516/12516 [==============================] - 27s 2ms/step - loss: 53.2247 - mse: 3.5320 - val_loss: 28.6285 - val_mse: 2.5776\n",
      "Epoch 4/5\n",
      "12516/12516 [==============================] - 27s 2ms/step - loss: 51.5442 - mse: 3.4875 - val_loss: 39.5917 - val_mse: 2.9301\n",
      "Epoch 5/5\n",
      "12516/12516 [==============================] - 27s 2ms/step - loss: 53.1833 - mse: 3.4781 - val_loss: 29.5813 - val_mse: 2.6721\n",
      "284375/284375 [==============================] - 332s 1ms/step - loss: 28.8362 - mse: 2.6585\n",
      "284375/284375 [==============================] - 322s 1ms/step - loss: 28.8396 - mse: 2.6585\n",
      "Epoch 1/5\n",
      "12516/12516 [==============================] - 28s 2ms/step - loss: 51.6090 - mse: 3.4703 - val_loss: 29.5019 - val_mse: 2.6881\n",
      "Epoch 2/5\n",
      "12516/12516 [==============================] - 27s 2ms/step - loss: 52.1628 - mse: 3.4379 - val_loss: 27.5606 - val_mse: 2.5549\n",
      "Epoch 3/5\n",
      "12516/12516 [==============================] - 27s 2ms/step - loss: 50.4641 - mse: 3.3869 - val_loss: 22.9504 - val_mse: 2.3728\n",
      "Epoch 4/5\n",
      "12516/12516 [==============================] - 27s 2ms/step - loss: 52.4039 - mse: 3.4018 - val_loss: 33.0943 - val_mse: 2.8490\n",
      "Epoch 5/5\n",
      "12516/12516 [==============================] - 27s 2ms/step - loss: 48.0649 - mse: 3.3517 - val_loss: 23.5580 - val_mse: 2.3796\n",
      "284375/284375 [==============================] - 339s 1ms/step - loss: 22.2286 - mse: 2.3510\n",
      "284375/284375 [==============================] - 332s 1ms/step - loss: 22.2283 - mse: 2.3511\n",
      "Epoch 1/5\n",
      "12516/12516 [==============================] - 27s 2ms/step - loss: 49.6353 - mse: 3.3840 - val_loss: 19.4061 - val_mse: 2.2482\n",
      "Epoch 2/5\n",
      "12516/12516 [==============================] - 27s 2ms/step - loss: 48.3720 - mse: 3.3528 - val_loss: 31.8267 - val_mse: 2.7399\n",
      "Epoch 3/5\n",
      "12516/12516 [==============================] - 27s 2ms/step - loss: 48.4053 - mse: 3.3319 - val_loss: 23.0930 - val_mse: 2.4511\n",
      "Epoch 4/5\n",
      "12516/12516 [==============================] - 27s 2ms/step - loss: 47.8496 - mse: 3.3053 - val_loss: 27.3658 - val_mse: 2.6155\n",
      "Epoch 5/5\n",
      "12516/12516 [==============================] - 27s 2ms/step - loss: 44.6331 - mse: 3.2514 - val_loss: 30.1629 - val_mse: 2.6484\n",
      "284375/284375 [==============================] - 333s 1ms/step - loss: 28.9006 - mse: 2.6293\n",
      "284375/284375 [==============================] - 330s 1ms/step - loss: 28.9020 - mse: 2.6295\n",
      "Epoch 1/5\n",
      "12516/12516 [==============================] - 28s 2ms/step - loss: 45.5108 - mse: 3.2872 - val_loss: 56.1189 - val_mse: 3.4364\n",
      "Epoch 2/5\n",
      "12516/12516 [==============================] - 27s 2ms/step - loss: 46.2062 - mse: 3.2547 - val_loss: 22.1395 - val_mse: 2.3428\n",
      "Epoch 3/5\n",
      "12516/12516 [==============================] - 27s 2ms/step - loss: 42.9462 - mse: 3.1926 - val_loss: 16.2918 - val_mse: 2.0259\n",
      "Epoch 4/5\n",
      "12516/12516 [==============================] - 27s 2ms/step - loss: 43.9530 - mse: 3.1477 - val_loss: 26.2637 - val_mse: 2.5244\n",
      "Epoch 5/5\n",
      "12516/12516 [==============================] - 27s 2ms/step - loss: 44.9222 - mse: 3.2189 - val_loss: 28.5849 - val_mse: 2.5104\n",
      "284375/284375 [==============================] - 331s 1ms/step - loss: 24.6124 - mse: 2.4859\n",
      "284375/284375 [==============================] - 336s 1ms/step - loss: 24.6244 - mse: 2.4861\n",
      "Epoch 1/5\n",
      "12516/12516 [==============================] - 27s 2ms/step - loss: 43.0245 - mse: 3.1942 - val_loss: 30.1578 - val_mse: 2.7407\n",
      "Epoch 2/5\n",
      "12516/12516 [==============================] - 27s 2ms/step - loss: 43.5912 - mse: 3.1867 - val_loss: 24.3579 - val_mse: 2.6975\n",
      "Epoch 3/5\n",
      "12516/12516 [==============================] - 27s 2ms/step - loss: 40.8562 - mse: 3.1196 - val_loss: 21.2435 - val_mse: 2.3610\n",
      "Epoch 4/5\n",
      " 9811/12516 [======================>.......] - ETA: 5s - loss: 43.0168 - mse: 3.1508"
     ]
    }
   ],
   "source": [
    "scale_steps = np.logspace(-3, 0, 100)\n",
    "before_train_loss = []\n",
    "after_train_loss = []\n",
    "\n",
    "for scale in scale_steps:\n",
    "    x_train2_gen = np.random.normal(x_train2, np.sqrt(x_train2)*scale)\n",
    "    x_test_gen = np.random.normal(x_test, np.sqrt(x_test)*scale)\n",
    "\n",
    "    before_train_loss.append(model.evaluate(x_test_gen, y_test)[0])\n",
    "\n",
    "    model.fit(x_train2_gen, y_train2,\n",
    "               validation_split = 0.1,\n",
    "               batch_size=64,\n",
    "               epochs=5,\n",
    "               verbose=1,\n",
    "               shuffle = True\n",
    "             )\n",
    "\n",
    "    after_train_loss.append(model.evaluate(x_test_gen, y_test)[0])"
   ]
  },
  {
   "cell_type": "code",
   "execution_count": null,
   "metadata": {},
   "outputs": [],
   "source": [
    "furthur_index = 1\n",
    "path = './models_furthurTrain/{}_{}_{}.h5'\n",
    "while os.path.isfile(path.format(model_name, model_index, furthur_index)):\n",
    "    index += 1\n",
    "model.save(path.format(model_index, furthur_index))\n",
    "outfile = {'scale_steps': scale_steps,\n",
    "           'before_train_loss': before_train_loss,\n",
    "           'after_train_loss' :after_train_loss}\n",
    "np.save(file = './models_furthurTrain/{}_{}_{}_result.npy'.format(model_name, model_index, furthur_index),\n",
    "        arr = outfile)"
   ]
  },
  {
   "cell_type": "code",
   "execution_count": null,
   "metadata": {},
   "outputs": [],
   "source": [
    "x_test2_gen = np.random.poisson(x_test)\n",
    "\n",
    "for i in range(20):\n",
    "    x_train2_gen = np.random.poisson(x_train2)\n",
    "    \n",
    "    model.fit(x_train2_gen, y_train2,\n",
    "              validation_split=0.1,\n",
    "               batch_size=64,\n",
    "               epochs=1,\n",
    "               verbose=1,\n",
    "               shuffle = True\n",
    "             )\n",
    "model.evaluate(x_test2_gen, y_test)"
   ]
  },
  {
   "cell_type": "code",
   "execution_count": null,
   "metadata": {},
   "outputs": [],
   "source": [
    "index = 1\n",
    "path = './models_PoissonTrain/{}_{}_{}_{}.h5'\n",
    "while os.path.isfile(path.format(model_name, model_index, furthur_index, index)):\n",
    "    index += 1\n",
    "model.save(path.format(model_name, model_index, furthur_index, index))"
   ]
  },
  {
   "cell_type": "code",
   "execution_count": null,
   "metadata": {},
   "outputs": [],
   "source": []
  }
 ],
 "metadata": {
  "kernelspec": {
   "display_name": "Python 3",
   "language": "python",
   "name": "python3"
  },
  "language_info": {
   "codemirror_mode": {
    "name": "ipython",
    "version": 3
   },
   "file_extension": ".py",
   "mimetype": "text/x-python",
   "name": "python",
   "nbconvert_exporter": "python",
   "pygments_lexer": "ipython3",
   "version": "3.6.9"
  }
 },
 "nbformat": 4,
 "nbformat_minor": 4
}
