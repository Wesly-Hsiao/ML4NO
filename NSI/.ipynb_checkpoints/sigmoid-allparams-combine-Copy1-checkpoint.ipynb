{
 "cells": [
  {
   "cell_type": "code",
   "execution_count": 1,
   "metadata": {
    "tags": []
   },
   "outputs": [],
   "source": [
    "import numpy as np\n",
    "import matplotlib.pyplot as plt\n",
    "import autokeras as ak\n",
    "import tensorflow as tf\n",
    "import os"
   ]
  },
  {
   "cell_type": "code",
   "execution_count": 2,
   "metadata": {},
   "outputs": [],
   "source": [
    "import tensorflow.keras as keras\n",
    "from tensorflow.keras.models import Sequential, load_model\n",
    "from tensorflow.keras.layers import Dense, Dropout, Flatten, Convolution2D, MaxPooling2D , Lambda, Conv2D, Activation,Concatenate\n",
    "from tensorflow.keras.layers import ActivityRegularization, BatchNormalization\n",
    "from tensorflow.keras.optimizers import Adam , SGD , Adagrad\n",
    "from tensorflow.keras.callbacks import ModelCheckpoint, LearningRateScheduler, EarlyStopping, CSVLogger, ReduceLROnPlateau\n",
    "from tensorflow.keras.utils import to_categorical\n",
    "from tensorflow.keras import regularizers , initializers\n",
    "from tensorflow.keras.models import Model\n",
    "from tensorflow.keras.preprocessing.image import ImageDataGenerator\n",
    "from tensorflow.keras.preprocessing.image import NumpyArrayIterator\n",
    "from sklearn.preprocessing import StandardScaler"
   ]
  },
  {
   "cell_type": "code",
   "execution_count": 3,
   "metadata": {},
   "outputs": [],
   "source": [
    "import logging\n",
    "\n",
    "logging.basicConfig(level = logging.INFO)\n",
    "gpus = tf.config.experimental.list_physical_devices('GPU')\n",
    "# if gpus:\n",
    "#   # Restrict TensorFlow to only use the first GPU\n",
    "try:\n",
    "    tf.config.experimental.set_visible_devices(gpus[0], 'GPU')\n",
    "    tf.config.experimental.set_virtual_device_configuration(\n",
    "    gpus[0],\n",
    "    [tf.config.experimental.VirtualDeviceConfiguration(memory_limit=2000)])\n",
    "    logical_gpus = tf.config.experimental.list_logical_devices('GPU')\n",
    "#     logging.info(len(gpus), \"Physical GPUs,\", len(logical_gpus), \"Logical GPU\")\n",
    "except RuntimeError as e:\n",
    "# Visible devices must be set before GPUs have been initialized\n",
    "    logging.info(e)"
   ]
  },
  {
   "cell_type": "code",
   "execution_count": 4,
   "metadata": {
    "tags": []
   },
   "outputs": [],
   "source": [
    "data = np.load(\"./nsi_data/sample_nsi_regression_1e7_v1.npz\")"
   ]
  },
  {
   "cell_type": "code",
   "execution_count": 5,
   "metadata": {},
   "outputs": [],
   "source": [
    "data_selection = 1 # 0 for all, 1 for lowE(<5GeV), 2 for high(>5GeV)\n",
    "\n",
    "if data_selection == 0:\n",
    "    data_all = np.column_stack([data['ve_dune'], data['vu_dune'], data['vebar_dune'], data['vubar_dune']])\n",
    "elif data_selection == 1:\n",
    "    data_all = np.column_stack([data['ve_dune'][:,:36], data['vu_dune'][:,:36], data['vebar_dune'][:,:36], data['vubar_dune'][:,:36]])\n",
    "elif data_selection == 2:\n",
    "    data_all = np.column_stack([data['ve_dune'][:,36:], data['vu_dune'][:,36:], data['vebar_dune'][:,36:], data['vubar_dune'][:,36:]])\n",
    "\n",
    "pre_target = np.column_stack([data['theta13'],data['theta23']/5,data['delta']/180+5,data['mumu']+5,data['emu']+5,data['etau']+5])\n",
    "target = np.column_stack([pre_target, pre_target])\n",
    "\n",
    "x_train = data_all[:10000]\n",
    "y_train = target[:10000]\n",
    "x_train2 = data_all[10000:900000]\n",
    "y_train2 = target[10000:900000]\n",
    "x_test = data_all[900000:1000000]\n",
    "y_test = target[900000:1000000]"
   ]
  },
  {
   "cell_type": "code",
   "execution_count": 6,
   "metadata": {},
   "outputs": [],
   "source": [
    "model_name = \"nsi_degen_allparams\""
   ]
  },
  {
   "cell_type": "code",
   "execution_count": 10,
   "metadata": {},
   "outputs": [],
   "source": [
    "from tensorflow.keras import backend as K\n",
    "\n",
    "def custom_mse(y_true, y_pred):\n",
    "    loss = K.square(y_pred - y_true)\n",
    "    loss1 = loss[0]+loss[1]+loss[2]+loss[3]+loss[4]+loss[5]\n",
    "    loss2 = loss[6]+loss[7]+loss[8]+loss[9]+loss[10]+loss[11]\n",
    "    return K.switch(loss1<loss2, loss1, loss2)\n",
    "\n",
    "\n",
    "def DNN_Model(name):\n",
    "    model_DNN = Sequential(name = \"Model_DNN_\"+str(name))\n",
    "\n",
    "    model_DNN.add(keras.Input(shape=(len(x_train[0]),), name = 'input'))\n",
    "    model_DNN.add(BatchNormalization(name = 'BatchNormalization'))\n",
    "    model_DNN.add(Dense(512, activation='relu', name = 'dense_1'))\n",
    "    model_DNN.add(Dense(512, activation='relu', name = 'dense_2'))\n",
    "\n",
    "    model_DNN.add(Dense(12, activation='relu', name = 'output'))\n",
    "    model_opt = keras.optimizers.Adam()\n",
    "    model_DNN.compile(loss=custom_mse,#keras.losses.binary_crossentropy\n",
    "                              optimizer=model_opt,\n",
    "                              metrics=['mse'])\n",
    "    model_DNN.summary()\n",
    "    return model_DNN"
   ]
  },
  {
   "cell_type": "code",
   "execution_count": 11,
   "metadata": {},
   "outputs": [
    {
     "name": "stdout",
     "output_type": "stream",
     "text": [
      "Model: \"Model_DNN_regression\"\n",
      "_________________________________________________________________\n",
      "Layer (type)                 Output Shape              Param #   \n",
      "=================================================================\n",
      "BatchNormalization (BatchNor (None, 144)               576       \n",
      "_________________________________________________________________\n",
      "dense_1 (Dense)              (None, 512)               74240     \n",
      "_________________________________________________________________\n",
      "dense_2 (Dense)              (None, 512)               262656    \n",
      "_________________________________________________________________\n",
      "output (Dense)               (None, 12)                6156      \n",
      "=================================================================\n",
      "Total params: 343,628\n",
      "Trainable params: 343,340\n",
      "Non-trainable params: 288\n",
      "_________________________________________________________________\n"
     ]
    }
   ],
   "source": [
    "model = DNN_Model(\"regression\")"
   ]
  },
  {
   "cell_type": "code",
   "execution_count": null,
   "metadata": {},
   "outputs": [
    {
     "name": "stdout",
     "output_type": "stream",
     "text": [
      "Epoch 1/20\n",
      "12516/12516 [==============================] - 37s 3ms/step - loss: 3.3918 - mse: 0.7693 - val_loss: 0.5996 - val_mse: 0.1592\n",
      "Epoch 2/20\n",
      "12516/12516 [==============================] - 35s 3ms/step - loss: 0.5944 - mse: 0.1588 - val_loss: 0.3766 - val_mse: 0.1101\n",
      "Epoch 3/20\n",
      "12516/12516 [==============================] - 35s 3ms/step - loss: 0.4426 - mse: 0.1278 - val_loss: 0.3247 - val_mse: 0.1009\n",
      "Epoch 4/20\n",
      "12516/12516 [==============================] - 36s 3ms/step - loss: 0.3788 - mse: 0.1135 - val_loss: 0.2801 - val_mse: 0.0867\n",
      "Epoch 5/20\n",
      "12516/12516 [==============================] - 36s 3ms/step - loss: 0.3395 - mse: 0.1043 - val_loss: 0.2338 - val_mse: 0.0734\n",
      "Epoch 6/20\n",
      " 7491/12516 [================>.............] - ETA: 13s - loss: 0.3194 - mse: 0.0980"
     ]
    }
   ],
   "source": [
    "model.fit(x_train2, y_train2,\n",
    "           validation_split = 0.1,\n",
    "           batch_size=64,\n",
    "           epochs=20,\n",
    "           verbose=1,\n",
    "           shuffle = True\n",
    "         )"
   ]
  },
  {
   "cell_type": "code",
   "execution_count": null,
   "metadata": {
    "tags": []
   },
   "outputs": [],
   "source": [
    "model_index = 1\n",
    "while os.path.isfile('./models/{}_{}.h5'.format(model_name, model_index)):\n",
    "    model_index += 1\n",
    "model.save('./models/{}_{}.h5'.format(model_name, model_index))"
   ]
  },
  {
   "cell_type": "code",
   "execution_count": null,
   "metadata": {},
   "outputs": [],
   "source": [
    "scale_steps = np.logspace(-3, 0, 30)\n",
    "before_train_loss = []\n",
    "after_train_loss = []\n",
    "\n",
    "for scale in scale_steps:\n",
    "    x_train2_gen = np.random.normal(x_train2, np.sqrt(x_train2)*scale)\n",
    "    x_test_gen = np.random.normal(x_test, np.sqrt(x_test)*scale)\n",
    "\n",
    "    before_train_loss.append(model.evaluate(x_test_gen, y_test)[0])\n",
    "\n",
    "    model.fit(x_train2_gen, y_train2,\n",
    "               validation_split = 0.1,\n",
    "               batch_size=64,\n",
    "               epochs=5,\n",
    "               verbose=1,\n",
    "               shuffle = True\n",
    "             )\n",
    "    \n",
    "    after_train_loss.append(model.evaluate(x_test_gen, y_test)[0])"
   ]
  },
  {
   "cell_type": "code",
   "execution_count": null,
   "metadata": {},
   "outputs": [],
   "source": [
    "furthur_index = 1\n",
    "path = './models_furthurTrain/{}_{}_{}.h5'\n",
    "while os.path.isfile(path.format(model_name, model_index, furthur_index)):\n",
    "    index += 1\n",
    "model.save(path.format(model_name, model_index, furthur_index))\n",
    "outfile = {'scale_steps': scale_steps,\n",
    "           'before_train_loss': before_train_loss,\n",
    "           'after_train_loss' :after_train_loss}\n",
    "np.save(file = './models_furthurTrain/{}_{}_{}_result.npy'.format(model_name, model_index, furthur_index),\n",
    "        arr = outfile)"
   ]
  },
  {
   "cell_type": "code",
   "execution_count": null,
   "metadata": {},
   "outputs": [],
   "source": [
    "x_test2_gen = np.random.poisson(x_test)\n",
    "\n",
    "for i in range(10):\n",
    "    x_train2_gen = np.random.poisson(x_train2)\n",
    "    \n",
    "    model.fit(x_train2_gen, y_train2,\n",
    "              validation_split=0.1,\n",
    "               batch_size=64,\n",
    "               epochs=1,\n",
    "               verbose=1,\n",
    "               shuffle = True\n",
    "             )\n",
    "model.evaluate(x_test2_gen, y_test)"
   ]
  },
  {
   "cell_type": "code",
   "execution_count": null,
   "metadata": {},
   "outputs": [],
   "source": [
    "index = 1\n",
    "path = './models_PoissonTrain/{}_{}_{}_{}.h5'\n",
    "while os.path.isfile(path.format(model_name, model_index, furthur_index, index)):\n",
    "    index += 1\n",
    "model.save(path.format(model_name, model_index, furthur_index, index))"
   ]
  },
  {
   "cell_type": "code",
   "execution_count": null,
   "metadata": {},
   "outputs": [],
   "source": []
  }
 ],
 "metadata": {
  "kernelspec": {
   "display_name": "Python 3",
   "language": "python",
   "name": "python3"
  },
  "language_info": {
   "codemirror_mode": {
    "name": "ipython",
    "version": 3
   },
   "file_extension": ".py",
   "mimetype": "text/x-python",
   "name": "python",
   "nbconvert_exporter": "python",
   "pygments_lexer": "ipython3",
   "version": "3.6.9"
  }
 },
 "nbformat": 4,
 "nbformat_minor": 4
}
