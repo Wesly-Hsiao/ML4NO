{
 "cells": [
  {
   "cell_type": "code",
   "execution_count": 2,
   "id": "parliamentary-triangle",
   "metadata": {},
   "outputs": [
    {
     "name": "stdout",
     "output_type": "stream",
     "text": [
      "1 Physical GPUs, 1 Logical GPU\n"
     ]
    }
   ],
   "source": [
    "import tensorflow as tf\n",
    "import tensorflow.keras as keras\n",
    "from tensorflow.keras.models import Model, Sequential, load_model\n",
    "from tensorflow.keras import layers\n",
    "from tensorflow.keras.layers import Dense, Dropout, Flatten , Convolution2D, MaxPooling2D , Lambda, Conv2D, Activation,Concatenate, Input, BatchNormalization\n",
    "from tensorflow.keras.optimizers import Adam , SGD , Adagrad\n",
    "from tensorflow.keras.callbacks import ModelCheckpoint, LearningRateScheduler, EarlyStopping, CSVLogger, ReduceLROnPlateau\n",
    "from tensorflow.keras.utils import to_categorical\n",
    "from tensorflow.keras import regularizers , initializers, activations\n",
    "import tensorflow.keras.backend as K\n",
    "from sklearn.preprocessing import StandardScaler\n",
    "from joblib import dump, load\n",
    "import tensorflow_probability as tfp\n",
    "\n",
    "import numpy as np\n",
    "import matplotlib.pyplot as plt\n",
    "# import autokeras as ak\n",
    "import corner\n",
    "import os \n",
    "import sys\n",
    "import time\n",
    "import importlib\n",
    "import logging\n",
    "from tqdm import tqdm\n",
    "\n",
    "importlib.reload(logging)\n",
    "logging.basicConfig(level = logging.INFO)\n",
    "\n",
    "# limit GPU memory\n",
    "gpus = tf.config.experimental.list_physical_devices('GPU')\n",
    "# if gpus:\n",
    "#   # Restrict TensorFlow to only use the first GPU\n",
    "try:\n",
    "    tf.config.experimental.set_visible_devices(gpus[0], 'GPU')\n",
    "    tf.config.experimental.set_virtual_device_configuration(\n",
    "    gpus[0],\n",
    "    [tf.config.experimental.VirtualDeviceConfiguration(memory_limit=10000)])\n",
    "    logical_gpus = tf.config.experimental.list_logical_devices('GPU')\n",
    "    print(len(gpus), \"Physical GPUs,\", len(logical_gpus), \"Logical GPU\")\n",
    "except RuntimeError as e:\n",
    "# Visible devices must be set before GPUs have been initialized\n",
    "    print(e)"
   ]
  },
  {
   "cell_type": "markdown",
   "id": "sized-public",
   "metadata": {},
   "source": [
    "Ref: https://agustinus.kristia.de/techblog/2016/12/17/conditional-vae/   \n",
    "Ref: https://keras.io/guides/customizing_what_happens_in_fit/   \n",
    "Ref: https://keras.io/examples/generative/vae/   \n",
    "Ref: https://github.com/hagabbar/VItamin/blob/c1ae6dfa27b8ab77193caacddd477fde0dece1c2/Models/VICI_inverse_model.py#L404   \n",
    "Ref: https://www.tensorflow.org/probability/api_docs/python/tfp/distributions/MultivariateNormalDiag    "
   ]
  },
  {
   "cell_type": "code",
   "execution_count": 3,
   "id": "european-wednesday",
   "metadata": {},
   "outputs": [],
   "source": [
    "def angle_transform(prediction_array: np.ndarray = 0)-> np.ndarray :\n",
    "    tmp = np.arctan2(prediction_array[:,0],prediction_array[:,1])\n",
    "    tmp = np.where(tmp >= 0 , tmp, 2*np.pi+tmp) \n",
    "    delta = tmp/np.pi*180     \n",
    "    return delta"
   ]
  },
  {
   "cell_type": "code",
   "execution_count": 4,
   "id": "standing-election",
   "metadata": {},
   "outputs": [
    {
     "name": "stdout",
     "output_type": "stream",
     "text": [
      "CPU times: user 3min 7s, sys: 12.5 s, total: 3min 20s\n",
      "Wall time: 3min 21s\n"
     ]
    }
   ],
   "source": [
    "%%time\n",
    "training_data = np.load(\"./nsi_data/sample_nsi_regression_1e7_v1.npz\")\n",
    "data_all = np.column_stack([training_data['ve_dune'][:,:36], training_data['vu_dune'][:,:36], training_data['vebar_dune'][:,:36], training_data['vubar_dune'][:,:36]])\n",
    "\n",
    "scaler = StandardScaler()\n",
    "scaler.fit(data_all)\n",
    "\n",
    "target = np.column_stack([training_data[\"theta23\"], training_data[\"delta\"]/180*np.pi ])\n",
    "# target = target/180*np.pi \n",
    "\n",
    "x_train = data_all[:9000000]\n",
    "y_train = target[:9000000]\n",
    "y_train_delta = np.column_stack([np.sin(y_train[:,1]), np.cos(y_train[:,1])]) \n",
    "y_train_theta23 = y_train[:,0]\n",
    "\n",
    "x_test = data_all[9000000:]\n",
    "y_test = target[9000000:]\n",
    "y_test_delta = np.column_stack([np.sin(y_test[:,1]), np.cos(y_test[:,1])]) \n",
    "y_test_theta23 = y_test[:,0]\n",
    "\n",
    "x_train_poisson = np.random.poisson(x_train)/1000\n",
    "x_test_poisson = np.random.poisson(x_test)/1000"
   ]
  },
  {
   "cell_type": "code",
   "execution_count": 6,
   "id": "lucky-jersey",
   "metadata": {},
   "outputs": [],
   "source": [
    "class Sampling(layers.Layer):\n",
    "    def call(self, inputs):\n",
    "        z_mean, z_log_var = inputs\n",
    "        batch = tf.shape(z_mean)[0]\n",
    "        dim = tf.shape(z_mean)[1]\n",
    "        epsilon = tf.keras.backend.random_normal(shape=(batch, dim))\n",
    "        return z_mean + tf.exp(0.5 * z_log_var) * epsilon"
   ]
  },
  {
   "cell_type": "code",
   "execution_count": 7,
   "id": "particular-freedom",
   "metadata": {},
   "outputs": [
    {
     "name": "stdout",
     "output_type": "stream",
     "text": [
      "Model: \"encoder_1\"\n",
      "__________________________________________________________________________________________________\n",
      "Layer (type)                    Output Shape         Param #     Connected to                     \n",
      "==================================================================================================\n",
      "encoder_parameter_inputs (Input [(None, 2)]          0                                            \n",
      "__________________________________________________________________________________________________\n",
      "encoder_spectrum_inputs (InputL [(None, 144)]        0                                            \n",
      "__________________________________________________________________________________________________\n",
      "dense_parameter_1 (Dense)       (None, 64)           192         encoder_parameter_inputs[0][0]   \n",
      "__________________________________________________________________________________________________\n",
      "dense_spectrum_1 (Dense)        (None, 64)           9280        encoder_spectrum_inputs[0][0]    \n",
      "__________________________________________________________________________________________________\n",
      "dense_parameter_2 (Dense)       (None, 32)           2080        dense_parameter_1[0][0]          \n",
      "__________________________________________________________________________________________________\n",
      "dense_spectrum_2 (Dense)        (None, 32)           2080        dense_spectrum_1[0][0]           \n",
      "__________________________________________________________________________________________________\n",
      "dense_parameter_3 (Dense)       (None, 16)           528         dense_parameter_2[0][0]          \n",
      "__________________________________________________________________________________________________\n",
      "dense_spectrum_3 (Dense)        (None, 16)           528         dense_spectrum_2[0][0]           \n",
      "__________________________________________________________________________________________________\n",
      "concatenate (Concatenate)       (None, 32)           0           dense_parameter_3[0][0]          \n",
      "                                                                 dense_spectrum_3[0][0]           \n",
      "__________________________________________________________________________________________________\n",
      "z_mean (Dense)                  (None, 7)            231         concatenate[0][0]                \n",
      "__________________________________________________________________________________________________\n",
      "z_log_var (Dense)               (None, 7)            231         concatenate[0][0]                \n",
      "==================================================================================================\n",
      "Total params: 15,150\n",
      "Trainable params: 15,150\n",
      "Non-trainable params: 0\n",
      "__________________________________________________________________________________________________\n"
     ]
    }
   ],
   "source": [
    "latent_dim = 7\n",
    "\n",
    "\"\"\"\n",
    "Encoder 1 (parameter + spectrum)\n",
    "\"\"\"\n",
    "# parameter\n",
    "encoder_parameter_inputs = layers.Input(shape=(2,),name = 'encoder_parameter_inputs')\n",
    "x_parameter = layers.Dense(64, activation=\"relu\", name = 'dense_parameter_1')(encoder_parameter_inputs)\n",
    "x_parameter = layers.Dense(32, activation=\"relu\", name = 'dense_parameter_2')(x_parameter)\n",
    "x_parameter = layers.Dense(16, activation=\"relu\", name = 'dense_parameter_3')(x_parameter)\n",
    "\n",
    "# spectrum\n",
    "encoder_spectrum_inputs = layers.Input(shape=(144),name = 'encoder_spectrum_inputs')\n",
    "x_spectrum = layers.Dense(64, activation=\"relu\", name = 'dense_spectrum_1')(encoder_spectrum_inputs)\n",
    "x_spectrum = layers.Dense(32, activation=\"relu\", name = 'dense_spectrum_2')(x_spectrum)\n",
    "x_spectrum = layers.Dense(16, activation=\"relu\", name = 'dense_spectrum_3')(x_spectrum)\n",
    "\n",
    "# merged\n",
    "mergedOut_Encoder_1 = Concatenate()([x_parameter,x_spectrum])\n",
    "\n",
    "# sampling\n",
    "z_mean = layers.Dense(latent_dim, name=\"z_mean\")(mergedOut_Encoder_1)\n",
    "z_log_var = layers.Dense(latent_dim, name=\"z_log_var\")(mergedOut_Encoder_1)\n",
    "# z = Sampling(name = 'Sampling_encoder')([z_mean, z_log_var])\n",
    "\n",
    "# build model\n",
    "encoder_1 = keras.Model([encoder_parameter_inputs, encoder_spectrum_inputs], [z_mean, z_log_var], name=\"encoder_1\")\n",
    "encoder_1.summary()"
   ]
  },
  {
   "cell_type": "code",
   "execution_count": 8,
   "id": "controlled-photographer",
   "metadata": {},
   "outputs": [
    {
     "name": "stdout",
     "output_type": "stream",
     "text": [
      "Model: \"encoder_2\"\n",
      "__________________________________________________________________________________________________\n",
      "Layer (type)                    Output Shape         Param #     Connected to                     \n",
      "==================================================================================================\n",
      "encoder_spectrum_inputs (InputL [(None, 144)]        0                                            \n",
      "__________________________________________________________________________________________________\n",
      "dense_spectrum_1 (Dense)        (None, 64)           9280        encoder_spectrum_inputs[0][0]    \n",
      "__________________________________________________________________________________________________\n",
      "dense_spectrum_2 (Dense)        (None, 32)           2080        dense_spectrum_1[0][0]           \n",
      "__________________________________________________________________________________________________\n",
      "dense_spectrum_3 (Dense)        (None, 16)           528         dense_spectrum_2[0][0]           \n",
      "__________________________________________________________________________________________________\n",
      "z_mean (Dense)                  (None, 70)           1190        dense_spectrum_3[0][0]           \n",
      "__________________________________________________________________________________________________\n",
      "z_log_var (Dense)               (None, 70)           1190        dense_spectrum_3[0][0]           \n",
      "__________________________________________________________________________________________________\n",
      "z_weight (Dense)                (None, 10)           170         dense_spectrum_3[0][0]           \n",
      "==================================================================================================\n",
      "Total params: 14,438\n",
      "Trainable params: 14,438\n",
      "Non-trainable params: 0\n",
      "__________________________________________________________________________________________________\n"
     ]
    }
   ],
   "source": [
    "\"\"\"\n",
    "Encoder 2 (spectrum)\n",
    "\"\"\"\n",
    "# spectrum\n",
    "encoder_spectrum_inputs = layers.Input(shape=(144,),name = 'encoder_spectrum_inputs')\n",
    "x_spectrum = layers.Dense(64, activation=\"relu\", name = 'dense_spectrum_1')(encoder_spectrum_inputs)\n",
    "x_spectrum = layers.Dense(32, activation=\"relu\", name = 'dense_spectrum_2')(x_spectrum)\n",
    "x_spectrum = layers.Dense(16, activation=\"relu\", name = 'dense_spectrum_3')(x_spectrum)\n",
    "\n",
    "# sampling\n",
    "z_mean = layers.Dense(10*latent_dim, name=\"z_mean\")(x_spectrum)\n",
    "z_log_var = layers.Dense(10*latent_dim, name=\"z_log_var\")(x_spectrum)\n",
    "z_weight = layers.Dense(10, name=\"z_weight\")(x_spectrum)\n",
    "# z = Sampling(name = 'Sampling_encoder')([z_mean, z_log_var])\n",
    "\n",
    "# build model\n",
    "encoder_2 = keras.Model(encoder_spectrum_inputs, [z_mean, z_log_var, z_weight], name=\"encoder_2\")\n",
    "encoder_2.summary()"
   ]
  },
  {
   "cell_type": "code",
   "execution_count": 9,
   "id": "fantastic-terrorism",
   "metadata": {},
   "outputs": [
    {
     "name": "stdout",
     "output_type": "stream",
     "text": [
      "Model: \"decoder\"\n",
      "__________________________________________________________________________________________________\n",
      "Layer (type)                    Output Shape         Param #     Connected to                     \n",
      "==================================================================================================\n",
      "decoder_latent_inputs (InputLay [(None, 7)]          0                                            \n",
      "__________________________________________________________________________________________________\n",
      "decoder_spectrum_inputs (InputL [(None, 144)]        0                                            \n",
      "__________________________________________________________________________________________________\n",
      "dense_1 (Dense)                 (None, 64)           512         decoder_latent_inputs[0][0]      \n",
      "__________________________________________________________________________________________________\n",
      "dense_spectrum_1 (Dense)        (None, 64)           9280        decoder_spectrum_inputs[0][0]    \n",
      "__________________________________________________________________________________________________\n",
      "dense_2 (Dense)                 (None, 32)           2080        dense_1[0][0]                    \n",
      "__________________________________________________________________________________________________\n",
      "dense_spectrum_2 (Dense)        (None, 32)           2080        dense_spectrum_1[0][0]           \n",
      "__________________________________________________________________________________________________\n",
      "dense_3 (Dense)                 (None, 16)           528         dense_2[0][0]                    \n",
      "__________________________________________________________________________________________________\n",
      "dense_spectrum_3 (Dense)        (None, 16)           528         dense_spectrum_2[0][0]           \n",
      "__________________________________________________________________________________________________\n",
      "concatenate_1 (Concatenate)     (None, 32)           0           dense_3[0][0]                    \n",
      "                                                                 dense_spectrum_3[0][0]           \n",
      "__________________________________________________________________________________________________\n",
      "z_mean (Dense)                  (None, 2)            66          concatenate_1[0][0]              \n",
      "__________________________________________________________________________________________________\n",
      "z_log_var (Dense)               (None, 2)            66          concatenate_1[0][0]              \n",
      "==================================================================================================\n",
      "Total params: 15,140\n",
      "Trainable params: 15,140\n",
      "Non-trainable params: 0\n",
      "__________________________________________________________________________________________________\n"
     ]
    }
   ],
   "source": [
    "\"\"\"\n",
    "Decoder Model (latent + spectrum)\n",
    "\"\"\"\n",
    "latent_dim_2 = 2\n",
    "\n",
    "decoder_latent_inputs = keras.Input(shape=(latent_dim,),name = 'decoder_latent_inputs')\n",
    "x_latent = layers.Dense(64, activation=\"relu\", name = 'dense_1')(decoder_latent_inputs)\n",
    "x_latent = layers.Dense(32, activation=\"relu\", name = 'dense_2')(x_latent)\n",
    "x_latent = layers.Dense(16, activation=\"relu\", name = 'dense_3')(x_latent)\n",
    "\n",
    "# spectrum\n",
    "decoder_spectrum_inputs = layers.Input(shape=(144,),name = 'decoder_spectrum_inputs')\n",
    "x_spectrum = layers.Dense(64, activation=\"relu\", name = 'dense_spectrum_1')(decoder_spectrum_inputs)\n",
    "x_spectrum = layers.Dense(32, activation=\"relu\", name = 'dense_spectrum_2')(x_spectrum)\n",
    "x_spectrum = layers.Dense(16, activation=\"relu\", name = 'dense_spectrum_3')(x_spectrum)\n",
    "\n",
    "# merged\n",
    "mergedOut_Decoder = Concatenate()([x_latent,x_spectrum])\n",
    "\n",
    "z2_mean = layers.Dense(latent_dim_2, name=\"z_mean\")(mergedOut_Decoder)\n",
    "z2_log_var = layers.Dense(latent_dim_2, name=\"z_log_var\")(mergedOut_Decoder)\n",
    "# z2 = Sampling(name = 'Sampling_decoder')([z2_mean, z2_log_var])\n",
    "\n",
    "decoder = keras.Model([decoder_latent_inputs, decoder_spectrum_inputs], [z2_mean, z2_log_var], name=\"decoder\")\n",
    "decoder.summary()"
   ]
  },
  {
   "cell_type": "code",
   "execution_count": 10,
   "id": "specific-arbor",
   "metadata": {},
   "outputs": [],
   "source": [
    "#Ref: https://keras.io/guides/customizing_what_happens_in_fit/\n",
    "#Ref: https://keras.io/examples/generative/vae/\n",
    "#Ref: https://github.com/hagabbar/VItamin/blob/c1ae6dfa27b8ab77193caacddd477fde0dece1c2/Models/VICI_inverse_model.py#L404\n",
    "class CVAE(keras.Model):\n",
    "    def __init__(self, encoder1, encoder2, decoder, **kwargs):\n",
    "        super(CVAE, self).__init__(**kwargs)\n",
    "        self.encoder1 = encoder1  #(parameter + spectrum)\n",
    "        self.encoder2 = encoder2  #(spectrum)\n",
    "        self.decoder = decoder    #(latent + spectrum)\n",
    "        self.total_loss_tracker = keras.metrics.Mean(name=\"total_loss\")\n",
    "        self.reconstruction_loss_tracker = keras.metrics.Mean(\n",
    "            name=\"reconstruction_loss\"\n",
    "        )\n",
    "        self.kl_loss_tracker = keras.metrics.Mean(name=\"kl_loss\")\n",
    "\n",
    "    @property\n",
    "    def metrics(self):\n",
    "        return [\n",
    "            self.total_loss_tracker,\n",
    "            self.reconstruction_loss_tracker,\n",
    "            self.kl_loss_tracker,\n",
    "                ]\n",
    "\n",
    "    def train_step(self, data):\n",
    "        x, y = data\n",
    "        with tf.GradientTape() as tape:\n",
    "            SMALL_CONSTANT = 1e-12 # necessary to prevent the division by zero in many operations \n",
    "            \n",
    "            # encoder1: \n",
    "            # input: [parameter, spectrum]\n",
    "            # output: [mean, log_var]\n",
    "            # mean.shape= (N, 15)  log_var.shape= (N, 15)   D(latent space) = 15\n",
    "            z1_mean, z1_log_var = self.encoder1(x)  #(parameter + spectrum)\n",
    "            \n",
    "            # GET q(z|x,y)   #(parameter + spectrum)\n",
    "            temp_var_q = SMALL_CONSTANT + tf.exp(z1_log_var)\n",
    "            mvn_q = tfp.distributions.MultivariateNormalDiag(\n",
    "                          loc=z1_mean,\n",
    "                          scale_diag=tf.sqrt(temp_var_q))\n",
    "            \n",
    "            z1 = mvn_q.sample()\n",
    "            \n",
    "            # encoder2: \n",
    "            # input: spectrum\n",
    "            # output: [mean, log_var, weight]\n",
    "            # mean.shape= (N, 10*15)  log_var.shape= (N, 10*15) weight.shape= (N, 10)  \n",
    "            # D(latent space)=15, D(mixture component)=10\n",
    "            z2_mean, z2_log_var, z2_weight = self.encoder2(x[1])  #(spectrum)\n",
    "\n",
    "            # mean->reshape= (N, 10, 15  log_var->reshape= (N, 10, 15) for create mixture model\n",
    "            z2_mean = tf.reshape(z2_mean, (-1, 10, 7))\n",
    "            z2_log_var = tf.reshape(z2_log_var, (-1, 10, 7))\n",
    "            z2_weight = tf.reshape(z2_weight, (-1, 10))\n",
    "\n",
    "            # Get r1(z|y) mixture model   #(spectrum)\n",
    "            temp_var_r1 = SMALL_CONSTANT + tf.exp(z2_log_var)\n",
    "            bimix_gauss = tfp.distributions.MixtureSameFamily(\n",
    "                          mixture_distribution=tfp.distributions.Categorical(logits=z2_weight),\n",
    "                          components_distribution=tfp.distributions.MultivariateNormalDiag(\n",
    "                          loc=z2_mean,\n",
    "                          scale_diag=tf.sqrt(temp_var_r1)))\n",
    "            \n",
    "            z2 = bimix_gauss.sample()\n",
    "            \n",
    "            # decoder: \n",
    "            # input: [latent, spectrum]\n",
    "            # output: [mean, log_var]\n",
    "            # mean.shape= (N, 2)  log_var.shape= (N, 2) \n",
    "            reconstruction_mean, reconstruction_var = self.decoder([z1, x[1]])      #(latent + spectrum)\n",
    "            \n",
    "            # GET r2(x|z,y)    #(latent + spectrum)\n",
    "            temp_var_r2 = SMALL_CONSTANT + tf.exp(reconstruction_var)\n",
    "            reconstruction_parameter = tfp.distributions.MultivariateNormalDiag(\n",
    "                                     loc=reconstruction_mean,\n",
    "                                     scale_diag= tf.sqrt(temp_var_r2))\n",
    "            \n",
    "            r2 = reconstruction_parameter.sample()\n",
    "        \n",
    "            log_q_q = mvn_q.log_prob(z1)\n",
    "            log_r1_q = bimix_gauss.log_prob(z1)               # evaluate the log prob of r1 at the q samples(z1)\n",
    "            kl_loss = tf.reduce_mean(log_q_q - log_r1_q)      # average over batch\n",
    "            \n",
    "            reconstruction_parameter_loss = reconstruction_parameter.log_prob(y)\n",
    "            reconstruction_loss = -1.0*tf.reduce_mean(reconstruction_parameter_loss)\n",
    "            \n",
    "            total_loss = reconstruction_loss + kl_loss\n",
    "            \n",
    "        grads = tape.gradient(total_loss, self.trainable_weights)\n",
    "        self.optimizer.apply_gradients(zip(grads, self.trainable_weights))\n",
    "        self.total_loss_tracker.update_state(total_loss)\n",
    "        self.reconstruction_loss_tracker.update_state(reconstruction_loss)\n",
    "        self.kl_loss_tracker.update_state(kl_loss)\n",
    "        \n",
    "        return {\n",
    "            \"loss\": self.total_loss_tracker.result(),\n",
    "            \"reconstruction_loss\": self.reconstruction_loss_tracker.result(),\n",
    "            \"kl_loss\": self.kl_loss_tracker.result(),\n",
    "        }"
   ]
  },
  {
   "cell_type": "code",
   "execution_count": 11,
   "id": "subsequent-kelly",
   "metadata": {},
   "outputs": [],
   "source": [
    "\"\"\"\n",
    "Model Training\n",
    "\"\"\"\n",
    "cvae = CVAE(encoder_1,encoder_2,decoder)\n",
    "cvae.compile(optimizer=keras.optimizers.Adam())\n",
    "# vae.compile(optimizer=keras.optimizers.Adadelta())\n",
    "\n",
    "check_list=[]\n",
    "csv_logger = CSVLogger(\"./Training_loss/CVAE_1DCNN_training_log_v2.csv\")\n",
    "check_list.append(csv_logger)"
   ]
  },
  {
   "cell_type": "code",
   "execution_count": 12,
   "id": "509d5b70-3c25-4ac1-9a08-dbfa88c0a96f",
   "metadata": {},
   "outputs": [
    {
     "data": {
      "text/plain": [
       "array([[38.9625    ,  4.32037058],\n",
       "       [44.4099    ,  0.28056168],\n",
       "       [46.0593    ,  2.23124637],\n",
       "       ...,\n",
       "       [46.5244    ,  5.83847541],\n",
       "       [49.0195    ,  1.06983098],\n",
       "       [43.0751    ,  1.1381327 ]])"
      ]
     },
     "execution_count": 12,
     "metadata": {},
     "output_type": "execute_result"
    }
   ],
   "source": [
    "y_train"
   ]
  },
  {
   "cell_type": "code",
   "execution_count": null,
   "id": "sound-throw",
   "metadata": {},
   "outputs": [
    {
     "name": "stdout",
     "output_type": "stream",
     "text": [
      "Epoch 1/300\n",
      "WARNING:tensorflow:From /usr/local/lib/python3.6/dist-packages/tensorflow_probability/python/distributions/distribution.py:298: calling MultivariateNormalDiag.__init__ (from tensorflow_probability.python.distributions.mvn_diag) with scale_identity_multiplier is deprecated and will be removed after 2020-01-01.\n",
      "Instructions for updating:\n",
      "`scale_identity_multiplier` is deprecated; please combine it with `scale_diag` directly instead.\n",
      "WARNING:tensorflow:From /usr/local/lib/python3.6/dist-packages/tensorflow/python/ops/linalg/linear_operator_diag.py:175: calling LinearOperator.__init__ (from tensorflow.python.ops.linalg.linear_operator) with graph_parents is deprecated and will be removed in a future version.\n",
      "Instructions for updating:\n",
      "Do not pass `graph_parents`.  They will  no longer be used.\n",
      "9000/9000 [==============================] - 62s 7ms/step - loss: 25.3134 - reconstruction_loss: 7.1412 - kl_loss: 0.2823\n",
      "Epoch 2/300\n",
      "9000/9000 [==============================] - 61s 7ms/step - loss: 4.0276 - reconstruction_loss: 3.8187 - kl_loss: 0.1001\n",
      "Epoch 3/300\n",
      "9000/9000 [==============================] - 60s 7ms/step - loss: 3.7054 - reconstruction_loss: 3.5259 - kl_loss: 0.1268\n",
      "Epoch 4/300\n",
      "9000/9000 [==============================] - 60s 7ms/step - loss: 3.4714 - reconstruction_loss: 2.7201 - kl_loss: 0.6721\n",
      "Epoch 5/300\n",
      "9000/9000 [==============================] - 60s 7ms/step - loss: 3.1475 - reconstruction_loss: 1.7685 - kl_loss: 1.3090\n",
      "Epoch 6/300\n",
      "9000/9000 [==============================] - 60s 7ms/step - loss: 2.9319 - reconstruction_loss: 1.3731 - kl_loss: 1.5208\n",
      "Epoch 7/300\n",
      "9000/9000 [==============================] - 61s 7ms/step - loss: 2.7776 - reconstruction_loss: 1.1426 - kl_loss: 1.6007\n",
      "Epoch 8/300\n",
      "9000/9000 [==============================] - 61s 7ms/step - loss: 2.6497 - reconstruction_loss: 1.0015 - kl_loss: 1.6266\n",
      "Epoch 9/300\n",
      "9000/9000 [==============================] - 61s 7ms/step - loss: 2.5665 - reconstruction_loss: 0.9103 - kl_loss: 1.6419\n",
      "Epoch 10/300\n",
      "9000/9000 [==============================] - 60s 7ms/step - loss: 2.4987 - reconstruction_loss: 0.8189 - kl_loss: 1.6623\n",
      "Epoch 11/300\n",
      "9000/9000 [==============================] - 59s 7ms/step - loss: 2.4364 - reconstruction_loss: 0.7307 - kl_loss: 1.6825\n",
      "Epoch 12/300\n",
      "9000/9000 [==============================] - 59s 7ms/step - loss: 2.3782 - reconstruction_loss: 0.6714 - kl_loss: 1.6956\n",
      "Epoch 13/300\n",
      "9000/9000 [==============================] - 61s 7ms/step - loss: 2.3398 - reconstruction_loss: 0.6295 - kl_loss: 1.7023\n",
      "Epoch 14/300\n",
      "9000/9000 [==============================] - 60s 7ms/step - loss: 2.3035 - reconstruction_loss: 0.5891 - kl_loss: 1.7126\n",
      "Epoch 15/300\n",
      "9000/9000 [==============================] - 60s 7ms/step - loss: 2.2762 - reconstruction_loss: 0.5525 - kl_loss: 1.7194\n",
      "Epoch 16/300\n",
      "9000/9000 [==============================] - 60s 7ms/step - loss: 2.2553 - reconstruction_loss: 0.5322 - kl_loss: 1.7182\n",
      "Epoch 17/300\n",
      "9000/9000 [==============================] - 60s 7ms/step - loss: 2.2377 - reconstruction_loss: 0.5201 - kl_loss: 1.7115\n",
      "Epoch 18/300\n",
      "9000/9000 [==============================] - 59s 7ms/step - loss: 2.2113 - reconstruction_loss: 0.4704 - kl_loss: 1.7368\n",
      "Epoch 19/300\n",
      "9000/9000 [==============================] - 60s 7ms/step - loss: 2.1918 - reconstruction_loss: 0.4606 - kl_loss: 1.7323\n",
      "Epoch 20/300\n",
      "9000/9000 [==============================] - 60s 7ms/step - loss: 2.1837 - reconstruction_loss: 0.4499 - kl_loss: 1.7333\n",
      "Epoch 21/300\n",
      "9000/9000 [==============================] - 60s 7ms/step - loss: 2.1720 - reconstruction_loss: 0.4308 - kl_loss: 1.7420\n",
      "Epoch 22/300\n",
      "9000/9000 [==============================] - 60s 7ms/step - loss: 2.1546 - reconstruction_loss: 0.3967 - kl_loss: 1.7545\n",
      "Epoch 23/300\n",
      "9000/9000 [==============================] - 60s 7ms/step - loss: 2.1382 - reconstruction_loss: 0.3944 - kl_loss: 1.7428\n",
      "Epoch 24/300\n",
      "9000/9000 [==============================] - 60s 7ms/step - loss: 2.1291 - reconstruction_loss: 0.3685 - kl_loss: 1.7570\n",
      "Epoch 25/300\n",
      "9000/9000 [==============================] - 59s 7ms/step - loss: 2.1038 - reconstruction_loss: 0.3405 - kl_loss: 1.7644\n",
      "Epoch 26/300\n",
      "9000/9000 [==============================] - 60s 7ms/step - loss: 2.0844 - reconstruction_loss: 0.3316 - kl_loss: 1.7521\n",
      "Epoch 27/300\n",
      "9000/9000 [==============================] - 60s 7ms/step - loss: 2.0710 - reconstruction_loss: 0.3266 - kl_loss: 1.7399\n",
      "Epoch 28/300\n",
      "9000/9000 [==============================] - 60s 7ms/step - loss: 2.0456 - reconstruction_loss: 0.3123 - kl_loss: 1.7359\n",
      "Epoch 29/300\n",
      "9000/9000 [==============================] - 60s 7ms/step - loss: 2.0202 - reconstruction_loss: 0.2648 - kl_loss: 1.7573\n",
      "Epoch 30/300\n",
      "9000/9000 [==============================] - 60s 7ms/step - loss: 2.0063 - reconstruction_loss: 0.2509 - kl_loss: 1.7530\n",
      "Epoch 31/300\n",
      "9000/9000 [==============================] - 60s 7ms/step - loss: 1.9970 - reconstruction_loss: 0.2873 - kl_loss: 1.7126\n",
      "Epoch 32/300\n",
      "9000/9000 [==============================] - 60s 7ms/step - loss: 2.0022 - reconstruction_loss: 0.2716 - kl_loss: 1.7198\n",
      "Epoch 33/300\n",
      "9000/9000 [==============================] - 61s 7ms/step - loss: 1.9770 - reconstruction_loss: 0.2325 - kl_loss: 1.7425\n",
      "Epoch 34/300\n",
      "9000/9000 [==============================] - 60s 7ms/step - loss: 1.9704 - reconstruction_loss: 0.2025 - kl_loss: 1.7579\n",
      "Epoch 35/300\n",
      "9000/9000 [==============================] - 60s 7ms/step - loss: 1.9530 - reconstruction_loss: 0.1683 - kl_loss: 1.7791\n",
      "Epoch 36/300\n",
      "9000/9000 [==============================] - 60s 7ms/step - loss: 1.9478 - reconstruction_loss: 0.1657 - kl_loss: 1.7783\n",
      "Epoch 37/300\n",
      "9000/9000 [==============================] - 60s 7ms/step - loss: 1.9334 - reconstruction_loss: 0.1842 - kl_loss: 1.7475\n",
      "Epoch 40/300\n",
      "9000/9000 [==============================] - 60s 7ms/step - loss: 1.9220 - reconstruction_loss: 0.1916 - kl_loss: 1.7403\n",
      "Epoch 41/300\n",
      "9000/9000 [==============================] - 59s 7ms/step - loss: 1.9284 - reconstruction_loss: 0.1868 - kl_loss: 1.7329\n",
      "Epoch 42/300\n",
      "   9/9000 [..............................] - ETA: 59s - loss: 1.8515 - reconstruction_loss: 0.0703 - kl_loss: 1.7886"
     ]
    },
    {
     "name": "stderr",
     "output_type": "stream",
     "text": [
      "IOPub message rate exceeded.\n",
      "The Jupyter server will temporarily stop sending output\n",
      "to the client in order to avoid crashing it.\n",
      "To change this limit, set the config variable\n",
      "`--ServerApp.iopub_msg_rate_limit`.\n",
      "\n",
      "Current values:\n",
      "ServerApp.iopub_msg_rate_limit=1000.0 (msgs/sec)\n",
      "ServerApp.rate_limit_window=3.0 (secs)\n",
      "\n"
     ]
    },
    {
     "name": "stdout",
     "output_type": "stream",
     "text": [
      "9000/9000 [==============================] - 61s 7ms/step - loss: 1.8910 - reconstruction_loss: 0.1591 - kl_loss: 1.7275\n",
      "Epoch 50/300\n",
      "9000/9000 [==============================] - 59s 7ms/step - loss: 1.8651 - reconstruction_loss: 0.0709 - kl_loss: 1.7860\n",
      "Epoch 51/300\n",
      "6753/9000 [=====================>........] - ETA: 14s - loss: 1.8697 - reconstruction_loss: 0.1036 - kl_loss: 1.7664"
     ]
    },
    {
     "name": "stderr",
     "output_type": "stream",
     "text": [
      "IOPub message rate exceeded.\n",
      "The Jupyter server will temporarily stop sending output\n",
      "to the client in order to avoid crashing it.\n",
      "To change this limit, set the config variable\n",
      "`--ServerApp.iopub_msg_rate_limit`.\n",
      "\n",
      "Current values:\n",
      "ServerApp.iopub_msg_rate_limit=1000.0 (msgs/sec)\n",
      "ServerApp.rate_limit_window=3.0 (secs)\n",
      "\n"
     ]
    },
    {
     "name": "stdout",
     "output_type": "stream",
     "text": [
      "9000/9000 [==============================] - 60s 7ms/step - loss: 1.8032 - reconstruction_loss: 6.7326e-04 - kl_loss: 1.8098\n",
      "Epoch 59/300\n",
      "9000/9000 [==============================] - 59s 7ms/step - loss: 1.8084 - reconstruction_loss: 0.0648 - kl_loss: 1.7493\n",
      "Epoch 60/300\n",
      "9000/9000 [==============================] - 60s 7ms/step - loss: 1.8012 - reconstruction_loss: -0.0068 - kl_loss: 1.8099\n",
      "Epoch 61/300\n",
      "3992/9000 [============>.................] - ETA: 33s - loss: 1.7868 - reconstruction_loss: -0.0342 - kl_loss: 1.8231"
     ]
    },
    {
     "name": "stderr",
     "output_type": "stream",
     "text": [
      "IOPub message rate exceeded.\n",
      "The Jupyter server will temporarily stop sending output\n",
      "to the client in order to avoid crashing it.\n",
      "To change this limit, set the config variable\n",
      "`--ServerApp.iopub_msg_rate_limit`.\n",
      "\n",
      "Current values:\n",
      "ServerApp.iopub_msg_rate_limit=1000.0 (msgs/sec)\n",
      "ServerApp.rate_limit_window=3.0 (secs)\n",
      "\n"
     ]
    },
    {
     "name": "stdout",
     "output_type": "stream",
     "text": [
      "9000/9000 [==============================] - 59s 7ms/step - loss: 1.7712 - reconstruction_loss: -0.0020 - kl_loss: 1.7845\n",
      "Epoch 68/300\n",
      "9000/9000 [==============================] - 59s 7ms/step - loss: 1.7763 - reconstruction_loss: -0.0400 - kl_loss: 1.8082\n",
      "Epoch 69/300\n",
      "9000/9000 [==============================] - 60s 7ms/step - loss: 1.7556 - reconstruction_loss: -0.0788 - kl_loss: 1.8373\n",
      "Epoch 70/300\n",
      "4954/9000 [===============>..............] - ETA: 27s - loss: 1.7634 - reconstruction_loss: -0.0850 - kl_loss: 1.8438"
     ]
    },
    {
     "name": "stderr",
     "output_type": "stream",
     "text": [
      "IOPub message rate exceeded.\n",
      "The Jupyter server will temporarily stop sending output\n",
      "to the client in order to avoid crashing it.\n",
      "To change this limit, set the config variable\n",
      "`--ServerApp.iopub_msg_rate_limit`.\n",
      "\n",
      "Current values:\n",
      "ServerApp.iopub_msg_rate_limit=1000.0 (msgs/sec)\n",
      "ServerApp.rate_limit_window=3.0 (secs)\n",
      "\n"
     ]
    },
    {
     "name": "stdout",
     "output_type": "stream",
     "text": [
      "9000/9000 [==============================] - 60s 7ms/step - loss: 1.7315 - reconstruction_loss: -0.0320 - kl_loss: 1.7716\n",
      "Epoch 78/300\n",
      "9000/9000 [==============================] - 60s 7ms/step - loss: 1.7360 - reconstruction_loss: -0.0352 - kl_loss: 1.7712\n",
      "Epoch 79/300\n",
      "9000/9000 [==============================] - 60s 7ms/step - loss: 1.7157 - reconstruction_loss: -0.1175 - kl_loss: 1.8338\n",
      "Epoch 80/300\n",
      "2497/9000 [=======>......................] - ETA: 41s - loss: 1.7050 - reconstruction_loss: -0.1200 - kl_loss: 1.8301"
     ]
    },
    {
     "name": "stderr",
     "output_type": "stream",
     "text": [
      "IOPub message rate exceeded.\n",
      "The Jupyter server will temporarily stop sending output\n",
      "to the client in order to avoid crashing it.\n",
      "To change this limit, set the config variable\n",
      "`--ServerApp.iopub_msg_rate_limit`.\n",
      "\n",
      "Current values:\n",
      "ServerApp.iopub_msg_rate_limit=1000.0 (msgs/sec)\n",
      "ServerApp.rate_limit_window=3.0 (secs)\n",
      "\n"
     ]
    },
    {
     "name": "stdout",
     "output_type": "stream",
     "text": [
      "9000/9000 [==============================] - 59s 7ms/step - loss: 1.6956 - reconstruction_loss: -0.0812 - kl_loss: 1.7851\n",
      "Epoch 88/300\n",
      "9000/9000 [==============================] - 59s 7ms/step - loss: 1.6959 - reconstruction_loss: -0.1288 - kl_loss: 1.8212\n",
      "Epoch 89/300\n",
      "9000/9000 [==============================] - 60s 7ms/step - loss: 1.6832 - reconstruction_loss: -0.1528 - kl_loss: 1.8373\n",
      "Epoch 90/300\n",
      " 837/9000 [=>............................] - ETA: 55s - loss: 1.6922 - reconstruction_loss: -0.1045 - kl_loss: 1.7980"
     ]
    },
    {
     "name": "stderr",
     "output_type": "stream",
     "text": [
      "IOPub message rate exceeded.\n",
      "The Jupyter server will temporarily stop sending output\n",
      "to the client in order to avoid crashing it.\n",
      "To change this limit, set the config variable\n",
      "`--ServerApp.iopub_msg_rate_limit`.\n",
      "\n",
      "Current values:\n",
      "ServerApp.iopub_msg_rate_limit=1000.0 (msgs/sec)\n",
      "ServerApp.rate_limit_window=3.0 (secs)\n",
      "\n"
     ]
    },
    {
     "name": "stdout",
     "output_type": "stream",
     "text": [
      "9000/9000 [==============================] - 60s 7ms/step - loss: 1.6898 - reconstruction_loss: -0.0507 - kl_loss: 1.7404\n",
      "Epoch 98/300\n",
      "9000/9000 [==============================] - 60s 7ms/step - loss: 1.6670 - reconstruction_loss: -0.1767 - kl_loss: 1.8444\n",
      "Epoch 99/300\n",
      "7738/9000 [========================>.....] - ETA: 8s - loss: 1.6672 - reconstruction_loss: -0.1797 - kl_loss: 1.8420"
     ]
    },
    {
     "name": "stderr",
     "output_type": "stream",
     "text": [
      "IOPub message rate exceeded.\n",
      "The Jupyter server will temporarily stop sending output\n",
      "to the client in order to avoid crashing it.\n",
      "To change this limit, set the config variable\n",
      "`--ServerApp.iopub_msg_rate_limit`.\n",
      "\n",
      "Current values:\n",
      "ServerApp.iopub_msg_rate_limit=1000.0 (msgs/sec)\n",
      "ServerApp.rate_limit_window=3.0 (secs)\n",
      "\n"
     ]
    },
    {
     "name": "stdout",
     "output_type": "stream",
     "text": [
      "9000/9000 [==============================] - 59s 7ms/step - loss: 1.6773 - reconstruction_loss: -0.0766 - kl_loss: 1.7510\n",
      "Epoch 106/300\n",
      "9000/9000 [==============================] - 60s 7ms/step - loss: 1.6719 - reconstruction_loss: -0.1030 - kl_loss: 1.7722\n",
      "Epoch 107/300\n",
      " 509/9000 [>.............................] - ETA: 55s - loss: 1.6467 - reconstruction_loss: -0.2247 - kl_loss: 1.8765"
     ]
    },
    {
     "name": "stderr",
     "output_type": "stream",
     "text": [
      "IOPub message rate exceeded.\n",
      "The Jupyter server will temporarily stop sending output\n",
      "to the client in order to avoid crashing it.\n",
      "To change this limit, set the config variable\n",
      "`--ServerApp.iopub_msg_rate_limit`.\n",
      "\n",
      "Current values:\n",
      "ServerApp.iopub_msg_rate_limit=1000.0 (msgs/sec)\n",
      "ServerApp.rate_limit_window=3.0 (secs)\n",
      "\n"
     ]
    },
    {
     "name": "stdout",
     "output_type": "stream",
     "text": [
      "9000/9000 [==============================] - 59s 7ms/step - loss: 1.6540 - reconstruction_loss: -0.1909 - kl_loss: 1.8461\n",
      "Epoch 108/300\n",
      "9000/9000 [==============================] - 60s 7ms/step - loss: 1.6506 - reconstruction_loss: -0.1924 - kl_loss: 1.8476\n",
      "Epoch 109/300\n",
      "4409/9000 [=============>................] - ETA: 30s - loss: 1.6600 - reconstruction_loss: -0.1694 - kl_loss: 1.8264"
     ]
    },
    {
     "name": "stderr",
     "output_type": "stream",
     "text": [
      "IOPub message rate exceeded.\n",
      "The Jupyter server will temporarily stop sending output\n",
      "to the client in order to avoid crashing it.\n",
      "To change this limit, set the config variable\n",
      "`--ServerApp.iopub_msg_rate_limit`.\n",
      "\n",
      "Current values:\n",
      "ServerApp.iopub_msg_rate_limit=1000.0 (msgs/sec)\n",
      "ServerApp.rate_limit_window=3.0 (secs)\n",
      "\n"
     ]
    },
    {
     "name": "stdout",
     "output_type": "stream",
     "text": [
      "9000/9000 [==============================] - 60s 7ms/step - loss: 1.6531 - reconstruction_loss: -0.1564 - kl_loss: 1.8080\n",
      "Epoch 116/300\n",
      "4618/9000 [==============>...............] - ETA: 29s - loss: 1.6561 - reconstruction_loss: -0.1294 - kl_loss: 1.7862"
     ]
    },
    {
     "name": "stderr",
     "output_type": "stream",
     "text": [
      "IOPub message rate exceeded.\n",
      "The Jupyter server will temporarily stop sending output\n",
      "to the client in order to avoid crashing it.\n",
      "To change this limit, set the config variable\n",
      "`--ServerApp.iopub_msg_rate_limit`.\n",
      "\n",
      "Current values:\n",
      "ServerApp.iopub_msg_rate_limit=1000.0 (msgs/sec)\n",
      "ServerApp.rate_limit_window=3.0 (secs)\n",
      "\n"
     ]
    },
    {
     "name": "stdout",
     "output_type": "stream",
     "text": [
      "9000/9000 [==============================] - 59s 7ms/step - loss: 1.6503 - reconstruction_loss: -0.1779 - kl_loss: 1.8227\n",
      "Epoch 118/300\n",
      "8422/9000 [===========================>..] - ETA: 3s - loss: 1.6340 - reconstruction_loss: -0.2378 - kl_loss: 1.8716"
     ]
    },
    {
     "name": "stderr",
     "output_type": "stream",
     "text": [
      "IOPub message rate exceeded.\n",
      "The Jupyter server will temporarily stop sending output\n",
      "to the client in order to avoid crashing it.\n",
      "To change this limit, set the config variable\n",
      "`--ServerApp.iopub_msg_rate_limit`.\n",
      "\n",
      "Current values:\n",
      "ServerApp.iopub_msg_rate_limit=1000.0 (msgs/sec)\n",
      "ServerApp.rate_limit_window=3.0 (secs)\n",
      "\n"
     ]
    },
    {
     "name": "stdout",
     "output_type": "stream",
     "text": [
      "9000/9000 [==============================] - 60s 7ms/step - loss: 1.6538 - reconstruction_loss: -0.0777 - kl_loss: 1.7326\n",
      "Epoch 126/300\n",
      "1407/9000 [===>..........................] - ETA: 51s - loss: 1.6437 - reconstruction_loss: -0.1378 - kl_loss: 1.7768"
     ]
    },
    {
     "name": "stderr",
     "output_type": "stream",
     "text": [
      "IOPub message rate exceeded.\n",
      "The Jupyter server will temporarily stop sending output\n",
      "to the client in order to avoid crashing it.\n",
      "To change this limit, set the config variable\n",
      "`--ServerApp.iopub_msg_rate_limit`.\n",
      "\n",
      "Current values:\n",
      "ServerApp.iopub_msg_rate_limit=1000.0 (msgs/sec)\n",
      "ServerApp.rate_limit_window=3.0 (secs)\n",
      "\n"
     ]
    },
    {
     "name": "stdout",
     "output_type": "stream",
     "text": [
      "9000/9000 [==============================] - 59s 7ms/step - loss: 1.6319 - reconstruction_loss: -0.2284 - kl_loss: 1.8548\n",
      "Epoch 128/300\n",
      "5252/9000 [================>.............] - ETA: 25s - loss: 1.6164 - reconstruction_loss: -0.2559 - kl_loss: 1.8748"
     ]
    },
    {
     "name": "stderr",
     "output_type": "stream",
     "text": [
      "IOPub message rate exceeded.\n",
      "The Jupyter server will temporarily stop sending output\n",
      "to the client in order to avoid crashing it.\n",
      "To change this limit, set the config variable\n",
      "`--ServerApp.iopub_msg_rate_limit`.\n",
      "\n",
      "Current values:\n",
      "ServerApp.iopub_msg_rate_limit=1000.0 (msgs/sec)\n",
      "ServerApp.rate_limit_window=3.0 (secs)\n",
      "\n"
     ]
    },
    {
     "name": "stdout",
     "output_type": "stream",
     "text": [
      "9000/9000 [==============================] - 61s 7ms/step - loss: 1.6174 - reconstruction_loss: -0.2397 - kl_loss: 1.8555\n",
      "Epoch 135/300\n",
      "5471/9000 [=================>............] - ETA: 23s - loss: 1.6162 - reconstruction_loss: -0.2523 - kl_loss: 1.8664"
     ]
    },
    {
     "name": "stderr",
     "output_type": "stream",
     "text": [
      "IOPub message rate exceeded.\n",
      "The Jupyter server will temporarily stop sending output\n",
      "to the client in order to avoid crashing it.\n",
      "To change this limit, set the config variable\n",
      "`--ServerApp.iopub_msg_rate_limit`.\n",
      "\n",
      "Current values:\n",
      "ServerApp.iopub_msg_rate_limit=1000.0 (msgs/sec)\n",
      "ServerApp.rate_limit_window=3.0 (secs)\n",
      "\n"
     ]
    },
    {
     "name": "stdout",
     "output_type": "stream",
     "text": [
      "9000/9000 [==============================] - 60s 7ms/step - loss: 1.6055 - reconstruction_loss: -0.2490 - kl_loss: 1.8604\n",
      "Epoch 137/300\n",
      "9000/9000 [==============================] - 60s 7ms/step - loss: 1.5674 - reconstruction_loss: -0.2215 - kl_loss: 1.7956\n",
      "Epoch 168/300\n",
      "9000/9000 [==============================] - 59s 7ms/step - loss: 1.5714 - reconstruction_loss: -0.2415 - kl_loss: 1.8160\n",
      "Epoch 169/300\n",
      "9000/9000 [==============================] - 61s 7ms/step - loss: 1.5488 - reconstruction_loss: -0.3352 - kl_loss: 1.8913\n",
      "Epoch 170/300\n",
      "9000/9000 [==============================] - 60s 7ms/step - loss: 1.5494 - reconstruction_loss: -0.3034 - kl_loss: 1.8621\n",
      "Epoch 171/300\n",
      "9000/9000 [==============================] - 60s 7ms/step - loss: 1.5752 - reconstruction_loss: -0.2448 - kl_loss: 1.8135\n",
      "Epoch 172/300\n",
      "9000/9000 [==============================] - 60s 7ms/step - loss: 1.5438 - reconstruction_loss: -0.3674 - kl_loss: 1.9152\n",
      "Epoch 173/300\n",
      "9000/9000 [==============================] - 60s 7ms/step - loss: 1.5498 - reconstruction_loss: -0.3212 - kl_loss: 1.8764\n",
      "Epoch 174/300\n",
      "9000/9000 [==============================] - 61s 7ms/step - loss: 1.5621 - reconstruction_loss: -0.3049 - kl_loss: 1.8607\n",
      "Epoch 175/300\n",
      "9000/9000 [==============================] - 60s 7ms/step - loss: 1.5410 - reconstruction_loss: -0.3663 - kl_loss: 1.9127\n",
      "Epoch 176/300\n",
      "9000/9000 [==============================] - 60s 7ms/step - loss: 1.5454 - reconstruction_loss: -0.3450 - kl_loss: 1.8924\n",
      "Epoch 177/300\n",
      "9000/9000 [==============================] - 61s 7ms/step - loss: 1.5637 - reconstruction_loss: -0.2377 - kl_loss: 1.8012\n",
      "Epoch 178/300\n",
      "9000/9000 [==============================] - 59s 7ms/step - loss: 1.5476 - reconstruction_loss: -0.3538 - kl_loss: 1.8996\n",
      "Epoch 179/300\n",
      "9000/9000 [==============================] - 62s 7ms/step - loss: 1.5440 - reconstruction_loss: -0.3278 - kl_loss: 1.8765\n",
      "Epoch 180/300\n",
      "9000/9000 [==============================] - 60s 7ms/step - loss: 1.5626 - reconstruction_loss: -0.2875 - kl_loss: 1.8425\n",
      "Epoch 181/300\n",
      "9000/9000 [==============================] - 59s 7ms/step - loss: 1.5392 - reconstruction_loss: -0.3675 - kl_loss: 1.9083\n",
      "Epoch 182/300\n",
      "9000/9000 [==============================] - 60s 7ms/step - loss: 1.5482 - reconstruction_loss: -0.2465 - kl_loss: 1.8039\n",
      "Epoch 183/300\n",
      "9000/9000 [==============================] - 60s 7ms/step - loss: 1.5501 - reconstruction_loss: -0.3370 - kl_loss: 1.8802\n",
      "Epoch 184/300\n",
      "9000/9000 [==============================] - 60s 7ms/step - loss: 1.5389 - reconstruction_loss: -0.3884 - kl_loss: 1.9239\n",
      "Epoch 185/300\n",
      "9000/9000 [==============================] - 60s 7ms/step - loss: 1.5412 - reconstruction_loss: -0.2777 - kl_loss: 1.8300\n",
      "Epoch 186/300\n",
      "9000/9000 [==============================] - 61s 7ms/step - loss: 1.5547 - reconstruction_loss: -0.2907 - kl_loss: 1.8405\n",
      "Epoch 187/300\n",
      "9000/9000 [==============================] - 60s 7ms/step - loss: 1.5303 - reconstruction_loss: -0.3925 - kl_loss: 1.9239\n",
      "Epoch 188/300\n",
      "9000/9000 [==============================] - 60s 7ms/step - loss: 1.5386 - reconstruction_loss: -0.3166 - kl_loss: 1.8616\n",
      "Epoch 189/300\n",
      "9000/9000 [==============================] - 60s 7ms/step - loss: 1.5588 - reconstruction_loss: -0.2075 - kl_loss: 1.7658\n",
      "Epoch 190/300\n",
      "9000/9000 [==============================] - 60s 7ms/step - loss: 1.5494 - reconstruction_loss: -0.3183 - kl_loss: 1.8581\n",
      "Epoch 191/300\n",
      "9000/9000 [==============================] - 59s 7ms/step - loss: 1.5367 - reconstruction_loss: -0.3800 - kl_loss: 1.9118\n",
      "Epoch 192/300\n",
      "9000/9000 [==============================] - 60s 7ms/step - loss: 1.5454 - reconstruction_loss: -0.2684 - kl_loss: 1.8165\n",
      "Epoch 193/300\n",
      "9000/9000 [==============================] - 59s 7ms/step - loss: 1.5509 - reconstruction_loss: -0.2578 - kl_loss: 1.8082\n",
      "Epoch 194/300\n",
      "5082/9000 [===============>..............] - ETA: 26s - loss: 1.5508 - reconstruction_loss: -0.2792 - kl_loss: 1.8234"
     ]
    }
   ],
   "source": [
    "%%time\n",
    "cvae.fit(x = [y_train, x_train_poisson],\n",
    "         y = y_train,\n",
    "         batch_size=1000,\n",
    "         epochs=300,\n",
    "         verbose=1,\n",
    "         shuffle=True)"
   ]
  },
  {
   "cell_type": "code",
   "execution_count": null,
   "id": "375c59fd-2439-4154-9d5b-2a8ecec2a7ab",
   "metadata": {},
   "outputs": [],
   "source": [
    "path = './CVAE/DNN_angleTran_{}'\n",
    "index = 1\n",
    "while os.path.isdir(path.format(index)):\n",
    "    index += 1\n",
    "path = path.format(index)\n",
    "cvae.encoder1.save(path + \"/encoder_1_test_v2.h5\")\n",
    "cvae.encoder2.save(path + \"/encoder_2_test_v2.h5\")\n",
    "cvae.decoder.save(path + \"/decoder_test_v2.h5\")"
   ]
  }
 ],
 "metadata": {
  "kernelspec": {
   "display_name": "Python 3",
   "language": "python",
   "name": "python3"
  },
  "language_info": {
   "codemirror_mode": {
    "name": "ipython",
    "version": 3
   },
   "file_extension": ".py",
   "mimetype": "text/x-python",
   "name": "python",
   "nbconvert_exporter": "python",
   "pygments_lexer": "ipython3",
   "version": "3.6.9"
  }
 },
 "nbformat": 4,
 "nbformat_minor": 5
}
