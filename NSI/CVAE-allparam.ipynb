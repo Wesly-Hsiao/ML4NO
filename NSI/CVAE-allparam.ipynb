{
 "cells": [
  {
   "cell_type": "code",
   "execution_count": 9,
   "id": "parliamentary-triangle",
   "metadata": {},
   "outputs": [
    {
     "name": "stdout",
     "output_type": "stream",
     "text": [
      "1 Physical GPUs, 1 Logical GPU\n"
     ]
    }
   ],
   "source": [
    "import tensorflow as tf\n",
    "import tensorflow.keras as keras\n",
    "from tensorflow.keras import layers\n",
    "from tensorflow.keras.layers import Concatenate\n",
    "import tensorflow_probability as tfp\n",
    "import numpy as np\n",
    "import os \n",
    "import importlib\n",
    "import logging\n",
    "from tqdm import tqdm\n",
    "\n",
    "importlib.reload(logging)\n",
    "logging.basicConfig(level = logging.INFO)\n",
    "\n",
    "# limit GPU memory\n",
    "gpus = tf.config.experimental.list_physical_devices('GPU')\n",
    "try:\n",
    "    tf.config.experimental.set_visible_devices(gpus[0], 'GPU')\n",
    "    tf.config.experimental.set_virtual_device_configuration(\n",
    "    gpus[0],\n",
    "    [tf.config.experimental.VirtualDeviceConfiguration(memory_limit=10000)])\n",
    "    logical_gpus = tf.config.experimental.list_logical_devices('GPU')\n",
    "    print(len(gpus), \"Physical GPUs,\", len(logical_gpus), \"Logical GPU\")\n",
    "except RuntimeError as e:\n",
    "# Visible devices must be set before GPUs have been initialized\n",
    "    print(e)"
   ]
  },
  {
   "cell_type": "code",
   "execution_count": 2,
   "id": "f5d453a0-049a-4ef7-a000-556737024b43",
   "metadata": {},
   "outputs": [],
   "source": [
    "training_data = np.load(\"./nsi_data/sample_nsi_regression_1e7_v1.npz\")\n",
    "data_all = np.column_stack([training_data['ve_dune'][:,:36], training_data['vu_dune'][:,:36], training_data['vebar_dune'][:,:36], training_data['vubar_dune'][:,:36]])\n",
    "\n",
    "# theta13, theta23, delta, mumu, emu, etau\n",
    "target = np.column_stack([training_data[\"theta13\"]/180*np.pi, training_data[\"theta23\"]/180*np.pi,\n",
    "                          np.sin(training_data[\"delta\"]/180*np.pi), np.cos(training_data[\"delta\"]/180*np.pi),\n",
    "                         training_data[\"mumu\"], training_data[\"emu\"],training_data[\"etau\"]])\n",
    "\n",
    "x_train = data_all\n",
    "y_train = target\n",
    "x_train_poisson = np.random.poisson(x_train)/1000"
   ]
  },
  {
   "cell_type": "markdown",
   "id": "cb5fa6e9",
   "metadata": {},
   "source": [
    "Encoder 1 (parameter + spectrum)"
   ]
  },
  {
   "cell_type": "code",
   "execution_count": 10,
   "id": "particular-freedom",
   "metadata": {},
   "outputs": [],
   "source": [
    "def encoder1(guassian_number, latent_dim, latent_dim_2, x_parameter_node, x_spectrum_node, x_latent_node):\n",
    "    encoder_parameter_inputs = layers.Input(shape=(len(y_train[0]),),name = 'encoder_parameter_inputs')\n",
    "    x_parameter = layers.Dense(x_parameter_node[0], activation=\"relu\", name = 'dense_parameter_1')(encoder_parameter_inputs)\n",
    "    x_parameter = layers.Dense(x_parameter_node[1], activation=\"relu\", name = 'dense_parameter_2')(x_parameter)\n",
    "    x_parameter = layers.Dense(x_parameter_node[2], activation=\"relu\", name = 'dense_parameter_3')(x_parameter)\n",
    "\n",
    "    encoder_spectrum_inputs = layers.Input(shape=(144),name = 'encoder_spectrum_inputs')\n",
    "    x_spectrum = layers.Dense(x_spectrum_node[0], activation=\"relu\", name = 'dense_spectrum_1')(encoder_spectrum_inputs)\n",
    "    x_spectrum = layers.Dense(x_spectrum_node[1], activation=\"relu\", name = 'dense_spectrum_2')(x_spectrum)\n",
    "    x_spectrum = layers.Dense(x_spectrum_node[2], activation=\"relu\", name = 'dense_spectrum_3')(x_spectrum)\n",
    "\n",
    "    mergedOut_Encoder_1 = Concatenate()([x_parameter,x_spectrum])\n",
    "\n",
    "    z_mean = layers.Dense(latent_dim, name=\"z_mean\")(mergedOut_Encoder_1)\n",
    "    z_log_var = layers.Dense(latent_dim, name=\"z_log_var\")(mergedOut_Encoder_1)\n",
    "\n",
    "    return keras.Model([encoder_parameter_inputs, encoder_spectrum_inputs], [z_mean, z_log_var], name=\"encoder_1\")"
   ]
  },
  {
   "cell_type": "markdown",
   "id": "86632ca6",
   "metadata": {},
   "source": [
    "Encoder2 (spectrum)"
   ]
  },
  {
   "cell_type": "code",
   "execution_count": 11,
   "id": "controlled-photographer",
   "metadata": {},
   "outputs": [],
   "source": [
    "def encoder2(guassian_number, latent_dim, latent_dim_2, x_parameter_node, x_spectrum_node, x_latent_node):\n",
    "    encoder_spectrum_inputs = layers.Input(shape=(len(x_train[0]),),name = 'encoder_spectrum_inputs')\n",
    "    x_spectrum = layers.Dense(x_spectrum_node[0], activation=\"relu\", name = 'dense_spectrum_1')(encoder_spectrum_inputs)\n",
    "    x_spectrum = layers.Dense(x_spectrum_node[1], activation=\"relu\", name = 'dense_spectrum_2')(x_spectrum)\n",
    "    x_spectrum = layers.Dense(x_spectrum_node[2], activation=\"relu\", name = 'dense_spectrum_3')(x_spectrum)\n",
    "\n",
    "    z_mean = layers.Dense(guassian_number*latent_dim, name=\"z_mean\")(x_spectrum)\n",
    "    z_log_var = layers.Dense(guassian_number*latent_dim, name=\"z_log_var\")(x_spectrum)\n",
    "    z_weight = layers.Dense(guassian_number, name=\"z_weight\")(x_spectrum)\n",
    "\n",
    "    return keras.Model(encoder_spectrum_inputs, [z_mean, z_log_var, z_weight], name=\"encoder_2\")"
   ]
  },
  {
   "cell_type": "markdown",
   "id": "05ef690d",
   "metadata": {},
   "source": [
    "Decoder (latent + spectrum)"
   ]
  },
  {
   "cell_type": "code",
   "execution_count": 12,
   "id": "fantastic-terrorism",
   "metadata": {},
   "outputs": [],
   "source": [
    "def decoder(guassian_number, latent_dim, latent_dim_2, x_parameter_node, x_spectrum_node, x_latent_node):\n",
    "    decoder_latent_inputs = keras.Input(shape=(latent_dim,),name = 'decoder_latent_inputs')\n",
    "    x_latent = layers.Dense(x_latent_node[0], activation=\"relu\", name = 'dense_1')(decoder_latent_inputs)\n",
    "    x_latent = layers.Dense(x_latent_node[1], activation=\"relu\", name = 'dense_2')(x_latent)\n",
    "    x_latent = layers.Dense(x_latent_node[2], activation=\"relu\", name = 'dense_3')(x_latent)\n",
    "\n",
    "    # spectrum\n",
    "    decoder_spectrum_inputs = layers.Input(shape=(144,),name = 'decoder_spectrum_inputs')\n",
    "    x_spectrum = layers.Dense(x_spectrum_node[0], activation=\"relu\", name = 'dense_spectrum_1')(decoder_spectrum_inputs)\n",
    "    x_spectrum = layers.Dense(x_spectrum_node[1], activation=\"relu\", name = 'dense_spectrum_2')(x_spectrum)\n",
    "    x_spectrum = layers.Dense(x_spectrum_node[2], activation=\"relu\", name = 'dense_spectrum_3')(x_spectrum)\n",
    "\n",
    "    mergedOut_Decoder = Concatenate()([x_latent,x_spectrum])\n",
    "\n",
    "    z2_mean = layers.Dense(latent_dim_2, name=\"z_mean\")(mergedOut_Decoder)\n",
    "    z2_log_var = layers.Dense(latent_dim_2, name=\"z_log_var\")(mergedOut_Decoder)\n",
    "\n",
    "    return keras.Model([decoder_latent_inputs, decoder_spectrum_inputs], [z2_mean, z2_log_var], name=\"decoder\")"
   ]
  },
  {
   "cell_type": "code",
   "execution_count": 16,
   "id": "specific-arbor",
   "metadata": {},
   "outputs": [],
   "source": [
    "class CVAE(keras.Model):\n",
    "    def __init__(self, guassian_number, latent_dim, latent_dim_2, x_parameter_node, x_spectrum_node, x_latent_node, kl_scaling, **kwargs):\n",
    "        super(CVAE, self).__init__(**kwargs)\n",
    "        self.encoder1 = encoder1(guassian_number, latent_dim, latent_dim_2, x_parameter_node, x_spectrum_node, x_latent_node)\n",
    "        self.encoder2 = encoder2(guassian_number, latent_dim, latent_dim_2, x_parameter_node, x_spectrum_node, x_latent_node)\n",
    "        self.decoder = decoder(guassian_number, latent_dim, latent_dim_2, x_parameter_node, x_spectrum_node, x_latent_node)\n",
    "        self.total_loss_tracker = keras.metrics.Mean(name=\"total_loss\")\n",
    "        self.reconstruction_loss_tracker = keras.metrics.Mean(name=\"reconstruction_loss\")\n",
    "        self.kl_loss_tracker = keras.metrics.Mean(name=\"kl_loss\")\n",
    "\n",
    "    @property\n",
    "    def metrics(self):\n",
    "        return [\n",
    "            self.total_loss_tracker,\n",
    "            self.reconstruction_loss_tracker,\n",
    "            self.kl_loss_tracker,\n",
    "                ]\n",
    "\n",
    "    def train_step(self, data):\n",
    "        x, y = data\n",
    "        with tf.GradientTape() as tape:\n",
    "            SMALL_CONSTANT = 1e-12\n",
    "            \n",
    "            z1_mean, z1_log_var = self.encoder1(x)\n",
    "            \n",
    "            temp_var_q = SMALL_CONSTANT + tf.exp(z1_log_var)\n",
    "            mvn_q = tfp.distributions.MultivariateNormalDiag(\n",
    "                          loc=z1_mean,\n",
    "                          scale_diag=tf.sqrt(temp_var_q))\n",
    "            \n",
    "            z1 = mvn_q.sample()\n",
    "            \n",
    "            z2_mean, z2_log_var, z2_weight = self.encoder2(x[1])\n",
    "\n",
    "            z2_mean = tf.reshape(z2_mean, (-1, guassian_number, latent_dim))\n",
    "            z2_log_var = tf.reshape(z2_log_var, (-1, guassian_number, latent_dim))\n",
    "            z2_weight = tf.reshape(z2_weight, (-1, guassian_number))\n",
    "\n",
    "            temp_var_r1 = SMALL_CONSTANT + tf.exp(z2_log_var)\n",
    "            bimix_gauss = tfp.distributions.MixtureSameFamily(\n",
    "                          mixture_distribution=tfp.distributions.Categorical(logits=z2_weight),\n",
    "                          components_distribution=tfp.distributions.MultivariateNormalDiag(\n",
    "                          loc=z2_mean,\n",
    "                          scale_diag=tf.sqrt(temp_var_r1)))\n",
    "            \n",
    "            reconstruction_mean, reconstruction_var = self.decoder([z1, x[1]])     \n",
    "            \n",
    "            temp_var_r2 = SMALL_CONSTANT + tf.exp(reconstruction_var)\n",
    "            reconstruction_parameter = tfp.distributions.MultivariateNormalDiag(\n",
    "                                     loc=reconstruction_mean,\n",
    "                                     scale_diag= tf.sqrt(temp_var_r2))\n",
    "\n",
    "            kl_loss = tf.reduce_mean(mvn_q.log_prob(z1) - bimix_gauss.log_prob(z1))*kl_scaling\n",
    "            reconstruction_loss = -1.0*tf.reduce_mean(reconstruction_parameter.log_prob(y))\n",
    "            \n",
    "            total_loss = reconstruction_loss + kl_loss\n",
    "            \n",
    "        grads = tape.gradient(total_loss, self.trainable_weights)\n",
    "        self.optimizer.apply_gradients(zip(grads, self.trainable_weights))\n",
    "        self.total_loss_tracker.update_state(total_loss)\n",
    "        self.reconstruction_loss_tracker.update_state(reconstruction_loss)\n",
    "        self.kl_loss_tracker.update_state(kl_loss)\n",
    "        \n",
    "        return {\n",
    "            \"loss\": self.total_loss_tracker.result(),\n",
    "            \"reconstruction_loss\": self.reconstruction_loss_tracker.result(),\n",
    "            \"kl_loss\": self.kl_loss_tracker.result(),\n",
    "        }"
   ]
  },
  {
   "cell_type": "markdown",
   "id": "88f3b812",
   "metadata": {},
   "source": [
    "Model Building, Train, and Save"
   ]
  },
  {
   "cell_type": "code",
   "execution_count": 17,
   "id": "fc69e0c9",
   "metadata": {},
   "outputs": [],
   "source": [
    "guassian_number = 100\n",
    "latent_dim = 100\n",
    "latent_dim_2 = len(y_train[0])\n",
    "x_parameter_node = [256, 256, 256]\n",
    "x_spectrum_node = x_parameter_node\n",
    "x_latent_node = x_parameter_node\n",
    "kl_scaling = 1e+4\n",
    "lr = 0.001\n",
    "# x_spectrum_node = [256, 64, 16]\n",
    "# x_latent_node = [256, 64, 16]"
   ]
  },
  {
   "cell_type": "code",
   "execution_count": 18,
   "id": "subsequent-kelly",
   "metadata": {},
   "outputs": [
    {
     "name": "stdout",
     "output_type": "stream",
     "text": [
      "Epoch 1/100\n",
      " 4511/10000 [============>.................] - ETA: 55s - loss: 50.4288 - reconstruction_loss: 0.9888 - kl_loss: 30.0934"
     ]
    },
    {
     "ename": "KeyboardInterrupt",
     "evalue": "",
     "output_type": "error",
     "traceback": [
      "\u001b[0;31m---------------------------------------------------------------------------\u001b[0m",
      "\u001b[0;31mKeyboardInterrupt\u001b[0m                         Traceback (most recent call last)",
      "\u001b[0;32m<ipython-input-18-a10a480842fd>\u001b[0m in \u001b[0;36m<module>\u001b[0;34m\u001b[0m\n\u001b[1;32m     20\u001b[0m             \u001b[0mverbose\u001b[0m\u001b[0;34m=\u001b[0m\u001b[0;36m1\u001b[0m\u001b[0;34m,\u001b[0m\u001b[0;34m\u001b[0m\u001b[0;34m\u001b[0m\u001b[0m\n\u001b[1;32m     21\u001b[0m             \u001b[0mshuffle\u001b[0m\u001b[0;34m=\u001b[0m\u001b[0;32mTrue\u001b[0m\u001b[0;34m,\u001b[0m\u001b[0;34m\u001b[0m\u001b[0;34m\u001b[0m\u001b[0m\n\u001b[0;32m---> 22\u001b[0;31m             \u001b[0mcallbacks\u001b[0m\u001b[0;34m=\u001b[0m\u001b[0;34m[\u001b[0m\u001b[0mtensorboard_callback\u001b[0m\u001b[0;34m]\u001b[0m\u001b[0;34m\u001b[0m\u001b[0;34m\u001b[0m\u001b[0m\n\u001b[0m\u001b[1;32m     23\u001b[0m )\n\u001b[1;32m     24\u001b[0m \u001b[0;34m\u001b[0m\u001b[0m\n",
      "\u001b[0;32m/usr/local/lib/python3.6/dist-packages/tensorflow/python/keras/engine/training.py\u001b[0m in \u001b[0;36mfit\u001b[0;34m(self, x, y, batch_size, epochs, verbose, callbacks, validation_split, validation_data, shuffle, class_weight, sample_weight, initial_epoch, steps_per_epoch, validation_steps, validation_batch_size, validation_freq, max_queue_size, workers, use_multiprocessing)\u001b[0m\n\u001b[1;32m   1098\u001b[0m                 _r=1):\n\u001b[1;32m   1099\u001b[0m               \u001b[0mcallbacks\u001b[0m\u001b[0;34m.\u001b[0m\u001b[0mon_train_batch_begin\u001b[0m\u001b[0;34m(\u001b[0m\u001b[0mstep\u001b[0m\u001b[0;34m)\u001b[0m\u001b[0;34m\u001b[0m\u001b[0;34m\u001b[0m\u001b[0m\n\u001b[0;32m-> 1100\u001b[0;31m               \u001b[0mtmp_logs\u001b[0m \u001b[0;34m=\u001b[0m \u001b[0mself\u001b[0m\u001b[0;34m.\u001b[0m\u001b[0mtrain_function\u001b[0m\u001b[0;34m(\u001b[0m\u001b[0miterator\u001b[0m\u001b[0;34m)\u001b[0m\u001b[0;34m\u001b[0m\u001b[0;34m\u001b[0m\u001b[0m\n\u001b[0m\u001b[1;32m   1101\u001b[0m               \u001b[0;32mif\u001b[0m \u001b[0mdata_handler\u001b[0m\u001b[0;34m.\u001b[0m\u001b[0mshould_sync\u001b[0m\u001b[0;34m:\u001b[0m\u001b[0;34m\u001b[0m\u001b[0;34m\u001b[0m\u001b[0m\n\u001b[1;32m   1102\u001b[0m                 \u001b[0mcontext\u001b[0m\u001b[0;34m.\u001b[0m\u001b[0masync_wait\u001b[0m\u001b[0;34m(\u001b[0m\u001b[0;34m)\u001b[0m\u001b[0;34m\u001b[0m\u001b[0;34m\u001b[0m\u001b[0m\n",
      "\u001b[0;32m/usr/local/lib/python3.6/dist-packages/tensorflow/python/eager/def_function.py\u001b[0m in \u001b[0;36m__call__\u001b[0;34m(self, *args, **kwds)\u001b[0m\n\u001b[1;32m    826\u001b[0m     \u001b[0mtracing_count\u001b[0m \u001b[0;34m=\u001b[0m \u001b[0mself\u001b[0m\u001b[0;34m.\u001b[0m\u001b[0mexperimental_get_tracing_count\u001b[0m\u001b[0;34m(\u001b[0m\u001b[0;34m)\u001b[0m\u001b[0;34m\u001b[0m\u001b[0;34m\u001b[0m\u001b[0m\n\u001b[1;32m    827\u001b[0m     \u001b[0;32mwith\u001b[0m \u001b[0mtrace\u001b[0m\u001b[0;34m.\u001b[0m\u001b[0mTrace\u001b[0m\u001b[0;34m(\u001b[0m\u001b[0mself\u001b[0m\u001b[0;34m.\u001b[0m\u001b[0m_name\u001b[0m\u001b[0;34m)\u001b[0m \u001b[0;32mas\u001b[0m \u001b[0mtm\u001b[0m\u001b[0;34m:\u001b[0m\u001b[0;34m\u001b[0m\u001b[0;34m\u001b[0m\u001b[0m\n\u001b[0;32m--> 828\u001b[0;31m       \u001b[0mresult\u001b[0m \u001b[0;34m=\u001b[0m \u001b[0mself\u001b[0m\u001b[0;34m.\u001b[0m\u001b[0m_call\u001b[0m\u001b[0;34m(\u001b[0m\u001b[0;34m*\u001b[0m\u001b[0margs\u001b[0m\u001b[0;34m,\u001b[0m \u001b[0;34m**\u001b[0m\u001b[0mkwds\u001b[0m\u001b[0;34m)\u001b[0m\u001b[0;34m\u001b[0m\u001b[0;34m\u001b[0m\u001b[0m\n\u001b[0m\u001b[1;32m    829\u001b[0m       \u001b[0mcompiler\u001b[0m \u001b[0;34m=\u001b[0m \u001b[0;34m\"xla\"\u001b[0m \u001b[0;32mif\u001b[0m \u001b[0mself\u001b[0m\u001b[0;34m.\u001b[0m\u001b[0m_experimental_compile\u001b[0m \u001b[0;32melse\u001b[0m \u001b[0;34m\"nonXla\"\u001b[0m\u001b[0;34m\u001b[0m\u001b[0;34m\u001b[0m\u001b[0m\n\u001b[1;32m    830\u001b[0m       \u001b[0mnew_tracing_count\u001b[0m \u001b[0;34m=\u001b[0m \u001b[0mself\u001b[0m\u001b[0;34m.\u001b[0m\u001b[0mexperimental_get_tracing_count\u001b[0m\u001b[0;34m(\u001b[0m\u001b[0;34m)\u001b[0m\u001b[0;34m\u001b[0m\u001b[0;34m\u001b[0m\u001b[0m\n",
      "\u001b[0;32m/usr/local/lib/python3.6/dist-packages/tensorflow/python/eager/def_function.py\u001b[0m in \u001b[0;36m_call\u001b[0;34m(self, *args, **kwds)\u001b[0m\n\u001b[1;32m    853\u001b[0m       \u001b[0;31m# In this case we have created variables on the first call, so we run the\u001b[0m\u001b[0;34m\u001b[0m\u001b[0;34m\u001b[0m\u001b[0;34m\u001b[0m\u001b[0m\n\u001b[1;32m    854\u001b[0m       \u001b[0;31m# defunned version which is guaranteed to never create variables.\u001b[0m\u001b[0;34m\u001b[0m\u001b[0;34m\u001b[0m\u001b[0;34m\u001b[0m\u001b[0m\n\u001b[0;32m--> 855\u001b[0;31m       \u001b[0;32mreturn\u001b[0m \u001b[0mself\u001b[0m\u001b[0;34m.\u001b[0m\u001b[0m_stateless_fn\u001b[0m\u001b[0;34m(\u001b[0m\u001b[0;34m*\u001b[0m\u001b[0margs\u001b[0m\u001b[0;34m,\u001b[0m \u001b[0;34m**\u001b[0m\u001b[0mkwds\u001b[0m\u001b[0;34m)\u001b[0m  \u001b[0;31m# pylint: disable=not-callable\u001b[0m\u001b[0;34m\u001b[0m\u001b[0;34m\u001b[0m\u001b[0m\n\u001b[0m\u001b[1;32m    856\u001b[0m     \u001b[0;32melif\u001b[0m \u001b[0mself\u001b[0m\u001b[0;34m.\u001b[0m\u001b[0m_stateful_fn\u001b[0m \u001b[0;32mis\u001b[0m \u001b[0;32mnot\u001b[0m \u001b[0;32mNone\u001b[0m\u001b[0;34m:\u001b[0m\u001b[0;34m\u001b[0m\u001b[0;34m\u001b[0m\u001b[0m\n\u001b[1;32m    857\u001b[0m       \u001b[0;31m# Release the lock early so that multiple threads can perform the call\u001b[0m\u001b[0;34m\u001b[0m\u001b[0;34m\u001b[0m\u001b[0;34m\u001b[0m\u001b[0m\n",
      "\u001b[0;32m/usr/local/lib/python3.6/dist-packages/tensorflow/python/eager/function.py\u001b[0m in \u001b[0;36m__call__\u001b[0;34m(self, *args, **kwargs)\u001b[0m\n\u001b[1;32m   2941\u001b[0m        filtered_flat_args) = self._maybe_define_function(args, kwargs)\n\u001b[1;32m   2942\u001b[0m     return graph_function._call_flat(\n\u001b[0;32m-> 2943\u001b[0;31m         filtered_flat_args, captured_inputs=graph_function.captured_inputs)  # pylint: disable=protected-access\n\u001b[0m\u001b[1;32m   2944\u001b[0m \u001b[0;34m\u001b[0m\u001b[0m\n\u001b[1;32m   2945\u001b[0m   \u001b[0;34m@\u001b[0m\u001b[0mproperty\u001b[0m\u001b[0;34m\u001b[0m\u001b[0;34m\u001b[0m\u001b[0m\n",
      "\u001b[0;32m/usr/local/lib/python3.6/dist-packages/tensorflow/python/eager/function.py\u001b[0m in \u001b[0;36m_call_flat\u001b[0;34m(self, args, captured_inputs, cancellation_manager)\u001b[0m\n\u001b[1;32m   1917\u001b[0m       \u001b[0;31m# No tape is watching; skip to running the function.\u001b[0m\u001b[0;34m\u001b[0m\u001b[0;34m\u001b[0m\u001b[0;34m\u001b[0m\u001b[0m\n\u001b[1;32m   1918\u001b[0m       return self._build_call_outputs(self._inference_function.call(\n\u001b[0;32m-> 1919\u001b[0;31m           ctx, args, cancellation_manager=cancellation_manager))\n\u001b[0m\u001b[1;32m   1920\u001b[0m     forward_backward = self._select_forward_and_backward_functions(\n\u001b[1;32m   1921\u001b[0m         \u001b[0margs\u001b[0m\u001b[0;34m,\u001b[0m\u001b[0;34m\u001b[0m\u001b[0;34m\u001b[0m\u001b[0m\n",
      "\u001b[0;32m/usr/local/lib/python3.6/dist-packages/tensorflow/python/eager/function.py\u001b[0m in \u001b[0;36mcall\u001b[0;34m(self, ctx, args, cancellation_manager)\u001b[0m\n\u001b[1;32m    558\u001b[0m               \u001b[0minputs\u001b[0m\u001b[0;34m=\u001b[0m\u001b[0margs\u001b[0m\u001b[0;34m,\u001b[0m\u001b[0;34m\u001b[0m\u001b[0;34m\u001b[0m\u001b[0m\n\u001b[1;32m    559\u001b[0m               \u001b[0mattrs\u001b[0m\u001b[0;34m=\u001b[0m\u001b[0mattrs\u001b[0m\u001b[0;34m,\u001b[0m\u001b[0;34m\u001b[0m\u001b[0;34m\u001b[0m\u001b[0m\n\u001b[0;32m--> 560\u001b[0;31m               ctx=ctx)\n\u001b[0m\u001b[1;32m    561\u001b[0m         \u001b[0;32melse\u001b[0m\u001b[0;34m:\u001b[0m\u001b[0;34m\u001b[0m\u001b[0;34m\u001b[0m\u001b[0m\n\u001b[1;32m    562\u001b[0m           outputs = execute.execute_with_cancellation(\n",
      "\u001b[0;32m/usr/local/lib/python3.6/dist-packages/tensorflow/python/eager/execute.py\u001b[0m in \u001b[0;36mquick_execute\u001b[0;34m(op_name, num_outputs, inputs, attrs, ctx, name)\u001b[0m\n\u001b[1;32m     58\u001b[0m     \u001b[0mctx\u001b[0m\u001b[0;34m.\u001b[0m\u001b[0mensure_initialized\u001b[0m\u001b[0;34m(\u001b[0m\u001b[0;34m)\u001b[0m\u001b[0;34m\u001b[0m\u001b[0;34m\u001b[0m\u001b[0m\n\u001b[1;32m     59\u001b[0m     tensors = pywrap_tfe.TFE_Py_Execute(ctx._handle, device_name, op_name,\n\u001b[0;32m---> 60\u001b[0;31m                                         inputs, attrs, num_outputs)\n\u001b[0m\u001b[1;32m     61\u001b[0m   \u001b[0;32mexcept\u001b[0m \u001b[0mcore\u001b[0m\u001b[0;34m.\u001b[0m\u001b[0m_NotOkStatusException\u001b[0m \u001b[0;32mas\u001b[0m \u001b[0me\u001b[0m\u001b[0;34m:\u001b[0m\u001b[0;34m\u001b[0m\u001b[0;34m\u001b[0m\u001b[0m\n\u001b[1;32m     62\u001b[0m     \u001b[0;32mif\u001b[0m \u001b[0mname\u001b[0m \u001b[0;32mis\u001b[0m \u001b[0;32mnot\u001b[0m \u001b[0;32mNone\u001b[0m\u001b[0;34m:\u001b[0m\u001b[0;34m\u001b[0m\u001b[0;34m\u001b[0m\u001b[0m\n",
      "\u001b[0;31mKeyboardInterrupt\u001b[0m: "
     ]
    }
   ],
   "source": [
    "cvae = CVAE(guassian_number, latent_dim, latent_dim_2, x_parameter_node, x_spectrum_node, x_latent_node, kl_scaling)\n",
    "cvae.compile(optimizer=keras.optimizers.Adam(lr=lr))\n",
    "cvae_model_index = 1\n",
    "while os.path.isdir(\"./tb_log/model_{}\".format(cvae_model_index)): cvae_model_index += 1\n",
    "os.mkdir(\"./tb_log/model_{}\".format(cvae_model_index))\n",
    "with open(\"./tb_log/model_{}/model_info.txt\".format(cvae_model_index), 'w') as f:\n",
    "    f.writelines('guassian_number = {}\\n'.format(guassian_number))\n",
    "    f.writelines('latent_dim = {}\\n'.format(latent_dim))\n",
    "    f.writelines('x_parameter_node = {}\\n'.format(x_parameter_node))\n",
    "    f.writelines('x_spectrum_node = {}\\n'.format(x_spectrum_node))\n",
    "    f.writelines('x_latent_node = {}\\n'.format(x_latent_node))\n",
    "    f.writelines('kl_scaling = {}\\n'.format(kl_scaling))\n",
    "    f.writelines('lr = {}\\n'.format(lr))\n",
    "tensorboard_callback = keras.callbacks.TensorBoard(\n",
    "    log_dir = \"./tb_log/model_{}\".format(cvae_model_index), histogram_freq = 1)\n",
    "cvae.fit(x = [y_train, x_train_poisson],\n",
    "            y = y_train,\n",
    "            batch_size=1000,\n",
    "            epochs=100,\n",
    "            verbose=1,\n",
    "            shuffle=True,\n",
    "            callbacks=[tensorboard_callback]\n",
    ")\n",
    "\n",
    "path = \"./CVAE/model_{}/\".format(cvae_model_index)\n",
    "cvae.encoder1.save(path + \"encoder_1.h5\")\n",
    "cvae.encoder2.save(path + \"encoder_2.h5\")\n",
    "cvae.decoder.save(path + \"decoder.h5\")"
   ]
  },
  {
   "cell_type": "markdown",
   "id": "2a352c8b",
   "metadata": {},
   "source": [
    "cvae.fit(x = [y_train, x_train/1000],\n",
    "            y = y_train,\n",
    "            batch_size=1000,\n",
    "            epochs=10,\n",
    "            verbose=1,\n",
    "            shuffle=True)\n",
    "        \n",
    "scale_steps = np.logspace(-3, 0, 30)\n",
    "\n",
    "for scale in scale_steps:\n",
    "    x_train_gen = np.random.normal(x_train, np.sqrt(x_train)*scale)/1000\n",
    "    cvae.fit(x = [y_train, x_train_gen],\n",
    "             y = y_train,\n",
    "             batch_size=1000,\n",
    "             epochs=10,\n",
    "             verbose=1,\n",
    "             shuffle=True)"
   ]
  },
  {
   "cell_type": "markdown",
   "id": "sound-throw",
   "metadata": {},
   "source": [
    "for i in tqdm(range(2, 11)):\n",
    "    training_data = np.load(\"./nsi_data/sample_nsi_regression_1e7_v{}.npz\".format(i))\n",
    "    data_all = np.column_stack([training_data['ve_dune'][:,:36], training_data['vu_dune'][:,:36], training_data['vebar_dune'][:,:36], training_data['vubar_dune'][:,:36]])\n",
    "\n",
    "    target = np.column_stack([training_data[\"theta13\"]/180*np.pi, training_data[\"theta23\"]/180*np.pi,\n",
    "                            np.sin(training_data[\"delta\"]/180*np.pi), np.cos(training_data[\"delta\"]/180*np.pi),\n",
    "                            training_data[\"mumu\"], training_data[\"emu\"],training_data[\"etau\"]])\n",
    "\n",
    "    x_train = data_all\n",
    "    y_train = target\n",
    "    x_train_poisson = np.random.poisson(x_train)/1000\n",
    "    cvae.fit(x = [y_train, x_train_poisson],\n",
    "             y = y_train,\n",
    "             batch_size=1000,\n",
    "             epochs=100,\n",
    "             verbose=1,\n",
    "             shuffle=True)"
   ]
  }
 ],
 "metadata": {
  "kernelspec": {
   "display_name": "Python 3",
   "language": "python",
   "name": "python3"
  },
  "language_info": {
   "codemirror_mode": {
    "name": "ipython",
    "version": 3
   },
   "file_extension": ".py",
   "mimetype": "text/x-python",
   "name": "python",
   "nbconvert_exporter": "python",
   "pygments_lexer": "ipython3",
   "version": "3.6.9"
  }
 },
 "nbformat": 4,
 "nbformat_minor": 5
}
