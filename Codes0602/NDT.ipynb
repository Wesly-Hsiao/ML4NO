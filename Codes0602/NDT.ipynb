{
 "cells": [
  {
   "cell_type": "code",
   "execution_count": 1,
   "metadata": {},
   "outputs": [],
   "source": [
    "import numpy as np # linear algebra\n",
    "import pandas as pd # data processing, CSV file I/O (e.g. pd.read_csv)\n",
    "import matplotlib.pyplot as plt"
   ]
  },
  {
   "cell_type": "code",
   "execution_count": 2,
   "metadata": {},
   "outputs": [],
   "source": [
    "#總資料組數\n",
    "N = 1000000"
   ]
  },
  {
   "cell_type": "code",
   "execution_count": 3,
   "metadata": {},
   "outputs": [],
   "source": [
    "ve_dune = []\n",
    "vu_dune = []\n",
    "vebar_dune = []\n",
    "vubar_dune = []\n",
    "ve_t2hk = []\n",
    "vu_t2hk = []\n",
    "vebar_t2hk = []\n",
    "vubar_t2hk = []\n",
    "theta12 = []\n",
    "theta13 = []\n",
    "theta23 = []\n",
    "delta = []\n",
    "sdm = []\n",
    "ldm = []\n",
    "octant = []\n",
    "cpv = []\n",
    "mo = []"
   ]
  },
  {
   "cell_type": "code",
   "execution_count": 4,
   "metadata": {},
   "outputs": [],
   "source": [
    "#Import txt檔\n",
    "f = open(\"n1000000.txt\")"
   ]
  },
  {
   "cell_type": "code",
   "execution_count": 5,
   "metadata": {},
   "outputs": [],
   "source": [
    "for i in range(N):\n",
    "    s = f.readline().split()\n",
    "    array = []\n",
    "    for j in range(len(s)) :\n",
    "        array.append(float(s[j]))\n",
    "    ve_dune.append(array[0:50])\n",
    "    vu_dune.append(array[65:115])\n",
    "    vebar_dune.append(array[130:180])\n",
    "    vubar_dune.append(array[195:245])\n",
    "    ve_t2hk.append(array[260:271])\n",
    "    vu_t2hk.append(array[271:282])\n",
    "    vebar_t2hk.append(array[282:293])\n",
    "    vubar_t2hk.append(array[293:304])\n",
    "    theta12.append(array[304])\n",
    "    theta13.append(array[305])\n",
    "    theta23.append(array[306])\n",
    "    delta.append(array[307])\n",
    "    sdm.append(array[308])\n",
    "    ldm.append(array[309])\n",
    "    octant.append(array[310])\n",
    "    cpv.append(array[311])\n",
    "    mo.append(array[312])   \n",
    "\n"
   ]
  },
  {
   "cell_type": "code",
   "execution_count": 6,
   "metadata": {},
   "outputs": [],
   "source": [
    "#輸出全部資料為npz檔\n",
    "np.savez(\"neutrino0523n1000000\",\n",
    "         ve_dune = ve_dune,\n",
    "         vu_dune = vu_dune,\n",
    "         vebar_dune = vebar_dune,\n",
    "         vubar_dune = vubar_dune,\n",
    "         ve_t2hk = ve_t2hk,\n",
    "         vu_t2hk = vu_t2hk,\n",
    "         vebar_t2hk = vebar_t2hk,\n",
    "         vubar_t2hk= vubar_t2hk,\n",
    "         theta12 = theta12,\n",
    "         theta13 = theta13,   \n",
    "         theta23 = theta23,   \n",
    "         delta = delta,\n",
    "         sdm = sdm,   \n",
    "         ldm = ldm,  \n",
    "         octant = octant,\n",
    "         cpv = cpv,   \n",
    "         mo = mo  \n",
    "        )"
   ]
  },
  {
   "cell_type": "code",
   "execution_count": null,
   "metadata": {},
   "outputs": [],
   "source": []
  },
  {
   "cell_type": "code",
   "execution_count": null,
   "metadata": {},
   "outputs": [],
   "source": []
  }
 ],
 "metadata": {
  "kernelspec": {
   "display_name": "Python 3",
   "language": "python",
   "name": "python3"
  },
  "language_info": {
   "codemirror_mode": {
    "name": "ipython",
    "version": 3
   },
   "file_extension": ".py",
   "mimetype": "text/x-python",
   "name": "python",
   "nbconvert_exporter": "python",
   "pygments_lexer": "ipython3",
   "version": "3.8.5"
  }
 },
 "nbformat": 4,
 "nbformat_minor": 5
}
