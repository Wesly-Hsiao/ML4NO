{
 "cells": [
  {
   "cell_type": "code",
   "execution_count": 1,
   "metadata": {},
   "outputs": [],
   "source": [
    "import numpy as np # linear algebra\n",
    "import pandas as pd # data processing, CSV file I/O (e.g. pd.read_csv)\n",
    "import matplotlib.pyplot as plt"
   ]
  },
  {
   "cell_type": "code",
   "execution_count": 2,
   "metadata": {},
   "outputs": [],
   "source": [
    "data = np.load('neutrino0523n1000000.npz')"
   ]
  },
  {
   "cell_type": "code",
   "execution_count": 8,
   "metadata": {},
   "outputs": [
    {
     "data": {
      "text/plain": [
       "['ve_dune',\n",
       " 'vu_dune',\n",
       " 'vebar_dune',\n",
       " 'vubar_dune',\n",
       " 've_t2hk',\n",
       " 'vu_t2hk',\n",
       " 'vebar_t2hk',\n",
       " 'vubar_t2hk',\n",
       " 'theta12',\n",
       " 'theta13',\n",
       " 'theta23',\n",
       " 'delta',\n",
       " 'sdm',\n",
       " 'ldm',\n",
       " 'octant',\n",
       " 'cpv',\n",
       " 'mo']"
      ]
     },
     "execution_count": 8,
     "metadata": {},
     "output_type": "execute_result"
    }
   ],
   "source": [
    "data.files"
   ]
  },
  {
   "cell_type": "code",
   "execution_count": 17,
   "metadata": {},
   "outputs": [],
   "source": [
    "# Splitting \n",
    "n = 10000\n",
    "\n",
    "cpv = data['cpv'][:n]\n",
    "delta = data['delta'][:n]\n",
    "\n",
    "ve_dune = data['ve_dune'][:n]\n",
    "vu_dune = data['vu_dune'][:n]\n",
    "vebar_dune = data['vebar_dune'][:n]\n",
    "vubar_dune = data['vubar_dune'][:n]\n",
    "\n",
    "ve_t2hk = data['ve_t2hk'][:n]\n",
    "vu_t2hk = data['vu_t2hk'][:n]\n",
    "vebar_t2hk = data['vebar_t2hk'][:n]\n",
    "vubar_t2hk = data['vubar_t2hk'][:n]\n",
    "\n",
    "ve2_dune = np.hstack((ve_dune,vebar_dune))[:n] #合併ve和ve_bar\n",
    "ve2_t2hk = np.hstack((ve_t2hk,vebar_t2hk))[:n] #合併ve和ve_bar\n",
    "ve4 = np.hstack((ve_dune,vebar_dune,ve_t2hk,vebar_t2hk))[:n] #合併ve和ve_bar\n",
    "\n",
    "\n",
    "from sklearn.model_selection import train_test_split\n",
    "ve_dune_train, ve_dune_test, cpv_train_ve_dune, cpv_test_ve_dune = train_test_split(ve_dune, cpv, test_size=0.10, random_state=32)\n",
    "vu_dune_train, vu_dune_test, cpv_train_vu_dune, cpv_test_vu_dune = train_test_split(vu_dune, cpv, test_size=0.10, random_state=32)\n",
    "vebar_dune_train, vebar_dune_test, cpv_train_vebar_dune, cpv_test_vebar_dune = train_test_split(vebar_dune, cpv, test_size=0.10, random_state=32)\n",
    "vubar_dune_train, vubar_dune_test, cpv_train_vubar_dune, cpv_test_vubar_dune = train_test_split(vubar_dune, cpv, test_size=0.10, random_state=32)\n",
    "\n",
    "\n",
    "ve_t2hk_train, ve_t2hk_test, cpv_train_ve_t2hk, cpv_test_ve_t2hk = train_test_split(ve_t2hk, cpv, test_size=0.10, random_state=32)\n",
    "vu_t2hk_train, vu_t2hk_test, cpv_train_vu_t2hk, cpv_test_vu_t2hk = train_test_split(vu_t2hk, cpv, test_size=0.10, random_state=32)\n",
    "vebar_t2hk_train, vebar_t2hk_test, cpv_train_vebar_t2hk, cpv_test_vebar_t2hk = train_test_split(vebar_t2hk, cpv, test_size=0.10, random_state=32)\n",
    "vubar_t2hk_train, vubar_t2hk_test, cpv_train_vubar_t2hk, cpv_test_vubar_t2hk = train_test_split(vubar_t2hk, cpv, test_size=0.10, random_state=32)\n",
    "\n",
    "ve2_dune_train, ve2_dune_test, cpv_train_ve2_dune, cpv_test_ve2_dune = train_test_split(ve2_dune, cpv, test_size=0.10, random_state=32)\n",
    "ve2_t2hk_train, ve2_t2hk_test, cpv_train_ve2_t2hk, cpv_test_ve2_t2hk = train_test_split(ve2_t2hk, cpv, test_size=0.10, random_state=32)\n",
    "ve4_train, ve4_test, cpv_train_ve4, cpv_test_ve4 = train_test_split(ve4, cpv, test_size=0.10, random_state=32)\n",
    "\n"
   ]
  },
  {
   "cell_type": "code",
   "execution_count": 43,
   "metadata": {
    "scrolled": true
   },
   "outputs": [
    {
     "name": "stdout",
     "output_type": "stream",
     "text": [
      "Training Score:  0.9605555555555556\n",
      "Testing Score:  0.956\n"
     ]
    },
    {
     "data": {
      "image/png": "[encoded data removed]",
      "text/plain": [
       "<Figure size 432x288 with 2 Axes>"
      ]
     },
     "metadata": {
      "needs_background": "light"
     },
     "output_type": "display_data"
    }
   ],
   "source": [
    "# SVM : Spectrum ve4 & cpv\n",
    "\n",
    "#Choose Spectrum type\n",
    "v_train = ve4_train\n",
    "cpv_train = cpv_train_ve4\n",
    "v_test = ve4_test\n",
    "cpv_test = cpv_test_ve4\n",
    "\n",
    "# SVM training\n",
    "from sklearn.svm import SVC\n",
    "model_svm = SVC(kernel='linear', C=1)\n",
    "model_svm.fit(v_train,cpv_train)\n",
    "\n",
    "print('Training Score: ',model_svm.score(v_train, cpv_train))\n",
    "print('Testing Score: ', model_svm.score(v_test, cpv_test))\n",
    "\n",
    "cpv_pred_svm = model_svm.predict(v_test)\n",
    "import seaborn as sn\n",
    "from sklearn.metrics import confusion_matrix\n",
    "confusion_matrix_svm = confusion_matrix(cpv_pred_svm,cpv_test)\n",
    "\n",
    "sn.heatmap(confusion_matrix_svm, annot=True, fmt = 'g')\n",
    "plt.title('SVM : ve4 & cpv')\n",
    "plt.xlabel('True Label', fontsize = 12)\n",
    "plt.ylabel('Predicted Label', fontsize = 12)\n",
    "plt.show()"
   ]
  },
  {
   "cell_type": "code",
   "execution_count": 5,
   "metadata": {},
   "outputs": [],
   "source": [
    "fail = []\n",
    "for i in range(len(cpv_pred_svm)):\n",
    "    if cpv_pred_svm[i]==0 and cpv_test[i]==1:\n",
    "        fail.append(i)"
   ]
  },
  {
   "cell_type": "code",
   "execution_count": 36,
   "metadata": {
    "scrolled": true
   },
   "outputs": [],
   "source": [
    "delta_fail = []\n",
    "for i in range(len(fail)):\n",
    "    for j in range(len(ve_dune)):\n",
    "        if all(v_test[fail][i][:50] == ve_dune[j]):\n",
    "            delta_fail.append(delta[j])"
   ]
  },
  {
   "cell_type": "code",
   "execution_count": 44,
   "metadata": {},
   "outputs": [
    {
     "data": {
      "text/plain": [
       "[5.65457,\n",
       " 354.319,\n",
       " 352.595,\n",
       " 8.48445,\n",
       " 353.962,\n",
       " 355.356,\n",
       " 10.2466,\n",
       " 8.67461,\n",
       " 359.492,\n",
       " 6.66548,\n",
       " 2.87254,\n",
       " 348.444,\n",
       " 353.426,\n",
       " 348.831,\n",
       " 5.48651,\n",
       " 11.2656,\n",
       " 355.447,\n",
       " 354.518,\n",
       " 346.894,\n",
       " 350.022,\n",
       " 12.4874,\n",
       " 9.46773,\n",
       " 9.15316,\n",
       " 11.5416,\n",
       " 349.601,\n",
       " 349.57,\n",
       " 358.981,\n",
       " 347.831,\n",
       " 15.5078,\n",
       " 349.117,\n",
       " 0.683556,\n",
       " 347.827,\n",
       " 344.024,\n",
       " 6.64664,\n",
       " 1.27141,\n",
       " 359.305,\n",
       " 6.58532,\n",
       " 0.186038,\n",
       " 0.516014,\n",
       " 346.984,\n",
       " 14.4879,\n",
       " 351.608,\n",
       " 13.3416,\n",
       " 3.10201]"
      ]
     },
     "execution_count": 44,
     "metadata": {},
     "output_type": "execute_result"
    }
   ],
   "source": [
    "delta_fail"
   ]
  },
  {
   "cell_type": "code",
   "execution_count": 42,
   "metadata": {},
   "outputs": [
    {
     "data": {
      "text/plain": [
       "Text(0.5, 1.0, '$\\\\delta $_fail')"
      ]
     },
     "execution_count": 42,
     "metadata": {},
     "output_type": "execute_result"
    },
    {
     "data": {
      "image/png": "[encoded data removed]",
      "text/plain": [
       "<Figure size 360x360 with 1 Axes>"
      ]
     },
     "metadata": {
      "needs_background": "light"
     },
     "output_type": "display_data"
    }
   ],
   "source": [
    "plt.figure(figsize = (5,5))\n",
    "plt.hist(delta_fail,bins=1000,color = \"blue\")\n",
    "plt.xlabel(r'$\\theta $')\n",
    "plt.ylabel('#')\n",
    "plt.title(r'$\\delta $' '_fail' )"
   ]
  },
  {
   "cell_type": "code",
   "execution_count": 76,
   "metadata": {},
   "outputs": [
    {
     "data": {
      "text/plain": [
       "[<matplotlib.lines.Line2D at 0x1ac87c76b80>]"
      ]
     },
     "execution_count": 76,
     "metadata": {},
     "output_type": "execute_result"
    },
    {
     "data": {
      "image/png": "[encoded data removed]",
      "text/plain": [
       "<Figure size 432x288 with 1 Axes>"
      ]
     },
     "metadata": {
      "needs_background": "light"
     },
     "output_type": "display_data"
    }
   ],
   "source": [
    "#加總平均cpv=0/1的spectrum 看兩者平均差異 \n",
    "tmp0 = np.zeros(122)\n",
    "for i in range(len(ve4_test[cpv_pred_svm==0])):\n",
    "    tmp0 = tmp0 + ve4_test[cpv_pred_svm==0][i]\n",
    "ve4_test_avgCPV_0 = tmp0/len(ve4_test[cpv_pred_svm==0])\n",
    "\n",
    "tmp1 = np.zeros(122)\n",
    "for i in range(len(ve4_test[cpv_pred_svm==1])):\n",
    "    tmp1 = tmp1 + ve4_test[cpv_pred_svm==1][i]\n",
    "ve4_test_avgCPV_1 = tmp1/len(ve4_test[cpv_pred_svm==1])\n",
    "\n",
    "plt.plot(range(len(ve4_test_avgCPV_0)),ve4_test_avgCPV_0)\n",
    "plt.plot(range(len(ve4_test_avgCPV_1)),ve4_test_avgCPV_1)"
   ]
  },
  {
   "cell_type": "code",
   "execution_count": 79,
   "metadata": {},
   "outputs": [
    {
     "data": {
      "text/plain": [
       "[<matplotlib.lines.Line2D at 0x1ac87e092e0>]"
      ]
     },
     "execution_count": 79,
     "metadata": {},
     "output_type": "execute_result"
    },
    {
     "data": {
      "image/png": "[encoded data removed]",
      "text/plain": [
       "<Figure size 432x288 with 1 Axes>"
      ]
     },
     "metadata": {
      "needs_background": "light"
     },
     "output_type": "display_data"
    }
   ],
   "source": [
    "plt.plot(range(len(ve4_test_avgCPV_0[:100])),ve4_test_avgCPV_0[:100])\n",
    "plt.plot(range(len(ve4_test_avgCPV_1[:100])),ve4_test_avgCPV_1[:100])"
   ]
  },
  {
   "cell_type": "code",
   "execution_count": 80,
   "metadata": {},
   "outputs": [
    {
     "data": {
      "text/plain": [
       "[<matplotlib.lines.Line2D at 0x1ac87e60910>]"
      ]
     },
     "execution_count": 80,
     "metadata": {},
     "output_type": "execute_result"
    },
    {
     "data": {
      "image/png": "[encoded data removed]",
      "text/plain": [
       "<Figure size 432x288 with 1 Axes>"
      ]
     },
     "metadata": {
      "needs_background": "light"
     },
     "output_type": "display_data"
    }
   ],
   "source": [
    "plt.plot(range(len(ve4_test_avgCPV_0[100:])),ve4_test_avgCPV_0[100:])\n",
    "plt.plot(range(len(ve4_test_avgCPV_1[100:])),ve4_test_avgCPV_1[100:])"
   ]
  },
  {
   "cell_type": "code",
   "execution_count": 72,
   "metadata": {},
   "outputs": [
    {
     "data": {
      "text/plain": [
       "[<matplotlib.lines.Line2D at 0x1ac86103310>]"
      ]
     },
     "execution_count": 72,
     "metadata": {},
     "output_type": "execute_result"
    },
    {
     "data": {
      "image/png": "[encoded data removed]",
      "text/plain": [
       "<Figure size 432x288 with 1 Axes>"
      ]
     },
     "metadata": {
      "needs_background": "light"
     },
     "output_type": "display_data"
    }
   ],
   "source": [
    "#加總平均cpv=0/1的spectrum 看兩者平均差異 \n",
    "tmp0 = np.zeros(50)\n",
    "for i in range(len(vebar_dune[cpv==0])):\n",
    "    tmp0 = tmp0 + vebar_dune[cpv==0][i]\n",
    "vebar_dune_avgCPV_0 = tmp0/len(vebar_dune[cpv==0])\n",
    "\n",
    "tmp1 = np.zeros(50)\n",
    "for i in range(len(vebar_dune[cpv==1])):\n",
    "    tmp1 = tmp1 + vebar_dune[cpv==1][i]\n",
    "vebar_dune_avgCPV_1 = tmp0/len(vebar_dune[cpv==1])\n",
    "\n",
    "plt.plot(range(len(vebar_dune_avgCPV_0)),vebar_dune_avgCPV_0)\n",
    "plt.plot(range(len(vebar_dune_avgCPV_1)),vebar_dune_avgCPV_1)"
   ]
  },
  {
   "cell_type": "code",
   "execution_count": null,
   "metadata": {},
   "outputs": [],
   "source": []
  },
  {
   "cell_type": "code",
   "execution_count": null,
   "metadata": {},
   "outputs": [],
   "source": []
  },
  {
   "cell_type": "code",
   "execution_count": null,
   "metadata": {},
   "outputs": [],
   "source": []
  }
 ],
 "metadata": {
  "kernelspec": {
   "display_name": "Python 3",
   "language": "python",
   "name": "python3"
  },
  "language_info": {
   "codemirror_mode": {
    "name": "ipython",
    "version": 3
   },
   "file_extension": ".py",
   "mimetype": "text/x-python",
   "name": "python",
   "nbconvert_exporter": "python",
   "pygments_lexer": "ipython3",
   "version": "3.8.5"
  }
 },
 "nbformat": 4,
 "nbformat_minor": 4
}
