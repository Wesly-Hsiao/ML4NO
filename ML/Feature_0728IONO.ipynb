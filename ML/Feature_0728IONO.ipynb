{
 "cells": [
  {
   "cell_type": "code",
   "execution_count": 2,
   "id": "0a2a883e",
   "metadata": {},
   "outputs": [],
   "source": [
    "import numpy as np\n",
    "import pandas as pd\n",
    "import matplotlib.pyplot as plt\n",
    "import tensorflow as tf"
   ]
  },
  {
   "cell_type": "code",
   "execution_count": 4,
   "id": "9ace1086",
   "metadata": {},
   "outputs": [
    {
     "name": "stdout",
     "output_type": "stream",
     "text": [
      "['ve_dune', 'vu_dune', 'vebar_dune', 'vubar_dune', 've_t2hk', 'vu_t2hk', 'vebar_t2hk', 'vubar_t2hk', 'theta12', 'theta13', 'theta23', 'delta', 'sdm', 'ldm', 'octant', 'cpv', 'mo']\n"
     ]
    }
   ],
   "source": [
    "data_IO = np.load('/work/NuFit_IO.npz')\n",
    "data_NO = np.load('/work/NuFit_NO.npz')\n",
    "features = data_IO.files\n",
    "print(features)"
   ]
  },
  {
   "cell_type": "code",
   "execution_count": 5,
   "id": "dcefbbab",
   "metadata": {},
   "outputs": [],
   "source": [
    "features = ['ve_dune', 'vu_dune', 'vebar_dune', 'vubar_dune', 've_t2hk', 'vu_t2hk', 'vebar_t2hk', \n",
    "            'vubar_t2hk', 'theta12', 'theta13', 'theta23', 'delta', 'sdm', 'ldm', 'octant', 'cpv', 'mo']\n",
    "classes = ['theta12', 'theta13', 'theta23', 'delta', 'sdm', 'ldm']\n",
    "types = ['octant', 'cpv', 'mo']"
   ]
  },
  {
   "cell_type": "code",
   "execution_count": 6,
   "id": "9fed3f39",
   "metadata": {},
   "outputs": [
    {
     "name": "stdout",
     "output_type": "stream",
     "text": [
      "theta12 IO:  33.45 , NO:  33.44\n",
      "theta13 IO:  8.61 , NO:  8.57\n",
      "theta23 IO:  49.3 , NO:  49.0\n",
      "delta IO:  286.0 , NO:  195.0\n",
      "sdm IO:  7.42 , NO:  7.42\n",
      "ldm IO:  -2.497 , NO:  2.514\n"
     ]
    }
   ],
   "source": [
    "for c in classes:\n",
    "    print(c, 'IO: ', data_IO[c][0], ', NO: ', data_NO[c][0])"
   ]
  },
  {
   "cell_type": "code",
   "execution_count": 11,
   "id": "c6b3e4e0-090f-440f-a24e-c3dad06081c0",
   "metadata": {},
   "outputs": [
    {
     "data": {
      "text/plain": [
       "array([5])"
      ]
     },
     "execution_count": 11,
     "metadata": {},
     "output_type": "execute_result"
    }
   ],
   "source": [
    "target_IO = tf.keras.utils.to_categorical((data_IO['octant'] + 1) + data_IO['cpv']*3 + (data_IO['mo']+1)*3)\n",
    "target_IO.argmax(axis = 1)"
   ]
  },
  {
   "cell_type": "code",
   "execution_count": 10,
   "id": "af8bc216-0489-46a7-b983-6ef6587c472b",
   "metadata": {},
   "outputs": [
    {
     "data": {
      "text/plain": [
       "array([11])"
      ]
     },
     "execution_count": 10,
     "metadata": {},
     "output_type": "execute_result"
    }
   ],
   "source": [
    "target_NO = tf.keras.utils.to_categorical((data_NO['octant'] + 1) + data_NO['cpv']*3 + (data_NO['mo']+1)*3)\n",
    "target_NO.argmax(axis = 1)"
   ]
  },
  {
   "cell_type": "code",
   "execution_count": null,
   "id": "eb16cfd9-4318-4173-82fd-825572665796",
   "metadata": {},
   "outputs": [],
   "source": []
  }
 ],
 "metadata": {
  "kernelspec": {
   "display_name": "Python 3",
   "language": "python",
   "name": "python3"
  },
  "language_info": {
   "codemirror_mode": {
    "name": "ipython",
    "version": 3
   },
   "file_extension": ".py",
   "mimetype": "text/x-python",
   "name": "python",
   "nbconvert_exporter": "python",
   "pygments_lexer": "ipython3",
   "version": "3.6.9"
  }
 },
 "nbformat": 4,
 "nbformat_minor": 5
}
