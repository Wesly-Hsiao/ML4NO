{
 "cells": [
  {
   "cell_type": "code",
   "execution_count": 1,
   "metadata": {
    "tags": []
   },
   "outputs": [],
   "source": [
    "import numpy as np\n",
    "import pandas as pd\n",
    "import matplotlib.pyplot as plt\n",
    "import autokeras as ak\n",
    "import os\n",
    "import tensorflow as tf"
   ]
  },
  {
   "cell_type": "code",
   "execution_count": 2,
   "metadata": {
    "tags": []
   },
   "outputs": [],
   "source": [
    "data = np.load('/work/n1000000_0804_all_flat.npz')"
   ]
  },
  {
   "cell_type": "code",
   "execution_count": 3,
   "metadata": {
    "tags": []
   },
   "outputs": [],
   "source": [
    "input_state = 2\n",
    "target = data['theta23']\n",
    "if input_state == 0:\n",
    "    data_all = data['ve_dune']\n",
    "elif input_state == 1:\n",
    "    data_all = np.column_stack([data['ve_dune'], data['vu_dune'], data['vebar_dune'], data['vubar_dune']])\n",
    "elif input_state == 2:\n",
    "    data_all = np.column_stack([data['ve_dune'], data['vu_dune'], data['vebar_dune'], data['vubar_dune'], data['ve_t2hk'], data['vu_t2hk'], data['vebar_t2hk'], data['vubar_t2hk']])\n",
    "\n",
    "x_train = data_all[:10000]\n",
    "y_train = target[:10000]\n",
    "x_train2 = data_all[10000:900000]\n",
    "y_train2 = target[10000:900000]\n",
    "x_test = data_all[900000:]\n",
    "y_test = target[900000:]"
   ]
  },
  {
   "cell_type": "code",
   "execution_count": 4,
   "metadata": {
    "tags": []
   },
   "outputs": [
    {
     "name": "stdout",
     "output_type": "stream",
     "text": [
      "Trial 50 Complete [00h 00m 34s]\n",
      "val_loss: 1.4491512775421143\n",
      "\n",
      "Best val_loss So Far: 0.016008101403713226\n",
      "Total elapsed time: 00h 28m 32s\n",
      "INFO:tensorflow:Oracle triggered exit\n",
      "WARNING:tensorflow:Layer multi_category_encoding is casting an input tensor from dtype float64 to the layer's dtype of float32, which is new behavior in TensorFlow 2.  The layer has dtype float32 because its dtype defaults to floatx.\n",
      "\n",
      "If you intended to run this layer in float32, you can safely ignore this warning. If in doubt, this warning is likely only an issue if you are porting a TensorFlow 1.X model to TensorFlow 2.\n",
      "\n",
      "To change all layers to have dtype float64 by default, call `tf.keras.backend.set_floatx('float64')`. To change just this layer, pass dtype='float64' to the layer constructor. If you are the author of this layer, you can disable autocasting by passing autocast=False to the base Layer constructor.\n",
      "\n",
      "Epoch 1/20\n",
      "157/157 [==============================] - 1s 8ms/step - loss: 138.6190 - mean_squared_error: 138.6190\n",
      "Epoch 2/20\n",
      "157/157 [==============================] - 1s 8ms/step - loss: 1.3585 - mean_squared_error: 1.3585\n",
      "Epoch 3/20\n",
      "157/157 [==============================] - 1s 8ms/step - loss: 0.3738 - mean_squared_error: 0.3738\n",
      "Epoch 4/20\n",
      "157/157 [==============================] - 1s 8ms/step - loss: 0.1672 - mean_squared_error: 0.1672\n",
      "Epoch 5/20\n",
      "157/157 [==============================] - 1s 9ms/step - loss: 0.0839 - mean_squared_error: 0.0839\n",
      "Epoch 6/20\n",
      "157/157 [==============================] - 1s 9ms/step - loss: 0.0511 - mean_squared_error: 0.0511\n",
      "Epoch 7/20\n",
      "157/157 [==============================] - 1s 8ms/step - loss: 0.0387 - mean_squared_error: 0.0387\n",
      "Epoch 8/20\n",
      "157/157 [==============================] - 1s 8ms/step - loss: 0.0402 - mean_squared_error: 0.0402\n",
      "Epoch 9/20\n",
      "157/157 [==============================] - 1s 9ms/step - loss: 0.0592 - mean_squared_error: 0.0592\n",
      "Epoch 10/20\n",
      "157/157 [==============================] - 1s 8ms/step - loss: 0.0314 - mean_squared_error: 0.0314\n",
      "Epoch 11/20\n",
      "157/157 [==============================] - 1s 8ms/step - loss: 0.0264 - mean_squared_error: 0.0264\n",
      "Epoch 12/20\n",
      "157/157 [==============================] - 1s 8ms/step - loss: 0.0251 - mean_squared_error: 0.0251\n",
      "Epoch 13/20\n",
      "157/157 [==============================] - 1s 8ms/step - loss: 0.0283 - mean_squared_error: 0.0283\n",
      "Epoch 14/20\n",
      "157/157 [==============================] - 1s 9ms/step - loss: 0.1066 - mean_squared_error: 0.1066\n",
      "Epoch 15/20\n",
      "157/157 [==============================] - 1s 9ms/step - loss: 0.2824 - mean_squared_error: 0.2824\n",
      "Epoch 16/20\n",
      "157/157 [==============================] - 1s 8ms/step - loss: 0.0807 - mean_squared_error: 0.0807\n",
      "Epoch 17/20\n",
      "157/157 [==============================] - 1s 9ms/step - loss: 0.0970 - mean_squared_error: 0.0970\n",
      "Epoch 18/20\n",
      "157/157 [==============================] - 1s 8ms/step - loss: 0.2236 - mean_squared_error: 0.2236\n",
      "Epoch 19/20\n",
      "157/157 [==============================] - 1s 9ms/step - loss: 0.0724 - mean_squared_error: 0.0724\n",
      "Epoch 20/20\n",
      "157/157 [==============================] - 1s 9ms/step - loss: 0.0540 - mean_squared_error: 0.0540\n",
      "WARNING:tensorflow:From /usr/local/lib/python3.6/dist-packages/tensorflow/python/training/tracking/tracking.py:111: Model.state_updates (from tensorflow.python.keras.engine.training) is deprecated and will be removed in a future version.\n",
      "Instructions for updating:\n",
      "This property should not be used in TensorFlow 2.0, as updates are applied automatically.\n",
      "WARNING:tensorflow:From /usr/local/lib/python3.6/dist-packages/tensorflow/python/training/tracking/tracking.py:111: Layer.updates (from tensorflow.python.keras.engine.base_layer) is deprecated and will be removed in a future version.\n",
      "Instructions for updating:\n",
      "This property should not be used in TensorFlow 2.0, as updates are applied automatically.\n",
      "INFO:tensorflow:Assets written to: ./structured_data_regressor/best_model/assets\n"
     ]
    }
   ],
   "source": [
    "clf = ak.StructuredDataRegressor(overwrite=True, max_trials=50)\n",
    "clf.fit(x_train, y_train,\n",
    "           validation_split = 0.1,\n",
    "           batch_size=64,\n",
    "           epochs=20,\n",
    "           verbose=1,\n",
    "           shuffle = True\n",
    "       )"
   ]
  },
  {
   "cell_type": "code",
   "execution_count": 5,
   "metadata": {
    "tags": []
   },
   "outputs": [
    {
     "name": "stdout",
     "output_type": "stream",
     "text": [
      "Model: \"functional_1\"\n",
      "_________________________________________________________________\n",
      "Layer (type)                 Output Shape              Param #   \n",
      "=================================================================\n",
      "input_1 (InputLayer)         [(None, 244)]             0         \n",
      "_________________________________________________________________\n",
      "multi_category_encoding (Mul (None, 244)               0         \n",
      "_________________________________________________________________\n",
      "normalization (Normalization (None, 244)               489       \n",
      "_________________________________________________________________\n",
      "dense (Dense)                (None, 1024)              250880    \n",
      "_________________________________________________________________\n",
      "re_lu (ReLU)                 (None, 1024)              0         \n",
      "_________________________________________________________________\n",
      "dense_1 (Dense)              (None, 32)                32800     \n",
      "_________________________________________________________________\n",
      "re_lu_1 (ReLU)               (None, 32)                0         \n",
      "_________________________________________________________________\n",
      "regression_head_1 (Dense)    (None, 1)                 33        \n",
      "=================================================================\n",
      "Total params: 284,202\n",
      "Trainable params: 283,713\n",
      "Non-trainable params: 489\n",
      "_________________________________________________________________\n"
     ]
    }
   ],
   "source": [
    "model = clf.export_model()\n",
    "model.summary()"
   ]
  },
  {
   "cell_type": "code",
   "execution_count": 6,
   "metadata": {
    "tags": []
   },
   "outputs": [
    {
     "name": "stdout",
     "output_type": "stream",
     "text": [
      "Epoch 1/20\n",
      "12516/12516 [==============================] - 103s 8ms/step - loss: 0.1089 - mean_squared_error: 0.1089 - val_loss: 0.0344 - val_mean_squared_error: 0.0344\n",
      "Epoch 2/20\n",
      "12516/12516 [==============================] - 101s 8ms/step - loss: 0.0449 - mean_squared_error: 0.0449 - val_loss: 0.0218 - val_mean_squared_error: 0.0218\n",
      "Epoch 3/20\n",
      "12516/12516 [==============================] - 101s 8ms/step - loss: 0.0253 - mean_squared_error: 0.0253 - val_loss: 0.0061 - val_mean_squared_error: 0.0061\n",
      "Epoch 4/20\n",
      "12516/12516 [==============================] - 101s 8ms/step - loss: 0.0203 - mean_squared_error: 0.0203 - val_loss: 0.0028 - val_mean_squared_error: 0.0028\n",
      "Epoch 5/20\n",
      "12516/12516 [==============================] - 100s 8ms/step - loss: 0.0163 - mean_squared_error: 0.0163 - val_loss: 0.0014 - val_mean_squared_error: 0.0014\n",
      "Epoch 6/20\n",
      "12516/12516 [==============================] - 100s 8ms/step - loss: 0.0128 - mean_squared_error: 0.0128 - val_loss: 0.0020 - val_mean_squared_error: 0.0020\n",
      "Epoch 7/20\n",
      "12516/12516 [==============================] - 101s 8ms/step - loss: 0.0119 - mean_squared_error: 0.0119 - val_loss: 0.0049 - val_mean_squared_error: 0.0049\n",
      "Epoch 8/20\n",
      "12516/12516 [==============================] - 100s 8ms/step - loss: 0.0100 - mean_squared_error: 0.0100 - val_loss: 0.0661 - val_mean_squared_error: 0.0661\n",
      "Epoch 9/20\n",
      "12516/12516 [==============================] - 101s 8ms/step - loss: 0.0090 - mean_squared_error: 0.0090 - val_loss: 0.0023 - val_mean_squared_error: 0.0023\n",
      "Epoch 10/20\n",
      "12516/12516 [==============================] - 101s 8ms/step - loss: 0.0081 - mean_squared_error: 0.0081 - val_loss: 0.0039 - val_mean_squared_error: 0.0039\n",
      "Epoch 11/20\n",
      "12516/12516 [==============================] - 101s 8ms/step - loss: 0.0076 - mean_squared_error: 0.0076 - val_loss: 0.0014 - val_mean_squared_error: 0.0014\n",
      "Epoch 12/20\n",
      "12516/12516 [==============================] - 100s 8ms/step - loss: 0.0070 - mean_squared_error: 0.0070 - val_loss: 0.0090 - val_mean_squared_error: 0.0090\n",
      "Epoch 13/20\n",
      "12516/12516 [==============================] - 101s 8ms/step - loss: 0.0070 - mean_squared_error: 0.0070 - val_loss: 0.0010 - val_mean_squared_error: 0.0010\n",
      "Epoch 14/20\n",
      "12516/12516 [==============================] - 101s 8ms/step - loss: 0.0059 - mean_squared_error: 0.0059 - val_loss: 0.0014 - val_mean_squared_error: 0.0014\n",
      "Epoch 15/20\n",
      "12516/12516 [==============================] - 101s 8ms/step - loss: 0.0057 - mean_squared_error: 0.0057 - val_loss: 5.9803e-04 - val_mean_squared_error: 5.9803e-04\n",
      "Epoch 16/20\n",
      "12516/12516 [==============================] - 101s 8ms/step - loss: 0.0055 - mean_squared_error: 0.0055 - val_loss: 0.0023 - val_mean_squared_error: 0.0023\n",
      "Epoch 17/20\n",
      "12516/12516 [==============================] - 101s 8ms/step - loss: 0.0052 - mean_squared_error: 0.0052 - val_loss: 4.6740e-04 - val_mean_squared_error: 4.6740e-04\n",
      "Epoch 18/20\n",
      "12516/12516 [==============================] - 101s 8ms/step - loss: 0.0049 - mean_squared_error: 0.0049 - val_loss: 4.1461e-04 - val_mean_squared_error: 4.1461e-04\n",
      "Epoch 19/20\n",
      "12516/12516 [==============================] - 102s 8ms/step - loss: 0.0047 - mean_squared_error: 0.0047 - val_loss: 7.3896e-04 - val_mean_squared_error: 7.3896e-04\n",
      "Epoch 20/20\n",
      "12516/12516 [==============================] - 102s 8ms/step - loss: 0.0044 - mean_squared_error: 0.0044 - val_loss: 5.6142e-04 - val_mean_squared_error: 5.6142e-04\n"
     ]
    },
    {
     "data": {
      "text/plain": [
       "<tensorflow.python.keras.callbacks.History at 0x7fa4b87076d8>"
      ]
     },
     "execution_count": 6,
     "metadata": {},
     "output_type": "execute_result"
    }
   ],
   "source": [
    "model.fit(x_train2, y_train2,\n",
    "           validation_split = 0.1,\n",
    "           batch_size=64,\n",
    "           epochs=20,\n",
    "           verbose=1,\n",
    "           shuffle = True\n",
    "         )"
   ]
  },
  {
   "cell_type": "code",
   "execution_count": null,
   "metadata": {
    "tags": []
   },
   "outputs": [],
   "source": [
    "model.evaluate(x_test, y_test)\n",
    "pre_test = model.predict(x_test)"
   ]
  },
  {
   "cell_type": "code",
   "execution_count": null,
   "metadata": {
    "tags": []
   },
   "outputs": [],
   "source": [
    "plt.hist(pre_test, histtype = 'step', bins = 100, label = 'prediction')\n",
    "plt.hist(y_test, histtype = 'step', bins = 100, label = 'target')\n",
    "plt.xlabel('theta23')\n",
    "plt.ylabel('number')\n",
    "plt.legend()\n",
    "plt.show()"
   ]
  },
  {
   "cell_type": "code",
   "execution_count": null,
   "metadata": {
    "tags": []
   },
   "outputs": [],
   "source": [
    "plt.figure(figsize=(7,7))\n",
    "plt.plot(pre_test, y_test, '.', alpha = 0.05)\n",
    "plt.xlabel('prediction')\n",
    "plt.ylabel('target')\n",
    "plt.title('theta23')"
   ]
  },
  {
   "cell_type": "code",
   "execution_count": null,
   "metadata": {
    "tags": []
   },
   "outputs": [],
   "source": [
    "if input_state == 0:\n",
    "    modelname = '/work/Regression/models_ve_dune/0803_theta23_1.h5'\n",
    "    if not os.path.isfile(modelname):\n",
    "        model.save(modelname)\n",
    "elif input_state == 1:\n",
    "    modelname = '/work/Regression/models_all_dune/0803_theta23_1.h5'\n",
    "    if not os.path.isfile(modelname):\n",
    "        model.save(modelname)\n",
    "elif input_state == 2:\n",
    "    modelname = '/work/Regression/models_all/0804_theta23_1.h5'\n",
    "    if not os.path.isfile(modelname):\n",
    "        model.save(modelname)"
   ]
  },
  {
   "cell_type": "code",
   "execution_count": null,
   "metadata": {},
   "outputs": [],
   "source": []
  }
 ],
 "metadata": {
  "kernelspec": {
   "display_name": "Python 3",
   "language": "python",
   "name": "python3"
  },
  "language_info": {
   "codemirror_mode": {
    "name": "ipython",
    "version": 3
   },
   "file_extension": ".py",
   "mimetype": "text/x-python",
   "name": "python",
   "nbconvert_exporter": "python",
   "pygments_lexer": "ipython3",
   "version": "3.6.9"
  }
 },
 "nbformat": 4,
 "nbformat_minor": 4
}
