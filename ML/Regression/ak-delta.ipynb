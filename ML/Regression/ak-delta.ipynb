{
 "cells": [
  {
   "cell_type": "code",
   "execution_count": 1,
   "metadata": {
    "tags": []
   },
   "outputs": [],
   "source": [
    "import numpy as np\n",
    "import pandas as pd\n",
    "import matplotlib.pyplot as plt\n",
    "import autokeras as ak\n",
    "import os \n",
    "import tensorflow as tf"
   ]
  },
  {
   "cell_type": "code",
   "execution_count": 2,
   "metadata": {
    "tags": []
   },
   "outputs": [],
   "source": [
    "data = np.load('/work/n1000000_0804_all_flat.npz')"
   ]
  },
  {
   "cell_type": "code",
   "execution_count": 3,
   "metadata": {
    "tags": []
   },
   "outputs": [],
   "source": [
    "input_state = 2\n",
    "target = data['delta']\n",
    "if input_state == 0:\n",
    "    data_all = data['ve_dune']\n",
    "elif input_state == 1:\n",
    "    data_all = np.column_stack([data['ve_dune'], data['vu_dune'], data['vebar_dune'], data['vubar_dune']])\n",
    "elif input_state == 2:\n",
    "    data_all = np.column_stack([data['ve_dune'], data['vu_dune'], data['vebar_dune'], data['vubar_dune'], data['ve_t2hk'], data['vu_t2hk'], data['vebar_t2hk'], data['vubar_t2hk']])\n",
    "\n",
    "x_train = data_all[:10000]\n",
    "y_train = target[:10000]\n",
    "x_train2 = data_all[10000:900000]\n",
    "y_train2 = target[10000:900000]\n",
    "x_test = data_all[900000:]\n",
    "y_test = target[900000:]"
   ]
  },
  {
   "cell_type": "code",
   "execution_count": 4,
   "metadata": {
    "tags": []
   },
   "outputs": [
    {
     "name": "stdout",
     "output_type": "stream",
     "text": [
      "Trial 50 Complete [00h 01m 17s]\n",
      "val_loss: 775.70654296875\n",
      "\n",
      "Best val_loss So Far: 270.8165283203125\n",
      "Total elapsed time: 00h 55m 17s\n",
      "INFO:tensorflow:Oracle triggered exit\n",
      "WARNING:tensorflow:Layer multi_category_encoding is casting an input tensor from dtype float64 to the layer's dtype of float32, which is new behavior in TensorFlow 2.  The layer has dtype float32 because its dtype defaults to floatx.\n",
      "\n",
      "If you intended to run this layer in float32, you can safely ignore this warning. If in doubt, this warning is likely only an issue if you are porting a TensorFlow 1.X model to TensorFlow 2.\n",
      "\n",
      "To change all layers to have dtype float64 by default, call `tf.keras.backend.set_floatx('float64')`. To change just this layer, pass dtype='float64' to the layer constructor. If you are the author of this layer, you can disable autocasting by passing autocast=False to the base Layer constructor.\n",
      "\n",
      "Epoch 1/50\n",
      "157/157 [==============================] - 1s 7ms/step - loss: 20386.1621 - mean_squared_error: 20386.1621\n",
      "Epoch 2/50\n",
      "157/157 [==============================] - 1s 8ms/step - loss: 5479.7578 - mean_squared_error: 5479.7578\n",
      "Epoch 3/50\n",
      "157/157 [==============================] - 1s 8ms/step - loss: 4336.9062 - mean_squared_error: 4336.9062\n",
      "Epoch 4/50\n",
      "157/157 [==============================] - 1s 8ms/step - loss: 4066.7175 - mean_squared_error: 4066.7175\n",
      "Epoch 5/50\n",
      "157/157 [==============================] - 1s 7ms/step - loss: 3822.8867 - mean_squared_error: 3822.8867\n",
      "Epoch 6/50\n",
      "157/157 [==============================] - 1s 8ms/step - loss: 3508.0945 - mean_squared_error: 3508.0945\n",
      "Epoch 7/50\n",
      "157/157 [==============================] - 1s 7ms/step - loss: 3126.2627 - mean_squared_error: 3126.2627\n",
      "Epoch 8/50\n",
      "157/157 [==============================] - 1s 8ms/step - loss: 2736.6428 - mean_squared_error: 2736.6428\n",
      "Epoch 9/50\n",
      "157/157 [==============================] - 1s 7ms/step - loss: 2424.9158 - mean_squared_error: 2424.9158\n",
      "Epoch 10/50\n",
      "157/157 [==============================] - 1s 7ms/step - loss: 2138.5681 - mean_squared_error: 2138.5681\n",
      "Epoch 11/50\n",
      "157/157 [==============================] - 1s 8ms/step - loss: 1850.8308 - mean_squared_error: 1850.8308\n",
      "Epoch 12/50\n",
      "157/157 [==============================] - 1s 7ms/step - loss: 1544.6426 - mean_squared_error: 1544.6426\n",
      "Epoch 13/50\n",
      "157/157 [==============================] - 1s 7ms/step - loss: 1257.9818 - mean_squared_error: 1257.9818\n",
      "Epoch 14/50\n",
      "157/157 [==============================] - 1s 7ms/step - loss: 1030.6027 - mean_squared_error: 1030.6027\n",
      "Epoch 15/50\n",
      "157/157 [==============================] - 1s 7ms/step - loss: 843.1753 - mean_squared_error: 843.1753\n",
      "Epoch 16/50\n",
      "157/157 [==============================] - 1s 7ms/step - loss: 719.5646 - mean_squared_error: 719.5646\n",
      "Epoch 17/50\n",
      "157/157 [==============================] - 1s 7ms/step - loss: 633.4528 - mean_squared_error: 633.4528\n",
      "Epoch 18/50\n",
      "157/157 [==============================] - 1s 7ms/step - loss: 569.6857 - mean_squared_error: 569.6857\n",
      "Epoch 19/50\n",
      "157/157 [==============================] - 1s 7ms/step - loss: 520.6153 - mean_squared_error: 520.6153\n",
      "Epoch 20/50\n",
      "157/157 [==============================] - 1s 7ms/step - loss: 479.9014 - mean_squared_error: 479.9014\n",
      "Epoch 21/50\n",
      "157/157 [==============================] - 1s 7ms/step - loss: 447.3832 - mean_squared_error: 447.3832\n",
      "Epoch 22/50\n",
      "157/157 [==============================] - 1s 7ms/step - loss: 424.1212 - mean_squared_error: 424.1212\n",
      "Epoch 23/50\n",
      "157/157 [==============================] - 1s 7ms/step - loss: 401.5955 - mean_squared_error: 401.5955\n",
      "Epoch 24/50\n",
      "157/157 [==============================] - 1s 7ms/step - loss: 383.7809 - mean_squared_error: 383.7809\n",
      "Epoch 25/50\n",
      "157/157 [==============================] - 1s 7ms/step - loss: 366.4879 - mean_squared_error: 366.4879\n",
      "Epoch 26/50\n",
      "157/157 [==============================] - 1s 7ms/step - loss: 351.3694 - mean_squared_error: 351.3694\n",
      "Epoch 27/50\n",
      "157/157 [==============================] - 1s 7ms/step - loss: 338.2253 - mean_squared_error: 338.2253\n",
      "Epoch 28/50\n",
      "157/157 [==============================] - 1s 7ms/step - loss: 327.6136 - mean_squared_error: 327.6136\n",
      "Epoch 29/50\n",
      "157/157 [==============================] - 1s 7ms/step - loss: 317.1514 - mean_squared_error: 317.1514\n",
      "Epoch 30/50\n",
      "157/157 [==============================] - 1s 7ms/step - loss: 306.5082 - mean_squared_error: 306.5082\n",
      "Epoch 31/50\n",
      "157/157 [==============================] - 1s 7ms/step - loss: 297.0423 - mean_squared_error: 297.0423\n",
      "Epoch 32/50\n",
      "157/157 [==============================] - 1s 7ms/step - loss: 289.3686 - mean_squared_error: 289.3686\n",
      "Epoch 33/50\n",
      "157/157 [==============================] - 1s 7ms/step - loss: 282.0313 - mean_squared_error: 282.0313\n",
      "Epoch 34/50\n",
      "157/157 [==============================] - 1s 7ms/step - loss: 274.3365 - mean_squared_error: 274.3365\n",
      "Epoch 35/50\n",
      "157/157 [==============================] - 1s 7ms/step - loss: 269.9303 - mean_squared_error: 269.9303\n",
      "Epoch 36/50\n",
      "157/157 [==============================] - 1s 7ms/step - loss: 264.7706 - mean_squared_error: 264.7706\n",
      "Epoch 37/50\n",
      "157/157 [==============================] - 1s 7ms/step - loss: 261.1199 - mean_squared_error: 261.1199\n",
      "Epoch 38/50\n",
      "157/157 [==============================] - 1s 7ms/step - loss: 255.6273 - mean_squared_error: 255.6273\n",
      "Epoch 39/50\n",
      "157/157 [==============================] - 1s 7ms/step - loss: 252.5946 - mean_squared_error: 252.5946\n",
      "Epoch 40/50\n",
      "157/157 [==============================] - 1s 7ms/step - loss: 248.0552 - mean_squared_error: 248.0552\n",
      "Epoch 41/50\n",
      "157/157 [==============================] - 1s 7ms/step - loss: 239.3887 - mean_squared_error: 239.3887\n",
      "Epoch 42/50\n",
      "157/157 [==============================] - 1s 7ms/step - loss: 240.5960 - mean_squared_error: 240.5960\n",
      "Epoch 43/50\n",
      "157/157 [==============================] - 1s 7ms/step - loss: 236.5656 - mean_squared_error: 236.5656\n",
      "Epoch 44/50\n",
      "157/157 [==============================] - 1s 7ms/step - loss: 231.2518 - mean_squared_error: 231.2518\n",
      "Epoch 45/50\n",
      "157/157 [==============================] - 1s 7ms/step - loss: 227.6540 - mean_squared_error: 227.6540\n",
      "Epoch 46/50\n",
      "157/157 [==============================] - 1s 7ms/step - loss: 222.7093 - mean_squared_error: 222.7093\n",
      "Epoch 47/50\n",
      "157/157 [==============================] - 1s 7ms/step - loss: 221.7999 - mean_squared_error: 221.7999\n",
      "Epoch 48/50\n",
      "157/157 [==============================] - 1s 7ms/step - loss: 219.1751 - mean_squared_error: 219.1751\n",
      "Epoch 49/50\n",
      "157/157 [==============================] - 1s 7ms/step - loss: 216.0891 - mean_squared_error: 216.0891\n",
      "Epoch 50/50\n",
      "157/157 [==============================] - 1s 7ms/step - loss: 213.8870 - mean_squared_error: 213.8870\n",
      "WARNING:tensorflow:From /usr/local/lib/python3.6/dist-packages/tensorflow/python/training/tracking/tracking.py:111: Model.state_updates (from tensorflow.python.keras.engine.training) is deprecated and will be removed in a future version.\n",
      "Instructions for updating:\n",
      "This property should not be used in TensorFlow 2.0, as updates are applied automatically.\n",
      "WARNING:tensorflow:From /usr/local/lib/python3.6/dist-packages/tensorflow/python/training/tracking/tracking.py:111: Layer.updates (from tensorflow.python.keras.engine.base_layer) is deprecated and will be removed in a future version.\n",
      "Instructions for updating:\n",
      "This property should not be used in TensorFlow 2.0, as updates are applied automatically.\n",
      "INFO:tensorflow:Assets written to: ./structured_data_regressor/best_model/assets\n"
     ]
    }
   ],
   "source": [
    "clf = ak.StructuredDataRegressor(overwrite=True, max_trials=50)\n",
    "clf.fit(x_train, y_train,\n",
    "           validation_split = 0.1,\n",
    "           batch_size=64,\n",
    "           epochs=50,\n",
    "           verbose=1,\n",
    "           shuffle = True\n",
    "       )"
   ]
  },
  {
   "cell_type": "code",
   "execution_count": 5,
   "metadata": {
    "tags": []
   },
   "outputs": [
    {
     "name": "stdout",
     "output_type": "stream",
     "text": [
      "Model: \"functional_1\"\n",
      "_________________________________________________________________\n",
      "Layer (type)                 Output Shape              Param #   \n",
      "=================================================================\n",
      "input_1 (InputLayer)         [(None, 244)]             0         \n",
      "_________________________________________________________________\n",
      "multi_category_encoding (Mul (None, 244)               0         \n",
      "_________________________________________________________________\n",
      "normalization (Normalization (None, 244)               489       \n",
      "_________________________________________________________________\n",
      "dense (Dense)                (None, 32)                7840      \n",
      "_________________________________________________________________\n",
      "re_lu (ReLU)                 (None, 32)                0         \n",
      "_________________________________________________________________\n",
      "dense_1 (Dense)              (None, 128)               4224      \n",
      "_________________________________________________________________\n",
      "re_lu_1 (ReLU)               (None, 128)               0         \n",
      "_________________________________________________________________\n",
      "regression_head_1 (Dense)    (None, 1)                 129       \n",
      "=================================================================\n",
      "Total params: 12,682\n",
      "Trainable params: 12,193\n",
      "Non-trainable params: 489\n",
      "_________________________________________________________________\n"
     ]
    }
   ],
   "source": [
    "model = clf.export_model()\n",
    "model.summary()"
   ]
  },
  {
   "cell_type": "code",
   "execution_count": null,
   "metadata": {
    "tags": []
   },
   "outputs": [
    {
     "name": "stdout",
     "output_type": "stream",
     "text": [
      "Epoch 1/20\n",
      "12516/12516 [==============================] - 89s 7ms/step - loss: 195.0002 - mean_squared_error: 195.0002 - val_loss: 157.1698 - val_mean_squared_error: 157.1698\n",
      "Epoch 2/20\n",
      "12516/12516 [==============================] - 87s 7ms/step - loss: 168.1634 - mean_squared_error: 168.1634 - val_loss: 110.2250 - val_mean_squared_error: 110.2250\n",
      "Epoch 3/20\n",
      "12516/12516 [==============================] - 87s 7ms/step - loss: 154.3117 - mean_squared_error: 154.3117 - val_loss: 94.9089 - val_mean_squared_error: 94.9089\n",
      "Epoch 4/20\n",
      "12516/12516 [==============================] - 87s 7ms/step - loss: 150.5822 - mean_squared_error: 150.5822 - val_loss: 190.7868 - val_mean_squared_error: 190.7868\n",
      "Epoch 5/20\n",
      " 3563/12516 [=======>......................] - ETA: 57s - loss: 141.8218 - mean_squared_error: 141.8218"
     ]
    }
   ],
   "source": [
    "model.fit(x_train2, y_train2,\n",
    "           validation_split = 0.1,\n",
    "           batch_size=64,\n",
    "           epochs=20,\n",
    "           verbose=1,\n",
    "           shuffle = True\n",
    "         )"
   ]
  },
  {
   "cell_type": "code",
   "execution_count": null,
   "metadata": {
    "tags": []
   },
   "outputs": [],
   "source": [
    "model.evaluate(x_test, y_test)\n",
    "pre_test = model.predict(x_test)"
   ]
  },
  {
   "cell_type": "code",
   "execution_count": null,
   "metadata": {},
   "outputs": [],
   "source": [
    "plt.hist(pre_test, histtype = 'step', bins = 100, label = 'prediction')\n",
    "plt.hist(y_test, histtype = 'step', bins = 100, label = 'target')\n",
    "plt.xlabel('delta')\n",
    "plt.ylabel('number')\n",
    "plt.legend()\n",
    "plt.show()"
   ]
  },
  {
   "cell_type": "code",
   "execution_count": null,
   "metadata": {},
   "outputs": [],
   "source": [
    "plt.figure(figsize=(7,7))\n",
    "plt.plot(pre_test, y_test, '.', alpha = 0.05)\n",
    "plt.xlabel('prediction')\n",
    "plt.ylabel('target')\n",
    "plt.title('delta')"
   ]
  },
  {
   "cell_type": "code",
   "execution_count": null,
   "metadata": {
    "tags": []
   },
   "outputs": [],
   "source": [
    "if input_state == 0:\n",
    "    modelname = '/work/Regression/models_ve_dune/0803_delta4.h5'\n",
    "    if not os.path.isfile(modelname):\n",
    "        model.save(modelname)\n",
    "elif input_state == 1:\n",
    "    modelname = '/work/Regression/models_all_dune/0803_delta2.h5'\n",
    "    if not os.path.isfile(modelname):\n",
    "        model.save(modelname)\n",
    "elif input_state == 2:\n",
    "    modelname = '/work/Regression/models_all/0804_delta2.h5'\n",
    "    if not os.path.isfile(modelname):\n",
    "        model.save(modelname)"
   ]
  },
  {
   "cell_type": "code",
   "execution_count": null,
   "metadata": {},
   "outputs": [],
   "source": []
  }
 ],
 "metadata": {
  "kernelspec": {
   "display_name": "Python 3",
   "language": "python",
   "name": "python3"
  },
  "language_info": {
   "codemirror_mode": {
    "name": "ipython",
    "version": 3
   },
   "file_extension": ".py",
   "mimetype": "text/x-python",
   "name": "python",
   "nbconvert_exporter": "python",
   "pygments_lexer": "ipython3",
   "version": "3.6.9"
  }
 },
 "nbformat": 4,
 "nbformat_minor": 4
}
