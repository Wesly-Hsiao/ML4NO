{
 "cells": [
  {
   "cell_type": "code",
   "execution_count": 2,
   "metadata": {
    "tags": []
   },
   "outputs": [],
   "source": [
    "import numpy as np\n",
    "import pandas as pd\n",
    "import matplotlib.pyplot as plt\n",
    "import autokeras as ak\n",
    "import os\n",
    "import tensorflow as tf\n",
    "import time"
   ]
  },
  {
   "cell_type": "code",
   "execution_count": 3,
   "metadata": {
    "tags": []
   },
   "outputs": [],
   "source": [
    "data = np.load('/work/n1000000_0804_all_flat.npz')\n",
    "cut_index = np.load('/work/NIO_largerthan100_index.npy')"
   ]
  },
  {
   "cell_type": "code",
   "execution_count": 4,
   "metadata": {
    "tags": []
   },
   "outputs": [],
   "source": [
    "input_state = 2\n",
    "target = data['theta23']\n",
    "\n",
    "if input_state == 0:\n",
    "    data_all = data['ve_dune']\n",
    "elif input_state == 1:\n",
    "    data_all = np.column_stack([data['ve_dune'], data['vu_dune'], data['vebar_dune'], data['vubar_dune']])\n",
    "elif input_state == 2:\n",
    "    data_all = np.column_stack([data['ve_dune'], data['vu_dune'], data['vebar_dune'], data['vubar_dune'], data['ve_t2hk'], data['vu_t2hk'], data['vebar_t2hk'], data['vubar_t2hk']])\n",
    "\n",
    "x_train = data_all[:10000, cut_index]\n",
    "y_train = target[:10000]\n",
    "x_train2 = data_all[10000:900000, cut_index]\n",
    "y_train2 = target[10000:900000]\n",
    "x_test = data_all[900000:, cut_index]\n",
    "y_test = target[900000:]"
   ]
  },
  {
   "cell_type": "code",
   "execution_count": 5,
   "metadata": {
    "tags": []
   },
   "outputs": [
    {
     "name": "stdout",
     "output_type": "stream",
     "text": [
      "Trial 50 Complete [00h 00m 39s]\n",
      "val_loss: 0.021187888458371162\n",
      "\n",
      "Best val_loss So Far: 0.02050507441163063\n",
      "Total elapsed time: 00h 22m 39s\n",
      "INFO:tensorflow:Oracle triggered exit\n",
      "WARNING:tensorflow:Layer multi_category_encoding is casting an input tensor from dtype float64 to the layer's dtype of float32, which is new behavior in TensorFlow 2.  The layer has dtype float32 because its dtype defaults to floatx.\n",
      "\n",
      "If you intended to run this layer in float32, you can safely ignore this warning. If in doubt, this warning is likely only an issue if you are porting a TensorFlow 1.X model to TensorFlow 2.\n",
      "\n",
      "To change all layers to have dtype float64 by default, call `tf.keras.backend.set_floatx('float64')`. To change just this layer, pass dtype='float64' to the layer constructor. If you are the author of this layer, you can disable autocasting by passing autocast=False to the base Layer constructor.\n",
      "\n",
      "Epoch 1/20\n",
      "157/157 [==============================] - 1s 9ms/step - loss: 266.7839 - mean_squared_error: 266.7839\n",
      "Epoch 2/20\n",
      "157/157 [==============================] - 1s 9ms/step - loss: 19.3685 - mean_squared_error: 19.3685\n",
      "Epoch 3/20\n",
      "157/157 [==============================] - 1s 9ms/step - loss: 2.8565 - mean_squared_error: 2.8565\n",
      "Epoch 4/20\n",
      "157/157 [==============================] - 1s 9ms/step - loss: 1.5134 - mean_squared_error: 1.5134\n",
      "Epoch 5/20\n",
      "157/157 [==============================] - 1s 9ms/step - loss: 2.1018 - mean_squared_error: 2.1018\n",
      "Epoch 6/20\n",
      "157/157 [==============================] - 1s 9ms/step - loss: 1.9175 - mean_squared_error: 1.9175\n",
      "Epoch 7/20\n",
      "157/157 [==============================] - 1s 9ms/step - loss: 0.8202 - mean_squared_error: 0.8202\n",
      "Epoch 8/20\n",
      "157/157 [==============================] - 1s 9ms/step - loss: 0.7599 - mean_squared_error: 0.7599\n",
      "Epoch 9/20\n",
      "157/157 [==============================] - 1s 9ms/step - loss: 0.6569 - mean_squared_error: 0.6569\n",
      "Epoch 10/20\n",
      "157/157 [==============================] - 1s 9ms/step - loss: 0.5973 - mean_squared_error: 0.5973\n",
      "Epoch 11/20\n",
      "157/157 [==============================] - 1s 9ms/step - loss: 0.3584 - mean_squared_error: 0.3584\n",
      "Epoch 12/20\n",
      "157/157 [==============================] - 1s 9ms/step - loss: 0.2736 - mean_squared_error: 0.2736\n",
      "Epoch 13/20\n",
      "157/157 [==============================] - 1s 9ms/step - loss: 0.2487 - mean_squared_error: 0.2487\n",
      "Epoch 14/20\n",
      "157/157 [==============================] - 1s 9ms/step - loss: 0.2426 - mean_squared_error: 0.2426\n",
      "Epoch 15/20\n",
      "157/157 [==============================] - 1s 9ms/step - loss: 0.0792 - mean_squared_error: 0.0792\n",
      "Epoch 16/20\n",
      "157/157 [==============================] - 1s 9ms/step - loss: 0.0576 - mean_squared_error: 0.0576\n",
      "Epoch 17/20\n",
      "157/157 [==============================] - 1s 9ms/step - loss: 0.0568 - mean_squared_error: 0.0568\n",
      "Epoch 18/20\n",
      "157/157 [==============================] - 1s 9ms/step - loss: 0.0396 - mean_squared_error: 0.0396\n",
      "Epoch 19/20\n",
      "157/157 [==============================] - 1s 9ms/step - loss: 0.0261 - mean_squared_error: 0.0261\n",
      "Epoch 20/20\n",
      "157/157 [==============================] - 1s 9ms/step - loss: 0.0214 - mean_squared_error: 0.0214\n",
      "WARNING:tensorflow:From /usr/local/lib/python3.6/dist-packages/tensorflow/python/training/tracking/tracking.py:111: Model.state_updates (from tensorflow.python.keras.engine.training) is deprecated and will be removed in a future version.\n",
      "Instructions for updating:\n",
      "This property should not be used in TensorFlow 2.0, as updates are applied automatically.\n",
      "WARNING:tensorflow:From /usr/local/lib/python3.6/dist-packages/tensorflow/python/training/tracking/tracking.py:111: Layer.updates (from tensorflow.python.keras.engine.base_layer) is deprecated and will be removed in a future version.\n",
      "Instructions for updating:\n",
      "This property should not be used in TensorFlow 2.0, as updates are applied automatically.\n",
      "INFO:tensorflow:Assets written to: ./structured_data_regressor/best_model/assets\n"
     ]
    }
   ],
   "source": [
    "clf = ak.StructuredDataRegressor(overwrite=True, max_trials=50)\n",
    "clf.fit(x_train, y_train,\n",
    "           validation_split = 0.1,\n",
    "           batch_size=64,\n",
    "           epochs=20,\n",
    "           verbose=1,\n",
    "           shuffle = True\n",
    "       )"
   ]
  },
  {
   "cell_type": "code",
   "execution_count": 6,
   "metadata": {
    "tags": []
   },
   "outputs": [
    {
     "name": "stdout",
     "output_type": "stream",
     "text": [
      "Model: \"functional_1\"\n",
      "_________________________________________________________________\n",
      "Layer (type)                 Output Shape              Param #   \n",
      "=================================================================\n",
      "input_1 (InputLayer)         [(None, 119)]             0         \n",
      "_________________________________________________________________\n",
      "multi_category_encoding (Mul (None, 119)               0         \n",
      "_________________________________________________________________\n",
      "normalization (Normalization (None, 119)               239       \n",
      "_________________________________________________________________\n",
      "dense (Dense)                (None, 1024)              122880    \n",
      "_________________________________________________________________\n",
      "re_lu (ReLU)                 (None, 1024)              0         \n",
      "_________________________________________________________________\n",
      "dense_1 (Dense)              (None, 512)               524800    \n",
      "_________________________________________________________________\n",
      "re_lu_1 (ReLU)               (None, 512)               0         \n",
      "_________________________________________________________________\n",
      "dense_2 (Dense)              (None, 256)               131328    \n",
      "_________________________________________________________________\n",
      "re_lu_2 (ReLU)               (None, 256)               0         \n",
      "_________________________________________________________________\n",
      "regression_head_1 (Dense)    (None, 1)                 257       \n",
      "=================================================================\n",
      "Total params: 779,504\n",
      "Trainable params: 779,265\n",
      "Non-trainable params: 239\n",
      "_________________________________________________________________\n"
     ]
    }
   ],
   "source": [
    "model = clf.export_model()\n",
    "model.summary()"
   ]
  },
  {
   "cell_type": "code",
   "execution_count": 7,
   "metadata": {
    "tags": []
   },
   "outputs": [
    {
     "name": "stdout",
     "output_type": "stream",
     "text": [
      "Epoch 1/20\n",
      "12516/12516 [==============================] - 115s 9ms/step - loss: 0.8226 - mean_squared_error: 0.8226 - val_loss: 0.0355 - val_mean_squared_error: 0.0355\n",
      "Epoch 2/20\n",
      "12516/12516 [==============================] - 114s 9ms/step - loss: 0.0358 - mean_squared_error: 0.0358 - val_loss: 0.0355 - val_mean_squared_error: 0.0355\n",
      "Epoch 3/20\n",
      "12516/12516 [==============================] - 114s 9ms/step - loss: 0.0358 - mean_squared_error: 0.0358 - val_loss: 0.0355 - val_mean_squared_error: 0.0355\n",
      "Epoch 4/20\n",
      "12516/12516 [==============================] - 114s 9ms/step - loss: 0.0358 - mean_squared_error: 0.0358 - val_loss: 0.0355 - val_mean_squared_error: 0.0355\n",
      "Epoch 5/20\n",
      "12516/12516 [==============================] - 114s 9ms/step - loss: 0.0358 - mean_squared_error: 0.0358 - val_loss: 0.0355 - val_mean_squared_error: 0.0355\n",
      "Epoch 6/20\n",
      "12516/12516 [==============================] - 114s 9ms/step - loss: 0.0358 - mean_squared_error: 0.0358 - val_loss: 0.0355 - val_mean_squared_error: 0.0355\n",
      "Epoch 7/20\n",
      "12516/12516 [==============================] - 114s 9ms/step - loss: 0.0358 - mean_squared_error: 0.0358 - val_loss: 0.0355 - val_mean_squared_error: 0.0355\n",
      "Epoch 8/20\n",
      "12516/12516 [==============================] - 114s 9ms/step - loss: 0.0358 - mean_squared_error: 0.0358 - val_loss: 0.0355 - val_mean_squared_error: 0.0355\n",
      "Epoch 9/20\n",
      "12516/12516 [==============================] - 114s 9ms/step - loss: 0.0358 - mean_squared_error: 0.0358 - val_loss: 0.0355 - val_mean_squared_error: 0.0355\n",
      "Epoch 10/20\n",
      "12516/12516 [==============================] - 114s 9ms/step - loss: 0.0358 - mean_squared_error: 0.0358 - val_loss: 0.0355 - val_mean_squared_error: 0.0355\n",
      "Epoch 11/20\n",
      "12516/12516 [==============================] - 114s 9ms/step - loss: 0.0358 - mean_squared_error: 0.0358 - val_loss: 0.0355 - val_mean_squared_error: 0.0355\n",
      "Epoch 12/20\n",
      "12516/12516 [==============================] - 114s 9ms/step - loss: 0.0358 - mean_squared_error: 0.0358 - val_loss: 0.0355 - val_mean_squared_error: 0.0355\n",
      "Epoch 13/20\n",
      "12516/12516 [==============================] - 114s 9ms/step - loss: 0.0358 - mean_squared_error: 0.0358 - val_loss: 0.0355 - val_mean_squared_error: 0.0355\n",
      "Epoch 14/20\n",
      "12516/12516 [==============================] - 114s 9ms/step - loss: 0.0358 - mean_squared_error: 0.0358 - val_loss: 0.0355 - val_mean_squared_error: 0.0355\n",
      "Epoch 15/20\n",
      "12516/12516 [==============================] - 114s 9ms/step - loss: 0.0358 - mean_squared_error: 0.0358 - val_loss: 0.0355 - val_mean_squared_error: 0.0355\n",
      "Epoch 16/20\n",
      "12516/12516 [==============================] - 114s 9ms/step - loss: 0.0358 - mean_squared_error: 0.0358 - val_loss: 0.0355 - val_mean_squared_error: 0.0355\n",
      "Epoch 17/20\n",
      "12516/12516 [==============================] - 114s 9ms/step - loss: 0.0358 - mean_squared_error: 0.0358 - val_loss: 0.0355 - val_mean_squared_error: 0.0355\n",
      "Epoch 18/20\n",
      "12516/12516 [==============================] - 114s 9ms/step - loss: 0.0358 - mean_squared_error: 0.0358 - val_loss: 0.0355 - val_mean_squared_error: 0.0355\n",
      "Epoch 19/20\n",
      "12516/12516 [==============================] - 114s 9ms/step - loss: 0.0358 - mean_squared_error: 0.0358 - val_loss: 0.0355 - val_mean_squared_error: 0.0355\n",
      "Epoch 20/20\n",
      "12516/12516 [==============================] - 114s 9ms/step - loss: 0.0358 - mean_squared_error: 0.0358 - val_loss: 0.0355 - val_mean_squared_error: 0.0355\n"
     ]
    },
    {
     "data": {
      "text/plain": [
       "<tensorflow.python.keras.callbacks.History at 0x7f3e141e57f0>"
      ]
     },
     "execution_count": 7,
     "metadata": {},
     "output_type": "execute_result"
    }
   ],
   "source": [
    "model.fit(x_train2, y_train2,\n",
    "           validation_split = 0.1,\n",
    "           batch_size=64,\n",
    "           epochs=20,\n",
    "           verbose=1,\n",
    "           shuffle = True\n",
    "         )"
   ]
  },
  {
   "cell_type": "code",
   "execution_count": 8,
   "metadata": {
    "tags": []
   },
   "outputs": [
    {
     "name": "stdout",
     "output_type": "stream",
     "text": [
      "3125/3125 [==============================] - 14s 4ms/step - loss: 0.0357 - mean_squared_error: 0.0357\n"
     ]
    }
   ],
   "source": [
    "model.evaluate(x_test, y_test)\n",
    "pre_test = model.predict(x_test)"
   ]
  },
  {
   "cell_type": "code",
   "execution_count": 9,
   "metadata": {
    "tags": []
   },
   "outputs": [
    {
     "data": {
      "image/png": "[encoded data removed]",
      "text/plain": [
       "<Figure size 432x288 with 1 Axes>"
      ]
     },
     "metadata": {
      "needs_background": "light"
     },
     "output_type": "display_data"
    }
   ],
   "source": [
    "plt.hist(pre_test, histtype = 'step', bins = 100, label = 'prediction')\n",
    "plt.hist(y_test, histtype = 'step', bins = 100, label = 'target')\n",
    "plt.xlabel('theta23')\n",
    "plt.ylabel('number')\n",
    "plt.legend()\n",
    "plt.show()"
   ]
  },
  {
   "cell_type": "code",
   "execution_count": 10,
   "metadata": {
    "tags": []
   },
   "outputs": [
    {
     "data": {
      "image/png": "[encoded data removed]",
      "text/plain": [
       "<Figure size 504x504 with 1 Axes>"
      ]
     },
     "metadata": {
      "needs_background": "light"
     },
     "output_type": "display_data"
    }
   ],
   "source": [
    "plt.figure(figsize=(7,7))\n",
    "plt.plot(pre_test[:,0], y_test, '.', alpha = 0.05)\n",
    "plt.xlabel('prediction')\n",
    "plt.ylabel('target')\n",
    "plt.title('theta23')\n",
    "plt.show()"
   ]
  },
  {
   "cell_type": "code",
   "execution_count": 11,
   "metadata": {},
   "outputs": [],
   "source": [
    "modelname = '/work/ML4NO/ML/Regression/cuts/0804_cut100_theta23_1.h5'\n",
    "if not os.path.isfile(modelname):\n",
    "    model.save(modelname)"
   ]
  },
  {
   "cell_type": "code",
   "execution_count": null,
   "metadata": {},
   "outputs": [],
   "source": []
  }
 ],
 "metadata": {
  "kernelspec": {
   "display_name": "Python 3",
   "language": "python",
   "name": "python3"
  },
  "language_info": {
   "codemirror_mode": {
    "name": "ipython",
    "version": 3
   },
   "file_extension": ".py",
   "mimetype": "text/x-python",
   "name": "python",
   "nbconvert_exporter": "python",
   "pygments_lexer": "ipython3",
   "version": "3.6.9"
  }
 },
 "nbformat": 4,
 "nbformat_minor": 4
}
