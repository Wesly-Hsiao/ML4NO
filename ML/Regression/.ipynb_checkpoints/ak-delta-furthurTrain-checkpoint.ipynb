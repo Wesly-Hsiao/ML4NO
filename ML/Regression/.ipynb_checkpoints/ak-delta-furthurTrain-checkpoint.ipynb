{
 "cells": [
  {
   "cell_type": "code",
   "execution_count": 1,
   "metadata": {
    "tags": []
   },
   "outputs": [],
   "source": [
    "import numpy as np\n",
    "import matplotlib.pyplot as plt\n",
    "import autokeras as ak\n",
    "import tensorflow as tf\n",
    "import os"
   ]
  },
  {
   "cell_type": "code",
   "execution_count": 3,
   "metadata": {
    "tags": []
   },
   "outputs": [
    {
     "name": "stdout",
     "output_type": "stream",
     "text": [
      "Model: \"functional_1\"\n",
      "_________________________________________________________________\n",
      "Layer (type)                 Output Shape              Param #   \n",
      "=================================================================\n",
      "input_1 (InputLayer)         [(None, 244)]             0         \n",
      "_________________________________________________________________\n",
      "multi_category_encoding (Mul (None, 244)               0         \n",
      "_________________________________________________________________\n",
      "normalization (Normalization (None, 244)               489       \n",
      "_________________________________________________________________\n",
      "dense (Dense)                (None, 32)                7840      \n",
      "_________________________________________________________________\n",
      "re_lu (ReLU)                 (None, 32)                0         \n",
      "_________________________________________________________________\n",
      "dense_1 (Dense)              (None, 128)               4224      \n",
      "_________________________________________________________________\n",
      "re_lu_1 (ReLU)               (None, 128)               0         \n",
      "_________________________________________________________________\n",
      "regression_head_1 (Dense)    (None, 1)                 129       \n",
      "=================================================================\n",
      "Total params: 12,682\n",
      "Trainable params: 12,193\n",
      "Non-trainable params: 489\n",
      "_________________________________________________________________\n"
     ]
    }
   ],
   "source": [
    "data = np.load('/home/ML4NO/Data/n1000000_0804_all_flat.npz')\n",
    "model = tf.keras.models.load_model('/home/ML4NO/ML/Regression/models_all/0804_delta1.h5')\n",
    "model.summary()"
   ]
  },
  {
   "cell_type": "code",
   "execution_count": 4,
   "metadata": {
    "tags": []
   },
   "outputs": [],
   "source": [
    "data_all = np.column_stack([data['ve_dune'], data['vu_dune'], data['vebar_dune'], data['vubar_dune'], data['ve_t2hk'], data['vu_t2hk'], data['vebar_t2hk'], data['vubar_t2hk']])\n",
    "target = data['delta']\n",
    "\n",
    "x_train = data_all[:10000]\n",
    "y_train = target[:10000]\n",
    "x_train2 = data_all[10000:900000]\n",
    "y_train2 = target[10000:900000]\n",
    "x_test = data_all[900000:]\n",
    "y_test = target[900000:]"
   ]
  },
  {
   "cell_type": "code",
   "execution_count": 5,
   "metadata": {},
   "outputs": [
    {
     "name": "stdout",
     "output_type": "stream",
     "text": [
      "3125/3125 [==============================] - 29s 9ms/step - loss: 154.5310 - mean_squared_error: 154.5310\n",
      "CPU times: user 33.8 s, sys: 2.44 s, total: 36.2 s\n",
      "Wall time: 29.3 s\n"
     ]
    },
    {
     "data": {
      "text/plain": [
       "[154.53097534179688, 154.53097534179688]"
      ]
     },
     "execution_count": 5,
     "metadata": {},
     "output_type": "execute_result"
    }
   ],
   "source": [
    "%%time\n",
    "model.evaluate(x_test, y_test)"
   ]
  },
  {
   "cell_type": "code",
   "execution_count": 6,
   "metadata": {},
   "outputs": [
    {
     "name": "stdout",
     "output_type": "stream",
     "text": [
      "std = 1e-05 start\n",
      "3125/3125 [==============================] - 28s 9ms/step - loss: 154.5271 - mean_squared_error: 154.5271\n",
      "Epoch 1/5\n",
      "12516/12516 [==============================] - 178s 14ms/step - loss: 97.0086 - mean_squared_error: 97.0086 - val_loss: 111.4391 - val_mean_squared_error: 111.4391\n",
      "Epoch 2/5\n",
      "12516/12516 [==============================] - 181s 14ms/step - loss: 98.7928 - mean_squared_error: 98.7928 - val_loss: 154.5931 - val_mean_squared_error: 154.5931\n",
      "Epoch 3/5\n",
      "12516/12516 [==============================] - 180s 14ms/step - loss: 97.2394 - mean_squared_error: 97.2394 - val_loss: 146.1346 - val_mean_squared_error: 146.1346\n",
      "Epoch 4/5\n",
      "12516/12516 [==============================] - 180s 14ms/step - loss: 96.9114 - mean_squared_error: 96.9114 - val_loss: 119.6321 - val_mean_squared_error: 119.6321\n",
      "Epoch 5/5\n",
      "12516/12516 [==============================] - 177s 14ms/step - loss: 91.2247 - mean_squared_error: 91.2247 - val_loss: 79.9420 - val_mean_squared_error: 79.9420\n",
      "3125/3125 [==============================] - 28s 9ms/step - loss: 88.8787 - mean_squared_error: 88.8787\n",
      "CPU times: user 19min 16s, sys: 1min 12s, total: 20min 28s\n",
      "Wall time: 16min 10s\n"
     ]
    }
   ],
   "source": [
    "%%time\n",
    "generate = 1\n",
    "num_of_bins = len(x_train[0])\n",
    "scale_steps = [0.00001, 0.00005, 0.0001, 0.0005, 0.001, 0.005, 0.01, 0.05, 0.1, 0.5, 1]\n",
    "before_triain_loss = []\n",
    "after_train_loss = []\n",
    "\n",
    "for scale in scale_steps:\n",
    "    print(\"std = {} start\".format(scale))\n",
    "    x_train2_gen = np.reshape(np.random.normal(x_train2, np.sqrt(x_train2)*scale, size = (generate, len(x_train2), num_of_bins)), (generate*len(x_train2), num_of_bins))\n",
    "    y_train2_gen = np.repeat(y_train2, generate)\n",
    "    x_test_gen = np.reshape(np.random.normal(x_test, np.sqrt(x_test)*scale, size = (generate, len(x_test), num_of_bins)), (generate*len(x_test), num_of_bins))\n",
    "    y_test_gen = np.repeat(y_test, generate)\n",
    "\n",
    "    before_triain_loss.append(model.evaluate(x_test_gen, y_test_gen)[0])\n",
    "\n",
    "    model.fit(x_train2_gen, y_train2_gen,\n",
    "               validation_split = 0.1,\n",
    "               batch_size=64,\n",
    "               epochs=5,\n",
    "               verbose=1,\n",
    "               shuffle = True\n",
    "             )\n",
    "\n",
    "    after_train_loss.append(model.evaluate(x_test_gen, y_test_gen)[0])"
   ]
  },
  {
   "cell_type": "code",
   "execution_count": null,
   "metadata": {},
   "outputs": [],
   "source": [
    "modelname = '/home/ML4NO/ML/Regression/models_furthurTrain/0804_delta_2.h5'\n",
    "if not os.path.isfile(modelname):\n",
    "    model.save(modelname)"
   ]
  },
  {
   "cell_type": "code",
   "execution_count": null,
   "metadata": {},
   "outputs": [],
   "source": [
    "outfile = {'scale_steps': scale_steps, 'before_triain_loss': before_triain_loss, 'after_train_loss' :after_train_loss}\n",
    "np.save(file = '/home/ML4NO/ML/Regression/models_furthurTrain/0804_delta_2_result.npy', arr = outfile)"
   ]
  }
 ],
 "metadata": {
  "kernelspec": {
   "display_name": "Python 3",
   "language": "python",
   "name": "python3"
  },
  "language_info": {
   "codemirror_mode": {
    "name": "ipython",
    "version": 3
   },
   "file_extension": ".py",
   "mimetype": "text/x-python",
   "name": "python",
   "nbconvert_exporter": "python",
   "pygments_lexer": "ipython3",
   "version": "3.6.9"
  }
 },
 "nbformat": 4,
 "nbformat_minor": 4
}
