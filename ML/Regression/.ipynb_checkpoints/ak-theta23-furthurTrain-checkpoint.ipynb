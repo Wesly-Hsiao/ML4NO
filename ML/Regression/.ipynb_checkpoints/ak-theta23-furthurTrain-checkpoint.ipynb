{
 "cells": [
  {
   "cell_type": "code",
   "execution_count": 1,
   "metadata": {
    "tags": []
   },
   "outputs": [],
   "source": [
    "import numpy as np\n",
    "import matplotlib.pyplot as plt\n",
    "import autokeras as ak\n",
    "import tensorflow as tf"
   ]
  },
  {
   "cell_type": "code",
   "execution_count": 2,
   "metadata": {
    "tags": []
   },
   "outputs": [
    {
     "name": "stdout",
     "output_type": "stream",
     "text": [
      "Model: \"functional_1\"\n",
      "_________________________________________________________________\n",
      "Layer (type)                 Output Shape              Param #   \n",
      "=================================================================\n",
      "input_1 (InputLayer)         [(None, 244)]             0         \n",
      "_________________________________________________________________\n",
      "multi_category_encoding (Mul (None, 244)               0         \n",
      "_________________________________________________________________\n",
      "normalization (Normalization (None, 244)               489       \n",
      "_________________________________________________________________\n",
      "dense (Dense)                (None, 1024)              250880    \n",
      "_________________________________________________________________\n",
      "re_lu (ReLU)                 (None, 1024)              0         \n",
      "_________________________________________________________________\n",
      "dense_1 (Dense)              (None, 32)                32800     \n",
      "_________________________________________________________________\n",
      "re_lu_1 (ReLU)               (None, 32)                0         \n",
      "_________________________________________________________________\n",
      "regression_head_1 (Dense)    (None, 1)                 33        \n",
      "=================================================================\n",
      "Total params: 284,202\n",
      "Trainable params: 283,713\n",
      "Non-trainable params: 489\n",
      "_________________________________________________________________\n"
     ]
    }
   ],
   "source": [
    "data = np.load('/work/n1000000_0804_all_flat.npz')\n",
    "cut_index = np.load('/work/NIO_largerthan1000_index.npy')\n",
    "model = tf.keras.models.load_model('/work/ML4NO/ML/Regression/models_all/0804_theta23_1.h5')\n",
    "model.summary()"
   ]
  },
  {
   "cell_type": "code",
   "execution_count": 3,
   "metadata": {
    "tags": []
   },
   "outputs": [],
   "source": [
    "input_state = 2\n",
    "target = data['theta23']\n",
    "\n",
    "if input_state == 0:\n",
    "    data_all = data['ve_dune']\n",
    "elif input_state == 1:\n",
    "    data_all = np.column_stack([data['ve_dune'], data['vu_dune'], data['vebar_dune'], data['vubar_dune']])\n",
    "elif input_state == 2:\n",
    "    data_all = np.column_stack([data['ve_dune'], data['vu_dune'], data['vebar_dune'], data['vubar_dune'], data['ve_t2hk'], data['vu_t2hk'], data['vebar_t2hk'], data['vubar_t2hk']])\n",
    "\n",
    "x_train = data_all[:10000]\n",
    "y_train = target[:10000]\n",
    "x_train2 = data_all[10000:900000]\n",
    "y_train2 = target[10000:900000]\n",
    "x_test = data_all[900000:]\n",
    "y_test = target[900000:]"
   ]
  },
  {
   "cell_type": "code",
   "execution_count": 4,
   "metadata": {},
   "outputs": [
    {
     "name": "stdout",
     "output_type": "stream",
     "text": [
      "3125/3125 [==============================] - 14s 5ms/step - loss: 5.6401e-04 - mean_squared_error: 5.6401e-04\n"
     ]
    },
    {
     "data": {
      "text/plain": [
       "[0.0005640053423121572, 0.0005640053423121572]"
      ]
     },
     "execution_count": 4,
     "metadata": {},
     "output_type": "execute_result"
    }
   ],
   "source": [
    "model.evaluate(x_test, y_test)"
   ]
  },
  {
   "cell_type": "code",
   "execution_count": null,
   "metadata": {},
   "outputs": [
    {
     "name": "stdout",
     "output_type": "stream",
     "text": [
      "std = 1e-05 start\n",
      "3125/3125 [==============================] - 15s 5ms/step - loss: 0.0100 - mean_squared_error: 0.0100\n",
      "Epoch 1/5\n",
      "12516/12516 [==============================] - 106s 8ms/step - loss: 0.0037 - mean_squared_error: 0.0037 - val_loss: 5.6449e-04 - val_mean_squared_error: 5.6449e-04\n",
      "Epoch 2/5\n",
      "12516/12516 [==============================] - 106s 8ms/step - loss: 0.0033 - mean_squared_error: 0.0033 - val_loss: 0.0012 - val_mean_squared_error: 0.0012\n",
      "Epoch 3/5\n",
      "12516/12516 [==============================] - 107s 9ms/step - loss: 0.0033 - mean_squared_error: 0.0033 - val_loss: 0.0013 - val_mean_squared_error: 0.0013\n",
      "Epoch 4/5\n",
      "12516/12516 [==============================] - 106s 9ms/step - loss: 0.0032 - mean_squared_error: 0.0032 - val_loss: 7.1390e-04 - val_mean_squared_error: 7.1390e-04\n",
      "Epoch 5/5\n",
      "12516/12516 [==============================] - 107s 9ms/step - loss: 0.0031 - mean_squared_error: 0.0031 - val_loss: 0.0139 - val_mean_squared_error: 0.0139\n",
      "3125/3125 [==============================] - 15s 5ms/step - loss: 0.0139 - mean_squared_error: 0.0139\n",
      "std = 5e-05 start\n",
      "3125/3125 [==============================] - 15s 5ms/step - loss: 0.0139 - mean_squared_error: 0.0139\n",
      "Epoch 1/5\n",
      "12516/12516 [==============================] - 107s 9ms/step - loss: 0.0030 - mean_squared_error: 0.0030 - val_loss: 8.6681e-04 - val_mean_squared_error: 8.6681e-04\n",
      "Epoch 2/5\n",
      "12516/12516 [==============================] - 106s 8ms/step - loss: 0.0032 - mean_squared_error: 0.0032 - val_loss: 0.0024 - val_mean_squared_error: 0.0024\n",
      "Epoch 3/5\n",
      "12516/12516 [==============================] - 107s 9ms/step - loss: 0.0034 - mean_squared_error: 0.0034 - val_loss: 4.0998e-04 - val_mean_squared_error: 4.0998e-04\n",
      "Epoch 4/5\n",
      "12516/12516 [==============================] - 108s 9ms/step - loss: 0.0026 - mean_squared_error: 0.0026 - val_loss: 4.9184e-04 - val_mean_squared_error: 4.9184e-04\n",
      "Epoch 5/5\n",
      "12516/12516 [==============================] - 107s 9ms/step - loss: 0.0027 - mean_squared_error: 0.0027 - val_loss: 3.3084e-04 - val_mean_squared_error: 3.3084e-04\n",
      "3125/3125 [==============================] - 15s 5ms/step - loss: 3.2786e-04 - mean_squared_error: 3.2786e-04\n",
      "std = 0.0001 start\n",
      "3125/3125 [==============================] - 15s 5ms/step - loss: 3.3375e-04 - mean_squared_error: 3.3375e-04\n",
      "Epoch 1/5\n",
      "12516/12516 [==============================] - 108s 9ms/step - loss: 0.0027 - mean_squared_error: 0.0027 - val_loss: 4.7277e-04 - val_mean_squared_error: 4.7277e-04\n",
      "Epoch 2/5\n",
      "12516/12516 [==============================] - 106s 9ms/step - loss: 0.0026 - mean_squared_error: 0.0026 - val_loss: 3.8209e-04 - val_mean_squared_error: 3.8209e-04\n",
      "Epoch 3/5\n",
      "12516/12516 [==============================] - 107s 9ms/step - loss: 0.0026 - mean_squared_error: 0.0026 - val_loss: 9.7421e-04 - val_mean_squared_error: 9.7421e-04\n",
      "Epoch 4/5\n",
      "12515/12516 [============================>.] - ETA: 0s - loss: 0.0025 - mean_squared_error: 0.0025"
     ]
    }
   ],
   "source": [
    "generate = 1\n",
    "num_of_bins = len(x_train[0])\n",
    "scale_steps = [0.00001, 0.00005, 0.0001, 0.0005, 0.001, 0.005, 0.01, 0.05, 0.1, 0.5, 1]\n",
    "before_triain_loss = []\n",
    "after_train_loss = []\n",
    "\n",
    "for scale in scale_steps:\n",
    "    print(\"std = {} start\".format(scale))\n",
    "    x_train2_gen = np.reshape(np.random.normal(x_train2, np.sqrt(x_train2)*scale, size = (generate, len(x_train2), num_of_bins)), (generate*len(x_train2), num_of_bins))\n",
    "    y_train2_gen = np.repeat(y_train2, generate)\n",
    "    x_test_gen = np.reshape(np.random.normal(x_test, np.sqrt(x_test)*scale, size = (generate, len(x_test), num_of_bins)), (generate*len(x_test), num_of_bins))\n",
    "    y_test_gen = np.repeat(y_test, generate)\n",
    "\n",
    "    before_triain_loss.append(model.evaluate(x_test_gen, y_test_gen)[0])\n",
    "\n",
    "    model.fit(x_train2_gen, y_train2_gen,\n",
    "               validation_split = 0.1,\n",
    "               batch_size=64,\n",
    "               epochs=5,\n",
    "               verbose=1,\n",
    "               shuffle = True\n",
    "             )\n",
    "\n",
    "    after_train_loss.append(model.evaluate(x_test_gen, y_test_gen)[0])"
   ]
  },
  {
   "cell_type": "code",
   "execution_count": null,
   "metadata": {},
   "outputs": [],
   "source": [
    "print(scale_steps)\n",
    "print(before_triain_loss)\n",
    "print(after_train_loss)"
   ]
  },
  {
   "cell_type": "code",
   "execution_count": null,
   "metadata": {},
   "outputs": [],
   "source": [
    "pre_test = model.predict(x_test_gen)"
   ]
  },
  {
   "cell_type": "code",
   "execution_count": null,
   "metadata": {},
   "outputs": [],
   "source": [
    "plt.hist(pre_test, histtype = 'step', bins = 100, label = 'prediction')\n",
    "plt.hist(y_test_gen, histtype = 'step', bins = 100, label = 'target')\n",
    "plt.xlabel('delta')\n",
    "plt.ylabel('number')\n",
    "plt.legend()\n",
    "plt.show()"
   ]
  },
  {
   "cell_type": "code",
   "execution_count": null,
   "metadata": {},
   "outputs": [],
   "source": [
    "plt.figure(figsize=(7,7))\n",
    "plt.plot(pre_test, y_test, '.', alpha = 0.05)\n",
    "plt.xlabel('prediction')\n",
    "plt.ylabel('target')\n",
    "plt.title('delta')"
   ]
  },
  {
   "cell_type": "code",
   "execution_count": null,
   "metadata": {},
   "outputs": [],
   "source": [
    "modelname = '/work/ML4NO/ML/Regression/furthurTrain/0804_theta23_1.h5'\n",
    "if not os.path.isfile(modelname):\n",
    "    model.save(modelname)"
   ]
  },
  {
   "cell_type": "code",
   "execution_count": null,
   "metadata": {},
   "outputs": [],
   "source": []
  }
 ],
 "metadata": {
  "kernelspec": {
   "display_name": "Python 3",
   "language": "python",
   "name": "python3"
  },
  "language_info": {
   "codemirror_mode": {
    "name": "ipython",
    "version": 3
   },
   "file_extension": ".py",
   "mimetype": "text/x-python",
   "name": "python",
   "nbconvert_exporter": "python",
   "pygments_lexer": "ipython3",
   "version": "3.6.9"
  }
 },
 "nbformat": 4,
 "nbformat_minor": 4
}
