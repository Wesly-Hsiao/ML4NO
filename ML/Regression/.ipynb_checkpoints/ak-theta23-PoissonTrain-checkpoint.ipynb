{
 "cells": [
  {
   "cell_type": "code",
   "execution_count": 1,
   "metadata": {
    "tags": []
   },
   "outputs": [],
   "source": [
    "import numpy as np\n",
    "import matplotlib.pyplot as plt\n",
    "import autokeras as ak\n",
    "import tensorflow as tf\n",
    "import os"
   ]
  },
  {
   "cell_type": "code",
   "execution_count": 2,
   "metadata": {
    "tags": []
   },
   "outputs": [
    {
     "name": "stdout",
     "output_type": "stream",
     "text": [
      "Model: \"functional_1\"\n",
      "_________________________________________________________________\n",
      "Layer (type)                 Output Shape              Param #   \n",
      "=================================================================\n",
      "input_1 (InputLayer)         [(None, 244)]             0         \n",
      "_________________________________________________________________\n",
      "multi_category_encoding (Mul (None, 244)               0         \n",
      "_________________________________________________________________\n",
      "normalization (Normalization (None, 244)               489       \n",
      "_________________________________________________________________\n",
      "dense (Dense)                (None, 1024)              250880    \n",
      "_________________________________________________________________\n",
      "re_lu (ReLU)                 (None, 1024)              0         \n",
      "_________________________________________________________________\n",
      "dense_1 (Dense)              (None, 32)                32800     \n",
      "_________________________________________________________________\n",
      "re_lu_1 (ReLU)               (None, 32)                0         \n",
      "_________________________________________________________________\n",
      "regression_head_1 (Dense)    (None, 1)                 33        \n",
      "=================================================================\n",
      "Total params: 284,202\n",
      "Trainable params: 283,713\n",
      "Non-trainable params: 489\n",
      "_________________________________________________________________\n"
     ]
    }
   ],
   "source": [
    "data = np.load('/home/ML4NO/Data/n1000000_0804_all_flat.npz')\n",
    "model = tf.keras.models.load_model('/home/ML4NO/ML/Regression/models_furthurTrain/0804_theta23_1.h5')\n",
    "model.summary()"
   ]
  },
  {
   "cell_type": "code",
   "execution_count": 3,
   "metadata": {
    "tags": []
   },
   "outputs": [],
   "source": [
    "data_all = np.column_stack([data['ve_dune'], data['vu_dune'], data['vebar_dune'], data['vubar_dune'], data['ve_t2hk'], data['vu_t2hk'], data['vebar_t2hk'], data['vubar_t2hk']])\n",
    "target = data['theta23']\n",
    "generate = 1\n",
    "\n",
    "x_train = data_all[:10000]\n",
    "y_train = target[:10000]\n",
    "x_train2 = data_all[10000:900000]\n",
    "y_train2 = target[10000:900000]\n",
    "x_test = data_all[900000:]\n",
    "y_test = target[900000:]"
   ]
  },
  {
   "cell_type": "code",
   "execution_count": null,
   "metadata": {},
   "outputs": [],
   "source": [
    "x_train2_gen = np.reshape(np.random.poisson(x_train2, size = (generate, len(x_train2), num_of_bins)), (generate*len(x_train2), num_of_bins))\n",
    "y_train2_gen = np.repeat(y_train2, generate)\n",
    "x_test_gen = np.reshape(np.random.poisson(x_test, size = (generate, len(x_test), num_of_bins)), (generate*len(x_test), num_of_bins))\n",
    "y_test_gen = np.repeat(y_test, generate)\n",
    "\n",
    "before_triain_loss.append(model.evaluate(x_test_gen, y_test_gen)[0])\n",
    "\n",
    "model.fit(x_train2_gen, y_train2_gen,\n",
    "           validation_split = 0.1,\n",
    "           batch_size=64,\n",
    "           epochs=50,\n",
    "           verbose=1,\n",
    "           shuffle = True\n",
    "         )\n",
    "\n",
    "after_train_loss.append(model.evaluate(x_test_gen, y_test_gen)[0])"
   ]
  },
  {
   "cell_type": "code",
   "execution_count": null,
   "metadata": {},
   "outputs": [],
   "source": [
    "modelname = '/home/ML4NO/ML/Regression/models_PoissonTrain/0804_theta23_1_1.h5'\n",
    "if not os.path.isfile(modelname):\n",
    "    model.save(modelname)"
   ]
  }
 ],
 "metadata": {
  "kernelspec": {
   "display_name": "Python 3",
   "language": "python",
   "name": "python3"
  },
  "language_info": {
   "codemirror_mode": {
    "name": "ipython",
    "version": 3
   },
   "file_extension": ".py",
   "mimetype": "text/x-python",
   "name": "python",
   "nbconvert_exporter": "python",
   "pygments_lexer": "ipython3",
   "version": "3.6.9"
  }
 },
 "nbformat": 4,
 "nbformat_minor": 4
}
