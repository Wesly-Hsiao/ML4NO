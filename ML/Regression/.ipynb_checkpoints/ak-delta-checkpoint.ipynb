{
 "cells": [
  {
   "cell_type": "code",
   "execution_count": 1,
   "metadata": {
    "tags": []
   },
   "outputs": [],
   "source": [
    "import numpy as np\n",
    "import pandas as pd\n",
    "import matplotlib.pyplot as plt\n",
    "import autokeras as ak\n",
    "import os \n",
    "import tensorflow as tf"
   ]
  },
  {
   "cell_type": "code",
   "execution_count": 2,
   "metadata": {
    "tags": []
   },
   "outputs": [],
   "source": [
    "data = np.load('/work/n1000000_0803.npz')"
   ]
  },
  {
   "cell_type": "code",
   "execution_count": 3,
   "metadata": {
    "tags": []
   },
   "outputs": [],
   "source": [
    "input_state = 2\n",
    "target = data['delta']\n",
    "if input_state == 0:\n",
    "    data_all = data['ve_dune']\n",
    "elif input_state == 1:\n",
    "    data_all = np.column_stack([data['ve_dune'], data['vu_dune'], data['vebar_dune'], data['vubar_dune']])\n",
    "elif input_state == 2:\n",
    "    data_all = np.column_stack([data['ve_dune'], data['vu_dune'], data['vebar_dune'], data['vubar_dune'], data['ve_t2hk'], data['vu_t2hk'], data['vebar_t2hk'], data['vubar_t2hk']])\n",
    "\n",
    "x_train = data_all[:10000]\n",
    "y_train = target[:10000]\n",
    "x_train2 = data_all[10000:900000]\n",
    "y_train2 = target[10000:900000]\n",
    "x_test = data_all[900000:]\n",
    "y_test = target[900000:]"
   ]
  },
  {
   "cell_type": "code",
   "execution_count": 4,
   "metadata": {
    "tags": []
   },
   "outputs": [
    {
     "name": "stdout",
     "output_type": "stream",
     "text": [
      "Trial 50 Complete [00h 01m 14s]\n",
      "val_loss: 423.1324768066406\n",
      "\n",
      "Best val_loss So Far: 372.12664794921875\n",
      "Total elapsed time: 00h 57m 07s\n",
      "INFO:tensorflow:Oracle triggered exit\n",
      "WARNING:tensorflow:Layer multi_category_encoding is casting an input tensor from dtype float64 to the layer's dtype of float32, which is new behavior in TensorFlow 2.  The layer has dtype float32 because its dtype defaults to floatx.\n",
      "\n",
      "If you intended to run this layer in float32, you can safely ignore this warning. If in doubt, this warning is likely only an issue if you are porting a TensorFlow 1.X model to TensorFlow 2.\n",
      "\n",
      "To change all layers to have dtype float64 by default, call `tf.keras.backend.set_floatx('float64')`. To change just this layer, pass dtype='float64' to the layer constructor. If you are the author of this layer, you can disable autocasting by passing autocast=False to the base Layer constructor.\n",
      "\n",
      "Epoch 1/50\n",
      "157/157 [==============================] - 1s 8ms/step - loss: 11781.1045 - mean_squared_error: 11781.1045\n",
      "Epoch 2/50\n",
      "157/157 [==============================] - 1s 8ms/step - loss: 4973.8301 - mean_squared_error: 4973.8301\n",
      "Epoch 3/50\n",
      "157/157 [==============================] - 1s 8ms/step - loss: 4109.4922 - mean_squared_error: 4109.4922\n",
      "Epoch 4/50\n",
      "157/157 [==============================] - 1s 8ms/step - loss: 3178.1699 - mean_squared_error: 3178.1699\n",
      "Epoch 5/50\n",
      "157/157 [==============================] - 1s 8ms/step - loss: 2375.0947 - mean_squared_error: 2375.0947\n",
      "Epoch 6/50\n",
      "157/157 [==============================] - 1s 8ms/step - loss: 1747.4692 - mean_squared_error: 1747.4692\n",
      "Epoch 7/50\n",
      "157/157 [==============================] - 1s 8ms/step - loss: 1300.2225 - mean_squared_error: 1300.2225\n",
      "Epoch 8/50\n",
      "157/157 [==============================] - 1s 7ms/step - loss: 1042.9102 - mean_squared_error: 1042.9102\n",
      "Epoch 9/50\n",
      "157/157 [==============================] - 1s 8ms/step - loss: 899.5764 - mean_squared_error: 899.5764\n",
      "Epoch 10/50\n",
      "157/157 [==============================] - 1s 8ms/step - loss: 807.8856 - mean_squared_error: 807.8856\n",
      "Epoch 11/50\n",
      "157/157 [==============================] - 1s 8ms/step - loss: 745.2758 - mean_squared_error: 745.2758\n",
      "Epoch 12/50\n",
      "157/157 [==============================] - 1s 8ms/step - loss: 694.2463 - mean_squared_error: 694.2463\n",
      "Epoch 13/50\n",
      "157/157 [==============================] - 1s 8ms/step - loss: 652.3824 - mean_squared_error: 652.3824\n",
      "Epoch 14/50\n",
      "157/157 [==============================] - 1s 8ms/step - loss: 617.8430 - mean_squared_error: 617.8430\n",
      "Epoch 15/50\n",
      "157/157 [==============================] - 1s 8ms/step - loss: 590.9363 - mean_squared_error: 590.9363\n",
      "Epoch 16/50\n",
      "157/157 [==============================] - 1s 8ms/step - loss: 563.6520 - mean_squared_error: 563.6520\n",
      "Epoch 17/50\n",
      "157/157 [==============================] - 1s 8ms/step - loss: 539.8378 - mean_squared_error: 539.8378\n",
      "Epoch 18/50\n",
      "157/157 [==============================] - 1s 8ms/step - loss: 522.1504 - mean_squared_error: 522.1504\n",
      "Epoch 19/50\n",
      "157/157 [==============================] - 1s 8ms/step - loss: 503.4109 - mean_squared_error: 503.4109\n",
      "Epoch 20/50\n",
      "157/157 [==============================] - 1s 8ms/step - loss: 487.2427 - mean_squared_error: 487.2427\n",
      "Epoch 21/50\n",
      "157/157 [==============================] - 1s 8ms/step - loss: 469.5195 - mean_squared_error: 469.5195\n",
      "Epoch 22/50\n",
      "157/157 [==============================] - 1s 7ms/step - loss: 454.2307 - mean_squared_error: 454.2307\n",
      "Epoch 23/50\n",
      "157/157 [==============================] - 1s 7ms/step - loss: 439.9314 - mean_squared_error: 439.9314\n",
      "Epoch 24/50\n",
      "157/157 [==============================] - 1s 8ms/step - loss: 429.6305 - mean_squared_error: 429.6305\n",
      "Epoch 25/50\n",
      "157/157 [==============================] - 1s 8ms/step - loss: 418.7878 - mean_squared_error: 418.7878\n",
      "Epoch 26/50\n",
      "157/157 [==============================] - 1s 8ms/step - loss: 410.1688 - mean_squared_error: 410.1688\n",
      "Epoch 27/50\n",
      "157/157 [==============================] - 1s 8ms/step - loss: 402.9991 - mean_squared_error: 402.9991\n",
      "Epoch 28/50\n",
      "157/157 [==============================] - 1s 8ms/step - loss: 396.7792 - mean_squared_error: 396.7792\n",
      "Epoch 29/50\n",
      "157/157 [==============================] - 1s 8ms/step - loss: 389.9662 - mean_squared_error: 389.9662\n",
      "Epoch 30/50\n",
      "157/157 [==============================] - 1s 8ms/step - loss: 382.6890 - mean_squared_error: 382.6890\n",
      "Epoch 31/50\n",
      "157/157 [==============================] - 1s 8ms/step - loss: 377.8511 - mean_squared_error: 377.8511\n",
      "Epoch 32/50\n",
      "157/157 [==============================] - 1s 8ms/step - loss: 370.5209 - mean_squared_error: 370.5209\n",
      "Epoch 33/50\n",
      "157/157 [==============================] - 1s 8ms/step - loss: 366.0867 - mean_squared_error: 366.0867\n",
      "Epoch 34/50\n",
      "157/157 [==============================] - 1s 8ms/step - loss: 361.7180 - mean_squared_error: 361.7180\n",
      "Epoch 35/50\n",
      "157/157 [==============================] - 1s 8ms/step - loss: 349.0351 - mean_squared_error: 349.0351\n",
      "Epoch 36/50\n",
      "157/157 [==============================] - 1s 8ms/step - loss: 346.8369 - mean_squared_error: 346.8369\n",
      "Epoch 37/50\n",
      "157/157 [==============================] - 1s 8ms/step - loss: 345.5438 - mean_squared_error: 345.5438\n",
      "Epoch 38/50\n",
      "157/157 [==============================] - 1s 8ms/step - loss: 338.5731 - mean_squared_error: 338.5731\n",
      "Epoch 39/50\n",
      "157/157 [==============================] - 1s 8ms/step - loss: 333.5671 - mean_squared_error: 333.5671\n",
      "Epoch 40/50\n",
      "157/157 [==============================] - 1s 8ms/step - loss: 331.7360 - mean_squared_error: 331.7360\n",
      "Epoch 41/50\n",
      "157/157 [==============================] - 1s 8ms/step - loss: 325.4603 - mean_squared_error: 325.4603\n",
      "Epoch 42/50\n",
      "157/157 [==============================] - 1s 8ms/step - loss: 316.3692 - mean_squared_error: 316.3692\n",
      "Epoch 43/50\n",
      "157/157 [==============================] - 1s 8ms/step - loss: 317.3018 - mean_squared_error: 317.3018\n",
      "Epoch 44/50\n",
      "157/157 [==============================] - 1s 8ms/step - loss: 310.4853 - mean_squared_error: 310.4853\n",
      "Epoch 45/50\n",
      "157/157 [==============================] - 1s 8ms/step - loss: 308.4144 - mean_squared_error: 308.4144\n",
      "Epoch 46/50\n",
      "157/157 [==============================] - 1s 8ms/step - loss: 305.5089 - mean_squared_error: 305.5089\n",
      "Epoch 47/50\n",
      "157/157 [==============================] - 1s 8ms/step - loss: 301.8204 - mean_squared_error: 301.8204\n",
      "Epoch 48/50\n",
      "157/157 [==============================] - 1s 8ms/step - loss: 301.8565 - mean_squared_error: 301.8565\n",
      "Epoch 49/50\n",
      "157/157 [==============================] - 1s 8ms/step - loss: 299.0920 - mean_squared_error: 299.0920\n",
      "Epoch 50/50\n",
      "157/157 [==============================] - 1s 8ms/step - loss: 297.3276 - mean_squared_error: 297.3276\n",
      "WARNING:tensorflow:From /usr/local/lib/python3.6/dist-packages/tensorflow/python/training/tracking/tracking.py:111: Model.state_updates (from tensorflow.python.keras.engine.training) is deprecated and will be removed in a future version.\n",
      "Instructions for updating:\n",
      "This property should not be used in TensorFlow 2.0, as updates are applied automatically.\n",
      "WARNING:tensorflow:From /usr/local/lib/python3.6/dist-packages/tensorflow/python/training/tracking/tracking.py:111: Layer.updates (from tensorflow.python.keras.engine.base_layer) is deprecated and will be removed in a future version.\n",
      "Instructions for updating:\n",
      "This property should not be used in TensorFlow 2.0, as updates are applied automatically.\n",
      "INFO:tensorflow:Assets written to: ./structured_data_regressor/best_model/assets\n"
     ]
    }
   ],
   "source": [
    "clf = ak.StructuredDataRegressor(overwrite=True, max_trials=50)\n",
    "clf.fit(x_train, y_train,\n",
    "           validation_split = 0.1,\n",
    "           batch_size=64,\n",
    "           epochs=50,\n",
    "           verbose=1,\n",
    "           shuffle = True\n",
    "       )"
   ]
  },
  {
   "cell_type": "code",
   "execution_count": 5,
   "metadata": {
    "tags": []
   },
   "outputs": [
    {
     "name": "stdout",
     "output_type": "stream",
     "text": [
      "Model: \"functional_1\"\n",
      "_________________________________________________________________\n",
      "Layer (type)                 Output Shape              Param #   \n",
      "=================================================================\n",
      "input_1 (InputLayer)         [(None, 244)]             0         \n",
      "_________________________________________________________________\n",
      "multi_category_encoding (Mul (None, 244)               0         \n",
      "_________________________________________________________________\n",
      "normalization (Normalization (None, 244)               489       \n",
      "_________________________________________________________________\n",
      "dense (Dense)                (None, 256)               62720     \n",
      "_________________________________________________________________\n",
      "re_lu (ReLU)                 (None, 256)               0         \n",
      "_________________________________________________________________\n",
      "dense_1 (Dense)              (None, 32)                8224      \n",
      "_________________________________________________________________\n",
      "re_lu_1 (ReLU)               (None, 32)                0         \n",
      "_________________________________________________________________\n",
      "regression_head_1 (Dense)    (None, 1)                 33        \n",
      "=================================================================\n",
      "Total params: 71,466\n",
      "Trainable params: 70,977\n",
      "Non-trainable params: 489\n",
      "_________________________________________________________________\n"
     ]
    }
   ],
   "source": [
    "model = clf.export_model()\n",
    "model.summary()"
   ]
  },
  {
   "cell_type": "code",
   "execution_count": 6,
   "metadata": {
    "tags": []
   },
   "outputs": [
    {
     "name": "stdout",
     "output_type": "stream",
     "text": [
      "Epoch 1/20\n",
      "12516/12516 [==============================] - 93s 7ms/step - loss: 345.6616 - mean_squared_error: 345.6616 - val_loss: 302.9395 - val_mean_squared_error: 302.9395\n",
      "Epoch 2/20\n",
      "12516/12516 [==============================] - 91s 7ms/step - loss: 299.9370 - mean_squared_error: 299.9370 - val_loss: 246.1867 - val_mean_squared_error: 246.1867\n",
      "Epoch 3/20\n",
      "12516/12516 [==============================] - 92s 7ms/step - loss: 276.4112 - mean_squared_error: 276.4112 - val_loss: 219.1791 - val_mean_squared_error: 219.1791\n",
      "Epoch 4/20\n",
      "12516/12516 [==============================] - 93s 7ms/step - loss: 255.5871 - mean_squared_error: 255.5871 - val_loss: 225.5043 - val_mean_squared_error: 225.5043\n",
      "Epoch 5/20\n",
      "12516/12516 [==============================] - 94s 7ms/step - loss: 238.6926 - mean_squared_error: 238.6926 - val_loss: 235.1805 - val_mean_squared_error: 235.1805\n",
      "Epoch 6/20\n",
      "12516/12516 [==============================] - 93s 7ms/step - loss: 228.3777 - mean_squared_error: 228.3777 - val_loss: 200.2354 - val_mean_squared_error: 200.2354\n",
      "Epoch 7/20\n",
      "12516/12516 [==============================] - 94s 7ms/step - loss: 219.5205 - mean_squared_error: 219.5205 - val_loss: 204.2544 - val_mean_squared_error: 204.2544\n",
      "Epoch 8/20\n",
      "12516/12516 [==============================] - 93s 7ms/step - loss: 210.6604 - mean_squared_error: 210.6604 - val_loss: 190.9550 - val_mean_squared_error: 190.9550\n",
      "Epoch 9/20\n",
      "12516/12516 [==============================] - 93s 7ms/step - loss: 206.3127 - mean_squared_error: 206.3127 - val_loss: 226.9244 - val_mean_squared_error: 226.9244\n",
      "Epoch 10/20\n",
      "12516/12516 [==============================] - 91s 7ms/step - loss: 196.8650 - mean_squared_error: 196.8650 - val_loss: 186.0395 - val_mean_squared_error: 186.0395\n",
      "Epoch 11/20\n",
      "12516/12516 [==============================] - 94s 8ms/step - loss: 200.9327 - mean_squared_error: 200.9327 - val_loss: 140.6667 - val_mean_squared_error: 140.6667\n",
      "Epoch 12/20\n",
      "12516/12516 [==============================] - 95s 8ms/step - loss: 188.2128 - mean_squared_error: 188.2128 - val_loss: 170.9668 - val_mean_squared_error: 170.9668\n",
      "Epoch 13/20\n",
      "12516/12516 [==============================] - 95s 8ms/step - loss: 186.4245 - mean_squared_error: 186.4245 - val_loss: 212.1200 - val_mean_squared_error: 212.1200\n",
      "Epoch 14/20\n",
      "12516/12516 [==============================] - 96s 8ms/step - loss: 173.7904 - mean_squared_error: 173.7904 - val_loss: 161.2608 - val_mean_squared_error: 161.2608\n",
      "Epoch 15/20\n",
      "12516/12516 [==============================] - 95s 8ms/step - loss: 179.1761 - mean_squared_error: 179.1761 - val_loss: 119.1196 - val_mean_squared_error: 119.1196\n",
      "Epoch 16/20\n",
      "12516/12516 [==============================] - 96s 8ms/step - loss: 172.7646 - mean_squared_error: 172.7646 - val_loss: 199.8519 - val_mean_squared_error: 199.8519\n",
      "Epoch 17/20\n",
      "12516/12516 [==============================] - 95s 8ms/step - loss: 177.5281 - mean_squared_error: 177.5281 - val_loss: 156.3760 - val_mean_squared_error: 156.3760\n",
      "Epoch 18/20\n",
      "12516/12516 [==============================] - 96s 8ms/step - loss: 166.3899 - mean_squared_error: 166.3899 - val_loss: 140.4991 - val_mean_squared_error: 140.4991\n",
      "Epoch 19/20\n",
      "12516/12516 [==============================] - 95s 8ms/step - loss: 168.2777 - mean_squared_error: 168.2777 - val_loss: 131.1427 - val_mean_squared_error: 131.1427\n",
      "Epoch 20/20\n",
      "12516/12516 [==============================] - 95s 8ms/step - loss: 172.7519 - mean_squared_error: 172.7519 - val_loss: 201.9210 - val_mean_squared_error: 201.9210\n"
     ]
    },
    {
     "data": {
      "text/plain": [
       "<tensorflow.python.keras.callbacks.History at 0x7fbfa47924e0>"
      ]
     },
     "execution_count": 6,
     "metadata": {},
     "output_type": "execute_result"
    }
   ],
   "source": [
    "model.fit(x_train2, y_train2,\n",
    "           validation_split = 0.1,\n",
    "           batch_size=64,\n",
    "           epochs=20,\n",
    "           verbose=1,\n",
    "           shuffle = True\n",
    "         )"
   ]
  },
  {
   "cell_type": "code",
   "execution_count": 7,
   "metadata": {
    "tags": []
   },
   "outputs": [
    {
     "name": "stdout",
     "output_type": "stream",
     "text": [
      "3125/3125 [==============================] - 17s 5ms/step - loss: 229.3140 - mean_squared_error: 229.3140\n"
     ]
    }
   ],
   "source": [
    "model.evaluate(x_test, y_test)\n",
    "pre_test = model.predict(x_test)"
   ]
  },
  {
   "cell_type": "code",
   "execution_count": 8,
   "metadata": {},
   "outputs": [
    {
     "data": {
      "image/png": "[encoded data removed]",
      "text/plain": [
       "<Figure size 432x288 with 1 Axes>"
      ]
     },
     "metadata": {
      "needs_background": "light"
     },
     "output_type": "display_data"
    }
   ],
   "source": [
    "plt.hist(pre_test, histtype = 'step', bins = 100, label = 'prediction')\n",
    "plt.hist(y_test, histtype = 'step', bins = 100, label = 'target')\n",
    "plt.xlabel('delta')\n",
    "plt.ylabel('number')\n",
    "plt.legend()\n",
    "plt.show()"
   ]
  },
  {
   "cell_type": "code",
   "execution_count": 9,
   "metadata": {},
   "outputs": [
    {
     "data": {
      "text/plain": [
       "Text(0.5, 1.0, 'delta')"
      ]
     },
     "execution_count": 9,
     "metadata": {},
     "output_type": "execute_result"
    },
    {
     "data": {
      "image/png": "[encoded data removed]",
      "text/plain": [
       "<Figure size 504x504 with 1 Axes>"
      ]
     },
     "metadata": {
      "needs_background": "light"
     },
     "output_type": "display_data"
    }
   ],
   "source": [
    "plt.figure(figsize=(7,7))\n",
    "plt.plot(pre_test, y_test, '.', alpha = 0.05)\n",
    "plt.xlabel('prediction')\n",
    "plt.ylabel('target')\n",
    "plt.title('delta')"
   ]
  },
  {
   "cell_type": "code",
   "execution_count": 11,
   "metadata": {
    "tags": []
   },
   "outputs": [],
   "source": [
    "if input_state == 0:\n",
    "    modelname = '/work/Regression/models_ve_dune/0803_delta4.h5'\n",
    "    if not os.path.isfile(modelname):\n",
    "        model.save(modelname)\n",
    "elif input_state == 1:\n",
    "    modelname = '/work/Regression/models_all_dune/0803_delta2.h5'\n",
    "    if not os.path.isfile(modelname):\n",
    "        model.save(modelname)\n",
    "elif input_state == 2:\n",
    "    modelname = '/work/Regression/models_all/0803_delta2.h5'\n",
    "    if not os.path.isfile(modelname):\n",
    "        model.save(modelname)"
   ]
  },
  {
   "cell_type": "code",
   "execution_count": null,
   "metadata": {},
   "outputs": [],
   "source": []
  }
 ],
 "metadata": {
  "kernelspec": {
   "display_name": "Python 3",
   "language": "python",
   "name": "python3"
  },
  "language_info": {
   "codemirror_mode": {
    "name": "ipython",
    "version": 3
   },
   "file_extension": ".py",
   "mimetype": "text/x-python",
   "name": "python",
   "nbconvert_exporter": "python",
   "pygments_lexer": "ipython3",
   "version": "3.6.9"
  }
 },
 "nbformat": 4,
 "nbformat_minor": 4
}
