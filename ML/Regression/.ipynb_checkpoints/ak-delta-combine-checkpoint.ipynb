{
 "cells": [
  {
   "cell_type": "code",
   "execution_count": 1,
   "metadata": {
    "tags": []
   },
   "outputs": [],
   "source": [
    "import numpy as np\n",
    "import matplotlib.pyplot as plt\n",
    "import autokeras as ak\n",
    "import tensorflow as tf\n",
    "import os"
   ]
  },
  {
   "cell_type": "code",
   "execution_count": 2,
   "metadata": {},
   "outputs": [
    {
     "name": "stdout",
     "output_type": "stream",
     "text": [
      "1 Physical GPUs, 1 Logical GPU\n"
     ]
    }
   ],
   "source": [
    "import tensorflow as tf\n",
    "\n",
    "gpus = tf.config.experimental.list_physical_devices('GPU')\n",
    "if gpus:\n",
    "  # Restrict TensorFlow to only use the first GPU\n",
    "    try:\n",
    "        tf.config.experimental.set_visible_devices(gpus[0], 'GPU')\n",
    "        tf.config.experimental.set_virtual_device_configuration(\n",
    "        gpus[0],\n",
    "        [tf.config.experimental.VirtualDeviceConfiguration(memory_limit=5000)])\n",
    "        logical_gpus = tf.config.experimental.list_logical_devices('GPU')\n",
    "        print(len(gpus), \"Physical GPUs,\", len(logical_gpus), \"Logical GPU\")\n",
    "    except RuntimeError as e:\n",
    "    # Visible devices must be set before GPUs have been initialized\n",
    "        print(e)"
   ]
  },
  {
   "cell_type": "code",
   "execution_count": 3,
   "metadata": {
    "tags": []
   },
   "outputs": [],
   "source": [
    "data = np.load('/home/ML4NO/Data/n1000000_0910_all_flat.npz')"
   ]
  },
  {
   "cell_type": "code",
   "execution_count": 4,
   "metadata": {
    "tags": []
   },
   "outputs": [],
   "source": [
    "data_all = np.column_stack([data['ve_dune'], data['vu_dune'], data['vebar_dune'], data['vubar_dune'], data['ve_t2hk'], data['vu_t2hk'], data['vebar_t2hk'], data['vubar_t2hk']])\n",
    "target = data['delta']\n",
    "\n",
    "x_train = data_all[:10000]\n",
    "y_train = target[:10000]\n",
    "\n",
    "x_train2 = data_all[10000:900000]\n",
    "y_train2 = target[10000:900000]\n",
    "\n",
    "x_test = data_all[900000:]\n",
    "y_test = target[900000:]"
   ]
  },
  {
   "cell_type": "code",
   "execution_count": 5,
   "metadata": {
    "tags": []
   },
   "outputs": [
    {
     "name": "stdout",
     "output_type": "stream",
     "text": [
      "Trial 50 Complete [00h 01m 00s]\n",
      "val_loss: 518.258056640625\n",
      "\n",
      "Best val_loss So Far: 162.29811096191406\n",
      "Total elapsed time: 00h 48m 25s\n",
      "INFO:tensorflow:Oracle triggered exit\n",
      "Epoch 1/20\n",
      "157/157 [==============================] - 5s 16ms/step - loss: 34313.5732 - mean_squared_error: 34313.5732\n",
      "Epoch 2/20\n",
      "157/157 [==============================] - 3s 17ms/step - loss: 4332.8401 - mean_squared_error: 4332.8401\n",
      "Epoch 3/20\n",
      "157/157 [==============================] - 3s 17ms/step - loss: 1825.4702 - mean_squared_error: 1825.4702\n",
      "Epoch 4/20\n",
      "157/157 [==============================] - 3s 16ms/step - loss: 1081.1547 - mean_squared_error: 1081.1547\n",
      "Epoch 5/20\n",
      "157/157 [==============================] - 2s 16ms/step - loss: 855.6337 - mean_squared_error: 855.6337\n",
      "Epoch 6/20\n",
      "157/157 [==============================] - 3s 17ms/step - loss: 757.4258 - mean_squared_error: 757.4258\n",
      "Epoch 7/20\n",
      "157/157 [==============================] - 3s 16ms/step - loss: 655.8836 - mean_squared_error: 655.8836\n",
      "Epoch 8/20\n",
      "157/157 [==============================] - 3s 17ms/step - loss: 644.2412 - mean_squared_error: 644.2412\n",
      "Epoch 9/20\n",
      "157/157 [==============================] - 3s 16ms/step - loss: 530.3740 - mean_squared_error: 530.3740\n",
      "Epoch 10/20\n",
      "157/157 [==============================] - 3s 16ms/step - loss: 527.3618 - mean_squared_error: 527.3618 0s - loss: 529.2338 - mean_squared_error: \n",
      "Epoch 11/20\n",
      "157/157 [==============================] - 3s 16ms/step - loss: 459.5274 - mean_squared_error: 459.5274\n",
      "Epoch 12/20\n",
      "157/157 [==============================] - 3s 16ms/step - loss: 436.4670 - mean_squared_error: 436.4670\n",
      "Epoch 13/20\n",
      "157/157 [==============================] - 3s 16ms/step - loss: 451.3184 - mean_squared_error: 451.3184\n",
      "Epoch 14/20\n",
      "157/157 [==============================] - 3s 16ms/step - loss: 359.6014 - mean_squared_error: 359.6014\n",
      "Epoch 15/20\n",
      "157/157 [==============================] - 3s 17ms/step - loss: 354.2625 - mean_squared_error: 354.2625\n",
      "Epoch 16/20\n",
      "157/157 [==============================] - 3s 16ms/step - loss: 331.0918 - mean_squared_error: 331.0918\n",
      "Epoch 17/20\n",
      "157/157 [==============================] - 3s 16ms/step - loss: 285.2558 - mean_squared_error: 285.2558\n",
      "Epoch 18/20\n",
      "157/157 [==============================] - 3s 16ms/step - loss: 280.5098 - mean_squared_error: 280.5098\n",
      "Epoch 19/20\n",
      "157/157 [==============================] - 3s 16ms/step - loss: 265.6300 - mean_squared_error: 265.6300\n",
      "Epoch 20/20\n",
      "157/157 [==============================] - 3s 16ms/step - loss: 239.5145 - mean_squared_error: 239.5145\n",
      "WARNING:tensorflow:FOR KERAS USERS: The object that you are saving contains one or more Keras models or layers. If you are loading the SavedModel with `tf.keras.models.load_model`, continue reading (otherwise, you may ignore the following instructions). Please change your code to save with `tf.keras.models.save_model` or `model.save`, and confirm that the file \"keras.metadata\" exists in the export directory. In the future, Keras will only load the SavedModels that have this file. In other words, `tf.saved_model.save` will no longer write SavedModels that can be recovered as Keras models (this will apply in TF 2.5).\n",
      "\n",
      "FOR DEVS: If you are overwriting _tracking_metadata in your class, this property has been used to save metadata in the SavedModel. The metadta field will be deprecated soon, so please move the metadata to a different file.\n",
      "INFO:tensorflow:Assets written to: ./structured_data_regressor/best_model/assets\n"
     ]
    },
    {
     "data": {
      "text/plain": [
       "<tensorflow.python.keras.callbacks.History at 0x7fed8004b240>"
      ]
     },
     "execution_count": 5,
     "metadata": {},
     "output_type": "execute_result"
    }
   ],
   "source": [
    "clf = ak.StructuredDataRegressor(overwrite=True, max_trials=50)\n",
    "clf.fit(x_train, y_train,\n",
    "           validation_split = 0.1,\n",
    "           batch_size=64,\n",
    "           epochs=20,\n",
    "           verbose=1,\n",
    "           shuffle = True\n",
    "       )"
   ]
  },
  {
   "cell_type": "code",
   "execution_count": 6,
   "metadata": {},
   "outputs": [
    {
     "name": "stdout",
     "output_type": "stream",
     "text": [
      "Model: \"model\"\n",
      "_________________________________________________________________\n",
      "Layer (type)                 Output Shape              Param #   \n",
      "=================================================================\n",
      "input_1 (InputLayer)         [(None, 304)]             0         \n",
      "_________________________________________________________________\n",
      "multi_category_encoding (Mul (None, 304)               0         \n",
      "_________________________________________________________________\n",
      "normalization (Normalization (None, 304)               609       \n",
      "_________________________________________________________________\n",
      "dense (Dense)                (None, 256)               78080     \n",
      "_________________________________________________________________\n",
      "re_lu (ReLU)                 (None, 256)               0         \n",
      "_________________________________________________________________\n",
      "dense_1 (Dense)              (None, 256)               65792     \n",
      "_________________________________________________________________\n",
      "re_lu_1 (ReLU)               (None, 256)               0         \n",
      "_________________________________________________________________\n",
      "dense_2 (Dense)              (None, 1024)              263168    \n",
      "_________________________________________________________________\n",
      "re_lu_2 (ReLU)               (None, 1024)              0         \n",
      "_________________________________________________________________\n",
      "dropout (Dropout)            (None, 1024)              0         \n",
      "_________________________________________________________________\n",
      "regression_head_1 (Dense)    (None, 1)                 1025      \n",
      "=================================================================\n",
      "Total params: 408,674\n",
      "Trainable params: 408,065\n",
      "Non-trainable params: 609\n",
      "_________________________________________________________________\n"
     ]
    }
   ],
   "source": [
    "model = clf.export_model()\n",
    "model.summary()"
   ]
  },
  {
   "cell_type": "code",
   "execution_count": 7,
   "metadata": {
    "tags": []
   },
   "outputs": [
    {
     "name": "stdout",
     "output_type": "stream",
     "text": [
      "Epoch 1/20\n",
      "12516/12516 [==============================] - 223s 18ms/step - loss: 241.8868 - mean_squared_error: 241.8868 - val_loss: 107.0816 - val_mean_squared_error: 107.0816\n",
      "Epoch 2/20\n",
      "12516/12516 [==============================] - 220s 18ms/step - loss: 195.9847 - mean_squared_error: 195.9847 - val_loss: 107.0816 - val_mean_squared_error: 107.0816\n",
      "Epoch 3/20\n",
      "12516/12516 [==============================] - 219s 18ms/step - loss: 196.2262 - mean_squared_error: 196.2262 - val_loss: 107.0816 - val_mean_squared_error: 107.0816\n",
      "Epoch 4/20\n",
      "12516/12516 [==============================] - 220s 18ms/step - loss: 196.4744 - mean_squared_error: 196.4744 - val_loss: 107.0816 - val_mean_squared_error: 107.0816\n",
      "Epoch 5/20\n",
      "12516/12516 [==============================] - 219s 18ms/step - loss: 195.9557 - mean_squared_error: 195.9557 - val_loss: 107.0816 - val_mean_squared_error: 107.0816\n",
      "Epoch 6/20\n",
      "12516/12516 [==============================] - 220s 18ms/step - loss: 196.4931 - mean_squared_error: 196.4931 - val_loss: 107.0816 - val_mean_squared_error: 107.0816\n",
      "Epoch 7/20\n",
      "12516/12516 [==============================] - 220s 18ms/step - loss: 196.5233 - mean_squared_error: 196.5233 - val_loss: 107.0816 - val_mean_squared_error: 107.0816\n",
      "Epoch 8/20\n",
      "12516/12516 [==============================] - 219s 18ms/step - loss: 196.5672 - mean_squared_error: 196.5672 - val_loss: 107.0816 - val_mean_squared_error: 107.0816\n",
      "Epoch 9/20\n",
      "12516/12516 [==============================] - 219s 18ms/step - loss: 196.3079 - mean_squared_error: 196.3079 - val_loss: 107.0816 - val_mean_squared_error: 107.0816\n",
      "Epoch 10/20\n",
      "12516/12516 [==============================] - 219s 18ms/step - loss: 197.2248 - mean_squared_error: 197.2248 - val_loss: 107.0816 - val_mean_squared_error: 107.0816\n",
      "Epoch 11/20\n",
      "12516/12516 [==============================] - 219s 18ms/step - loss: 196.2371 - mean_squared_error: 196.2371 - val_loss: 107.0816 - val_mean_squared_error: 107.0816\n",
      "Epoch 12/20\n",
      "12516/12516 [==============================] - 220s 18ms/step - loss: 196.4148 - mean_squared_error: 196.4148 - val_loss: 107.0816 - val_mean_squared_error: 107.0816\n",
      "Epoch 13/20\n",
      "12516/12516 [==============================] - 219s 18ms/step - loss: 196.1541 - mean_squared_error: 196.1541 - val_loss: 107.0816 - val_mean_squared_error: 107.0816\n",
      "Epoch 14/20\n",
      "12516/12516 [==============================] - 219s 18ms/step - loss: 195.5747 - mean_squared_error: 195.5747 - val_loss: 107.0816 - val_mean_squared_error: 107.0816\n",
      "Epoch 15/20\n",
      "12516/12516 [==============================] - 219s 17ms/step - loss: 196.2282 - mean_squared_error: 196.2282 - val_loss: 107.0816 - val_mean_squared_error: 107.0816\n",
      "Epoch 16/20\n",
      "12516/12516 [==============================] - 219s 17ms/step - loss: 196.5535 - mean_squared_error: 196.5535 - val_loss: 107.0816 - val_mean_squared_error: 107.0816\n",
      "Epoch 17/20\n",
      "12516/12516 [==============================] - 224s 18ms/step - loss: 196.0353 - mean_squared_error: 196.0353 - val_loss: 107.0816 - val_mean_squared_error: 107.0816\n",
      "Epoch 18/20\n",
      "12516/12516 [==============================] - 225s 18ms/step - loss: 196.4009 - mean_squared_error: 196.4009 - val_loss: 107.0816 - val_mean_squared_error: 107.0816\n",
      "Epoch 19/20\n",
      "12516/12516 [==============================] - 220s 18ms/step - loss: 195.4886 - mean_squared_error: 195.4886 - val_loss: 107.0816 - val_mean_squared_error: 107.0816\n",
      "Epoch 20/20\n",
      "12516/12516 [==============================] - 220s 18ms/step - loss: 195.9347 - mean_squared_error: 195.9347 - val_loss: 107.0816 - val_mean_squared_error: 107.0816\n"
     ]
    },
    {
     "data": {
      "text/plain": [
       "<tensorflow.python.keras.callbacks.History at 0x7fed305553c8>"
      ]
     },
     "execution_count": 7,
     "metadata": {},
     "output_type": "execute_result"
    }
   ],
   "source": [
    "model.fit(x_train2, y_train2,\n",
    "           validation_split = 0.1,\n",
    "           batch_size=64,\n",
    "           epochs=20,\n",
    "           verbose=1,\n",
    "           shuffle = True\n",
    "         )"
   ]
  },
  {
   "cell_type": "code",
   "execution_count": 8,
   "metadata": {
    "tags": []
   },
   "outputs": [],
   "source": [
    "index = 1\n",
    "while os.path.isfile('/home/ML4NO/ML/Regression/models/0910_delta_{}.h5'.format(index)):\n",
    "    index += 1\n",
    "model.save('/home/ML4NO/ML/Regression/models/0910_delta_{}.h5'.format(index))"
   ]
  },
  {
   "cell_type": "code",
   "execution_count": null,
   "metadata": {},
   "outputs": [
    {
     "name": "stdout",
     "output_type": "stream",
     "text": [
      "3125/3125 [==============================] - 36s 11ms/step - loss: 121.7485 - mean_squared_error: 121.7485\n",
      "Epoch 1/5\n",
      "12516/12516 [==============================] - 221s 18ms/step - loss: 196.2951 - mean_squared_error: 196.2951 - val_loss: 107.3397 - val_mean_squared_error: 107.3397\n",
      "Epoch 2/5\n",
      "12516/12516 [==============================] - 223s 18ms/step - loss: 196.4579 - mean_squared_error: 196.4579 - val_loss: 107.3397 - val_mean_squared_error: 107.3397\n",
      "Epoch 3/5\n",
      "12516/12516 [==============================] - 220s 18ms/step - loss: 196.4359 - mean_squared_error: 196.4359 - val_loss: 107.3397 - val_mean_squared_error: 107.3397\n",
      "Epoch 4/5\n",
      "12516/12516 [==============================] - 220s 18ms/step - loss: 196.0954 - mean_squared_error: 196.0954 - val_loss: 107.3397 - val_mean_squared_error: 107.3397\n",
      "Epoch 5/5\n",
      "12516/12516 [==============================] - 223s 18ms/step - loss: 196.3802 - mean_squared_error: 196.3802 - val_loss: 107.3397 - val_mean_squared_error: 107.3397\n",
      "3125/3125 [==============================] - 38s 12ms/step - loss: 121.7485 - mean_squared_error: 121.7485\n",
      "3125/3125 [==============================] - 38s 12ms/step - loss: 121.9529 - mean_squared_error: 121.9529\n",
      "Epoch 1/5\n",
      "12516/12516 [==============================] - 229s 18ms/step - loss: 196.8955 - mean_squared_error: 196.8955 - val_loss: 107.3246 - val_mean_squared_error: 107.3246\n",
      "Epoch 2/5\n",
      "12516/12516 [==============================] - 230s 18ms/step - loss: 197.3517 - mean_squared_error: 197.3517 - val_loss: 107.3246 - val_mean_squared_error: 107.3246\n",
      "Epoch 3/5\n",
      "12516/12516 [==============================] - 227s 18ms/step - loss: 196.5285 - mean_squared_error: 196.5285 - val_loss: 107.3246 - val_mean_squared_error: 107.3246\n",
      "Epoch 4/5\n",
      "12516/12516 [==============================] - 231s 18ms/step - loss: 196.1836 - mean_squared_error: 196.1836 - val_loss: 107.3246 - val_mean_squared_error: 107.3246\n",
      "Epoch 5/5\n",
      "12516/12516 [==============================] - 224s 18ms/step - loss: 196.5461 - mean_squared_error: 196.5461 - val_loss: 107.3246 - val_mean_squared_error: 107.3246\n",
      "3125/3125 [==============================] - 36s 12ms/step - loss: 121.9529 - mean_squared_error: 121.9529\n",
      "3125/3125 [==============================] - 38s 12ms/step - loss: 121.8065 - mean_squared_error: 121.8065\n",
      "Epoch 1/5\n",
      "12516/12516 [==============================] - 231s 18ms/step - loss: 196.1310 - mean_squared_error: 196.1310 - val_loss: 107.8999 - val_mean_squared_error: 107.8999\n",
      "Epoch 2/5\n",
      "  279/12516 [..............................] - ETA: 3:29 - loss: 185.3907 - mean_squared_error: 185.3907"
     ]
    }
   ],
   "source": [
    "scale_steps = np.logspace(-3, 0, 30)\n",
    "before_train_loss = []\n",
    "after_train_loss = []\n",
    "\n",
    "for scale in scale_steps:\n",
    "    x_train2_gen = np.random.normal(x_train2, np.sqrt(x_train2)*scale)\n",
    "    x_test_gen = np.random.normal(x_test, np.sqrt(x_test)*scale)\n",
    "\n",
    "    before_train_loss.append(model.evaluate(x_test_gen, y_test)[0])\n",
    "\n",
    "    model.fit(x_train2_gen, y_train2,\n",
    "               validation_split = 0.1,\n",
    "               batch_size=64,\n",
    "               epochs=5,\n",
    "               verbose=1,\n",
    "               shuffle = True\n",
    "             )\n",
    "\n",
    "    after_train_loss.append(model.evaluate(x_test_gen, y_test)[0])"
   ]
  },
  {
   "cell_type": "code",
   "execution_count": null,
   "metadata": {},
   "outputs": [],
   "source": [
    "model_index = index\n",
    "index = 1\n",
    "path = '/home/ML4NO/ML/Regression/models_furthurTrain/0910_delta_{}_{}.h5'\n",
    "while os.path.isfile(path.format(model_index, index)):\n",
    "    index += 1\n",
    "model.save(path.format(model_index, index))\n",
    "outfile = {'scale_steps': scale_steps,\n",
    "           'before_train_loss': before_train_loss,\n",
    "           'after_train_loss' :after_train_loss}\n",
    "np.save(file = '/home/ML4NO/ML/Regression/models_furthurTrain/0910_delta_{}_{}_result.npy'.format(model_index, index),\n",
    "        arr = outfile)"
   ]
  },
  {
   "cell_type": "code",
   "execution_count": null,
   "metadata": {},
   "outputs": [],
   "source": [
    "x_test2_gen = np.random.poisson(x_test)\n",
    "\n",
    "for i in range(10):\n",
    "    x_train2_gen = np.random.poisson(x_train2)\n",
    "    \n",
    "    model.fit(x_train2_gen, y_train2,\n",
    "              validation_split=0.1,\n",
    "               batch_size=64,\n",
    "               epochs=1,\n",
    "               verbose=1,\n",
    "               shuffle = True\n",
    "             )\n",
    "model.evaluate(x_test2_gen, y_test)"
   ]
  },
  {
   "cell_type": "code",
   "execution_count": null,
   "metadata": {},
   "outputs": [],
   "source": [
    "furthur_index = index\n",
    "index = 1\n",
    "path = '/home/ML4NO/ML/Regression/models_PoissonTrain/0910_delta_{}_{}_{}.h5'\n",
    "while os.path.isfile(path.format(model_index, furthur_index, index)):\n",
    "    index += 1\n",
    "model.save(path.format(model_index, furthur_index, index))"
   ]
  }
 ],
 "metadata": {
  "kernelspec": {
   "display_name": "Python 3",
   "language": "python",
   "name": "python3"
  },
  "language_info": {
   "codemirror_mode": {
    "name": "ipython",
    "version": 3
   },
   "file_extension": ".py",
   "mimetype": "text/x-python",
   "name": "python",
   "nbconvert_exporter": "python",
   "pygments_lexer": "ipython3",
   "version": "3.6.9"
  }
 },
 "nbformat": 4,
 "nbformat_minor": 4
}
