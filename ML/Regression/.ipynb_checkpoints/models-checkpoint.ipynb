{
 "cells": [
  {
   "cell_type": "code",
   "execution_count": 33,
   "id": "f21e14a4-1151-42c1-b580-1f40bdcb1b42",
   "metadata": {},
   "outputs": [],
   "source": [
    "import numpy as np\n",
    "import pandas as pd\n",
    "import matplotlib.pyplot as plt\n",
    "import autokeras as ak\n",
    "import tensorflow as tf\n",
    "import os"
   ]
  },
  {
   "cell_type": "code",
   "execution_count": 34,
   "id": "1f78af00-3400-473f-b5a9-61e329b10f4d",
   "metadata": {},
   "outputs": [],
   "source": [
    "data = np.load('/work/n1000000chi2_0716.npz')"
   ]
  },
  {
   "cell_type": "code",
   "execution_count": 35,
   "id": "cc39819c-2db0-457e-b1b5-b08fb3a3b77d",
   "metadata": {},
   "outputs": [],
   "source": [
    "tdmodels = []\n",
    "tmodels = []\n",
    "dmodels = []\n",
    "for dirname, _, filenames in os.walk('./models_ve_dune/'):\n",
    "    for i, filename in enumerate(filenames):\n",
    "        if 'theta23,delta' in filename:\n",
    "            tdmodels.append(tf.keras.models.load_model(os.path.join(dirname, filename)))\n",
    "        elif 'theta23' in filename:\n",
    "            tmodels.append(tf.keras.models.load_model(os.path.join(dirname, filename)))\n",
    "        elif 'delta' in filename:\n",
    "            dmodels.append(tf.keras.models.load_model(os.path.join(dirname, filename)))"
   ]
  },
  {
   "cell_type": "code",
   "execution_count": 37,
   "id": "9dfa7986-fb42-4d23-9f20-274d4de8b532",
   "metadata": {},
   "outputs": [],
   "source": [
    "x_test = data['ve_dune'][900000:]\n",
    "y_test = np.column_stack([data['theta23'][900000:], data['delta'][900000:]])"
   ]
  },
  {
   "cell_type": "code",
   "execution_count": 38,
   "id": "fd2d77c0-d481-4052-95e9-20c9bad878a4",
   "metadata": {},
   "outputs": [
    {
     "name": "stdout",
     "output_type": "stream",
     "text": [
      "3125/3125 [==============================] - 11s 3ms/step - loss: 334.4429 - mean_squared_error: 334.4429\n",
      "[334.44287109375, 334.44287109375]\n",
      "3125/3125 [==============================] - 6s 2ms/step - loss: 303.8682 - mean_squared_error: 303.8682\n",
      "[303.8681640625, 303.8681640625]\n",
      "3125/3125 [==============================] - 7s 2ms/step - loss: 244.0527 - mean_squared_error: 244.0527\n",
      "[244.05270385742188, 244.05270385742188]\n"
     ]
    }
   ],
   "source": [
    "for model in tdmodels:\n",
    "#     print(model.summary())\n",
    "    print(model.evaluate(x_test, y_test))"
   ]
  },
  {
   "cell_type": "code",
   "execution_count": 39,
   "id": "1405fdec-39b3-4274-8061-6137cf2dabd0",
   "metadata": {},
   "outputs": [],
   "source": [
    "x_test = data['ve_dune'][900000:]\n",
    "y_test = data['theta23'][900000:]"
   ]
  },
  {
   "cell_type": "code",
   "execution_count": 40,
   "id": "f85f2759-0fec-46b1-9fc4-a3a8f25f3022",
   "metadata": {},
   "outputs": [
    {
     "name": "stdout",
     "output_type": "stream",
     "text": [
      "3125/3125 [==============================] - 7s 2ms/step - loss: 0.5527 - mean_squared_error: 0.5527\n",
      "[0.5526841878890991, 0.5526841878890991]\n",
      "3125/3125 [==============================] - 6s 2ms/step - loss: 0.5899 - mean_squared_error: 0.5899\n",
      "[0.5899427533149719, 0.5899427533149719]\n",
      "3125/3125 [==============================] - 6s 2ms/step - loss: 0.5607 - mean_squared_error: 0.5607\n",
      "[0.5606855154037476, 0.5606855154037476]\n"
     ]
    }
   ],
   "source": [
    "for model in tmodels:\n",
    "#     print(model.summary())\n",
    "    print(model.evaluate(x_test, y_test))"
   ]
  },
  {
   "cell_type": "code",
   "execution_count": 41,
   "id": "b3491d1b-8b4a-489a-8b4e-cb564a7ae700",
   "metadata": {},
   "outputs": [],
   "source": [
    "x_test = data['ve_dune'][900000:]\n",
    "y_test = data['delta'][900000:]"
   ]
  },
  {
   "cell_type": "code",
   "execution_count": 42,
   "id": "e5726f4e-28c1-436d-a3c5-032ee5bbd111",
   "metadata": {},
   "outputs": [
    {
     "name": "stdout",
     "output_type": "stream",
     "text": [
      "3125/3125 [==============================] - 8s 3ms/step - loss: 675.0788 - mean_squared_error: 675.0788\n",
      "[675.0787963867188, 675.0787963867188]\n",
      "3125/3125 [==============================] - 13s 4ms/step - loss: 661.9664 - mean_squared_error: 661.9664\n",
      "[661.9664306640625, 661.9664306640625]\n",
      "3125/3125 [==============================] - 7s 2ms/step - loss: 809.5691 - mean_squared_error: 809.5691\n",
      "[809.569091796875, 809.569091796875]\n",
      "3125/3125 [==============================] - 7s 2ms/step - loss: 458.7799 - mean_squared_error: 458.7799\n",
      "[458.7798767089844, 458.7798767089844]\n"
     ]
    }
   ],
   "source": [
    "for model in dmodels:\n",
    "#     print(model.summary())\n",
    "    print(model.evaluate(x_test, y_test))"
   ]
  },
  {
   "cell_type": "code",
   "execution_count": null,
   "id": "410fa158-4543-477c-9300-1603f5ff010e",
   "metadata": {},
   "outputs": [],
   "source": []
  }
 ],
 "metadata": {
  "kernelspec": {
   "display_name": "Python 3",
   "language": "python",
   "name": "python3"
  },
  "language_info": {
   "codemirror_mode": {
    "name": "ipython",
    "version": 3
   },
   "file_extension": ".py",
   "mimetype": "text/x-python",
   "name": "python",
   "nbconvert_exporter": "python",
   "pygments_lexer": "ipython3",
   "version": "3.6.9"
  }
 },
 "nbformat": 4,
 "nbformat_minor": 5
}
