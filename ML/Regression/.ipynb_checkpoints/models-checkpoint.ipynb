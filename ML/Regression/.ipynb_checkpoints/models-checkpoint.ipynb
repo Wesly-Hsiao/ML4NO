{
 "cells": [
  {
   "cell_type": "code",
   "execution_count": 2,
   "id": "f21e14a4-1151-42c1-b580-1f40bdcb1b42",
   "metadata": {},
   "outputs": [],
   "source": [
    "import numpy as np\n",
    "import pandas as pd\n",
    "import matplotlib.pyplot as plt\n",
    "import autokeras as ak\n",
    "import tensorflow as tf\n",
    "import os\n",
    "from tensorflow.keras.models import load_model"
   ]
  },
  {
   "cell_type": "code",
   "execution_count": 20,
   "id": "1f78af00-3400-473f-b5a9-61e329b10f4d",
   "metadata": {},
   "outputs": [],
   "source": [
    "data = np.load('/work/n1000000_0804_all_flat.npz')\n",
    "cut_index = np.load('/work/NIO_largerthan1000_index.npy')"
   ]
  },
  {
   "cell_type": "code",
   "execution_count": 14,
   "id": "cc39819c-2db0-457e-b1b5-b08fb3a3b77d",
   "metadata": {},
   "outputs": [],
   "source": [
    "tdmodels = []\n",
    "tmodels = []\n",
    "dmodels = []\n",
    "for dirname, _, filenames in os.walk('/work/ML4NO/ML/Regression/cuts/'):\n",
    "    for i, filename in enumerate(filenames):\n",
    "        if '0804' in filename:\n",
    "            if 'theta23,delta' in filename:\n",
    "                tdmodels.append(load_model(os.path.join(dirname, filename)))\n",
    "            elif 'theta23' in filename:\n",
    "                tmodels.append(load_model(os.path.join(dirname, filename)))\n",
    "            elif 'delta' in filename:\n",
    "                dmodels.append(load_model(os.path.join(dirname, filename)))"
   ]
  },
  {
   "cell_type": "code",
   "execution_count": null,
   "id": "6dce72a4-41dd-4920-9c24-b8dc270b658a",
   "metadata": {},
   "outputs": [],
   "source": [
    "x_test = data_all[900000:, cut_index]\n",
    "y_test = target[900000:]"
   ]
  },
  {
   "cell_type": "code",
   "execution_count": 15,
   "id": "7f5dce27-14f6-48f1-9e4a-9d8ea78f2421",
   "metadata": {},
   "outputs": [
    {
     "name": "stdout",
     "output_type": "stream",
     "text": [
      "0\n",
      "1\n",
      "0\n"
     ]
    }
   ],
   "source": [
    "print(len(tdmodels))\n",
    "print(len(tmodels))\n",
    "print(len(dmodels))"
   ]
  },
  {
   "cell_type": "code",
   "execution_count": 6,
   "id": "9dfa7986-fb42-4d23-9f20-274d4de8b532",
   "metadata": {},
   "outputs": [],
   "source": [
    "input_state = 2\n",
    "target = data['theta23']\n",
    "if input_state == 0:\n",
    "    data_all = data['ve_dune']\n",
    "elif input_state == 1:\n",
    "    data_all = np.column_stack([data['ve_dune'], data['vu_dune'], data['vebar_dune'], data['vubar_dune']])\n",
    "elif input_state == 2:\n",
    "    data_all = np.column_stack([data['ve_dune'], data['vu_dune'], data['vebar_dune'], data['vubar_dune'], data['ve_t2hk'], data['vu_t2hk'], data['vebar_t2hk'], data['vubar_t2hk']])\n",
    "\n",
    "x_test = data_all[900000:]\n",
    "y_test = target[900000:]"
   ]
  },
  {
   "cell_type": "code",
   "execution_count": 16,
   "id": "fd2d77c0-d481-4052-95e9-20c9bad878a4",
   "metadata": {},
   "outputs": [],
   "source": [
    "for model in tdmodels:\n",
    "#     print(model.summary())\n",
    "    print(model.evaluate(x_test, y_test))"
   ]
  },
  {
   "cell_type": "code",
   "execution_count": 21,
   "id": "1405fdec-39b3-4274-8061-6137cf2dabd0",
   "metadata": {},
   "outputs": [],
   "source": [
    "x_test = data_all[900000:, cut_index]\n",
    "y_test = data['theta23'][900000:]"
   ]
  },
  {
   "cell_type": "code",
   "execution_count": 22,
   "id": "f85f2759-0fec-46b1-9fc4-a3a8f25f3022",
   "metadata": {},
   "outputs": [
    {
     "name": "stdout",
     "output_type": "stream",
     "text": [
      "3125/3125 [==============================] - 8s 2ms/step - loss: 0.8809 - mean_squared_error: 0.8809\n",
      "[0.880949079990387, 0.880949079990387]\n"
     ]
    }
   ],
   "source": [
    "for model in tmodels:\n",
    "#     print(model.summary())\n",
    "    print(model.evaluate(x_test, y_test))"
   ]
  },
  {
   "cell_type": "code",
   "execution_count": 12,
   "id": "b3491d1b-8b4a-489a-8b4e-cb564a7ae700",
   "metadata": {},
   "outputs": [],
   "source": [
    "x_test = data_all[900000:]\n",
    "y_test = data['delta'][900000:]"
   ]
  },
  {
   "cell_type": "code",
   "execution_count": 13,
   "id": "e5726f4e-28c1-436d-a3c5-032ee5bbd111",
   "metadata": {},
   "outputs": [
    {
     "name": "stdout",
     "output_type": "stream",
     "text": [
      "3125/3125 [==============================] - 13s 4ms/step - loss: 154.5309 - mean_squared_error: 154.5309\n",
      "[154.5309295654297, 154.5309295654297]\n"
     ]
    }
   ],
   "source": [
    "for model in dmodels:\n",
    "#     print(model.summary())\n",
    "    print(model.evaluate(x_test, y_test))"
   ]
  },
  {
   "cell_type": "code",
   "execution_count": null,
   "id": "410fa158-4543-477c-9300-1603f5ff010e",
   "metadata": {},
   "outputs": [],
   "source": []
  }
 ],
 "metadata": {
  "kernelspec": {
   "display_name": "Python 3",
   "language": "python",
   "name": "python3"
  },
  "language_info": {
   "codemirror_mode": {
    "name": "ipython",
    "version": 3
   },
   "file_extension": ".py",
   "mimetype": "text/x-python",
   "name": "python",
   "nbconvert_exporter": "python",
   "pygments_lexer": "ipython3",
   "version": "3.6.9"
  }
 },
 "nbformat": 4,
 "nbformat_minor": 5
}
