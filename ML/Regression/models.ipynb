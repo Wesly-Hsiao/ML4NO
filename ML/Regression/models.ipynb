{
 "cells": [
  {
   "cell_type": "code",
   "execution_count": 1,
   "id": "f21e14a4-1151-42c1-b580-1f40bdcb1b42",
   "metadata": {},
   "outputs": [],
   "source": [
    "import numpy as np\n",
    "import pandas as pd\n",
    "import matplotlib.pyplot as plt\n",
    "import autokeras as ak\n",
    "import tensorflow as tf\n",
    "import os\n",
    "from tensorflow.keras.models import load_model"
   ]
  },
  {
   "cell_type": "code",
   "execution_count": 2,
   "id": "1f78af00-3400-473f-b5a9-61e329b10f4d",
   "metadata": {},
   "outputs": [],
   "source": [
    "data = np.load('/work/n1000000_0804_all_flat.npz')\n",
    "cut_index = np.load('/work/NIO_largerthan1000_index.npy')"
   ]
  },
  {
   "cell_type": "code",
   "execution_count": 3,
   "id": "cc39819c-2db0-457e-b1b5-b08fb3a3b77d",
   "metadata": {},
   "outputs": [],
   "source": [
    "tdmodels = []\n",
    "tmodels = []\n",
    "dmodels = []\n",
    "for dirname, _, filenames in os.walk('/work/ML4NO/ML/Regression/models_all/'):\n",
    "    for i, filename in enumerate(filenames):\n",
    "        if '0804' in filename:\n",
    "            if 'theta23,delta' in filename:\n",
    "                tdmodels.append(load_model(os.path.join(dirname, filename)))\n",
    "            elif 'theta23' in filename:\n",
    "                tmodels.append(load_model(os.path.join(dirname, filename)))\n",
    "            elif 'delta' in filename:\n",
    "                dmodels.append(load_model(os.path.join(dirname, filename)))"
   ]
  },
  {
   "cell_type": "code",
   "execution_count": 4,
   "id": "6dce72a4-41dd-4920-9c24-b8dc270b658a",
   "metadata": {},
   "outputs": [],
   "source": [
    "data_all = np.column_stack([data['ve_dune'], data['vu_dune'], data['vebar_dune'], data['vubar_dune'], data['ve_t2hk'], data['vu_t2hk'], data['vebar_t2hk'], data['vubar_t2hk']])\n",
    "target = np.column_stack([data['theta23'], data['delta']])\n",
    "x_test = data_all[900000:]\n",
    "y_test = target[900000:]"
   ]
  },
  {
   "cell_type": "code",
   "execution_count": 5,
   "id": "7f5dce27-14f6-48f1-9e4a-9d8ea78f2421",
   "metadata": {},
   "outputs": [
    {
     "name": "stdout",
     "output_type": "stream",
     "text": [
      "0\n",
      "1\n",
      "1\n"
     ]
    }
   ],
   "source": [
    "print(len(tdmodels))\n",
    "print(len(tmodels))\n",
    "print(len(dmodels))"
   ]
  },
  {
   "cell_type": "code",
   "execution_count": 9,
   "id": "9dfa7986-fb42-4d23-9f20-274d4de8b532",
   "metadata": {},
   "outputs": [],
   "source": [
    "input_state = 2\n",
    "target = data['theta23']\n",
    "\n",
    "x_test = data_all[900000:]\n",
    "y_test = target[900000:]"
   ]
  },
  {
   "cell_type": "code",
   "execution_count": 10,
   "id": "fd2d77c0-d481-4052-95e9-20c9bad878a4",
   "metadata": {},
   "outputs": [],
   "source": [
    "for model in tdmodels:\n",
    "#     print(model.summary())\n",
    "    print(model.evaluate(x_test, y_test))"
   ]
  },
  {
   "cell_type": "code",
   "execution_count": 11,
   "id": "1405fdec-39b3-4274-8061-6137cf2dabd0",
   "metadata": {},
   "outputs": [],
   "source": [
    "x_test = data_all[900000:, cut_index]\n",
    "y_test = data['theta23'][900000:]"
   ]
  },
  {
   "cell_type": "code",
   "execution_count": 13,
   "id": "f85f2759-0fec-46b1-9fc4-a3a8f25f3022",
   "metadata": {},
   "outputs": [
    {
     "name": "stdout",
     "output_type": "stream",
     "text": [
      "Model: \"functional_1\"\n",
      "_________________________________________________________________\n",
      "Layer (type)                 Output Shape              Param #   \n",
      "=================================================================\n",
      "input_1 (InputLayer)         [(None, 244)]             0         \n",
      "_________________________________________________________________\n",
      "multi_category_encoding (Mul (None, 244)               0         \n",
      "_________________________________________________________________\n",
      "normalization (Normalization (None, 244)               489       \n",
      "_________________________________________________________________\n",
      "dense (Dense)                (None, 1024)              250880    \n",
      "_________________________________________________________________\n",
      "re_lu (ReLU)                 (None, 1024)              0         \n",
      "_________________________________________________________________\n",
      "dense_1 (Dense)              (None, 32)                32800     \n",
      "_________________________________________________________________\n",
      "re_lu_1 (ReLU)               (None, 32)                0         \n",
      "_________________________________________________________________\n",
      "regression_head_1 (Dense)    (None, 1)                 33        \n",
      "=================================================================\n",
      "Total params: 284,202\n",
      "Trainable params: 283,713\n",
      "Non-trainable params: 489\n",
      "_________________________________________________________________\n",
      "None\n"
     ]
    }
   ],
   "source": [
    "for model in tmodels:\n",
    "     print(model.summary())"
   ]
  },
  {
   "cell_type": "code",
   "execution_count": 6,
   "id": "b3491d1b-8b4a-489a-8b4e-cb564a7ae700",
   "metadata": {},
   "outputs": [],
   "source": [
    "x_test = data_all[900000:]\n",
    "y_test = data['delta'][900000:]"
   ]
  },
  {
   "cell_type": "code",
   "execution_count": 50,
   "id": "e5726f4e-28c1-436d-a3c5-032ee5bbd111",
   "metadata": {},
   "outputs": [
    {
     "name": "stdout",
     "output_type": "stream",
     "text": [
      "Model: \"functional_1\"\n",
      "_________________________________________________________________\n",
      "Layer (type)                 Output Shape              Param #   \n",
      "=================================================================\n",
      "input_1 (InputLayer)         [(None, 244)]             0         \n",
      "_________________________________________________________________\n",
      "multi_category_encoding (Mul (None, 244)               0         \n",
      "_________________________________________________________________\n",
      "normalization (Normalization (None, 244)               489       \n",
      "_________________________________________________________________\n",
      "dense (Dense)                (None, 32)                7840      \n",
      "_________________________________________________________________\n",
      "re_lu (ReLU)                 (None, 32)                0         \n",
      "_________________________________________________________________\n",
      "dense_1 (Dense)              (None, 128)               4224      \n",
      "_________________________________________________________________\n",
      "re_lu_1 (ReLU)               (None, 128)               0         \n",
      "_________________________________________________________________\n",
      "regression_head_1 (Dense)    (None, 1)                 129       \n",
      "=================================================================\n",
      "Total params: 12,682\n",
      "Trainable params: 12,193\n",
      "Non-trainable params: 489\n",
      "_________________________________________________________________\n",
      "None\n"
     ]
    }
   ],
   "source": [
    "for model in dmodels:\n",
    "    print(model.summary())"
   ]
  },
  {
   "cell_type": "code",
   "execution_count": 18,
   "id": "410fa158-4543-477c-9300-1603f5ff010e",
   "metadata": {},
   "outputs": [],
   "source": [
    "from tensorflow.keras.utils import plot_model\n",
    "from IPython.display import Image\n",
    "from tensorflow import keras"
   ]
  },
  {
   "cell_type": "code",
   "execution_count": 21,
   "id": "ff0ee6cc-29e7-49ec-8d98-f24f392fcbc4",
   "metadata": {},
   "outputs": [],
   "source": [
    "import numpy as np\n",
    "import matplotlib.pyplot as plt\n",
    "import tensorflow.keras as keras\n",
    "import time\n",
    "import tensorflow as tf\n",
    "from tensorflow.keras import layers\n",
    "from tensorflow.keras.models import Model, Sequential, load_model\n",
    "from tensorflow.keras.layers import Input, Dense, Flatten, LSTM\n",
    "from tensorflow.keras.optimizers import Adam , SGD , Adagrad\n",
    "from tensorflow.keras.utils import to_categorical\n",
    "from sklearn.metrics import confusion_matrix\n",
    "from sklearn import metrics"
   ]
  },
  {
   "cell_type": "code",
   "execution_count": 48,
   "id": "0b571b93-9d0d-4341-b0d1-8f262d4d6210",
   "metadata": {},
   "outputs": [
    {
     "name": "stdout",
     "output_type": "stream",
     "text": [
      "Model: \"model_DUT2\"\n",
      "_________________________________________________________________\n",
      "Layer (type)                 Output Shape              Param #   \n",
      "=================================================================\n",
      "dune_t2hk (InputLayer)       [(None, 50)]              0         \n",
      "_________________________________________________________________\n",
      "dense1 (Dense)               (None, 128)               6528      \n",
      "_________________________________________________________________\n",
      "dense2 (Dense)               (None, 64)                8256      \n",
      "_________________________________________________________________\n",
      "theta23 (Dense)              (None, 2)                 130       \n",
      "=================================================================\n",
      "Total params: 14,914\n",
      "Trainable params: 14,914\n",
      "Non-trainable params: 0\n",
      "_________________________________________________________________\n"
     ]
    }
   ],
   "source": [
    "input_ve_dune=keras.Input(shape=(50,),name=\"dune_t2hk\")\n",
    "model.add(BatchNormalization(input_shape=input_shape))\n",
    "dense1 =layers.Dense(128,name=\"dense1\", activation='relu')(input_ve_dune)\n",
    "dense2 =layers.Dense(64,name=\"dense2\", activation='relu')(dense1)\n",
    "\n",
    "output_label =layers.Dense(2, activation='softmax',name=\"theta23\")(dense2)\n",
    "\n",
    "model_DUT2=keras.Model(inputs=[input_ve_dune], outputs=[output_label],name=\"model_DUT2\")\n",
    "model_DUT2.compile(loss='binary_crossentropy',\n",
    "           optimizer=\"adam\",\n",
    "            metrics=('accuracy'))\n",
    "model_DUT2.summary()"
   ]
  },
  {
   "cell_type": "code",
   "execution_count": 49,
   "id": "e2f1f3ea-b26d-45b1-9bdf-2145cca43b09",
   "metadata": {},
   "outputs": [
    {
     "data": {
      "image/png": "[encoded data removed]",
      "text/plain": [
       "<IPython.core.display.Image object>"
      ]
     },
     "execution_count": 49,
     "metadata": {},
     "output_type": "execute_result"
    }
   ],
   "source": [
    "plot_model(model_DUT2, 'theta23.png')"
   ]
  },
  {
   "cell_type": "code",
   "execution_count": 52,
   "id": "9e440c1c-25f2-4e65-8c72-d959a19059ce",
   "metadata": {},
   "outputs": [
    {
     "ename": "NameError",
     "evalue": "name 'BatchNormalization' is not defined",
     "output_type": "error",
     "traceback": [
      "\u001b[0;31m---------------------------------------------------------------------------\u001b[0m",
      "\u001b[0;31mNameError\u001b[0m                                 Traceback (most recent call last)",
      "\u001b[0;32m<ipython-input-52-d1e2ca24671f>\u001b[0m in \u001b[0;36m<module>\u001b[0;34m\u001b[0m\n\u001b[1;32m      1\u001b[0m \u001b[0minput_shape\u001b[0m \u001b[0;34m=\u001b[0m \u001b[0;34m(\u001b[0m\u001b[0;36m50\u001b[0m\u001b[0;34m,\u001b[0m\u001b[0;34m)\u001b[0m\u001b[0;34m\u001b[0m\u001b[0;34m\u001b[0m\u001b[0m\n\u001b[1;32m      2\u001b[0m \u001b[0mmodel\u001b[0m \u001b[0;34m=\u001b[0m \u001b[0mSequential\u001b[0m\u001b[0;34m(\u001b[0m\u001b[0mname\u001b[0m \u001b[0;34m=\u001b[0m \u001b[0;34m'Sequential'\u001b[0m\u001b[0;34m)\u001b[0m\u001b[0;34m\u001b[0m\u001b[0;34m\u001b[0m\u001b[0m\n\u001b[0;32m----> 3\u001b[0;31m \u001b[0mmodel\u001b[0m\u001b[0;34m.\u001b[0m\u001b[0madd\u001b[0m\u001b[0;34m(\u001b[0m\u001b[0mBatchNormalization\u001b[0m\u001b[0;34m(\u001b[0m\u001b[0minput_shape\u001b[0m\u001b[0;34m=\u001b[0m\u001b[0minput_shape\u001b[0m\u001b[0;34m)\u001b[0m\u001b[0;34m)\u001b[0m\u001b[0;34m\u001b[0m\u001b[0;34m\u001b[0m\u001b[0m\n\u001b[0m\u001b[1;32m      4\u001b[0m \u001b[0mmodel\u001b[0m\u001b[0;34m.\u001b[0m\u001b[0madd\u001b[0m\u001b[0;34m(\u001b[0m\u001b[0mDense\u001b[0m\u001b[0;34m(\u001b[0m\u001b[0;36m32\u001b[0m\u001b[0;34m,\u001b[0m \u001b[0mactivation\u001b[0m\u001b[0;34m=\u001b[0m\u001b[0;34m'relu'\u001b[0m\u001b[0;34m,\u001b[0m \u001b[0mname\u001b[0m \u001b[0;34m=\u001b[0m \u001b[0;34m'dense_1'\u001b[0m\u001b[0;34m)\u001b[0m\u001b[0;34m)\u001b[0m\u001b[0;34m\u001b[0m\u001b[0;34m\u001b[0m\u001b[0m\n\u001b[1;32m      5\u001b[0m \u001b[0mmodel\u001b[0m\u001b[0;34m.\u001b[0m\u001b[0madd\u001b[0m\u001b[0;34m(\u001b[0m\u001b[0mDense\u001b[0m\u001b[0;34m(\u001b[0m\u001b[0;36m128\u001b[0m\u001b[0;34m,\u001b[0m \u001b[0mactivation\u001b[0m\u001b[0;34m=\u001b[0m\u001b[0;34m'relu'\u001b[0m\u001b[0;34m,\u001b[0m \u001b[0mname\u001b[0m \u001b[0;34m=\u001b[0m \u001b[0;34m'dense_2'\u001b[0m\u001b[0;34m)\u001b[0m\u001b[0;34m)\u001b[0m\u001b[0;34m\u001b[0m\u001b[0;34m\u001b[0m\u001b[0m\n",
      "\u001b[0;31mNameError\u001b[0m: name 'BatchNormalization' is not defined"
     ]
    }
   ],
   "source": [
    "input_shape = (50,)\n",
    "model = Sequential(name = 'Sequential')\n",
    "model.add(BatchNormalization(input_shape=input_shape))\n",
    "model.add(Dense(32, activation='relu', name = 'dense_1'))\n",
    "model.add(Dense(128, activation='relu', name = 'dense_2'))\n",
    "model.add(Dense(1, activation='sigmoid', name = 'dense_3'))\n",
    "model_opt = keras.optimizers.Adadelta()\n",
    "model.compile(loss=\"mean_squared_error\",\n",
    "                   optimizer=model_opt,\n",
    "                   metrics=[\"mse\"])\n",
    "model.summary()"
   ]
  },
  {
   "cell_type": "code",
   "execution_count": null,
   "id": "e5fee8ae-aeed-40c8-b907-3c9edd955eb8",
   "metadata": {},
   "outputs": [],
   "source": []
  },
  {
   "cell_type": "code",
   "execution_count": null,
   "id": "a444b2c9-d418-45e8-b505-d2cbe866ec77",
   "metadata": {},
   "outputs": [],
   "source": []
  }
 ],
 "metadata": {
  "kernelspec": {
   "display_name": "Python 3",
   "language": "python",
   "name": "python3"
  },
  "language_info": {
   "codemirror_mode": {
    "name": "ipython",
    "version": 3
   },
   "file_extension": ".py",
   "mimetype": "text/x-python",
   "name": "python",
   "nbconvert_exporter": "python",
   "pygments_lexer": "ipython3",
   "version": "3.6.9"
  }
 },
 "nbformat": 4,
 "nbformat_minor": 5
}
