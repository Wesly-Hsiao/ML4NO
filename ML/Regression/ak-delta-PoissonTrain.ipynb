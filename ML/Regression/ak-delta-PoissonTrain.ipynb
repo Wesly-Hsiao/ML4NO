{
 "cells": [
  {
   "cell_type": "code",
   "execution_count": 1,
   "metadata": {
    "tags": []
   },
   "outputs": [],
   "source": [
    "import numpy as np\n",
    "import matplotlib.pyplot as plt\n",
    "import autokeras as ak\n",
    "import tensorflow as tf\n",
    "import os"
   ]
  },
  {
   "cell_type": "code",
   "execution_count": 2,
   "metadata": {
    "tags": []
   },
   "outputs": [
    {
     "name": "stdout",
     "output_type": "stream",
     "text": [
      "Model: \"functional_1\"\n",
      "_________________________________________________________________\n",
      "Layer (type)                 Output Shape              Param #   \n",
      "=================================================================\n",
      "input_1 (InputLayer)         [(None, 244)]             0         \n",
      "_________________________________________________________________\n",
      "multi_category_encoding (Mul (None, 244)               0         \n",
      "_________________________________________________________________\n",
      "normalization (Normalization (None, 244)               489       \n",
      "_________________________________________________________________\n",
      "dense (Dense)                (None, 32)                7840      \n",
      "_________________________________________________________________\n",
      "re_lu (ReLU)                 (None, 32)                0         \n",
      "_________________________________________________________________\n",
      "dense_1 (Dense)              (None, 128)               4224      \n",
      "_________________________________________________________________\n",
      "re_lu_1 (ReLU)               (None, 128)               0         \n",
      "_________________________________________________________________\n",
      "regression_head_1 (Dense)    (None, 1)                 129       \n",
      "=================================================================\n",
      "Total params: 12,682\n",
      "Trainable params: 12,193\n",
      "Non-trainable params: 489\n",
      "_________________________________________________________________\n"
     ]
    }
   ],
   "source": [
    "data = np.load('/home/ML4NO/Data/n1000000_0804_all_flat.npz')\n",
<<<<<<< HEAD
    "model = tf.keras.models.load_model('/home/ML4NO/ML/Regression/models_furthurTrain/0804_delta_5.h5')\n",
=======
    "model = tf.keras.models.load_model('/home/ML4NO/ML/Regression/models_furthurTrain/0804_delta_4.h5')\n",
>>>>>>> e1adf89c0bf7950f6a6540a1a2975aea111f02fd
    "model.summary()"
   ]
  },
  {
   "cell_type": "code",
<<<<<<< HEAD
   "execution_count": 12,
   "metadata": {},
   "outputs": [],
   "source": [
    "tensorboard_callback = keras.callbacks.TensorBoard(\n",
    "    log_dir='tb_callback_dir', histogram_freq=1,\n",
    ")"
   ]
  },
  {
   "cell_type": "code",
   "execution_count": 14,
=======
   "execution_count": 3,
>>>>>>> e1adf89c0bf7950f6a6540a1a2975aea111f02fd
   "metadata": {
    "tags": []
   },
   "outputs": [],
   "source": [
    "data_all = np.column_stack([data['ve_dune'], data['vu_dune'], data['vebar_dune'], data['vubar_dune'], data['ve_t2hk'], data['vu_t2hk'], data['vebar_t2hk'], data['vubar_t2hk']])\n",
    "target = data['delta']\n",
<<<<<<< HEAD
=======
    "generate = 1\n",
>>>>>>> e1adf89c0bf7950f6a6540a1a2975aea111f02fd
    "\n",
    "x_train = data_all[:10000]\n",
    "y_train = target[:10000]\n",
    "x_train2 = data_all[10000:900000]\n",
    "y_train2 = target[10000:900000]\n",
    "x_test = data_all[900000:]\n",
<<<<<<< HEAD
    "y_test = target[900000:]"
=======
    "y_test = target[900000:]\n",
    "num_of_bins = len(x_train[0])"
   ]
  },
  {
   "cell_type": "code",
   "execution_count": 4,
   "metadata": {},
   "outputs": [],
   "source": [
    "def generator(data, target):\n",
    "    yield (np.random.poisson(data), target)"
>>>>>>> e1adf89c0bf7950f6a6540a1a2975aea111f02fd
   ]
  },
  {
   "cell_type": "code",
<<<<<<< HEAD
   "execution_count": 17,
   "metadata": {},
   "outputs": [
    {
     "ename": "NameError",
     "evalue": "name 'tensorflow_callback' is not defined",
     "output_type": "error",
     "traceback": [
      "\u001b[0;31m---------------------------------------------------------------------------\u001b[0m",
      "\u001b[0;31mNameError\u001b[0m                                 Traceback (most recent call last)",
      "\u001b[0;32m<ipython-input-17-7bd9974ff9d5>\u001b[0m in \u001b[0;36m<module>\u001b[0;34m\u001b[0m\n\u001b[1;32m      6\u001b[0m     model.fit(x_train2_gen, y_train2,\n\u001b[1;32m      7\u001b[0m               \u001b[0mvalidation_split\u001b[0m\u001b[0;34m=\u001b[0m\u001b[0;36m0.1\u001b[0m\u001b[0;34m,\u001b[0m\u001b[0;34m\u001b[0m\u001b[0;34m\u001b[0m\u001b[0m\n\u001b[0;32m----> 8\u001b[0;31m               \u001b[0mcallbacks\u001b[0m\u001b[0;34m=\u001b[0m\u001b[0;34m[\u001b[0m\u001b[0mtensorflow_callback\u001b[0m\u001b[0;34m]\u001b[0m\u001b[0;34m,\u001b[0m\u001b[0;34m\u001b[0m\u001b[0;34m\u001b[0m\u001b[0m\n\u001b[0m\u001b[1;32m      9\u001b[0m                \u001b[0mbatch_size\u001b[0m\u001b[0;34m=\u001b[0m\u001b[0;36m64\u001b[0m\u001b[0;34m,\u001b[0m\u001b[0;34m\u001b[0m\u001b[0;34m\u001b[0m\u001b[0m\n\u001b[1;32m     10\u001b[0m                \u001b[0mepochs\u001b[0m\u001b[0;34m=\u001b[0m\u001b[0;36m2\u001b[0m\u001b[0;34m,\u001b[0m\u001b[0;34m\u001b[0m\u001b[0;34m\u001b[0m\u001b[0m\n",
      "\u001b[0;31mNameError\u001b[0m: name 'tensorflow_callback' is not defined"
=======
   "execution_count": null,
   "metadata": {},
   "outputs": [
    {
     "name": "stdout",
     "output_type": "stream",
     "text": [
      "3125/3125 [==============================] - 31s 9ms/step - loss: 1086.9489 - mean_squared_error: 1086.9489\n",
      "Epoch 1/20\n",
      "12516/12516 [==============================] - 174s 14ms/step - loss: 1066.0059 - mean_squared_error: 1066.0059 - val_loss: 1075.3168 - val_mean_squared_error: 1075.3168\n",
      "Epoch 2/20\n",
      "12516/12516 [==============================] - 175s 14ms/step - loss: 1033.6274 - mean_squared_error: 1033.6274 - val_loss: 1034.9139 - val_mean_squared_error: 1034.9139\n",
      "Epoch 3/20\n",
      "12516/12516 [==============================] - 176s 14ms/step - loss: 1009.9509 - mean_squared_error: 1009.9509 - val_loss: 1071.3735 - val_mean_squared_error: 1071.3735\n",
      "Epoch 4/20\n",
      "12516/12516 [==============================] - 175s 14ms/step - loss: 990.8594 - mean_squared_error: 990.8594 - val_loss: 1036.8296 - val_mean_squared_error: 1036.8296\n",
      "Epoch 5/20\n",
      "12516/12516 [==============================] - 172s 14ms/step - loss: 978.2693 - mean_squared_error: 978.2693 - val_loss: 1052.1967 - val_mean_squared_error: 1052.1967\n",
      "Epoch 6/20\n",
      "12516/12516 [==============================] - 175s 14ms/step - loss: 961.3300 - mean_squared_error: 961.3300 - val_loss: 1067.1748 - val_mean_squared_error: 1067.1748\n",
      "Epoch 7/20\n",
      " 5715/12516 [============>.................] - ETA: 1:25 - loss: 956.9302 - mean_squared_error: 956.9302"
>>>>>>> e1adf89c0bf7950f6a6540a1a2975aea111f02fd
     ]
    }
   ],
   "source": [
<<<<<<< HEAD
    "x_test2_gen = np.random.poisson(x_test)\n",
    "\n",
    "for i in range(10):\n",
    "    x_train2_gen = np.random.poisson(x_train2)\n",
    "    \n",
    "    model.fit(x_train2_gen, y_train2,\n",
    "              validation_split=0.1,\n",
    "               batch_size=64,\n",
    "               epochs=1,\n",
    "               verbose=1,\n",
    "               shuffle = True\n",
    "             )\n",
    "model.evaluate(x_test2_gen, y_test)"
=======
    "model.evaluate(generator(x_test, y_test))\n",
    "\n",
    "model.fit(generator(x_train2, y_train2),\n",
    "           batch_size=64,\n",
    "           epochs=20,\n",
    "           verbose=1,\n",
    "           shuffle = True\n",
    "         )\n",
    "\n",
    "model.evaluate(generator(x_test, y_test))"
>>>>>>> e1adf89c0bf7950f6a6540a1a2975aea111f02fd
   ]
  },
  {
   "cell_type": "code",
<<<<<<< HEAD
   "execution_count": 5,
   "metadata": {},
   "outputs": [],
   "source": [
    "modelname = '/home/ML4NO/ML/Regression/models_PoissonTrain/0804_delta_5_1.h5'\n",
=======
   "execution_count": null,
   "metadata": {},
   "outputs": [],
   "source": [
    "modelname = '/home/ML4NO/ML/Regression/models_PoissonTrain/0804_delta_4_0.h5'\n",
>>>>>>> e1adf89c0bf7950f6a6540a1a2975aea111f02fd
    "if not os.path.isfile(modelname):\n",
    "    model.save(modelname)"
   ]
  },
  {
   "cell_type": "code",
   "execution_count": null,
   "metadata": {},
   "outputs": [],
   "source": []
  }
 ],
 "metadata": {
  "kernelspec": {
   "display_name": "Python 3",
   "language": "python",
   "name": "python3"
  },
  "language_info": {
   "codemirror_mode": {
    "name": "ipython",
    "version": 3
   },
   "file_extension": ".py",
   "mimetype": "text/x-python",
   "name": "python",
   "nbconvert_exporter": "python",
   "pygments_lexer": "ipython3",
   "version": "3.6.9"
  }
 },
 "nbformat": 4,
 "nbformat_minor": 4
}
