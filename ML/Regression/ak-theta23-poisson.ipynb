{
 "cells": [
  {
   "cell_type": "code",
   "execution_count": 1,
   "metadata": {
    "tags": []
   },
   "outputs": [],
   "source": [
    "import numpy as np\n",
    "import pandas as pd\n",
    "import matplotlib.pyplot as plt\n",
    "import autokeras as ak\n",
    "import os\n",
    "import tensorflow as tf"
   ]
  },
  {
   "cell_type": "code",
   "execution_count": 2,
   "metadata": {
    "tags": []
   },
   "outputs": [],
   "source": [
    "data = np.load('/work/n1000000_0804_all_flat.npz')"
   ]
  },
  {
   "cell_type": "code",
   "execution_count": 3,
   "metadata": {
    "tags": []
   },
   "outputs": [],
   "source": [
    "input_state = 2\n",
    "target = data['theta23']\n",
    "if input_state == 0:\n",
    "    data_all = data['ve_dune']\n",
    "elif input_state == 1:\n",
    "    data_all = np.column_stack([data['ve_dune'], data['vu_dune'], data['vebar_dune'], data['vubar_dune']])\n",
    "elif input_state == 2:\n",
    "    data_all = np.column_stack([data['ve_dune'], data['vu_dune'], data['vebar_dune'], data['vubar_dune'], data['ve_t2hk'], data['vu_t2hk'], data['vebar_t2hk'], data['vubar_t2hk']])\n",
    "\n",
    "x_train = data_all[:1000]\n",
    "y_train = target[:1000]\n",
    "x_train2 = data_all[1000:900000]\n",
    "y_train2 = target[1000:900000]\n",
    "x_test = data_all[900000:]\n",
    "y_test = target[900000:]"
   ]
  },
  {
   "cell_type": "code",
   "execution_count": 4,
   "metadata": {},
   "outputs": [],
   "source": [
    "generate = 10\n",
    "x_train = np.reshape(np.random.poisson(x_train, size = (generate, len(x_train), 244)), (generate*len(x_train), 244))\n",
    "y_train = np.repeat(y_train, generate)"
   ]
  },
  {
   "cell_type": "code",
   "execution_count": null,
   "metadata": {
    "tags": []
   },
   "outputs": [
    {
     "name": "stdout",
     "output_type": "stream",
     "text": [
      "Trial 21 Complete [00h 01m 30s]\n",
      "val_loss: 15.230931282043457\n",
      "\n",
      "Best val_loss So Far: 14.753811836242676\n",
      "Total elapsed time: 00h 27m 22s\n",
      "\n",
      "Search: Running Trial #22\n",
      "\n",
      "Hyperparameter    |Value             |Best Value So Far \n",
      "structured_data...|True              |True              \n",
      "structured_data...|True              |True              \n",
      "structured_data...|3                 |3                 \n",
      "structured_data...|32                |32                \n",
      "structured_data...|0                 |0                 \n",
      "structured_data...|1024              |32                \n",
      "regression_head...|0                 |0                 \n",
      "optimizer         |adam              |adam              \n",
      "learning_rate     |0.001             |0.001             \n",
      "structured_data...|32                |32                \n",
      "\n",
      "Epoch 1/20\n",
      "142/142 [==============================] - 4s 25ms/step - loss: 1869.1653 - mean_squared_error: 1869.1653 - val_loss: 1863.1176 - val_mean_squared_error: 1863.1176\n",
      "Epoch 2/20\n",
      "142/142 [==============================] - 2s 14ms/step - loss: 1540.0195 - mean_squared_error: 1540.0195 - val_loss: 1544.0300 - val_mean_squared_error: 1544.0300\n",
      "Epoch 3/20\n",
      "142/142 [==============================] - 2s 14ms/step - loss: 1186.1982 - mean_squared_error: 1186.1982 - val_loss: 1103.3285 - val_mean_squared_error: 1103.3285\n",
      "Epoch 4/20\n",
      "142/142 [==============================] - 2s 14ms/step - loss: 814.4955 - mean_squared_error: 814.4955 - val_loss: 710.1156 - val_mean_squared_error: 710.1156\n",
      "Epoch 5/20\n",
      "142/142 [==============================] - 2s 14ms/step - loss: 476.0038 - mean_squared_error: 476.0038 - val_loss: 323.1038 - val_mean_squared_error: 323.1038\n",
      "Epoch 6/20\n",
      "142/142 [==============================] - 2s 14ms/step - loss: 224.9934 - mean_squared_error: 224.9934 - val_loss: 124.0728 - val_mean_squared_error: 124.0728\n",
      "Epoch 7/20\n",
      "142/142 [==============================] - 2s 14ms/step - loss: 88.3681 - mean_squared_error: 88.3681 - val_loss: 51.8682 - val_mean_squared_error: 51.8682\n",
      "Epoch 8/20\n",
      "142/142 [==============================] - 2s 14ms/step - loss: 33.8431 - mean_squared_error: 33.8431 - val_loss: 28.1218 - val_mean_squared_error: 28.1218\n",
      "Epoch 9/20\n",
      "142/142 [==============================] - 2s 14ms/step - loss: 17.5819 - mean_squared_error: 17.5819 - val_loss: 20.5164 - val_mean_squared_error: 20.5164\n",
      "Epoch 10/20\n",
      "142/142 [==============================] - 2s 14ms/step - loss: 13.7794 - mean_squared_error: 13.7794 - val_loss: 17.0371 - val_mean_squared_error: 17.0371\n",
      "Epoch 11/20\n",
      "142/142 [==============================] - 2s 14ms/step - loss: 12.1958 - mean_squared_error: 12.1958 - val_loss: 16.0582 - val_mean_squared_error: 16.0582\n",
      "Epoch 12/20\n",
      "142/142 [==============================] - 2s 14ms/step - loss: 11.5720 - mean_squared_error: 11.5720 - val_loss: 15.2560 - val_mean_squared_error: 15.2560\n",
      "Epoch 13/20\n",
      "142/142 [==============================] - 2s 14ms/step - loss: 11.0869 - mean_squared_error: 11.0869 - val_loss: 15.6651 - val_mean_squared_error: 15.6651\n",
      "Epoch 14/20\n",
      "142/142 [==============================] - 2s 14ms/step - loss: 10.6185 - mean_squared_error: 10.6185 - val_loss: 16.5012 - val_mean_squared_error: 16.5012\n",
      "Epoch 15/20\n",
      "142/142 [==============================] - 2s 14ms/step - loss: 10.2496 - mean_squared_error: 10.2496 - val_loss: 16.9776 - val_mean_squared_error: 16.9776\n",
      "Epoch 16/20\n",
      "142/142 [==============================] - 2s 14ms/step - loss: 9.9324 - mean_squared_error: 9.9324 - val_loss: 16.8861 - val_mean_squared_error: 16.8861\n",
      "Epoch 17/20\n",
      " 67/142 [=============>................] - ETA: 0s - loss: 9.5634 - mean_squared_error: 9.5634"
     ]
    },
    {
     "name": "stderr",
     "output_type": "stream",
     "text": [
      "IOPub message rate exceeded.\n",
      "The Jupyter server will temporarily stop sending output\n",
      "to the client in order to avoid crashing it.\n",
      "To change this limit, set the config variable\n",
      "`--ServerApp.iopub_msg_rate_limit`.\n",
      "\n",
      "Current values:\n",
      "ServerApp.iopub_msg_rate_limit=1000.0 (msgs/sec)\n",
      "ServerApp.rate_limit_window=3.0 (secs)\n",
      "\n"
     ]
    },
    {
     "name": "stdout",
     "output_type": "stream",
     "text": [
      "Epoch 1/20\n",
      "157/157 [==============================] - 1s 8ms/step - loss: 1945.9170 - mean_squared_error: 1945.9170\n",
      "Epoch 2/20\n",
      "157/157 [==============================] - 1s 8ms/step - loss: 1593.5920 - mean_squared_error: 1593.5920\n",
      "Epoch 3/20\n",
      "157/157 [==============================] - 1s 8ms/step - loss: 1127.6869 - mean_squared_error: 1127.6869\n",
      "Epoch 4/20\n",
      "157/157 [==============================] - 1s 8ms/step - loss: 660.5319 - mean_squared_error: 660.5319\n",
      "Epoch 5/20\n",
      "157/157 [==============================] - 1s 8ms/step - loss: 302.8840 - mean_squared_error: 302.8840\n",
      "Epoch 6/20\n",
      "157/157 [==============================] - 1s 8ms/step - loss: 107.4898 - mean_squared_error: 107.4898\n",
      "Epoch 7/20\n",
      "157/157 [==============================] - 1s 8ms/step - loss: 35.2368 - mean_squared_error: 35.2368\n",
      "Epoch 8/20\n",
      "157/157 [==============================] - 1s 8ms/step - loss: 17.3579 - mean_squared_error: 17.3579\n",
      "Epoch 9/20\n",
      "157/157 [==============================] - 1s 8ms/step - loss: 13.8105 - mean_squared_error: 13.8105\n",
      "Epoch 10/20\n",
      "157/157 [==============================] - 1s 8ms/step - loss: 12.8261 - mean_squared_error: 12.8261\n",
      "Epoch 11/20\n",
      "157/157 [==============================] - 1s 8ms/step - loss: 12.2578 - mean_squared_error: 12.2578\n",
      "Epoch 12/20\n",
      "157/157 [==============================] - 1s 8ms/step - loss: 11.7862 - mean_squared_error: 11.7862\n",
      "Epoch 13/20\n",
      "157/157 [==============================] - 1s 8ms/step - loss: 11.3569 - mean_squared_error: 11.3569\n",
      "Epoch 14/20\n",
      "157/157 [==============================] - 1s 8ms/step - loss: 10.9703 - mean_squared_error: 10.9703\n",
      "Epoch 15/20\n",
      "157/157 [==============================] - 1s 8ms/step - loss: 10.5807 - mean_squared_error: 10.5807\n",
      "Epoch 16/20\n",
      "157/157 [==============================] - 1s 8ms/step - loss: 10.2340 - mean_squared_error: 10.2340\n",
      "Epoch 17/20\n",
      "157/157 [==============================] - 1s 8ms/step - loss: 9.8917 - mean_squared_error: 9.8917\n",
      "Epoch 18/20\n",
      "157/157 [==============================] - 1s 8ms/step - loss: 9.5646 - mean_squared_error: 9.5646\n",
      "Epoch 19/20\n",
      "157/157 [==============================] - 1s 8ms/step - loss: 9.2389 - mean_squared_error: 9.2389\n",
      "Epoch 20/20\n",
      "157/157 [==============================] - 1s 8ms/step - loss: 8.9444 - mean_squared_error: 8.9444\n",
      "WARNING:tensorflow:From /usr/local/lib/python3.6/dist-packages/tensorflow/python/training/tracking/tracking.py:111: Model.state_updates (from tensorflow.python.keras.engine.training) is deprecated and will be removed in a future version.\n",
      "Instructions for updating:\n",
      "This property should not be used in TensorFlow 2.0, as updates are applied automatically.\n",
      "WARNING:tensorflow:From /usr/local/lib/python3.6/dist-packages/tensorflow/python/training/tracking/tracking.py:111: Layer.updates (from tensorflow.python.keras.engine.base_layer) is deprecated and will be removed in a future version.\n",
      "Instructions for updating:\n",
      "This property should not be used in TensorFlow 2.0, as updates are applied automatically.\n"
     ]
    }
   ],
   "source": [
    "clf = ak.StructuredDataRegressor(overwrite=True, max_trials=50)\n",
    "clf.fit(x_train, y_train,\n",
    "           validation_split = 0.1,\n",
    "           batch_size=64,\n",
    "           epochs=20,\n",
    "           verbose=1,\n",
    "           shuffle = True\n",
    "       )"
   ]
  },
  {
   "cell_type": "code",
   "execution_count": null,
   "metadata": {
    "tags": []
   },
   "outputs": [],
   "source": [
    "model = clf.export_model()\n",
    "model.summary()"
   ]
  },
  {
   "cell_type": "code",
   "execution_count": null,
   "metadata": {
    "tags": []
   },
   "outputs": [],
   "source": [
    "model.fit(x_train2, y_train2,\n",
    "           validation_split = 0.1,\n",
    "           batch_size=64,\n",
    "           epochs=20,\n",
    "           verbose=1,\n",
    "           shuffle = True\n",
    "         )"
   ]
  },
  {
   "cell_type": "code",
   "execution_count": null,
   "metadata": {
    "tags": []
   },
   "outputs": [],
   "source": [
    "model.evaluate(x_test, y_test)\n",
    "pre_test = model.predict(x_test)"
   ]
  },
  {
   "cell_type": "code",
   "execution_count": null,
   "metadata": {
    "tags": []
   },
   "outputs": [],
   "source": [
    "plt.hist(pre_test, histtype = 'step', bins = 100, label = 'prediction')\n",
    "plt.hist(y_test, histtype = 'step', bins = 100, label = 'target')\n",
    "plt.xlabel('theta23')\n",
    "plt.ylabel('number')\n",
    "plt.legend()\n",
    "plt.show()"
   ]
  },
  {
   "cell_type": "code",
   "execution_count": null,
   "metadata": {
    "tags": []
   },
   "outputs": [],
   "source": [
    "plt.figure(figsize=(7,7))\n",
    "plt.plot(pre_test, y_test, '.', alpha = 0.05)\n",
    "plt.xlabel('prediction')\n",
    "plt.ylabel('target')\n",
    "plt.title('theta23')"
   ]
  },
  {
   "cell_type": "code",
   "execution_count": null,
   "metadata": {
    "tags": []
   },
   "outputs": [],
   "source": [
    "if input_state == 0:\n",
    "    modelname = '/work/Regression/models_ve_dune/0803_theta23_1.h5'\n",
    "    if not os.path.isfile(modelname):\n",
    "        model.save(modelname)\n",
    "elif input_state == 1:\n",
    "    modelname = '/work/Regression/models_all_dune/0803_theta23_1.h5'\n",
    "    if not os.path.isfile(modelname):\n",
    "        model.save(modelname)\n",
    "elif input_state == 2:\n",
    "    modelname = '/work/Regression/models_all/0804_theta23_1.h5'\n",
    "    if not os.path.isfile(modelname):\n",
    "        model.save(modelname)"
   ]
  },
  {
   "cell_type": "code",
   "execution_count": null,
   "metadata": {},
   "outputs": [],
   "source": []
  }
 ],
 "metadata": {
  "kernelspec": {
   "display_name": "Python 3",
   "language": "python",
   "name": "python3"
  },
  "language_info": {
   "codemirror_mode": {
    "name": "ipython",
    "version": 3
   },
   "file_extension": ".py",
   "mimetype": "text/x-python",
   "name": "python",
   "nbconvert_exporter": "python",
   "pygments_lexer": "ipython3",
   "version": "3.6.9"
  }
 },
 "nbformat": 4,
 "nbformat_minor": 4
}
