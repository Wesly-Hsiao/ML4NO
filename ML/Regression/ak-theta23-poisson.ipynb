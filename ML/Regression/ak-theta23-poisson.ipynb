{
 "cells": [
  {
   "cell_type": "code",
   "execution_count": 1,
   "metadata": {
    "tags": []
   },
   "outputs": [],
   "source": [
    "import numpy as np\n",
    "import pandas as pd\n",
    "import matplotlib.pyplot as plt\n",
    "import autokeras as ak\n",
    "import os\n",
    "import tensorflow as tf\n",
    "import time"
   ]
  },
  {
   "cell_type": "code",
   "execution_count": 2,
   "metadata": {
    "tags": []
   },
   "outputs": [],
   "source": [
    "data = np.load('/work/n1000000_0804_all_flat.npz')\n",
    "cut_index = np.load('/work/NIO_largerthan1000_index.npy')"
   ]
  },
  {
   "cell_type": "code",
   "execution_count": 3,
   "metadata": {
    "tags": []
   },
   "outputs": [],
   "source": [
    "input_state = 2\n",
    "target = data['theta23']\n",
    "if input_state == 0:\n",
    "    data_all = data['ve_dune']\n",
    "elif input_state == 1:\n",
    "    data_all = np.column_stack([data['ve_dune'], data['vu_dune'], data['vebar_dune'], data['vubar_dune']])\n",
    "elif input_state == 2:\n",
    "    data_all = np.column_stack([data['ve_dune'], data['vu_dune'], data['vebar_dune'], data['vubar_dune'], data['ve_t2hk'], data['vu_t2hk'], data['vebar_t2hk'], data['vubar_t2hk']])\n",
    "\n",
    "x_train = data_all[:10000, cut_index]\n",
    "y_train = target[:10000]\n",
    "x_train2 = data_all[10000:900000, cut_index]\n",
    "y_train2 = target[10000:900000]\n",
    "x_test = data_all[900000:, cut_index]\n",
    "y_test = target[900000:]"
   ]
  },
  {
   "cell_type": "code",
   "execution_count": 4,
   "metadata": {},
   "outputs": [],
   "source": [
    "generate = 10\n",
    "num_of_bins = len(x_train[0])\n",
    "scale = 0.1\n",
    "\n",
    "x_train_gen = np.reshape(np.random.normal(x_train, np.sqrt(x_train)*scale, size = (generate, len(x_train), num_of_bins)), (generate*len(x_train), num_of_bins))\n",
    "y_train_gen = np.repeat(y_train, generate)\n",
    "x_train2_gen = np.reshape(np.random.normal(x_train2, np.sqrt(x_train2)*scale, size = (generate, len(x_train2), num_of_bins)), (generate*len(x_train2), num_of_bins))\n",
    "y_train2_gen = np.repeat(y_train2, generate)\n",
    "x_test_gen = np.reshape(np.random.normal(x_test, np.sqrt(x_test)*scale, size = (generate, len(x_test), num_of_bins)), (generate*len(x_test), num_of_bins))\n",
    "y_test_gen = np.repeat(y_test, generate)"
   ]
  },
  {
   "cell_type": "code",
   "execution_count": 5,
   "metadata": {
    "tags": []
   },
   "outputs": [
    {
     "name": "stdout",
     "output_type": "stream",
     "text": [
      "Trial 1 Complete [00h 00m 07s]\n",
      "val_loss: 20.77654266357422\n",
      "\n",
      "Best val_loss So Far: 20.77654266357422\n",
      "Total elapsed time: 00h 00m 07s\n",
      "INFO:tensorflow:Oracle triggered exit\n",
      "WARNING:tensorflow:Layer multi_category_encoding is casting an input tensor from dtype float64 to the layer's dtype of float32, which is new behavior in TensorFlow 2.  The layer has dtype float32 because its dtype defaults to floatx.\n",
      "\n",
      "If you intended to run this layer in float32, you can safely ignore this warning. If in doubt, this warning is likely only an issue if you are porting a TensorFlow 1.X model to TensorFlow 2.\n",
      "\n",
      "To change all layers to have dtype float64 by default, call `tf.keras.backend.set_floatx('float64')`. To change just this layer, pass dtype='float64' to the layer constructor. If you are the author of this layer, you can disable autocasting by passing autocast=False to the base Layer constructor.\n",
      "\n",
      "1563/1563 [==============================] - 4s 3ms/step - loss: 177.5945 - mean_squared_error: 177.5945\n",
      "WARNING:tensorflow:From /usr/local/lib/python3.6/dist-packages/tensorflow/python/training/tracking/tracking.py:111: Model.state_updates (from tensorflow.python.keras.engine.training) is deprecated and will be removed in a future version.\n",
      "Instructions for updating:\n",
      "This property should not be used in TensorFlow 2.0, as updates are applied automatically.\n",
      "WARNING:tensorflow:From /usr/local/lib/python3.6/dist-packages/tensorflow/python/training/tracking/tracking.py:111: Layer.updates (from tensorflow.python.keras.engine.base_layer) is deprecated and will be removed in a future version.\n",
      "Instructions for updating:\n",
      "This property should not be used in TensorFlow 2.0, as updates are applied automatically.\n",
      "INFO:tensorflow:Assets written to: ./structured_data_regressor/best_model/assets\n"
     ]
    }
   ],
   "source": [
    "clf = ak.StructuredDataRegressor(overwrite=True, max_trials=50)\n",
    "clf.fit(x_train_gen, y_train_gen,\n",
    "           validation_split = 0.1,\n",
    "           batch_size=64,\n",
    "           epochs=20,\n",
    "           verbose=1,\n",
    "           shuffle = True\n",
    "       )"
   ]
  },
  {
   "cell_type": "code",
   "execution_count": 6,
   "metadata": {
    "tags": []
   },
   "outputs": [
    {
     "name": "stdout",
     "output_type": "stream",
     "text": [
      "Model: \"functional_1\"\n",
      "_________________________________________________________________\n",
      "Layer (type)                 Output Shape              Param #   \n",
      "=================================================================\n",
      "input_1 (InputLayer)         [(None, 17)]              0         \n",
      "_________________________________________________________________\n",
      "multi_category_encoding (Mul (None, 17)                0         \n",
      "_________________________________________________________________\n",
      "normalization (Normalization (None, 17)                35        \n",
      "_________________________________________________________________\n",
      "dense (Dense)                (None, 32)                576       \n",
      "_________________________________________________________________\n",
      "re_lu (ReLU)                 (None, 32)                0         \n",
      "_________________________________________________________________\n",
      "dense_1 (Dense)              (None, 32)                1056      \n",
      "_________________________________________________________________\n",
      "re_lu_1 (ReLU)               (None, 32)                0         \n",
      "_________________________________________________________________\n",
      "regression_head_1 (Dense)    (None, 1)                 33        \n",
      "=================================================================\n",
      "Total params: 1,700\n",
      "Trainable params: 1,665\n",
      "Non-trainable params: 35\n",
      "_________________________________________________________________\n"
     ]
    }
   ],
   "source": [
    "model = clf.export_model()\n",
    "model.summary()"
   ]
  },
  {
   "cell_type": "code",
   "execution_count": 7,
   "metadata": {
    "tags": []
   },
   "outputs": [
    {
     "name": "stdout",
     "output_type": "stream",
     "text": [
      "125157/125157 [==============================] - 295s 2ms/step - loss: 12.6107 - mean_squared_error: 12.6107 - val_loss: 12.4487 - val_mean_squared_error: 12.4487\n"
     ]
    },
    {
     "data": {
      "text/plain": [
       "<tensorflow.python.keras.callbacks.History at 0x7f46c0166eb8>"
      ]
     },
     "execution_count": 7,
     "metadata": {},
     "output_type": "execute_result"
    }
   ],
   "source": [
    "model.fit(x_train2_gen, y_train2_gen,\n",
    "           validation_split = 0.1,\n",
    "           batch_size=64,\n",
    "           epochs=20,\n",
    "           verbose=1,\n",
    "           shuffle = True\n",
    "         )"
   ]
  },
  {
   "cell_type": "code",
   "execution_count": 16,
   "metadata": {},
   "outputs": [],
   "source": [
    "load_mode = 0\n",
    "if load_mode == 1:\n",
    "    model = tf.keras.models.load_model('/work/ML4NO/ML/Regression/perturb_cut/0804_cut1000_theta23_1.h5')"
   ]
  },
  {
   "cell_type": "code",
   "execution_count": 17,
   "metadata": {
    "tags": []
   },
   "outputs": [
    {
     "name": "stdout",
     "output_type": "stream",
     "text": [
      "31250/31250 [==============================] - 49s 2ms/step - loss: 12.4263 - mean_squared_error: 12.4263\n"
     ]
    }
   ],
   "source": [
    "model.evaluate(x_test_gen, y_test_gen)\n",
    "pre_test = model.predict(x_test_gen)"
   ]
  },
  {
   "cell_type": "code",
   "execution_count": 18,
   "metadata": {
    "tags": []
   },
   "outputs": [
    {
     "data": {
      "image/png": "[encoded data removed]",
      "text/plain": [
       "<Figure size 432x288 with 1 Axes>"
      ]
     },
     "metadata": {
      "needs_background": "light"
     },
     "output_type": "display_data"
    }
   ],
   "source": [
    "plt.hist(pre_test, histtype = 'step', bins = 100, label = 'prediction')\n",
    "plt.hist(y_test, histtype = 'step', bins = 100, label = 'target')\n",
    "plt.xlabel('theta23')\n",
    "plt.ylabel('number')\n",
    "plt.legend()\n",
    "plt.show()"
   ]
  },
  {
   "cell_type": "code",
   "execution_count": null,
   "metadata": {
    "tags": []
   },
   "outputs": [],
   "source": [
    "plt.figure(figsize=(7,7))\n",
    "plt.plot(pre_test[:,0], y_test_gen, '.', alpha = 0.05)\n",
    "plt.xlabel('prediction')\n",
    "plt.ylabel('target')\n",
    "plt.title('theta23, std = 1 sigma')\n",
    "plt.show()"
   ]
  },
  {
   "cell_type": "code",
   "execution_count": 14,
   "metadata": {},
   "outputs": [],
   "source": [
    "if input_state == 0:\n",
    "    modelname = '/work/Regression/models_ve_dune/0803_theta23_1.h5'\n",
    "    if not os.path.isfile(modelname):\n",
    "        model.save(modelname)\n",
    "elif input_state == 1:\n",
    "    modelname = '/work/Regression/models_all_dune/0803_theta23_1.h5'\n",
    "    if not os.path.isfile(modelname):\n",
    "        model.save(modelname)\n",
    "elif input_state == 2:\n",
    "    modelname = '/work/ML4NO/ML/Regression/perturb_cut/0804_cut1000_theta23_2.h5'\n",
    "    if not os.path.isfile(modelname):\n",
    "        model.save(modelname)"
   ]
  },
  {
   "cell_type": "code",
   "execution_count": null,
   "metadata": {},
   "outputs": [],
   "source": []
  }
 ],
 "metadata": {
  "kernelspec": {
   "display_name": "Python 3",
   "language": "python",
   "name": "python3"
  },
  "language_info": {
   "codemirror_mode": {
    "name": "ipython",
    "version": 3
   },
   "file_extension": ".py",
   "mimetype": "text/x-python",
   "name": "python",
   "nbconvert_exporter": "python",
   "pygments_lexer": "ipython3",
   "version": "3.6.9"
  }
 },
 "nbformat": 4,
 "nbformat_minor": 4
}
