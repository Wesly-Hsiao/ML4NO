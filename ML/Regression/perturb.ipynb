{
 "cells": [
  {
   "cell_type": "code",
   "execution_count": 1,
   "id": "81db2075-3926-491a-9c7c-6e4594fc083c",
   "metadata": {},
   "outputs": [],
   "source": [
    "import numpy as np\n",
    "import pandas as pd\n",
    "import matplotlib.pyplot as plt\n",
    "import tensorflow as tf\n",
    "import autokeras as ak\n",
    "from numpy import random\n",
    "import time"
   ]
  },
  {
   "cell_type": "code",
   "execution_count": 2,
   "id": "ed636234-a559-4737-9864-2aa7190edd7b",
   "metadata": {},
   "outputs": [],
   "source": [
    "#Plot's Making  Packages\n",
    "import matplotlib.pyplot as plt\n",
    "from matplotlib.ticker import MaxNLocator\n",
    "from matplotlib.colors import ListedColormap, LinearSegmentedColormap, BoundaryNorm\n",
    "from matplotlib.collections import LineCollection\n",
    "from matplotlib import cm\n",
    "\n",
    "%config InlineBackend. figure_format = 'retina'"
   ]
  },
  {
   "cell_type": "code",
   "execution_count": 3,
   "id": "58ed5344-2e8f-4e2c-b1fa-23ab57a76614",
   "metadata": {},
   "outputs": [
    {
     "name": "stdout",
     "output_type": "stream",
     "text": [
      "Model: \"functional_1\"\n",
      "_________________________________________________________________\n",
      "Layer (type)                 Output Shape              Param #   \n",
      "=================================================================\n",
      "input_1 (InputLayer)         [(None, 244)]             0         \n",
      "_________________________________________________________________\n",
      "multi_category_encoding (Mul (None, 244)               0         \n",
      "_________________________________________________________________\n",
      "normalization (Normalization (None, 244)               489       \n",
      "_________________________________________________________________\n",
      "dense (Dense)                (None, 1024)              250880    \n",
      "_________________________________________________________________\n",
      "re_lu (ReLU)                 (None, 1024)              0         \n",
      "_________________________________________________________________\n",
      "dense_1 (Dense)              (None, 32)                32800     \n",
      "_________________________________________________________________\n",
      "re_lu_1 (ReLU)               (None, 32)                0         \n",
      "_________________________________________________________________\n",
      "regression_head_1 (Dense)    (None, 1)                 33        \n",
      "=================================================================\n",
      "Total params: 284,202\n",
      "Trainable params: 283,713\n",
      "Non-trainable params: 489\n",
      "_________________________________________________________________\n",
      "Model: \"functional_1\"\n",
      "_________________________________________________________________\n",
      "Layer (type)                 Output Shape              Param #   \n",
      "=================================================================\n",
      "input_1 (InputLayer)         [(None, 244)]             0         \n",
      "_________________________________________________________________\n",
      "multi_category_encoding (Mul (None, 244)               0         \n",
      "_________________________________________________________________\n",
      "normalization (Normalization (None, 244)               489       \n",
      "_________________________________________________________________\n",
      "dense (Dense)                (None, 32)                7840      \n",
      "_________________________________________________________________\n",
      "re_lu (ReLU)                 (None, 32)                0         \n",
      "_________________________________________________________________\n",
      "dense_1 (Dense)              (None, 128)               4224      \n",
      "_________________________________________________________________\n",
      "re_lu_1 (ReLU)               (None, 128)               0         \n",
      "_________________________________________________________________\n",
      "regression_head_1 (Dense)    (None, 1)                 129       \n",
      "=================================================================\n",
      "Total params: 12,682\n",
      "Trainable params: 12,193\n",
      "Non-trainable params: 489\n",
      "_________________________________________________________________\n"
     ]
    }
   ],
   "source": [
    "model_theta23 = tf.keras.models.load_model('/work/ML4NO/ML/Regression/models_all/0804_theta23_1.h5')\n",
    "model_theta23.summary()\n",
    "model_delta = tf.keras.models.load_model('/work/ML4NO/ML/Regression/models_all/0804_delta1.h5')\n",
    "model_delta.summary()"
   ]
  },
  {
   "cell_type": "code",
   "execution_count": 4,
   "id": "255218f9-6f3d-406a-a1cf-28a8a47b8fc5",
   "metadata": {},
   "outputs": [],
   "source": [
    "cut_index = np.load('/work/NIO_largerthan1000_index.npy')\n",
    "data_IO = np.load('/work/NuFit_IO.npz')\n",
    "data_NO = np.load('/work/NuFit_NO.npz')"
   ]
  },
  {
   "cell_type": "code",
   "execution_count": 9,
   "id": "3f966a3e-97e4-4f69-8aa4-4350a37de7e5",
   "metadata": {},
   "outputs": [],
   "source": [
    "input_state = 2\n",
    "generate = 10\n",
    "\n",
    "if input_state == 0:\n",
    "    data_IO_mid = data_IO['ve_dune'][0]\n",
    "    data_NO_mid = data_NO['ve_dune'][0]\n",
    "elif input_state == 1:\n",
    "    data_IO_mid = np.column_stack([data_IO['ve_dune'], data_IO['vu_dune'], data_IO['vebar_dune'], data_IO['vubar_dune']])[0]\n",
    "    data_NO_mid = np.column_stack([data_NO['ve_dune'], data_NO['vu_dune'], data_NO['vebar_dune'], data_NO['vubar_dune']])[0]\n",
    "elif input_state == 2:\n",
    "    data_IO_mid = np.column_stack([data_IO['ve_dune'], data_IO['vu_dune'], data_IO['vebar_dune'], data_IO['vubar_dune'], data_IO['ve_t2hk'], data_IO['vu_t2hk'], data_IO['vebar_t2hk'], data_IO['vubar_t2hk']])[0]\n",
    "    data_NO_mid = np.column_stack([data_NO['ve_dune'], data_NO['vu_dune'], data_NO['vebar_dune'], data_NO['vubar_dune'], data_NO['ve_t2hk'], data_NO['vu_t2hk'], data_NO['vebar_t2hk'], data_NO['vubar_t2hk']])[0]\n",
    "\n",
    "data_IO_mid = data_IO_mid[cut_index]\n",
    "data_NO_mid = data_NO_mid[cut_index]"
   ]
  },
  {
   "cell_type": "code",
   "execution_count": 11,
   "id": "0261f73b-e4ae-4b18-af92-da0a04a1c9bb",
   "metadata": {},
   "outputs": [
    {
     "name": "stdout",
     "output_type": "stream",
     "text": [
      "CPU times: user 2.15 s, sys: 68.1 ms, total: 2.22 s\n",
      "Wall time: 2.22 s\n"
     ]
    }
   ],
   "source": [
    "%%time\n",
    "N = 1000000\n",
    "statistics_state = 2\n",
    "\n",
    "if statistics_state == 0:\n",
    "    std = 0.01\n",
    "    data_create_IO = random.normal(data_IO_mid, std*data_IO_mid, size = (N, len(data_IO_mid)))\n",
    "    data_create_NO = random.normal(data_NO_mid, std*data_NO_mid, size = (N, len(data_IO_mid)))\n",
    "elif statistics_state == 1:\n",
    "    data_create_IO = random.poisson(data_IO_mid, size = (N, len(data_IO_mid)))\n",
    "    data_create_NO = random.poisson(data_NO_mid, size = (N, len(data_NO_mid)))\n",
    "elif statistics_state == 2:\n",
    "    std = 0.01\n",
    "    data_create_IO = random.normal(data_IO_mid, np.sqrt(data_IO_mid), size = (N, len(data_IO_mid)))\n",
    "    data_create_NO = random.normal(data_NO_mid, np.sqrt(data_NO_mid), size = (N, len(data_IO_mid)))"
   ]
  },
  {
   "cell_type": "code",
   "execution_count": null,
   "id": "0923588e-d463-4134-8e07-3a19a8f652a3",
   "metadata": {},
   "outputs": [],
   "source": []
  }
 ],
 "metadata": {
  "kernelspec": {
   "display_name": "Python 3",
   "language": "python",
   "name": "python3"
  },
  "language_info": {
   "codemirror_mode": {
    "name": "ipython",
    "version": 3
   },
   "file_extension": ".py",
   "mimetype": "text/x-python",
   "name": "python",
   "nbconvert_exporter": "python",
   "pygments_lexer": "ipython3",
   "version": "3.6.9"
  }
 },
 "nbformat": 4,
 "nbformat_minor": 5
}
