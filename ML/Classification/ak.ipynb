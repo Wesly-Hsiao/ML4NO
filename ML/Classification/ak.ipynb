{
 "cells": [
  {
   "cell_type": "code",
   "execution_count": 1,
   "id": "76ca3a6d-750f-4ba2-b6bb-bf1eac86bccc",
   "metadata": {
    "tags": []
   },
   "outputs": [],
   "source": [
    "import numpy as np\n",
    "import pandas as pd\n",
    "import matplotlib.pyplot as plt\n",
    "import autokeras as ak\n",
    "import os \n",
    "import tensorflow as tf"
   ]
  },
  {
   "cell_type": "code",
   "execution_count": 2,
   "id": "c60e7710-9f27-42a4-9e20-4166c534041a",
   "metadata": {
    "tags": []
   },
   "outputs": [],
   "source": [
    "data = np.load('/home/ML4NO/Data/n1000000_0910_classification.npz')"
   ]
  },
  {
   "cell_type": "code",
   "execution_count": 3,
   "id": "90ad349e-bcb9-4b8b-817f-da03224e3c1d",
   "metadata": {
    "tags": []
   },
   "outputs": [],
   "source": [
    "data_all = np.column_stack([data['ve_dune'], data['vu_dune'], data['vebar_dune'], data['vubar_dune'], data['ve_t2hk'], data['vu_t2hk'], data['vebar_t2hk'], data['vubar_t2hk']])\n",
    "target = data['cpv']\n",
    "\n",
    "x_train = data_all[:10000]\n",
    "y_train = target[:10000]\n",
    "x_train2 = data_all[10000:900000]\n",
    "y_train2 = target[10000:900000]\n",
    "x_test = data_all[900000:]\n",
    "y_test = target[900000:]"
   ]
  },
  {
   "cell_type": "code",
   "execution_count": 4,
   "id": "a0a3e528-d9ef-4610-8e3d-0cec63b62e1f",
   "metadata": {
    "tags": []
   },
   "outputs": [
    {
     "name": "stdout",
     "output_type": "stream",
     "text": [
      "Trial 47 Complete [00h 01m 05s]\n",
      "val_accuracy: 0.9868420958518982\n",
      "\n",
      "Best val_accuracy So Far: 0.9923245906829834\n",
      "Total elapsed time: 00h 51m 23s\n",
      "INFO:tensorflow:Oracle triggered exit\n",
      "Epoch 1/20\n",
      "157/157 [==============================] - 5s 17ms/step - loss: 0.5633 - accuracy: 0.7018\n",
      "Epoch 2/20\n",
      "157/157 [==============================] - 3s 18ms/step - loss: 0.1666 - accuracy: 0.9476\n",
      "Epoch 3/20\n",
      "157/157 [==============================] - 3s 18ms/step - loss: 0.1263 - accuracy: 0.9589\n",
      "Epoch 4/20\n",
      "157/157 [==============================] - 3s 17ms/step - loss: 0.1172 - accuracy: 0.9648\n",
      "Epoch 5/20\n",
      "157/157 [==============================] - 3s 18ms/step - loss: 0.1075 - accuracy: 0.9697\n",
      "Epoch 6/20\n",
      "157/157 [==============================] - 3s 17ms/step - loss: 0.1016 - accuracy: 0.9721\n",
      "Epoch 7/20\n",
      "157/157 [==============================] - 3s 17ms/step - loss: 0.1015 - accuracy: 0.9732\n",
      "Epoch 8/20\n",
      "157/157 [==============================] - 3s 17ms/step - loss: 0.0890 - accuracy: 0.9756\n",
      "Epoch 9/20\n",
      "157/157 [==============================] - 3s 17ms/step - loss: 0.0878 - accuracy: 0.9763\n",
      "Epoch 10/20\n",
      "157/157 [==============================] - 3s 17ms/step - loss: 0.0816 - accuracy: 0.9788\n",
      "Epoch 11/20\n",
      "157/157 [==============================] - 3s 17ms/step - loss: 0.0906 - accuracy: 0.9776\n",
      "Epoch 12/20\n",
      "157/157 [==============================] - 3s 18ms/step - loss: 0.0749 - accuracy: 0.9796\n",
      "Epoch 13/20\n",
      "157/157 [==============================] - 3s 17ms/step - loss: 0.0703 - accuracy: 0.9821\n",
      "Epoch 14/20\n",
      "157/157 [==============================] - 3s 18ms/step - loss: 0.0727 - accuracy: 0.9812\n",
      "Epoch 15/20\n",
      "157/157 [==============================] - 3s 17ms/step - loss: 0.0713 - accuracy: 0.9809\n",
      "Epoch 16/20\n",
      "157/157 [==============================] - 3s 17ms/step - loss: 0.0573 - accuracy: 0.9858\n",
      "Epoch 17/20\n",
      "157/157 [==============================] - 3s 17ms/step - loss: 0.0618 - accuracy: 0.9845\n",
      "Epoch 18/20\n",
      "157/157 [==============================] - 3s 18ms/step - loss: 0.0663 - accuracy: 0.9832\n",
      "Epoch 19/20\n",
      "157/157 [==============================] - 3s 18ms/step - loss: 0.0601 - accuracy: 0.9844\n",
      "Epoch 20/20\n",
      "157/157 [==============================] - 3s 17ms/step - loss: 0.0581 - accuracy: 0.9856\n",
      "WARNING:tensorflow:FOR KERAS USERS: The object that you are saving contains one or more Keras models or layers. If you are loading the SavedModel with `tf.keras.models.load_model`, continue reading (otherwise, you may ignore the following instructions). Please change your code to save with `tf.keras.models.save_model` or `model.save`, and confirm that the file \"keras.metadata\" exists in the export directory. In the future, Keras will only load the SavedModels that have this file. In other words, `tf.saved_model.save` will no longer write SavedModels that can be recovered as Keras models (this will apply in TF 2.5).\n",
      "\n",
      "FOR DEVS: If you are overwriting _tracking_metadata in your class, this property has been used to save metadata in the SavedModel. The metadta field will be deprecated soon, so please move the metadata to a different file.\n",
      "INFO:tensorflow:Assets written to: ./structured_data_classifier/best_model/assets\n"
     ]
    },
    {
     "data": {
      "text/plain": [
       "<tensorflow.python.keras.callbacks.History at 0x7f0a98543e48>"
      ]
     },
     "execution_count": 4,
     "metadata": {},
     "output_type": "execute_result"
    }
   ],
   "source": [
    "clf = ak.StructuredDataClassifier(overwrite=True, max_trials=50)\n",
    "clf.fit(x_train, y_train,\n",
    "           validation_split = 0.1,\n",
    "           batch_size=64,\n",
    "           epochs=20,\n",
    "           verbose=1,\n",
    "           shuffle = True\n",
    "        )"
   ]
  },
  {
   "cell_type": "code",
   "execution_count": 5,
   "id": "0f8f0836-d245-425c-8073-fff0fecc76c6",
   "metadata": {
    "tags": []
   },
   "outputs": [
    {
     "name": "stdout",
     "output_type": "stream",
     "text": [
      "Model: \"model\"\n",
      "_________________________________________________________________\n",
      "Layer (type)                 Output Shape              Param #   \n",
      "=================================================================\n",
      "input_1 (InputLayer)         [(None, 304)]             0         \n",
      "_________________________________________________________________\n",
      "multi_category_encoding (Mul (None, 304)               0         \n",
      "_________________________________________________________________\n",
      "normalization (Normalization (None, 304)               609       \n",
      "_________________________________________________________________\n",
      "dense (Dense)                (None, 32)                9760      \n",
      "_________________________________________________________________\n",
      "re_lu (ReLU)                 (None, 32)                0         \n",
      "_________________________________________________________________\n",
      "dense_1 (Dense)              (None, 32)                1056      \n",
      "_________________________________________________________________\n",
      "re_lu_1 (ReLU)               (None, 32)                0         \n",
      "_________________________________________________________________\n",
      "dense_2 (Dense)              (None, 32)                1056      \n",
      "_________________________________________________________________\n",
      "re_lu_2 (ReLU)               (None, 32)                0         \n",
      "_________________________________________________________________\n",
      "dense_3 (Dense)              (None, 1)                 33        \n",
      "_________________________________________________________________\n",
      "classification_head_1 (Activ (None, 1)                 0         \n",
      "=================================================================\n",
      "Total params: 12,514\n",
      "Trainable params: 11,905\n",
      "Non-trainable params: 609\n",
      "_________________________________________________________________\n"
     ]
    }
   ],
   "source": [
    "model = clf.export_model()\n",
    "model.summary()"
   ]
  },
  {
   "cell_type": "code",
   "execution_count": 10,
   "id": "952b8129-6a7d-4753-9f8d-845ddc9fb18f",
   "metadata": {},
   "outputs": [],
   "source": [
    "target = model.predict(x_test)"
   ]
  },
  {
   "cell_type": "code",
   "execution_count": 14,
   "id": "8b1456d3-f59f-481d-a160-974c38de60d3",
   "metadata": {},
   "outputs": [
    {
     "data": {
      "text/plain": [
       "array([1.], dtype=float32)"
      ]
     },
     "execution_count": 14,
     "metadata": {},
     "output_type": "execute_result"
    }
   ],
   "source": [
    "max(target)"
   ]
  },
  {
   "cell_type": "code",
   "execution_count": 6,
   "id": "777041f5-1468-4e0b-95ce-77087d484e6c",
   "metadata": {
    "tags": []
   },
   "outputs": [
    {
     "name": "stdout",
     "output_type": "stream",
     "text": [
      "Epoch 1/20\n",
      "12516/12516 [==============================] - 230s 18ms/step - loss: 0.0491 - accuracy: 0.9884 - val_loss: 0.0479 - val_accuracy: 0.9922\n",
      "Epoch 2/20\n",
      "12516/12516 [==============================] - 228s 18ms/step - loss: 0.0401 - accuracy: 0.9908 - val_loss: 0.0302 - val_accuracy: 0.9925\n",
      "Epoch 3/20\n",
      "12516/12516 [==============================] - 224s 18ms/step - loss: 0.0355 - accuracy: 0.9920 - val_loss: 0.0337 - val_accuracy: 0.9927\n",
      "Epoch 4/20\n",
      "12516/12516 [==============================] - 225s 18ms/step - loss: 0.0329 - accuracy: 0.9927 - val_loss: 0.0249 - val_accuracy: 0.9943\n",
      "Epoch 5/20\n",
      "12516/12516 [==============================] - 224s 18ms/step - loss: 0.0305 - accuracy: 0.9933 - val_loss: 0.0276 - val_accuracy: 0.9933\n",
      "Epoch 6/20\n",
      "12516/12516 [==============================] - 228s 18ms/step - loss: 0.0296 - accuracy: 0.9936 - val_loss: 0.0264 - val_accuracy: 0.9944\n",
      "Epoch 7/20\n",
      "12516/12516 [==============================] - 226s 18ms/step - loss: 0.0283 - accuracy: 0.9939 - val_loss: 0.0239 - val_accuracy: 0.9947\n",
      "Epoch 8/20\n",
      "12516/12516 [==============================] - 228s 18ms/step - loss: 0.0267 - accuracy: 0.9942 - val_loss: 0.0234 - val_accuracy: 0.9948\n",
      "Epoch 9/20\n",
      "12516/12516 [==============================] - 228s 18ms/step - loss: 0.0269 - accuracy: 0.9943 - val_loss: 0.0244 - val_accuracy: 0.9956\n",
      "Epoch 10/20\n",
      "12516/12516 [==============================] - 224s 18ms/step - loss: 0.0258 - accuracy: 0.9945 - val_loss: 0.0179 - val_accuracy: 0.9957\n",
      "Epoch 11/20\n",
      "12516/12516 [==============================] - 226s 18ms/step - loss: 0.0239 - accuracy: 0.9950 - val_loss: 0.0301 - val_accuracy: 0.9932\n",
      "Epoch 12/20\n",
      "12516/12516 [==============================] - 225s 18ms/step - loss: 0.0238 - accuracy: 0.9950 - val_loss: 0.0206 - val_accuracy: 0.9954\n",
      "Epoch 13/20\n",
      "12516/12516 [==============================] - 223s 18ms/step - loss: 0.0235 - accuracy: 0.9951 - val_loss: 0.0220 - val_accuracy: 0.9954\n",
      "Epoch 14/20\n",
      "12516/12516 [==============================] - 225s 18ms/step - loss: 0.0235 - accuracy: 0.9951 - val_loss: 0.0312 - val_accuracy: 0.9938\n",
      "Epoch 15/20\n",
      "12516/12516 [==============================] - 224s 18ms/step - loss: 0.0220 - accuracy: 0.9954 - val_loss: 0.0192 - val_accuracy: 0.9962\n",
      "Epoch 16/20\n",
      "12516/12516 [==============================] - 224s 18ms/step - loss: 0.0223 - accuracy: 0.9954 - val_loss: 0.0231 - val_accuracy: 0.9958\n",
      "Epoch 17/20\n",
      "12516/12516 [==============================] - 226s 18ms/step - loss: 0.0217 - accuracy: 0.9955 - val_loss: 0.0261 - val_accuracy: 0.9955\n",
      "Epoch 18/20\n",
      "12516/12516 [==============================] - 228s 18ms/step - loss: 0.0213 - accuracy: 0.9956 - val_loss: 0.0184 - val_accuracy: 0.9961\n",
      "Epoch 19/20\n",
      "12516/12516 [==============================] - 227s 18ms/step - loss: 0.0211 - accuracy: 0.9957 - val_loss: 0.0232 - val_accuracy: 0.9949\n",
      "Epoch 20/20\n",
      "12516/12516 [==============================] - 224s 18ms/step - loss: 0.0202 - accuracy: 0.9959 - val_loss: 0.0188 - val_accuracy: 0.9964\n"
     ]
    },
    {
     "data": {
      "text/plain": [
       "<tensorflow.python.keras.callbacks.History at 0x7f0a340abe10>"
      ]
     },
     "execution_count": 6,
     "metadata": {},
     "output_type": "execute_result"
    }
   ],
   "source": [
    "model.fit(x_train2, y_train2,\n",
    "           validation_split = 0.1,\n",
    "           batch_size=64,\n",
    "           epochs=20,\n",
    "           verbose=1,\n",
    "           shuffle = True\n",
    "         )"
   ]
  },
  {
   "cell_type": "code",
   "execution_count": 8,
   "id": "f85f8085-1a54-4c05-9c7f-d8bd6506edda",
   "metadata": {
    "tags": []
   },
   "outputs": [],
   "source": [
    "index = 1\n",
    "while os.path.isfile('/home/ML4NO/ML/Classification/models_all/0910_{}.h5'.format(index)):\n",
    "    index += 1\n",
    "model.save('/home/ML4NO/ML/Classification/models_all/0910_{}.h5'.format(index))"
   ]
  },
  {
   "cell_type": "code",
   "execution_count": null,
   "id": "5ae0c133-3e27-4437-b92e-015b3bdc40b3",
   "metadata": {},
   "outputs": [],
   "source": []
  }
 ],
 "metadata": {
  "kernelspec": {
   "display_name": "Python 3",
   "language": "python",
   "name": "python3"
  },
  "language_info": {
   "codemirror_mode": {
    "name": "ipython",
    "version": 3
   },
   "file_extension": ".py",
   "mimetype": "text/x-python",
   "name": "python",
   "nbconvert_exporter": "python",
   "pygments_lexer": "ipython3",
   "version": "3.6.9"
  },
  "toc-autonumbering": false,
  "toc-showcode": false,
  "toc-showmarkdowntxt": false
 },
 "nbformat": 4,
 "nbformat_minor": 5
}
