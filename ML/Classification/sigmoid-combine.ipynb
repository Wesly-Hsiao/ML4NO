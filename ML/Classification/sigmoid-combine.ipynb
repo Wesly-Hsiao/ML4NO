{
 "cells": [
  {
   "cell_type": "code",
   "execution_count": 1,
   "metadata": {
    "tags": []
   },
   "outputs": [],
   "source": [
    "import numpy as np\n",
    "import matplotlib.pyplot as plt\n",
    "import autokeras as ak\n",
    "import tensorflow as tf\n",
    "import os "
   ]
  },
  {
   "cell_type": "code",
   "execution_count": 2,
   "metadata": {},
   "outputs": [
    {
     "name": "stderr",
     "output_type": "stream",
     "text": [
      "INFO:root:Tensorflow Version is 2.4.0-rc3\n",
      "INFO:root:Keras Version is 2.4.0\n",
      "INFO:root:[name: \"/device:CPU:0\"\n",
      "device_type: \"CPU\"\n",
      "memory_limit: 268435456\n",
      "locality {\n",
      "}\n",
      "incarnation: 16187930958393823820\n",
      ", name: \"/device:GPU:0\"\n",
      "device_type: \"GPU\"\n",
      "memory_limit: 2097152000\n",
      "locality {\n",
      "  bus_id: 1\n",
      "  links {\n",
      "  }\n",
      "}\n",
      "incarnation: 144647930059963153\n",
      "physical_device_desc: \"device: 0, name: TITAN RTX, pci bus id: 0000:03:00.0, compute capability: 7.5\"\n",
      "]\n"
     ]
    },
    {
     "data": {
      "text/plain": [
       "<tensorflow.python.eager.context._EagerDeviceContext at 0x7efd9e66e6c8>"
      ]
     },
     "execution_count": 2,
     "metadata": {},
     "output_type": "execute_result"
    }
   ],
   "source": [
    "import tensorflow as tf\n",
    "import tensorflow.keras as keras\n",
    "from tensorflow.keras.models import Sequential, load_model\n",
    "from tensorflow.keras.layers import Dense, Dropout, Flatten, Convolution2D, MaxPooling2D , Lambda, Conv2D, Activation,Concatenate\n",
    "from tensorflow.keras.layers import ActivityRegularization, BatchNormalization\n",
    "from tensorflow.keras.optimizers import Adam , SGD , Adagrad\n",
    "from tensorflow.keras.callbacks import ModelCheckpoint, LearningRateScheduler, EarlyStopping, CSVLogger, ReduceLROnPlateau\n",
    "from tensorflow.keras.utils import to_categorical\n",
    "from tensorflow.keras import regularizers , initializers\n",
    "from tensorflow.keras.models import Model\n",
    "from tensorflow.keras.preprocessing.image import ImageDataGenerator\n",
    "from tensorflow.keras.preprocessing.image import NumpyArrayIterator\n",
    "\n",
    "\n",
    "from sklearn.preprocessing import StandardScaler\n",
    "\n",
    "import logging\n",
    "\n",
    "logging.basicConfig(level = logging.INFO)\n",
    "\n",
    "\n",
    "gpus = tf.config.experimental.list_physical_devices('GPU')\n",
    "# if gpus:\n",
    "#   # Restrict TensorFlow to only use the first GPU\n",
    "try:\n",
    "    tf.config.experimental.set_visible_devices(gpus[0], 'GPU')\n",
    "    tf.config.experimental.set_virtual_device_configuration(\n",
    "    gpus[0],\n",
    "    [tf.config.experimental.VirtualDeviceConfiguration(memory_limit=2000)])\n",
    "    logical_gpus = tf.config.experimental.list_logical_devices('GPU')\n",
    "#     logging.info(len(gpus), \"Physical GPUs,\", len(logical_gpus), \"Logical GPU\")\n",
    "except RuntimeError as e:\n",
    "# Visible devices must be set before GPUs have been initialized\n",
    "    logging.info(e)\n",
    "    \n",
    "    \n",
    "logging.info(\"Tensorflow Version is {}\".format(tf.__version__))\n",
    "logging.info(\"Keras Version is {}\".format(tf.keras.__version__))\n",
    "from tensorflow.python.client import device_lib\n",
    "logging.info(device_lib.list_local_devices())\n",
    "tf.device('/device:XLA_GPU:0')"
   ]
  },
  {
   "cell_type": "code",
   "execution_count": 5,
   "metadata": {
    "tags": []
   },
   "outputs": [],
   "source": [
    "data = np.load('/home/ML4NO/Data/n1000000_0910_classification.npz')"
   ]
  },
  {
   "cell_type": "code",
   "execution_count": 7,
   "metadata": {
    "tags": []
   },
   "outputs": [],
   "source": [
    "data_all = np.column_stack([data['ve_dune'], data['vu_dune'], data['vebar_dune'], data['vubar_dune'], data['ve_t2hk'], data['vu_t2hk'], data['vebar_t2hk'], data['vubar_t2hk']])\n",
    "target = data['cpv']\n",
    "\n",
    "x_train = data_all[:10000]\n",
    "y_train = target[:10000]\n",
    "\n",
    "x_train2 = data_all[10000:900000]\n",
    "y_train2 = target[10000:900000]\n",
    "\n",
    "x_test = data_all[900000:]\n",
    "y_test = target[900000:]"
   ]
  },
  {
   "cell_type": "code",
   "execution_count": 17,
   "metadata": {},
   "outputs": [],
   "source": [
    "def DNN_Model(name):\n",
    "    model_DNN = Sequential(name = \"Model_DNN_\"+str(name))\n",
    "\n",
    "#     model_DNN.add(keras.Input(shape=(264,), name = 'input'))\n",
    "# #     model_DNN_1.add(Dense(256, activation='relu', name = 'dense_1'))\n",
    "#     model_DNN.add(Dense(64, activation='relu', name = 'dense_1'))\n",
    "#     model_DNN.add(Dense(32, activation='relu', name = 'dense_2'))\n",
    "# #     model_DNN_1.add(Dense(32, activation='relu', name = 'dense_4'))\n",
    "#     model_DNN.add(Dense(1, activation='relu', name = 'dense_3'))\n",
    "# #     model_DNN_1.add(ActivityRegularization(l2=0.1, name = 'Regularization'))\n",
    "#     model_DNN.add(Dropout(0.00001))\n",
    "#     \n",
    "\n",
    "    \n",
    "    model_DNN.add(keras.Input(shape=(304,), name = 'input'))\n",
    "    model_DNN.add(BatchNormalization(name = 'BatchNormalization'))\n",
    "    model_DNN.add(Dense(32, activation='relu', name = 'dense_1'))\n",
    "    model_DNN.add(Dense(32, activation='relu', name = 'dense_2'))\n",
    "    model_DNN.add(Dense(256, activation='relu', name = 'dense_3'))\n",
    "#     model_DNN_1.add(Dense(32, activation='relu', name = 'dense_4'))\n",
    "    model_DNN.add(Dense(1, activation='relu', name = 'output'))\n",
    "#     model_DNN_1.add(ActivityRegularization(l2=0.1, name = 'Regularization'))\n",
    "#     model_DNN.add(Dropout(0.00001))\n",
    "    \n",
    "    # model_opt = keras.optimizers.Adadelta()\n",
    "    model_opt = keras.optimizers.Adam()\n",
    "    model_DNN.compile(loss=\"binary_crossentropy\",#keras.losses.binary_crossentropy\n",
    "                              optimizer=model_opt,\n",
    "                              metrics=['accuracy'])\n",
    "\n",
    "    model_DNN.summary()\n",
    "    return model_DNN"
   ]
  },
  {
   "cell_type": "code",
   "execution_count": 18,
   "metadata": {},
   "outputs": [
    {
     "name": "stdout",
     "output_type": "stream",
     "text": [
      "Model: \"Model_DNN_regression\"\n",
      "_________________________________________________________________\n",
      "Layer (type)                 Output Shape              Param #   \n",
      "=================================================================\n",
      "BatchNormalization (BatchNor (None, 304)               1216      \n",
      "_________________________________________________________________\n",
      "dense_1 (Dense)              (None, 32)                9760      \n",
      "_________________________________________________________________\n",
      "dense_2 (Dense)              (None, 32)                1056      \n",
      "_________________________________________________________________\n",
      "dense_3 (Dense)              (None, 256)               8448      \n",
      "_________________________________________________________________\n",
      "output (Dense)               (None, 1)                 257       \n",
      "=================================================================\n",
      "Total params: 20,737\n",
      "Trainable params: 20,129\n",
      "Non-trainable params: 608\n",
      "_________________________________________________________________\n"
     ]
    }
   ],
   "source": [
    "model = DNN_Model(\"regression\")\n",
    "check_list=[]\n",
    "csv_logger = CSVLogger(\"./DNN_training_log.csv\")\n",
    "# checkpoint = ModelCheckpoint(\n",
    "#                     filepath= \"./\"+str(model)+\"_KFold/DNN_\"+str(model)+\"_Models_\"+str(int(pt_min))+str(int(pt_max))+\"/\" + str(model) + \"_DNN_checkmodel_\"+str(model_index)+\".h5\",\n",
    "#                     save_best_only=True,\n",
    "#                     verbose=0)\n",
    "# earlystopping = EarlyStopping(\n",
    "#                     monitor=\"val_loss\",\n",
    "#                     min_delta=0,\n",
    "#                     patience=20,\n",
    "#                     verbose=0,\n",
    "#                     mode=\"auto\",\n",
    "#                     baseline=None,\n",
    "#                     restore_best_weights=False,\n",
    "#                 )\n",
    "\n",
    "# check_list.append(checkpoint)\n",
    "check_list.append(csv_logger)\n",
    "# check_list.append(earlystopping)"
   ]
  },
  {
   "cell_type": "code",
   "execution_count": 20,
   "metadata": {},
   "outputs": [
    {
     "name": "stdout",
     "output_type": "stream",
     "text": [
      "Epoch 1/20\n",
      "12516/12516 [==============================] - 63s 5ms/step - loss: 0.2078 - accuracy: 0.9307 - val_loss: 0.1701 - val_accuracy: 0.9405\n",
      "Epoch 2/20\n",
      "12516/12516 [==============================] - 64s 5ms/step - loss: 0.2021 - accuracy: 0.9325 - val_loss: 0.1694 - val_accuracy: 0.9390\n",
      "Epoch 3/20\n",
      "12516/12516 [==============================] - 66s 5ms/step - loss: 0.1984 - accuracy: 0.9335 - val_loss: 0.1705 - val_accuracy: 0.9419\n",
      "Epoch 4/20\n",
      "12516/12516 [==============================] - 65s 5ms/step - loss: 0.2056 - accuracy: 0.9327 - val_loss: 0.2228 - val_accuracy: 0.9248\n",
      "Epoch 5/20\n",
      "12516/12516 [==============================] - 65s 5ms/step - loss: 0.2094 - accuracy: 0.9304 - val_loss: 0.1717 - val_accuracy: 0.9401\n",
      "Epoch 6/20\n",
      "12516/12516 [==============================] - 65s 5ms/step - loss: 0.2007 - accuracy: 0.9340 - val_loss: 0.1724 - val_accuracy: 0.9403\n",
      "Epoch 7/20\n",
      "12516/12516 [==============================] - 66s 5ms/step - loss: 0.2096 - accuracy: 0.9311 - val_loss: 0.1818 - val_accuracy: 0.9358\n",
      "Epoch 8/20\n",
      "12516/12516 [==============================] - 65s 5ms/step - loss: 0.2147 - accuracy: 0.9304 - val_loss: 0.1459 - val_accuracy: 0.9514\n",
      "Epoch 9/20\n",
      "12516/12516 [==============================] - 66s 5ms/step - loss: 0.2126 - accuracy: 0.9291 - val_loss: 0.2125 - val_accuracy: 0.9236\n",
      "Epoch 10/20\n",
      "12516/12516 [==============================] - 67s 5ms/step - loss: 0.2145 - accuracy: 0.9296 - val_loss: 0.2007 - val_accuracy: 0.9280\n",
      "Epoch 11/20\n",
      "12516/12516 [==============================] - 65s 5ms/step - loss: 0.2115 - accuracy: 0.9319 - val_loss: 0.2169 - val_accuracy: 0.9149\n",
      "Epoch 12/20\n",
      "12516/12516 [==============================] - 66s 5ms/step - loss: 0.2125 - accuracy: 0.9310 - val_loss: 0.1626 - val_accuracy: 0.9434\n",
      "Epoch 13/20\n",
      "12516/12516 [==============================] - 66s 5ms/step - loss: 0.2053 - accuracy: 0.9327 - val_loss: 0.1911 - val_accuracy: 0.9292\n",
      "Epoch 14/20\n",
      "12516/12516 [==============================] - 65s 5ms/step - loss: 0.2102 - accuracy: 0.9325 - val_loss: 0.1635 - val_accuracy: 0.9424\n",
      "Epoch 15/20\n",
      "12516/12516 [==============================] - 64s 5ms/step - loss: 0.2044 - accuracy: 0.9331 - val_loss: 0.1664 - val_accuracy: 0.9417\n",
      "Epoch 16/20\n",
      "12516/12516 [==============================] - 65s 5ms/step - loss: 0.2161 - accuracy: 0.9303 - val_loss: 0.1701 - val_accuracy: 0.9418\n",
      "Epoch 17/20\n",
      "12516/12516 [==============================] - 66s 5ms/step - loss: 0.2088 - accuracy: 0.9329 - val_loss: 0.1541 - val_accuracy: 0.9458\n",
      "Epoch 18/20\n",
      "12516/12516 [==============================] - 64s 5ms/step - loss: 0.2071 - accuracy: 0.9332 - val_loss: 0.1723 - val_accuracy: 0.9429\n",
      "Epoch 19/20\n",
      "12516/12516 [==============================] - 64s 5ms/step - loss: 0.2089 - accuracy: 0.9329 - val_loss: 0.2083 - val_accuracy: 0.9272\n",
      "Epoch 20/20\n",
      "12516/12516 [==============================] - 65s 5ms/step - loss: 0.2153 - accuracy: 0.9321 - val_loss: 0.1768 - val_accuracy: 0.9417\n"
     ]
    },
    {
     "data": {
      "text/plain": [
       "<tensorflow.python.keras.callbacks.History at 0x7efc3c1de630>"
      ]
     },
     "execution_count": 20,
     "metadata": {},
     "output_type": "execute_result"
    }
   ],
   "source": [
    "model.fit(x_train2, y_train2,\n",
    "           validation_split = 0.1,\n",
    "           batch_size=64,\n",
    "           epochs=20,\n",
    "           verbose=1,\n",
    "           shuffle = True\n",
    "         )"
   ]
  },
  {
   "cell_type": "code",
   "execution_count": null,
   "metadata": {
    "tags": []
   },
   "outputs": [],
   "source": [
    "index = 1\n",
    "while os.path.isfile('/home/ML4NO/ML/Classification/models/0910_{}.h5'.format(index)):\n",
    "    index += 1\n",
    "model.save('/home/ML4NO/ML/Classification/models/0910_{}.h5'.format(index))"
   ]
  },
  {
   "cell_type": "code",
   "execution_count": null,
   "metadata": {},
   "outputs": [],
   "source": [
    "scale_steps = np.logspace(-3, 0, 100)\n",
    "before_train_loss = []\n",
    "after_train_loss = []\n",
    "\n",
    "for scale in scale_steps:\n",
    "    x_train2_gen = np.random.normal(x_train2, np.sqrt(x_train2)*scale)\n",
    "    x_test_gen = np.random.normal(x_test, np.sqrt(x_test)*scale)\n",
    "\n",
    "    before_train_loss.append(model.evaluate(x_test_gen, y_test)[0])\n",
    "\n",
    "    model.fit(x_train2_gen, y_train2,\n",
    "               validation_split = 0.1,\n",
    "               batch_size=64,\n",
    "               epochs=5,\n",
    "               verbose=1,\n",
    "               shuffle = True\n",
    "             )\n",
    "\n",
    "    after_train_loss.append(model.evaluate(x_test_gen, y_test)[0])"
   ]
  },
  {
   "cell_type": "code",
   "execution_count": null,
   "metadata": {},
   "outputs": [],
   "source": [
    "model_index = index\n",
    "index = 1\n",
    "path = '/home/ML4NO/ML/Classification/models_furthurTrain/0910_{}_{}.h5'\n",
    "while os.path.isfile(path.format(model_index, index)):\n",
    "    index += 1\n",
    "model.save(path.format(model_index, index))\n",
    "outfile = {'scale_steps': scale_steps,\n",
    "           'before_train_loss': before_train_loss,\n",
    "           'after_train_loss' :after_train_loss}\n",
    "np.save(file = '/home/ML4NO/ML/Classification/models_furthurTrain/0910_{}_{}_result.npy'.format(model_index, index),\n",
    "        arr = outfile)"
   ]
  },
  {
   "cell_type": "code",
   "execution_count": null,
   "metadata": {},
   "outputs": [],
   "source": [
    "x_test2_gen = np.random.poisson(x_test)\n",
    "\n",
    "for i in range(20):\n",
    "    x_train2_gen = np.random.poisson(x_train2)\n",
    "    \n",
    "    model.fit(x_train2_gen, y_train2,\n",
    "              validation_split=0.1,\n",
    "               batch_size=64,\n",
    "               epochs=1,\n",
    "               verbose=1,\n",
    "               shuffle = True\n",
    "             )\n",
    "model.evaluate(x_test2_gen, y_test)"
   ]
  },
  {
   "cell_type": "code",
   "execution_count": null,
   "metadata": {},
   "outputs": [],
   "source": [
    "furthur_index = index\n",
    "index = 1\n",
    "path = '/home/ML4NO/ML/Classification/models_PoissonTrain/0910_{}_{}_{}.h5'\n",
    "while os.path.isfile(path.format(model_index, furthur_index, index)):\n",
    "    index += 1\n",
    "model.save(path.format(model_index, furthur_index, index))"
   ]
  }
 ],
 "metadata": {
  "kernelspec": {
   "display_name": "Python 3",
   "language": "python",
   "name": "python3"
  },
  "language_info": {
   "codemirror_mode": {
    "name": "ipython",
    "version": 3
   },
   "file_extension": ".py",
   "mimetype": "text/x-python",
   "name": "python",
   "nbconvert_exporter": "python",
   "pygments_lexer": "ipython3",
   "version": "3.6.9"
  }
 },
 "nbformat": 4,
 "nbformat_minor": 4
}
