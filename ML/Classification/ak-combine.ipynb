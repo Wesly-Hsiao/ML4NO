{
 "cells": [
  {
   "cell_type": "code",
   "execution_count": 1,
   "metadata": {
    "tags": []
   },
   "outputs": [],
   "source": [
    "import numpy as np\n",
    "import matplotlib.pyplot as plt\n",
    "import autokeras as ak\n",
    "import tensorflow as tf\n",
    "import os"
   ]
  },
  {
   "cell_type": "code",
   "execution_count": 2,
   "metadata": {},
   "outputs": [
    {
     "name": "stderr",
     "output_type": "stream",
     "text": [
      "INFO:root:Tensorflow Version is 2.4.0-rc3\n",
      "INFO:root:Keras Version is 2.4.0\n",
      "INFO:root:[name: \"/device:CPU:0\"\n",
      "device_type: \"CPU\"\n",
      "memory_limit: 268435456\n",
      "locality {\n",
      "}\n",
      "incarnation: 9432837825740413385\n",
      ", name: \"/device:GPU:0\"\n",
      "device_type: \"GPU\"\n",
      "memory_limit: 5242880000\n",
      "locality {\n",
      "  bus_id: 1\n",
      "  links {\n",
      "  }\n",
      "}\n",
      "incarnation: 8372761631892607751\n",
      "physical_device_desc: \"device: 0, name: TITAN RTX, pci bus id: 0000:03:00.0, compute capability: 7.5\"\n",
      "]\n"
     ]
    },
    {
     "data": {
      "text/plain": [
       "<tensorflow.python.eager.context._EagerDeviceContext at 0x7f2ef463b088>"
      ]
     },
     "execution_count": 2,
     "metadata": {},
     "output_type": "execute_result"
    }
   ],
   "source": [
    "import logging\n",
    "\n",
    "logging.basicConfig(level = logging.INFO)\n",
    "\n",
    "gpus = tf.config.experimental.list_physical_devices('GPU')\n",
    "# if gpus:\n",
    "#   # Restrict TensorFlow to only use the first GPU\n",
    "try:\n",
    "    tf.config.experimental.set_visible_devices(gpus[0], 'GPU')\n",
    "    tf.config.experimental.set_virtual_device_configuration(\n",
    "    gpus[0],\n",
    "    [tf.config.experimental.VirtualDeviceConfiguration(memory_limit=5000)])\n",
    "    logical_gpus = tf.config.experimental.list_logical_devices('GPU')\n",
    "#     logging.info(len(gpus), \"Physical GPUs,\", len(logical_gpus), \"Logical GPU\")\n",
    "except RuntimeError as e:\n",
    "# Visible devices must be set before GPUs have been initialized\n",
    "    logging.info(e)\n",
    "    \n",
    "    \n",
    "logging.info(\"Tensorflow Version is {}\".format(tf.__version__))\n",
    "logging.info(\"Keras Version is {}\".format(tf.keras.__version__))\n",
    "from tensorflow.python.client import device_lib\n",
    "logging.info(device_lib.list_local_devices())\n",
    "tf.device('/device:XLA_GPU:0')"
   ]
  },
  {
   "cell_type": "code",
   "execution_count": 3,
   "metadata": {
    "tags": []
   },
   "outputs": [],
   "source": [
    "data = np.load('/home/ML4NO/Data/n1000000_0910_classification.npz')"
   ]
  },
  {
   "cell_type": "code",
   "execution_count": 4,
   "metadata": {},
   "outputs": [],
   "source": [
    "data_all = np.column_stack([data['ve_dune'], data['vu_dune'], data['vebar_dune'], data['vubar_dune'], data['ve_t2hk'], data['vu_t2hk'], data['vebar_t2hk'], data['vubar_t2hk']])\n",
    "target = data['cpv']\n",
    "\n",
    "x_train = data_all[:10000]\n",
    "y_train = target[:10000]\n",
    "x_train2 = data_all[10000:900000]\n",
    "y_train2 = target[10000:900000]\n",
    "x_test = data_all[900000:]\n",
    "y_test = target[900000:]"
   ]
  },
  {
   "cell_type": "code",
   "execution_count": 5,
   "metadata": {},
   "outputs": [
    {
     "name": "stdout",
     "output_type": "stream",
     "text": [
      "Trial 9 Complete [00h 01m 01s]\n",
      "val_accuracy: 0.9813596606254578\n",
      "\n",
      "Best val_accuracy So Far: 0.9923245906829834\n",
      "Total elapsed time: 00h 09m 08s\n",
      "INFO:tensorflow:Oracle triggered exit\n"
     ]
    },
    {
     "name": "stderr",
     "output_type": "stream",
     "text": [
      "INFO:tensorflow:Oracle triggered exit\n"
     ]
    },
    {
     "name": "stdout",
     "output_type": "stream",
     "text": [
      "Epoch 1/20\n",
      "157/157 [==============================] - 5s 16ms/step - loss: 0.5868 - accuracy: 0.6745\n",
      "Epoch 2/20\n",
      "157/157 [==============================] - 3s 16ms/step - loss: 0.1970 - accuracy: 0.9357\n",
      "Epoch 3/20\n",
      "157/157 [==============================] - 2s 16ms/step - loss: 0.1381 - accuracy: 0.9544\n",
      "Epoch 4/20\n",
      "157/157 [==============================] - 2s 16ms/step - loss: 0.1175 - accuracy: 0.9632\n",
      "Epoch 5/20\n",
      "157/157 [==============================] - 2s 16ms/step - loss: 0.1079 - accuracy: 0.9674\n",
      "Epoch 6/20\n",
      "157/157 [==============================] - 2s 16ms/step - loss: 0.1043 - accuracy: 0.9686\n",
      "Epoch 7/20\n",
      "157/157 [==============================] - 3s 16ms/step - loss: 0.0933 - accuracy: 0.9714\n",
      "Epoch 8/20\n",
      "157/157 [==============================] - 2s 16ms/step - loss: 0.0925 - accuracy: 0.9730\n",
      "Epoch 9/20\n",
      "157/157 [==============================] - 2s 16ms/step - loss: 0.0901 - accuracy: 0.9738\n",
      "Epoch 10/20\n",
      "157/157 [==============================] - 2s 16ms/step - loss: 0.0869 - accuracy: 0.9760\n",
      "Epoch 11/20\n",
      "157/157 [==============================] - 3s 16ms/step - loss: 0.0882 - accuracy: 0.9746\n",
      "Epoch 12/20\n",
      "157/157 [==============================] - 3s 16ms/step - loss: 0.0868 - accuracy: 0.9750\n",
      "Epoch 13/20\n",
      "157/157 [==============================] - 2s 15ms/step - loss: 0.0803 - accuracy: 0.9783\n",
      "Epoch 14/20\n",
      "157/157 [==============================] - 2s 16ms/step - loss: 0.0822 - accuracy: 0.9783\n",
      "Epoch 15/20\n",
      "157/157 [==============================] - 3s 16ms/step - loss: 0.0762 - accuracy: 0.9801\n",
      "Epoch 16/20\n",
      "157/157 [==============================] - 2s 16ms/step - loss: 0.0861 - accuracy: 0.9776\n",
      "Epoch 17/20\n",
      "157/157 [==============================] - 2s 15ms/step - loss: 0.0771 - accuracy: 0.9797\n",
      "Epoch 18/20\n",
      "157/157 [==============================] - 2s 16ms/step - loss: 0.0755 - accuracy: 0.9801\n",
      "Epoch 19/20\n",
      "157/157 [==============================] - 3s 16ms/step - loss: 0.0744 - accuracy: 0.9810\n",
      "Epoch 20/20\n",
      "157/157 [==============================] - 3s 16ms/step - loss: 0.0755 - accuracy: 0.9811\n",
      "WARNING:tensorflow:FOR KERAS USERS: The object that you are saving contains one or more Keras models or layers. If you are loading the SavedModel with `tf.keras.models.load_model`, continue reading (otherwise, you may ignore the following instructions). Please change your code to save with `tf.keras.models.save_model` or `model.save`, and confirm that the file \"keras.metadata\" exists in the export directory. In the future, Keras will only load the SavedModels that have this file. In other words, `tf.saved_model.save` will no longer write SavedModels that can be recovered as Keras models (this will apply in TF 2.5).\n",
      "\n",
      "FOR DEVS: If you are overwriting _tracking_metadata in your class, this property has been used to save metadata in the SavedModel. The metadta field will be deprecated soon, so please move the metadata to a different file.\n"
     ]
    },
    {
     "name": "stderr",
     "output_type": "stream",
     "text": [
      "WARNING:tensorflow:FOR KERAS USERS: The object that you are saving contains one or more Keras models or layers. If you are loading the SavedModel with `tf.keras.models.load_model`, continue reading (otherwise, you may ignore the following instructions). Please change your code to save with `tf.keras.models.save_model` or `model.save`, and confirm that the file \"keras.metadata\" exists in the export directory. In the future, Keras will only load the SavedModels that have this file. In other words, `tf.saved_model.save` will no longer write SavedModels that can be recovered as Keras models (this will apply in TF 2.5).\n",
      "\n",
      "FOR DEVS: If you are overwriting _tracking_metadata in your class, this property has been used to save metadata in the SavedModel. The metadta field will be deprecated soon, so please move the metadata to a different file.\n"
     ]
    },
    {
     "name": "stdout",
     "output_type": "stream",
     "text": [
      "INFO:tensorflow:Assets written to: ./structured_data_classifier/best_model/assets\n"
     ]
    },
    {
     "name": "stderr",
     "output_type": "stream",
     "text": [
      "INFO:tensorflow:Assets written to: ./structured_data_classifier/best_model/assets\n"
     ]
    },
    {
     "data": {
      "text/plain": [
       "<tensorflow.python.keras.callbacks.History at 0x7f2c405316a0>"
      ]
     },
     "execution_count": 5,
     "metadata": {},
     "output_type": "execute_result"
    }
   ],
   "source": [
    "clf = ak.StructuredDataClassifier(overwrite=True, max_trials=50)\n",
    "clf.fit(x_train, y_train,\n",
    "           validation_split = 0.1,\n",
    "           batch_size=64,\n",
    "           epochs=20,\n",
    "           verbose=1,\n",
    "           shuffle = True\n",
    "        )"
   ]
  },
  {
   "cell_type": "code",
   "execution_count": 6,
   "metadata": {},
   "outputs": [
    {
     "name": "stdout",
     "output_type": "stream",
     "text": [
      "Model: \"model\"\n",
      "_________________________________________________________________\n",
      "Layer (type)                 Output Shape              Param #   \n",
      "=================================================================\n",
      "input_1 (InputLayer)         [(None, 304)]             0         \n",
      "_________________________________________________________________\n",
      "multi_category_encoding (Mul (None, 304)               0         \n",
      "_________________________________________________________________\n",
      "normalization (Normalization (None, 304)               609       \n",
      "_________________________________________________________________\n",
      "dense (Dense)                (None, 32)                9760      \n",
      "_________________________________________________________________\n",
      "re_lu (ReLU)                 (None, 32)                0         \n",
      "_________________________________________________________________\n",
      "dense_1 (Dense)              (None, 32)                1056      \n",
      "_________________________________________________________________\n",
      "re_lu_1 (ReLU)               (None, 32)                0         \n",
      "_________________________________________________________________\n",
      "dense_2 (Dense)              (None, 1)                 33        \n",
      "_________________________________________________________________\n",
      "classification_head_1 (Activ (None, 1)                 0         \n",
      "=================================================================\n",
      "Total params: 11,458\n",
      "Trainable params: 10,849\n",
      "Non-trainable params: 609\n",
      "_________________________________________________________________\n"
     ]
    }
   ],
   "source": [
    "model = clf.export_model()\n",
    "model.summary()"
   ]
  },
  {
   "cell_type": "code",
   "execution_count": 7,
   "metadata": {},
   "outputs": [
    {
     "name": "stdout",
     "output_type": "stream",
     "text": [
      "Epoch 1/5\n",
      "12516/12516 [==============================] - 213s 17ms/step - loss: 0.0505 - accuracy: 0.9880 - val_loss: 0.0528 - val_accuracy: 0.9890\n",
      "Epoch 2/5\n",
      "12516/12516 [==============================] - 209s 17ms/step - loss: 0.0388 - accuracy: 0.9913 - val_loss: 0.0361 - val_accuracy: 0.9920\n",
      "Epoch 3/5\n",
      "12516/12516 [==============================] - 207s 17ms/step - loss: 0.0354 - accuracy: 0.9921 - val_loss: 0.0299 - val_accuracy: 0.9928\n",
      "Epoch 4/5\n",
      "12516/12516 [==============================] - 208s 17ms/step - loss: 0.0328 - accuracy: 0.9928 - val_loss: 0.0407 - val_accuracy: 0.9927\n",
      "Epoch 5/5\n",
      "12516/12516 [==============================] - 206s 16ms/step - loss: 0.0301 - accuracy: 0.9934 - val_loss: 0.0235 - val_accuracy: 0.9947\n"
     ]
    },
    {
     "data": {
      "text/plain": [
       "<tensorflow.python.keras.callbacks.History at 0x7f2d083c5518>"
      ]
     },
     "execution_count": 7,
     "metadata": {},
     "output_type": "execute_result"
    }
   ],
   "source": [
    "model.fit(x_train2, y_train2,\n",
    "           validation_split = 0.1,\n",
    "           batch_size=64,\n",
    "           epochs=5,\n",
    "           verbose=1,\n",
    "           shuffle = True\n",
    "         )"
   ]
  },
  {
   "cell_type": "code",
   "execution_count": 8,
   "metadata": {
    "tags": []
   },
   "outputs": [],
   "source": [
    "index = 1\n",
    "while os.path.isfile('/home/ML4NO/ML/Classification/models/0910_{}.h5'.format(index)):\n",
    "    index += 1\n",
    "model.save('/home/ML4NO/ML/Classification/models/0910_{}.h5'.format(index), overwrite=False, include_optimizer=True)"
   ]
  },
  {
   "cell_type": "code",
   "execution_count": null,
   "metadata": {},
   "outputs": [
    {
     "name": "stdout",
     "output_type": "stream",
     "text": [
      "3125/3125 [==============================] - 38s 12ms/step - loss: 0.0229 - accuracy: 0.9949\n",
      "Epoch 1/5\n",
      "12516/12516 [==============================] - 205s 16ms/step - loss: 0.0293 - accuracy: 0.9937 - val_loss: 0.0219 - val_accuracy: 0.9950\n",
      "Epoch 2/5\n",
      "12516/12516 [==============================] - 202s 16ms/step - loss: 0.0279 - accuracy: 0.9940 - val_loss: 0.0334 - val_accuracy: 0.9937\n",
      "Epoch 3/5\n",
      "12516/12516 [==============================] - 212s 17ms/step - loss: 0.0271 - accuracy: 0.9942 - val_loss: 0.0209 - val_accuracy: 0.9953\n",
      "Epoch 4/5\n",
      "12516/12516 [==============================] - 210s 17ms/step - loss: 0.0261 - accuracy: 0.9944 - val_loss: 0.0243 - val_accuracy: 0.9945\n",
      "Epoch 5/5\n",
      "12516/12516 [==============================] - 208s 17ms/step - loss: 0.0254 - accuracy: 0.9947 - val_loss: 0.0231 - val_accuracy: 0.9953\n",
      "3125/3125 [==============================] - 36s 12ms/step - loss: 0.0219 - accuracy: 0.9956\n",
      "3125/3125 [==============================] - 37s 12ms/step - loss: 0.0221 - accuracy: 0.9957\n",
      "Epoch 1/5\n",
      "12516/12516 [==============================] - 210s 17ms/step - loss: 0.0255 - accuracy: 0.9946 - val_loss: 0.0332 - val_accuracy: 0.9939\n",
      "Epoch 2/5\n",
      "12516/12516 [==============================] - 209s 17ms/step - loss: 0.0252 - accuracy: 0.9947 - val_loss: 0.0282 - val_accuracy: 0.9955\n",
      "Epoch 3/5\n",
      "12516/12516 [==============================] - 213s 17ms/step - loss: 0.0236 - accuracy: 0.9951 - val_loss: 0.0204 - val_accuracy: 0.9956\n",
      "Epoch 4/5\n",
      "12516/12516 [==============================] - 212s 17ms/step - loss: 0.0236 - accuracy: 0.9951 - val_loss: 0.0275 - val_accuracy: 0.9951\n",
      "Epoch 5/5\n",
      "12516/12516 [==============================] - 208s 17ms/step - loss: 0.0228 - accuracy: 0.9952 - val_loss: 0.0315 - val_accuracy: 0.9939\n",
      "3125/3125 [==============================] - 36s 12ms/step - loss: 0.0302 - accuracy: 0.9939\n",
      "3125/3125 [==============================] - 36s 12ms/step - loss: 0.0305 - accuracy: 0.9938\n",
      "Epoch 1/5\n",
      "12516/12516 [==============================] - 208s 17ms/step - loss: 0.0237 - accuracy: 0.9950 - val_loss: 0.0292 - val_accuracy: 0.9944\n",
      "Epoch 2/5\n",
      "12516/12516 [==============================] - 210s 17ms/step - loss: 0.0232 - accuracy: 0.9951 - val_loss: 0.0196 - val_accuracy: 0.9958\n",
      "Epoch 3/5\n",
      "12516/12516 [==============================] - 208s 17ms/step - loss: 0.0224 - accuracy: 0.9953 - val_loss: 0.0179 - val_accuracy: 0.9961\n",
      "Epoch 4/5\n",
      "12516/12516 [==============================] - 205s 16ms/step - loss: 0.0225 - accuracy: 0.9953 - val_loss: 0.0217 - val_accuracy: 0.9958\n",
      "Epoch 5/5\n",
      "12516/12516 [==============================] - 209s 17ms/step - loss: 0.0226 - accuracy: 0.9952 - val_loss: 0.0197 - val_accuracy: 0.9955\n",
      "3125/3125 [==============================] - 38s 12ms/step - loss: 0.0194 - accuracy: 0.9957\n",
      "3125/3125 [==============================] - 37s 12ms/step - loss: 0.0206 - accuracy: 0.9958\n",
      "Epoch 1/5\n",
      "12516/12516 [==============================] - 209s 17ms/step - loss: 0.0254 - accuracy: 0.9945 - val_loss: 0.0302 - val_accuracy: 0.9933\n",
      "Epoch 2/5\n",
      "  869/12516 [=>............................] - ETA: 2:56 - loss: 0.0244 - accuracy: 0.9946"
     ]
    }
   ],
   "source": [
    "scale_steps = np.logspace(-3, 0, 10)\n",
    "before_train_loss = []\n",
    "after_train_loss = []\n",
    "\n",
    "for scale in scale_steps:\n",
    "    x_train2_gen = np.random.normal(x_train2, np.sqrt(x_train2)*scale)\n",
    "    x_test_gen = np.random.normal(x_test, np.sqrt(x_test)*scale)\n",
    "\n",
    "    before_train_loss.append(model.evaluate(x_test_gen, y_test)[0])\n",
    "\n",
    "    model.fit(x_train2_gen, y_train2,\n",
    "               validation_split = 0.1,\n",
    "               batch_size=64,\n",
    "               epochs=5,\n",
    "               verbose=1,\n",
    "               shuffle = True\n",
    "             )\n",
    "    after_train_loss.append(model.evaluate(x_test_gen, y_test)[0])"
   ]
  },
  {
   "cell_type": "code",
   "execution_count": null,
   "metadata": {},
   "outputs": [],
   "source": [
    "model_index = index\n",
    "index = 1\n",
    "path = '/home/ML4NO/ML/Classification/models_furthurTrain/0910_{}_{}.h5'\n",
    "while os.path.isfile(path.format(model_index, index)):\n",
    "    index += 1\n",
    "model.save(path.format(model_index, index))\n",
    "outfile = {'scale_steps': scale_steps,\n",
    "           'before_train_loss': before_train_loss,\n",
    "           'after_train_loss' :after_train_loss}\n",
    "np.save(file = '/home/ML4NO/ML/Classification/models_furthurTrain/0910_{}_{}_result.npy'.format(model_index, index),\n",
    "        arr = outfile)"
   ]
  },
  {
   "cell_type": "code",
   "execution_count": null,
   "metadata": {},
   "outputs": [],
   "source": [
    "x_test2_gen = np.random.poisson(x_test)\n",
    "\n",
    "for i in range(5):\n",
    "    x_train2_gen = np.random.poisson(x_train2)\n",
    "    \n",
    "    model.fit(x_train2_gen, y_train2,\n",
    "              validation_split=0.1,\n",
    "               batch_size=64,\n",
    "               epochs=1,\n",
    "               verbose=1,\n",
    "               shuffle = True\n",
    "             )\n",
    "model.evaluate(x_test2_gen, y_test)"
   ]
  },
  {
   "cell_type": "code",
   "execution_count": null,
   "metadata": {},
   "outputs": [],
   "source": [
    "pred = model.predict(x_test2_gen)"
   ]
  },
  {
   "cell_type": "code",
   "execution_count": null,
   "metadata": {},
   "outputs": [],
   "source": [
    "cpc = np.where(y_test == 0)\n",
    "cpv = np.where(y_test == 1)\n",
    "plt.hist(pred[cpc])\n",
    "plt.hist(pred[cpv])\n",
    "plt.show()"
   ]
  },
  {
   "cell_type": "code",
   "execution_count": null,
   "metadata": {},
   "outputs": [],
   "source": [
    "furthur_index = index\n",
    "index = 1\n",
    "path = '/home/ML4NO/ML/Classification/models_PoissonTrain/0910_{}_{}_{}.h5'\n",
    "while os.path.isfile(path.format(model_index, furthur_index, index)):\n",
    "    index += 1\n",
    "model.save(path.format(model_index, furthur_index, index))"
   ]
  }
 ],
 "metadata": {
  "kernelspec": {
   "display_name": "Python 3",
   "language": "python",
   "name": "python3"
  },
  "language_info": {
   "codemirror_mode": {
    "name": "ipython",
    "version": 3
   },
   "file_extension": ".py",
   "mimetype": "text/x-python",
   "name": "python",
   "nbconvert_exporter": "python",
   "pygments_lexer": "ipython3",
   "version": "3.6.9"
  }
 },
 "nbformat": 4,
 "nbformat_minor": 4
}
