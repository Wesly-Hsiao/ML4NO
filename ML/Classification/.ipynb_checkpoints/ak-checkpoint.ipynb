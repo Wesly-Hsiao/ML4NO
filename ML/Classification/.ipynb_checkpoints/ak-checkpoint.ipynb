{
 "cells": [
  {
   "cell_type": "code",
   "execution_count": 1,
   "id": "76ca3a6d-750f-4ba2-b6bb-bf1eac86bccc",
   "metadata": {},
   "outputs": [],
   "source": [
    "import numpy as np\n",
    "import pandas as pd\n",
    "import matplotlib.pyplot as plt\n",
    "import autokeras as ak\n",
    "import os \n",
    "import tensorflow as tf"
   ]
  },
  {
   "cell_type": "code",
   "execution_count": 2,
   "id": "c60e7710-9f27-42a4-9e20-4166c534041a",
   "metadata": {},
   "outputs": [],
   "source": [
<<<<<<< HEAD
    "data = np.load('/home/ML4NO/Data/n1000000_0910_classification.npz')"
=======
    "data = np.load('/work/n1000000_0728.npz')"
>>>>>>> e1adf89c0bf7950f6a6540a1a2975aea111f02fd
   ]
  },
  {
   "cell_type": "code",
<<<<<<< HEAD
   "execution_count": 3,
=======
   "execution_count": 11,
   "id": "835cd32a-3f28-484a-8120-51f80e9c2f83",
   "metadata": {},
   "outputs": [
    {
     "name": "stdout",
     "output_type": "stream",
     "text": [
      "octant: Counter({1.0: 373316, 0.0: 330575, -1.0: 296109})\n",
      "cpv: Counter({0.0: 500075, 1.0: 499925})\n",
      "mo: Counter({1.0: 500330, -1.0: 499670})\n"
     ]
    }
   ],
   "source": [
    "from collections import Counter\n",
    "print('octant:', Counter(data['octant']))\n",
    "print('cpv:', Counter(data['cpv']))\n",
    "print('mo:', Counter(data['mo']))"
   ]
  },
  {
   "cell_type": "code",
   "execution_count": 4,
>>>>>>> e1adf89c0bf7950f6a6540a1a2975aea111f02fd
   "id": "90ad349e-bcb9-4b8b-817f-da03224e3c1d",
   "metadata": {},
   "outputs": [],
   "source": [
<<<<<<< HEAD
    "data_all = np.column_stack([data['ve_dune'], data['vu_dune'], data['vebar_dune'], data['vubar_dune'], data['ve_t2hk'], data['vu_t2hk'], data['vebar_t2hk'], data['vubar_t2hk']])\n",
    "target = data['cpv']\n",
=======
    "input_state = 2\n",
    "target = tf.keras.utils.to_categorical((data['octant'] + 1) + data['cpv']*3 + (data['mo']+1)*3)\n",
    "if input_state == 0:\n",
    "    data_all = data['ve_dune']\n",
    "elif input_state == 1:\n",
    "    data_all = np.column_stack([data['ve_dune'], data['vu_dune'], data['vebar_dune'], data['vubar_dune']])\n",
    "elif input_state == 2:\n",
    "    data_all = np.column_stack([data['ve_dune'], data['vu_dune'], data['vebar_dune'], data['vubar_dune'], data['ve_t2hk'], data['vu_t2hk'], data['vebar_t2hk'], data['vubar_t2hk']])\n",
>>>>>>> e1adf89c0bf7950f6a6540a1a2975aea111f02fd
    "\n",
    "x_train = data_all[:10000]\n",
    "y_train = target[:10000]\n",
    "x_train2 = data_all[10000:900000]\n",
    "y_train2 = target[10000:900000]\n",
    "x_test = data_all[900000:]\n",
    "y_test = target[900000:]"
   ]
  },
  {
   "cell_type": "code",
<<<<<<< HEAD
   "execution_count": 4,
=======
   "execution_count": 5,
>>>>>>> e1adf89c0bf7950f6a6540a1a2975aea111f02fd
   "id": "a0a3e528-d9ef-4610-8e3d-0cec63b62e1f",
   "metadata": {},
   "outputs": [
    {
     "name": "stdout",
     "output_type": "stream",
     "text": [
<<<<<<< HEAD
      "Trial 1 Complete [00h 00m 12s]\n",
      "val_accuracy: 0.9561403393745422\n",
      "\n",
      "Best val_accuracy So Far: 0.9561403393745422\n",
      "Total elapsed time: 00h 00m 12s\n",
      "INFO:tensorflow:Oracle triggered exit\n",
      "Epoch 1/2\n",
      "157/157 [==============================] - 5s 16ms/step - loss: 0.5736 - accuracy: 0.6860\n",
      "Epoch 2/2\n",
      "157/157 [==============================] - 3s 16ms/step - loss: 0.1864 - accuracy: 0.9400\n",
      "WARNING:tensorflow:FOR KERAS USERS: The object that you are saving contains one or more Keras models or layers. If you are loading the SavedModel with `tf.keras.models.load_model`, continue reading (otherwise, you may ignore the following instructions). Please change your code to save with `tf.keras.models.save_model` or `model.save`, and confirm that the file \"keras.metadata\" exists in the export directory. In the future, Keras will only load the SavedModels that have this file. In other words, `tf.saved_model.save` will no longer write SavedModels that can be recovered as Keras models (this will apply in TF 2.5).\n",
      "\n",
      "FOR DEVS: If you are overwriting _tracking_metadata in your class, this property has been used to save metadata in the SavedModel. The metadta field will be deprecated soon, so please move the metadata to a different file.\n",
      "INFO:tensorflow:Assets written to: ./structured_data_classifier/best_model/assets\n"
     ]
    },
    {
     "data": {
      "text/plain": [
       "<tensorflow.python.keras.callbacks.History at 0x7ff0080457b8>"
      ]
     },
     "execution_count": 4,
     "metadata": {},
     "output_type": "execute_result"
    }
   ],
   "source": [
    "clf = ak.StructuredDataClassifier(overwrite=True, max_trials=50)\n",
    "clf.fit(x_train, y_train,\n",
    "           validation_split = 0.1,\n",
    "           batch_size=64,\n",
    "           epochs=20,\n",
=======
      "Trial 3 Complete [00h 01m 11s]\n",
      "val_accuracy: 0.9385964870452881\n",
      "\n",
      "Best val_accuracy So Far: 0.9429824352264404\n",
      "Total elapsed time: 00h 03m 15s\n",
      "INFO:tensorflow:Oracle triggered exit\n",
      "WARNING:tensorflow:Layer multi_category_encoding is casting an input tensor from dtype float64 to the layer's dtype of float32, which is new behavior in TensorFlow 2.  The layer has dtype float32 because its dtype defaults to floatx.\n",
      "\n",
      "If you intended to run this layer in float32, you can safely ignore this warning. If in doubt, this warning is likely only an issue if you are porting a TensorFlow 1.X model to TensorFlow 2.\n",
      "\n",
      "To change all layers to have dtype float64 by default, call `tf.keras.backend.set_floatx('float64')`. To change just this layer, pass dtype='float64' to the layer constructor. If you are the author of this layer, you can disable autocasting by passing autocast=False to the base Layer constructor.\n",
      "\n",
      "Epoch 1/40\n",
      "157/157 [==============================] - 1s 8ms/step - loss: 1.4685 - accuracy: 0.4479\n",
      "Epoch 2/40\n",
      "157/157 [==============================] - 1s 8ms/step - loss: 0.7625 - accuracy: 0.7296\n",
      "Epoch 3/40\n",
      "157/157 [==============================] - 1s 8ms/step - loss: 0.6212 - accuracy: 0.7799\n",
      "Epoch 4/40\n",
      "157/157 [==============================] - 1s 8ms/step - loss: 0.5549 - accuracy: 0.8024\n",
      "Epoch 5/40\n",
      "157/157 [==============================] - 1s 8ms/step - loss: 0.5148 - accuracy: 0.8174\n",
      "Epoch 6/40\n",
      "157/157 [==============================] - 1s 8ms/step - loss: 0.4869 - accuracy: 0.8291\n",
      "Epoch 7/40\n",
      "157/157 [==============================] - 1s 8ms/step - loss: 0.4627 - accuracy: 0.8367\n",
      "Epoch 8/40\n",
      "157/157 [==============================] - 1s 8ms/step - loss: 0.4486 - accuracy: 0.8431\n",
      "Epoch 9/40\n",
      "157/157 [==============================] - 1s 8ms/step - loss: 0.4345 - accuracy: 0.8496\n",
      "Epoch 10/40\n",
      "157/157 [==============================] - 1s 8ms/step - loss: 0.4189 - accuracy: 0.8562\n",
      "Epoch 11/40\n",
      "157/157 [==============================] - 1s 8ms/step - loss: 0.4065 - accuracy: 0.8612\n",
      "Epoch 12/40\n",
      "157/157 [==============================] - 1s 8ms/step - loss: 0.3968 - accuracy: 0.8658\n",
      "Epoch 13/40\n",
      "157/157 [==============================] - 1s 8ms/step - loss: 0.3806 - accuracy: 0.8702\n",
      "Epoch 14/40\n",
      "157/157 [==============================] - 1s 8ms/step - loss: 0.3724 - accuracy: 0.8736\n",
      "Epoch 15/40\n",
      "157/157 [==============================] - 1s 8ms/step - loss: 0.3615 - accuracy: 0.8787\n",
      "Epoch 16/40\n",
      "157/157 [==============================] - 1s 8ms/step - loss: 0.3521 - accuracy: 0.8829\n",
      "Epoch 17/40\n",
      "157/157 [==============================] - 1s 8ms/step - loss: 0.3407 - accuracy: 0.8862\n",
      "Epoch 18/40\n",
      "157/157 [==============================] - 1s 8ms/step - loss: 0.3272 - accuracy: 0.8925\n",
      "Epoch 19/40\n",
      "157/157 [==============================] - 1s 8ms/step - loss: 0.3196 - accuracy: 0.8952\n",
      "Epoch 20/40\n",
      "157/157 [==============================] - 1s 8ms/step - loss: 0.3074 - accuracy: 0.9026\n",
      "Epoch 21/40\n",
      "157/157 [==============================] - 1s 8ms/step - loss: 0.2970 - accuracy: 0.9042\n",
      "Epoch 22/40\n",
      "157/157 [==============================] - 1s 8ms/step - loss: 0.2843 - accuracy: 0.9111\n",
      "Epoch 23/40\n",
      "157/157 [==============================] - 1s 8ms/step - loss: 0.2792 - accuracy: 0.9121\n",
      "Epoch 24/40\n",
      "157/157 [==============================] - 1s 8ms/step - loss: 0.2667 - accuracy: 0.9163\n",
      "Epoch 25/40\n",
      "157/157 [==============================] - 1s 8ms/step - loss: 0.2584 - accuracy: 0.9189\n",
      "Epoch 26/40\n",
      "157/157 [==============================] - 1s 8ms/step - loss: 0.2527 - accuracy: 0.9211\n",
      "Epoch 27/40\n",
      "157/157 [==============================] - 1s 8ms/step - loss: 0.2419 - accuracy: 0.9247\n",
      "Epoch 28/40\n",
      "157/157 [==============================] - 1s 8ms/step - loss: 0.2371 - accuracy: 0.9278\n",
      "Epoch 29/40\n",
      "157/157 [==============================] - 1s 8ms/step - loss: 0.2337 - accuracy: 0.9289\n",
      "Epoch 30/40\n",
      "157/157 [==============================] - 1s 8ms/step - loss: 0.2311 - accuracy: 0.9300\n",
      "Epoch 31/40\n",
      "157/157 [==============================] - 1s 8ms/step - loss: 0.2227 - accuracy: 0.9335\n",
      "Epoch 32/40\n",
      "157/157 [==============================] - 1s 8ms/step - loss: 0.2131 - accuracy: 0.9390\n",
      "Epoch 33/40\n",
      "157/157 [==============================] - 1s 8ms/step - loss: 0.2081 - accuracy: 0.9402\n",
      "Epoch 34/40\n",
      "157/157 [==============================] - 1s 8ms/step - loss: 0.2158 - accuracy: 0.9398\n",
      "Epoch 35/40\n",
      "157/157 [==============================] - 1s 8ms/step - loss: 0.2019 - accuracy: 0.9435\n",
      "Epoch 36/40\n",
      "157/157 [==============================] - 1s 8ms/step - loss: 0.2084 - accuracy: 0.9399\n",
      "Epoch 37/40\n",
      "157/157 [==============================] - 1s 8ms/step - loss: 0.1943 - accuracy: 0.9448\n",
      "Epoch 38/40\n",
      "157/157 [==============================] - 1s 8ms/step - loss: 0.1941 - accuracy: 0.9439\n",
      "Epoch 39/40\n",
      "157/157 [==============================] - 1s 8ms/step - loss: 0.1932 - accuracy: 0.9454\n",
      "Epoch 40/40\n",
      "157/157 [==============================] - 1s 8ms/step - loss: 0.1887 - accuracy: 0.9470\n",
      "WARNING:tensorflow:From /usr/local/lib/python3.6/dist-packages/tensorflow/python/training/tracking/tracking.py:111: Model.state_updates (from tensorflow.python.keras.engine.training) is deprecated and will be removed in a future version.\n",
      "Instructions for updating:\n",
      "This property should not be used in TensorFlow 2.0, as updates are applied automatically.\n",
      "WARNING:tensorflow:From /usr/local/lib/python3.6/dist-packages/tensorflow/python/training/tracking/tracking.py:111: Layer.updates (from tensorflow.python.keras.engine.base_layer) is deprecated and will be removed in a future version.\n",
      "Instructions for updating:\n",
      "This property should not be used in TensorFlow 2.0, as updates are applied automatically.\n",
      "INFO:tensorflow:Assets written to: ./structured_data_classifier/best_model/assets\n"
     ]
    }
   ],
   "source": [
    "clf = ak.StructuredDataClassifier( overwrite=True, max_trials=3)\n",
    "clf.fit(x_train, y_train,\n",
    "           validation_split = 0.1,\n",
    "           batch_size=64,\n",
    "           epochs=40,\n",
>>>>>>> e1adf89c0bf7950f6a6540a1a2975aea111f02fd
    "           verbose=1,\n",
    "           shuffle = True\n",
    "        )"
   ]
  },
  {
   "cell_type": "code",
<<<<<<< HEAD
   "execution_count": 9,
=======
   "execution_count": 6,
>>>>>>> e1adf89c0bf7950f6a6540a1a2975aea111f02fd
   "id": "0f8f0836-d245-425c-8073-fff0fecc76c6",
   "metadata": {},
   "outputs": [
    {
     "name": "stdout",
     "output_type": "stream",
     "text": [
<<<<<<< HEAD
      "Model: \"model\"\n",
      "_________________________________________________________________\n",
      "Layer (type)                 Output Shape              Param #   \n",
      "=================================================================\n",
      "input_1 (InputLayer)         [(None, 304)]             0         \n",
      "_________________________________________________________________\n",
      "multi_category_encoding (Mul (None, 304)               0         \n",
      "_________________________________________________________________\n",
      "normalization (Normalization (None, 304)               609       \n",
      "_________________________________________________________________\n",
      "dense (Dense)                (None, 32)                9760      \n",
=======
      "Model: \"functional_1\"\n",
      "_________________________________________________________________\n",
      "Layer (type)                 Output Shape              Param #   \n",
      "=================================================================\n",
      "input_1 (InputLayer)         [(None, 244)]             0         \n",
      "_________________________________________________________________\n",
      "multi_category_encoding (Mul (None, 244)               0         \n",
      "_________________________________________________________________\n",
      "normalization (Normalization (None, 244)               489       \n",
      "_________________________________________________________________\n",
      "dense (Dense)                (None, 32)                7840      \n",
>>>>>>> e1adf89c0bf7950f6a6540a1a2975aea111f02fd
      "_________________________________________________________________\n",
      "re_lu (ReLU)                 (None, 32)                0         \n",
      "_________________________________________________________________\n",
      "dense_1 (Dense)              (None, 32)                1056      \n",
      "_________________________________________________________________\n",
      "re_lu_1 (ReLU)               (None, 32)                0         \n",
      "_________________________________________________________________\n",
<<<<<<< HEAD
      "dense_2 (Dense)              (None, 1)                 33        \n",
      "_________________________________________________________________\n",
      "classification_head_1 (Activ (None, 1)                 0         \n",
      "=================================================================\n",
      "Total params: 11,458\n",
      "Trainable params: 10,849\n",
      "Non-trainable params: 609\n",
=======
      "dense_2 (Dense)              (None, 32)                1056      \n",
      "_________________________________________________________________\n",
      "re_lu_2 (ReLU)               (None, 32)                0         \n",
      "_________________________________________________________________\n",
      "dense_3 (Dense)              (None, 12)                396       \n",
      "_________________________________________________________________\n",
      "classification_head_1 (Softm (None, 12)                0         \n",
      "=================================================================\n",
      "Total params: 10,837\n",
      "Trainable params: 10,348\n",
      "Non-trainable params: 489\n",
>>>>>>> e1adf89c0bf7950f6a6540a1a2975aea111f02fd
      "_________________________________________________________________\n"
     ]
    }
   ],
   "source": [
    "model = clf.export_model()\n",
    "model.summary()"
   ]
  },
  {
   "cell_type": "code",
<<<<<<< HEAD
   "execution_count": 10,
=======
   "execution_count": 7,
>>>>>>> e1adf89c0bf7950f6a6540a1a2975aea111f02fd
   "id": "777041f5-1468-4e0b-95ce-77087d484e6c",
   "metadata": {},
   "outputs": [
    {
     "name": "stdout",
     "output_type": "stream",
     "text": [
<<<<<<< HEAD
      "12516/12516 [==============================] - 221s 17ms/step - loss: 0.0548 - accuracy: 0.9865 - val_loss: 0.0444 - val_accuracy: 0.9892\n"
=======
      "Epoch 1/20\n",
      "12516/12516 [==============================] - 97s 8ms/step - loss: 0.1685 - accuracy: 0.9552 - val_loss: 0.1345 - val_accuracy: 0.9658\n",
      "Epoch 2/20\n",
      "12516/12516 [==============================] - 95s 8ms/step - loss: 0.1423 - accuracy: 0.9635 - val_loss: 0.1237 - val_accuracy: 0.9711\n",
      "Epoch 3/20\n",
      "12516/12516 [==============================] - 95s 8ms/step - loss: 0.1284 - accuracy: 0.9678 - val_loss: 0.1179 - val_accuracy: 0.9724\n",
      "Epoch 4/20\n",
      "12516/12516 [==============================] - 95s 8ms/step - loss: 0.1188 - accuracy: 0.9705 - val_loss: 0.1084 - val_accuracy: 0.9737\n",
      "Epoch 5/20\n",
      "12516/12516 [==============================] - 95s 8ms/step - loss: 0.1130 - accuracy: 0.9723 - val_loss: 0.1100 - val_accuracy: 0.9731\n",
      "Epoch 6/20\n",
      "12516/12516 [==============================] - 95s 8ms/step - loss: 0.1104 - accuracy: 0.9732 - val_loss: 0.1046 - val_accuracy: 0.9757\n",
      "Epoch 7/20\n",
      "12516/12516 [==============================] - 95s 8ms/step - loss: 0.1050 - accuracy: 0.9747 - val_loss: 0.0971 - val_accuracy: 0.9781\n",
      "Epoch 8/20\n",
      "12516/12516 [==============================] - 95s 8ms/step - loss: 0.1019 - accuracy: 0.9756 - val_loss: 0.0897 - val_accuracy: 0.9809\n",
      "Epoch 9/20\n",
      "12516/12516 [==============================] - 95s 8ms/step - loss: 0.1004 - accuracy: 0.9761 - val_loss: 0.0889 - val_accuracy: 0.9790\n",
      "Epoch 10/20\n",
      "12516/12516 [==============================] - 95s 8ms/step - loss: 0.0957 - accuracy: 0.9774 - val_loss: 0.0791 - val_accuracy: 0.9824\n",
      "Epoch 11/20\n",
      "12516/12516 [==============================] - 96s 8ms/step - loss: 0.0943 - accuracy: 0.9777 - val_loss: 0.1295 - val_accuracy: 0.9602\n",
      "Epoch 12/20\n",
      "12516/12516 [==============================] - 95s 8ms/step - loss: 0.0941 - accuracy: 0.9778 - val_loss: 0.0793 - val_accuracy: 0.9821\n",
      "Epoch 13/20\n",
      "12516/12516 [==============================] - 95s 8ms/step - loss: 0.0895 - accuracy: 0.9789 - val_loss: 0.0720 - val_accuracy: 0.9828\n",
      "Epoch 14/20\n",
      "12516/12516 [==============================] - 95s 8ms/step - loss: 0.0895 - accuracy: 0.9792 - val_loss: 0.0910 - val_accuracy: 0.9809\n",
      "Epoch 15/20\n",
      "12516/12516 [==============================] - 95s 8ms/step - loss: 0.0877 - accuracy: 0.9797 - val_loss: 0.0763 - val_accuracy: 0.9837\n",
      "Epoch 16/20\n",
      "12516/12516 [==============================] - 95s 8ms/step - loss: 0.0860 - accuracy: 0.9801 - val_loss: 0.0785 - val_accuracy: 0.9811\n",
      "Epoch 17/20\n",
      "12516/12516 [==============================] - 95s 8ms/step - loss: 0.0844 - accuracy: 0.9805 - val_loss: 0.0876 - val_accuracy: 0.9795\n",
      "Epoch 18/20\n",
      "12516/12516 [==============================] - 95s 8ms/step - loss: 0.0835 - accuracy: 0.9807 - val_loss: 0.0804 - val_accuracy: 0.9832\n",
      "Epoch 19/20\n",
      "12516/12516 [==============================] - 95s 8ms/step - loss: 0.0821 - accuracy: 0.9811 - val_loss: 0.0796 - val_accuracy: 0.9821\n",
      "Epoch 20/20\n",
      "12516/12516 [==============================] - 95s 8ms/step - loss: 0.0821 - accuracy: 0.9812 - val_loss: 0.0753 - val_accuracy: 0.9829\n"
>>>>>>> e1adf89c0bf7950f6a6540a1a2975aea111f02fd
     ]
    },
    {
     "data": {
      "text/plain": [
<<<<<<< HEAD
       "<tensorflow.python.keras.callbacks.History at 0x7ff05862d5c0>"
      ]
     },
     "execution_count": 10,
=======
       "<tensorflow.python.keras.callbacks.History at 0x7f78443231d0>"
      ]
     },
     "execution_count": 7,
>>>>>>> e1adf89c0bf7950f6a6540a1a2975aea111f02fd
     "metadata": {},
     "output_type": "execute_result"
    }
   ],
   "source": [
    "model.fit(x_train2, y_train2,\n",
    "           validation_split = 0.1,\n",
    "           batch_size=64,\n",
    "           epochs=20,\n",
    "           verbose=1,\n",
    "           shuffle = True\n",
    "         )"
   ]
  },
  {
   "cell_type": "code",
<<<<<<< HEAD
   "execution_count": 13,
=======
   "execution_count": 8,
   "id": "b32e29d7-552a-4af2-bd21-5f12ca5648e7",
   "metadata": {},
   "outputs": [],
   "source": [
    "pre = model.predict(x_test)"
   ]
  },
  {
   "cell_type": "code",
   "execution_count": 9,
>>>>>>> e1adf89c0bf7950f6a6540a1a2975aea111f02fd
   "id": "f85f8085-1a54-4c05-9c7f-d8bd6506edda",
   "metadata": {},
   "outputs": [],
   "source": [
<<<<<<< HEAD
    "index = 1\n",
    "while os.path.isfile('/home/ML4NO/ML/Classification/models_all/class_{}.h5'.format(index)):\n",
    "    index += 1\n",
    "model.save('/home/ML4NO/ML/Classification/models_all/class_{}.h5'.format(index))"
=======
    "if input_state == 0:\n",
    "    modelname = '/work/Classification/models_ve_dune/class4.h5'\n",
    "    if not os.path.isfile(modelname):\n",
    "        model.save(modelname)\n",
    "elif input_state == 1:\n",
    "    modelname = '/work/Classification/models_all_dune/class2.h5'\n",
    "    if not os.path.isfile(modelname):\n",
    "        model.save(modelname)\n",
    "elif input_state == 2:\n",
    "    modelname = '/work/Classification/models_all/class1.h5'\n",
    "    if not os.path.isfile(modelname):\n",
    "        model.save(modelname)"
>>>>>>> e1adf89c0bf7950f6a6540a1a2975aea111f02fd
   ]
  },
  {
   "cell_type": "code",
   "execution_count": null,
<<<<<<< HEAD
   "id": "5ae0c133-3e27-4437-b92e-015b3bdc40b3",
=======
   "id": "ff4aeefc-0557-4851-85bf-63e91a644ff1",
>>>>>>> e1adf89c0bf7950f6a6540a1a2975aea111f02fd
   "metadata": {},
   "outputs": [],
   "source": []
  }
 ],
 "metadata": {
  "kernelspec": {
   "display_name": "Python 3",
   "language": "python",
   "name": "python3"
  },
  "language_info": {
   "codemirror_mode": {
    "name": "ipython",
    "version": 3
   },
   "file_extension": ".py",
   "mimetype": "text/x-python",
   "name": "python",
   "nbconvert_exporter": "python",
   "pygments_lexer": "ipython3",
   "version": "3.6.9"
<<<<<<< HEAD
  },
  "toc-autonumbering": false,
  "toc-showcode": false,
  "toc-showmarkdowntxt": false
=======
  }
>>>>>>> e1adf89c0bf7950f6a6540a1a2975aea111f02fd
 },
 "nbformat": 4,
 "nbformat_minor": 5
}
