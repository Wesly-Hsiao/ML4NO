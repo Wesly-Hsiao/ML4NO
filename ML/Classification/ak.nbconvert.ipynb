{
 "cells": [
  {
   "cell_type": "code",
   "execution_count": 1,
   "id": "76ca3a6d-750f-4ba2-b6bb-bf1eac86bccc",
   "metadata": {
    "execution": {
     "iopub.execute_input": "2021-09-18T16:06:31.419353Z",
     "iopub.status.busy": "2021-09-18T16:06:31.418390Z",
     "iopub.status.idle": "2021-09-18T16:06:34.286287Z",
     "shell.execute_reply": "2021-09-18T16:06:34.287546Z"
    }
   },
   "outputs": [],
   "source": [
    "import numpy as np\n",
    "import pandas as pd\n",
    "import matplotlib.pyplot as plt\n",
    "import autokeras as ak\n",
    "import os \n",
    "import tensorflow as tf"
   ]
  },
  {
   "cell_type": "code",
   "execution_count": 2,
   "id": "c60e7710-9f27-42a4-9e20-4166c534041a",
   "metadata": {
    "execution": {
     "iopub.execute_input": "2021-09-18T16:06:34.295099Z",
     "iopub.status.busy": "2021-09-18T16:06:34.293575Z",
     "iopub.status.idle": "2021-09-18T16:06:34.297274Z",
     "shell.execute_reply": "2021-09-18T16:06:34.298464Z"
    }
   },
   "outputs": [],
   "source": [
    "data = np.load('/home/ML4NO/Data/n1000000_0910_classification.npz')"
   ]
  },
  {
   "cell_type": "code",
   "execution_count": 3,
   "id": "90ad349e-bcb9-4b8b-817f-da03224e3c1d",
   "metadata": {
    "execution": {
     "iopub.execute_input": "2021-09-18T16:06:34.308447Z",
     "iopub.status.busy": "2021-09-18T16:06:34.307586Z",
     "iopub.status.idle": "2021-09-18T16:06:40.034587Z",
     "shell.execute_reply": "2021-09-18T16:06:40.033281Z"
    }
   },
   "outputs": [],
   "source": [
    "data_all = np.column_stack([data['ve_dune'], data['vu_dune'], data['vebar_dune'], data['vubar_dune'], data['ve_t2hk'], data['vu_t2hk'], data['vebar_t2hk'], data['vubar_t2hk']])\n",
    "target = data['cpv']\n",
    "\n",
    "x_train = data_all[:10000]\n",
    "y_train = target[:10000]\n",
    "x_train2 = data_all[10000:900000]\n",
    "y_train2 = target[10000:900000]\n",
    "x_test = data_all[900000:]\n",
    "y_test = target[900000:]"
   ]
  },
  {
   "cell_type": "code",
   "execution_count": 4,
   "id": "a0a3e528-d9ef-4610-8e3d-0cec63b62e1f",
   "metadata": {
    "execution": {
     "iopub.execute_input": "2021-09-18T16:06:40.043351Z",
     "iopub.status.busy": "2021-09-18T16:06:40.041812Z",
     "iopub.status.idle": "2021-09-18T16:57:35.326889Z",
     "shell.execute_reply": "2021-09-18T16:57:35.328247Z"
    }
   },
   "outputs": [
    {
     "name": "stdout",
     "output_type": "stream",
     "text": [
      "Trial 50 Complete [00h 00m 58s]\n",
      "val_accuracy: 0.9594298005104065\n",
      "\n",
      "Best val_accuracy So Far: 0.9945175647735596\n",
      "Total elapsed time: 00h 49m 34s\n",
      "INFO:tensorflow:Oracle triggered exit\n",
      "Epoch 1/20\n",
      "157/157 [==============================] - 5s 16ms/step - loss: 0.5042 - accuracy: 0.7298\n",
      "Epoch 2/20\n",
      "157/157 [==============================] - 2s 16ms/step - loss: 0.1343 - accuracy: 0.9595\n",
      "Epoch 3/20\n",
      "157/157 [==============================] - 3s 16ms/step - loss: 0.1119 - accuracy: 0.9690\n",
      "Epoch 4/20\n",
      "157/157 [==============================] - 2s 16ms/step - loss: 0.0996 - accuracy: 0.9711\n",
      "Epoch 5/20\n",
      "157/157 [==============================] - 3s 17ms/step - loss: 0.0910 - accuracy: 0.9748\n",
      "Epoch 6/20\n",
      "157/157 [==============================] - 3s 17ms/step - loss: 0.0959 - accuracy: 0.9724\n",
      "Epoch 7/20\n",
      "157/157 [==============================] - 3s 17ms/step - loss: 0.0919 - accuracy: 0.9739\n",
      "Epoch 8/20\n",
      "157/157 [==============================] - 3s 17ms/step - loss: 0.0785 - accuracy: 0.9780\n",
      "Epoch 9/20\n",
      "157/157 [==============================] - 3s 17ms/step - loss: 0.0856 - accuracy: 0.9784\n",
      "Epoch 10/20\n",
      "157/157 [==============================] - 3s 16ms/step - loss: 0.0770 - accuracy: 0.9809\n",
      "Epoch 11/20\n",
      "157/157 [==============================] - 3s 16ms/step - loss: 0.0695 - accuracy: 0.9826\n",
      "Epoch 12/20\n",
      "157/157 [==============================] - 3s 17ms/step - loss: 0.0749 - accuracy: 0.9795\n",
      "Epoch 13/20\n",
      "157/157 [==============================] - 3s 17ms/step - loss: 0.0782 - accuracy: 0.9797\n",
      "Epoch 14/20\n",
      "157/157 [==============================] - 3s 17ms/step - loss: 0.0670 - accuracy: 0.9838\n",
      "Epoch 15/20\n",
      "157/157 [==============================] - 3s 17ms/step - loss: 0.0675 - accuracy: 0.9821\n",
      "Epoch 16/20\n",
      "157/157 [==============================] - 3s 17ms/step - loss: 0.0708 - accuracy: 0.9807\n",
      "Epoch 17/20\n",
      "157/157 [==============================] - 3s 17ms/step - loss: 0.0697 - accuracy: 0.9824\n",
      "Epoch 18/20\n",
      "157/157 [==============================] - 3s 17ms/step - loss: 0.0608 - accuracy: 0.9847\n",
      "Epoch 19/20\n",
      "157/157 [==============================] - 3s 17ms/step - loss: 0.0630 - accuracy: 0.9850\n",
      "Epoch 20/20\n",
      "157/157 [==============================] - 3s 17ms/step - loss: 0.0681 - accuracy: 0.9832\n",
      "WARNING:tensorflow:FOR KERAS USERS: The object that you are saving contains one or more Keras models or layers. If you are loading the SavedModel with `tf.keras.models.load_model`, continue reading (otherwise, you may ignore the following instructions). Please change your code to save with `tf.keras.models.save_model` or `model.save`, and confirm that the file \"keras.metadata\" exists in the export directory. In the future, Keras will only load the SavedModels that have this file. In other words, `tf.saved_model.save` will no longer write SavedModels that can be recovered as Keras models (this will apply in TF 2.5).\n",
      "\n",
      "FOR DEVS: If you are overwriting _tracking_metadata in your class, this property has been used to save metadata in the SavedModel. The metadta field will be deprecated soon, so please move the metadata to a different file.\n",
      "INFO:tensorflow:Assets written to: ./structured_data_classifier/best_model/assets\n"
     ]
    },
    {
     "data": {
      "text/plain": [
       "<tensorflow.python.keras.callbacks.History at 0x7efca459d240>"
      ]
     },
     "execution_count": 1,
     "metadata": {},
     "output_type": "execute_result"
    }
   ],
   "source": [
    "clf = ak.StructuredDataClassifier(overwrite=True, max_trials=50)\n",
    "clf.fit(x_train, y_train,\n",
    "           validation_split = 0.1,\n",
    "           batch_size=64,\n",
    "           epochs=20,\n",
    "           verbose=1,\n",
    "           shuffle = True\n",
    "        )"
   ]
  },
  {
   "cell_type": "code",
   "execution_count": 5,
   "id": "0f8f0836-d245-425c-8073-fff0fecc76c6",
   "metadata": {
    "execution": {
     "iopub.execute_input": "2021-09-18T16:57:35.334982Z",
     "iopub.status.busy": "2021-09-18T16:57:35.333942Z",
     "iopub.status.idle": "2021-09-18T16:57:38.474195Z",
     "shell.execute_reply": "2021-09-18T16:57:38.475565Z"
    }
   },
   "outputs": [
    {
     "name": "stdout",
     "output_type": "stream",
     "text": [
      "Model: \"model\"\n",
      "_________________________________________________________________\n",
      "Layer (type)                 Output Shape              Param #   \n",
      "=================================================================\n",
      "input_1 (InputLayer)         [(None, 304)]             0         \n",
      "_________________________________________________________________\n",
      "multi_category_encoding (Mul (None, 304)               0         \n",
      "_________________________________________________________________\n",
      "normalization (Normalization (None, 304)               609       \n",
      "_________________________________________________________________\n",
      "dense (Dense)                (None, 32)                9760      \n",
      "_________________________________________________________________\n",
      "re_lu (ReLU)                 (None, 32)                0         \n",
      "_________________________________________________________________\n",
      "dense_1 (Dense)              (None, 32)                1056      \n",
      "_________________________________________________________________\n",
      "re_lu_1 (ReLU)               (None, 32)                0         \n",
      "_________________________________________________________________\n",
      "dense_2 (Dense)              (None, 256)               8448      \n",
      "_________________________________________________________________\n",
      "re_lu_2 (ReLU)               (None, 256)               0         \n",
      "_________________________________________________________________\n",
      "dense_3 (Dense)              (None, 1)                 257       \n",
      "_________________________________________________________________\n",
      "classification_head_1 (Activ (None, 1)                 0         \n",
      "=================================================================\n",
      "Total params: 20,130\n",
      "Trainable params: 19,521\n",
      "Non-trainable params: 609\n",
      "_________________________________________________________________\n"
     ]
    }
   ],
   "source": [
    "model = clf.export_model()\n",
    "model.summary()"
   ]
  },
  {
   "cell_type": "code",
   "execution_count": 6,
   "id": "777041f5-1468-4e0b-95ce-77087d484e6c",
   "metadata": {
    "execution": {
     "iopub.execute_input": "2021-09-18T16:57:38.483979Z",
     "iopub.status.busy": "2021-09-18T16:57:38.482946Z",
     "iopub.status.idle": "2021-09-18T18:06:06.088220Z",
     "shell.execute_reply": "2021-09-18T18:06:06.089227Z"
    }
   },
   "outputs": [
    {
     "name": "stdout",
     "output_type": "stream",
     "text": [
      "Epoch 1/20\n",
      "12516/12516 [==============================] - 211s 17ms/step - loss: 0.0508 - accuracy: 0.9880 - val_loss: 0.0404 - val_accuracy: 0.9897\n",
      "Epoch 2/20\n",
      "12516/12516 [==============================] - 203s 16ms/step - loss: 0.0406 - accuracy: 0.9906 - val_loss: 0.0560 - val_accuracy: 0.9904\n",
      "Epoch 3/20\n",
      "12516/12516 [==============================] - 204s 16ms/step - loss: 0.0360 - accuracy: 0.9919 - val_loss: 0.0273 - val_accuracy: 0.9935\n",
      "Epoch 4/20\n",
      "12516/12516 [==============================] - 206s 16ms/step - loss: 0.0326 - accuracy: 0.9928 - val_loss: 0.0212 - val_accuracy: 0.9952\n",
      "Epoch 5/20\n",
      "12516/12516 [==============================] - 204s 16ms/step - loss: 0.0315 - accuracy: 0.9931 - val_loss: 0.0278 - val_accuracy: 0.9944\n",
      "Epoch 6/20\n",
      "12516/12516 [==============================] - 209s 17ms/step - loss: 0.0291 - accuracy: 0.9937 - val_loss: 0.0338 - val_accuracy: 0.9934\n",
      "Epoch 7/20\n",
      "12516/12516 [==============================] - 203s 16ms/step - loss: 0.0290 - accuracy: 0.9937 - val_loss: 0.0228 - val_accuracy: 0.9947\n",
      "Epoch 8/20\n",
      "12516/12516 [==============================] - 207s 16ms/step - loss: 0.0273 - accuracy: 0.9941 - val_loss: 0.0240 - val_accuracy: 0.9949\n",
      "Epoch 9/20\n",
      "12516/12516 [==============================] - 204s 16ms/step - loss: 0.0268 - accuracy: 0.9943 - val_loss: 0.0228 - val_accuracy: 0.9953\n",
      "Epoch 10/20\n",
      "12516/12516 [==============================] - 209s 17ms/step - loss: 0.0255 - accuracy: 0.9946 - val_loss: 0.0212 - val_accuracy: 0.9952\n",
      "Epoch 11/20\n",
      "12516/12516 [==============================] - 207s 17ms/step - loss: 0.0252 - accuracy: 0.9946 - val_loss: 0.0227 - val_accuracy: 0.9952\n",
      "Epoch 12/20\n",
      "12516/12516 [==============================] - 206s 16ms/step - loss: 0.0243 - accuracy: 0.9949 - val_loss: 0.0228 - val_accuracy: 0.9961\n",
      "Epoch 13/20\n",
      "12516/12516 [==============================] - 203s 16ms/step - loss: 0.0239 - accuracy: 0.9950 - val_loss: 0.0228 - val_accuracy: 0.9954\n",
      "Epoch 14/20\n",
      "12516/12516 [==============================] - 208s 17ms/step - loss: 0.0239 - accuracy: 0.9950 - val_loss: 0.0313 - val_accuracy: 0.9954\n",
      "Epoch 15/20\n",
      "12516/12516 [==============================] - 204s 16ms/step - loss: 0.0236 - accuracy: 0.9950 - val_loss: 0.0173 - val_accuracy: 0.9961\n",
      "Epoch 16/20\n",
      "12516/12516 [==============================] - 201s 16ms/step - loss: 0.0224 - accuracy: 0.9953 - val_loss: 0.0190 - val_accuracy: 0.9960\n",
      "Epoch 17/20\n",
      "12516/12516 [==============================] - 201s 16ms/step - loss: 0.0222 - accuracy: 0.9954 - val_loss: 0.0186 - val_accuracy: 0.9961\n",
      "Epoch 18/20\n",
      "12516/12516 [==============================] - 205s 16ms/step - loss: 0.0220 - accuracy: 0.9954 - val_loss: 0.0196 - val_accuracy: 0.9957\n",
      "Epoch 19/20\n",
      "12516/12516 [==============================] - 208s 17ms/step - loss: 0.0222 - accuracy: 0.9954 - val_loss: 0.0199 - val_accuracy: 0.9961\n",
      "Epoch 20/20\n",
      "12516/12516 [==============================] - 205s 16ms/step - loss: 0.0215 - accuracy: 0.9956 - val_loss: 0.0160 - val_accuracy: 0.9965\n"
     ]
    },
    {
     "data": {
      "text/plain": [
       "<tensorflow.python.keras.callbacks.History at 0x7efbdc42e6a0>"
      ]
     },
     "execution_count": 1,
     "metadata": {},
     "output_type": "execute_result"
    }
   ],
   "source": [
    "model.fit(x_train2, y_train2,\n",
    "           validation_split = 0.1,\n",
    "           batch_size=64,\n",
    "           epochs=20,\n",
    "           verbose=1,\n",
    "           shuffle = True\n",
    "         )"
   ]
  },
  {
   "cell_type": "code",
   "execution_count": 7,
   "id": "f85f8085-1a54-4c05-9c7f-d8bd6506edda",
   "metadata": {
    "execution": {
     "iopub.execute_input": "2021-09-18T18:06:06.122519Z",
     "iopub.status.busy": "2021-09-18T18:06:06.121097Z",
     "iopub.status.idle": "2021-09-18T18:06:06.162716Z",
     "shell.execute_reply": "2021-09-18T18:06:06.164017Z"
    }
   },
   "outputs": [],
   "source": [
    "index = 1\n",
    "while os.path.isfile('/home/ML4NO/ML/Classification/models_all/class_{}.h5'.format(index)):\n",
    "    index += 1\n",
    "model.save('/home/ML4NO/ML/Classification/models_all/class_{}.h5'.format(index))"
   ]
  },
  {
   "cell_type": "code",
   "execution_count": null,
   "id": "5ae0c133-3e27-4437-b92e-015b3bdc40b3",
   "metadata": {},
   "outputs": [],
   "source": []
  }
 ],
 "metadata": {
  "kernelspec": {
   "display_name": "Python 3",
   "language": "python",
   "name": "python3"
  },
  "language_info": {
   "codemirror_mode": {
    "name": "ipython",
    "version": 3
   },
   "file_extension": ".py",
   "mimetype": "text/x-python",
   "name": "python",
   "nbconvert_exporter": "python",
   "pygments_lexer": "ipython3",
   "version": "3.6.9"
  },
  "toc-autonumbering": false,
  "toc-showcode": false,
  "toc-showmarkdowntxt": false
 },
 "nbformat": 4,
 "nbformat_minor": 5
}
