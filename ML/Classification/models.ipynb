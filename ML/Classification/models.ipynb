{
 "cells": [
  {
   "cell_type": "code",
<<<<<<< HEAD
   "execution_count": 6,
=======
   "execution_count": 43,
>>>>>>> e1adf89c0bf7950f6a6540a1a2975aea111f02fd
   "id": "f21e14a4-1151-42c1-b580-1f40bdcb1b42",
   "metadata": {},
   "outputs": [],
   "source": [
    "import numpy as np\n",
    "import pandas as pd\n",
    "import matplotlib.pyplot as plt\n",
    "import autokeras as ak\n",
    "import tensorflow as tf\n",
    "import os"
   ]
  },
  {
   "cell_type": "code",
<<<<<<< HEAD
   "execution_count": 7,
=======
   "execution_count": 44,
>>>>>>> e1adf89c0bf7950f6a6540a1a2975aea111f02fd
   "id": "1f78af00-3400-473f-b5a9-61e329b10f4d",
   "metadata": {},
   "outputs": [],
   "source": [
<<<<<<< HEAD
    "data = np.load('/home/ML4NO/Data/n1000000_0910_classification.npz')"
=======
    "data = np.load('/work/n1000000_0728.npz')"
>>>>>>> e1adf89c0bf7950f6a6540a1a2975aea111f02fd
   ]
  },
  {
   "cell_type": "code",
<<<<<<< HEAD
   "execution_count": 8,
=======
   "execution_count": 51,
>>>>>>> e1adf89c0bf7950f6a6540a1a2975aea111f02fd
   "id": "cc39819c-2db0-457e-b1b5-b08fb3a3b77d",
   "metadata": {},
   "outputs": [],
   "source": [
<<<<<<< HEAD
    "models = []\n",
    "for dirname, _, filenames in os.walk('/home/ML4NO/ML/Classification/models/'):\n",
    "    for filename in filenames:\n",
    "        models.append(tf.keras.models.load_model(os.path.join(dirname, filename)))"
=======
    "tdmodels = []\n",
    "tmodels = []\n",
    "dmodels = []\n",
    "for dirname, _, filenames in os.walk('/work/Regression/models_all/'):\n",
    "    for i, filename in enumerate(filenames):\n",
    "        if 'theta23,delta' in filename:\n",
    "            tdmodels.append(tf.keras.models.load_model(os.path.join(dirname, filename)))\n",
    "        elif 'theta23' in filename:\n",
    "            tmodels.append(tf.keras.models.load_model(os.path.join(dirname, filename)))\n",
    "        elif 'delta' in filename:\n",
    "            dmodels.append(tf.keras.models.load_model(os.path.join(dirname, filename)))"
>>>>>>> e1adf89c0bf7950f6a6540a1a2975aea111f02fd
   ]
  },
  {
   "cell_type": "code",
<<<<<<< HEAD
   "execution_count": 9,
   "id": "410fa158-4543-477c-9300-1603f5ff010e",
   "metadata": {},
   "outputs": [],
   "source": [
    "data_all = np.column_stack([data['ve_dune'], data['vu_dune'], data['vebar_dune'], data['vubar_dune'], data['ve_t2hk'], data['vu_t2hk'], data['vebar_t2hk'], data['vubar_t2hk']])\n",
    "target = data['cpv']\n",
=======
   "execution_count": 52,
   "id": "7f5dce27-14f6-48f1-9e4a-9d8ea78f2421",
   "metadata": {},
   "outputs": [
    {
     "name": "stdout",
     "output_type": "stream",
     "text": [
      "0\n",
      "1\n",
      "2\n"
     ]
    }
   ],
   "source": [
    "print(len(tdmodels))\n",
    "print(len(tmodels))\n",
    "print(len(dmodels))"
   ]
  },
  {
   "cell_type": "code",
   "execution_count": 53,
   "id": "9dfa7986-fb42-4d23-9f20-274d4de8b532",
   "metadata": {},
   "outputs": [],
   "source": [
    "input_state = 2\n",
    "target = data['theta23']\n",
    "if input_state == 0:\n",
    "    data_all = data['ve_dune']\n",
    "elif input_state == 1:\n",
    "    data_all = np.column_stack([data['ve_dune'], data['vu_dune'], data['vebar_dune'], data['vubar_dune']])\n",
    "elif input_state == 2:\n",
    "    data_all = np.column_stack([data['ve_dune'], data['vu_dune'], data['vebar_dune'], data['vubar_dune'], data['ve_t2hk'], data['vu_t2hk'], data['vebar_t2hk'], data['vubar_t2hk']])\n",
>>>>>>> e1adf89c0bf7950f6a6540a1a2975aea111f02fd
    "\n",
    "x_test = data_all[900000:]\n",
    "y_test = target[900000:]"
   ]
  },
  {
   "cell_type": "code",
<<<<<<< HEAD
   "execution_count": 10,
   "id": "d80e62dc-c615-4034-b93c-140e86f42246",
=======
   "execution_count": 47,
   "id": "fd2d77c0-d481-4052-95e9-20c9bad878a4",
   "metadata": {},
   "outputs": [],
   "source": [
    "for model in tdmodels:\n",
    "#     print(model.summary())\n",
    "    print(model.evaluate(x_test, y_test))"
   ]
  },
  {
   "cell_type": "code",
   "execution_count": 39,
   "id": "1405fdec-39b3-4274-8061-6137cf2dabd0",
   "metadata": {},
   "outputs": [],
   "source": [
    "x_test = data['ve_dune'][900000:]\n",
    "y_test = data['theta23'][900000:]"
   ]
  },
  {
   "cell_type": "code",
   "execution_count": 40,
   "id": "f85f2759-0fec-46b1-9fc4-a3a8f25f3022",
>>>>>>> e1adf89c0bf7950f6a6540a1a2975aea111f02fd
   "metadata": {},
   "outputs": [
    {
     "name": "stdout",
     "output_type": "stream",
     "text": [
<<<<<<< HEAD
      "3125/3125 [==============================] - 36s 11ms/step - loss: 0.0168 - accuracy: 0.9965\n"
=======
      "3125/3125 [==============================] - 7s 2ms/step - loss: 0.5527 - mean_squared_error: 0.5527\n",
      "[0.5526841878890991, 0.5526841878890991]\n",
      "3125/3125 [==============================] - 6s 2ms/step - loss: 0.5899 - mean_squared_error: 0.5899\n",
      "[0.5899427533149719, 0.5899427533149719]\n",
      "3125/3125 [==============================] - 6s 2ms/step - loss: 0.5607 - mean_squared_error: 0.5607\n",
      "[0.5606855154037476, 0.5606855154037476]\n"
>>>>>>> e1adf89c0bf7950f6a6540a1a2975aea111f02fd
     ]
    }
   ],
   "source": [
<<<<<<< HEAD
    "for model in models:\n",
    "    model.evaluate(x_test, y_test)"
=======
    "for model in tmodels:\n",
    "#     print(model.summary())\n",
    "    print(model.evaluate(x_test, y_test))"
>>>>>>> e1adf89c0bf7950f6a6540a1a2975aea111f02fd
   ]
  },
  {
   "cell_type": "code",
<<<<<<< HEAD
   "execution_count": 11,
   "id": "eba65f80-3e17-4f0b-852d-170500ffd25e",
=======
   "execution_count": 41,
   "id": "b3491d1b-8b4a-489a-8b4e-cb564a7ae700",
   "metadata": {},
   "outputs": [],
   "source": [
    "x_test = data['ve_dune'][900000:]\n",
    "y_test = data['delta'][900000:]"
   ]
  },
  {
   "cell_type": "code",
   "execution_count": 42,
   "id": "e5726f4e-28c1-436d-a3c5-032ee5bbd111",
>>>>>>> e1adf89c0bf7950f6a6540a1a2975aea111f02fd
   "metadata": {},
   "outputs": [
    {
     "name": "stdout",
     "output_type": "stream",
     "text": [
<<<<<<< HEAD
      "Model: \"model\"\n",
      "_________________________________________________________________\n",
      "Layer (type)                 Output Shape              Param #   \n",
      "=================================================================\n",
      "input_1 (InputLayer)         [(None, 304)]             0         \n",
      "_________________________________________________________________\n",
      "multi_category_encoding (Mul (None, 304)               0         \n",
      "_________________________________________________________________\n",
      "normalization (Normalization (None, 304)               609       \n",
      "_________________________________________________________________\n",
      "dense (Dense)                (None, 32)                9760      \n",
      "_________________________________________________________________\n",
      "re_lu (ReLU)                 (None, 32)                0         \n",
      "_________________________________________________________________\n",
      "dense_1 (Dense)              (None, 32)                1056      \n",
      "_________________________________________________________________\n",
      "re_lu_1 (ReLU)               (None, 32)                0         \n",
      "_________________________________________________________________\n",
      "dense_2 (Dense)              (None, 256)               8448      \n",
      "_________________________________________________________________\n",
      "re_lu_2 (ReLU)               (None, 256)               0         \n",
      "_________________________________________________________________\n",
      "dense_3 (Dense)              (None, 1)                 257       \n",
      "_________________________________________________________________\n",
      "classification_head_1 (Activ (None, 1)                 0         \n",
      "=================================================================\n",
      "Total params: 20,130\n",
      "Trainable params: 19,521\n",
      "Non-trainable params: 609\n",
      "_________________________________________________________________\n"
=======
      "3125/3125 [==============================] - 8s 3ms/step - loss: 675.0788 - mean_squared_error: 675.0788\n",
      "[675.0787963867188, 675.0787963867188]\n",
      "3125/3125 [==============================] - 13s 4ms/step - loss: 661.9664 - mean_squared_error: 661.9664\n",
      "[661.9664306640625, 661.9664306640625]\n",
      "3125/3125 [==============================] - 7s 2ms/step - loss: 809.5691 - mean_squared_error: 809.5691\n",
      "[809.569091796875, 809.569091796875]\n",
      "3125/3125 [==============================] - 7s 2ms/step - loss: 458.7799 - mean_squared_error: 458.7799\n",
      "[458.7798767089844, 458.7798767089844]\n"
>>>>>>> e1adf89c0bf7950f6a6540a1a2975aea111f02fd
     ]
    }
   ],
   "source": [
<<<<<<< HEAD
    "for model in models:\n",
    "    model.summary()"
=======
    "for model in dmodels:\n",
    "#     print(model.summary())\n",
    "    print(model.evaluate(x_test, y_test))"
>>>>>>> e1adf89c0bf7950f6a6540a1a2975aea111f02fd
   ]
  },
  {
   "cell_type": "code",
   "execution_count": null,
<<<<<<< HEAD
   "id": "51d78b1e-bd77-4ab4-9a26-279524bddb06",
=======
   "id": "410fa158-4543-477c-9300-1603f5ff010e",
>>>>>>> e1adf89c0bf7950f6a6540a1a2975aea111f02fd
   "metadata": {},
   "outputs": [],
   "source": []
  }
 ],
 "metadata": {
  "kernelspec": {
   "display_name": "Python 3",
   "language": "python",
   "name": "python3"
  },
  "language_info": {
   "codemirror_mode": {
    "name": "ipython",
    "version": 3
   },
   "file_extension": ".py",
   "mimetype": "text/x-python",
   "name": "python",
   "nbconvert_exporter": "python",
   "pygments_lexer": "ipython3",
   "version": "3.6.9"
  }
 },
 "nbformat": 4,
 "nbformat_minor": 5
}
